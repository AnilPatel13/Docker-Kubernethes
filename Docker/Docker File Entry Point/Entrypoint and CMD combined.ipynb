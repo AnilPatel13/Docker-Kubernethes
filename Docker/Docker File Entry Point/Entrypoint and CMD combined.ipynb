{
 "cells": [
  {
   "cell_type": "code",
   "execution_count": 4,
   "id": "b15b5e59",
   "metadata": {},
   "outputs": [
    {
     "name": "stderr",
     "output_type": "stream",
     "text": [
      "#0 building with \"desktop-linux\" instance using docker driver\n",
      "\n",
      "#1 [internal] load build definition from Dockerfile\n",
      "#1 transferring dockerfile: 146B done\n",
      "#1 DONE 0.1s\n",
      "\n",
      "#2 [internal] load metadata for docker.io/library/alpine:latest\n",
      "#2 DONE 0.0s\n",
      "\n",
      "#3 [internal] load .dockerignore\n",
      "#3 transferring context: 2B done\n",
      "#3 DONE 0.1s\n",
      "\n",
      "#4 [1/2] FROM docker.io/library/alpine:latest@sha256:4bcff63911fcb4448bd4fdacec207030997caf25e9bea4045fa6c8c44de311d1\n",
      "#4 resolve docker.io/library/alpine:latest@sha256:4bcff63911fcb4448bd4fdacec207030997caf25e9bea4045fa6c8c44de311d1 0.0s done\n",
      "#4 DONE 0.0s\n",
      "\n",
      "#5 [2/2] RUN apk add --no-cache cmatrix\n",
      "#5 CACHED\n",
      "\n",
      "#6 exporting to image\n",
      "#6 exporting layers done\n",
      "#6 exporting manifest sha256:37304bf6cb6f50d64d77553c19b05db929046305c56869848681aa3b8a831d3f done\n",
      "#6 exporting config sha256:7692c80533382ead1c07119b6ab58d550c331865393cdd7522900d7aa0efdbbf done\n",
      "#6 exporting attestation manifest sha256:06c6d88afab30a2e5aea4c3dbbd8b4af061295c49e652f198bd8f3d41454d241 0.1s done\n",
      "#6 exporting manifest list sha256:6d91fe0fbb3cb5d3073e7902c59e2157b4f8b6fe1db78d6913cbd30087f33d70\n",
      "#6 exporting manifest list sha256:6d91fe0fbb3cb5d3073e7902c59e2157b4f8b6fe1db78d6913cbd30087f33d70 0.0s done\n",
      "#6 naming to docker.io/library/cmatrix:latest done\n",
      "#6 unpacking to docker.io/library/cmatrix:latest done\n",
      "#6 DONE 0.2s\n",
      "\n",
      "View build details: docker-desktop://dashboard/build/desktop-linux/desktop-linux/unjvrdbsoj1tf2rdf81k1wuxn\n"
     ]
    }
   ],
   "source": [
    "!docker build -t cmatrix cmatrix/."
   ]
  },
  {
   "cell_type": "code",
   "execution_count": 2,
   "id": "8d5cf6f8",
   "metadata": {},
   "outputs": [
    {
     "name": "stderr",
     "output_type": "stream",
     "text": [
      "the input device is not a TTY.  If you are using mintty, try prefixing the command with 'winpty'\n"
     ]
    }
   ],
   "source": [
    "!docker container run -it cmatrix"
   ]
  },
  {
   "cell_type": "code",
   "execution_count": 3,
   "id": "fcf0ca31",
   "metadata": {},
   "outputs": [
    {
     "name": "stderr",
     "output_type": "stream",
     "text": [
      "the input device is not a TTY.  If you are using mintty, try prefixing the command with 'winpty'\n"
     ]
    }
   ],
   "source": [
    "!docker run -it --entrypoint sh cmatrix"
   ]
  },
  {
   "cell_type": "code",
   "execution_count": 11,
   "id": "39662d10",
   "metadata": {},
   "outputs": [
    {
     "name": "stderr",
     "output_type": "stream",
     "text": [
      "#0 building with \"desktop-linux\" instance using docker driver\n",
      "\n",
      "#1 [internal] load build definition from Dockerfile\n",
      "#1 transferring dockerfile: 233B done\n",
      "#1 DONE 0.0s\n",
      "\n",
      "#2 [internal] load metadata for docker.io/library/ubuntu:latest\n",
      "#2 DONE 0.1s\n",
      "\n",
      "#3 [internal] load .dockerignore\n",
      "#3 transferring context: 2B done\n",
      "#3 DONE 0.0s\n",
      "\n",
      "#4 [1/2] FROM docker.io/library/ubuntu:latest@sha256:a08e551cb33850e4740772b38217fc1796a66da2506d312abe51acda354ff061\n",
      "#4 resolve docker.io/library/ubuntu:latest@sha256:a08e551cb33850e4740772b38217fc1796a66da2506d312abe51acda354ff061 0.0s done\n",
      "#4 DONE 0.1s\n",
      "\n",
      "#5 [2/2] RUN apt-get update && apt-get install -y apache2-utils && rm -rf /var/lib/apt/lists/*\n",
      "#5 CACHED\n",
      "\n",
      "#6 exporting to image\n",
      "#6 exporting layers done\n",
      "#6 exporting manifest sha256:7212e4b3d9c2b2ea3b300c1baf176a4ba7e1074c24f8c1e44a66e813d097434a done\n",
      "#6 exporting config sha256:2e3b633e5703d0cc003be70315717cde228b395602545dd7cd114e4fb575516c done\n",
      "#6 exporting attestation manifest sha256:e4689e3b090864edc67cd7185b5c50927f57d01c0affa4461bc40d0ac8747054 0.1s done\n",
      "#6 exporting manifest list sha256:c65de0deececf54f8ee34d2662cccaa21d7d05c1feb28fe25594da889ecbac39 0.0s done\n",
      "#6 naming to docker.io/library/apachebench:latest\n",
      "#6 naming to docker.io/library/apachebench:latest done\n",
      "#6 unpacking to docker.io/library/apachebench:latest done\n",
      "#6 DONE 0.2s\n",
      "\n",
      "View build details: docker-desktop://dashboard/build/desktop-linux/desktop-linux/ifi0egzahfdqwtd1qezu8cdsp\n"
     ]
    }
   ],
   "source": [
    "!docker build -t apachebench apachebench/."
   ]
  },
  {
   "cell_type": "code",
   "execution_count": 12,
   "id": "3fa209cb",
   "metadata": {},
   "outputs": [
    {
     "name": "stdout",
     "output_type": "stream",
     "text": [
      "This is ApacheBench, Version 2.3 <$Revision: 1903618 $>\n",
      "Copyright 1996 Adam Twiss, Zeus Technology Ltd, http://www.zeustech.net/\n",
      "Licensed to The Apache Software Foundation, http://www.apache.org/\n",
      "\n",
      "Benchmarking www.bretfisher.com (be patient).....done\n",
      "\n",
      "\n",
      "Server Software:        openresty\n",
      "Server Hostname:        www.bretfisher.com\n",
      "Server Port:            443\n",
      "SSL/TLS Protocol:       TLSv1.3,TLS_AES_128_GCM_SHA256,2048,128\n",
      "Server Temp Key:        X25519 253 bits\n",
      "TLS Server Name:        www.bretfisher.com\n",
      "\n",
      "Document Path:          /\n",
      "Document Length:        29058 bytes\n",
      "\n",
      "Concurrency Level:      2\n",
      "Time taken for tests:   0.413 seconds\n",
      "Complete requests:      10\n",
      "Failed requests:        0\n",
      "Total transferred:      296840 bytes\n",
      "HTML transferred:       290580 bytes\n",
      "Requests per second:    24.22 [#/sec] (mean)\n",
      "Time per request:       82.578 [ms] (mean)\n",
      "Time per request:       41.289 [ms] (mean, across all concurrent requests)\n",
      "Transfer rate:          702.08 [Kbytes/sec] received\n",
      "\n",
      "Connection Times (ms)\n",
      "              min  mean[+/-sd] median   max\n",
      "Connect:       37   46   8.5     44      62\n",
      "Processing:    19   23   4.2     23      31\n",
      "Waiting:       13   16   1.8     16      19\n",
      "Total:         59   69  12.4     67      93\n",
      "\n",
      "Percentage of the requests served within a certain time (ms)\n",
      "  50%     67\n",
      "  66%     69\n",
      "  75%     69\n",
      "  80%     91\n",
      "  90%     93\n",
      "  95%     93\n",
      "  98%     93\n",
      "  99%     93\n",
      " 100%     93 (longest request)\n"
     ]
    }
   ],
   "source": [
    "!docker run apachebench"
   ]
  },
  {
   "cell_type": "code",
   "execution_count": 14,
   "id": "050eb004",
   "metadata": {},
   "outputs": [],
   "source": [
    "!docker tag cmatrix anil1318/cmatrix:latest"
   ]
  },
  {
   "cell_type": "code",
   "execution_count": 15,
   "id": "35ae4ff1",
   "metadata": {},
   "outputs": [
    {
     "name": "stdout",
     "output_type": "stream",
     "text": [
      "The push refers to repository [docker.io/anil1318/cmatrix]\n",
      "2c12da844b0e: Waiting\n",
      "ca940328f71b: Waiting\n",
      "9824c27679d3: Waiting\n",
      "2c12da844b0e: Waiting\n",
      "ca940328f71b: Waiting\n",
      "9824c27679d3: Waiting\n",
      "9824c27679d3: Waiting\n",
      "2c12da844b0e: Waiting\n",
      "ca940328f71b: Waiting\n",
      "2c12da844b0e: Waiting\n",
      "9824c27679d3: Mounted from library/alpine\n",
      "2c12da844b0e: Pushed\n",
      "ca940328f71b: Pushed\n",
      "latest: digest: sha256:6d91fe0fbb3cb5d3073e7902c59e2157b4f8b6fe1db78d6913cbd30087f33d70 size: 855\n"
     ]
    }
   ],
   "source": [
    "!docker push anil1318/cmatrix:latest"
   ]
  },
  {
   "cell_type": "code",
   "execution_count": 16,
   "id": "1a9092b7",
   "metadata": {},
   "outputs": [],
   "source": [
    "!docker tag apachebench anil1318/apachebench:latest"
   ]
  },
  {
   "cell_type": "code",
   "execution_count": 17,
   "id": "067d9ccf",
   "metadata": {},
   "outputs": [
    {
     "name": "stdout",
     "output_type": "stream",
     "text": [
      "The push refers to repository [docker.io/anil1318/apachebench]\n",
      "1278dbf7ce39: Waiting\n",
      "e1b0bedae133: Waiting\n",
      "32f112e3802c: Waiting\n",
      "1278dbf7ce39: Waiting\n",
      "e1b0bedae133: Waiting\n",
      "32f112e3802c: Waiting\n",
      "1278dbf7ce39: Waiting\n",
      "e1b0bedae133: Waiting\n",
      "32f112e3802c: Waiting\n",
      "32f112e3802c: Mounted from library/mongo\n",
      "1278dbf7ce39: Pushed\n",
      "e1b0bedae133: Pushed\n",
      "latest: digest: sha256:c65de0deececf54f8ee34d2662cccaa21d7d05c1feb28fe25594da889ecbac39 size: 855\n"
     ]
    }
   ],
   "source": [
    "!docker push anil1318/apachebench:latest"
   ]
  },
  {
   "cell_type": "code",
   "execution_count": 18,
   "id": "18af824e",
   "metadata": {},
   "outputs": [
    {
     "name": "stderr",
     "output_type": "stream",
     "text": [
      "#0 building with \"desktop-linux\" instance using docker driver\n",
      "\n",
      "#1 [internal] load build definition from Dockerfile\n",
      "#1 transferring dockerfile: 291B done\n",
      "#1 DONE 0.1s\n",
      "\n",
      "#2 [internal] load metadata for docker.io/library/python:slim\n",
      "#2 ...\n",
      "\n",
      "#3 [auth] library/python:pull token for registry-1.docker.io\n",
      "#3 DONE 0.0s\n",
      "\n",
      "#2 [internal] load metadata for docker.io/library/python:slim\n",
      "#2 DONE 1.7s\n",
      "\n",
      "#4 [internal] load .dockerignore\n",
      "#4 transferring context: 227B 0.0s done\n",
      "#4 DONE 0.1s\n",
      "\n",
      "#5 [1/5] FROM docker.io/library/python:slim@sha256:6f79e7a10bb7d0b0a50534a70ebc78823f941fba26143ecd7e6c5dca9d7d7e8a\n",
      "#5 resolve docker.io/library/python:slim@sha256:6f79e7a10bb7d0b0a50534a70ebc78823f941fba26143ecd7e6c5dca9d7d7e8a 0.1s done\n",
      "#5 DONE 0.3s\n",
      "\n",
      "#6 [internal] load build context\n",
      "#6 transferring context: 158.11kB 0.0s done\n",
      "#6 DONE 0.2s\n",
      "\n",
      "#5 [1/5] FROM docker.io/library/python:slim@sha256:6f79e7a10bb7d0b0a50534a70ebc78823f941fba26143ecd7e6c5dca9d7d7e8a\n",
      "#5 sha256:8fdd7df8e834cffdff8b69ee3cc14d94e86095052f6cef6f58aee08b95e5f5a8 251B / 251B 0.1s done\n",
      "#5 sha256:081f96d6584f5f1a870715620a71f717e9602e7955ef7d0da1c7d76540dc1dd3 2.10MB / 12.42MB 0.3s\n",
      "#5 sha256:0f40319da806d18cf3702966d823d2056e67759aec746cab6ab4e154e5a4f392 0B / 3.52MB 0.2s\n",
      "#5 sha256:081f96d6584f5f1a870715620a71f717e9602e7955ef7d0da1c7d76540dc1dd3 7.34MB / 12.42MB 0.5s\n",
      "#5 sha256:081f96d6584f5f1a870715620a71f717e9602e7955ef7d0da1c7d76540dc1dd3 11.53MB / 12.42MB 0.6s\n",
      "#5 sha256:0f40319da806d18cf3702966d823d2056e67759aec746cab6ab4e154e5a4f392 1.05MB / 3.52MB 0.5s\n",
      "#5 sha256:081f96d6584f5f1a870715620a71f717e9602e7955ef7d0da1c7d76540dc1dd3 12.42MB / 12.42MB 0.6s done\n",
      "#5 sha256:0f40319da806d18cf3702966d823d2056e67759aec746cab6ab4e154e5a4f392 3.52MB / 3.52MB 0.7s done\n",
      "#5 DONE 1.0s\n",
      "\n",
      "#5 [1/5] FROM docker.io/library/python:slim@sha256:6f79e7a10bb7d0b0a50534a70ebc78823f941fba26143ecd7e6c5dca9d7d7e8a\n",
      "#5 extracting sha256:0f40319da806d18cf3702966d823d2056e67759aec746cab6ab4e154e5a4f392 0.1s done\n",
      "#5 DONE 1.1s\n",
      "\n",
      "#5 [1/5] FROM docker.io/library/python:slim@sha256:6f79e7a10bb7d0b0a50534a70ebc78823f941fba26143ecd7e6c5dca9d7d7e8a\n",
      "#5 extracting sha256:081f96d6584f5f1a870715620a71f717e9602e7955ef7d0da1c7d76540dc1dd3\n",
      "#5 extracting sha256:081f96d6584f5f1a870715620a71f717e9602e7955ef7d0da1c7d76540dc1dd3 0.2s done\n",
      "#5 extracting sha256:8fdd7df8e834cffdff8b69ee3cc14d94e86095052f6cef6f58aee08b95e5f5a8\n",
      "#5 extracting sha256:8fdd7df8e834cffdff8b69ee3cc14d94e86095052f6cef6f58aee08b95e5f5a8 0.0s done\n",
      "#5 DONE 1.4s\n",
      "\n",
      "#7 [2/5] WORKDIR /app\n",
      "#7 DONE 0.1s\n",
      "\n",
      "#8 [3/5] COPY requirements.txt .\n",
      "#8 DONE 0.1s\n",
      "\n",
      "#9 [4/5] RUN pip install --no-cache-dir -r requirements.txt\n",
      "#9 1.121 Collecting fastapi>=0.115.8 (from -r requirements.txt (line 1))\n",
      "#9 1.210   Downloading fastapi-0.116.1-py3-none-any.whl.metadata (28 kB)\n",
      "#9 1.252 Collecting uvicorn>=0.34.0 (from -r requirements.txt (line 2))\n",
      "#9 1.268   Downloading uvicorn-0.35.0-py3-none-any.whl.metadata (6.5 kB)\n",
      "#9 1.289 Collecting python-multipart>=0.0.20 (from -r requirements.txt (line 3))\n",
      "#9 1.303   Downloading python_multipart-0.0.20-py3-none-any.whl.metadata (1.8 kB)\n",
      "#9 1.394 Collecting pydantic>=2.10.6 (from -r requirements.txt (line 4))\n",
      "#9 1.416   Downloading pydantic-2.11.7-py3-none-any.whl.metadata (67 kB)\n",
      "#9 1.464 Collecting starlette<0.48.0,>=0.40.0 (from fastapi>=0.115.8->-r requirements.txt (line 1))\n",
      "#9 1.482   Downloading starlette-0.47.2-py3-none-any.whl.metadata (6.2 kB)\n",
      "#9 1.516 Collecting typing-extensions>=4.8.0 (from fastapi>=0.115.8->-r requirements.txt (line 1))\n",
      "#9 1.530   Downloading typing_extensions-4.14.1-py3-none-any.whl.metadata (3.0 kB)\n",
      "#9 1.559 Collecting annotated-types>=0.6.0 (from pydantic>=2.10.6->-r requirements.txt (line 4))\n",
      "#9 1.573   Downloading annotated_types-0.7.0-py3-none-any.whl.metadata (15 kB)\n",
      "#9 1.919 Collecting pydantic-core==2.33.2 (from pydantic>=2.10.6->-r requirements.txt (line 4))\n",
      "#9 1.941   Downloading pydantic_core-2.33.2-cp313-cp313-manylinux_2_17_x86_64.manylinux2014_x86_64.whl.metadata (6.8 kB)\n",
      "#9 1.962 Collecting typing-inspection>=0.4.0 (from pydantic>=2.10.6->-r requirements.txt (line 4))\n",
      "#9 1.977   Downloading typing_inspection-0.4.1-py3-none-any.whl.metadata (2.6 kB)\n",
      "#9 2.003 Collecting anyio<5,>=3.6.2 (from starlette<0.48.0,>=0.40.0->fastapi>=0.115.8->-r requirements.txt (line 1))\n",
      "#9 2.017   Downloading anyio-4.10.0-py3-none-any.whl.metadata (4.0 kB)\n",
      "#9 2.040 Collecting idna>=2.8 (from anyio<5,>=3.6.2->starlette<0.48.0,>=0.40.0->fastapi>=0.115.8->-r requirements.txt (line 1))\n",
      "#9 2.057   Downloading idna-3.10-py3-none-any.whl.metadata (10 kB)\n",
      "#9 2.079 Collecting sniffio>=1.1 (from anyio<5,>=3.6.2->starlette<0.48.0,>=0.40.0->fastapi>=0.115.8->-r requirements.txt (line 1))\n",
      "#9 2.097   Downloading sniffio-1.3.1-py3-none-any.whl.metadata (3.9 kB)\n",
      "#9 2.123 Collecting click>=7.0 (from uvicorn>=0.34.0->-r requirements.txt (line 2))\n",
      "#9 2.137   Downloading click-8.2.1-py3-none-any.whl.metadata (2.5 kB)\n",
      "#9 2.156 Collecting h11>=0.8 (from uvicorn>=0.34.0->-r requirements.txt (line 2))\n",
      "#9 2.171   Downloading h11-0.16.0-py3-none-any.whl.metadata (8.3 kB)\n",
      "#9 2.196 Downloading fastapi-0.116.1-py3-none-any.whl (95 kB)\n",
      "#9 2.218 Downloading pydantic-2.11.7-py3-none-any.whl (444 kB)\n",
      "#9 2.266 Downloading pydantic_core-2.33.2-cp313-cp313-manylinux_2_17_x86_64.manylinux2014_x86_64.whl (2.0 MB)\n",
      "#9 2.328    ━━━━━━━━━━━━━━━━━━━━━━━━━━━━━━━━━━━━━━━━ 2.0/2.0 MB 30.6 MB/s  0:00:00\n",
      "#9 2.343 Downloading starlette-0.47.2-py3-none-any.whl (72 kB)\n",
      "#9 2.367 Downloading anyio-4.10.0-py3-none-any.whl (107 kB)\n",
      "#9 2.384 Downloading uvicorn-0.35.0-py3-none-any.whl (66 kB)\n",
      "#9 2.409 Downloading python_multipart-0.0.20-py3-none-any.whl (24 kB)\n",
      "#9 2.425 Downloading annotated_types-0.7.0-py3-none-any.whl (13 kB)\n",
      "#9 2.439 Downloading click-8.2.1-py3-none-any.whl (102 kB)\n",
      "#9 2.456 Downloading h11-0.16.0-py3-none-any.whl (37 kB)\n",
      "#9 2.474 Downloading idna-3.10-py3-none-any.whl (70 kB)\n",
      "#9 2.488 Downloading sniffio-1.3.1-py3-none-any.whl (10 kB)\n",
      "#9 2.502 Downloading typing_extensions-4.14.1-py3-none-any.whl (43 kB)\n",
      "#9 2.525 Downloading typing_inspection-0.4.1-py3-none-any.whl (14 kB)\n",
      "#9 2.544 Installing collected packages: typing-extensions, sniffio, python-multipart, idna, h11, click, annotated-types, uvicorn, typing-inspection, pydantic-core, anyio, starlette, pydantic, fastapi\n",
      "#9 3.181 \n",
      "#9 3.182 Successfully installed annotated-types-0.7.0 anyio-4.10.0 click-8.2.1 fastapi-0.116.1 h11-0.16.0 idna-3.10 pydantic-2.11.7 pydantic-core-2.33.2 python-multipart-0.0.20 sniffio-1.3.1 starlette-0.47.2 typing-extensions-4.14.1 typing-inspection-0.4.1 uvicorn-0.35.0\n",
      "#9 3.182 WARNING: Running pip as the 'root' user can result in broken permissions and conflicting behaviour with the system package manager, possibly rendering your system unusable. It is recommended to use a virtual environment instead: https://pip.pypa.io/warnings/venv. Use the --root-user-action option if you know what you are doing and want to suppress this warning.\n",
      "#9 DONE 3.5s\n",
      "\n",
      "#10 [5/5] COPY . .\n",
      "#10 DONE 0.1s\n",
      "\n",
      "#11 exporting to image\n",
      "#11 exporting layers\n",
      "#11 exporting layers 0.8s done\n",
      "#11 exporting manifest sha256:319c0b3243a437e8e4998a6523150162721c2682b774298036b120fa49044500 0.0s done\n",
      "#11 exporting config sha256:b51fbe2b294fc0fbf8aa616f481eb09f7e364a45e03278f553e4074801865a71 0.0s done\n",
      "#11 exporting attestation manifest sha256:33ce873a9ed7e61be0b4250d536c385fbc4d112de440afa0bee01a07601b5af9 0.1s done\n",
      "#11 exporting manifest list sha256:3f031bb8e89d1d7943cedc27e06096d60a7da3ea90f232139cbadc9fb591bf3a\n",
      "#11 exporting manifest list sha256:3f031bb8e89d1d7943cedc27e06096d60a7da3ea90f232139cbadc9fb591bf3a 0.0s done\n",
      "#11 naming to docker.io/library/fastapi:latest done\n",
      "#11 unpacking to docker.io/library/fastapi:latest\n",
      "#11 unpacking to docker.io/library/fastapi:latest 0.3s done\n",
      "#11 DONE 1.3s\n",
      "\n",
      "View build details: docker-desktop://dashboard/build/desktop-linux/desktop-linux/ixsk1dyeoy8q422nml82d7mfr\n"
     ]
    }
   ],
   "source": [
    "!docker build -t fastapi assignment2/."
   ]
  },
  {
   "cell_type": "code",
   "execution_count": 19,
   "id": "abed8e2d",
   "metadata": {},
   "outputs": [
    {
     "name": "stdout",
     "output_type": "stream",
     "text": [
      "^C\n"
     ]
    }
   ],
   "source": [
    "!docker run -p 8000:8000 fastapi"
   ]
  },
  {
   "cell_type": "code",
   "execution_count": 21,
   "id": "f7bd0d04",
   "metadata": {},
   "outputs": [],
   "source": [
    "!docker tag fastapi anil1318/fastapi:latest"
   ]
  },
  {
   "cell_type": "code",
   "execution_count": 22,
   "id": "3d1dc5b3",
   "metadata": {},
   "outputs": [
    {
     "name": "stdout",
     "output_type": "stream",
     "text": [
      "The push refers to repository [docker.io/anil1318/fastapi]\n",
      "4b7c31584b6d: Waiting\n",
      "59e22667830b: Waiting\n",
      "5d7a7b70fc28: Waiting\n",
      "0f40319da806: Waiting\n",
      "ad33b3a2ca82: Waiting\n",
      "ad9db42cff9f: Waiting\n",
      "e24d86552d0c: Waiting\n",
      "081f96d6584f: Waiting\n",
      "8fdd7df8e834: Waiting\n",
      "4b7c31584b6d: Waiting\n",
      "59e22667830b: Waiting\n",
      "5d7a7b70fc28: Waiting\n",
      "0f40319da806: Waiting\n",
      "ad33b3a2ca82: Waiting\n",
      "ad9db42cff9f: Waiting\n",
      "e24d86552d0c: Waiting\n",
      "081f96d6584f: Waiting\n",
      "8fdd7df8e834: Waiting\n",
      "5d7a7b70fc28: Waiting\n",
      "0f40319da806: Waiting\n",
      "ad33b3a2ca82: Waiting\n",
      "ad9db42cff9f: Waiting\n",
      "e24d86552d0c: Waiting\n",
      "081f96d6584f: Waiting\n",
      "8fdd7df8e834: Waiting\n",
      "4b7c31584b6d: Waiting\n",
      "59e22667830b: Waiting\n",
      "5d7a7b70fc28: Waiting\n",
      "0f40319da806: Waiting\n",
      "ad33b3a2ca82: Waiting\n",
      "ad9db42cff9f: Waiting\n",
      "e24d86552d0c: Waiting\n",
      "081f96d6584f: Waiting\n",
      "8fdd7df8e834: Waiting\n",
      "4b7c31584b6d: Waiting\n",
      "59e22667830b: Waiting\n",
      "59e22667830b: Mounted from anil1318/testing\n",
      "081f96d6584f: Waiting\n",
      "ad9db42cff9f: Pushed\n",
      "4b7c31584b6d: Pushed\n",
      "ad33b3a2ca82: Pushed\n",
      "8fdd7df8e834: Pushed\n",
      "5d7a7b70fc28: Pushed\n",
      "0f40319da806: Pushed\n",
      "e24d86552d0c: Pushed\n",
      "081f96d6584f: Pushed\n",
      "latest: digest: sha256:3f031bb8e89d1d7943cedc27e06096d60a7da3ea90f232139cbadc9fb591bf3a size: 856\n"
     ]
    }
   ],
   "source": [
    "!docker push anil1318/fastapi:latest"
   ]
  },
  {
   "cell_type": "code",
   "execution_count": null,
   "id": "d02fad07",
   "metadata": {},
   "outputs": [],
   "source": []
  }
 ],
 "metadata": {
  "kernelspec": {
   "display_name": ".venv",
   "language": "python",
   "name": "python3"
  },
  "language_info": {
   "codemirror_mode": {
    "name": "ipython",
    "version": 3
   },
   "file_extension": ".py",
   "mimetype": "text/x-python",
   "name": "python",
   "nbconvert_exporter": "python",
   "pygments_lexer": "ipython3",
   "version": "3.13.5"
  }
 },
 "nbformat": 4,
 "nbformat_minor": 5
}
