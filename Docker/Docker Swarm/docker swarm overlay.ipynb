{
 "cells": [
  {
   "cell_type": "code",
   "execution_count": 1,
   "id": "1e2c143a",
   "metadata": {},
   "outputs": [
    {
     "name": "stdout",
     "output_type": "stream",
     "text": [
      "NETWORK ID     NAME              DRIVER    SCOPE\n",
      "4fc569e790e6   bridge            bridge    local\n",
      "2660a26fab89   docker_gwbridge   bridge    local\n",
      "10e605d17f86   dude              bridge    local\n",
      "64b83c98a870   host              host      local\n",
      "invfvfb9bowf   ingress           overlay   swarm\n",
      "69ad2b594473   my_app_net        bridge    local\n",
      "92ee42025ca3   none              null      local\n"
     ]
    }
   ],
   "source": [
    "!docker network ls"
   ]
  },
  {
   "cell_type": "code",
   "execution_count": 2,
   "id": "a59251c7",
   "metadata": {},
   "outputs": [
    {
     "name": "stdout",
     "output_type": "stream",
     "text": [
      "u5c4zkkckacq5wf6qy5cyiznf\n"
     ]
    }
   ],
   "source": [
    "!docker network create --driver overlay drupal"
   ]
  },
  {
   "cell_type": "code",
   "execution_count": 3,
   "id": "979ebbeb",
   "metadata": {},
   "outputs": [
    {
     "name": "stdout",
     "output_type": "stream",
     "text": [
      "NETWORK ID     NAME              DRIVER    SCOPE\n",
      "4fc569e790e6   bridge            bridge    local\n",
      "2660a26fab89   docker_gwbridge   bridge    local\n",
      "u5c4zkkckacq   drupal            overlay   swarm\n",
      "10e605d17f86   dude              bridge    local\n",
      "64b83c98a870   host              host      local\n",
      "invfvfb9bowf   ingress           overlay   swarm\n",
      "69ad2b594473   my_app_net        bridge    local\n",
      "92ee42025ca3   none              null      local\n"
     ]
    }
   ],
   "source": [
    "!docker network ls"
   ]
  },
  {
   "cell_type": "code",
   "execution_count": 4,
   "id": "0810292c",
   "metadata": {},
   "outputs": [
    {
     "name": "stdout",
     "output_type": "stream",
     "text": [
      "xtvi6mvb92ql4jpa79vpj0bum\n",
      "overall progress: 0 out of 1 tasks\n",
      "1/1:  \n",
      "overall progress: 0 out of 1 tasks\n",
      "overall progress: 0 out of 1 tasks\n",
      "overall progress: 0 out of 1 tasks\n",
      "overall progress: 0 out of 1 tasks\n",
      "overall progress: 0 out of 1 tasks\n",
      "overall progress: 0 out of 1 tasks\n",
      "overall progress: 0 out of 1 tasks\n",
      "overall progress: 0 out of 1 tasks\n",
      "overall progress: 0 out of 1 tasks\n",
      "overall progress: 0 out of 1 tasks\n",
      "overall progress: 0 out of 1 tasks\n",
      "overall progress: 0 out of 1 tasks\n",
      "overall progress: 0 out of 1 tasks\n",
      "overall progress: 0 out of 1 tasks\n",
      "overall progress: 0 out of 1 tasks\n",
      "overall progress: 0 out of 1 tasks\n",
      "overall progress: 0 out of 1 tasks\n",
      "overall progress: 0 out of 1 tasks\n",
      "overall progress: 0 out of 1 tasks\n",
      "overall progress: 0 out of 1 tasks\n",
      "overall progress: 0 out of 1 tasks\n",
      "overall progress: 0 out of 1 tasks\n",
      "overall progress: 0 out of 1 tasks\n",
      "overall progress: 0 out of 1 tasks\n",
      "overall progress: 0 out of 1 tasks\n",
      "overall progress: 0 out of 1 tasks\n",
      "overall progress: 0 out of 1 tasks\n",
      "overall progress: 0 out of 1 tasks\n",
      "overall progress: 0 out of 1 tasks\n",
      "overall progress: 0 out of 1 tasks\n",
      "overall progress: 0 out of 1 tasks\n",
      "overall progress: 0 out of 1 tasks\n",
      "overall progress: 0 out of 1 tasks\n",
      "overall progress: 0 out of 1 tasks\n",
      "overall progress: 0 out of 1 tasks\n",
      "overall progress: 0 out of 1 tasks\n",
      "overall progress: 0 out of 1 tasks\n",
      "overall progress: 0 out of 1 tasks\n",
      "overall progress: 0 out of 1 tasks\n",
      "overall progress: 0 out of 1 tasks\n",
      "overall progress: 0 out of 1 tasks\n",
      "overall progress: 0 out of 1 tasks\n",
      "overall progress: 0 out of 1 tasks\n",
      "overall progress: 0 out of 1 tasks\n",
      "overall progress: 0 out of 1 tasks\n",
      "overall progress: 0 out of 1 tasks\n",
      "overall progress: 0 out of 1 tasks\n",
      "overall progress: 1 out of 1 tasks\n",
      "verify: Waiting 6 seconds to verify that tasks are stable...\n",
      "verify: Waiting 5 seconds to verify that tasks are stable...\n",
      "verify: Waiting 5 seconds to verify that tasks are stable...\n",
      "verify: Waiting 5 seconds to verify that tasks are stable...\n",
      "verify: Waiting 5 seconds to verify that tasks are stable...\n",
      "verify: Waiting 4 seconds to verify that tasks are stable...\n",
      "verify: Waiting 4 seconds to verify that tasks are stable...\n",
      "verify: Waiting 4 seconds to verify that tasks are stable...\n",
      "verify: Waiting 4 seconds to verify that tasks are stable...\n",
      "verify: Waiting 4 seconds to verify that tasks are stable...\n",
      "verify: Waiting 3 seconds to verify that tasks are stable...\n",
      "verify: Waiting 3 seconds to verify that tasks are stable...\n",
      "verify: Waiting 3 seconds to verify that tasks are stable...\n",
      "verify: Waiting 3 seconds to verify that tasks are stable...\n",
      "verify: Waiting 3 seconds to verify that tasks are stable...\n",
      "verify: Waiting 2 seconds to verify that tasks are stable...\n",
      "verify: Waiting 2 seconds to verify that tasks are stable...\n",
      "verify: Waiting 2 seconds to verify that tasks are stable...\n",
      "verify: Waiting 2 seconds to verify that tasks are stable...\n",
      "verify: Waiting 2 seconds to verify that tasks are stable...\n",
      "verify: Waiting 1 seconds to verify that tasks are stable...\n",
      "verify: Waiting 1 seconds to verify that tasks are stable...\n",
      "verify: Waiting 1 seconds to verify that tasks are stable...\n",
      "verify: Waiting 1 seconds to verify that tasks are stable...\n",
      "verify: Waiting 1 seconds to verify that tasks are stable...\n",
      "verify: Service xtvi6mvb92ql4jpa79vpj0bum converged\n"
     ]
    }
   ],
   "source": [
    "!docker service create --name psql --network drupal -e POSTGRES_PASSWORD=mypass postgres"
   ]
  },
  {
   "cell_type": "code",
   "execution_count": 5,
   "id": "893d4321",
   "metadata": {},
   "outputs": [
    {
     "name": "stdout",
     "output_type": "stream",
     "text": [
      "ID             NAME      MODE         REPLICAS   IMAGE             PORTS\n",
      "xtvi6mvb92ql   psql      replicated   1/1        postgres:latest   \n"
     ]
    }
   ],
   "source": [
    "!docker service ls"
   ]
  },
  {
   "cell_type": "code",
   "execution_count": 7,
   "id": "dd9a38e5",
   "metadata": {},
   "outputs": [
    {
     "name": "stdout",
     "output_type": "stream",
     "text": [
      "ID             NAME      IMAGE             NODE             DESIRED STATE   CURRENT STATE                ERROR     PORTS\n",
      "prnj89y2uwpj   psql.1    postgres:latest   docker-desktop   Running         Running about a minute ago             \n"
     ]
    }
   ],
   "source": [
    "!docker service ps psql"
   ]
  },
  {
   "cell_type": "code",
   "execution_count": 11,
   "id": "eb2056dd",
   "metadata": {},
   "outputs": [
    {
     "name": "stdout",
     "output_type": "stream",
     "text": [
      "The files belonging to this database system will be owned by user \"postgres\".\n",
      "This user must also own the server process.\n",
      "\n",
      "The database cluster will be initialized with locale \"en_US.utf8\".\n",
      "The default database encoding has accordingly been set to \"UTF8\".\n",
      "The default text search configuration will be set to \"english\".\n",
      "\n",
      "Data page checksums are disabled.\n",
      "\n",
      "fixing permissions on existing directory /var/lib/postgresql/data ... ok\n",
      "creating subdirectories ... ok\n",
      "selecting dynamic shared memory implementation ... posix\n",
      "selecting default \"max_connections\" ... 100\n",
      "selecting default \"shared_buffers\" ... 128MB\n",
      "selecting default time zone ... Etc/UTC\n",
      "creating configuration files ... ok\n",
      "running bootstrap script ... ok\n",
      "performing post-bootstrap initialization ... ok\n",
      "syncing data to disk ... ok\n",
      "\n",
      "\n",
      "Success. You can now start the database server using:\n",
      "\n",
      "    pg_ctl -D /var/lib/postgresql/data -l logfile start\n",
      "\n",
      "waiting for server to start....2025-08-16 19:40:45.804 UTC [48] LOG:  starting PostgreSQL 17.6 (Debian 17.6-1.pgdg13+1) on x86_64-pc-linux-gnu, compiled by gcc (Debian 14.2.0-19) 14.2.0, 64-bit\n",
      "2025-08-16 19:40:45.807 UTC [48] LOG:  listening on Unix socket \"/var/run/postgresql/.s.PGSQL.5432\"\n",
      "2025-08-16 19:40:45.815 UTC [51] LOG:  database system was shut down at 2025-08-16 19:40:44 UTC\n",
      "2025-08-16 19:40:45.821 UTC [48] LOG:  database system is ready to accept connections\n",
      " done\n",
      "server started\n",
      "\n",
      "/usr/local/bin/docker-entrypoint.sh: ignoring /docker-entrypoint-initdb.d/*\n",
      "\n",
      "waiting for server to shut down....2025-08-16 19:40:45.910 UTC [48] LOG:  received fast shutdown request\n",
      "2025-08-16 19:40:45.918 UTC [48] LOG:  aborting any active transactions\n",
      "2025-08-16 19:40:45.919 UTC [48] LOG:  background worker \"logical replication launcher\" (PID 54) exited with exit code 1\n",
      "2025-08-16 19:40:45.919 UTC [49] LOG:  shutting down\n",
      "2025-08-16 19:40:45.924 UTC [49] LOG:  checkpoint starting: shutdown immediate\n",
      "2025-08-16 19:40:45.953 UTC [49] LOG:  checkpoint complete: wrote 3 buffers (0.0%); 0 WAL file(s) added, 0 removed, 0 recycled; write=0.009 s, sync=0.005 s, total=0.034 s; sync files=2, longest=0.003 s, average=0.003 s; distance=0 kB, estimate=0 kB; lsn=0/14ED7B8, redo lsn=0/14ED7B8\n",
      "2025-08-16 19:40:45.955 UTC [48] LOG:  database system is shut down\n",
      " done\n",
      "server stopped\n",
      "\n",
      "PostgreSQL init process complete; ready for start up.\n",
      "\n"
     ]
    },
    {
     "name": "stderr",
     "output_type": "stream",
     "text": [
      "initdb: warning: enabling \"trust\" authentication for local connections\n",
      "initdb: hint: You can change this by editing pg_hba.conf or using the option -A, or --auth-local and --auth-host, the next time you run initdb.\n",
      "2025-08-16 19:40:46.034 UTC [1] LOG:  starting PostgreSQL 17.6 (Debian 17.6-1.pgdg13+1) on x86_64-pc-linux-gnu, compiled by gcc (Debian 14.2.0-19) 14.2.0, 64-bit\n",
      "2025-08-16 19:40:46.035 UTC [1] LOG:  listening on IPv4 address \"0.0.0.0\", port 5432\n",
      "2025-08-16 19:40:46.035 UTC [1] LOG:  listening on IPv6 address \"::\", port 5432\n",
      "2025-08-16 19:40:46.046 UTC [1] LOG:  listening on Unix socket \"/var/run/postgresql/.s.PGSQL.5432\"\n",
      "2025-08-16 19:40:46.056 UTC [62] LOG:  database system was shut down at 2025-08-16 19:40:45 UTC\n",
      "2025-08-16 19:40:46.063 UTC [1] LOG:  database system is ready to accept connections\n"
     ]
    }
   ],
   "source": [
    "!docker container logs 581e0e51d4075a09a174e5dda996c7ad0b02adac4864507b4d70e8c769c79b28"
   ]
  },
  {
   "cell_type": "code",
   "execution_count": 12,
   "id": "f05d1ee5",
   "metadata": {},
   "outputs": [
    {
     "name": "stdout",
     "output_type": "stream",
     "text": [
      "qt7n86agb13txflj33847zqhz\n",
      "overall progress: 0 out of 1 tasks\n",
      "1/1:  \n",
      "overall progress: 0 out of 1 tasks\n",
      "overall progress: 0 out of 1 tasks\n",
      "overall progress: 0 out of 1 tasks\n",
      "overall progress: 0 out of 1 tasks\n",
      "overall progress: 0 out of 1 tasks\n",
      "overall progress: 0 out of 1 tasks\n",
      "overall progress: 0 out of 1 tasks\n",
      "overall progress: 0 out of 1 tasks\n",
      "overall progress: 0 out of 1 tasks\n",
      "overall progress: 0 out of 1 tasks\n",
      "overall progress: 0 out of 1 tasks\n",
      "overall progress: 0 out of 1 tasks\n",
      "overall progress: 0 out of 1 tasks\n",
      "overall progress: 0 out of 1 tasks\n",
      "overall progress: 0 out of 1 tasks\n",
      "overall progress: 0 out of 1 tasks\n",
      "overall progress: 0 out of 1 tasks\n",
      "overall progress: 0 out of 1 tasks\n",
      "overall progress: 0 out of 1 tasks\n",
      "overall progress: 0 out of 1 tasks\n",
      "overall progress: 0 out of 1 tasks\n",
      "overall progress: 0 out of 1 tasks\n",
      "overall progress: 0 out of 1 tasks\n",
      "overall progress: 0 out of 1 tasks\n",
      "overall progress: 0 out of 1 tasks\n",
      "overall progress: 0 out of 1 tasks\n",
      "overall progress: 0 out of 1 tasks\n",
      "overall progress: 0 out of 1 tasks\n",
      "overall progress: 0 out of 1 tasks\n",
      "overall progress: 0 out of 1 tasks\n",
      "overall progress: 0 out of 1 tasks\n",
      "overall progress: 0 out of 1 tasks\n",
      "overall progress: 0 out of 1 tasks\n",
      "overall progress: 0 out of 1 tasks\n",
      "overall progress: 0 out of 1 tasks\n",
      "overall progress: 0 out of 1 tasks\n",
      "overall progress: 0 out of 1 tasks\n",
      "overall progress: 0 out of 1 tasks\n",
      "overall progress: 0 out of 1 tasks\n",
      "overall progress: 0 out of 1 tasks\n",
      "overall progress: 0 out of 1 tasks\n",
      "overall progress: 0 out of 1 tasks\n",
      "overall progress: 0 out of 1 tasks\n",
      "overall progress: 0 out of 1 tasks\n",
      "overall progress: 0 out of 1 tasks\n",
      "overall progress: 0 out of 1 tasks\n",
      "overall progress: 0 out of 1 tasks\n",
      "overall progress: 0 out of 1 tasks\n",
      "overall progress: 0 out of 1 tasks\n",
      "overall progress: 0 out of 1 tasks\n",
      "overall progress: 0 out of 1 tasks\n",
      "overall progress: 0 out of 1 tasks\n",
      "overall progress: 0 out of 1 tasks\n",
      "overall progress: 0 out of 1 tasks\n",
      "overall progress: 0 out of 1 tasks\n",
      "overall progress: 0 out of 1 tasks\n",
      "overall progress: 0 out of 1 tasks\n",
      "overall progress: 0 out of 1 tasks\n",
      "overall progress: 0 out of 1 tasks\n",
      "overall progress: 0 out of 1 tasks\n",
      "overall progress: 0 out of 1 tasks\n",
      "overall progress: 0 out of 1 tasks\n",
      "overall progress: 0 out of 1 tasks\n",
      "overall progress: 0 out of 1 tasks\n",
      "overall progress: 0 out of 1 tasks\n",
      "overall progress: 1 out of 1 tasks\n",
      "verify: Waiting 6 seconds to verify that tasks are stable...\n",
      "verify: Waiting 5 seconds to verify that tasks are stable...\n",
      "verify: Waiting 5 seconds to verify that tasks are stable...\n",
      "verify: Waiting 5 seconds to verify that tasks are stable...\n",
      "verify: Waiting 5 seconds to verify that tasks are stable...\n",
      "verify: Waiting 4 seconds to verify that tasks are stable...\n",
      "verify: Waiting 4 seconds to verify that tasks are stable...\n",
      "verify: Waiting 4 seconds to verify that tasks are stable...\n",
      "verify: Waiting 4 seconds to verify that tasks are stable...\n",
      "verify: Waiting 4 seconds to verify that tasks are stable...\n",
      "verify: Waiting 3 seconds to verify that tasks are stable...\n",
      "verify: Waiting 3 seconds to verify that tasks are stable...\n",
      "verify: Waiting 3 seconds to verify that tasks are stable...\n",
      "verify: Waiting 3 seconds to verify that tasks are stable...\n",
      "verify: Waiting 3 seconds to verify that tasks are stable...\n",
      "verify: Waiting 2 seconds to verify that tasks are stable...\n",
      "verify: Waiting 2 seconds to verify that tasks are stable...\n",
      "verify: Waiting 2 seconds to verify that tasks are stable...\n",
      "verify: Waiting 2 seconds to verify that tasks are stable...\n",
      "verify: Waiting 2 seconds to verify that tasks are stable...\n",
      "verify: Waiting 1 seconds to verify that tasks are stable...\n",
      "verify: Waiting 1 seconds to verify that tasks are stable...\n",
      "verify: Waiting 1 seconds to verify that tasks are stable...\n",
      "verify: Waiting 1 seconds to verify that tasks are stable...\n",
      "verify: Waiting 1 seconds to verify that tasks are stable...\n",
      "verify: Service qt7n86agb13txflj33847zqhz converged\n"
     ]
    }
   ],
   "source": [
    "!docker service create --name drupal --network drupal -p 80:80 drupal"
   ]
  },
  {
   "cell_type": "code",
   "execution_count": 14,
   "id": "4a37e331",
   "metadata": {},
   "outputs": [
    {
     "name": "stdout",
     "output_type": "stream",
     "text": [
      "ID             NAME      MODE         REPLICAS   IMAGE             PORTS\n",
      "qt7n86agb13t   drupal    replicated   1/1        drupal:latest     *:80->80/tcp\n",
      "xtvi6mvb92ql   psql      replicated   1/1        postgres:latest   \n"
     ]
    }
   ],
   "source": [
    "!docker service ls"
   ]
  },
  {
   "cell_type": "code",
   "execution_count": 16,
   "id": "9cd35e87",
   "metadata": {},
   "outputs": [
    {
     "name": "stdout",
     "output_type": "stream",
     "text": [
      "ID             NAME       IMAGE           NODE             DESIRED STATE   CURRENT STATE                ERROR     PORTS\n",
      "uu9twsizqsrx   drupal.1   drupal:latest   docker-desktop   Running         Running about a minute ago             \n"
     ]
    }
   ],
   "source": [
    "!docker service ps drupal"
   ]
  },
  {
   "cell_type": "code",
   "execution_count": 17,
   "id": "41edcf22",
   "metadata": {},
   "outputs": [
    {
     "name": "stdout",
     "output_type": "stream",
     "text": [
      "[\n",
      "    {\n",
      "        \"ID\": \"qt7n86agb13txflj33847zqhz\",\n",
      "        \"Version\": {\n",
      "            \"Index\": 56\n",
      "        },\n",
      "        \"CreatedAt\": \"2025-08-16T19:44:34.432932791Z\",\n",
      "        \"UpdatedAt\": \"2025-08-16T19:44:34.440769914Z\",\n",
      "        \"Spec\": {\n",
      "            \"Name\": \"drupal\",\n",
      "            \"Labels\": {},\n",
      "            \"TaskTemplate\": {\n",
      "                \"ContainerSpec\": {\n",
      "                    \"Image\": \"drupal:latest@sha256:f9b9e6d6ec75752db868fb70015fab83eff8ddc147cacdc0313b84bf0b6483d9\",\n",
      "                    \"Init\": false,\n",
      "                    \"StopGracePeriod\": 10000000000,\n",
      "                    \"DNSConfig\": {},\n",
      "                    \"Isolation\": \"default\"\n",
      "                },\n",
      "                \"Resources\": {\n",
      "                    \"Limits\": {},\n",
      "                    \"Reservations\": {}\n",
      "                },\n",
      "                \"RestartPolicy\": {\n",
      "                    \"Condition\": \"any\",\n",
      "                    \"Delay\": 5000000000,\n",
      "                    \"MaxAttempts\": 0\n",
      "                },\n",
      "                \"Placement\": {\n",
      "                    \"Platforms\": [\n",
      "                        {\n",
      "                            \"Architecture\": \"amd64\",\n",
      "                            \"OS\": \"linux\"\n",
      "                        },\n",
      "                        {\n",
      "                            \"Architecture\": \"unknown\",\n",
      "                            \"OS\": \"unknown\"\n",
      "                        },\n",
      "                        {\n",
      "                            \"OS\": \"linux\"\n",
      "                        },\n",
      "                        {\n",
      "                            \"Architecture\": \"unknown\",\n",
      "                            \"OS\": \"unknown\"\n",
      "                        },\n",
      "                        {\n",
      "                            \"Architecture\": \"arm64\",\n",
      "                            \"OS\": \"linux\"\n",
      "                        },\n",
      "                        {\n",
      "                            \"Architecture\": \"unknown\",\n",
      "                            \"OS\": \"unknown\"\n",
      "                        },\n",
      "                        {\n",
      "                            \"Architecture\": \"386\",\n",
      "                            \"OS\": \"linux\"\n",
      "                        },\n",
      "                        {\n",
      "                            \"Architecture\": \"unknown\",\n",
      "                            \"OS\": \"unknown\"\n",
      "                        },\n",
      "                        {\n",
      "                            \"Architecture\": \"ppc64le\",\n",
      "                            \"OS\": \"linux\"\n",
      "                        },\n",
      "                        {\n",
      "                            \"Architecture\": \"unknown\",\n",
      "                            \"OS\": \"unknown\"\n",
      "                        },\n",
      "                        {\n",
      "                            \"Architecture\": \"s390x\",\n",
      "                            \"OS\": \"linux\"\n",
      "                        },\n",
      "                        {\n",
      "                            \"Architecture\": \"unknown\",\n",
      "                            \"OS\": \"unknown\"\n",
      "                        }\n",
      "                    ]\n",
      "                },\n",
      "                \"Networks\": [\n",
      "                    {\n",
      "                        \"Target\": \"u5c4zkkckacq5wf6qy5cyiznf\"\n",
      "                    }\n",
      "                ],\n",
      "                \"ForceUpdate\": 0,\n",
      "                \"Runtime\": \"container\"\n",
      "            },\n",
      "            \"Mode\": {\n",
      "                \"Replicated\": {\n",
      "                    \"Replicas\": 1\n",
      "                }\n",
      "            },\n",
      "            \"UpdateConfig\": {\n",
      "                \"Parallelism\": 1,\n",
      "                \"FailureAction\": \"pause\",\n",
      "                \"Monitor\": 5000000000,\n",
      "                \"MaxFailureRatio\": 0,\n",
      "                \"Order\": \"stop-first\"\n",
      "            },\n",
      "            \"RollbackConfig\": {\n",
      "                \"Parallelism\": 1,\n",
      "                \"FailureAction\": \"pause\",\n",
      "                \"Monitor\": 5000000000,\n",
      "                \"MaxFailureRatio\": 0,\n",
      "                \"Order\": \"stop-first\"\n",
      "            },\n",
      "            \"EndpointSpec\": {\n",
      "                \"Mode\": \"vip\",\n",
      "                \"Ports\": [\n",
      "                    {\n",
      "                        \"Protocol\": \"tcp\",\n",
      "                        \"TargetPort\": 80,\n",
      "                        \"PublishedPort\": 80,\n",
      "                        \"PublishMode\": \"ingress\"\n",
      "                    }\n",
      "                ]\n",
      "            }\n",
      "        },\n",
      "        \"Endpoint\": {\n",
      "            \"Spec\": {\n",
      "                \"Mode\": \"vip\",\n",
      "                \"Ports\": [\n",
      "                    {\n",
      "                        \"Protocol\": \"tcp\",\n",
      "                        \"TargetPort\": 80,\n",
      "                        \"PublishedPort\": 80,\n",
      "                        \"PublishMode\": \"ingress\"\n",
      "                    }\n",
      "                ]\n",
      "            },\n",
      "            \"Ports\": [\n",
      "                {\n",
      "                    \"Protocol\": \"tcp\",\n",
      "                    \"TargetPort\": 80,\n",
      "                    \"PublishedPort\": 80,\n",
      "                    \"PublishMode\": \"ingress\"\n",
      "                }\n",
      "            ],\n",
      "            \"VirtualIPs\": [\n",
      "                {\n",
      "                    \"NetworkID\": \"invfvfb9bowfrrh02wvdf9553\",\n",
      "                    \"Addr\": \"10.0.0.3/24\"\n",
      "                },\n",
      "                {\n",
      "                    \"NetworkID\": \"u5c4zkkckacq5wf6qy5cyiznf\",\n",
      "                    \"Addr\": \"10.0.1.5/24\"\n",
      "                }\n",
      "            ]\n",
      "        }\n",
      "    }\n",
      "]\n"
     ]
    }
   ],
   "source": [
    "!docker service inspect drupal"
   ]
  }
 ],
 "metadata": {
  "kernelspec": {
   "display_name": ".venv",
   "language": "python",
   "name": "python3"
  },
  "language_info": {
   "codemirror_mode": {
    "name": "ipython",
    "version": 3
   },
   "file_extension": ".py",
   "mimetype": "text/x-python",
   "name": "python",
   "nbconvert_exporter": "python",
   "pygments_lexer": "ipython3",
   "version": "3.13.5"
  }
 },
 "nbformat": 4,
 "nbformat_minor": 5
}
