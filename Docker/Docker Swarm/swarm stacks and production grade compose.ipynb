{
 "cells": [
  {
   "cell_type": "code",
   "execution_count": 8,
   "id": "519c1864",
   "metadata": {},
   "outputs": [
    {
     "name": "stdout",
     "output_type": "stream",
     "text": [
      "Creating network voteapp_frontend\n",
      "Creating network voteapp_backend\n",
      "Creating service voteapp_result\n",
      "Creating service voteapp_worker\n",
      "Creating service voteapp_visualizer\n",
      "Creating service voteapp_redis\n",
      "Creating service voteapp_db\n",
      "Creating service voteapp_vote\n"
     ]
    },
    {
     "name": "stderr",
     "output_type": "stream",
     "text": [
      "Since --detach=false was not specified, tasks will be created in the background.\n",
      "In a future release, --detach=false will become the default.\n"
     ]
    }
   ],
   "source": [
    "!docker stack deploy -c swarm-stack-1/example-voting-app-stack.yml voteapp"
   ]
  },
  {
   "cell_type": "code",
   "execution_count": 9,
   "id": "50ab46bd",
   "metadata": {},
   "outputs": [
    {
     "name": "stderr",
     "output_type": "stream",
     "text": [
      "Usage:  docker stack COMMAND\n",
      "\n",
      "Manage Swarm stacks\n",
      "\n",
      "Commands:\n",
      "  config      Outputs the final config file, after doing merges and interpolations\n",
      "  deploy      Deploy a new stack or update an existing stack\n",
      "  ls          List stacks\n",
      "  ps          List the tasks in the stack\n",
      "  rm          Remove one or more stacks\n",
      "  services    List the services in the stack\n",
      "\n",
      "Run 'docker stack COMMAND --help' for more information on a command.\n"
     ]
    }
   ],
   "source": [
    "!docker stack"
   ]
  },
  {
   "cell_type": "code",
   "execution_count": 10,
   "id": "72312242",
   "metadata": {},
   "outputs": [
    {
     "name": "stdout",
     "output_type": "stream",
     "text": [
      "NAME      SERVICES\n",
      "voteapp   6\n"
     ]
    }
   ],
   "source": [
    "!docker stack ls"
   ]
  },
  {
   "cell_type": "code",
   "execution_count": 11,
   "id": "58d30b3f",
   "metadata": {},
   "outputs": [
    {
     "name": "stdout",
     "output_type": "stream",
     "text": [
      "ID             NAME                   IMAGE                                       NODE             DESIRED STATE   CURRENT STATE             ERROR     PORTS\n",
      "jff2sclye9c5   voteapp_db.1           postgres:9.4                                docker-desktop   Running         Running 29 seconds ago              \n",
      "rcc9dnqvn11h   voteapp_redis.1        redis:alpine                                docker-desktop   Running         Running 17 seconds ago              \n",
      "uqjwx70p62t7   voteapp_result.1       bretfisher/examplevotingapp_result:latest   docker-desktop   Running         Running 14 seconds ago              \n",
      "qmc8seynxkox   voteapp_visualizer.1   bretfisher/visualizer:latest                docker-desktop   Running         Starting 14 seconds ago             \n",
      "rzrmek6u0m1w   voteapp_vote.1         bretfisher/examplevotingapp_vote:latest     docker-desktop   Running         Running 15 seconds ago              \n",
      "lj04khjr6s5u   voteapp_vote.2         bretfisher/examplevotingapp_vote:latest     docker-desktop   Running         Running 15 seconds ago              \n",
      "kj8e555nqn1a   voteapp_worker.1       bretfisher/examplevotingapp_worker:latest   docker-desktop   Running         Running 15 seconds ago              \n"
     ]
    }
   ],
   "source": [
    "!docker stack ps voteapp"
   ]
  },
  {
   "cell_type": "code",
   "execution_count": 12,
   "id": "a248fabf",
   "metadata": {},
   "outputs": [
    {
     "name": "stdout",
     "output_type": "stream",
     "text": [
      "CONTAINER ID   IMAGE                                       COMMAND                  CREATED              STATUS                    PORTS      NAMES\n",
      "41c05f529760   bretfisher/visualizer:latest                \"/sbin/tini -- node …\"   57 seconds ago       Up 57 seconds (healthy)   8080/tcp   voteapp_visualizer.1.qmc8seynxkox2iw0pjll9vscs\n",
      "7efd8e12d3e0   bretfisher/examplevotingapp_result:latest   \"/usr/bin/tini -- no…\"   59 seconds ago       Up 59 seconds             80/tcp     voteapp_result.1.uqjwx70p62t7smrwz95m4fua9\n",
      "d82eb5d95ebf   bretfisher/examplevotingapp_vote:latest     \"gunicorn app:app -b…\"   About a minute ago   Up 59 seconds             80/tcp     voteapp_vote.2.lj04khjr6s5u4bhu6z3vbod2l\n",
      "1c344051b4ff   bretfisher/examplevotingapp_vote:latest     \"gunicorn app:app -b…\"   About a minute ago   Up 59 seconds             80/tcp     voteapp_vote.1.rzrmek6u0m1wcwwttx2joznna\n",
      "79794ce8b88b   bretfisher/examplevotingapp_worker:latest   \"dotnet Worker.dll\"      About a minute ago   Up 59 seconds                        voteapp_worker.1.kj8e555nqn1a0z8b56qallno3\n",
      "63b0060f8369   redis:alpine                                \"docker-entrypoint.s…\"   About a minute ago   Up About a minute         6379/tcp   voteapp_redis.1.rcc9dnqvn11h6lgqlw7wpskin\n",
      "0db19c9f6ccb   postgres:9.4                                \"docker-entrypoint.s…\"   About a minute ago   Up About a minute         5432/tcp   voteapp_db.1.jff2sclye9c5en1g0glu3wl8i\n"
     ]
    }
   ],
   "source": [
    "!docker container ls"
   ]
  },
  {
   "cell_type": "code",
   "execution_count": 13,
   "id": "5eba80d6",
   "metadata": {},
   "outputs": [
    {
     "name": "stdout",
     "output_type": "stream",
     "text": [
      "ID             NAME                 MODE         REPLICAS   IMAGE                                       PORTS\n",
      "9t534nw148f0   voteapp_db           replicated   1/1        postgres:9.4                                \n",
      "bqh0okou5xxh   voteapp_redis        replicated   1/1        redis:alpine                                \n",
      "8dduz7z2xr9n   voteapp_result       replicated   1/1        bretfisher/examplevotingapp_result:latest   *:5001->80/tcp\n",
      "mnr6wfdgbhee   voteapp_visualizer   replicated   1/1        bretfisher/visualizer:latest                *:8080->8080/tcp\n",
      "n5gwd30awab2   voteapp_vote         replicated   2/2        bretfisher/examplevotingapp_vote:latest     *:5000->80/tcp, *:5002->80/tcp\n",
      "vh5508r7rc6t   voteapp_worker       replicated   1/1        bretfisher/examplevotingapp_worker:latest   \n"
     ]
    }
   ],
   "source": [
    "!docker stack services voteapp"
   ]
  },
  {
   "cell_type": "code",
   "execution_count": 14,
   "id": "47421b24",
   "metadata": {},
   "outputs": [
    {
     "name": "stdout",
     "output_type": "stream",
     "text": [
      "ID             NAME                   IMAGE                                       NODE             DESIRED STATE   CURRENT STATE                ERROR     PORTS\n",
      "jff2sclye9c5   voteapp_db.1           postgres:9.4                                docker-desktop   Running         Running 2 minutes ago                  \n",
      "rcc9dnqvn11h   voteapp_redis.1        redis:alpine                                docker-desktop   Running         Running about a minute ago             \n",
      "uqjwx70p62t7   voteapp_result.1       bretfisher/examplevotingapp_result:latest   docker-desktop   Running         Running about a minute ago             \n",
      "qmc8seynxkox   voteapp_visualizer.1   bretfisher/visualizer:latest                docker-desktop   Running         Running about a minute ago             \n",
      "rzrmek6u0m1w   voteapp_vote.1         bretfisher/examplevotingapp_vote:latest     docker-desktop   Running         Running about a minute ago             \n",
      "lj04khjr6s5u   voteapp_vote.2         bretfisher/examplevotingapp_vote:latest     docker-desktop   Running         Running about a minute ago             \n",
      "kj8e555nqn1a   voteapp_worker.1       bretfisher/examplevotingapp_worker:latest   docker-desktop   Running         Running about a minute ago             \n"
     ]
    }
   ],
   "source": [
    "!docker stack ps voteapp"
   ]
  },
  {
   "cell_type": "code",
   "execution_count": 15,
   "id": "c364de47",
   "metadata": {},
   "outputs": [
    {
     "name": "stdout",
     "output_type": "stream",
     "text": [
      "NETWORK ID     NAME               DRIVER    SCOPE\n",
      "u336yrlh0lc9   backend            overlay   swarm\n",
      "4fc569e790e6   bridge             bridge    local\n",
      "2660a26fab89   docker_gwbridge    bridge    local\n",
      "u5c4zkkckacq   drupal             overlay   swarm\n",
      "10e605d17f86   dude               bridge    local\n",
      "9u80k52pelsz   frontend           overlay   swarm\n",
      "64b83c98a870   host               host      local\n",
      "invfvfb9bowf   ingress            overlay   swarm\n",
      "69ad2b594473   my_app_net         bridge    local\n",
      "92ee42025ca3   none               null      local\n",
      "h5dswyj6p5zn   voteapp_backend    overlay   swarm\n",
      "np07q8tzmwm0   voteapp_frontend   overlay   swarm\n"
     ]
    }
   ],
   "source": [
    "!docker network ls"
   ]
  },
  {
   "cell_type": "code",
   "execution_count": 16,
   "id": "ebe69ae7",
   "metadata": {},
   "outputs": [
    {
     "name": "stdout",
     "output_type": "stream",
     "text": [
      "Updating service voteapp_db (id: 9t534nw148f0iuvif37u27x26)\n",
      "Updating service voteapp_vote (id: n5gwd30awab2p1mxb8pqbd62v)\n",
      "Updating service voteapp_result (id: 8dduz7z2xr9nugp8s9jpp6mkq)\n",
      "Updating service voteapp_worker (id: vh5508r7rc6tcvu6nheespbti)\n",
      "Updating service voteapp_visualizer (id: mnr6wfdgbheeqw6yqen8xqkfm)\n",
      "Updating service voteapp_redis (id: bqh0okou5xxhcj86j0d65y26l)\n"
     ]
    },
    {
     "name": "stderr",
     "output_type": "stream",
     "text": [
      "Since --detach=false was not specified, tasks will be created in the background.\n",
      "In a future release, --detach=false will become the default.\n"
     ]
    }
   ],
   "source": [
    "!docker stack deploy -c swarm-stack-1/example-voting-app-stack.yml voteapp"
   ]
  },
  {
   "cell_type": "code",
   "execution_count": null,
   "id": "1538a2ee",
   "metadata": {},
   "outputs": [],
   "source": []
  }
 ],
 "metadata": {
  "kernelspec": {
   "display_name": ".venv",
   "language": "python",
   "name": "python3"
  },
  "language_info": {
   "codemirror_mode": {
    "name": "ipython",
    "version": 3
   },
   "file_extension": ".py",
   "mimetype": "text/x-python",
   "name": "python",
   "nbconvert_exporter": "python",
   "pygments_lexer": "ipython3",
   "version": "3.13.5"
  }
 },
 "nbformat": 4,
 "nbformat_minor": 5
}
