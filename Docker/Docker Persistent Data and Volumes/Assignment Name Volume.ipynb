{
 "cells": [
  {
   "cell_type": "code",
   "execution_count": 1,
   "id": "db2ab1ab",
   "metadata": {},
   "outputs": [
    {
     "name": "stdout",
     "output_type": "stream",
     "text": [
      "psql\n"
     ]
    }
   ],
   "source": [
    "!docker volume create psql"
   ]
  },
  {
   "cell_type": "code",
   "execution_count": 2,
   "id": "80b6e628",
   "metadata": {},
   "outputs": [
    {
     "name": "stdout",
     "output_type": "stream",
     "text": [
      "DRIVER    VOLUME NAME\n",
      "local     psql\n"
     ]
    }
   ],
   "source": [
    "!docker volume ls"
   ]
  },
  {
   "cell_type": "code",
   "execution_count": 4,
   "id": "0b805e2f",
   "metadata": {},
   "outputs": [
    {
     "name": "stdout",
     "output_type": "stream",
     "text": [
      "[\n",
      "    {\n",
      "        \"CreatedAt\": \"2025-08-10T22:24:21Z\",\n",
      "        \"Driver\": \"local\",\n",
      "        \"Labels\": null,\n",
      "        \"Mountpoint\": \"/var/lib/docker/volumes/psql/_data\",\n",
      "        \"Name\": \"psql\",\n",
      "        \"Options\": null,\n",
      "        \"Scope\": \"local\"\n",
      "    }\n",
      "]\n"
     ]
    }
   ],
   "source": [
    "!docker volume inspect psql"
   ]
  },
  {
   "cell_type": "code",
   "execution_count": 4,
   "id": "18ab88d0",
   "metadata": {},
   "outputs": [
    {
     "name": "stdout",
     "output_type": "stream",
     "text": [
      "psql1\n"
     ]
    }
   ],
   "source": [
    "!docker container stop psql1"
   ]
  },
  {
   "cell_type": "code",
   "execution_count": 5,
   "id": "9193f2f6",
   "metadata": {},
   "outputs": [
    {
     "name": "stdout",
     "output_type": "stream",
     "text": [
      "ce8ade4283f2370e99af0c2e40e0fc561b4dfd80b69252c397170963621274da\n"
     ]
    }
   ],
   "source": [
    "!docker run -d --name psql1 -e POSTGRES_PASSWORD=mypassword -p 5433:5432 -v psql:/var/lib/postgresql/data postgres:15.1"
   ]
  },
  {
   "cell_type": "code",
   "execution_count": null,
   "id": "e6e85635",
   "metadata": {},
   "outputs": [
    {
     "name": "stdout",
     "output_type": "stream",
     "text": [
      "CONTAINER ID   IMAGE           COMMAND                  CREATED          STATUS          PORTS                                     NAMES\n",
      "edb923330129   postgres:15.1   \"docker-entrypoint.s…\"   10 seconds ago   Up 9 seconds    5432/tcp                                  psql1\n",
      "2367b5fdd97a   nginx           \"/docker-entrypoint.…\"   13 minutes ago   Up 13 minutes   0.0.0.0:8080->80/tcp, [::]:8080->80/tcp   nginx2\n",
      "6b099ff6ca43   nginx           \"/docker-entrypoint.…\"   14 minutes ago   Up 14 minutes   0.0.0.0:80->80/tcp, [::]:80->80/tcp       nginx\n"
     ]
    }
   ],
   "source": [
    "!docker container ls"
   ]
  },
  {
   "cell_type": "code",
   "execution_count": 7,
   "id": "f1f1a07a",
   "metadata": {},
   "outputs": [
    {
     "name": "stdout",
     "output_type": "stream",
     "text": [
      "Inserted row with ID: 1\n",
      "(1, 'Hello from Python')\n"
     ]
    }
   ],
   "source": [
    "import psycopg2\n",
    "\n",
    "# Connection settings (adjust if needed)\n",
    "conn = psycopg2.connect(\n",
    "    host=\"localhost\",       # or \"psql1\" if running from another container\n",
    "    port=5433,\n",
    "    user=\"postgres\",\n",
    "    password=\"mypassword\",\n",
    "    dbname=\"postgres\"\n",
    ")\n",
    "\n",
    "cur = conn.cursor()\n",
    "\n",
    "# Create table\n",
    "cur.execute(\"\"\"\n",
    "    CREATE TABLE IF NOT EXISTS test_table (\n",
    "        id SERIAL PRIMARY KEY,\n",
    "        name TEXT\n",
    "    )\n",
    "\"\"\")\n",
    "\n",
    "# Insert 1 record\n",
    "cur.execute(\"INSERT INTO test_table (name) VALUES (%s) RETURNING id\", (\"Hello from Python\",))\n",
    "new_id = cur.fetchone()[0]\n",
    "print(f\"Inserted row with ID: {new_id}\")\n",
    "\n",
    "# Commit the transaction\n",
    "conn.commit()\n",
    "\n",
    "# Select and print all rows\n",
    "cur.execute(\"SELECT id, name FROM test_table\")\n",
    "for row in cur.fetchall():\n",
    "    print(row)\n",
    "\n",
    "# Cleanup\n",
    "cur.close()\n",
    "conn.close()\n"
   ]
  },
  {
   "cell_type": "code",
   "execution_count": 8,
   "id": "d07a9354",
   "metadata": {},
   "outputs": [
    {
     "name": "stdout",
     "output_type": "stream",
     "text": [
      "\n",
      "PostgreSQL Database directory appears to contain a database; Skipping initialization\n",
      "\n"
     ]
    },
    {
     "name": "stderr",
     "output_type": "stream",
     "text": [
      "2025-08-10 22:34:50.464 UTC [1] LOG:  starting PostgreSQL 15.1 (Debian 15.1-1.pgdg110+1) on x86_64-pc-linux-gnu, compiled by gcc (Debian 10.2.1-6) 10.2.1 20210110, 64-bit\n",
      "2025-08-10 22:34:50.465 UTC [1] LOG:  listening on IPv4 address \"0.0.0.0\", port 5432\n",
      "2025-08-10 22:34:50.465 UTC [1] LOG:  listening on IPv6 address \"::\", port 5432\n",
      "2025-08-10 22:34:50.484 UTC [1] LOG:  listening on Unix socket \"/var/run/postgresql/.s.PGSQL.5432\"\n",
      "2025-08-10 22:34:50.506 UTC [29] LOG:  database system was shut down at 2025-08-10 22:34:34 UTC\n",
      "2025-08-10 22:34:50.519 UTC [1] LOG:  database system is ready to accept connections\n"
     ]
    }
   ],
   "source": [
    "!docker logs psql1"
   ]
  },
  {
   "cell_type": "code",
   "execution_count": 9,
   "id": "29195f95",
   "metadata": {},
   "outputs": [
    {
     "name": "stdout",
     "output_type": "stream",
     "text": [
      "psql1\n"
     ]
    }
   ],
   "source": [
    "!docker stop psql1"
   ]
  },
  {
   "cell_type": "code",
   "execution_count": 12,
   "id": "d6a45ae9",
   "metadata": {},
   "outputs": [
    {
     "name": "stdout",
     "output_type": "stream",
     "text": [
      "f03c9c4822e2d8a71d6646e80a08516aa7edd7105a173419eade56dfefc56bf2\n"
     ]
    },
    {
     "name": "stderr",
     "output_type": "stream",
     "text": [
      "Unable to find image 'postgres:15.2' locally\n",
      "15.2: Pulling from library/postgres\n",
      "3ef71fe7cece: Pulling fs layer\n",
      "7782b3e1be4b: Pulling fs layer\n",
      "247ec4ff783a: Pulling fs layer\n",
      "8cf43a35dc10: Pulling fs layer\n",
      "b3f90da87261: Pulling fs layer\n",
      "f7ead6900700: Pulling fs layer\n",
      "5f7e3ef14a3b: Pulling fs layer\n",
      "dd8e229a2a13: Pulling fs layer\n",
      "e7afdbe9a191: Pulling fs layer\n",
      "9e3ea8720c6d: Pulling fs layer\n",
      "1459ebb56be5: Pulling fs layer\n",
      "3595124f6861: Pulling fs layer\n",
      "2fac9b4aab2f: Pulling fs layer\n",
      "7782b3e1be4b: Download complete\n",
      "b3f90da87261: Download complete\n",
      "5f7e3ef14a3b: Download complete\n",
      "8cf43a35dc10: Download complete\n",
      "1459ebb56be5: Download complete\n",
      "2fac9b4aab2f: Download complete\n",
      "3595124f6861: Download complete\n",
      "247ec4ff783a: Download complete\n",
      "f7ead6900700: Download complete\n",
      "3ef71fe7cece: Download complete\n",
      "e7afdbe9a191: Download complete\n",
      "dd8e229a2a13: Download complete\n",
      "9e3ea8720c6d: Download complete\n",
      "9e3ea8720c6d: Pull complete\n",
      "7782b3e1be4b: Pull complete\n",
      "247ec4ff783a: Pull complete\n",
      "f7ead6900700: Pull complete\n",
      "3ef71fe7cece: Pull complete\n",
      "e7afdbe9a191: Pull complete\n",
      "1459ebb56be5: Pull complete\n",
      "3595124f6861: Pull complete\n",
      "dd8e229a2a13: Pull complete\n",
      "8cf43a35dc10: Pull complete\n",
      "2fac9b4aab2f: Pull complete\n",
      "b3f90da87261: Pull complete\n",
      "5f7e3ef14a3b: Pull complete\n",
      "Digest: sha256:78a275d4c891f7b3a33d3f1a78eda9f1d744954d9e20122bfdc97cdda25cddaf\n",
      "Status: Downloaded newer image for postgres:15.2\n"
     ]
    }
   ],
   "source": [
    "!docker run -d --name psql2 -e POSTGRES_PASSWORD=mypassword -p 5433:5432 -v psql:/var/lib/postgresql/data postgres:15.2"
   ]
  },
  {
   "cell_type": "code",
   "execution_count": 13,
   "id": "35a063f9",
   "metadata": {},
   "outputs": [
    {
     "name": "stdout",
     "output_type": "stream",
     "text": [
      "(1, 'Hello from Python')\n"
     ]
    }
   ],
   "source": [
    "import psycopg2\n",
    "\n",
    "# Connection settings (adjust if needed)\n",
    "conn = psycopg2.connect(\n",
    "    host=\"localhost\",       # or \"psql1\" if running from another container\n",
    "    port=5433,\n",
    "    user=\"postgres\",\n",
    "    password=\"mypassword\",\n",
    "    dbname=\"postgres\"\n",
    ")\n",
    "\n",
    "cur = conn.cursor()\n",
    "\n",
    "\n",
    "# Select and print all rows\n",
    "cur.execute(\"SELECT id, name FROM test_table\")\n",
    "for row in cur.fetchall():\n",
    "    print(row)\n",
    "\n",
    "# Cleanup\n",
    "cur.close()\n",
    "conn.close()\n"
   ]
  },
  {
   "cell_type": "code",
   "execution_count": null,
   "id": "545427a5",
   "metadata": {},
   "outputs": [],
   "source": []
  }
 ],
 "metadata": {
  "kernelspec": {
   "display_name": ".venv",
   "language": "python",
   "name": "python3"
  },
  "language_info": {
   "codemirror_mode": {
    "name": "ipython",
    "version": 3
   },
   "file_extension": ".py",
   "mimetype": "text/x-python",
   "name": "python",
   "nbconvert_exporter": "python",
   "pygments_lexer": "ipython3",
   "version": "3.13.5"
  }
 },
 "nbformat": 4,
 "nbformat_minor": 5
}
