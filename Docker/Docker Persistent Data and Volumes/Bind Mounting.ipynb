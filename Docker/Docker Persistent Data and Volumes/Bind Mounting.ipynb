{
 "cells": [
  {
   "cell_type": "code",
   "execution_count": 1,
   "id": "e68c19ce",
   "metadata": {},
   "outputs": [
    {
     "name": "stdout",
     "output_type": "stream",
     "text": [
      "6b099ff6ca432712f745b139c02b41286b37ff8da2836eb03f6936b6dde17716\n"
     ]
    }
   ],
   "source": [
    "!docker container run -d --name nginx -p 80:80 -v ./custom_Image:/usr/share/nginx/html nginx"
   ]
  },
  {
   "cell_type": "code",
   "execution_count": 2,
   "id": "0e6140da",
   "metadata": {},
   "outputs": [
    {
     "name": "stdout",
     "output_type": "stream",
     "text": [
      "2367b5fdd97a8c7a8db43d70ce5996e76255ae10e308c4be95387ea14c569b03\n"
     ]
    }
   ],
   "source": [
    "!docker container run -d --name nginx2 -p 8080:80 nginx"
   ]
  },
  {
   "cell_type": "code",
   "execution_count": 3,
   "id": "115e3c52",
   "metadata": {},
   "outputs": [
    {
     "name": "stderr",
     "output_type": "stream",
     "text": [
      "the input device is not a TTY.  If you are using mintty, try prefixing the command with 'winpty'\n"
     ]
    }
   ],
   "source": [
    "!docker container exec -it nginx bash"
   ]
  },
  {
   "cell_type": "code",
   "execution_count": null,
   "id": "ecbb0f82",
   "metadata": {},
   "outputs": [],
   "source": []
  }
 ],
 "metadata": {
  "kernelspec": {
   "display_name": "Python 3",
   "language": "python",
   "name": "python3"
  },
  "language_info": {
   "codemirror_mode": {
    "name": "ipython",
    "version": 3
   },
   "file_extension": ".py",
   "mimetype": "text/x-python",
   "name": "python",
   "nbconvert_exporter": "python",
   "pygments_lexer": "ipython3",
   "version": "3.13.5"
  }
 },
 "nbformat": 4,
 "nbformat_minor": 5
}
