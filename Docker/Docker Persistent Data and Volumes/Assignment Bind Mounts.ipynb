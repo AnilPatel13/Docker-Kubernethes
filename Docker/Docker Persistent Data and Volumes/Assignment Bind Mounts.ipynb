{
 "cells": [
  {
   "cell_type": "code",
   "execution_count": 5,
   "id": "b64381e1",
   "metadata": {},
   "outputs": [
    {
     "name": "stderr",
     "output_type": "stream",
     "text": [
      "#0 building with \"desktop-linux\" instance using docker driver\n",
      "\n",
      "#1 [internal] load build definition from Dockerfile\n",
      "#1 transferring dockerfile: 335B done\n",
      "#1 DONE 0.1s\n",
      "\n",
      "#2 [auth] library/python:pull token for registry-1.docker.io\n",
      "#2 DONE 0.0s\n",
      "\n",
      "#3 [internal] load metadata for docker.io/library/python:3.11-slim\n",
      "#3 DONE 0.8s\n",
      "\n",
      "#4 [internal] load .dockerignore\n",
      "#4 transferring context: 2B done\n",
      "#4 DONE 0.1s\n",
      "\n",
      "#5 [internal] load build context\n",
      "#5 DONE 0.0s\n",
      "\n",
      "#6 [1/4] FROM docker.io/library/python:3.11-slim@sha256:0ce77749ac83174a31d5e107ce0cfa6b28a2fd6b0615e029d9d84b39c48976ee\n",
      "#6 resolve docker.io/library/python:3.11-slim@sha256:0ce77749ac83174a31d5e107ce0cfa6b28a2fd6b0615e029d9d84b39c48976ee\n",
      "#6 resolve docker.io/library/python:3.11-slim@sha256:0ce77749ac83174a31d5e107ce0cfa6b28a2fd6b0615e029d9d84b39c48976ee 0.0s done\n",
      "#6 DONE 0.3s\n",
      "\n",
      "#5 [internal] load build context\n",
      "#5 transferring context: 55B done\n",
      "#5 DONE 0.1s\n",
      "\n",
      "#6 [1/4] FROM docker.io/library/python:3.11-slim@sha256:0ce77749ac83174a31d5e107ce0cfa6b28a2fd6b0615e029d9d84b39c48976ee\n",
      "#6 sha256:4085babbc5702254267393a22fc7f0d644efddd41dc328f81b1549c13a210b4e 0B / 249B 0.2s\n",
      "#6 sha256:4085babbc5702254267393a22fc7f0d644efddd41dc328f81b1549c13a210b4e 249B / 249B 0.2s done\n",
      "#6 sha256:b7b61708209ad8f9b9a11c61dc9df90f74c1e39eddc169936146259febc2ec24 4.19MB / 16.21MB 0.3s\n",
      "#6 sha256:abd846fa1cdb2ae1ef7731213cd4f0c40b05fdbeeaef9301a4dc9575b2088ece 0B / 3.51MB 0.2s\n",
      "#6 sha256:b7b61708209ad8f9b9a11c61dc9df90f74c1e39eddc169936146259febc2ec24 5.24MB / 16.21MB 0.5s\n",
      "#6 sha256:b7b61708209ad8f9b9a11c61dc9df90f74c1e39eddc169936146259febc2ec24 7.34MB / 16.21MB 0.6s\n",
      "#6 sha256:b7b61708209ad8f9b9a11c61dc9df90f74c1e39eddc169936146259febc2ec24 12.02MB / 16.21MB 0.8s\n",
      "#6 sha256:b7b61708209ad8f9b9a11c61dc9df90f74c1e39eddc169936146259febc2ec24 16.21MB / 16.21MB 0.9s done\n",
      "#6 sha256:abd846fa1cdb2ae1ef7731213cd4f0c40b05fdbeeaef9301a4dc9575b2088ece 1.05MB / 3.51MB 0.8s\n",
      "#6 sha256:abd846fa1cdb2ae1ef7731213cd4f0c40b05fdbeeaef9301a4dc9575b2088ece 2.10MB / 3.51MB 0.9s\n",
      "#6 sha256:abd846fa1cdb2ae1ef7731213cd4f0c40b05fdbeeaef9301a4dc9575b2088ece 3.15MB / 3.51MB 1.1s\n",
      "#6 sha256:abd846fa1cdb2ae1ef7731213cd4f0c40b05fdbeeaef9301a4dc9575b2088ece 3.51MB / 3.51MB 1.1s done\n",
      "#6 extracting sha256:abd846fa1cdb2ae1ef7731213cd4f0c40b05fdbeeaef9301a4dc9575b2088ece 0.1s done\n",
      "#6 DONE 1.5s\n",
      "\n",
      "#6 [1/4] FROM docker.io/library/python:3.11-slim@sha256:0ce77749ac83174a31d5e107ce0cfa6b28a2fd6b0615e029d9d84b39c48976ee\n",
      "#6 extracting sha256:b7b61708209ad8f9b9a11c61dc9df90f74c1e39eddc169936146259febc2ec24\n",
      "#6 extracting sha256:b7b61708209ad8f9b9a11c61dc9df90f74c1e39eddc169936146259febc2ec24 0.2s done\n",
      "#6 DONE 1.7s\n",
      "\n",
      "#6 [1/4] FROM docker.io/library/python:3.11-slim@sha256:0ce77749ac83174a31d5e107ce0cfa6b28a2fd6b0615e029d9d84b39c48976ee\n",
      "#6 extracting sha256:4085babbc5702254267393a22fc7f0d644efddd41dc328f81b1549c13a210b4e 0.0s done\n",
      "#6 DONE 1.8s\n",
      "\n",
      "#7 [2/4] WORKDIR /app\n",
      "#7 DONE 0.1s\n",
      "\n",
      "#8 [3/4] COPY requirements.txt .\n",
      "#8 DONE 0.1s\n",
      "\n",
      "#9 [4/4] RUN pip install --no-cache-dir -r requirements.txt\n",
      "#9 1.210 Collecting flask==3.0.3 (from -r requirements.txt (line 1))\n",
      "#9 1.301   Downloading flask-3.0.3-py3-none-any.whl.metadata (3.2 kB)\n",
      "#9 1.340 Collecting Werkzeug>=3.0.0 (from flask==3.0.3->-r requirements.txt (line 1))\n",
      "#9 1.355   Downloading werkzeug-3.1.3-py3-none-any.whl.metadata (3.7 kB)\n",
      "#9 1.382 Collecting Jinja2>=3.1.2 (from flask==3.0.3->-r requirements.txt (line 1))\n",
      "#9 1.397   Downloading jinja2-3.1.6-py3-none-any.whl.metadata (2.9 kB)\n",
      "#9 1.423 Collecting itsdangerous>=2.1.2 (from flask==3.0.3->-r requirements.txt (line 1))\n",
      "#9 1.439   Downloading itsdangerous-2.2.0-py3-none-any.whl.metadata (1.9 kB)\n",
      "#9 1.466 Collecting click>=8.1.3 (from flask==3.0.3->-r requirements.txt (line 1))\n",
      "#9 1.482   Downloading click-8.2.1-py3-none-any.whl.metadata (2.5 kB)\n",
      "#9 1.505 Collecting blinker>=1.6.2 (from flask==3.0.3->-r requirements.txt (line 1))\n",
      "#9 1.520   Downloading blinker-1.9.0-py3-none-any.whl.metadata (1.6 kB)\n",
      "#9 1.586 Collecting MarkupSafe>=2.0 (from Jinja2>=3.1.2->flask==3.0.3->-r requirements.txt (line 1))\n",
      "#9 1.604   Downloading MarkupSafe-3.0.2-cp311-cp311-manylinux_2_17_x86_64.manylinux2014_x86_64.whl.metadata (4.0 kB)\n",
      "#9 1.627 Downloading flask-3.0.3-py3-none-any.whl (101 kB)\n",
      "#9 1.654    ━━━━━━━━━━━━━━━━━━━━━━━━━━━━━━━━━━━━━━━━ 101.7/101.7 kB 4.5 MB/s eta 0:00:00\n",
      "#9 1.669 Downloading blinker-1.9.0-py3-none-any.whl (8.5 kB)\n",
      "#9 1.685 Downloading click-8.2.1-py3-none-any.whl (102 kB)\n",
      "#9 1.690    ━━━━━━━━━━━━━━━━━━━━━━━━━━━━━━━━━━━━━━━━ 102.2/102.2 kB 23.9 MB/s eta 0:00:00\n",
      "#9 1.707 Downloading itsdangerous-2.2.0-py3-none-any.whl (16 kB)\n",
      "#9 1.722 Downloading jinja2-3.1.6-py3-none-any.whl (134 kB)\n",
      "#9 1.736    ━━━━━━━━━━━━━━━━━━━━━━━━━━━━━━━━━━━━━━━━ 134.9/134.9 kB 10.3 MB/s eta 0:00:00\n",
      "#9 1.760 Downloading werkzeug-3.1.3-py3-none-any.whl (224 kB)\n",
      "#9 1.765    ━━━━━━━━━━━━━━━━━━━━━━━━━━━━━━━━━━━━━━━━ 224.5/224.5 kB 49.4 MB/s eta 0:00:00\n",
      "#9 1.780 Downloading MarkupSafe-3.0.2-cp311-cp311-manylinux_2_17_x86_64.manylinux2014_x86_64.whl (23 kB)\n",
      "#9 1.806 Installing collected packages: MarkupSafe, itsdangerous, click, blinker, Werkzeug, Jinja2, flask\n",
      "#9 2.076 Successfully installed Jinja2-3.1.6 MarkupSafe-3.0.2 Werkzeug-3.1.3 blinker-1.9.0 click-8.2.1 flask-3.0.3 itsdangerous-2.2.0\n",
      "#9 2.076 WARNING: Running pip as the 'root' user can result in broken permissions and conflicting behaviour with the system package manager. It is recommended to use a virtual environment instead: https://pip.pypa.io/warnings/venv\n",
      "#9 2.178 \n",
      "#9 2.178 [notice] A new release of pip is available: 24.0 -> 25.2\n",
      "#9 2.178 [notice] To update, run: pip install --upgrade pip\n",
      "#9 DONE 2.3s\n",
      "\n",
      "#10 exporting to image\n",
      "#10 exporting layers\n",
      "#10 exporting layers 0.7s done\n",
      "#10 exporting manifest sha256:8698cfa67d9fd224f532b7553c3ff63bb32e2d16f0f0cec137095ef8d7d2528c 0.0s done\n",
      "#10 exporting config sha256:b478eb1dcad72d3ead49407b2afe54027e8c8e23812ae7675c65227c9eb8ddcc 0.0s done\n",
      "#10 exporting attestation manifest sha256:c9a4bd5bca0948ac730db177be922fcb72cb82b1358aec8d99c0959142e28b91 0.1s done\n",
      "#10 exporting manifest list sha256:8d45516740d9b609ed4d0620938a9b7f2df3d4f2f6803d3d533d69b65822add5\n",
      "#10 exporting manifest list sha256:8d45516740d9b609ed4d0620938a9b7f2df3d4f2f6803d3d533d69b65822add5 0.0s done\n",
      "#10 naming to docker.io/library/flask-bind-demo:latest done\n",
      "#10 unpacking to docker.io/library/flask-bind-demo:latest\n",
      "#10 unpacking to docker.io/library/flask-bind-demo:latest 0.2s done\n",
      "#10 DONE 1.1s\n",
      "\n",
      "View build details: docker-desktop://dashboard/build/desktop-linux/desktop-linux/mcmklq8g8mr3yfc0nlgzojirw\n"
     ]
    }
   ],
   "source": [
    "!docker build -t flask-bind-demo ./bindmount-sample-1/."
   ]
  },
  {
   "cell_type": "code",
   "execution_count": 7,
   "id": "a24e4319",
   "metadata": {},
   "outputs": [
    {
     "name": "stdout",
     "output_type": "stream",
     "text": [
      "52d7db0357e7af6931a366410b94cf5f4f8049b89ace3622b25ce943a5e161ff\n"
     ]
    }
   ],
   "source": [
    "!docker run -d --name flask-app-bind-mount -p 5000:5000 -v bindmount-sample-1:/app flask-bind-demo"
   ]
  },
  {
   "cell_type": "code",
   "execution_count": 8,
   "id": "a3b72f86",
   "metadata": {},
   "outputs": [
    {
     "name": "stdout",
     "output_type": "stream",
     "text": [
      "flask-app-bind-mount\n"
     ]
    }
   ],
   "source": [
    "!docker rm -f flask-app-bind-mount 2>$null"
   ]
  },
  {
   "cell_type": "code",
   "execution_count": 10,
   "id": "b1d1bc8f",
   "metadata": {},
   "outputs": [
    {
     "name": "stdout",
     "output_type": "stream",
     "text": [
      "b1e8a9ea190dfe0731bdacb6521b694594184dbaaa2c163a51d98801f4ab9351\n"
     ]
    }
   ],
   "source": [
    "!docker run -d --name flask-app-bind-mount   -p 5000:5000 -e FLASK_APP=app.py  -e FLASK_RUN_HOST=0.0.0.0 -e FLASK_DEBUG=1 -v \"./bindmount-sample-1:/app\" flask-bind-demo"
   ]
  },
  {
   "cell_type": "code",
   "execution_count": null,
   "id": "0b776689",
   "metadata": {},
   "outputs": [],
   "source": []
  }
 ],
 "metadata": {
  "kernelspec": {
   "display_name": ".venv",
   "language": "python",
   "name": "python3"
  },
  "language_info": {
   "codemirror_mode": {
    "name": "ipython",
    "version": 3
   },
   "file_extension": ".py",
   "mimetype": "text/x-python",
   "name": "python",
   "nbconvert_exporter": "python",
   "pygments_lexer": "ipython3",
   "version": "3.13.5"
  }
 },
 "nbformat": 4,
 "nbformat_minor": 5
}
