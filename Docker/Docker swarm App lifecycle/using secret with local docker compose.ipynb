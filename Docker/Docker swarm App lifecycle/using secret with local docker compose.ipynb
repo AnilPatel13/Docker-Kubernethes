{
 "cells": [
  {
   "cell_type": "code",
   "execution_count": 10,
   "id": "fa2d5580",
   "metadata": {},
   "outputs": [
    {
     "name": "stdout",
     "output_type": "stream",
     "text": [
      "ID                            HOSTNAME         STATUS    AVAILABILITY   MANAGER STATUS   ENGINE VERSION\n",
      "u9xbv6cbhkau5g0hkdoxndro1 *   docker-desktop   Ready     Active         Leader           28.3.2\n"
     ]
    }
   ],
   "source": [
    "!docker node ls"
   ]
  },
  {
   "cell_type": "code",
   "execution_count": 4,
   "id": "36384976",
   "metadata": {},
   "outputs": [
    {
     "name": "stdout",
     "output_type": "stream",
     "text": [
      "ID                          NAME        DRIVER    CREATED       UPDATED\n",
      "vtsq7sn9foop4tzjwjc56oqwi   psql_pass             2 hours ago   2 hours ago\n",
      "luy57fso57ni3i8wpjlvpiaqz   psql_user             2 hours ago   2 hours ago\n"
     ]
    }
   ],
   "source": [
    "!docker secret ls"
   ]
  },
  {
   "cell_type": "code",
   "execution_count": 5,
   "id": "db579a17",
   "metadata": {},
   "outputs": [
    {
     "name": "stdout",
     "output_type": "stream",
     "text": [
      "vtsq7sn9foop4tzjwjc56oqwi\n",
      "luy57fso57ni3i8wpjlvpiaqz\n"
     ]
    },
    {
     "name": "stderr",
     "output_type": "stream",
     "text": [
      "Error response from daemon: secret z80ctrhv1hpb4om71230dq12s not found\n"
     ]
    }
   ],
   "source": [
    "!docker secret rm z80ctrhv1hpb4om71230dq12s   vtsq7sn9foop4tzjwjc56oqwi   luy57fso57ni3i8wpjlvpiaqz   "
   ]
  },
  {
   "cell_type": "code",
   "execution_count": 11,
   "id": "68a58032",
   "metadata": {},
   "outputs": [
    {
     "name": "stdout",
     "output_type": "stream",
     "text": [
      "Node left the swarm.\n"
     ]
    }
   ],
   "source": [
    "!docker swarm leave --force"
   ]
  },
  {
   "cell_type": "code",
   "execution_count": 12,
   "id": "01b84ba6",
   "metadata": {},
   "outputs": [
    {
     "name": "stderr",
     "output_type": "stream",
     "text": [
      "Error response from daemon: This node is not a swarm manager. Use \"docker swarm init\" or \"docker swarm join\" to connect this node to swarm and try again.\n"
     ]
    }
   ],
   "source": [
    "!docker node ls"
   ]
  },
  {
   "cell_type": "code",
   "execution_count": 16,
   "id": "2e1fff7c",
   "metadata": {},
   "outputs": [
    {
     "name": "stderr",
     "output_type": "stream",
     "text": [
      "time=\"2025-08-16T19:10:23-04:00\" level=warning msg=\"c:\\\\Users\\\\celia\\\\OneDrive\\\\Desktop\\\\Anil\\\\Docker-Kubernethes\\\\Docker swarm App lifecycle\\\\secrets-sample-2\\\\docker-compose.yml: the attribute `version` is obsolete, it will be ignored, please remove it to avoid potential confusion\"\n",
      " psql Pulling \n",
      " psql Pulled \n",
      " Network secrets-sample-2_default  Creating\n",
      " Network secrets-sample-2_default  Created\n",
      " Container secrets-sample-2-psql-1  Creating\n",
      " Container secrets-sample-2-psql-1  Created\n",
      " Container secrets-sample-2-psql-1  Starting\n",
      " Container secrets-sample-2-psql-1  Started\n"
     ]
    }
   ],
   "source": [
    "!docker-compose -f secrets-sample-2/docker-compose.yml up -d"
   ]
  },
  {
   "cell_type": "code",
   "execution_count": 18,
   "id": "13391ebd",
   "metadata": {},
   "outputs": [
    {
     "name": "stdout",
     "output_type": "stream",
     "text": [
      "dbuser\n"
     ]
    },
    {
     "name": "stderr",
     "output_type": "stream",
     "text": [
      "time=\"2025-08-16T19:11:15-04:00\" level=warning msg=\"c:\\\\Users\\\\celia\\\\OneDrive\\\\Desktop\\\\Anil\\\\Docker-Kubernethes\\\\Docker swarm App lifecycle\\\\secrets-sample-2\\\\docker-compose.yml: the attribute `version` is obsolete, it will be ignored, please remove it to avoid potential confusion\"\n"
     ]
    }
   ],
   "source": [
    "!docker-compose -f secrets-sample-2/docker-compose.yml exec psql cat /run/secrets/psql_user"
   ]
  },
  {
   "cell_type": "code",
   "execution_count": null,
   "id": "9fa1d471",
   "metadata": {},
   "outputs": [],
   "source": []
  },
  {
   "cell_type": "code",
   "execution_count": null,
   "id": "33f627c2",
   "metadata": {},
   "outputs": [],
   "source": []
  },
  {
   "cell_type": "code",
   "execution_count": null,
   "id": "d2b8efeb",
   "metadata": {},
   "outputs": [],
   "source": []
  },
  {
   "cell_type": "code",
   "execution_count": null,
   "id": "fd13b97d",
   "metadata": {},
   "outputs": [],
   "source": []
  },
  {
   "cell_type": "code",
   "execution_count": null,
   "id": "81d61b58",
   "metadata": {},
   "outputs": [],
   "source": []
  }
 ],
 "metadata": {
  "kernelspec": {
   "display_name": ".venv",
   "language": "python",
   "name": "python3"
  },
  "language_info": {
   "codemirror_mode": {
    "name": "ipython",
    "version": 3
   },
   "file_extension": ".py",
   "mimetype": "text/x-python",
   "name": "python",
   "nbconvert_exporter": "python",
   "pygments_lexer": "ipython3",
   "version": "3.13.5"
  }
 },
 "nbformat": 4,
 "nbformat_minor": 5
}
