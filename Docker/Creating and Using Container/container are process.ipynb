{
 "cells": [
  {
   "cell_type": "code",
   "execution_count": 1,
   "id": "6c2b31ea",
   "metadata": {},
   "outputs": [
    {
     "name": "stdout",
     "output_type": "stream",
     "text": [
      "ed3f3b333b15a67069aa5a1c53e6e49c3dfa8d94fd4df8131594bb687ef53d04\n"
     ]
    },
    {
     "name": "stderr",
     "output_type": "stream",
     "text": [
      "Unable to find image 'mongo:latest' locally\n",
      "latest: Pulling from library/mongo\n",
      "4e58ed1e1297: Pulling fs layer\n",
      "be1ecb1b5145: Pulling fs layer\n",
      "75d3308c8da5: Pulling fs layer\n",
      "e6d0bf56c1cc: Pulling fs layer\n",
      "32f112e3802c: Pulling fs layer\n",
      "042b69506939: Pulling fs layer\n",
      "93ce1ce52c19: Pulling fs layer\n",
      "67bb4a146246: Pulling fs layer\n",
      "be1ecb1b5145: Download complete\n",
      "4e58ed1e1297: Download complete\n",
      "93ce1ce52c19: Download complete\n",
      "67bb4a146246: Download complete\n",
      "75d3308c8da5: Download complete\n",
      "042b69506939: Download complete\n",
      "32f112e3802c: Download complete\n",
      "32f112e3802c: Pull complete\n",
      "93ce1ce52c19: Pull complete\n",
      "042b69506939: Pull complete\n",
      "be1ecb1b5145: Pull complete\n",
      "67bb4a146246: Pull complete\n",
      "75d3308c8da5: Pull complete\n",
      "e6d0bf56c1cc: Download complete\n",
      "4e58ed1e1297: Pull complete\n",
      "e6d0bf56c1cc: Pull complete\n",
      "Digest: sha256:a6bda40d00e56682aeaa1bfc88e024b7dd755782c575c02760104fe02010f94f\n",
      "Status: Downloaded newer image for mongo:latest\n"
     ]
    }
   ],
   "source": [
    "!docker container run --name mongo --detach mongo"
   ]
  },
  {
   "cell_type": "code",
   "execution_count": 16,
   "id": "f9db90e5",
   "metadata": {},
   "outputs": [
    {
     "name": "stdout",
     "output_type": "stream",
     "text": [
      "UID                 PID                 PPID                C                   STIME               TTY                 TIME                CMD\n",
      "999                 1086                1064                0                   16:10               ?                   00:00:02            mongod --bind_ip_all\n"
     ]
    }
   ],
   "source": [
    "!docker top mongo"
   ]
  },
  {
   "cell_type": "code",
   "execution_count": 17,
   "id": "f1c5a9a7",
   "metadata": {},
   "outputs": [
    {
     "name": "stdout",
     "output_type": "stream",
     "text": [
      "USER         PID %CPU %MEM    VSZ   RSS TTY      STAT START   TIME COMMAND\n",
      "mongodb        1  0.4  0.5 3703200 181580 ?      Ssl  16:10   0:02 mongod --bind_ip_all\n",
      "root          67 25.0  0.0   7892  3840 ?        Rs   16:21   0:00 ps aux\n"
     ]
    }
   ],
   "source": [
    "!docker exec mongo ps aux"
   ]
  },
  {
   "cell_type": "code",
   "execution_count": 18,
   "id": "61eb01fe",
   "metadata": {},
   "outputs": [
    {
     "name": "stdout",
     "output_type": "stream",
     "text": [
      "mongo\n"
     ]
    }
   ],
   "source": [
    "!docker stop mongo"
   ]
  },
  {
   "cell_type": "code",
   "execution_count": 19,
   "id": "216b6fc1",
   "metadata": {},
   "outputs": [
    {
     "name": "stderr",
     "output_type": "stream",
     "text": [
      "Error response from daemon: container ed3f3b333b15a67069aa5a1c53e6e49c3dfa8d94fd4df8131594bb687ef53d04 is not running\n"
     ]
    }
   ],
   "source": [
    "!docker top mongo"
   ]
  },
  {
   "cell_type": "code",
   "execution_count": 20,
   "id": "6ad5893e",
   "metadata": {},
   "outputs": [
    {
     "name": "stdout",
     "output_type": "stream",
     "text": [
      "mongo\n"
     ]
    }
   ],
   "source": [
    "!docker start mongo"
   ]
  },
  {
   "cell_type": "code",
   "execution_count": null,
   "id": "de10b340",
   "metadata": {},
   "outputs": [],
   "source": []
  },
  {
   "cell_type": "code",
   "execution_count": 21,
   "id": "a83d3282",
   "metadata": {},
   "outputs": [
    {
     "name": "stdout",
     "output_type": "stream",
     "text": [
      "UID                 PID                 PPID                C                   STIME               TTY                 TIME                CMD\n",
      "999                 1273                1251                2                   16:22               ?                   00:00:00            mongod --bind_ip_all\n"
     ]
    }
   ],
   "source": [
    "!docker top mongo"
   ]
  },
  {
   "cell_type": "code",
   "execution_count": null,
   "id": "03c24e85",
   "metadata": {},
   "outputs": [],
   "source": []
  }
 ],
 "metadata": {
  "kernelspec": {
   "display_name": "Python 3",
   "language": "python",
   "name": "python3"
  },
  "language_info": {
   "codemirror_mode": {
    "name": "ipython",
    "version": 3
   },
   "file_extension": ".py",
   "mimetype": "text/x-python",
   "name": "python",
   "nbconvert_exporter": "python",
   "pygments_lexer": "ipython3",
   "version": "3.13.5"
  }
 },
 "nbformat": 4,
 "nbformat_minor": 5
}
