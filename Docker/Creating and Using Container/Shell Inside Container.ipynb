{
 "cells": [
  {
   "cell_type": "code",
   "execution_count": 1,
   "id": "340656ad",
   "metadata": {},
   "outputs": [
    {
     "name": "stdout",
     "output_type": "stream",
     "text": [
      "CONTAINER ID   IMAGE     COMMAND                  CREATED         STATUS         PORTS                 NAMES\n",
      "9cf1c60dd774   mysql     \"docker-entrypoint.s…\"   4 minutes ago   Up 4 minutes   3306/tcp, 33060/tcp   mysql-db\n",
      "ef146c5eb1d2   nginx     \"/docker-entrypoint.…\"   5 minutes ago   Up 5 minutes   80/tcp                nginx\n"
     ]
    }
   ],
   "source": [
    "!docker container ls"
   ]
  },
  {
   "cell_type": "code",
   "execution_count": 3,
   "id": "3b7acb0a",
   "metadata": {},
   "outputs": [
    {
     "name": "stdout",
     "output_type": "stream",
     "text": [
      "Usage:  docker container run [OPTIONS] IMAGE [COMMAND] [ARG...]\n",
      "\n",
      "Create and run a new container from an image\n",
      "\n",
      "Aliases:\n",
      "  docker container run, docker run\n",
      "\n",
      "Options:\n",
      "      --add-host list                    Add a custom host-to-IP mapping\n",
      "                                         (host:ip)\n",
      "      --annotation map                   Add an annotation to the\n",
      "                                         container (passed through to the\n",
      "                                         OCI runtime) (default map[])\n",
      "  -a, --attach list                      Attach to STDIN, STDOUT or STDERR\n",
      "      --blkio-weight uint16              Block IO (relative weight),\n",
      "                                         between 10 and 1000, or 0 to\n",
      "                                         disable (default 0)\n",
      "      --blkio-weight-device list         Block IO weight (relative device\n",
      "                                         weight) (default [])\n",
      "      --cap-add list                     Add Linux capabilities\n",
      "      --cap-drop list                    Drop Linux capabilities\n",
      "      --cgroup-parent string             Optional parent cgroup for the\n",
      "                                         container\n",
      "      --cgroupns string                  Cgroup namespace to use\n",
      "                                         (host|private)\n",
      "                                         'host':    Run the container in\n",
      "                                         the Docker host's cgroup\n",
      "                                         namespace\n",
      "                                         'private': Run the container in\n",
      "                                         its own private cgroup namespace\n",
      "                                         '':        Use the cgroup\n",
      "                                         namespace as configured by the\n",
      "                                                    default-cgroupns-mode\n",
      "                                         option on the daemon (default)\n",
      "      --cidfile string                   Write the container ID to the file\n",
      "      --cpu-period int                   Limit CPU CFS (Completely Fair\n",
      "                                         Scheduler) period\n",
      "      --cpu-quota int                    Limit CPU CFS (Completely Fair\n",
      "                                         Scheduler) quota\n",
      "      --cpu-rt-period int                Limit CPU real-time period in\n",
      "                                         microseconds\n",
      "      --cpu-rt-runtime int               Limit CPU real-time runtime in\n",
      "                                         microseconds\n",
      "  -c, --cpu-shares int                   CPU shares (relative weight)\n",
      "      --cpus decimal                     Number of CPUs\n",
      "      --cpuset-cpus string               CPUs in which to allow execution\n",
      "                                         (0-3, 0,1)\n",
      "      --cpuset-mems string               MEMs in which to allow execution\n",
      "                                         (0-3, 0,1)\n",
      "  -d, --detach                           Run container in background and\n",
      "                                         print container ID\n",
      "      --detach-keys string               Override the key sequence for\n",
      "                                         detaching a container\n",
      "      --device list                      Add a host device to the container\n",
      "      --device-cgroup-rule list          Add a rule to the cgroup allowed\n",
      "                                         devices list\n",
      "      --device-read-bps list             Limit read rate (bytes per\n",
      "                                         second) from a device (default [])\n",
      "      --device-read-iops list            Limit read rate (IO per second)\n",
      "                                         from a device (default [])\n",
      "      --device-write-bps list            Limit write rate (bytes per\n",
      "                                         second) to a device (default [])\n",
      "      --device-write-iops list           Limit write rate (IO per second)\n",
      "                                         to a device (default [])\n",
      "      --disable-content-trust            Skip image verification (default\n",
      "                                         true)\n",
      "      --dns list                         Set custom DNS servers\n",
      "      --dns-option list                  Set DNS options\n",
      "      --dns-search list                  Set custom DNS search domains\n",
      "      --domainname string                Container NIS domain name\n",
      "      --entrypoint string                Overwrite the default ENTRYPOINT\n",
      "                                         of the image\n",
      "  -e, --env list                         Set environment variables\n",
      "      --env-file list                    Read in a file of environment\n",
      "                                         variables\n",
      "      --expose list                      Expose a port or a range of ports\n",
      "      --gpus gpu-request                 GPU devices to add to the\n",
      "                                         container ('all' to pass all GPUs)\n",
      "      --group-add list                   Add additional groups to join\n",
      "      --health-cmd string                Command to run to check health\n",
      "      --health-interval duration         Time between running the check\n",
      "                                         (ms|s|m|h) (default 0s)\n",
      "      --health-retries int               Consecutive failures needed to\n",
      "                                         report unhealthy\n",
      "      --health-start-interval duration   Time between running the check\n",
      "                                         during the start period\n",
      "                                         (ms|s|m|h) (default 0s)\n",
      "      --health-start-period duration     Start period for the container\n",
      "                                         to initialize before starting\n",
      "                                         health-retries countdown\n",
      "                                         (ms|s|m|h) (default 0s)\n",
      "      --health-timeout duration          Maximum time to allow one check\n",
      "                                         to run (ms|s|m|h) (default 0s)\n",
      "      --help                             Print usage\n",
      "  -h, --hostname string                  Container host name\n",
      "      --init                             Run an init inside the container\n",
      "                                         that forwards signals and reaps\n",
      "                                         processes\n",
      "  -i, --interactive                      Keep STDIN open even if not attached\n",
      "      --ip string                        IPv4 address (e.g., 172.30.100.104)\n",
      "      --ip6 string                       IPv6 address (e.g., 2001:db8::33)\n",
      "      --ipc string                       IPC mode to use\n",
      "      --isolation string                 Container isolation technology\n",
      "      --kernel-memory bytes              Kernel memory limit\n",
      "  -l, --label list                       Set meta data on a container\n",
      "      --label-file list                  Read in a line delimited file of\n",
      "                                         labels\n",
      "      --link list                        Add link to another container\n",
      "      --link-local-ip list               Container IPv4/IPv6 link-local\n",
      "                                         addresses\n",
      "      --log-driver string                Logging driver for the container\n",
      "      --log-opt list                     Log driver options\n",
      "      --mac-address string               Container MAC address (e.g.,\n",
      "                                         92:d0:c6:0a:29:33)\n",
      "  -m, --memory bytes                     Memory limit\n",
      "      --memory-reservation bytes         Memory soft limit\n",
      "      --memory-swap bytes                Swap limit equal to memory plus\n",
      "                                         swap: '-1' to enable unlimited swap\n",
      "      --memory-swappiness int            Tune container memory swappiness\n",
      "                                         (0 to 100) (default -1)\n",
      "      --mount mount                      Attach a filesystem mount to the\n",
      "                                         container\n",
      "      --name string                      Assign a name to the container\n",
      "      --network network                  Connect a container to a network\n",
      "      --network-alias list               Add network-scoped alias for the\n",
      "                                         container\n",
      "      --no-healthcheck                   Disable any container-specified\n",
      "                                         HEALTHCHECK\n",
      "      --oom-kill-disable                 Disable OOM Killer\n",
      "      --oom-score-adj int                Tune host's OOM preferences\n",
      "                                         (-1000 to 1000)\n",
      "      --pid string                       PID namespace to use\n",
      "      --pids-limit int                   Tune container pids limit (set\n",
      "                                         -1 for unlimited)\n",
      "      --platform string                  Set platform if server is\n",
      "                                         multi-platform capable\n",
      "      --privileged                       Give extended privileges to this\n",
      "                                         container\n",
      "  -p, --publish list                     Publish a container's port(s) to\n",
      "                                         the host\n",
      "  -P, --publish-all                      Publish all exposed ports to\n",
      "                                         random ports\n",
      "      --pull string                      Pull image before running\n",
      "                                         (\"always\", \"missing\", \"never\")\n",
      "                                         (default \"missing\")\n",
      "  -q, --quiet                            Suppress the pull output\n",
      "      --read-only                        Mount the container's root\n",
      "                                         filesystem as read only\n",
      "      --restart string                   Restart policy to apply when a\n",
      "                                         container exits (default \"no\")\n",
      "      --rm                               Automatically remove the\n",
      "                                         container and its associated\n",
      "                                         anonymous volumes when it exits\n",
      "      --runtime string                   Runtime to use for this container\n",
      "      --security-opt list                Security Options\n",
      "      --shm-size bytes                   Size of /dev/shm\n",
      "      --sig-proxy                        Proxy received signals to the\n",
      "                                         process (default true)\n",
      "      --stop-signal string               Signal to stop the container\n",
      "      --stop-timeout int                 Timeout (in seconds) to stop a\n",
      "                                         container\n",
      "      --storage-opt list                 Storage driver options for the\n",
      "                                         container\n",
      "      --sysctl map                       Sysctl options (default map[])\n",
      "      --tmpfs list                       Mount a tmpfs directory\n",
      "  -t, --tty                              Allocate a pseudo-TTY\n",
      "      --ulimit ulimit                    Ulimit options (default [])\n",
      "      --use-api-socket                   Bind mount Docker API socket and\n",
      "                                         required auth\n",
      "  -u, --user string                      Username or UID (format:\n",
      "                                         <name|uid>[:<group|gid>])\n",
      "      --userns string                    User namespace to use\n",
      "      --uts string                       UTS namespace to use\n",
      "  -v, --volume list                      Bind mount a volume\n",
      "      --volume-driver string             Optional volume driver for the\n",
      "                                         container\n",
      "      --volumes-from list                Mount volumes from the specified\n",
      "                                         container(s)\n",
      "  -w, --workdir string                   Working directory inside the\n",
      "                                         container\n"
     ]
    }
   ],
   "source": [
    "!docker container run --help"
   ]
  },
  {
   "cell_type": "code",
   "execution_count": 4,
   "id": "d0c9eaf7",
   "metadata": {},
   "outputs": [
    {
     "name": "stderr",
     "output_type": "stream",
     "text": [
      "the input device is not a TTY.  If you are using mintty, try prefixing the command with 'winpty'\n"
     ]
    }
   ],
   "source": [
    "!docker container run -it --name proxy nginx bash"
   ]
  },
  {
   "cell_type": "code",
   "execution_count": 5,
   "id": "633d3713",
   "metadata": {},
   "outputs": [
    {
     "name": "stdout",
     "output_type": "stream",
     "text": [
      "CONTAINER ID   IMAGE     COMMAND                  CREATED              STATUS                      PORTS                 NAMES\n",
      "d4f563a2e4ad   nginx     \"/docker-entrypoint.…\"   About a minute ago   Exited (0) 16 seconds ago                         proxy\n",
      "9cf1c60dd774   mysql     \"docker-entrypoint.s…\"   10 minutes ago       Up 10 minutes               3306/tcp, 33060/tcp   mysql-db\n",
      "ef146c5eb1d2   nginx     \"/docker-entrypoint.…\"   10 minutes ago       Up 10 minutes               80/tcp                nginx\n"
     ]
    }
   ],
   "source": [
    "!docker container ls -a"
   ]
  },
  {
   "cell_type": "code",
   "execution_count": 6,
   "id": "92c7aa5b",
   "metadata": {},
   "outputs": [
    {
     "name": "stderr",
     "output_type": "stream",
     "text": [
      "the input device is not a TTY.  If you are using mintty, try prefixing the command with 'winpty'\n"
     ]
    }
   ],
   "source": [
    "!docker container run -it --name ubuntu ubuntu"
   ]
  },
  {
   "cell_type": "code",
   "execution_count": 7,
   "id": "00677ba5",
   "metadata": {},
   "outputs": [
    {
     "name": "stdout",
     "output_type": "stream",
     "text": [
      "CONTAINER ID   IMAGE     COMMAND                  CREATED              STATUS                       PORTS                 NAMES\n",
      "4d5e55c5d1ff   ubuntu    \"/bin/bash\"              About a minute ago   Exited (130) 9 seconds ago                         ubuntu\n",
      "d4f563a2e4ad   nginx     \"/docker-entrypoint.…\"   4 minutes ago        Exited (0) 3 minutes ago                           proxy\n",
      "9cf1c60dd774   mysql     \"docker-entrypoint.s…\"   13 minutes ago       Up 13 minutes                3306/tcp, 33060/tcp   mysql-db\n",
      "ef146c5eb1d2   nginx     \"/docker-entrypoint.…\"   13 minutes ago       Up 13 minutes                80/tcp                nginx\n"
     ]
    }
   ],
   "source": [
    "!docker container ls -a"
   ]
  },
  {
   "cell_type": "code",
   "execution_count": 8,
   "id": "c772307b",
   "metadata": {},
   "outputs": [
    {
     "name": "stdout",
     "output_type": "stream",
     "text": [
      "Usage:  docker container start [OPTIONS] CONTAINER [CONTAINER...]\n",
      "\n",
      "Start one or more stopped containers\n",
      "\n",
      "Aliases:\n",
      "  docker container start, docker start\n",
      "\n",
      "Options:\n",
      "  -a, --attach               Attach STDOUT/STDERR and forward signals\n",
      "      --detach-keys string   Override the key sequence for detaching a\n",
      "                             container\n",
      "  -i, --interactive          Attach container's STDIN\n"
     ]
    }
   ],
   "source": [
    "!docker container start --help"
   ]
  },
  {
   "cell_type": "code",
   "execution_count": 10,
   "id": "7cf71403",
   "metadata": {},
   "outputs": [
    {
     "name": "stdout",
     "output_type": "stream",
     "text": [
      "^C\n"
     ]
    },
    {
     "name": "stdout",
     "output_type": "stream",
     "text": [
      "\u001b[?2004h\u001b]0;root@4d5e55c5d1ff: /\u0007root@4d5e55c5d1ff:/# \n"
     ]
    }
   ],
   "source": [
    "!docker container start -ai ubuntu"
   ]
  },
  {
   "cell_type": "code",
   "execution_count": 11,
   "id": "6a6870d7",
   "metadata": {},
   "outputs": [
    {
     "name": "stderr",
     "output_type": "stream",
     "text": [
      "the input device is not a TTY.  If you are using mintty, try prefixing the command with 'winpty'\n"
     ]
    }
   ],
   "source": [
    "!docker container exec -it mysql-db bash"
   ]
  },
  {
   "cell_type": "code",
   "execution_count": 12,
   "id": "29e3adcd",
   "metadata": {},
   "outputs": [
    {
     "name": "stderr",
     "output_type": "stream",
     "text": [
      "the input device is not a TTY.  If you are using mintty, try prefixing the command with 'winpty'\n"
     ]
    }
   ],
   "source": [
    "!docker container run -it alpine sh"
   ]
  },
  {
   "cell_type": "code",
   "execution_count": null,
   "id": "fa6ba61e",
   "metadata": {},
   "outputs": [],
   "source": []
  }
 ],
 "metadata": {
  "kernelspec": {
   "display_name": "Python 3",
   "language": "python",
   "name": "python3"
  },
  "language_info": {
   "codemirror_mode": {
    "name": "ipython",
    "version": 3
   },
   "file_extension": ".py",
   "mimetype": "text/x-python",
   "name": "python",
   "nbconvert_exporter": "python",
   "pygments_lexer": "ipython3",
   "version": "3.13.5"
  }
 },
 "nbformat": 4,
 "nbformat_minor": 5
}
