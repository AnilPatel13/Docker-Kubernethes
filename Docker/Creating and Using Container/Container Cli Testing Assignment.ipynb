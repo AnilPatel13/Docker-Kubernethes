{
 "cells": [
  {
   "cell_type": "code",
   "execution_count": 1,
   "id": "a58a599d",
   "metadata": {},
   "outputs": [
    {
     "name": "stderr",
     "output_type": "stream",
     "text": [
      "the input device is not a TTY.  If you are using mintty, try prefixing the command with 'winpty'\n"
     ]
    }
   ],
   "source": [
    "!docker container run --rm -it centos:7 bash"
   ]
  },
  {
   "cell_type": "code",
   "execution_count": 2,
   "id": "948ccbbb",
   "metadata": {},
   "outputs": [
    {
     "name": "stderr",
     "output_type": "stream",
     "text": [
      "the input device is not a TTY.  If you are using mintty, try prefixing the command with 'winpty'\n"
     ]
    }
   ],
   "source": [
    "!docker container run --rm -it ubuntu:14.04 bash"
   ]
  },
  {
   "cell_type": "code",
   "execution_count": 3,
   "id": "2080bbbc",
   "metadata": {},
   "outputs": [
    {
     "name": "stdout",
     "output_type": "stream",
     "text": [
      "CONTAINER ID   IMAGE             COMMAND                  CREATED             STATUS                           PORTS                                 NAMES\n",
      "8aa743090bbd   centos:7.9.2009   \"sh\"                     6 minutes ago       Up 6 minutes                                                           dazzling_mccarthy\n",
      "f450a6f7df44   ubuntu:14.04      \"bash\"                   11 minutes ago      Up 11 minutes                                                          tender_poincare\n",
      "471856a221c8   nginx             \"/docker-entrypoint.…\"   30 minutes ago      Up 30 minutes                    80/tcp                                my_nginx\n",
      "adc831b3718e   nginx             \"/docker-entrypoint.…\"   51 minutes ago      Up 51 minutes                    80/tcp                                new_nginx\n",
      "1bf0ffecf0dd   nginx             \"/docker-entrypoint.…\"   About an hour ago   Up About an hour                 0.0.0.0:80->80/tcp, [::]:80->80/tcp   webhost\n",
      "100f40d7e745   alpine            \"sh\"                     About an hour ago   Exited (130) About an hour ago                                         sad_wilson\n",
      "4d912096c29a   alpine            \"bash\"                   About an hour ago   Created                                                                unruffled_dewdney\n",
      "4d5e55c5d1ff   ubuntu            \"/bin/bash\"              About an hour ago   Exited (0) About an hour ago                                           ubuntu\n",
      "d4f563a2e4ad   nginx             \"/docker-entrypoint.…\"   2 hours ago         Exited (0) 2 hours ago                                                 proxy\n",
      "9cf1c60dd774   mysql             \"docker-entrypoint.s…\"   2 hours ago         Up 2 hours                       3306/tcp, 33060/tcp                   mysql-db\n",
      "ef146c5eb1d2   nginx             \"/docker-entrypoint.…\"   2 hours ago         Up 2 hours                       80/tcp                                nginx\n"
     ]
    }
   ],
   "source": [
    "!docker ps -a"
   ]
  },
  {
   "cell_type": "markdown",
   "id": "aee0767a",
   "metadata": {},
   "source": [
    "# Assignmenet DNS ROUND RObin Test"
   ]
  },
  {
   "cell_type": "code",
   "execution_count": 4,
   "id": "20a4c11b",
   "metadata": {},
   "outputs": [
    {
     "name": "stdout",
     "output_type": "stream",
     "text": [
      "NETWORK ID     NAME         DRIVER    SCOPE\n",
      "ec11ec405b3f   bridge       bridge    local\n",
      "64b83c98a870   host         host      local\n",
      "69ad2b594473   my_app_net   bridge    local\n",
      "92ee42025ca3   none         null      local\n"
     ]
    }
   ],
   "source": [
    "!docker network ls"
   ]
  },
  {
   "cell_type": "code",
   "execution_count": 5,
   "id": "604fcb21",
   "metadata": {},
   "outputs": [
    {
     "name": "stdout",
     "output_type": "stream",
     "text": [
      "10e605d17f86a9c7cc84acf70619515dc378d2081693537fa51bc0b20a658561\n"
     ]
    }
   ],
   "source": [
    "!docker network create dude"
   ]
  },
  {
   "cell_type": "code",
   "execution_count": 6,
   "id": "19c68b2e",
   "metadata": {},
   "outputs": [
    {
     "name": "stdout",
     "output_type": "stream",
     "text": [
      "NETWORK ID     NAME         DRIVER    SCOPE\n",
      "ec11ec405b3f   bridge       bridge    local\n",
      "10e605d17f86   dude         bridge    local\n",
      "64b83c98a870   host         host      local\n",
      "69ad2b594473   my_app_net   bridge    local\n",
      "92ee42025ca3   none         null      local\n"
     ]
    }
   ],
   "source": [
    "!docker network ls"
   ]
  },
  {
   "cell_type": "code",
   "execution_count": 7,
   "id": "cc7b77f6",
   "metadata": {},
   "outputs": [
    {
     "name": "stdout",
     "output_type": "stream",
     "text": [
      "6baa08bc0a14e6611dfca97bd7237eb90555c3f1d2f825592cd4bbcb689ccedd\n"
     ]
    },
    {
     "name": "stderr",
     "output_type": "stream",
     "text": [
      "Unable to find image 'elasticsearch:2' locally\n",
      "2: Pulling from library/elasticsearch\n",
      "2bf2a528ae9a: Pulling fs layer\n",
      "65dd87f6620b: Pulling fs layer\n",
      "1b1cec2222c9: Pulling fs layer\n",
      "78a183a01190: Pulling fs layer\n",
      "6d94b96bbcd0: Pulling fs layer\n",
      "59ff4ce9df68: Pulling fs layer\n",
      "1a4499c85f97: Pulling fs layer\n",
      "a27899b7a5b5: Pulling fs layer\n",
      "1976bc3ee432: Pulling fs layer\n",
      "b0fc7d2c927a: Pulling fs layer\n",
      "5cee356eda6b: Pulling fs layer\n",
      "89d3385f0fd3: Pulling fs layer\n",
      "05d1a5232b46: Pulling fs layer\n",
      "6f5bf40725fd: Pulling fs layer\n",
      "2c9d39b4bfc1: Pulling fs layer\n",
      "2bf2a528ae9a: Download complete\n",
      "1b1cec2222c9: Download complete\n",
      "6d94b96bbcd0: Download complete\n",
      "6f5bf40725fd: Download complete\n",
      "78a183a01190: Download complete\n",
      "1a4499c85f97: Download complete\n",
      "59ff4ce9df68: Download complete\n",
      "1976bc3ee432: Download complete\n",
      "65dd87f6620b: Download complete\n",
      "a27899b7a5b5: Download complete\n",
      "89d3385f0fd3: Download complete\n",
      "5cee356eda6b: Download complete\n",
      "2c9d39b4bfc1: Download complete\n",
      "05d1a5232b46: Download complete\n",
      "05d1a5232b46: Pull complete\n",
      "5cee356eda6b: Pull complete\n",
      "89d3385f0fd3: Pull complete\n",
      "78a183a01190: Pull complete\n",
      "65dd87f6620b: Pull complete\n",
      "1a4499c85f97: Pull complete\n",
      "2c9d39b4bfc1: Pull complete\n",
      "1b1cec2222c9: Pull complete\n",
      "59ff4ce9df68: Pull complete\n",
      "1976bc3ee432: Pull complete\n",
      "a27899b7a5b5: Pull complete\n",
      "b0fc7d2c927a: Download complete\n",
      "b0fc7d2c927a: Pull complete\n",
      "6d94b96bbcd0: Pull complete\n",
      "6f5bf40725fd: Pull complete\n",
      "2bf2a528ae9a: Pull complete\n",
      "Digest: sha256:41ed3a1a16b63de740767944d5405843db00e55058626c22838f23b413aa4a39\n",
      "Status: Downloaded newer image for elasticsearch:2\n"
     ]
    }
   ],
   "source": [
    "!docker container run -d --net dude --network-alias search elasticsearch:2"
   ]
  },
  {
   "cell_type": "code",
   "execution_count": 8,
   "id": "ac746fe0",
   "metadata": {},
   "outputs": [
    {
     "name": "stdout",
     "output_type": "stream",
     "text": [
      "fe9d79da2f49616f3d687d59be304ddf4e8380fb6d8152f13969998a912b0e25\n"
     ]
    }
   ],
   "source": [
    "!docker container run -d --net dude --network-alias search elasticsearch:2"
   ]
  },
  {
   "cell_type": "code",
   "execution_count": 9,
   "id": "fc4ab4b2",
   "metadata": {},
   "outputs": [
    {
     "name": "stdout",
     "output_type": "stream",
     "text": [
      "CONTAINER ID   IMAGE             COMMAND                  CREATED             STATUS             PORTS                                 NAMES\n",
      "fe9d79da2f49   elasticsearch:2   \"/docker-entrypoint.…\"   10 seconds ago      Up 9 seconds       9200/tcp, 9300/tcp                    sharp_ramanujan\n",
      "6baa08bc0a14   elasticsearch:2   \"/docker-entrypoint.…\"   33 seconds ago      Up 32 seconds      9200/tcp, 9300/tcp                    clever_boyd\n",
      "471856a221c8   nginx             \"/docker-entrypoint.…\"   36 minutes ago      Up 36 minutes      80/tcp                                my_nginx\n",
      "adc831b3718e   nginx             \"/docker-entrypoint.…\"   57 minutes ago      Up 57 minutes      80/tcp                                new_nginx\n",
      "1bf0ffecf0dd   nginx             \"/docker-entrypoint.…\"   About an hour ago   Up About an hour   0.0.0.0:80->80/tcp, [::]:80->80/tcp   webhost\n",
      "9cf1c60dd774   mysql             \"docker-entrypoint.s…\"   2 hours ago         Up 2 hours         3306/tcp, 33060/tcp                   mysql-db\n",
      "ef146c5eb1d2   nginx             \"/docker-entrypoint.…\"   2 hours ago         Up 2 hours         80/tcp                                nginx\n"
     ]
    }
   ],
   "source": [
    "!docker container ls "
   ]
  },
  {
   "cell_type": "code",
   "execution_count": 10,
   "id": "1350ab07",
   "metadata": {},
   "outputs": [
    {
     "name": "stdout",
     "output_type": "stream",
     "text": [
      "Server:\t\t127.0.0.11\n",
      "Address:\t127.0.0.11:53\n",
      "\n",
      "Non-authoritative answer:\n",
      "\n",
      "Non-authoritative answer:\n",
      "Name:\tsearch\n",
      "Address: 172.19.0.3\n",
      "Name:\tsearch\n",
      "Address: 172.19.0.2\n",
      "\n"
     ]
    }
   ],
   "source": [
    "!docker container run --rm --net dude alpine nslookup search"
   ]
  },
  {
   "cell_type": "code",
   "execution_count": 14,
   "id": "98967fba",
   "metadata": {},
   "outputs": [
    {
     "name": "stdout",
     "output_type": "stream",
     "text": [
      "{\n",
      "  \"name\" : \"Lifeguard\",\n",
      "  \"cluster_name\" : \"elasticsearch\",\n",
      "  \"cluster_uuid\" : \"LS77BTf0S-a9k1V1kTGUcg\",\n",
      "  \"version\" : {\n",
      "    \"number\" : \"2.4.6\",\n",
      "    \"build_hash\" : \"5376dca9f70f3abef96a77f4bb22720ace8240fd\",\n",
      "    \"build_timestamp\" : \"2017-07-18T12:17:44Z\",\n",
      "    \"build_snapshot\" : false,\n",
      "    \"lucene_version\" : \"5.5.4\"\n",
      "  },\n",
      "  \"tagline\" : \"You Know, for Search\"\n",
      "}\n"
     ]
    }
   ],
   "source": [
    "!docker container run --rm --network dude rockylinux/rockylinux:10 curl -s search:9200"
   ]
  },
  {
   "cell_type": "code",
   "execution_count": 15,
   "id": "8a2bb04a",
   "metadata": {},
   "outputs": [
    {
     "name": "stdout",
     "output_type": "stream",
     "text": [
      "{\n",
      "  \"name\" : \"Sif\",\n",
      "  \"cluster_name\" : \"elasticsearch\",\n",
      "  \"cluster_uuid\" : \"s0mwVOmfQF6ePCPFDLmkvw\",\n",
      "  \"version\" : {\n",
      "    \"number\" : \"2.4.6\",\n",
      "    \"build_hash\" : \"5376dca9f70f3abef96a77f4bb22720ace8240fd\",\n",
      "    \"build_timestamp\" : \"2017-07-18T12:17:44Z\",\n",
      "    \"build_snapshot\" : false,\n",
      "    \"lucene_version\" : \"5.5.4\"\n",
      "  },\n",
      "  \"tagline\" : \"You Know, for Search\"\n",
      "}\n"
     ]
    }
   ],
   "source": [
    "!docker container run --rm --network dude rockylinux/rockylinux:10 curl -s search:9200"
   ]
  },
  {
   "cell_type": "code",
   "execution_count": null,
   "id": "d7c13820",
   "metadata": {},
   "outputs": [],
   "source": []
  }
 ],
 "metadata": {
  "kernelspec": {
   "display_name": "Python 3",
   "language": "python",
   "name": "python3"
  },
  "language_info": {
   "codemirror_mode": {
    "name": "ipython",
    "version": 3
   },
   "file_extension": ".py",
   "mimetype": "text/x-python",
   "name": "python",
   "nbconvert_exporter": "python",
   "pygments_lexer": "ipython3",
   "version": "3.13.5"
  }
 },
 "nbformat": 4,
 "nbformat_minor": 5
}
