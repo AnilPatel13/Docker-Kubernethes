{
 "cells": [
  {
   "cell_type": "code",
   "execution_count": 2,
   "id": "ea9ab700",
   "metadata": {},
   "outputs": [
    {
     "name": "stdout",
     "output_type": "stream",
     "text": [
      "Usage: vagrant [options] <command> [<args>]\n",
      "\n",
      "    -h, --help                       Print this help.\n",
      "\n",
      "Common commands:\n",
      "     autocomplete    manages autocomplete installation on host\n",
      "     box             manages boxes: installation, removal, etc.\n",
      "     cloud           manages everything related to Vagrant Cloud\n",
      "     destroy         stops and deletes all traces of the vagrant machine\n",
      "     global-status   outputs status Vagrant environments for this user\n",
      "     halt            stops the vagrant machine\n",
      "     help            shows the help for a subcommand\n",
      "     init            initializes a new Vagrant environment by creating a Vagrantfile\n",
      "     login           \n",
      "     package         packages a running vagrant environment into a box\n",
      "     plugin          manages plugins: install, uninstall, update, etc.\n",
      "     port            displays information about guest port mappings\n",
      "     powershell      connects to machine via powershell remoting\n",
      "     provision       provisions the vagrant machine\n",
      "     push            deploys code in this environment to a configured destination\n",
      "     rdp             connects to machine via RDP\n",
      "     reload          restarts vagrant machine, loads new Vagrantfile configuration\n",
      "     resume          resume a suspended vagrant machine\n",
      "     snapshot        manages snapshots: saving, restoring, etc.\n",
      "     ssh             connects to machine via SSH\n",
      "     ssh-config      outputs OpenSSH valid configuration to connect to the machine\n",
      "     status          outputs status of the vagrant machine\n",
      "     suspend         suspends the machine\n",
      "     up              starts and provisions the vagrant environment\n",
      "     upload          upload to machine via communicator\n",
      "     validate        validates the Vagrantfile\n",
      "     version         prints current and latest Vagrant version\n",
      "     winrm           executes commands on a machine via WinRM\n",
      "     winrm-config    outputs WinRM configuration to connect to the machine\n",
      "\n",
      "For help on any individual command run `vagrant COMMAND -h`\n",
      "\n",
      "Additional subcommands are available, but are either more advanced\n",
      "or not commonly used. To see all subcommands, run the command\n",
      "`vagrant list-commands`.\n",
      "        --[no-]color                 Enable or disable color output\n",
      "        --machine-readable           Enable machine readable output\n",
      "    -v, --version                    Display Vagrant version\n",
      "        --debug                      Enable debug output\n",
      "        --timestamp                  Enable timestamps on log output\n",
      "        --debug-timestamp            Enable debug output with timestamps\n",
      "        --no-tty                     Enable non-interactive output\n"
     ]
    }
   ],
   "source": [
    "!vagrant --help"
   ]
  },
  {
   "cell_type": "code",
   "execution_count": 4,
   "id": "465a4bf8",
   "metadata": {},
   "outputs": [
    {
     "name": "stdout",
     "output_type": "stream",
     "text": [
      "==> box: Loading metadata for box 'ubuntu/focal64'\n",
      "    box: URL: https://vagrantcloud.com/api/v2/vagrant/ubuntu/focal64\n",
      "==> box: Adding box 'ubuntu/focal64' (v20240821.0.1) for provider: virtualbox\n",
      "    box: Downloading: https://vagrantcloud.com/ubuntu/boxes/focal64/versions/20240821.0.1/providers/virtualbox/unknown/vagrant.box\n",
      "==> box: Box download is resuming from prior download progress\n"
     ]
    },
    {
     "name": "stderr",
     "output_type": "stream",
     "text": [
      "Download to global Vagrant location already in progress. This\n",
      "may be caused by other Vagrant processes attempting to download\n",
      "a file to the same location.\n",
      "\n",
      "Download path: C:/Users/celia/.vagrant.d/tmp/boxb9e67d3de6d09f1bbfe47b9ae5937b5162062434\n",
      "Lock file path: C:/Users/celia/.vagrant.d/tmp/boxb9e67d3de6d09f1bbfe47b9ae5937b5162062434.lock\n"
     ]
    }
   ],
   "source": [
    "!vagrant box add ubuntu/focal64 --provider virtualbox"
   ]
  },
  {
   "cell_type": "code",
   "execution_count": 3,
   "id": "85ef5739",
   "metadata": {},
   "outputs": [
    {
     "name": "stdout",
     "output_type": "stream",
     "text": [
      "ubuntu/focal64 (virtualbox, 20240821.0.1)\n"
     ]
    }
   ],
   "source": [
    "!vagrant box list"
   ]
  },
  {
   "cell_type": "code",
   "execution_count": 4,
   "id": "000a01aa",
   "metadata": {},
   "outputs": [
    {
     "name": "stdout",
     "output_type": "stream",
     "text": [
      "Current machine states:\n",
      "\n",
      "server1                   running (virtualbox)\n",
      "server2                   running (virtualbox)\n",
      "server3                   running (virtualbox)\n",
      "\n",
      "This environment represents multiple VMs. The VMs are all listed\n",
      "above with their current state. For more information about a specific\n",
      "VM, run `vagrant status NAME`.\n"
     ]
    }
   ],
   "source": [
    "!vagrant status"
   ]
  },
  {
   "cell_type": "code",
   "execution_count": null,
   "id": "23cef46c",
   "metadata": {},
   "outputs": [],
   "source": [
    "!docker swarm init"
   ]
  },
  {
   "cell_type": "code",
   "execution_count": null,
   "id": "0e923180",
   "metadata": {},
   "outputs": [],
   "source": [
    "!docker swarm --advertise-addr 104.236.114.90"
   ]
  },
  {
   "cell_type": "code",
   "execution_count": null,
   "id": "4b9a2bdf",
   "metadata": {},
   "outputs": [],
   "source": [
    "!docker swarm join <token> <ip>:<port>"
   ]
  },
  {
   "cell_type": "code",
   "execution_count": null,
   "id": "2d205820",
   "metadata": {},
   "outputs": [],
   "source": [
    "C:\\Users\\celia\\OneDrive\\Desktop\\Anil\\Docker-Kubernethes\\Docker Swarm Setup>vagrant ssh server1\n",
    "Welcome to Ubuntu 20.04.6 LTS (GNU/Linux 5.4.0-216-generic x86_64)\n",
    "\n",
    " * Documentation:  https://help.ubuntu.com\n",
    " * Management:     https://landscape.canonical.com\n",
    " * Support:        https://ubuntu.com/pro\n",
    "\n",
    " System information as of Sat Aug 16 17:54:16 UTC 2025\n",
    "\n",
    "  System load:             0.9\n",
    "  Usage of /:              5.8% of 38.70GB\n",
    "  Memory usage:            4%\n",
    "  Swap usage:              0%\n",
    "  Processes:               151\n",
    "  Users logged in:         0\n",
    "  IPv4 address for enp0s3: 10.0.2.15\n",
    "  IPv6 address for enp0s3: fd17:625c:f037:2:1a:a2ff:fe1e:9db7\n",
    "\n",
    "\n",
    "Expanded Security Maintenance for Infrastructure is not enabled.\n",
    "\n",
    "0 updates can be applied immediately.\n",
    "\n",
    "37 additional security updates can be applied with ESM Infra.\n",
    "Learn more about enabling ESM Infra service for Ubuntu 20.04 at\n",
    "https://ubuntu.com/20-04\n",
    "\n",
    "New release '22.04.5 LTS' available.\n",
    "Run 'do-release-upgrade' to upgrade to it.\n",
    "\n",
    "\n",
    "vagrant@server1:~$ docker node ls\n",
    "ID                            HOSTNAME   STATUS    AVAILABILITY   MANAGER STATUS   ENGINE VERSION\n",
    "rj2jq5yju422k2j4x448pefj4 *   server1    Ready     Active         Leader           28.1.1\n",
    "5dcs8nclmedv8vanb19qpdclu     server2    Ready     Active                          28.1.1\n",
    "pcow2ivo4wmaz01ec0rpmgce1     server3    Ready     Active  "
   ]
  },
  {
   "cell_type": "code",
   "execution_count": null,
   "id": "2e25c26c",
   "metadata": {},
   "outputs": [],
   "source": [
    "!docker node update --role manager server2"
   ]
  },
  {
   "cell_type": "code",
   "execution_count": null,
   "id": "c394eca7",
   "metadata": {},
   "outputs": [],
   "source": [
    "!docker node ls"
   ]
  },
  {
   "cell_type": "code",
   "execution_count": null,
   "id": "f6f77178",
   "metadata": {},
   "outputs": [],
   "source": [
    "!docker swarm join-token manager"
   ]
  },
  {
   "cell_type": "code",
   "execution_count": null,
   "id": "20d4263e",
   "metadata": {},
   "outputs": [],
   "source": [
    "!docker service create --replicas 3 alpine ping 8.8.8.8"
   ]
  },
  {
   "cell_type": "code",
   "execution_count": null,
   "id": "a2ca2c60",
   "metadata": {},
   "outputs": [],
   "source": [
    "vagrant@server1:~$ docker service create --replicas 3 alpine ping 8.8.8.8\n",
    "x5rupi1yswbxils1y4mk25aq3\n",
    "overall progress: 3 out of 3 tasks\n",
    "1/3: running   [==================================================>]\n",
    "2/3: running   [==================================================>]\n",
    "3/3: running   [==================================================>]\n",
    "verify: Service x5rupi1yswbxils1y4mk25aq3 converged"
   ]
  },
  {
   "cell_type": "code",
   "execution_count": null,
   "id": "0389df99",
   "metadata": {},
   "outputs": [],
   "source": [
    "!docker service ls"
   ]
  },
  {
   "cell_type": "code",
   "execution_count": null,
   "id": "56ba9855",
   "metadata": {},
   "outputs": [],
   "source": [
    "ID             NAME           MODE         REPLICAS   IMAGE           PORTS\n",
    "x5rupi1yswbx   frosty_brown   replicated   3/3        alpine:latest"
   ]
  },
  {
   "cell_type": "code",
   "execution_count": null,
   "id": "c3d0f7de",
   "metadata": {},
   "outputs": [],
   "source": [
    "!docker node ps"
   ]
  },
  {
   "cell_type": "code",
   "execution_count": null,
   "id": "2eb48a66",
   "metadata": {},
   "outputs": [],
   "source": [
    "ID             NAME             IMAGE           NODE      DESIRED STATE   CURRENT STATE                ERROR     PORTS\n",
    "uu8h1yad4uin   frosty_brown.1   alpine:latest   server1   Running         Running about a minute ago"
   ]
  },
  {
   "cell_type": "code",
   "execution_count": null,
   "id": "fa12ef6c",
   "metadata": {},
   "outputs": [],
   "source": [
    "!docker node ps server2"
   ]
  },
  {
   "cell_type": "code",
   "execution_count": null,
   "id": "a728bf73",
   "metadata": {},
   "outputs": [],
   "source": [
    "ID             NAME             IMAGE           NODE      DESIRED STATE   CURRENT STATE                ERROR     PORTS\n",
    "q0293qphgni7   frosty_brown.2   alpine:latest   server2   Running         Running about a minute ago"
   ]
  },
  {
   "cell_type": "code",
   "execution_count": null,
   "id": "3293a24f",
   "metadata": {},
   "outputs": [],
   "source": [
    "!docker service ps frosty_brown"
   ]
  },
  {
   "cell_type": "code",
   "execution_count": null,
   "id": "f044546d",
   "metadata": {},
   "outputs": [],
   "source": [
    "ID             NAME             IMAGE           NODE      DESIRED STATE   CURRENT STATE           ERROR     PORTS\n",
    "uu8h1yad4uin   frosty_brown.1   alpine:latest   server1   Running         Running 2 minutes ago\n",
    "q0293qphgni7   frosty_brown.2   alpine:latest   server2   Running         Running 2 minutes ago\n",
    "4th6i9771n0b   frosty_brown.3   alpine:latest   server3   Running         Running 2 minutes ago"
   ]
  }
 ],
 "metadata": {
  "kernelspec": {
   "display_name": ".venv",
   "language": "python",
   "name": "python3"
  },
  "language_info": {
   "codemirror_mode": {
    "name": "ipython",
    "version": 3
   },
   "file_extension": ".py",
   "mimetype": "text/x-python",
   "name": "python",
   "nbconvert_exporter": "python",
   "pygments_lexer": "ipython3",
   "version": "3.13.5"
  }
 },
 "nbformat": 4,
 "nbformat_minor": 5
}
