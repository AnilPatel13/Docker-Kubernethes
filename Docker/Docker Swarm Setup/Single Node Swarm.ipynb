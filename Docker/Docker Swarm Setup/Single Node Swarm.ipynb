{
 "cells": [
  {
   "cell_type": "code",
   "execution_count": 1,
   "id": "eaa02b54",
   "metadata": {},
   "outputs": [
    {
     "name": "stdout",
     "output_type": "stream",
     "text": [
      "Client:\n",
      " Version:    28.3.2\n",
      " Context:    desktop-linux\n",
      " Debug Mode: false\n",
      " Plugins:\n",
      "  ai: Docker AI Agent - Ask Gordon (Docker Inc.)\n",
      "    Version:  v1.6.0\n",
      "    Path:     C:\\Program Files\\Docker\\cli-plugins\\docker-ai.exe\n",
      "  buildx: Docker Buildx (Docker Inc.)\n",
      "    Version:  v0.25.0-desktop.1\n",
      "    Path:     C:\\Program Files\\Docker\\cli-plugins\\docker-buildx.exe\n",
      "  cloud: Docker Cloud (Docker Inc.)\n",
      "    Version:  v0.4.2\n",
      "    Path:     C:\\Program Files\\Docker\\cli-plugins\\docker-cloud.exe\n",
      "  compose: Docker Compose (Docker Inc.)\n",
      "    Version:  v2.38.2-desktop.1\n",
      "    Path:     C:\\Program Files\\Docker\\cli-plugins\\docker-compose.exe\n",
      "  debug: Get a shell into any image or container (Docker Inc.)\n",
      "    Version:  0.0.41\n",
      "    Path:     C:\\Program Files\\Docker\\cli-plugins\\docker-debug.exe\n",
      "  desktop: Docker Desktop commands (Docker Inc.)\n",
      "    Version:  v0.1.11\n",
      "    Path:     C:\\Program Files\\Docker\\cli-plugins\\docker-desktop.exe\n",
      "  extension: Manages Docker extensions (Docker Inc.)\n",
      "    Version:  v0.2.29\n",
      "    Path:     C:\\Program Files\\Docker\\cli-plugins\\docker-extension.exe\n",
      "  init: Creates Docker-related starter files for your project (Docker Inc.)\n",
      "    Version:  v1.4.0\n",
      "    Path:     C:\\Program Files\\Docker\\cli-plugins\\docker-init.exe\n",
      "  mcp: Docker MCP Plugin (Docker Inc.)\n",
      "    Version:  v0.9.9\n",
      "    Path:     C:\\Program Files\\Docker\\cli-plugins\\docker-mcp.exe\n",
      "  model: Docker Model Runner (EXPERIMENTAL) (Docker Inc.)\n",
      "    Version:  v0.1.33\n",
      "    Path:     C:\\Program Files\\Docker\\cli-plugins\\docker-model.exe\n",
      "  sbom: View the packaged-based Software Bill Of Materials (SBOM) for an image (Anchore Inc.)\n",
      "    Version:  0.6.0\n",
      "    Path:     C:\\Program Files\\Docker\\cli-plugins\\docker-sbom.exe\n",
      "  scout: Docker Scout (Docker Inc.)\n",
      "    Version:  v1.18.1\n",
      "    Path:     C:\\Program Files\\Docker\\cli-plugins\\docker-scout.exe\n",
      "\n",
      "Server:\n"
     ]
    },
    {
     "name": "stderr",
     "output_type": "stream",
     "text": [
      "error during connect: Get \"http://%2F%2F.%2Fpipe%2FdockerDesktopLinuxEngine/v1.51/info\": open //./pipe/dockerDesktopLinuxEngine: The system cannot find the file specified.\n"
     ]
    }
   ],
   "source": [
    "!docker info"
   ]
  },
  {
   "cell_type": "code",
   "execution_count": 3,
   "id": "ac5e16ba",
   "metadata": {},
   "outputs": [
    {
     "name": "stdout",
     "output_type": "stream",
     "text": [
      "Swarm initialized: current node (rtniw8wutfdisptuqpyxna8ag) is now a manager.\n",
      "\n",
      "To add a worker to this swarm, run the following command:\n",
      "\n",
      "    docker swarm join --token SWMTKN-1-3lgzb2ndzdzzqbi5zi1396104n38e48m58rbhtraeipvcj6csu-2ti9vty55uta4mjkmxlc9tbxj 192.168.65.3:2377\n",
      "\n",
      "To add a manager to this swarm, run 'docker swarm join-token manager' and follow the instructions.\n"
     ]
    }
   ],
   "source": [
    "!docker swarm init"
   ]
  },
  {
   "cell_type": "code",
   "execution_count": 4,
   "id": "959bc3d1",
   "metadata": {},
   "outputs": [
    {
     "name": "stdout",
     "output_type": "stream",
     "text": [
      "ID                            HOSTNAME         STATUS    AVAILABILITY   MANAGER STATUS   ENGINE VERSION\n",
      "rtniw8wutfdisptuqpyxna8ag *   docker-desktop   Ready     Active         Leader           28.3.2\n"
     ]
    }
   ],
   "source": [
    "!docker node ls"
   ]
  },
  {
   "cell_type": "code",
   "execution_count": 5,
   "id": "d7f45dec",
   "metadata": {},
   "outputs": [
    {
     "name": "stdout",
     "output_type": "stream",
     "text": [
      "Usage:  docker node COMMAND\n",
      "\n",
      "Manage Swarm nodes\n",
      "\n",
      "Commands:\n",
      "  demote      Demote one or more nodes from manager in the swarm\n",
      "  inspect     Display detailed information on one or more nodes\n",
      "  ls          List nodes in the swarm\n",
      "  promote     Promote one or more nodes to manager in the swarm\n",
      "  ps          List tasks running on one or more nodes, defaults to current node\n",
      "  rm          Remove one or more nodes from the swarm\n",
      "  update      Update a node\n",
      "\n",
      "Run 'docker node COMMAND --help' for more information on a command.\n"
     ]
    }
   ],
   "source": [
    "!docker node --help"
   ]
  },
  {
   "cell_type": "code",
   "execution_count": 8,
   "id": "a9dc6c3f",
   "metadata": {},
   "outputs": [
    {
     "name": "stdout",
     "output_type": "stream",
     "text": [
      "Usage:  docker swarm COMMAND\n",
      "\n",
      "Manage Swarm\n",
      "\n",
      "Commands:\n",
      "  ca          Display and rotate the root CA\n",
      "  init        Initialize a swarm\n",
      "  join        Join a swarm as a node and/or manager\n",
      "  join-token  Manage join tokens\n",
      "  leave       Leave the swarm\n",
      "  unlock      Unlock swarm\n",
      "  unlock-key  Manage the unlock key\n",
      "  update      Update the swarm\n",
      "\n",
      "Run 'docker swarm COMMAND --help' for more information on a command.\n"
     ]
    }
   ],
   "source": [
    "!docker swarm --help"
   ]
  },
  {
   "cell_type": "code",
   "execution_count": 9,
   "id": "ee509883",
   "metadata": {},
   "outputs": [
    {
     "name": "stdout",
     "output_type": "stream",
     "text": [
      "Usage:  docker service COMMAND\n",
      "\n",
      "Manage Swarm services\n",
      "\n",
      "Commands:\n",
      "  create      Create a new service\n",
      "  inspect     Display detailed information on one or more services\n",
      "  logs        Fetch the logs of a service or task\n",
      "  ls          List services\n",
      "  ps          List the tasks of one or more services\n",
      "  rm          Remove one or more services\n",
      "  rollback    Revert changes to a service's configuration\n",
      "  scale       Scale one or multiple replicated services\n",
      "  update      Update a service\n",
      "\n",
      "Run 'docker service COMMAND --help' for more information on a command.\n"
     ]
    }
   ],
   "source": [
    "!docker service --help"
   ]
  },
  {
   "cell_type": "code",
   "execution_count": 10,
   "id": "40e6a666",
   "metadata": {},
   "outputs": [
    {
     "name": "stdout",
     "output_type": "stream",
     "text": [
      "cxnszpv4yb65ikp4bqi1huzex\n",
      "overall progress: 0 out of 1 tasks\n",
      "1/1:  \n",
      "overall progress: 0 out of 1 tasks\n",
      "overall progress: 0 out of 1 tasks\n",
      "overall progress: 0 out of 1 tasks\n",
      "overall progress: 0 out of 1 tasks\n",
      "overall progress: 0 out of 1 tasks\n",
      "overall progress: 1 out of 1 tasks\n",
      "verify: Waiting 6 seconds to verify that tasks are stable...\n",
      "verify: Waiting 5 seconds to verify that tasks are stable...\n",
      "verify: Waiting 5 seconds to verify that tasks are stable...\n",
      "verify: Waiting 5 seconds to verify that tasks are stable...\n",
      "verify: Waiting 5 seconds to verify that tasks are stable...\n",
      "verify: Waiting 4 seconds to verify that tasks are stable...\n",
      "verify: Waiting 4 seconds to verify that tasks are stable...\n",
      "verify: Waiting 4 seconds to verify that tasks are stable...\n",
      "verify: Waiting 4 seconds to verify that tasks are stable...\n",
      "verify: Waiting 4 seconds to verify that tasks are stable...\n",
      "verify: Waiting 3 seconds to verify that tasks are stable...\n",
      "verify: Waiting 3 seconds to verify that tasks are stable...\n",
      "verify: Waiting 3 seconds to verify that tasks are stable...\n",
      "verify: Waiting 3 seconds to verify that tasks are stable...\n",
      "verify: Waiting 3 seconds to verify that tasks are stable...\n",
      "verify: Waiting 2 seconds to verify that tasks are stable...\n",
      "verify: Waiting 2 seconds to verify that tasks are stable...\n",
      "verify: Waiting 2 seconds to verify that tasks are stable...\n",
      "verify: Waiting 2 seconds to verify that tasks are stable...\n",
      "verify: Waiting 2 seconds to verify that tasks are stable...\n",
      "verify: Waiting 1 seconds to verify that tasks are stable...\n",
      "verify: Waiting 1 seconds to verify that tasks are stable...\n",
      "verify: Waiting 1 seconds to verify that tasks are stable...\n",
      "verify: Waiting 1 seconds to verify that tasks are stable...\n",
      "verify: Waiting 1 seconds to verify that tasks are stable...\n",
      "verify: Service cxnszpv4yb65ikp4bqi1huzex converged\n"
     ]
    }
   ],
   "source": [
    "!docker service create alpine ping 8.8.8.8"
   ]
  },
  {
   "cell_type": "code",
   "execution_count": 11,
   "id": "307cf679",
   "metadata": {},
   "outputs": [
    {
     "name": "stdout",
     "output_type": "stream",
     "text": [
      "ID             NAME             MODE         REPLICAS   IMAGE           PORTS\n",
      "cxnszpv4yb65   sleepy_kapitsa   replicated   1/1        alpine:latest   \n"
     ]
    }
   ],
   "source": [
    "!docker service ls"
   ]
  },
  {
   "cell_type": "code",
   "execution_count": 12,
   "id": "39392883",
   "metadata": {},
   "outputs": [
    {
     "name": "stdout",
     "output_type": "stream",
     "text": [
      "ID             NAME               IMAGE           NODE             DESIRED STATE   CURRENT STATE                ERROR     PORTS\n",
      "bzgnzl0b8j9k   sleepy_kapitsa.1   alpine:latest   docker-desktop   Running         Running about a minute ago             \n"
     ]
    }
   ],
   "source": [
    "!docker service ps cxnszpv4yb65   "
   ]
  },
  {
   "cell_type": "code",
   "execution_count": 13,
   "id": "be64e0ef",
   "metadata": {},
   "outputs": [
    {
     "name": "stdout",
     "output_type": "stream",
     "text": [
      "CONTAINER ID   IMAGE           COMMAND          CREATED         STATUS         PORTS     NAMES\n",
      "4d64f9143a4e   alpine:latest   \"ping 8.8.8.8\"   2 minutes ago   Up 2 minutes             sleepy_kapitsa.1.bzgnzl0b8j9kz1yfs95cfycko\n"
     ]
    }
   ],
   "source": [
    "!docker container ls"
   ]
  },
  {
   "cell_type": "code",
   "execution_count": 15,
   "id": "fa676822",
   "metadata": {},
   "outputs": [
    {
     "name": "stdout",
     "output_type": "stream",
     "text": [
      "cxnszpv4yb65\n",
      "overall progress: 0 out of 3 tasks\n",
      "1/3:  \n",
      "2/3:  \n",
      "3/3:  \n",
      "overall progress: 1 out of 3 tasks\n",
      "overall progress: 1 out of 3 tasks\n",
      "overall progress: 1 out of 3 tasks\n",
      "overall progress: 3 out of 3 tasks\n",
      "verify: Waiting 6 seconds to verify that tasks are stable...\n",
      "verify: Waiting 5 seconds to verify that tasks are stable...\n",
      "verify: Waiting 5 seconds to verify that tasks are stable...\n",
      "verify: Waiting 5 seconds to verify that tasks are stable...\n",
      "verify: Waiting 5 seconds to verify that tasks are stable...\n",
      "verify: Waiting 4 seconds to verify that tasks are stable...\n",
      "verify: Waiting 4 seconds to verify that tasks are stable...\n",
      "verify: Waiting 4 seconds to verify that tasks are stable...\n",
      "verify: Waiting 4 seconds to verify that tasks are stable...\n",
      "verify: Waiting 4 seconds to verify that tasks are stable...\n",
      "verify: Waiting 3 seconds to verify that tasks are stable...\n",
      "verify: Waiting 3 seconds to verify that tasks are stable...\n",
      "verify: Waiting 3 seconds to verify that tasks are stable...\n",
      "verify: Waiting 3 seconds to verify that tasks are stable...\n",
      "verify: Waiting 3 seconds to verify that tasks are stable...\n",
      "verify: Waiting 2 seconds to verify that tasks are stable...\n",
      "verify: Waiting 2 seconds to verify that tasks are stable...\n",
      "verify: Waiting 2 seconds to verify that tasks are stable...\n",
      "verify: Waiting 2 seconds to verify that tasks are stable...\n",
      "verify: Waiting 2 seconds to verify that tasks are stable...\n",
      "verify: Waiting 1 seconds to verify that tasks are stable...\n",
      "verify: Waiting 1 seconds to verify that tasks are stable...\n",
      "verify: Waiting 1 seconds to verify that tasks are stable...\n",
      "verify: Waiting 1 seconds to verify that tasks are stable...\n",
      "verify: Waiting 1 seconds to verify that tasks are stable...\n",
      "verify: Service cxnszpv4yb65 converged\n"
     ]
    }
   ],
   "source": [
    "!docker service update cxnszpv4yb65  --replicas 3"
   ]
  },
  {
   "cell_type": "code",
   "execution_count": 16,
   "id": "7e9fa8e7",
   "metadata": {},
   "outputs": [
    {
     "name": "stdout",
     "output_type": "stream",
     "text": [
      "ID             NAME             MODE         REPLICAS   IMAGE           PORTS\n",
      "cxnszpv4yb65   sleepy_kapitsa   replicated   3/3        alpine:latest   \n"
     ]
    }
   ],
   "source": [
    "!docker service ls"
   ]
  },
  {
   "cell_type": "code",
   "execution_count": 18,
   "id": "3750f6aa",
   "metadata": {},
   "outputs": [
    {
     "name": "stdout",
     "output_type": "stream",
     "text": [
      "ID             NAME               IMAGE           NODE             DESIRED STATE   CURRENT STATE            ERROR     PORTS\n",
      "bzgnzl0b8j9k   sleepy_kapitsa.1   alpine:latest   docker-desktop   Running         Running 3 minutes ago              \n",
      "kl9zc6ru88le   sleepy_kapitsa.2   alpine:latest   docker-desktop   Running         Running 28 seconds ago             \n",
      "trv3qa0fyyjk   sleepy_kapitsa.3   alpine:latest   docker-desktop   Running         Running 28 seconds ago             \n"
     ]
    }
   ],
   "source": [
    "!docker service ps cxnszpv4yb65   "
   ]
  },
  {
   "cell_type": "code",
   "execution_count": 19,
   "id": "beea4dec",
   "metadata": {},
   "outputs": [
    {
     "name": "stdout",
     "output_type": "stream",
     "text": [
      "Usage:  docker update [OPTIONS] CONTAINER [CONTAINER...]\n",
      "\n",
      "Update configuration of one or more containers\n",
      "\n",
      "Aliases:\n",
      "  docker container update, docker update\n",
      "\n",
      "Options:\n",
      "      --blkio-weight uint16        Block IO (relative weight), between 10\n",
      "                                   and 1000, or 0 to disable (default 0)\n",
      "      --cpu-period int             Limit CPU CFS (Completely Fair\n",
      "                                   Scheduler) period\n",
      "      --cpu-quota int              Limit CPU CFS (Completely Fair\n",
      "                                   Scheduler) quota\n",
      "      --cpu-rt-period int          Limit the CPU real-time period in\n",
      "                                   microseconds\n",
      "      --cpu-rt-runtime int         Limit the CPU real-time runtime in\n",
      "                                   microseconds\n",
      "  -c, --cpu-shares int             CPU shares (relative weight)\n",
      "      --cpus decimal               Number of CPUs\n",
      "      --cpuset-cpus string         CPUs in which to allow execution (0-3, 0,1)\n",
      "      --cpuset-mems string         MEMs in which to allow execution (0-3, 0,1)\n",
      "  -m, --memory bytes               Memory limit\n",
      "      --memory-reservation bytes   Memory soft limit\n",
      "      --memory-swap bytes          Swap limit equal to memory plus swap:\n",
      "                                   -1 to enable unlimited swap\n",
      "      --pids-limit int             Tune container pids limit (set -1 for\n",
      "                                   unlimited)\n",
      "      --restart string             Restart policy to apply when a\n",
      "                                   container exits\n"
     ]
    }
   ],
   "source": [
    "!docker update --help"
   ]
  },
  {
   "cell_type": "code",
   "execution_count": 20,
   "id": "61ce6986",
   "metadata": {},
   "outputs": [
    {
     "name": "stdout",
     "output_type": "stream",
     "text": [
      "Usage:  docker service update [OPTIONS] SERVICE\n",
      "\n",
      "Update a service\n",
      "\n",
      "Options:\n",
      "      --args command                       Service command args\n",
      "      --cap-add list                       Add Linux capabilities\n",
      "      --cap-drop list                      Drop Linux capabilities\n",
      "      --config-add config                  Add or update a config file on\n",
      "                                           a service\n",
      "      --config-rm list                     Remove a configuration file\n",
      "      --constraint-add list                Add or update a placement\n",
      "                                           constraint\n",
      "      --constraint-rm list                 Remove a constraint\n",
      "      --container-label-add list           Add or update a container label\n",
      "      --container-label-rm list            Remove a container label by its key\n",
      "      --credential-spec credential-spec    Credential spec for managed\n",
      "                                           service account (Windows only)\n",
      "  -d, --detach                             Exit immediately instead of\n",
      "                                           waiting for the service to converge\n",
      "      --dns-add list                       Add or update a custom DNS server\n",
      "      --dns-option-add list                Add or update a DNS option\n",
      "      --dns-option-rm list                 Remove a DNS option\n",
      "      --dns-rm list                        Remove a custom DNS server\n",
      "      --dns-search-add list                Add or update a custom DNS\n",
      "                                           search domain\n",
      "      --dns-search-rm list                 Remove a DNS search domain\n",
      "      --endpoint-mode string               Endpoint mode (vip or dnsrr)\n",
      "      --entrypoint command                 Overwrite the default\n",
      "                                           ENTRYPOINT of the image\n",
      "      --env-add list                       Add or update an environment\n",
      "                                           variable\n",
      "      --env-rm list                        Remove an environment variable\n",
      "      --force                              Force update even if no\n",
      "                                           changes require it\n",
      "      --generic-resource-add list          Add a Generic resource\n",
      "      --generic-resource-rm list           Remove a Generic resource\n",
      "      --group-add list                     Add an additional\n",
      "                                           supplementary user group to\n",
      "                                           the container\n",
      "      --group-rm list                      Remove a previously added\n",
      "                                           supplementary user group from\n",
      "                                           the container\n",
      "      --health-cmd string                  Command to run to check health\n",
      "      --health-interval duration           Time between running the check\n",
      "                                           (ms|s|m|h)\n",
      "      --health-retries int                 Consecutive failures needed to\n",
      "                                           report unhealthy\n",
      "      --health-start-interval duration     Time between running the check\n",
      "                                           during the start period (ms|s|m|h)\n",
      "      --health-start-period duration       Start period for the container\n",
      "                                           to initialize before counting\n",
      "                                           retries towards unstable (ms|s|m|h)\n",
      "      --health-timeout duration            Maximum time to allow one\n",
      "                                           check to run (ms|s|m|h)\n",
      "      --host-add list                      Add a custom host-to-IP\n",
      "                                           mapping (\"host:ip\")\n",
      "      --host-rm list                       Remove a custom host-to-IP\n",
      "                                           mapping (\"host:ip\")\n",
      "      --hostname string                    Container hostname\n",
      "      --image string                       Service image tag\n",
      "      --init                               Use an init inside each\n",
      "                                           service container to forward\n",
      "                                           signals and reap processes\n",
      "      --isolation string                   Service container isolation mode\n",
      "      --label-add list                     Add or update a service label\n",
      "      --label-rm list                      Remove a label by its key\n",
      "      --limit-cpu decimal                  Limit CPUs\n",
      "      --limit-memory bytes                 Limit Memory\n",
      "      --limit-pids int                     Limit maximum number of\n",
      "                                           processes (default 0 = unlimited)\n",
      "      --log-driver string                  Logging driver for service\n",
      "      --log-opt list                       Logging driver options\n",
      "      --max-concurrent uint                Number of job tasks to run\n",
      "                                           concurrently (default equal to\n",
      "                                           --replicas)\n",
      "      --mount-add mount                    Add or update a mount on a service\n",
      "      --mount-rm list                      Remove a mount by its target path\n",
      "      --network-add network                Add a network\n",
      "      --network-rm list                    Remove a network\n",
      "      --no-healthcheck                     Disable any\n",
      "                                           container-specified HEALTHCHECK\n",
      "      --no-resolve-image                   Do not query the registry to\n",
      "                                           resolve image digest and\n",
      "                                           supported platforms\n",
      "      --oom-score-adj int                  Tune host's OOM preferences\n",
      "                                           (-1000 to 1000) \n",
      "      --placement-pref-add pref            Add a placement preference\n",
      "      --placement-pref-rm pref             Remove a placement preference\n",
      "      --publish-add port                   Add or update a published port\n",
      "      --publish-rm port                    Remove a published port by its\n",
      "                                           target port\n",
      "  -q, --quiet                              Suppress progress output\n",
      "      --read-only                          Mount the container's root\n",
      "                                           filesystem as read only\n",
      "      --replicas uint                      Number of tasks\n",
      "      --replicas-max-per-node uint         Maximum number of tasks per\n",
      "                                           node (default 0 = unlimited)\n",
      "      --reserve-cpu decimal                Reserve CPUs\n",
      "      --reserve-memory bytes               Reserve Memory\n",
      "      --restart-condition string           Restart when condition is met\n",
      "                                           (\"none\", \"on-failure\", \"any\")\n",
      "      --restart-delay duration             Delay between restart attempts\n",
      "                                           (ns|us|ms|s|m|h)\n",
      "      --restart-max-attempts uint          Maximum number of restarts\n",
      "                                           before giving up\n",
      "      --restart-window duration            Window used to evaluate the\n",
      "                                           restart policy (ns|us|ms|s|m|h)\n",
      "      --rollback                           Rollback to previous specification\n",
      "      --rollback-delay duration            Delay between task rollbacks\n",
      "                                           (ns|us|ms|s|m|h)\n",
      "      --rollback-failure-action string     Action on rollback failure\n",
      "                                           (\"pause\", \"continue\")\n",
      "      --rollback-max-failure-ratio float   Failure rate to tolerate\n",
      "                                           during a rollback\n",
      "      --rollback-monitor duration          Duration after each task\n",
      "                                           rollback to monitor for\n",
      "                                           failure (ns|us|ms|s|m|h)\n",
      "      --rollback-order string              Rollback order (\"start-first\",\n",
      "                                           \"stop-first\")\n",
      "      --rollback-parallelism uint          Maximum number of tasks rolled\n",
      "                                           back simultaneously (0 to roll\n",
      "                                           back all at once)\n",
      "      --secret-add secret                  Add or update a secret on a service\n",
      "      --secret-rm list                     Remove a secret\n",
      "      --stop-grace-period duration         Time to wait before force\n",
      "                                           killing a container\n",
      "                                           (ns|us|ms|s|m|h)\n",
      "      --stop-signal string                 Signal to stop the container\n",
      "      --sysctl-add list                    Add or update a Sysctl option\n",
      "      --sysctl-rm list                     Remove a Sysctl option\n",
      "  -t, --tty                                Allocate a pseudo-TTY\n",
      "      --ulimit-add ulimit                  Add or update a ulimit option\n",
      "                                           (default [])\n",
      "      --ulimit-rm list                     Remove a ulimit option\n",
      "      --update-delay duration              Delay between updates\n",
      "                                           (ns|us|ms|s|m|h)\n",
      "      --update-failure-action string       Action on update failure\n",
      "                                           (\"pause\", \"continue\", \"rollback\")\n",
      "      --update-max-failure-ratio float     Failure rate to tolerate\n",
      "                                           during an update\n",
      "      --update-monitor duration            Duration after each task\n",
      "                                           update to monitor for failure\n",
      "                                           (ns|us|ms|s|m|h)\n",
      "      --update-order string                Update order (\"start-first\",\n",
      "                                           \"stop-first\")\n",
      "      --update-parallelism uint            Maximum number of tasks\n",
      "                                           updated simultaneously (0 to\n",
      "                                           update all at once)\n",
      "  -u, --user string                        Username or UID (format:\n",
      "                                           <name|uid>[:<group|gid>])\n",
      "      --with-registry-auth                 Send registry authentication\n",
      "                                           details to swarm agents\n",
      "  -w, --workdir string                     Working directory inside the\n",
      "                                           container\n"
     ]
    }
   ],
   "source": [
    "!docker service update --help"
   ]
  },
  {
   "cell_type": "code",
   "execution_count": 21,
   "id": "8dae160c",
   "metadata": {},
   "outputs": [
    {
     "name": "stdout",
     "output_type": "stream",
     "text": [
      "CONTAINER ID   IMAGE           COMMAND          CREATED         STATUS         PORTS     NAMES\n",
      "7140ad99ad24   alpine:latest   \"ping 8.8.8.8\"   5 minutes ago   Up 5 minutes             sleepy_kapitsa.3.trv3qa0fyyjkh5jh5pm7xyg1b\n",
      "01e7963503af   alpine:latest   \"ping 8.8.8.8\"   5 minutes ago   Up 5 minutes             sleepy_kapitsa.2.kl9zc6ru88lerjt8dm0u2vv6h\n",
      "4d64f9143a4e   alpine:latest   \"ping 8.8.8.8\"   8 minutes ago   Up 8 minutes             sleepy_kapitsa.1.bzgnzl0b8j9kz1yfs95cfycko\n"
     ]
    }
   ],
   "source": [
    "!docker container ls"
   ]
  },
  {
   "cell_type": "code",
   "execution_count": 22,
   "id": "b928cd50",
   "metadata": {},
   "outputs": [
    {
     "name": "stdout",
     "output_type": "stream",
     "text": [
      "7140ad99ad24\n"
     ]
    }
   ],
   "source": [
    "!docker container rm -f 7140ad99ad24"
   ]
  },
  {
   "cell_type": "code",
   "execution_count": 23,
   "id": "c4230f1b",
   "metadata": {},
   "outputs": [
    {
     "name": "stdout",
     "output_type": "stream",
     "text": [
      "ID             NAME             MODE         REPLICAS   IMAGE           PORTS\n",
      "cxnszpv4yb65   sleepy_kapitsa   replicated   3/3        alpine:latest   \n"
     ]
    }
   ],
   "source": [
    "!docker service ls"
   ]
  },
  {
   "cell_type": "code",
   "execution_count": 24,
   "id": "aeb23f4b",
   "metadata": {},
   "outputs": [
    {
     "name": "stdout",
     "output_type": "stream",
     "text": [
      "ID             NAME                   IMAGE           NODE             DESIRED STATE   CURRENT STATE            ERROR                         PORTS\n",
      "bzgnzl0b8j9k   sleepy_kapitsa.1       alpine:latest   docker-desktop   Running         Running 9 minutes ago                                  \n",
      "kl9zc6ru88le   sleepy_kapitsa.2       alpine:latest   docker-desktop   Running         Running 6 minutes ago                                  \n",
      "4w527kh2twjt   sleepy_kapitsa.3       alpine:latest   docker-desktop   Running         Running 25 seconds ago                                 \n",
      "trv3qa0fyyjk    \\_ sleepy_kapitsa.3   alpine:latest   docker-desktop   Shutdown        Failed 30 seconds ago    \"task: non-zero exit (137)\"   \n"
     ]
    }
   ],
   "source": [
    "!docker service ps sleepy_kapitsa   "
   ]
  },
  {
   "cell_type": "code",
   "execution_count": 25,
   "id": "14eb19f4",
   "metadata": {},
   "outputs": [
    {
     "name": "stdout",
     "output_type": "stream",
     "text": [
      "sleepy_kapitsa\n"
     ]
    }
   ],
   "source": [
    "!docker service rm sleepy_kapitsa   "
   ]
  },
  {
   "cell_type": "code",
   "execution_count": 26,
   "id": "fe9afed3",
   "metadata": {},
   "outputs": [
    {
     "name": "stdout",
     "output_type": "stream",
     "text": [
      "ID        NAME      MODE      REPLICAS   IMAGE     PORTS\n"
     ]
    }
   ],
   "source": [
    "!docker service ls"
   ]
  },
  {
   "cell_type": "code",
   "execution_count": 27,
   "id": "c33f5af7",
   "metadata": {},
   "outputs": [
    {
     "name": "stdout",
     "output_type": "stream",
     "text": [
      "CONTAINER ID   IMAGE     COMMAND   CREATED   STATUS    PORTS     NAMES\n"
     ]
    }
   ],
   "source": [
    "!docker container ls"
   ]
  },
  {
   "cell_type": "code",
   "execution_count": null,
   "id": "4a04e3f7",
   "metadata": {},
   "outputs": [],
   "source": [
    "!"
   ]
  },
  {
   "cell_type": "code",
   "execution_count": null,
   "id": "3cb73486",
   "metadata": {},
   "outputs": [],
   "source": [
    "!"
   ]
  }
 ],
 "metadata": {
  "kernelspec": {
   "display_name": ".venv",
   "language": "python",
   "name": "python3"
  },
  "language_info": {
   "codemirror_mode": {
    "name": "ipython",
    "version": 3
   },
   "file_extension": ".py",
   "mimetype": "text/x-python",
   "name": "python",
   "nbconvert_exporter": "python",
   "pygments_lexer": "ipython3",
   "version": "3.13.5"
  }
 },
 "nbformat": 4,
 "nbformat_minor": 5
}
