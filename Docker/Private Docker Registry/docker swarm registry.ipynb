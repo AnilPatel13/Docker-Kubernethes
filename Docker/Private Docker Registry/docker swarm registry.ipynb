{
 "cells": [
  {
   "cell_type": "code",
   "execution_count": 1,
   "id": "b34a20a4",
   "metadata": {},
   "outputs": [
    {
     "name": "stdout",
     "output_type": "stream",
     "text": [
      "ID                            HOSTNAME         STATUS    AVAILABILITY   MANAGER STATUS   ENGINE VERSION\n",
      "qu9ksalcem3fnk5geu6ll2kyr *   docker-desktop   Ready     Active         Leader           28.3.2\n"
     ]
    }
   ],
   "source": [
    "!docker node ls"
   ]
  },
  {
   "cell_type": "code",
   "execution_count": 2,
   "id": "1a58d1ef",
   "metadata": {},
   "outputs": [
    {
     "name": "stdout",
     "output_type": "stream",
     "text": [
      "6rxhskh3lerl869jf04w4wpza\n",
      "overall progress: 0 out of 1 tasks\n",
      "1/1:  \n",
      "overall progress: 0 out of 1 tasks\n",
      "overall progress: 0 out of 1 tasks\n",
      "overall progress: 0 out of 1 tasks\n",
      "overall progress: 0 out of 1 tasks\n",
      "overall progress: 1 out of 1 tasks\n",
      "verify: Waiting 6 seconds to verify that tasks are stable...\n",
      "verify: Waiting 5 seconds to verify that tasks are stable...\n",
      "verify: Waiting 5 seconds to verify that tasks are stable...\n",
      "verify: Waiting 5 seconds to verify that tasks are stable...\n",
      "verify: Waiting 5 seconds to verify that tasks are stable...\n",
      "verify: Waiting 4 seconds to verify that tasks are stable...\n",
      "verify: Waiting 4 seconds to verify that tasks are stable...\n",
      "verify: Waiting 4 seconds to verify that tasks are stable...\n",
      "verify: Waiting 4 seconds to verify that tasks are stable...\n",
      "verify: Waiting 4 seconds to verify that tasks are stable...\n",
      "verify: Waiting 3 seconds to verify that tasks are stable...\n",
      "verify: Waiting 3 seconds to verify that tasks are stable...\n",
      "verify: Waiting 3 seconds to verify that tasks are stable...\n",
      "verify: Waiting 3 seconds to verify that tasks are stable...\n",
      "verify: Waiting 3 seconds to verify that tasks are stable...\n",
      "verify: Waiting 2 seconds to verify that tasks are stable...\n",
      "verify: Waiting 2 seconds to verify that tasks are stable...\n",
      "verify: Waiting 2 seconds to verify that tasks are stable...\n",
      "verify: Waiting 2 seconds to verify that tasks are stable...\n",
      "verify: Waiting 2 seconds to verify that tasks are stable...\n",
      "verify: Waiting 1 seconds to verify that tasks are stable...\n",
      "verify: Waiting 1 seconds to verify that tasks are stable...\n",
      "verify: Waiting 1 seconds to verify that tasks are stable...\n",
      "verify: Waiting 1 seconds to verify that tasks are stable...\n",
      "verify: Waiting 1 seconds to verify that tasks are stable...\n",
      "verify: Service 6rxhskh3lerl869jf04w4wpza converged\n"
     ]
    }
   ],
   "source": [
    "!docker service create --name registry -p 5000:5000 registry"
   ]
  },
  {
   "cell_type": "code",
   "execution_count": 3,
   "id": "10693f81",
   "metadata": {},
   "outputs": [
    {
     "name": "stdout",
     "output_type": "stream",
     "text": [
      "ID             NAME         IMAGE             NODE             DESIRED STATE   CURRENT STATE            ERROR     PORTS\n",
      "amiq8sgsr8q1   registry.1   registry:latest   docker-desktop   Running         Running 27 seconds ago             \n"
     ]
    }
   ],
   "source": [
    "!docker service ps registry"
   ]
  },
  {
   "cell_type": "code",
   "execution_count": 4,
   "id": "3253bc69",
   "metadata": {},
   "outputs": [
    {
     "name": "stdout",
     "output_type": "stream",
     "text": [
      "Using default tag: latest\n",
      "latest: Pulling from library/hello-world\n",
      "Digest: sha256:a0dfb02aac212703bfcb339d77d47ec32c8706ff250850ecc0e19c8737b18567\n",
      "Status: Downloaded newer image for hello-world:latest\n",
      "docker.io/library/hello-world:latest\n"
     ]
    }
   ],
   "source": [
    "!docker pull hello-world"
   ]
  },
  {
   "cell_type": "code",
   "execution_count": 5,
   "id": "3a04a320",
   "metadata": {},
   "outputs": [],
   "source": [
    "!docker tag hello-world 127.0.0.1:5000/hello-world"
   ]
  },
  {
   "cell_type": "code",
   "execution_count": 6,
   "id": "308aa45f",
   "metadata": {},
   "outputs": [
    {
     "name": "stdout",
     "output_type": "stream",
     "text": [
      "Using default tag: latest\n",
      "The push refers to repository [127.0.0.1:5000/hello-world]\n",
      "17eec7bbc9d7: Pushed\n",
      "latest: digest: sha256:2771e37a12b7bcb2902456ecf3f29bf9ee11ec348e66e8eb322d9780ad7fc2df size: 1035\n",
      "\n",
      " Info -> Not all multiplatform-content is present and only the available single-platform image was pushed\n",
      "         \u001b[31msha256:a0dfb02aac212703bfcb339d77d47ec32c8706ff250850ecc0e19c8737b18567\u001b[0m -> \u001b[32msha256:2771e37a12b7bcb2902456ecf3f29bf9ee11ec348e66e8eb322d9780ad7fc2df\u001b[0m\n"
     ]
    }
   ],
   "source": [
    "!docker push 127.0.0.1:5000/hello-world"
   ]
  },
  {
   "cell_type": "code",
   "execution_count": 7,
   "id": "42bf8f1a",
   "metadata": {},
   "outputs": [
    {
     "name": "stdout",
     "output_type": "stream",
     "text": [
      "Using default tag: latest\n",
      "latest: Pulling from library/nginx\n",
      "Digest: sha256:33e0bbc7ca9ecf108140af6288c7c9d1ecc77548cbfd3952fd8466a75edefe57\n",
      "Status: Downloaded newer image for nginx:latest\n",
      "docker.io/library/nginx:latest\n"
     ]
    }
   ],
   "source": [
    "!docker pull nginx"
   ]
  },
  {
   "cell_type": "code",
   "execution_count": 8,
   "id": "6ff01fae",
   "metadata": {},
   "outputs": [],
   "source": [
    "!docker tag nginx 127.0.0.1:5000/nginx"
   ]
  },
  {
   "cell_type": "code",
   "execution_count": 9,
   "id": "cf22b5a8",
   "metadata": {},
   "outputs": [
    {
     "name": "stdout",
     "output_type": "stream",
     "text": [
      "Using default tag: latest\n",
      "The push refers to repository [127.0.0.1:5000/nginx]\n",
      "14a859b5ba24: Pushed\n",
      "14e422fd20a0: Pushed\n",
      "716cdf61af59: Pushed\n",
      "e5d9bb0b85cc: Pushed\n",
      "c3741b707ce6: Pushed\n",
      "b1badc6e5066: Pushed\n",
      "a2da0c0f2353: Pushed\n",
      "latest: digest: sha256:f15190cd0aed34df2541e6a569d349858dd83fe2a519d7c0ec023133b6d3c4f7 size: 2292\n",
      "\n",
      " Info -> Not all multiplatform-content is present and only the available single-platform image was pushed\n",
      "         \u001b[31msha256:33e0bbc7ca9ecf108140af6288c7c9d1ecc77548cbfd3952fd8466a75edefe57\u001b[0m -> \u001b[32msha256:f15190cd0aed34df2541e6a569d349858dd83fe2a519d7c0ec023133b6d3c4f7\u001b[0m\n"
     ]
    }
   ],
   "source": [
    "!docker push 127.0.0.1:5000/nginx"
   ]
  },
  {
   "cell_type": "code",
   "execution_count": 11,
   "id": "525c2d67",
   "metadata": {},
   "outputs": [
    {
     "name": "stdout",
     "output_type": "stream",
     "text": [
      "jmf8zn4whzkjrj1m3o4udhvv0\n"
     ]
    }
   ],
   "source": [
    "!docker service create --name nginx -p 80:80 --replicas 10 -d 127.0.0.1:5000/nginx"
   ]
  },
  {
   "cell_type": "code",
   "execution_count": 12,
   "id": "e7cdac88",
   "metadata": {},
   "outputs": [
    {
     "name": "stdout",
     "output_type": "stream",
     "text": [
      "ID             NAME       MODE         REPLICAS   IMAGE                         PORTS\n",
      "jmf8zn4whzkj   nginx      replicated   10/10      127.0.0.1:5000/nginx:latest   *:80->80/tcp\n",
      "6rxhskh3lerl   registry   replicated   1/1        registry:latest               *:5000->5000/tcp\n"
     ]
    }
   ],
   "source": [
    "!docker service ls"
   ]
  },
  {
   "cell_type": "code",
   "execution_count": 13,
   "id": "cfcfff9e",
   "metadata": {},
   "outputs": [
    {
     "name": "stdout",
     "output_type": "stream",
     "text": [
      "ID             NAME       IMAGE                         NODE             DESIRED STATE   CURRENT STATE                ERROR     PORTS\n",
      "2biltjqune17   nginx.1    127.0.0.1:5000/nginx:latest   docker-desktop   Running         Running about a minute ago             \n",
      "lfr1ph8bvrbt   nginx.2    127.0.0.1:5000/nginx:latest   docker-desktop   Running         Running about a minute ago             \n",
      "1iyulvr91j1r   nginx.3    127.0.0.1:5000/nginx:latest   docker-desktop   Running         Running about a minute ago             \n",
      "wdxsqmqm67p4   nginx.4    127.0.0.1:5000/nginx:latest   docker-desktop   Running         Running about a minute ago             \n",
      "xxpy9tlovb5r   nginx.5    127.0.0.1:5000/nginx:latest   docker-desktop   Running         Running about a minute ago             \n",
      "uatbd2kcgi36   nginx.6    127.0.0.1:5000/nginx:latest   docker-desktop   Running         Running about a minute ago             \n",
      "xaoyesr434zw   nginx.7    127.0.0.1:5000/nginx:latest   docker-desktop   Running         Running about a minute ago             \n",
      "kcb5ptd7ltjx   nginx.8    127.0.0.1:5000/nginx:latest   docker-desktop   Running         Running about a minute ago             \n",
      "t0d9kh6e4s00   nginx.9    127.0.0.1:5000/nginx:latest   docker-desktop   Running         Running about a minute ago             \n",
      "kcarhb7fumrj   nginx.10   127.0.0.1:5000/nginx:latest   docker-desktop   Running         Running about a minute ago             \n"
     ]
    }
   ],
   "source": [
    "!docker service ps nginx"
   ]
  },
  {
   "cell_type": "code",
   "execution_count": 14,
   "id": "8f57aab8",
   "metadata": {},
   "outputs": [
    {
     "name": "stdout",
     "output_type": "stream",
     "text": [
      "ID             NAME       MODE         REPLICAS   IMAGE                         PORTS\n",
      "jmf8zn4whzkj   nginx      replicated   10/10      127.0.0.1:5000/nginx:latest   *:80->80/tcp\n",
      "6rxhskh3lerl   registry   replicated   1/1        registry:latest               *:5000->5000/tcp\n"
     ]
    }
   ],
   "source": [
    "!docker service ls"
   ]
  },
  {
   "cell_type": "code",
   "execution_count": 15,
   "id": "1f79406e",
   "metadata": {},
   "outputs": [
    {
     "name": "stdout",
     "output_type": "stream",
     "text": [
      "jmf8zn4whzkj\n",
      "6rxhskh3lerl\n"
     ]
    }
   ],
   "source": [
    "!docker service rm jmf8zn4whzkj   6rxhskh3lerl   "
   ]
  },
  {
   "cell_type": "code",
   "execution_count": null,
   "id": "7df4a248",
   "metadata": {},
   "outputs": [],
   "source": []
  }
 ],
 "metadata": {
  "kernelspec": {
   "display_name": ".venv",
   "language": "python",
   "name": "python3"
  },
  "language_info": {
   "codemirror_mode": {
    "name": "ipython",
    "version": 3
   },
   "file_extension": ".py",
   "mimetype": "text/x-python",
   "name": "python",
   "nbconvert_exporter": "python",
   "pygments_lexer": "ipython3",
   "version": "3.13.5"
  }
 },
 "nbformat": 4,
 "nbformat_minor": 5
}
