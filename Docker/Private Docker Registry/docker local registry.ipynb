{
 "cells": [
  {
   "cell_type": "code",
   "execution_count": 15,
   "id": "6164073f",
   "metadata": {},
   "outputs": [
    {
     "name": "stdout",
     "output_type": "stream",
     "text": [
      "e6c9f2f59aab6666cf43a9a1cc696ac97ba2add39bc11beb9d33ac7f0c447416\n"
     ]
    }
   ],
   "source": [
    "!docker container run -d -p 5000:5000 --name registry registry:latest"
   ]
  },
  {
   "cell_type": "code",
   "execution_count": 16,
   "id": "36d8151f",
   "metadata": {},
   "outputs": [
    {
     "name": "stdout",
     "output_type": "stream",
     "text": [
      "CONTAINER ID   IMAGE             COMMAND                  CREATED         STATUS         PORTS                                         NAMES\n",
      "e6c9f2f59aab   registry:latest   \"/entrypoint.sh /etc…\"   2 seconds ago   Up 2 seconds   0.0.0.0:5000->5000/tcp, [::]:5000->5000/tcp   registry\n"
     ]
    }
   ],
   "source": [
    "!docker container ls"
   ]
  },
  {
   "cell_type": "code",
   "execution_count": 17,
   "id": "25a5d5b5",
   "metadata": {},
   "outputs": [
    {
     "name": "stdout",
     "output_type": "stream",
     "text": [
      "REPOSITORY                              TAG        IMAGE ID       CREATED         SIZE\n",
      "bretfisher/examplevotingapp_result      latest     d4b11b4f068f   37 hours ago    319MB\n",
      "bretfisher/examplevotingapp_vote        latest     5db33e77efbf   37 hours ago    223MB\n",
      "bretfisher/examplevotingapp_worker      latest     558ee64f7765   37 hours ago    279MB\n",
      "postgres                                latest     29e0bb09c8e7   2 days ago      641MB\n",
      "postgres                                latest     29e0bb09c8e7   2 days ago      641MB\n",
      "postgres                                14         3bd32ecc31b2   2 days ago      624MB\n",
      "drupal                                  latest     f9b9e6d6ec75   3 days ago      933MB\n",
      "nginx                                   latest     33e0bbc7ca9e   3 days ago      279MB\n",
      "custom-drupal                           latest     dbd5d835b861   4 days ago      976MB\n",
      "nginx-custom                            latest     54fb126194ea   4 days ago      214MB\n",
      "redis                                   alpine     7521abdff715   12 days ago     100MB\n",
      "httpd                                   latest     fbc12199ccad   3 weeks ago     221MB\n",
      "alpine                                  latest     4bcff63911fc   4 weeks ago     12.8MB\n",
      "redis                                   7-alpine   bb186d083732   5 weeks ago     60.6MB\n",
      "postgres                                14         563a4985838f   2 months ago    604MB\n",
      "registry                                latest     3725021071ec   4 months ago    77.8MB\n",
      "dockersamples/examplevotingapp_vote     before     7102d3b952ec   10 months ago   230MB\n",
      "dockersamples/examplevotingapp_worker   latest     c8a857106547   10 months ago   288MB\n",
      "dockersamples/examplevotingapp_result   before     06c50992ab25   10 months ago   321MB\n",
      "drupal                                  9          ed8ce9cb9185   23 months ago   920MB\n",
      "nginx                                   1.23       f5747a42e3ad   2 years ago     214MB\n",
      "bretfisher/visualizer                   latest     b3cc0888b858   2 years ago     334MB\n",
      "postgres                                9.4        42a7a6a647a6   5 years ago     367MB\n",
      "redis                                   3.2        7b0a40301bc1   6 years ago     115MB\n",
      "elasticsearch                           2          41ed3a1a16b6   6 years ago     742MB\n",
      "nginx                                   1.13.6     9fca103a62af   7 years ago     164MB\n",
      "drupal                                  8.2        f2dc3f325da9   8 years ago     714MB\n"
     ]
    }
   ],
   "source": [
    "!docker image ls"
   ]
  },
  {
   "cell_type": "code",
   "execution_count": 18,
   "id": "97df2a8d",
   "metadata": {},
   "outputs": [
    {
     "name": "stdout",
     "output_type": "stream",
     "text": [
      "Using default tag: latest\n",
      "latest: Pulling from library/hello-world\n",
      "17eec7bbc9d7: Pulling fs layer\n",
      "17eec7bbc9d7: Download complete\n",
      "17eec7bbc9d7: Pull complete\n",
      "Digest: sha256:a0dfb02aac212703bfcb339d77d47ec32c8706ff250850ecc0e19c8737b18567\n",
      "Status: Downloaded newer image for hello-world:latest\n",
      "docker.io/library/hello-world:latest\n"
     ]
    }
   ],
   "source": [
    "!docker pull hello-world"
   ]
  },
  {
   "cell_type": "code",
   "execution_count": 22,
   "id": "f812a285",
   "metadata": {},
   "outputs": [
    {
     "name": "stdout",
     "output_type": "stream",
     "text": [
      "\n",
      "Hello from Docker!\n",
      "This message shows that your installation appears to be working correctly.\n",
      "\n",
      "To generate this message, Docker took the following steps:\n",
      " 1. The Docker client contacted the Docker daemon.\n",
      " 2. The Docker daemon pulled the \"hello-world\" image from the Docker Hub.\n",
      "    (amd64)\n",
      " 3. The Docker daemon created a new container from that image which runs the\n",
      "    executable that produces the output you are currently reading.\n",
      " 4. The Docker daemon streamed that output to the Docker client, which sent it\n",
      "    to your terminal.\n",
      "\n",
      "To try something more ambitious, you can run an Ubuntu container with:\n",
      " $ docker run -it ubuntu bash\n",
      "\n",
      "Share images, automate workflows, and more with a free Docker ID:\n",
      " https://hub.docker.com/\n",
      "\n",
      "For more examples and ideas, visit:\n",
      " https://docs.docker.com/get-started/\n",
      "\n"
     ]
    }
   ],
   "source": [
    "!docker run hello-world"
   ]
  },
  {
   "cell_type": "code",
   "execution_count": 23,
   "id": "8cccde52",
   "metadata": {},
   "outputs": [],
   "source": [
    "!docker tag hello-world 127.0.0.1:5000/hello-world"
   ]
  },
  {
   "cell_type": "code",
   "execution_count": 24,
   "id": "76fd8ded",
   "metadata": {},
   "outputs": [
    {
     "name": "stdout",
     "output_type": "stream",
     "text": [
      "REPOSITORY                              TAG        IMAGE ID       CREATED         SIZE\n",
      "bretfisher/examplevotingapp_result      latest     d4b11b4f068f   37 hours ago    319MB\n",
      "bretfisher/examplevotingapp_vote        latest     5db33e77efbf   37 hours ago    223MB\n",
      "bretfisher/examplevotingapp_worker      latest     558ee64f7765   37 hours ago    279MB\n",
      "postgres                                latest     29e0bb09c8e7   2 days ago      641MB\n",
      "postgres                                latest     29e0bb09c8e7   2 days ago      641MB\n",
      "postgres                                14         3bd32ecc31b2   2 days ago      624MB\n",
      "drupal                                  latest     f9b9e6d6ec75   3 days ago      933MB\n",
      "nginx                                   latest     33e0bbc7ca9e   3 days ago      279MB\n",
      "custom-drupal                           latest     dbd5d835b861   4 days ago      976MB\n",
      "nginx-custom                            latest     54fb126194ea   4 days ago      214MB\n",
      "hello-world                             latest     a0dfb02aac21   8 days ago      20.3kB\n",
      "127.0.0.1:5000/hello-world              latest     a0dfb02aac21   8 days ago      20.3kB\n",
      "redis                                   alpine     7521abdff715   12 days ago     100MB\n",
      "httpd                                   latest     fbc12199ccad   3 weeks ago     221MB\n",
      "alpine                                  latest     4bcff63911fc   4 weeks ago     12.8MB\n",
      "redis                                   7-alpine   bb186d083732   5 weeks ago     60.6MB\n",
      "postgres                                14         563a4985838f   2 months ago    604MB\n",
      "registry                                latest     3725021071ec   4 months ago    77.8MB\n",
      "dockersamples/examplevotingapp_vote     before     7102d3b952ec   10 months ago   230MB\n",
      "dockersamples/examplevotingapp_worker   latest     c8a857106547   10 months ago   288MB\n",
      "dockersamples/examplevotingapp_result   before     06c50992ab25   10 months ago   321MB\n",
      "drupal                                  9          ed8ce9cb9185   23 months ago   920MB\n",
      "nginx                                   1.23       f5747a42e3ad   2 years ago     214MB\n",
      "bretfisher/visualizer                   latest     b3cc0888b858   2 years ago     334MB\n",
      "postgres                                9.4        42a7a6a647a6   5 years ago     367MB\n",
      "redis                                   3.2        7b0a40301bc1   6 years ago     115MB\n",
      "elasticsearch                           2          41ed3a1a16b6   6 years ago     742MB\n",
      "nginx                                   1.13.6     9fca103a62af   7 years ago     164MB\n",
      "drupal                                  8.2        f2dc3f325da9   8 years ago     714MB\n"
     ]
    }
   ],
   "source": [
    "!docker image ls"
   ]
  },
  {
   "cell_type": "code",
   "execution_count": 25,
   "id": "de82d368",
   "metadata": {},
   "outputs": [
    {
     "name": "stdout",
     "output_type": "stream",
     "text": [
      "Using default tag: latest\n",
      "The push refers to repository [127.0.0.1:5000/hello-world]\n",
      "17eec7bbc9d7: Layer already exists\n",
      "latest: digest: sha256:2771e37a12b7bcb2902456ecf3f29bf9ee11ec348e66e8eb322d9780ad7fc2df size: 1035\n",
      "\n",
      " Info -> Not all multiplatform-content is present and only the available single-platform image was pushed\n",
      "         \u001b[31msha256:a0dfb02aac212703bfcb339d77d47ec32c8706ff250850ecc0e19c8737b18567\u001b[0m -> \u001b[32msha256:2771e37a12b7bcb2902456ecf3f29bf9ee11ec348e66e8eb322d9780ad7fc2df\u001b[0m\n"
     ]
    }
   ],
   "source": [
    "!docker push 127.0.0.1:5000/hello-world"
   ]
  },
  {
   "cell_type": "code",
   "execution_count": 26,
   "id": "e701f7a4",
   "metadata": {},
   "outputs": [
    {
     "name": "stdout",
     "output_type": "stream",
     "text": [
      "Untagged: hello-world:latest\n"
     ]
    }
   ],
   "source": [
    "!docker image remove hello-world"
   ]
  },
  {
   "cell_type": "code",
   "execution_count": 29,
   "id": "1911f6a3",
   "metadata": {},
   "outputs": [
    {
     "name": "stdout",
     "output_type": "stream",
     "text": [
      "CONTAINER ID   IMAGE             COMMAND                  CREATED              STATUS                          PORTS                                         NAMES\n",
      "db5954fb8c6b   a0dfb02aac21      \"/hello\"                 About a minute ago   Exited (0) About a minute ago                                                 thirsty_chandrasekhar\n",
      "e6c9f2f59aab   registry:latest   \"/entrypoint.sh /etc…\"   2 minutes ago        Up 2 minutes                    0.0.0.0:5000->5000/tcp, [::]:5000->5000/tcp   registry\n"
     ]
    }
   ],
   "source": [
    "!docker container ls -a"
   ]
  },
  {
   "cell_type": "code",
   "execution_count": 30,
   "id": "9bc085aa",
   "metadata": {},
   "outputs": [
    {
     "name": "stdout",
     "output_type": "stream",
     "text": [
      "db5954fb8c6b\n"
     ]
    }
   ],
   "source": [
    "!docker container rm db5954fb8c6b   "
   ]
  },
  {
   "cell_type": "code",
   "execution_count": 31,
   "id": "b099d6c6",
   "metadata": {},
   "outputs": [
    {
     "name": "stdout",
     "output_type": "stream",
     "text": [
      "Untagged: 127.0.0.1:5000/hello-world:latest\n",
      "Deleted: sha256:a0dfb02aac212703bfcb339d77d47ec32c8706ff250850ecc0e19c8737b18567\n"
     ]
    }
   ],
   "source": [
    "!docker image remove 127.0.0.1:5000/hello-world"
   ]
  },
  {
   "cell_type": "code",
   "execution_count": 32,
   "id": "6e6b6436",
   "metadata": {},
   "outputs": [
    {
     "name": "stdout",
     "output_type": "stream",
     "text": [
      "REPOSITORY                              TAG        IMAGE ID       CREATED         SIZE\n",
      "bretfisher/examplevotingapp_result      latest     d4b11b4f068f   37 hours ago    319MB\n",
      "bretfisher/examplevotingapp_vote        latest     5db33e77efbf   37 hours ago    223MB\n",
      "bretfisher/examplevotingapp_worker      latest     558ee64f7765   37 hours ago    279MB\n",
      "postgres                                latest     29e0bb09c8e7   2 days ago      641MB\n",
      "postgres                                latest     29e0bb09c8e7   2 days ago      641MB\n",
      "postgres                                14         3bd32ecc31b2   2 days ago      624MB\n",
      "drupal                                  latest     f9b9e6d6ec75   3 days ago      933MB\n",
      "nginx                                   latest     33e0bbc7ca9e   3 days ago      279MB\n",
      "custom-drupal                           latest     dbd5d835b861   4 days ago      976MB\n",
      "nginx-custom                            latest     54fb126194ea   4 days ago      214MB\n",
      "redis                                   alpine     7521abdff715   12 days ago     100MB\n",
      "httpd                                   latest     fbc12199ccad   3 weeks ago     221MB\n",
      "alpine                                  latest     4bcff63911fc   4 weeks ago     12.8MB\n",
      "redis                                   7-alpine   bb186d083732   5 weeks ago     60.6MB\n",
      "postgres                                14         563a4985838f   2 months ago    604MB\n",
      "registry                                latest     3725021071ec   4 months ago    77.8MB\n",
      "dockersamples/examplevotingapp_vote     before     7102d3b952ec   10 months ago   230MB\n",
      "dockersamples/examplevotingapp_worker   latest     c8a857106547   10 months ago   288MB\n",
      "dockersamples/examplevotingapp_result   before     06c50992ab25   10 months ago   321MB\n",
      "drupal                                  9          ed8ce9cb9185   23 months ago   920MB\n",
      "nginx                                   1.23       f5747a42e3ad   2 years ago     214MB\n",
      "bretfisher/visualizer                   latest     b3cc0888b858   2 years ago     334MB\n",
      "postgres                                9.4        42a7a6a647a6   5 years ago     367MB\n",
      "redis                                   3.2        7b0a40301bc1   6 years ago     115MB\n",
      "elasticsearch                           2          41ed3a1a16b6   6 years ago     742MB\n",
      "nginx                                   1.13.6     9fca103a62af   7 years ago     164MB\n",
      "drupal                                  8.2        f2dc3f325da9   8 years ago     714MB\n"
     ]
    }
   ],
   "source": [
    "!docker image ls"
   ]
  },
  {
   "cell_type": "code",
   "execution_count": 33,
   "id": "3a403146",
   "metadata": {},
   "outputs": [
    {
     "name": "stdout",
     "output_type": "stream",
     "text": [
      "Using default tag: latest\n",
      "latest: Pulling from hello-world\n",
      "17eec7bbc9d7: Pulling fs layer\n",
      "17eec7bbc9d7: Download complete\n",
      "17eec7bbc9d7: Pull complete\n",
      "Digest: sha256:2771e37a12b7bcb2902456ecf3f29bf9ee11ec348e66e8eb322d9780ad7fc2df\n",
      "Status: Downloaded newer image for 127.0.0.1:5000/hello-world:latest\n",
      "127.0.0.1:5000/hello-world:latest\n"
     ]
    }
   ],
   "source": [
    "!docker pull 127.0.0.1:5000/hello-world"
   ]
  },
  {
   "cell_type": "code",
   "execution_count": 35,
   "id": "944d5e7a",
   "metadata": {},
   "outputs": [
    {
     "name": "stdout",
     "output_type": "stream",
     "text": [
      "registry\n"
     ]
    }
   ],
   "source": [
    "!docker container kill registry"
   ]
  },
  {
   "cell_type": "code",
   "execution_count": 36,
   "id": "4cb79551",
   "metadata": {},
   "outputs": [
    {
     "name": "stdout",
     "output_type": "stream",
     "text": [
      "registry\n"
     ]
    }
   ],
   "source": [
    "!docker container rm registry"
   ]
  },
  {
   "cell_type": "code",
   "execution_count": 37,
   "id": "ab41573b",
   "metadata": {},
   "outputs": [
    {
     "name": "stdout",
     "output_type": "stream",
     "text": [
      "ae2b234cbffa53308b1c5877aa751c70177d0736efa45e14b77fd9486dd0fecd\n"
     ]
    }
   ],
   "source": [
    "!docker container run -d -p 5000:5000 --name registry -v ./registry-data:/var/lib/registry registry:latest"
   ]
  },
  {
   "cell_type": "code",
   "execution_count": 38,
   "id": "1b3a0582",
   "metadata": {},
   "outputs": [
    {
     "name": "stdout",
     "output_type": "stream",
     "text": [
      "REPOSITORY                              TAG        IMAGE ID       CREATED         SIZE\n",
      "bretfisher/examplevotingapp_result      latest     d4b11b4f068f   37 hours ago    319MB\n",
      "bretfisher/examplevotingapp_vote        latest     5db33e77efbf   37 hours ago    223MB\n",
      "bretfisher/examplevotingapp_worker      latest     558ee64f7765   37 hours ago    279MB\n",
      "postgres                                latest     29e0bb09c8e7   2 days ago      641MB\n",
      "postgres                                latest     29e0bb09c8e7   2 days ago      641MB\n",
      "postgres                                14         3bd32ecc31b2   2 days ago      624MB\n",
      "drupal                                  latest     f9b9e6d6ec75   3 days ago      933MB\n",
      "nginx                                   latest     33e0bbc7ca9e   3 days ago      279MB\n",
      "custom-drupal                           latest     dbd5d835b861   4 days ago      976MB\n",
      "nginx-custom                            latest     54fb126194ea   4 days ago      214MB\n",
      "127.0.0.1:5000/hello-world              latest     2771e37a12b7   8 days ago      20.3kB\n",
      "redis                                   alpine     7521abdff715   12 days ago     100MB\n",
      "httpd                                   latest     fbc12199ccad   3 weeks ago     221MB\n",
      "alpine                                  latest     4bcff63911fc   4 weeks ago     12.8MB\n",
      "redis                                   7-alpine   bb186d083732   5 weeks ago     60.6MB\n",
      "postgres                                14         563a4985838f   2 months ago    604MB\n",
      "registry                                latest     3725021071ec   4 months ago    77.8MB\n",
      "dockersamples/examplevotingapp_vote     before     7102d3b952ec   10 months ago   230MB\n",
      "dockersamples/examplevotingapp_worker   latest     c8a857106547   10 months ago   288MB\n",
      "dockersamples/examplevotingapp_result   before     06c50992ab25   10 months ago   321MB\n",
      "drupal                                  9          ed8ce9cb9185   23 months ago   920MB\n",
      "nginx                                   1.23       f5747a42e3ad   2 years ago     214MB\n",
      "bretfisher/visualizer                   latest     b3cc0888b858   2 years ago     334MB\n",
      "postgres                                9.4        42a7a6a647a6   5 years ago     367MB\n",
      "redis                                   3.2        7b0a40301bc1   6 years ago     115MB\n",
      "elasticsearch                           2          41ed3a1a16b6   6 years ago     742MB\n",
      "nginx                                   1.13.6     9fca103a62af   7 years ago     164MB\n",
      "drupal                                  8.2        f2dc3f325da9   8 years ago     714MB\n"
     ]
    }
   ],
   "source": [
    "!docker image ls"
   ]
  },
  {
   "cell_type": "code",
   "execution_count": 39,
   "id": "9298c1a4",
   "metadata": {},
   "outputs": [
    {
     "name": "stdout",
     "output_type": "stream",
     "text": [
      "Using default tag: latest\n",
      "The push refers to repository [127.0.0.1:5000/hello-world]\n",
      "17eec7bbc9d7: Pushed\n",
      "latest: digest: sha256:2771e37a12b7bcb2902456ecf3f29bf9ee11ec348e66e8eb322d9780ad7fc2df size: 1035\n"
     ]
    }
   ],
   "source": [
    "!docker push 127.0.0.1:5000/hello-world"
   ]
  },
  {
   "cell_type": "code",
   "execution_count": null,
   "id": "50014ebd",
   "metadata": {},
   "outputs": [],
   "source": []
  }
 ],
 "metadata": {
  "kernelspec": {
   "display_name": ".venv",
   "language": "python",
   "name": "python3"
  },
  "language_info": {
   "codemirror_mode": {
    "name": "ipython",
    "version": 3
   },
   "file_extension": ".py",
   "mimetype": "text/x-python",
   "name": "python",
   "nbconvert_exporter": "python",
   "pygments_lexer": "ipython3",
   "version": "3.13.5"
  }
 },
 "nbformat": 4,
 "nbformat_minor": 5
}
