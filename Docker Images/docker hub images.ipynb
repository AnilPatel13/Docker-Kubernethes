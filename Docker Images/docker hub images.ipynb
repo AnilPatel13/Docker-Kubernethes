{
 "cells": [
  {
   "cell_type": "code",
   "execution_count": 2,
   "id": "57da86fa",
   "metadata": {},
   "outputs": [
    {
     "name": "stdout",
     "output_type": "stream",
     "text": [
      "REPOSITORY              TAG        IMAGE ID       CREATED         SIZE\n",
      "mongo                   latest     a6bda40d00e5   2 weeks ago     1.22GB\n",
      "httpd                   latest     fbc12199ccad   2 weeks ago     221MB\n",
      "mysql                   latest     a776e89aad2d   2 weeks ago     1.26GB\n",
      "curlimages/curl         latest     4026b29997dc   3 weeks ago     33.5MB\n",
      "alpine                  latest     4bcff63911fc   3 weeks ago     12.8MB\n",
      "nginx                   latest     84ec966e61a8   3 weeks ago     279MB\n",
      "ubuntu                  latest     a08e551cb338   3 weeks ago     117MB\n",
      "rockylinux/rockylinux   10         02564b26a5d1   2 months ago    345MB\n",
      "busybox                 latest     f9a104fddb33   10 months ago   6.55MB\n",
      "centos                  7          be65f488b776   3 years ago     301MB\n",
      "centos                  7.9.2009   be65f488b776   3 years ago     301MB\n",
      "centos                  8          a27fd8080b51   3 years ago     340MB\n",
      "ubuntu                  14.04      64483f3496c1   4 years ago     300MB\n",
      "elasticsearch           2          41ed3a1a16b6   6 years ago     742MB\n"
     ]
    }
   ],
   "source": [
    "!docker image ls"
   ]
  },
  {
   "cell_type": "code",
   "execution_count": 3,
   "id": "f35f320a",
   "metadata": {},
   "outputs": [
    {
     "name": "stdout",
     "output_type": "stream",
     "text": [
      "Using default tag: latest\n",
      "latest: Pulling from library/nginx\n",
      "Digest: sha256:84ec966e61a8c7846f509da7eb081c55c1d56817448728924a87ab32f12a72fb\n",
      "Status: Image is up to date for nginx:latest\n",
      "docker.io/library/nginx:latest\n"
     ]
    }
   ],
   "source": [
    "!docker pull nginx"
   ]
  },
  {
   "cell_type": "code",
   "execution_count": 4,
   "id": "9b23565d",
   "metadata": {},
   "outputs": [
    {
     "name": "stdout",
     "output_type": "stream",
     "text": [
      "1.11.9: Pulling from library/nginx\n",
      "4df1e44d2a7a: Pulling fs layer\n",
      "333547110842: Pulling fs layer\n",
      "5040bd298390: Pulling fs layer\n",
      "4df1e44d2a7a: Download complete\n",
      "333547110842: Download complete\n",
      "5040bd298390: Download complete\n",
      "5040bd298390: Pull complete\n",
      "4df1e44d2a7a: Pull complete\n",
      "333547110842: Pull complete\n",
      "Digest: sha256:f2d384a6ca8ada733df555be3edc427f2e5f285ebf468aae940843de8cf74645\n",
      "Status: Downloaded newer image for nginx:1.11.9\n",
      "docker.io/library/nginx:1.11.9\n"
     ]
    }
   ],
   "source": [
    "!docker pull nginx:1.11.9"
   ]
  },
  {
   "cell_type": "code",
   "execution_count": 5,
   "id": "d8306cce",
   "metadata": {},
   "outputs": [
    {
     "name": "stdout",
     "output_type": "stream",
     "text": [
      "1.11.9-alpine: Pulling from library/nginx\n",
      "b7f33cc0b48e: Pulling fs layer\n",
      "50a2334db9bc: Pulling fs layer\n",
      "9a57e9207914: Pulling fs layer\n",
      "79f62f9c7236: Pulling fs layer\n",
      "b7f33cc0b48e: Download complete\n",
      "79f62f9c7236: Download complete\n",
      "50a2334db9bc: Download complete\n",
      "b7f33cc0b48e: Pull complete\n",
      "9a57e9207914: Download complete\n",
      "9a57e9207914: Pull complete\n",
      "79f62f9c7236: Pull complete\n",
      "50a2334db9bc: Pull complete\n",
      "Digest: sha256:d34e2176dab830485b0cb79340e1d5ebf7d530b34ad7bfe05d269ffed20a88f4\n",
      "Status: Downloaded newer image for nginx:1.11.9-alpine\n",
      "docker.io/library/nginx:1.11.9-alpine\n"
     ]
    }
   ],
   "source": [
    "!docker pull nginx:1.11.9-alpine"
   ]
  },
  {
   "cell_type": "code",
   "execution_count": 6,
   "id": "2aa96abb",
   "metadata": {},
   "outputs": [
    {
     "name": "stdout",
     "output_type": "stream",
     "text": [
      "REPOSITORY              TAG             IMAGE ID       CREATED         SIZE\n",
      "mongo                   latest          a6bda40d00e5   2 weeks ago     1.22GB\n",
      "httpd                   latest          fbc12199ccad   2 weeks ago     221MB\n",
      "mysql                   latest          a776e89aad2d   2 weeks ago     1.26GB\n",
      "curlimages/curl         latest          4026b29997dc   3 weeks ago     33.5MB\n",
      "alpine                  latest          4bcff63911fc   3 weeks ago     12.8MB\n",
      "nginx                   latest          84ec966e61a8   3 weeks ago     279MB\n",
      "ubuntu                  latest          a08e551cb338   3 weeks ago     117MB\n",
      "rockylinux/rockylinux   10              02564b26a5d1   2 months ago    345MB\n",
      "busybox                 latest          f9a104fddb33   10 months ago   6.55MB\n",
      "centos                  7               be65f488b776   3 years ago     301MB\n",
      "centos                  7.9.2009        be65f488b776   3 years ago     301MB\n",
      "centos                  8               a27fd8080b51   3 years ago     340MB\n",
      "ubuntu                  14.04           64483f3496c1   4 years ago     300MB\n",
      "elasticsearch           2               41ed3a1a16b6   6 years ago     742MB\n",
      "nginx                   1.11.9-alpine   d34e2176dab8   8 years ago     76.5MB\n",
      "nginx                   1.11.9          f2d384a6ca8a   8 years ago     279MB\n"
     ]
    }
   ],
   "source": [
    "!docker image ls"
   ]
  },
  {
   "cell_type": "code",
   "execution_count": 7,
   "id": "5f57185e",
   "metadata": {},
   "outputs": [
    {
     "name": "stdout",
     "output_type": "stream",
     "text": [
      "IMAGE          CREATED       CREATED BY                                      SIZE      COMMENT\n",
      "84ec966e61a8   3 weeks ago   CMD [\"nginx\" \"-g\" \"daemon off;\"]                0B        buildkit.dockerfile.v0\n",
      "<missing>      3 weeks ago   STOPSIGNAL SIGQUIT                              0B        buildkit.dockerfile.v0\n",
      "<missing>      3 weeks ago   EXPOSE map[80/tcp:{}]                           0B        buildkit.dockerfile.v0\n",
      "<missing>      3 weeks ago   ENTRYPOINT [\"/docker-entrypoint.sh\"]            0B        buildkit.dockerfile.v0\n",
      "<missing>      3 weeks ago   COPY 30-tune-worker-processes.sh /docker-ent…   16.4kB    buildkit.dockerfile.v0\n",
      "<missing>      3 weeks ago   COPY 20-envsubst-on-templates.sh /docker-ent…   12.3kB    buildkit.dockerfile.v0\n",
      "<missing>      3 weeks ago   COPY 15-local-resolvers.envsh /docker-entryp…   12.3kB    buildkit.dockerfile.v0\n",
      "<missing>      3 weeks ago   COPY 10-listen-on-ipv6-by-default.sh /docker…   12.3kB    buildkit.dockerfile.v0\n",
      "<missing>      3 weeks ago   COPY docker-entrypoint.sh / # buildkit          8.19kB    buildkit.dockerfile.v0\n",
      "<missing>      3 weeks ago   RUN /bin/sh -c set -x     && groupadd --syst…   121MB     buildkit.dockerfile.v0\n",
      "<missing>      3 weeks ago   ENV DYNPKG_RELEASE=1~bookworm                   0B        buildkit.dockerfile.v0\n",
      "<missing>      3 weeks ago   ENV PKG_RELEASE=1~bookworm                      0B        buildkit.dockerfile.v0\n",
      "<missing>      3 weeks ago   ENV NJS_RELEASE=1~bookworm                      0B        buildkit.dockerfile.v0\n",
      "<missing>      3 weeks ago   ENV NJS_VERSION=0.9.0                           0B        buildkit.dockerfile.v0\n",
      "<missing>      3 weeks ago   ENV NGINX_VERSION=1.29.0                        0B        buildkit.dockerfile.v0\n",
      "<missing>      3 weeks ago   LABEL maintainer=NGINX Docker Maintainers <d…   0B        buildkit.dockerfile.v0\n",
      "<missing>      3 weeks ago   # debian.sh --arch 'amd64' out/ 'bookworm' '…   85.2MB    debuerreotype 0.15\n"
     ]
    }
   ],
   "source": [
    "!docker history nginx:latest"
   ]
  },
  {
   "cell_type": "code",
   "execution_count": 8,
   "id": "9f773b8d",
   "metadata": {},
   "outputs": [
    {
     "name": "stdout",
     "output_type": "stream",
     "text": [
      "IMAGE          CREATED       CREATED BY                                      SIZE      COMMENT\n",
      "a776e89aad2d   2 weeks ago   CMD [\"mysqld\"]                                  0B        buildkit.dockerfile.v0\n",
      "<missing>      2 weeks ago   EXPOSE map[3306/tcp:{} 33060/tcp:{}]            0B        buildkit.dockerfile.v0\n",
      "<missing>      2 weeks ago   ENTRYPOINT [\"docker-entrypoint.sh\"]             0B        buildkit.dockerfile.v0\n",
      "<missing>      2 weeks ago   COPY docker-entrypoint.sh /usr/local/bin/ # …   32.8kB    buildkit.dockerfile.v0\n",
      "<missing>      2 weeks ago   VOLUME [/var/lib/mysql]                         0B        buildkit.dockerfile.v0\n",
      "<missing>      2 weeks ago   RUN /bin/sh -c set -eux;  microdnf install -…   693MB     buildkit.dockerfile.v0\n",
      "<missing>      2 weeks ago   ENV MYSQL_SHELL_VERSION=9.4.0-1.el9             0B        buildkit.dockerfile.v0\n",
      "<missing>      2 weeks ago   RUN /bin/sh -c set -eu;  {   echo '[mysql-to…   16.4kB    buildkit.dockerfile.v0\n",
      "<missing>      2 weeks ago   RUN /bin/sh -c set -eux;  microdnf install -…   146MB     buildkit.dockerfile.v0\n",
      "<missing>      2 weeks ago   RUN /bin/sh -c set -eu;  {   echo '[mysqlinn…   16.4kB    buildkit.dockerfile.v0\n",
      "<missing>      2 weeks ago   ENV MYSQL_VERSION=9.4.0-1.el9                   0B        buildkit.dockerfile.v0\n",
      "<missing>      2 weeks ago   ENV MYSQL_MAJOR=innovation                      0B        buildkit.dockerfile.v0\n",
      "<missing>      2 weeks ago   RUN /bin/sh -c set -eux;  key='BCA4 3417 C3B…   20.5kB    buildkit.dockerfile.v0\n",
      "<missing>      2 weeks ago   RUN /bin/sh -c set -eux;  microdnf install -…   17.7MB    buildkit.dockerfile.v0\n",
      "<missing>      2 weeks ago   RUN /bin/sh -c set -eux;  arch=\"$(uname -m)\"…   2.38MB    buildkit.dockerfile.v0\n",
      "<missing>      2 weeks ago   ENV GOSU_VERSION=1.17                           0B        buildkit.dockerfile.v0\n",
      "<missing>      2 weeks ago   RUN /bin/sh -c set -eux;  groupadd --system …   41kB      buildkit.dockerfile.v0\n",
      "<missing>      2 weeks ago   CMD [\"/bin/bash\"]                               0B        buildkit.dockerfile.v0\n",
      "<missing>      2 weeks ago   ADD oraclelinux-9-slim-amd64-rootfs.tar.xz /…   123MB     buildkit.dockerfile.v0\n"
     ]
    }
   ],
   "source": [
    "!docker history mysql"
   ]
  },
  {
   "cell_type": "code",
   "execution_count": 9,
   "id": "ec7a584b",
   "metadata": {},
   "outputs": [
    {
     "name": "stdout",
     "output_type": "stream",
     "text": [
      "[\n",
      "    {\n",
      "        \"Id\": \"sha256:84ec966e61a8c7846f509da7eb081c55c1d56817448728924a87ab32f12a72fb\",\n",
      "        \"RepoTags\": [\n",
      "            \"nginx:latest\"\n",
      "        ],\n",
      "        \"RepoDigests\": [\n",
      "            \"nginx@sha256:84ec966e61a8c7846f509da7eb081c55c1d56817448728924a87ab32f12a72fb\"\n",
      "        ],\n",
      "        \"Parent\": \"\",\n",
      "        \"Comment\": \"buildkit.dockerfile.v0\",\n",
      "        \"Created\": \"2025-07-14T22:07:26Z\",\n",
      "        \"DockerVersion\": \"\",\n",
      "        \"Author\": \"\",\n",
      "        \"Architecture\": \"amd64\",\n",
      "        \"Os\": \"linux\",\n",
      "        \"Size\": 72223946,\n",
      "        \"GraphDriver\": {\n",
      "            \"Data\": null,\n",
      "            \"Name\": \"overlayfs\"\n",
      "        },\n",
      "        \"RootFS\": {\n",
      "            \"Type\": \"layers\",\n",
      "            \"Layers\": [\n",
      "                \"sha256:7cc7fe68eff66f19872441a51938eecc4ad33746d2baa3abc081c1e6fe25988e\",\n",
      "                \"sha256:30837a0774b97fd5fd6306e4a67b9dba10fff174d82f0e7d2c6104dc79716fc3\",\n",
      "                \"sha256:a6b19c3d00b104e9f5ae798917606b4706bf27748a008a5b44211b801ede45d8\",\n",
      "                \"sha256:6b1b97dc92853f9880a37c378d2fe582eaca6567f3962d6d69dcbf35f65d95f9\",\n",
      "                \"sha256:5c91a024d899eb09709296029b21f98722fa446ac7e37bb85b36f6484c499a2e\",\n",
      "                \"sha256:0662742b23b26cd3b0c231ac4003d7343e3df50c62765b0baf6336c58156fa76\",\n",
      "                \"sha256:f17478b6e8f3dcfdeb55c9e82529529ff6a984b3f72daa2fd723435f9ee9f93f\"\n",
      "            ]\n",
      "        },\n",
      "        \"Metadata\": {\n",
      "            \"LastTagTime\": \"2025-08-10T19:20:02.372372407Z\"\n",
      "        },\n",
      "        \"Descriptor\": {\n",
      "            \"mediaType\": \"application/vnd.oci.image.index.v1+json\",\n",
      "            \"digest\": \"sha256:84ec966e61a8c7846f509da7eb081c55c1d56817448728924a87ab32f12a72fb\",\n",
      "            \"size\": 10248\n",
      "        },\n",
      "        \"Config\": {\n",
      "            \"Cmd\": [\n",
      "                \"nginx\",\n",
      "                \"-g\",\n",
      "                \"daemon off;\"\n",
      "            ],\n",
      "            \"Entrypoint\": [\n",
      "                \"/docker-entrypoint.sh\"\n",
      "            ],\n",
      "            \"Env\": [\n",
      "                \"PATH=/usr/local/sbin:/usr/local/bin:/usr/sbin:/usr/bin:/sbin:/bin\",\n",
      "                \"NGINX_VERSION=1.29.0\",\n",
      "                \"NJS_VERSION=0.9.0\",\n",
      "                \"NJS_RELEASE=1~bookworm\",\n",
      "                \"PKG_RELEASE=1~bookworm\",\n",
      "                \"DYNPKG_RELEASE=1~bookworm\"\n",
      "            ],\n",
      "            \"ExposedPorts\": {\n",
      "                \"80/tcp\": {}\n",
      "            },\n",
      "            \"Labels\": {\n",
      "                \"maintainer\": \"NGINX Docker Maintainers \\u003cdocker-maint@nginx.com\\u003e\"\n",
      "            },\n",
      "            \"OnBuild\": null,\n",
      "            \"StopSignal\": \"SIGQUIT\",\n",
      "            \"User\": \"\",\n",
      "            \"Volumes\": null,\n",
      "            \"WorkingDir\": \"\"\n",
      "        }\n",
      "    }\n",
      "]\n"
     ]
    }
   ],
   "source": [
    "!docker image inspect nginx"
   ]
  },
  {
   "cell_type": "code",
   "execution_count": 10,
   "id": "04e57f47",
   "metadata": {},
   "outputs": [
    {
     "name": "stdout",
     "output_type": "stream",
     "text": [
      "REPOSITORY              TAG             IMAGE ID       CREATED         SIZE\n",
      "mongo                   latest          a6bda40d00e5   2 weeks ago     1.22GB\n",
      "httpd                   latest          fbc12199ccad   2 weeks ago     221MB\n",
      "mysql                   latest          a776e89aad2d   2 weeks ago     1.26GB\n",
      "curlimages/curl         latest          4026b29997dc   3 weeks ago     33.5MB\n",
      "alpine                  latest          4bcff63911fc   3 weeks ago     12.8MB\n",
      "nginx                   latest          84ec966e61a8   3 weeks ago     279MB\n",
      "ubuntu                  latest          a08e551cb338   3 weeks ago     117MB\n",
      "rockylinux/rockylinux   10              02564b26a5d1   2 months ago    345MB\n",
      "busybox                 latest          f9a104fddb33   10 months ago   6.55MB\n",
      "centos                  7               be65f488b776   3 years ago     301MB\n",
      "centos                  7.9.2009        be65f488b776   3 years ago     301MB\n",
      "centos                  8               a27fd8080b51   3 years ago     340MB\n",
      "ubuntu                  14.04           64483f3496c1   4 years ago     300MB\n",
      "elasticsearch           2               41ed3a1a16b6   6 years ago     742MB\n",
      "nginx                   1.11.9-alpine   d34e2176dab8   8 years ago     76.5MB\n",
      "nginx                   1.11.9          f2d384a6ca8a   8 years ago     279MB\n"
     ]
    }
   ],
   "source": [
    "!docker image ls"
   ]
  },
  {
   "cell_type": "code",
   "execution_count": 11,
   "id": "b30d5319",
   "metadata": {},
   "outputs": [
    {
     "name": "stdout",
     "output_type": "stream",
     "text": [
      "Usage:  docker image tag SOURCE_IMAGE[:TAG] TARGET_IMAGE[:TAG]\n",
      "\n",
      "Create a tag TARGET_IMAGE that refers to SOURCE_IMAGE\n",
      "\n",
      "Aliases:\n",
      "  docker image tag, docker tag\n"
     ]
    }
   ],
   "source": [
    "!docker image tag --help"
   ]
  },
  {
   "cell_type": "code",
   "execution_count": 12,
   "id": "854b4c62",
   "metadata": {},
   "outputs": [
    {
     "name": "stdout",
     "output_type": "stream",
     "text": [
      "mainline: Pulling from library/nginx\n",
      "Digest: sha256:84ec966e61a8c7846f509da7eb081c55c1d56817448728924a87ab32f12a72fb\n",
      "Status: Downloaded newer image for nginx:mainline\n",
      "docker.io/library/nginx:mainline\n"
     ]
    }
   ],
   "source": [
    "!docker pull nginx:mainline"
   ]
  },
  {
   "cell_type": "code",
   "execution_count": 13,
   "id": "735bd317",
   "metadata": {},
   "outputs": [
    {
     "name": "stdout",
     "output_type": "stream",
     "text": [
      "REPOSITORY              TAG             IMAGE ID       CREATED         SIZE\n",
      "mongo                   latest          a6bda40d00e5   2 weeks ago     1.22GB\n",
      "httpd                   latest          fbc12199ccad   2 weeks ago     221MB\n",
      "mysql                   latest          a776e89aad2d   2 weeks ago     1.26GB\n",
      "curlimages/curl         latest          4026b29997dc   3 weeks ago     33.5MB\n",
      "alpine                  latest          4bcff63911fc   3 weeks ago     12.8MB\n",
      "nginx                   latest          84ec966e61a8   3 weeks ago     279MB\n",
      "nginx                   mainline        84ec966e61a8   3 weeks ago     279MB\n",
      "ubuntu                  latest          a08e551cb338   3 weeks ago     117MB\n",
      "rockylinux/rockylinux   10              02564b26a5d1   2 months ago    345MB\n",
      "busybox                 latest          f9a104fddb33   10 months ago   6.55MB\n",
      "centos                  7               be65f488b776   3 years ago     301MB\n",
      "centos                  7.9.2009        be65f488b776   3 years ago     301MB\n",
      "centos                  8               a27fd8080b51   3 years ago     340MB\n",
      "ubuntu                  14.04           64483f3496c1   4 years ago     300MB\n",
      "elasticsearch           2               41ed3a1a16b6   6 years ago     742MB\n",
      "nginx                   1.11.9-alpine   d34e2176dab8   8 years ago     76.5MB\n",
      "nginx                   1.11.9          f2d384a6ca8a   8 years ago     279MB\n"
     ]
    }
   ],
   "source": [
    "!docker image ls"
   ]
  },
  {
   "cell_type": "code",
   "execution_count": 14,
   "id": "6a7ba729",
   "metadata": {},
   "outputs": [],
   "source": [
    "!docker image tag nginx anil1318/nginx"
   ]
  },
  {
   "cell_type": "code",
   "execution_count": 15,
   "id": "c05f99e9",
   "metadata": {},
   "outputs": [
    {
     "name": "stdout",
     "output_type": "stream",
     "text": [
      "REPOSITORY              TAG             IMAGE ID       CREATED         SIZE\n",
      "mongo                   latest          a6bda40d00e5   2 weeks ago     1.22GB\n",
      "httpd                   latest          fbc12199ccad   2 weeks ago     221MB\n",
      "mysql                   latest          a776e89aad2d   2 weeks ago     1.26GB\n",
      "curlimages/curl         latest          4026b29997dc   3 weeks ago     33.5MB\n",
      "alpine                  latest          4bcff63911fc   3 weeks ago     12.8MB\n",
      "anil1318/nginx          latest          84ec966e61a8   3 weeks ago     279MB\n",
      "nginx                   latest          84ec966e61a8   3 weeks ago     279MB\n",
      "nginx                   mainline        84ec966e61a8   3 weeks ago     279MB\n",
      "ubuntu                  latest          a08e551cb338   3 weeks ago     117MB\n",
      "rockylinux/rockylinux   10              02564b26a5d1   2 months ago    345MB\n",
      "busybox                 latest          f9a104fddb33   10 months ago   6.55MB\n",
      "centos                  7               be65f488b776   3 years ago     301MB\n",
      "centos                  7.9.2009        be65f488b776   3 years ago     301MB\n",
      "centos                  8               a27fd8080b51   3 years ago     340MB\n",
      "ubuntu                  14.04           64483f3496c1   4 years ago     300MB\n",
      "elasticsearch           2               41ed3a1a16b6   6 years ago     742MB\n",
      "nginx                   1.11.9-alpine   d34e2176dab8   8 years ago     76.5MB\n",
      "nginx                   1.11.9          f2d384a6ca8a   8 years ago     279MB\n"
     ]
    }
   ],
   "source": [
    "!docker image ls"
   ]
  },
  {
   "cell_type": "code",
   "execution_count": 16,
   "id": "4a28c27e",
   "metadata": {},
   "outputs": [
    {
     "name": "stdout",
     "output_type": "stream",
     "text": [
      "Using default tag: latest\n",
      "The push refers to repository [docker.io/anil1318/nginx]\n",
      "2ef442a3816e: Unavailable\n",
      "140da4f89dcb: Unavailable\n",
      "4b1e45a9989f: Unavailable\n",
      "59e22667830b: Unavailable\n",
      "96e47e70491e: Unavailable\n",
      "1d9f51194194: Unavailable\n",
      "f30ffbee4c54: Unavailable\n",
      "1d9f51194194: Unavailable\n",
      "f30ffbee4c54: Unavailable\n",
      "2ef442a3816e: Unavailable\n",
      "140da4f89dcb: Unavailable\n",
      "4b1e45a9989f: Unavailable\n",
      "59e22667830b: Unavailable\n",
      "96e47e70491e: Unavailable\n",
      "2ef442a3816e: Unavailable\n",
      "140da4f89dcb: Unavailable\n",
      "4b1e45a9989f: Unavailable\n",
      "59e22667830b: Unavailable\n",
      "96e47e70491e: Unavailable\n",
      "1d9f51194194: Unavailable\n",
      "f30ffbee4c54: Unavailable\n",
      "59e22667830b: Unavailable\n",
      "96e47e70491e: Unavailable\n",
      "1d9f51194194: Unavailable\n",
      "f30ffbee4c54: Unavailable\n",
      "2ef442a3816e: Unavailable\n",
      "140da4f89dcb: Unavailable\n",
      "4b1e45a9989f: Unavailable\n",
      "f30ffbee4c54: Unavailable\n",
      "2ef442a3816e: Unavailable\n",
      "140da4f89dcb: Unavailable\n",
      "4b1e45a9989f: Unavailable\n",
      "59e22667830b: Unavailable\n",
      "96e47e70491e: Unavailable\n",
      "1d9f51194194: Unavailable\n",
      "f30ffbee4c54: Mounted from library/nginx\n",
      "2ef442a3816e: Mounted from library/nginx\n",
      "140da4f89dcb: Mounted from library/nginx\n",
      "4b1e45a9989f: Mounted from library/nginx\n",
      "59e22667830b: Mounted from library/nginx\n",
      "96e47e70491e: Mounted from library/nginx\n",
      "1d9f51194194: Mounted from library/nginx\n",
      "latest: digest: sha256:6533ddd664582430971e93e69cf343e3bfffceadeaaa97d4379c4d7a29f21d47 size: 2292\n",
      "\n",
      " Info -> Not all multiplatform-content is present and only the available single-platform image was pushed\n",
      "         \u001b[31msha256:84ec966e61a8c7846f509da7eb081c55c1d56817448728924a87ab32f12a72fb\u001b[0m -> \u001b[32msha256:6533ddd664582430971e93e69cf343e3bfffceadeaaa97d4379c4d7a29f21d47\u001b[0m\n"
     ]
    }
   ],
   "source": [
    "!docker image push anil1318/nginx"
   ]
  },
  {
   "cell_type": "code",
   "execution_count": 17,
   "id": "dd6bd78d",
   "metadata": {},
   "outputs": [],
   "source": [
    "!docker image tag anil1318/nginx anil1318/testing"
   ]
  },
  {
   "cell_type": "code",
   "execution_count": 18,
   "id": "2d2028ff",
   "metadata": {},
   "outputs": [
    {
     "name": "stdout",
     "output_type": "stream",
     "text": [
      "REPOSITORY              TAG             IMAGE ID       CREATED         SIZE\n",
      "mongo                   latest          a6bda40d00e5   2 weeks ago     1.22GB\n",
      "httpd                   latest          fbc12199ccad   2 weeks ago     221MB\n",
      "mysql                   latest          a776e89aad2d   2 weeks ago     1.26GB\n",
      "curlimages/curl         latest          4026b29997dc   3 weeks ago     33.5MB\n",
      "alpine                  latest          4bcff63911fc   3 weeks ago     12.8MB\n",
      "anil1318/nginx          latest          84ec966e61a8   3 weeks ago     279MB\n",
      "anil1318/testing        latest          84ec966e61a8   3 weeks ago     279MB\n",
      "nginx                   latest          84ec966e61a8   3 weeks ago     279MB\n",
      "nginx                   mainline        84ec966e61a8   3 weeks ago     279MB\n",
      "ubuntu                  latest          a08e551cb338   3 weeks ago     117MB\n",
      "rockylinux/rockylinux   10              02564b26a5d1   2 months ago    345MB\n",
      "busybox                 latest          f9a104fddb33   10 months ago   6.55MB\n",
      "centos                  7               be65f488b776   3 years ago     301MB\n",
      "centos                  7.9.2009        be65f488b776   3 years ago     301MB\n",
      "centos                  8               a27fd8080b51   3 years ago     340MB\n",
      "ubuntu                  14.04           64483f3496c1   4 years ago     300MB\n",
      "elasticsearch           2               41ed3a1a16b6   6 years ago     742MB\n",
      "nginx                   1.11.9-alpine   d34e2176dab8   8 years ago     76.5MB\n",
      "nginx                   1.11.9          f2d384a6ca8a   8 years ago     279MB\n"
     ]
    }
   ],
   "source": [
    "!docker image ls"
   ]
  },
  {
   "cell_type": "code",
   "execution_count": 19,
   "id": "b228b5b3",
   "metadata": {},
   "outputs": [
    {
     "name": "stdout",
     "output_type": "stream",
     "text": [
      "Using default tag: latest\n",
      "The push refers to repository [docker.io/anil1318/testing]\n",
      "140da4f89dcb: Unavailable\n",
      "4b1e45a9989f: Unavailable\n",
      "96e47e70491e: Unavailable\n",
      "1d9f51194194: Unavailable\n",
      "f30ffbee4c54: Unavailable\n",
      "59e22667830b: Unavailable\n",
      "2ef442a3816e: Unavailable\n",
      "140da4f89dcb: Unavailable\n",
      "4b1e45a9989f: Unavailable\n",
      "96e47e70491e: Unavailable\n",
      "1d9f51194194: Unavailable\n",
      "f30ffbee4c54: Unavailable\n",
      "59e22667830b: Unavailable\n",
      "2ef442a3816e: Unavailable\n",
      "f30ffbee4c54: Unavailable\n",
      "59e22667830b: Unavailable\n",
      "2ef442a3816e: Unavailable\n",
      "140da4f89dcb: Unavailable\n",
      "4b1e45a9989f: Unavailable\n",
      "96e47e70491e: Unavailable\n",
      "1d9f51194194: Unavailable\n",
      "f30ffbee4c54: Unavailable\n",
      "59e22667830b: Unavailable\n",
      "2ef442a3816e: Unavailable\n",
      "140da4f89dcb: Unavailable\n",
      "4b1e45a9989f: Unavailable\n",
      "96e47e70491e: Unavailable\n",
      "1d9f51194194: Unavailable\n",
      "f30ffbee4c54: Mounted from anil1318/nginx\n",
      "59e22667830b: Mounted from anil1318/nginx\n",
      "2ef442a3816e: Mounted from anil1318/nginx\n",
      "140da4f89dcb: Mounted from anil1318/nginx\n",
      "4b1e45a9989f: Mounted from anil1318/nginx\n",
      "96e47e70491e: Unavailable\n",
      "1d9f51194194: Unavailable\n",
      "96e47e70491e: Unavailable\n",
      "1d9f51194194: Mounted from anil1318/nginx\n",
      "96e47e70491e: Mounted from anil1318/nginx\n",
      "latest: digest: sha256:6533ddd664582430971e93e69cf343e3bfffceadeaaa97d4379c4d7a29f21d47 size: 2292\n",
      "\n",
      " Info -> Not all multiplatform-content is present and only the available single-platform image was pushed\n",
      "         \u001b[31msha256:84ec966e61a8c7846f509da7eb081c55c1d56817448728924a87ab32f12a72fb\u001b[0m -> \u001b[32msha256:6533ddd664582430971e93e69cf343e3bfffceadeaaa97d4379c4d7a29f21d47\u001b[0m\n"
     ]
    }
   ],
   "source": [
    "!docker image push anil1318/testing"
   ]
  },
  {
   "cell_type": "code",
   "execution_count": null,
   "id": "9fb9299f",
   "metadata": {},
   "outputs": [],
   "source": []
  }
 ],
 "metadata": {
  "kernelspec": {
   "display_name": "Python 3",
   "language": "python",
   "name": "python3"
  },
  "language_info": {
   "codemirror_mode": {
    "name": "ipython",
    "version": 3
   },
   "file_extension": ".py",
   "mimetype": "text/x-python",
   "name": "python",
   "nbconvert_exporter": "python",
   "pygments_lexer": "ipython3",
   "version": "3.13.5"
  }
 },
 "nbformat": 4,
 "nbformat_minor": 5
}
