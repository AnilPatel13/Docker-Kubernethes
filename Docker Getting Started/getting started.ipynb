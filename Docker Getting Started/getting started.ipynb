{
 "cells": [
  {
   "cell_type": "code",
   "id": "initial_id",
   "metadata": {
    "collapsed": true,
    "ExecuteTime": {
     "end_time": "2025-08-09T21:46:36.589069Z",
     "start_time": "2025-08-09T21:46:36.529210Z"
    }
   },
   "source": "!docker ps -a",
   "outputs": [
    {
     "name": "stdout",
     "output_type": "stream",
     "text": [
      "CONTAINER ID   IMAGE     COMMAND   CREATED   STATUS    PORTS     NAMES\n"
     ]
    }
   ],
   "execution_count": 1
  },
  {
   "metadata": {
    "ExecuteTime": {
     "end_time": "2025-08-09T21:46:45.740287Z",
     "start_time": "2025-08-09T21:46:45.690834Z"
    }
   },
   "cell_type": "code",
   "source": "!docker -v",
   "id": "276a1f24b468c7bd",
   "outputs": [
    {
     "name": "stdout",
     "output_type": "stream",
     "text": [
      "Docker version 28.3.2, build 578ccf6\n"
     ]
    }
   ],
   "execution_count": 2
  },
  {
   "metadata": {
    "ExecuteTime": {
     "end_time": "2025-08-09T21:47:13.450947Z",
     "start_time": "2025-08-09T21:47:08.566159Z"
    }
   },
   "cell_type": "code",
   "source": "!docker pull docker/getting-started",
   "id": "8076c8dc344857eb",
   "outputs": [
    {
     "name": "stdout",
     "output_type": "stream",
     "text": [
      "Using default tag: latest\n",
      "latest: Pulling from docker/getting-started\n",
      "4f7e34c2de10: Pulling fs layer\n",
      "9b6f639ec6ea: Pulling fs layer\n",
      "c158987b0551: Pulling fs layer\n",
      "1e35f6679fab: Pulling fs layer\n",
      "ee68d3549ec8: Pulling fs layer\n",
      "f1d1c9928c82: Pulling fs layer\n",
      "b6334b6ace34: Pulling fs layer\n",
      "cb9626c74200: Pulling fs layer\n",
      "33e0cbbb4673: Pulling fs layer\n",
      "c158987b0551: Download complete\n",
      "f1d1c9928c82: Download complete\n",
      "cb9626c74200: Download complete\n",
      "c158987b0551: Pull complete\n",
      "9b6f639ec6ea: Download complete\n",
      "b6334b6ace34: Download complete\n",
      "1e35f6679fab: Download complete\n",
      "f1d1c9928c82: Pull complete\n",
      "cb9626c74200: Pull complete\n",
      "b6334b6ace34: Pull complete\n",
      "1e35f6679fab: Pull complete\n",
      "9b6f639ec6ea: Pull complete\n",
      "33e0cbbb4673: Download complete\n",
      "4f7e34c2de10: Download complete\n",
      "ee68d3549ec8: Download complete\n",
      "ee68d3549ec8: Pull complete\n",
      "33e0cbbb4673: Pull complete\n",
      "4f7e34c2de10: Pull complete\n",
      "Digest: sha256:d79336f4812b6547a53e735480dde67f8f8f7071b414fbd9297609ffb989abc1\n",
      "Status: Downloaded newer image for docker/getting-started:latest\n",
      "docker.io/docker/getting-started:latest\n"
     ]
    }
   ],
   "execution_count": 3
  },
  {
   "metadata": {
    "ExecuteTime": {
     "end_time": "2025-08-09T21:47:22.617742Z",
     "start_time": "2025-08-09T21:47:22.536482Z"
    }
   },
   "cell_type": "code",
   "source": "!docker images",
   "id": "9bdeb922da9a97c7",
   "outputs": [
    {
     "name": "stdout",
     "output_type": "stream",
     "text": [
      "REPOSITORY               TAG       IMAGE ID       CREATED       SIZE\n",
      "docker/getting-started   latest    d79336f4812b   2 years ago   73.9MB\n"
     ]
    }
   ],
   "execution_count": 4
  },
  {
   "metadata": {
    "ExecuteTime": {
     "end_time": "2025-08-09T21:49:49.256561Z",
     "start_time": "2025-08-09T21:49:48.805516Z"
    }
   },
   "cell_type": "code",
   "source": "!docker run -d -p 80:80 docker/getting-started",
   "id": "d8a479ac7b49fb19",
   "outputs": [
    {
     "name": "stdout",
     "output_type": "stream",
     "text": [
      "e4534a6449a40b2e267ddf90f0dd9a07292dfb5228b6de3d7f0821ed2170398d\n"
     ]
    }
   ],
   "execution_count": 5
  },
  {
   "metadata": {
    "ExecuteTime": {
     "end_time": "2025-08-09T21:50:50.306011Z",
     "start_time": "2025-08-09T21:50:50.249494Z"
    }
   },
   "cell_type": "code",
   "source": "!docker ps -a",
   "id": "4f7e34a6873edb09",
   "outputs": [
    {
     "name": "stdout",
     "output_type": "stream",
     "text": [
      "CONTAINER ID   IMAGE                    COMMAND                  CREATED              STATUS              PORTS                                 NAMES\n",
      "e4534a6449a4   docker/getting-started   \"/docker-entrypoint.…\"   About a minute ago   Up About a minute   0.0.0.0:80->80/tcp, [::]:80->80/tcp   romantic_cartwright\n"
     ]
    }
   ],
   "execution_count": 6
  },
  {
   "metadata": {
    "ExecuteTime": {
     "end_time": "2025-08-09T21:51:06.866352Z",
     "start_time": "2025-08-09T21:51:06.538941Z"
    }
   },
   "cell_type": "code",
   "source": "!docker stop e4534a6449a4",
   "id": "4ddc86fad31c19a8",
   "outputs": [
    {
     "name": "stdout",
     "output_type": "stream",
     "text": [
      "e4534a6449a4\n"
     ]
    }
   ],
   "execution_count": 7
  },
  {
   "metadata": {
    "ExecuteTime": {
     "end_time": "2025-08-09T21:51:12.135468Z",
     "start_time": "2025-08-09T21:51:12.067695Z"
    }
   },
   "cell_type": "code",
   "source": "!docker ps -a",
   "id": "873bb2f5da11aed0",
   "outputs": [
    {
     "name": "stdout",
     "output_type": "stream",
     "text": [
      "CONTAINER ID   IMAGE                    COMMAND                  CREATED              STATUS                     PORTS     NAMES\n",
      "e4534a6449a4   docker/getting-started   \"/docker-entrypoint.…\"   About a minute ago   Exited (0) 5 seconds ago             romantic_cartwright\n"
     ]
    }
   ],
   "execution_count": 8
  },
  {
   "metadata": {
    "ExecuteTime": {
     "end_time": "2025-08-09T21:52:30.321094Z",
     "start_time": "2025-08-09T21:52:30.254083Z"
    }
   },
   "cell_type": "code",
   "source": "!docker images",
   "id": "363ce180996c133d",
   "outputs": [
    {
     "name": "stdout",
     "output_type": "stream",
     "text": [
      "REPOSITORY               TAG       IMAGE ID       CREATED       SIZE\n",
      "docker/getting-started   latest    d79336f4812b   2 years ago   73.9MB\n"
     ]
    }
   ],
   "execution_count": 9
  },
  {
   "metadata": {
    "ExecuteTime": {
     "end_time": "2025-08-09T21:52:45.748588Z",
     "start_time": "2025-08-09T21:52:45.678788Z"
    }
   },
   "cell_type": "code",
   "source": "!docker image rm -f d79336f4812b",
   "id": "d773988dbf5854a3",
   "outputs": [
    {
     "name": "stdout",
     "output_type": "stream",
     "text": [
      "Untagged: docker/getting-started:latest\n",
      "Deleted: sha256:d79336f4812b6547a53e735480dde67f8f8f7071b414fbd9297609ffb989abc1\n"
     ]
    }
   ],
   "execution_count": 10
  },
  {
   "metadata": {
    "ExecuteTime": {
     "end_time": "2025-08-09T21:55:09.980029Z",
     "start_time": "2025-08-09T21:55:08.786053Z"
    }
   },
   "cell_type": "code",
   "source": "!docker pull hello-world",
   "id": "a933a8a05d356f72",
   "outputs": [
    {
     "name": "stdout",
     "output_type": "stream",
     "text": [
      "Using default tag: latest\n",
      "latest: Pulling from library/hello-world\n",
      "e6590344b1a5: Pulling fs layer\n",
      "e6590344b1a5: Download complete\n",
      "e6590344b1a5: Pull complete\n",
      "Digest: sha256:ec153840d1e635ac434fab5e377081f17e0e15afab27beb3f726c3265039cfff\n",
      "Status: Downloaded newer image for hello-world:latest\n",
      "docker.io/library/hello-world:latest\n"
     ]
    }
   ],
   "execution_count": 12
  },
  {
   "metadata": {
    "ExecuteTime": {
     "end_time": "2025-08-09T21:55:28.685712Z",
     "start_time": "2025-08-09T21:55:28.241862Z"
    }
   },
   "cell_type": "code",
   "source": "!docker run hello-world",
   "id": "53013392e1033310",
   "outputs": [
    {
     "name": "stdout",
     "output_type": "stream",
     "text": [
      "\n",
      "Hello from Docker!\n",
      "This message shows that your installation appears to be working correctly.\n",
      "\n",
      "To generate this message, Docker took the following steps:\n",
      " 1. The Docker client contacted the Docker daemon.\n",
      " 2. The Docker daemon pulled the \"hello-world\" image from the Docker Hub.\n",
      "    (amd64)\n",
      " 3. The Docker daemon created a new container from that image which runs the\n",
      "    executable that produces the output you are currently reading.\n",
      " 4. The Docker daemon streamed that output to the Docker client, which sent it\n",
      "    to your terminal.\n",
      "\n",
      "To try something more ambitious, you can run an Ubuntu container with:\n",
      " $ docker run -it ubuntu bash\n",
      "\n",
      "Share images, automate workflows, and more with a free Docker ID:\n",
      " https://hub.docker.com/\n",
      "\n",
      "For more examples and ideas, visit:\n",
      " https://docs.docker.com/get-started/\n",
      "\n"
     ]
    }
   ],
   "execution_count": 13
  },
  {
   "metadata": {
    "ExecuteTime": {
     "end_time": "2025-08-09T21:57:54.564175Z",
     "start_time": "2025-08-09T21:57:54.505739Z"
    }
   },
   "cell_type": "code",
   "source": "!docker ps -a",
   "id": "fbe5cb5d66048fd1",
   "outputs": [
    {
     "name": "stdout",
     "output_type": "stream",
     "text": [
      "CONTAINER ID   IMAGE          COMMAND                  CREATED         STATUS                     PORTS     NAMES\n",
      "cd3afaec02fb   hello-world    \"/hello\"                 2 minutes ago   Exited (0) 2 minutes ago             beautiful_mahavira\n",
      "e4534a6449a4   d79336f4812b   \"/docker-entrypoint.…\"   8 minutes ago   Exited (0) 6 minutes ago             romantic_cartwright\n"
     ]
    }
   ],
   "execution_count": 14
  },
  {
   "metadata": {
    "ExecuteTime": {
     "end_time": "2025-08-09T21:58:03.602632Z",
     "start_time": "2025-08-09T21:58:03.535600Z"
    }
   },
   "cell_type": "code",
   "source": "!docker images",
   "id": "aecee7e0250d565",
   "outputs": [
    {
     "name": "stdout",
     "output_type": "stream",
     "text": [
      "REPOSITORY    TAG       IMAGE ID       CREATED        SIZE\n",
      "hello-world   latest    ec153840d1e6   6 months ago   20.4kB\n"
     ]
    }
   ],
   "execution_count": 15
  },
  {
   "metadata": {
    "ExecuteTime": {
     "end_time": "2025-08-09T21:58:22.149281Z",
     "start_time": "2025-08-09T21:58:22.089706Z"
    }
   },
   "cell_type": "code",
   "source": "!docker image rm -f ec153840d1e6",
   "id": "8a160f2dc84cfbaa",
   "outputs": [
    {
     "name": "stdout",
     "output_type": "stream",
     "text": [
      "Untagged: hello-world:latest\n",
      "Deleted: sha256:ec153840d1e635ac434fab5e377081f17e0e15afab27beb3f726c3265039cfff\n"
     ]
    }
   ],
   "execution_count": 17
  },
  {
   "metadata": {},
   "cell_type": "code",
   "outputs": [],
   "execution_count": null,
   "source": "",
   "id": "e0eea7190318d1c6"
  }
 ],
 "metadata": {
  "kernelspec": {
   "display_name": "Python 3",
   "language": "python",
   "name": "python3"
  },
  "language_info": {
   "codemirror_mode": {
    "name": "ipython",
    "version": 2
   },
   "file_extension": ".py",
   "mimetype": "text/x-python",
   "name": "python",
   "nbconvert_exporter": "python",
   "pygments_lexer": "ipython2",
   "version": "2.7.6"
  }
 },
 "nbformat": 4,
 "nbformat_minor": 5
}
