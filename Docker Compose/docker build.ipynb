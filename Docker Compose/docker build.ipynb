{
 "cells": [
  {
   "cell_type": "code",
   "id": "initial_id",
   "metadata": {
    "collapsed": true,
    "ExecuteTime": {
     "end_time": "2025-08-09T23:09:02.098334Z",
     "start_time": "2025-08-09T23:06:19.171220Z"
    }
   },
   "source": "!docker compose up",
   "outputs": [
    {
     "name": "stdout",
     "output_type": "stream",
     "text": [
      "^C\n",
      "Attaching to redis-1, web-1\n",
      "redis-1  | 1:C 09 Aug 2025 23:06:25.984 * oO0OoO0OoO0Oo Redis is starting oO0OoO0OoO0Oo\n",
      "redis-1  | 1:C 09 Aug 2025 23:06:25.984 * Redis version=7.4.5, bits=64, commit=00000000, modified=0, pid=1, just started\n",
      "redis-1  | 1:C 09 Aug 2025 23:06:25.984 # Warning: no config file specified, using the default config. In order to specify a config file use redis-server /path/to/redis.conf\n",
      "redis-1  | 1:M 09 Aug 2025 23:06:25.985 * monotonic clock: POSIX clock_gettime\n",
      "redis-1  | 1:M 09 Aug 2025 23:06:25.985 * Running mode=standalone, port=6379.\n",
      "redis-1  | 1:M 09 Aug 2025 23:06:25.986 * Server initialized\n",
      "redis-1  | 1:M 09 Aug 2025 23:06:25.986 * Ready to accept connections tcp\n",
      "web-1    |  * Serving Flask app 'app.py'\n",
      "web-1    |  * Debug mode: off\n",
      "\n",
      "\u001B[Kweb-1 exited with code 137\n",
      "redis-1  | 1:signal-handler (1754780978) Received SIGTERM scheduling shutdown...\n",
      "redis-1  | 1:M 09 Aug 2025 23:09:38.354 * User requested shutdown...\n",
      "redis-1  | 1:M 09 Aug 2025 23:09:38.354 * Saving the final RDB snapshot before exiting.\n",
      "redis-1  | 1:M 09 Aug 2025 23:09:38.366 * DB saved on disk\n",
      "redis-1  | 1:M 09 Aug 2025 23:09:38.366 # Redis is now ready to exit, bye bye...\n",
      "\n",
      "\u001B[Kredis-1 exited with code 0\n"
     ]
    },
    {
     "name": "stderr",
     "output_type": "stream",
     "text": [
      "time=\"2025-08-09T19:06:19-04:00\" level=warning msg=\"C:\\\\Users\\\\celia\\\\PycharmProjects\\\\Docker-Kubernethes\\\\Docker Compose\\\\docker-compose.yml: the attribute `version` is obsolete, it will be ignored, please remove it to avoid potential confusion\"\n",
      " redis Pulling \n",
      " web Pulling \n",
      " 26768237eff0 Pulling fs layer \n",
      " 891685124d0e Pulling fs layer \n",
      " 543622e3bf19 Pulling fs layer \n",
      " a9ccaab665e8 Pulling fs layer \n",
      " 26768237eff0 Already exists \n",
      " 543622e3bf19 Already exists \n",
      " 891685124d0e Already exists \n",
      " a9ccaab665e8 Already exists \n",
      " 891685124d0e Extracting 1 s\n",
      " 543622e3bf19 Pull complete \n",
      " 891685124d0e Pull complete \n",
      " a9ccaab665e8 Extracting 1 s\n",
      " 26768237eff0 Pull complete \n",
      " a9ccaab665e8 Pull complete \n",
      " web Pulled \n",
      " a976ed7e7808 Pulling fs layer \n",
      " 4c55286bbede Pulling fs layer \n",
      " 4f4fb700ef54 Pulling fs layer \n",
      " a2cadbfeca72 Pulling fs layer \n",
      " 5e28347af205 Pulling fs layer \n",
      " 0368fd46e3c6 Pulling fs layer \n",
      " e6fe6f07e192 Pulling fs layer \n",
      " 311eca34042e Pulling fs layer \n",
      " 4f4fb700ef54 Already exists \n",
      " 4c55286bbede Download complete \n",
      " a2cadbfeca72 Download complete \n",
      " 5e28347af205 Download complete \n",
      " a976ed7e7808 Download complete \n",
      " 311eca34042e Download complete \n",
      " 0368fd46e3c6 Downloading [==============>                                    ]  1.049MB/3.638MB\n",
      " 0368fd46e3c6 Downloading [==============>                                    ]  1.049MB/3.638MB\n",
      " 0368fd46e3c6 Downloading [============================>                      ]  2.097MB/3.638MB\n",
      " 0368fd46e3c6 Downloading [============================>                      ]  2.097MB/3.638MB\n",
      " 0368fd46e3c6 Downloading [===========================================>       ]  3.146MB/3.638MB\n",
      " 0368fd46e3c6 Download complete \n",
      " 4c55286bbede Pull complete \n",
      " 5e28347af205 Extracting 1 s\n",
      " 0368fd46e3c6 Pull complete \n",
      " e6fe6f07e192 Downloading [====>                                              ]  1.049MB/12.41MB\n",
      " 5e28347af205 Pull complete \n",
      " 311eca34042e Pull complete \n",
      " e6fe6f07e192 Downloading [====>                                              ]  1.049MB/12.41MB\n",
      " e6fe6f07e192 Downloading [====>                                              ]  1.049MB/12.41MB\n",
      " e6fe6f07e192 Downloading [====>                                              ]  1.049MB/12.41MB\n",
      " e6fe6f07e192 Downloading [====>                                              ]  1.049MB/12.41MB\n",
      " e6fe6f07e192 Downloading [========>                                          ]  2.097MB/12.41MB\n",
      " e6fe6f07e192 Downloading [========>                                          ]  2.097MB/12.41MB\n",
      " e6fe6f07e192 Downloading [========>                                          ]  2.097MB/12.41MB\n",
      " e6fe6f07e192 Downloading [========>                                          ]  2.097MB/12.41MB\n",
      " e6fe6f07e192 Downloading [============>                                      ]  3.146MB/12.41MB\n",
      " e6fe6f07e192 Downloading [============>                                      ]  3.146MB/12.41MB\n",
      " e6fe6f07e192 Downloading [============>                                      ]  3.146MB/12.41MB\n",
      " e6fe6f07e192 Downloading [============>                                      ]  3.146MB/12.41MB\n",
      " e6fe6f07e192 Downloading [================>                                  ]  4.194MB/12.41MB\n",
      " e6fe6f07e192 Downloading [================>                                  ]  4.194MB/12.41MB\n",
      " e6fe6f07e192 Downloading [================>                                  ]  4.194MB/12.41MB\n",
      " e6fe6f07e192 Downloading [=====================>                             ]  5.243MB/12.41MB\n",
      " e6fe6f07e192 Downloading [=====================>                             ]  5.243MB/12.41MB\n",
      " e6fe6f07e192 Downloading [=====================>                             ]  5.243MB/12.41MB\n",
      " e6fe6f07e192 Downloading [=====================>                             ]  5.243MB/12.41MB\n",
      " e6fe6f07e192 Downloading [=========================>                         ]  6.291MB/12.41MB\n",
      " e6fe6f07e192 Downloading [=========================>                         ]  6.291MB/12.41MB\n",
      " e6fe6f07e192 Downloading [=============================>                     ]   7.34MB/12.41MB\n",
      " e6fe6f07e192 Downloading [=============================>                     ]   7.34MB/12.41MB\n",
      " e6fe6f07e192 Downloading [=============================>                     ]   7.34MB/12.41MB\n",
      " e6fe6f07e192 Downloading [=============================>                     ]   7.34MB/12.41MB\n",
      " e6fe6f07e192 Downloading [=================================>                 ]  8.389MB/12.41MB\n",
      " e6fe6f07e192 Downloading [=================================>                 ]  8.389MB/12.41MB\n",
      " e6fe6f07e192 Downloading [======================================>            ]  9.437MB/12.41MB\n",
      " e6fe6f07e192 Downloading [======================================>            ]  9.437MB/12.41MB\n",
      " e6fe6f07e192 Downloading [======================================>            ]  9.437MB/12.41MB\n",
      " e6fe6f07e192 Downloading [======================================>            ]  9.437MB/12.41MB\n",
      " e6fe6f07e192 Downloading [==========================================>        ]  10.49MB/12.41MB\n",
      " e6fe6f07e192 Downloading [==========================================>        ]  10.49MB/12.41MB\n",
      " e6fe6f07e192 Downloading [==============================================>    ]  11.53MB/12.41MB\n",
      " e6fe6f07e192 Download complete \n",
      " e6fe6f07e192 Extracting 1 s\n",
      " e6fe6f07e192 Pull complete \n",
      " 4f4fb700ef54 Pull complete \n",
      " a2cadbfeca72 Pull complete \n",
      " a976ed7e7808 Pull complete \n",
      " redis Pulled \n",
      " Network dockercompose_default  Creating\n",
      " Network dockercompose_default  Created\n",
      " Container dockercompose-redis-1  Creating\n",
      " Container dockercompose-redis-1  Created\n",
      " Container dockercompose-web-1  Creating\n",
      " Container dockercompose-web-1  Created\n",
      "web-1    | \u001B[31m\u001B[1mWARNING: This is a development server. Do not use it in a production deployment. Use a production WSGI server instead.\u001B[0m\n",
      "web-1    |  * Running on all addresses (0.0.0.0)\n",
      "web-1    |  * Running on http://127.0.0.1:5000\n",
      "web-1    |  * Running on http://172.18.0.3:5000\n",
      "web-1    | \u001B[33mPress CTRL+C to quit\u001B[0m\n"
     ]
    }
   ],
   "execution_count": 11
  },
  {
   "metadata": {
    "ExecuteTime": {
     "end_time": "2025-08-09T22:56:32.154914Z",
     "start_time": "2025-08-09T22:56:21.666665Z"
    }
   },
   "cell_type": "code",
   "source": "!docker compose stop",
   "id": "9baa1cbc1c5a050e",
   "outputs": [
    {
     "name": "stderr",
     "output_type": "stream",
     "text": [
      "time=\"2025-08-09T18:56:21-04:00\" level=warning msg=\"C:\\\\Users\\\\celia\\\\PycharmProjects\\\\Docker-Kubernethes\\\\Docker Compose\\\\docker-compose.yml: the attribute `version` is obsolete, it will be ignored, please remove it to avoid potential confusion\"\n",
      " Container dockercompose-web-1  Stopping\n",
      " Container dockercompose-web-1  Stopped\n",
      " Container dockercompose-redis-1  Stopping\n",
      " Container dockercompose-redis-1  Stopped\n"
     ]
    }
   ],
   "execution_count": 3
  },
  {
   "metadata": {
    "ExecuteTime": {
     "end_time": "2025-08-09T23:10:09.896801Z",
     "start_time": "2025-08-09T23:10:09.766477Z"
    }
   },
   "cell_type": "code",
   "source": "!docker compose build",
   "id": "3ba8b6ff1fb0e36a",
   "outputs": [
    {
     "name": "stderr",
     "output_type": "stream",
     "text": [
      "time=\"2025-08-09T19:10:09-04:00\" level=warning msg=\"C:\\\\Users\\\\celia\\\\PycharmProjects\\\\Docker-Kubernethes\\\\Docker Compose\\\\docker-compose.yml: the attribute `version` is obsolete, it will be ignored, please remove it to avoid potential confusion\"\n"
     ]
    }
   ],
   "execution_count": 12
  },
  {
   "metadata": {
    "ExecuteTime": {
     "end_time": "2025-08-09T23:10:16.383387Z",
     "start_time": "2025-08-09T23:10:16.305928Z"
    }
   },
   "cell_type": "code",
   "source": "!docker push anil1318/web-app-compose:latest",
   "id": "1bd58f8bfa7a0594",
   "outputs": [
    {
     "name": "stdout",
     "output_type": "stream",
     "text": [
      "The push refers to repository [docker.io/anil1318/web-app-compose]\n"
     ]
    },
    {
     "name": "stderr",
     "output_type": "stream",
     "text": [
      "tag does not exist: anil1318/web-app-compose:latest\n"
     ]
    }
   ],
   "execution_count": 13
  },
  {
   "metadata": {
    "ExecuteTime": {
     "end_time": "2025-08-09T23:10:30.386884Z",
     "start_time": "2025-08-09T23:10:29.577251Z"
    }
   },
   "cell_type": "code",
   "source": "!docker pull anil1318/web-app-compose",
   "id": "cf3c377d56feec2a",
   "outputs": [
    {
     "name": "stdout",
     "output_type": "stream",
     "text": [
      "Using default tag: latest\n",
      "latest: Pulling from anil1318/web-app-compose\n",
      "26768237eff0: Pulling fs layer\n",
      "891685124d0e: Pulling fs layer\n",
      "543622e3bf19: Pulling fs layer\n",
      "a9ccaab665e8: Pulling fs layer\n",
      "891685124d0e: Already exists\n",
      "543622e3bf19: Already exists\n",
      "a9ccaab665e8: Already exists\n",
      "26768237eff0: Already exists\n",
      "891685124d0e: Pull complete\n",
      "543622e3bf19: Pull complete\n",
      "a9ccaab665e8: Pull complete\n",
      "26768237eff0: Pull complete\n",
      "Digest: sha256:4502db10995476158f31142ccfc35e34da22ed66211fe8a17977542e83bb7b82\n",
      "Status: Downloaded newer image for anil1318/web-app-compose:latest\n",
      "docker.io/anil1318/web-app-compose:latest\n"
     ]
    }
   ],
   "execution_count": 14
  },
  {
   "metadata": {
    "ExecuteTime": {
     "end_time": "2025-08-09T23:11:03.619024Z",
     "start_time": "2025-08-09T23:11:02.998645Z"
    }
   },
   "cell_type": "code",
   "source": "!docker compose pull web",
   "id": "8df5fbe9cd68cfcc",
   "outputs": [
    {
     "name": "stderr",
     "output_type": "stream",
     "text": [
      "time=\"2025-08-09T19:11:03-04:00\" level=warning msg=\"C:\\\\Users\\\\celia\\\\PycharmProjects\\\\Docker-Kubernethes\\\\Docker Compose\\\\docker-compose.yml: the attribute `version` is obsolete, it will be ignored, please remove it to avoid potential confusion\"\n",
      " web Pulling \n",
      " web Pulled \n"
     ]
    }
   ],
   "execution_count": 15
  },
  {
   "metadata": {
    "ExecuteTime": {
     "end_time": "2025-08-09T23:11:32.334275Z",
     "start_time": "2025-08-09T23:11:25.180206Z"
    }
   },
   "cell_type": "code",
   "source": "!docker compose up -d",
   "id": "667da5a1598831ef",
   "outputs": [
    {
     "name": "stderr",
     "output_type": "stream",
     "text": [
      "time=\"2025-08-09T19:11:25-04:00\" level=warning msg=\"C:\\\\Users\\\\celia\\\\PycharmProjects\\\\Docker-Kubernethes\\\\Docker Compose\\\\docker-compose.yml: the attribute `version` is obsolete, it will be ignored, please remove it to avoid potential confusion\"\n",
      " redis Pulling \n",
      " a976ed7e7808 Pulling fs layer \n",
      " 5e28347af205 Pulling fs layer \n",
      " e6fe6f07e192 Pulling fs layer \n",
      " 311eca34042e Pulling fs layer \n",
      " a2cadbfeca72 Pulling fs layer \n",
      " 4c55286bbede Pulling fs layer \n",
      " 4f4fb700ef54 Pulling fs layer \n",
      " 0368fd46e3c6 Pulling fs layer \n",
      " 4f4fb700ef54 Already exists \n",
      " a2cadbfeca72 Download complete \n",
      " 4c55286bbede Download complete \n",
      " a976ed7e7808 Download complete \n",
      " 5e28347af205 Download complete \n",
      " e6fe6f07e192 Downloading [====>                                              ]  1.049MB/12.41MB\n",
      " e6fe6f07e192 Downloading [====>                                              ]  1.049MB/12.41MB\n",
      " e6fe6f07e192 Downloading [====>                                              ]  1.049MB/12.41MB\n",
      " 0368fd46e3c6 Downloading [==============>                                    ]  1.049MB/3.638MB\n",
      " e6fe6f07e192 Downloading [========>                                          ]  2.097MB/12.41MB\n",
      " 311eca34042e Download complete \n",
      " 0368fd46e3c6 Downloading [==============>                                    ]  1.049MB/3.638MB\n",
      " e6fe6f07e192 Downloading [========>                                          ]  2.097MB/12.41MB\n",
      " 0368fd46e3c6 Downloading [==============>                                    ]  1.049MB/3.638MB\n",
      " e6fe6f07e192 Downloading [============>                                      ]  3.146MB/12.41MB\n",
      " e6fe6f07e192 Downloading [============>                                      ]  3.146MB/12.41MB\n",
      " 0368fd46e3c6 Downloading [============================>                      ]  2.097MB/3.638MB\n",
      " 0368fd46e3c6 Downloading [============================>                      ]  2.097MB/3.638MB\n",
      " e6fe6f07e192 Downloading [================>                                  ]  4.194MB/12.41MB\n",
      " 0368fd46e3c6 Downloading [============================>                      ]  2.097MB/3.638MB\n",
      " e6fe6f07e192 Downloading [================>                                  ]  4.194MB/12.41MB\n",
      " e6fe6f07e192 Downloading [=====================>                             ]  5.243MB/12.41MB\n",
      " 0368fd46e3c6 Downloading [===========================================>       ]  3.146MB/3.638MB\n",
      " 0368fd46e3c6 Downloading [===========================================>       ]  3.146MB/3.638MB\n",
      " e6fe6f07e192 Downloading [=====================>                             ]  5.243MB/12.41MB\n",
      " 0368fd46e3c6 Download complete \n",
      " e6fe6f07e192 Downloading [=========================>                         ]  6.291MB/12.41MB\n",
      " 4c55286bbede Pull complete \n",
      " 0368fd46e3c6 Pull complete \n",
      " e6fe6f07e192 Downloading [=========================>                         ]  6.291MB/12.41MB\n",
      " 5e28347af205 Pull complete \n",
      " 311eca34042e Pull complete \n",
      " e6fe6f07e192 Downloading [=============================>                     ]   7.34MB/12.41MB\n",
      " e6fe6f07e192 Downloading [=============================>                     ]   7.34MB/12.41MB\n",
      " e6fe6f07e192 Downloading [=================================>                 ]  8.389MB/12.41MB\n",
      " e6fe6f07e192 Downloading [=================================>                 ]  8.389MB/12.41MB\n",
      " e6fe6f07e192 Downloading [======================================>            ]  9.437MB/12.41MB\n",
      " e6fe6f07e192 Downloading [==========================================>        ]  10.49MB/12.41MB\n",
      " e6fe6f07e192 Downloading [==============================================>    ]  11.53MB/12.41MB\n",
      " e6fe6f07e192 Download complete \n",
      " e6fe6f07e192 Extracting 1 s\n",
      " e6fe6f07e192 Pull complete \n",
      " 4f4fb700ef54 Pull complete \n",
      " a2cadbfeca72 Pull complete \n",
      " a976ed7e7808 Pull complete \n",
      " redis Pulled \n",
      " Network dockercompose_default  Creating\n",
      " Network dockercompose_default  Created\n",
      " Container dockercompose-redis-1  Creating\n",
      " Container dockercompose-redis-1  Created\n",
      " Container dockercompose-web-1  Creating\n",
      " Container dockercompose-web-1  Created\n",
      " Container dockercompose-redis-1  Starting\n",
      " Container dockercompose-redis-1  Started\n",
      " Container dockercompose-redis-1  Waiting\n",
      " Container dockercompose-redis-1  Healthy\n",
      " Container dockercompose-web-1  Starting\n",
      " Container dockercompose-web-1  Started\n"
     ]
    }
   ],
   "execution_count": 16
  },
  {
   "metadata": {},
   "cell_type": "code",
   "outputs": [],
   "execution_count": null,
   "source": "",
   "id": "52340dd24482c704"
  }
 ],
 "metadata": {
  "kernelspec": {
   "display_name": "Python 3",
   "language": "python",
   "name": "python3"
  },
  "language_info": {
   "codemirror_mode": {
    "name": "ipython",
    "version": 2
   },
   "file_extension": ".py",
   "mimetype": "text/x-python",
   "name": "python",
   "nbconvert_exporter": "python",
   "pygments_lexer": "ipython2",
   "version": "2.7.6"
  }
 },
 "nbformat": 4,
 "nbformat_minor": 5
}
