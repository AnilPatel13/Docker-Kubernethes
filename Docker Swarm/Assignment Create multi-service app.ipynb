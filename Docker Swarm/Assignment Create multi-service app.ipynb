{
 "cells": [
  {
   "cell_type": "code",
   "execution_count": 1,
   "id": "0ae263bd",
   "metadata": {},
   "outputs": [
    {
     "name": "stdout",
     "output_type": "stream",
     "text": [
      "ID                            HOSTNAME         STATUS    AVAILABILITY   MANAGER STATUS   ENGINE VERSION\n",
      "rtniw8wutfdisptuqpyxna8ag *   docker-desktop   Ready     Active         Leader           28.3.2\n"
     ]
    }
   ],
   "source": [
    "!docker node ls"
   ]
  },
  {
   "cell_type": "code",
   "execution_count": 9,
   "id": "5d160a81",
   "metadata": {},
   "outputs": [
    {
     "name": "stdout",
     "output_type": "stream",
     "text": [
      "CONTAINER ID   IMAGE     COMMAND   CREATED   STATUS    PORTS     NAMES\n"
     ]
    }
   ],
   "source": [
    "!docker ps"
   ]
  },
  {
   "cell_type": "code",
   "execution_count": 10,
   "id": "e6dc9a21",
   "metadata": {},
   "outputs": [
    {
     "name": "stdout",
     "output_type": "stream",
     "text": [
      "ID        NAME      MODE      REPLICAS   IMAGE     PORTS\n"
     ]
    }
   ],
   "source": [
    "!docker service ls"
   ]
  },
  {
   "cell_type": "code",
   "execution_count": 12,
   "id": "ce7cc91c",
   "metadata": {},
   "outputs": [
    {
     "name": "stdout",
     "output_type": "stream",
     "text": [
      "u336yrlh0lc9l0sk36jjez08k\n"
     ]
    }
   ],
   "source": [
    "!docker network create -d overlay backend"
   ]
  },
  {
   "cell_type": "code",
   "execution_count": 13,
   "id": "7064ef77",
   "metadata": {},
   "outputs": [
    {
     "name": "stdout",
     "output_type": "stream",
     "text": [
      "9u80k52pelszbe4dazzfwiwvp\n"
     ]
    }
   ],
   "source": [
    "!docker network create -d overlay frontend"
   ]
  },
  {
   "cell_type": "code",
   "execution_count": 14,
   "id": "7e91522f",
   "metadata": {},
   "outputs": [
    {
     "name": "stdout",
     "output_type": "stream",
     "text": [
      "NETWORK ID     NAME              DRIVER    SCOPE\n",
      "u336yrlh0lc9   backend           overlay   swarm\n",
      "4fc569e790e6   bridge            bridge    local\n",
      "2660a26fab89   docker_gwbridge   bridge    local\n",
      "u5c4zkkckacq   drupal            overlay   swarm\n",
      "10e605d17f86   dude              bridge    local\n",
      "9u80k52pelsz   frontend          overlay   swarm\n",
      "64b83c98a870   host              host      local\n",
      "invfvfb9bowf   ingress           overlay   swarm\n",
      "69ad2b594473   my_app_net        bridge    local\n",
      "92ee42025ca3   none              null      local\n"
     ]
    }
   ],
   "source": [
    "!docker network ls"
   ]
  },
  {
   "cell_type": "code",
   "execution_count": 15,
   "id": "08798236",
   "metadata": {},
   "outputs": [
    {
     "name": "stdout",
     "output_type": "stream",
     "text": [
      "rzrs06m5f0hwckp8aerh0juve\n",
      "overall progress: 0 out of 2 tasks\n",
      "1/2:  \n",
      "2/2:  \n",
      "overall progress: 0 out of 2 tasks\n",
      "overall progress: 0 out of 2 tasks\n",
      "overall progress: 0 out of 2 tasks\n",
      "overall progress: 0 out of 2 tasks\n",
      "overall progress: 0 out of 2 tasks\n",
      "overall progress: 0 out of 2 tasks\n",
      "overall progress: 0 out of 2 tasks\n",
      "overall progress: 0 out of 2 tasks\n",
      "overall progress: 0 out of 2 tasks\n",
      "overall progress: 0 out of 2 tasks\n",
      "overall progress: 0 out of 2 tasks\n",
      "overall progress: 0 out of 2 tasks\n",
      "overall progress: 0 out of 2 tasks\n",
      "overall progress: 0 out of 2 tasks\n",
      "overall progress: 0 out of 2 tasks\n",
      "overall progress: 0 out of 2 tasks\n",
      "overall progress: 0 out of 2 tasks\n",
      "overall progress: 0 out of 2 tasks\n",
      "overall progress: 0 out of 2 tasks\n",
      "overall progress: 0 out of 2 tasks\n",
      "overall progress: 0 out of 2 tasks\n",
      "overall progress: 0 out of 2 tasks\n",
      "overall progress: 0 out of 2 tasks\n",
      "overall progress: 0 out of 2 tasks\n",
      "overall progress: 0 out of 2 tasks\n",
      "overall progress: 0 out of 2 tasks\n",
      "overall progress: 0 out of 2 tasks\n",
      "overall progress: 0 out of 2 tasks\n",
      "overall progress: 0 out of 2 tasks\n",
      "overall progress: 0 out of 2 tasks\n",
      "overall progress: 0 out of 2 tasks\n",
      "overall progress: 0 out of 2 tasks\n",
      "overall progress: 0 out of 2 tasks\n",
      "overall progress: 0 out of 2 tasks\n",
      "overall progress: 0 out of 2 tasks\n",
      "overall progress: 0 out of 2 tasks\n",
      "overall progress: 0 out of 2 tasks\n",
      "overall progress: 0 out of 2 tasks\n",
      "overall progress: 0 out of 2 tasks\n",
      "overall progress: 0 out of 2 tasks\n",
      "overall progress: 0 out of 2 tasks\n",
      "overall progress: 0 out of 2 tasks\n",
      "overall progress: 0 out of 2 tasks\n",
      "overall progress: 0 out of 2 tasks\n",
      "overall progress: 0 out of 2 tasks\n",
      "overall progress: 0 out of 2 tasks\n",
      "overall progress: 0 out of 2 tasks\n",
      "overall progress: 0 out of 2 tasks\n",
      "overall progress: 0 out of 2 tasks\n",
      "overall progress: 0 out of 2 tasks\n",
      "overall progress: 0 out of 2 tasks\n",
      "overall progress: 0 out of 2 tasks\n",
      "overall progress: 0 out of 2 tasks\n",
      "overall progress: 0 out of 2 tasks\n",
      "overall progress: 0 out of 2 tasks\n",
      "overall progress: 0 out of 2 tasks\n",
      "overall progress: 0 out of 2 tasks\n",
      "overall progress: 0 out of 2 tasks\n",
      "overall progress: 2 out of 2 tasks\n",
      "verify: Waiting 6 seconds to verify that tasks are stable...\n",
      "verify: Waiting 5 seconds to verify that tasks are stable...\n",
      "verify: Waiting 5 seconds to verify that tasks are stable...\n",
      "verify: Waiting 5 seconds to verify that tasks are stable...\n",
      "verify: Waiting 5 seconds to verify that tasks are stable...\n",
      "verify: Waiting 4 seconds to verify that tasks are stable...\n",
      "verify: Waiting 4 seconds to verify that tasks are stable...\n",
      "verify: Waiting 4 seconds to verify that tasks are stable...\n",
      "verify: Waiting 4 seconds to verify that tasks are stable...\n",
      "verify: Waiting 4 seconds to verify that tasks are stable...\n",
      "verify: Waiting 3 seconds to verify that tasks are stable...\n",
      "verify: Waiting 3 seconds to verify that tasks are stable...\n",
      "verify: Waiting 3 seconds to verify that tasks are stable...\n",
      "verify: Waiting 3 seconds to verify that tasks are stable...\n",
      "verify: Waiting 3 seconds to verify that tasks are stable...\n",
      "verify: Waiting 2 seconds to verify that tasks are stable...\n",
      "verify: Waiting 2 seconds to verify that tasks are stable...\n",
      "verify: Waiting 2 seconds to verify that tasks are stable...\n",
      "verify: Waiting 2 seconds to verify that tasks are stable...\n",
      "verify: Waiting 2 seconds to verify that tasks are stable...\n",
      "verify: Waiting 1 seconds to verify that tasks are stable...\n",
      "verify: Waiting 1 seconds to verify that tasks are stable...\n",
      "verify: Waiting 1 seconds to verify that tasks are stable...\n",
      "verify: Waiting 1 seconds to verify that tasks are stable...\n",
      "verify: Waiting 1 seconds to verify that tasks are stable...\n",
      "verify: Service rzrs06m5f0hwckp8aerh0juve converged\n"
     ]
    }
   ],
   "source": [
    "!docker service create --name vote -p 80:80 --network frontend --replicas 2 dockersamples/examplevotingapp_vote:before"
   ]
  },
  {
   "cell_type": "code",
   "execution_count": 16,
   "id": "fcad9938",
   "metadata": {},
   "outputs": [
    {
     "name": "stdout",
     "output_type": "stream",
     "text": [
      "6g9s0axlcndeui2c1ph5k2ls3\n",
      "overall progress: 0 out of 2 tasks\n",
      "1/2:  \n",
      "2/2:  \n",
      "overall progress: 0 out of 2 tasks\n",
      "overall progress: 0 out of 2 tasks\n",
      "overall progress: 0 out of 2 tasks\n",
      "overall progress: 0 out of 2 tasks\n",
      "overall progress: 0 out of 2 tasks\n",
      "overall progress: 0 out of 2 tasks\n",
      "overall progress: 0 out of 2 tasks\n",
      "overall progress: 0 out of 2 tasks\n",
      "overall progress: 0 out of 2 tasks\n",
      "overall progress: 0 out of 2 tasks\n",
      "overall progress: 0 out of 2 tasks\n",
      "overall progress: 0 out of 2 tasks\n",
      "overall progress: 0 out of 2 tasks\n",
      "overall progress: 0 out of 2 tasks\n",
      "overall progress: 0 out of 2 tasks\n",
      "overall progress: 0 out of 2 tasks\n",
      "overall progress: 0 out of 2 tasks\n",
      "overall progress: 0 out of 2 tasks\n",
      "overall progress: 0 out of 2 tasks\n",
      "overall progress: 0 out of 2 tasks\n",
      "overall progress: 0 out of 2 tasks\n",
      "overall progress: 0 out of 2 tasks\n",
      "overall progress: 0 out of 2 tasks\n",
      "overall progress: 0 out of 2 tasks\n",
      "overall progress: 0 out of 2 tasks\n",
      "overall progress: 0 out of 2 tasks\n",
      "overall progress: 0 out of 2 tasks\n",
      "overall progress: 0 out of 2 tasks\n",
      "overall progress: 0 out of 2 tasks\n",
      "overall progress: 0 out of 2 tasks\n",
      "overall progress: 0 out of 2 tasks\n",
      "overall progress: 0 out of 2 tasks\n",
      "overall progress: 0 out of 2 tasks\n",
      "overall progress: 0 out of 2 tasks\n",
      "overall progress: 0 out of 2 tasks\n",
      "overall progress: 0 out of 2 tasks\n",
      "overall progress: 0 out of 2 tasks\n",
      "overall progress: 0 out of 2 tasks\n",
      "overall progress: 0 out of 2 tasks\n",
      "overall progress: 0 out of 2 tasks\n",
      "overall progress: 2 out of 2 tasks\n",
      "verify: Waiting 6 seconds to verify that tasks are stable...\n",
      "verify: Waiting 5 seconds to verify that tasks are stable...\n",
      "verify: Waiting 5 seconds to verify that tasks are stable...\n",
      "verify: Waiting 5 seconds to verify that tasks are stable...\n",
      "verify: Waiting 5 seconds to verify that tasks are stable...\n",
      "verify: Waiting 4 seconds to verify that tasks are stable...\n",
      "verify: Waiting 4 seconds to verify that tasks are stable...\n",
      "verify: Waiting 4 seconds to verify that tasks are stable...\n",
      "verify: Waiting 4 seconds to verify that tasks are stable...\n",
      "verify: Waiting 4 seconds to verify that tasks are stable...\n",
      "verify: Waiting 3 seconds to verify that tasks are stable...\n",
      "verify: Waiting 3 seconds to verify that tasks are stable...\n",
      "verify: Waiting 3 seconds to verify that tasks are stable...\n",
      "verify: Waiting 3 seconds to verify that tasks are stable...\n",
      "verify: Waiting 3 seconds to verify that tasks are stable...\n",
      "verify: Waiting 2 seconds to verify that tasks are stable...\n",
      "verify: Waiting 2 seconds to verify that tasks are stable...\n",
      "verify: Waiting 2 seconds to verify that tasks are stable...\n",
      "verify: Waiting 2 seconds to verify that tasks are stable...\n",
      "verify: Waiting 2 seconds to verify that tasks are stable...\n",
      "verify: Waiting 1 seconds to verify that tasks are stable...\n",
      "verify: Waiting 1 seconds to verify that tasks are stable...\n",
      "verify: Waiting 1 seconds to verify that tasks are stable...\n",
      "verify: Waiting 1 seconds to verify that tasks are stable...\n",
      "verify: Waiting 1 seconds to verify that tasks are stable...\n",
      "verify: Service 6g9s0axlcndeui2c1ph5k2ls3 converged\n"
     ]
    }
   ],
   "source": [
    "!docker service create --name redis --network frontend --replicas 2 redis:3.2"
   ]
  },
  {
   "cell_type": "code",
   "execution_count": 17,
   "id": "ca23b633",
   "metadata": {},
   "outputs": [
    {
     "name": "stdout",
     "output_type": "stream",
     "text": [
      "d1pyjz88vwglosyjucxqfmk3c\n",
      "overall progress: 0 out of 1 tasks\n",
      "1/1:  \n",
      "overall progress: 0 out of 1 tasks\n",
      "overall progress: 0 out of 1 tasks\n",
      "overall progress: 0 out of 1 tasks\n",
      "overall progress: 0 out of 1 tasks\n",
      "overall progress: 0 out of 1 tasks\n",
      "overall progress: 0 out of 1 tasks\n",
      "overall progress: 0 out of 1 tasks\n",
      "overall progress: 0 out of 1 tasks\n",
      "overall progress: 0 out of 1 tasks\n",
      "overall progress: 0 out of 1 tasks\n",
      "overall progress: 0 out of 1 tasks\n",
      "overall progress: 0 out of 1 tasks\n",
      "overall progress: 0 out of 1 tasks\n",
      "overall progress: 0 out of 1 tasks\n",
      "overall progress: 0 out of 1 tasks\n",
      "overall progress: 0 out of 1 tasks\n",
      "overall progress: 0 out of 1 tasks\n",
      "overall progress: 0 out of 1 tasks\n",
      "overall progress: 0 out of 1 tasks\n",
      "overall progress: 0 out of 1 tasks\n",
      "overall progress: 0 out of 1 tasks\n",
      "overall progress: 0 out of 1 tasks\n",
      "overall progress: 0 out of 1 tasks\n",
      "overall progress: 0 out of 1 tasks\n",
      "overall progress: 0 out of 1 tasks\n",
      "overall progress: 0 out of 1 tasks\n",
      "overall progress: 0 out of 1 tasks\n",
      "overall progress: 0 out of 1 tasks\n",
      "overall progress: 0 out of 1 tasks\n",
      "overall progress: 0 out of 1 tasks\n",
      "overall progress: 0 out of 1 tasks\n",
      "overall progress: 0 out of 1 tasks\n",
      "overall progress: 0 out of 1 tasks\n",
      "overall progress: 0 out of 1 tasks\n",
      "overall progress: 0 out of 1 tasks\n",
      "overall progress: 0 out of 1 tasks\n",
      "overall progress: 0 out of 1 tasks\n",
      "overall progress: 0 out of 1 tasks\n",
      "overall progress: 0 out of 1 tasks\n",
      "overall progress: 0 out of 1 tasks\n",
      "overall progress: 1 out of 1 tasks\n",
      "verify: Waiting 6 seconds to verify that tasks are stable...\n",
      "verify: Waiting 5 seconds to verify that tasks are stable...\n",
      "verify: Waiting 5 seconds to verify that tasks are stable...\n",
      "verify: Waiting 5 seconds to verify that tasks are stable...\n",
      "verify: Waiting 5 seconds to verify that tasks are stable...\n",
      "verify: Waiting 4 seconds to verify that tasks are stable...\n",
      "verify: Waiting 4 seconds to verify that tasks are stable...\n",
      "verify: Waiting 4 seconds to verify that tasks are stable...\n",
      "verify: Waiting 4 seconds to verify that tasks are stable...\n",
      "verify: Waiting 4 seconds to verify that tasks are stable...\n",
      "verify: Waiting 3 seconds to verify that tasks are stable...\n",
      "verify: Waiting 3 seconds to verify that tasks are stable...\n",
      "verify: Waiting 3 seconds to verify that tasks are stable...\n",
      "verify: Waiting 3 seconds to verify that tasks are stable...\n",
      "verify: Waiting 3 seconds to verify that tasks are stable...\n",
      "verify: Waiting 2 seconds to verify that tasks are stable...\n",
      "verify: Waiting 2 seconds to verify that tasks are stable...\n",
      "verify: Waiting 2 seconds to verify that tasks are stable...\n",
      "verify: Waiting 2 seconds to verify that tasks are stable...\n",
      "verify: Waiting 2 seconds to verify that tasks are stable...\n",
      "verify: Waiting 1 seconds to verify that tasks are stable...\n",
      "verify: Waiting 1 seconds to verify that tasks are stable...\n",
      "verify: Waiting 1 seconds to verify that tasks are stable...\n",
      "verify: Waiting 1 seconds to verify that tasks are stable...\n",
      "verify: Waiting 1 seconds to verify that tasks are stable...\n",
      "verify: Service d1pyjz88vwglosyjucxqfmk3c converged\n"
     ]
    }
   ],
   "source": [
    "!docker service create --name worker --network frontend --network backend --replicas 1 dockersamples/examplevotingapp_worker"
   ]
  },
  {
   "cell_type": "code",
   "execution_count": 23,
   "id": "eecc7e07",
   "metadata": {},
   "outputs": [
    {
     "name": "stdout",
     "output_type": "stream",
     "text": [
      "nk63xaap7kkotwyxb648qbk89\n",
      "overall progress: 0 out of 1 tasks\n",
      "1/1:  \n",
      "overall progress: 0 out of 1 tasks\n",
      "overall progress: 0 out of 1 tasks\n",
      "overall progress: 0 out of 1 tasks\n",
      "overall progress: 0 out of 1 tasks\n",
      "overall progress: 1 out of 1 tasks\n",
      "verify: Waiting 6 seconds to verify that tasks are stable...\n",
      "verify: Waiting 5 seconds to verify that tasks are stable...\n",
      "verify: Waiting 5 seconds to verify that tasks are stable...\n",
      "verify: Waiting 5 seconds to verify that tasks are stable...\n",
      "verify: Waiting 5 seconds to verify that tasks are stable...\n",
      "verify: Waiting 4 seconds to verify that tasks are stable...\n",
      "verify: Waiting 4 seconds to verify that tasks are stable...\n",
      "verify: Waiting 4 seconds to verify that tasks are stable...\n",
      "verify: Waiting 4 seconds to verify that tasks are stable...\n",
      "verify: Waiting 4 seconds to verify that tasks are stable...\n",
      "verify: Waiting 3 seconds to verify that tasks are stable...\n",
      "verify: Waiting 3 seconds to verify that tasks are stable...\n",
      "verify: Waiting 3 seconds to verify that tasks are stable...\n",
      "verify: Waiting 3 seconds to verify that tasks are stable...\n",
      "verify: Waiting 3 seconds to verify that tasks are stable...\n",
      "verify: Waiting 2 seconds to verify that tasks are stable...\n",
      "verify: Waiting 2 seconds to verify that tasks are stable...\n",
      "verify: Waiting 2 seconds to verify that tasks are stable...\n",
      "verify: Waiting 2 seconds to verify that tasks are stable...\n",
      "verify: Waiting 2 seconds to verify that tasks are stable...\n",
      "verify: Waiting 1 seconds to verify that tasks are stable...\n",
      "verify: Waiting 1 seconds to verify that tasks are stable...\n",
      "verify: Waiting 1 seconds to verify that tasks are stable...\n",
      "verify: Waiting 1 seconds to verify that tasks are stable...\n",
      "verify: Waiting 1 seconds to verify that tasks are stable...\n",
      "verify: Service nk63xaap7kkotwyxb648qbk89 converged\n"
     ]
    }
   ],
   "source": [
    "!docker service create --name db --network backend --replicas 1 -e POSTGRES_PASSWORD=mypass --mount \"type=volume,source=db-data,target=/var/lib/postgresql/data\" postgres:9.4"
   ]
  },
  {
   "cell_type": "code",
   "execution_count": 24,
   "id": "26e3814c",
   "metadata": {},
   "outputs": [
    {
     "name": "stdout",
     "output_type": "stream",
     "text": [
      "53vtahipr5sqxr8e9yleuy5ck\n",
      "overall progress: 0 out of 1 tasks\n",
      "1/1:  \n",
      "overall progress: 0 out of 1 tasks\n",
      "overall progress: 0 out of 1 tasks\n",
      "overall progress: 0 out of 1 tasks\n",
      "overall progress: 0 out of 1 tasks\n",
      "overall progress: 0 out of 1 tasks\n",
      "overall progress: 0 out of 1 tasks\n",
      "overall progress: 0 out of 1 tasks\n",
      "overall progress: 0 out of 1 tasks\n",
      "overall progress: 0 out of 1 tasks\n",
      "overall progress: 0 out of 1 tasks\n",
      "overall progress: 0 out of 1 tasks\n",
      "overall progress: 0 out of 1 tasks\n",
      "overall progress: 0 out of 1 tasks\n",
      "overall progress: 0 out of 1 tasks\n",
      "overall progress: 0 out of 1 tasks\n",
      "overall progress: 0 out of 1 tasks\n",
      "overall progress: 0 out of 1 tasks\n",
      "overall progress: 0 out of 1 tasks\n",
      "overall progress: 0 out of 1 tasks\n",
      "overall progress: 0 out of 1 tasks\n",
      "overall progress: 0 out of 1 tasks\n",
      "overall progress: 0 out of 1 tasks\n",
      "overall progress: 0 out of 1 tasks\n",
      "overall progress: 0 out of 1 tasks\n",
      "overall progress: 0 out of 1 tasks\n",
      "overall progress: 0 out of 1 tasks\n",
      "overall progress: 1 out of 1 tasks\n",
      "verify: Waiting 6 seconds to verify that tasks are stable...\n",
      "verify: Waiting 5 seconds to verify that tasks are stable...\n",
      "verify: Waiting 5 seconds to verify that tasks are stable...\n",
      "verify: Waiting 5 seconds to verify that tasks are stable...\n",
      "verify: Waiting 5 seconds to verify that tasks are stable...\n",
      "verify: Waiting 4 seconds to verify that tasks are stable...\n",
      "verify: Waiting 4 seconds to verify that tasks are stable...\n",
      "verify: Waiting 4 seconds to verify that tasks are stable...\n",
      "verify: Waiting 4 seconds to verify that tasks are stable...\n",
      "verify: Waiting 4 seconds to verify that tasks are stable...\n",
      "verify: Waiting 3 seconds to verify that tasks are stable...\n",
      "verify: Waiting 3 seconds to verify that tasks are stable...\n",
      "verify: Waiting 3 seconds to verify that tasks are stable...\n",
      "verify: Waiting 3 seconds to verify that tasks are stable...\n",
      "verify: Waiting 3 seconds to verify that tasks are stable...\n",
      "verify: Waiting 2 seconds to verify that tasks are stable...\n",
      "verify: Waiting 2 seconds to verify that tasks are stable...\n",
      "verify: Waiting 2 seconds to verify that tasks are stable...\n",
      "verify: Waiting 2 seconds to verify that tasks are stable...\n",
      "verify: Waiting 2 seconds to verify that tasks are stable...\n",
      "verify: Waiting 1 seconds to verify that tasks are stable...\n",
      "verify: Waiting 1 seconds to verify that tasks are stable...\n",
      "verify: Waiting 1 seconds to verify that tasks are stable...\n",
      "verify: Waiting 1 seconds to verify that tasks are stable...\n",
      "verify: Waiting 1 seconds to verify that tasks are stable...\n",
      "verify: Service 53vtahipr5sqxr8e9yleuy5ck converged\n"
     ]
    }
   ],
   "source": [
    "!docker service create --name result --network backend -p 5001:80 dockersamples/examplevotingapp_result:before"
   ]
  },
  {
   "cell_type": "code",
   "execution_count": 25,
   "id": "78e2b061",
   "metadata": {},
   "outputs": [
    {
     "name": "stdout",
     "output_type": "stream",
     "text": [
      "ID             NAME      MODE         REPLICAS   IMAGE                                          PORTS\n",
      "nk63xaap7kko   db        replicated   1/1        postgres:9.4                                   \n",
      "6g9s0axlcnde   redis     replicated   2/2        redis:3.2                                      \n",
      "53vtahipr5sq   result    replicated   1/1        dockersamples/examplevotingapp_result:before   *:5001->80/tcp\n",
      "rzrs06m5f0hw   vote      replicated   2/2        dockersamples/examplevotingapp_vote:before     *:80->80/tcp\n",
      "d1pyjz88vwgl   worker    replicated   1/1        dockersamples/examplevotingapp_worker:latest   \n"
     ]
    }
   ],
   "source": [
    "!docker service ls"
   ]
  },
  {
   "cell_type": "code",
   "execution_count": 26,
   "id": "5a2b19d7",
   "metadata": {},
   "outputs": [
    {
     "name": "stdout",
     "output_type": "stream",
     "text": [
      "ID             NAME       IMAGE                                          NODE             DESIRED STATE   CURRENT STATE            ERROR     PORTS\n",
      "3ym4dj8ec2ll   result.1   dockersamples/examplevotingapp_result:before   docker-desktop   Running         Running 49 seconds ago             \n"
     ]
    }
   ],
   "source": [
    "!docker service ps result"
   ]
  },
  {
   "cell_type": "code",
   "execution_count": 27,
   "id": "a47c51d9",
   "metadata": {},
   "outputs": [
    {
     "name": "stdout",
     "output_type": "stream",
     "text": [
      "ID             NAME      IMAGE       NODE             DESIRED STATE   CURRENT STATE           ERROR     PORTS\n",
      "ya8r3j158w4u   redis.1   redis:3.2   docker-desktop   Running         Running 8 minutes ago             \n",
      "iqvctnbebj7w   redis.2   redis:3.2   docker-desktop   Running         Running 8 minutes ago             \n"
     ]
    }
   ],
   "source": [
    "!docker service ps redis"
   ]
  },
  {
   "cell_type": "code",
   "execution_count": 28,
   "id": "c8e94aab",
   "metadata": {},
   "outputs": [
    {
     "name": "stdout",
     "output_type": "stream",
     "text": [
      "ID             NAME      IMAGE          NODE             DESIRED STATE   CURRENT STATE                ERROR     PORTS\n",
      "vcreazsbrhge   db.1      postgres:9.4   docker-desktop   Running         Running about a minute ago             \n"
     ]
    }
   ],
   "source": [
    "!docker service ps db"
   ]
  },
  {
   "cell_type": "code",
   "execution_count": 29,
   "id": "179d721e",
   "metadata": {},
   "outputs": [
    {
     "name": "stdout",
     "output_type": "stream",
     "text": [
      "ID             NAME      IMAGE                                        NODE             DESIRED STATE   CURRENT STATE           ERROR     PORTS\n",
      "2mpxi93fx1rr   vote.1    dockersamples/examplevotingapp_vote:before   docker-desktop   Running         Running 8 minutes ago             \n",
      "rxw2ie2mwqea   vote.2    dockersamples/examplevotingapp_vote:before   docker-desktop   Running         Running 8 minutes ago             \n"
     ]
    }
   ],
   "source": [
    "!docker service ps vote"
   ]
  },
  {
   "cell_type": "code",
   "execution_count": 30,
   "id": "3ed9ce29",
   "metadata": {},
   "outputs": [
    {
     "name": "stdout",
     "output_type": "stream",
     "text": [
      "ID             NAME       IMAGE                                          NODE             DESIRED STATE   CURRENT STATE           ERROR     PORTS\n",
      "0gnij2e9quc1   worker.1   dockersamples/examplevotingapp_worker:latest   docker-desktop   Running         Running 8 minutes ago             \n"
     ]
    }
   ],
   "source": [
    "!docker service ps worker"
   ]
  },
  {
   "cell_type": "code",
   "execution_count": 33,
   "id": "a6256332",
   "metadata": {},
   "outputs": [
    {
     "name": "stderr",
     "output_type": "stream",
     "text": [
      "worker.1.0gnij2e9quc1@docker-desktop    | Waiting for db\n",
      "worker.1.0gnij2e9quc1@docker-desktop    | Waiting for db\n",
      "worker.1.0gnij2e9quc1@docker-desktop    | Waiting for db\n",
      "worker.1.0gnij2e9quc1@docker-desktop    | Waiting for db\n",
      "worker.1.0gnij2e9quc1@docker-desktop    | Waiting for db\n",
      "worker.1.0gnij2e9quc1@docker-desktop    | Waiting for db\n",
      "worker.1.0gnij2e9quc1@docker-desktop    | Waiting for db\n",
      "worker.1.0gnij2e9quc1@docker-desktop    | Waiting for db\n",
      "worker.1.0gnij2e9quc1@docker-desktop    | Waiting for db\n",
      "worker.1.0gnij2e9quc1@docker-desktop    | Waiting for db\n",
      "worker.1.0gnij2e9quc1@docker-desktop    | Waiting for db\n",
      "worker.1.0gnij2e9quc1@docker-desktop    | Waiting for db\n",
      "worker.1.0gnij2e9quc1@docker-desktop    | Waiting for db\n",
      "worker.1.0gnij2e9quc1@docker-desktop    | Waiting for db\n",
      "worker.1.0gnij2e9quc1@docker-desktop    | Waiting for db\n",
      "worker.1.0gnij2e9quc1@docker-desktop    | Waiting for db\n",
      "worker.1.0gnij2e9quc1@docker-desktop    | Waiting for db\n",
      "worker.1.0gnij2e9quc1@docker-desktop    | Waiting for db\n",
      "worker.1.0gnij2e9quc1@docker-desktop    | Waiting for db\n",
      "worker.1.0gnij2e9quc1@docker-desktop    | Waiting for db\n",
      "worker.1.0gnij2e9quc1@docker-desktop    | Waiting for db\n",
      "worker.1.0gnij2e9quc1@docker-desktop    | Waiting for db\n",
      "worker.1.0gnij2e9quc1@docker-desktop    | Waiting for db\n",
      "worker.1.0gnij2e9quc1@docker-desktop    | Waiting for db\n",
      "worker.1.0gnij2e9quc1@docker-desktop    | Waiting for db\n",
      "worker.1.0gnij2e9quc1@docker-desktop    | Waiting for db\n",
      "worker.1.0gnij2e9quc1@docker-desktop    | Waiting for db\n",
      "worker.1.0gnij2e9quc1@docker-desktop    | Waiting for db\n",
      "worker.1.0gnij2e9quc1@docker-desktop    | Waiting for db\n",
      "worker.1.0gnij2e9quc1@docker-desktop    | Waiting for db\n",
      "worker.1.0gnij2e9quc1@docker-desktop    | Waiting for db\n",
      "worker.1.0gnij2e9quc1@docker-desktop    | Waiting for db\n",
      "worker.1.0gnij2e9quc1@docker-desktop    | Waiting for db\n",
      "worker.1.0gnij2e9quc1@docker-desktop    | Waiting for db\n",
      "worker.1.0gnij2e9quc1@docker-desktop    | Waiting for db\n",
      "worker.1.0gnij2e9quc1@docker-desktop    | Waiting for db\n",
      "worker.1.0gnij2e9quc1@docker-desktop    | Waiting for db\n",
      "worker.1.0gnij2e9quc1@docker-desktop    | Waiting for db\n",
      "worker.1.0gnij2e9quc1@docker-desktop    | Waiting for db\n",
      "worker.1.0gnij2e9quc1@docker-desktop    | Waiting for db\n",
      "worker.1.0gnij2e9quc1@docker-desktop    | Waiting for db\n",
      "worker.1.0gnij2e9quc1@docker-desktop    | Waiting for db\n",
      "worker.1.0gnij2e9quc1@docker-desktop    | Waiting for db\n",
      "worker.1.0gnij2e9quc1@docker-desktop    | Waiting for db\n",
      "worker.1.0gnij2e9quc1@docker-desktop    | Waiting for db\n",
      "worker.1.0gnij2e9quc1@docker-desktop    | Waiting for db\n",
      "worker.1.0gnij2e9quc1@docker-desktop    | Waiting for db\n",
      "worker.1.0gnij2e9quc1@docker-desktop    | Waiting for db\n",
      "worker.1.0gnij2e9quc1@docker-desktop    | Waiting for db\n",
      "worker.1.0gnij2e9quc1@docker-desktop    | Waiting for db\n",
      "worker.1.0gnij2e9quc1@docker-desktop    | Waiting for db\n",
      "worker.1.0gnij2e9quc1@docker-desktop    | Waiting for db\n",
      "worker.1.0gnij2e9quc1@docker-desktop    | Waiting for db\n",
      "worker.1.0gnij2e9quc1@docker-desktop    | Waiting for db\n",
      "worker.1.0gnij2e9quc1@docker-desktop    | Waiting for db\n",
      "worker.1.0gnij2e9quc1@docker-desktop    | Waiting for db\n",
      "worker.1.0gnij2e9quc1@docker-desktop    | Waiting for db\n",
      "worker.1.0gnij2e9quc1@docker-desktop    | Waiting for db\n",
      "worker.1.0gnij2e9quc1@docker-desktop    | Waiting for db\n",
      "worker.1.0gnij2e9quc1@docker-desktop    | Waiting for db\n",
      "worker.1.0gnij2e9quc1@docker-desktop    | Waiting for db\n",
      "worker.1.0gnij2e9quc1@docker-desktop    | Waiting for db\n",
      "worker.1.0gnij2e9quc1@docker-desktop    | Waiting for db\n",
      "worker.1.0gnij2e9quc1@docker-desktop    | Waiting for db\n",
      "worker.1.0gnij2e9quc1@docker-desktop    | Waiting for db\n",
      "worker.1.0gnij2e9quc1@docker-desktop    | Waiting for db\n",
      "worker.1.0gnij2e9quc1@docker-desktop    | Waiting for db\n",
      "worker.1.0gnij2e9quc1@docker-desktop    | Waiting for db\n",
      "worker.1.0gnij2e9quc1@docker-desktop    | Waiting for db\n",
      "worker.1.0gnij2e9quc1@docker-desktop    | Waiting for db\n",
      "worker.1.0gnij2e9quc1@docker-desktop    | Waiting for db\n",
      "worker.1.0gnij2e9quc1@docker-desktop    | Waiting for db\n",
      "worker.1.0gnij2e9quc1@docker-desktop    | Waiting for db\n",
      "worker.1.0gnij2e9quc1@docker-desktop    | Waiting for db\n",
      "worker.1.0gnij2e9quc1@docker-desktop    | Waiting for db\n",
      "worker.1.0gnij2e9quc1@docker-desktop    | Waiting for db\n",
      "worker.1.0gnij2e9quc1@docker-desktop    | Waiting for db\n",
      "worker.1.0gnij2e9quc1@docker-desktop    | Waiting for db\n",
      "worker.1.0gnij2e9quc1@docker-desktop    | Waiting for db\n",
      "worker.1.0gnij2e9quc1@docker-desktop    | Waiting for db\n",
      "worker.1.0gnij2e9quc1@docker-desktop    | Waiting for db\n",
      "worker.1.0gnij2e9quc1@docker-desktop    | Waiting for db\n",
      "worker.1.0gnij2e9quc1@docker-desktop    | Waiting for db\n",
      "worker.1.0gnij2e9quc1@docker-desktop    | Waiting for db\n",
      "worker.1.0gnij2e9quc1@docker-desktop    | Waiting for db\n",
      "worker.1.0gnij2e9quc1@docker-desktop    | Waiting for db\n",
      "worker.1.0gnij2e9quc1@docker-desktop    | Waiting for db\n",
      "worker.1.0gnij2e9quc1@docker-desktop    | Waiting for db\n",
      "worker.1.0gnij2e9quc1@docker-desktop    | Waiting for db\n",
      "worker.1.0gnij2e9quc1@docker-desktop    | Waiting for db\n",
      "worker.1.0gnij2e9quc1@docker-desktop    | Waiting for db\n",
      "worker.1.0gnij2e9quc1@docker-desktop    | Waiting for db\n",
      "worker.1.0gnij2e9quc1@docker-desktop    | Waiting for db\n",
      "worker.1.0gnij2e9quc1@docker-desktop    | Waiting for db\n",
      "worker.1.0gnij2e9quc1@docker-desktop    | Waiting for db\n",
      "worker.1.0gnij2e9quc1@docker-desktop    | Waiting for db\n",
      "worker.1.0gnij2e9quc1@docker-desktop    | Waiting for db\n",
      "worker.1.0gnij2e9quc1@docker-desktop    | Waiting for db\n",
      "worker.1.0gnij2e9quc1@docker-desktop    | Waiting for db\n",
      "worker.1.0gnij2e9quc1@docker-desktop    | Waiting for db\n",
      "worker.1.0gnij2e9quc1@docker-desktop    | Waiting for db\n",
      "worker.1.0gnij2e9quc1@docker-desktop    | Waiting for db\n",
      "worker.1.0gnij2e9quc1@docker-desktop    | Waiting for db\n",
      "worker.1.0gnij2e9quc1@docker-desktop    | Waiting for db\n",
      "worker.1.0gnij2e9quc1@docker-desktop    | Waiting for db\n",
      "worker.1.0gnij2e9quc1@docker-desktop    | Waiting for db\n",
      "worker.1.0gnij2e9quc1@docker-desktop    | Waiting for db\n",
      "worker.1.0gnij2e9quc1@docker-desktop    | Waiting for db\n",
      "worker.1.0gnij2e9quc1@docker-desktop    | Waiting for db\n",
      "worker.1.0gnij2e9quc1@docker-desktop    | Waiting for db\n",
      "worker.1.0gnij2e9quc1@docker-desktop    | Waiting for db\n",
      "worker.1.0gnij2e9quc1@docker-desktop    | Waiting for db\n",
      "worker.1.0gnij2e9quc1@docker-desktop    | Waiting for db\n",
      "worker.1.0gnij2e9quc1@docker-desktop    | Waiting for db\n",
      "worker.1.0gnij2e9quc1@docker-desktop    | Waiting for db\n",
      "worker.1.0gnij2e9quc1@docker-desktop    | Waiting for db\n",
      "worker.1.0gnij2e9quc1@docker-desktop    | Waiting for db\n",
      "worker.1.0gnij2e9quc1@docker-desktop    | Waiting for db\n",
      "worker.1.0gnij2e9quc1@docker-desktop    | Waiting for db\n",
      "worker.1.0gnij2e9quc1@docker-desktop    | Waiting for db\n",
      "worker.1.0gnij2e9quc1@docker-desktop    | Waiting for db\n",
      "worker.1.0gnij2e9quc1@docker-desktop    | Waiting for db\n",
      "worker.1.0gnij2e9quc1@docker-desktop    | Waiting for db\n",
      "worker.1.0gnij2e9quc1@docker-desktop    | Waiting for db\n",
      "worker.1.0gnij2e9quc1@docker-desktop    | Waiting for db\n",
      "worker.1.0gnij2e9quc1@docker-desktop    | Waiting for db\n",
      "worker.1.0gnij2e9quc1@docker-desktop    | Waiting for db\n",
      "worker.1.0gnij2e9quc1@docker-desktop    | Waiting for db\n",
      "worker.1.0gnij2e9quc1@docker-desktop    | Waiting for db\n",
      "worker.1.0gnij2e9quc1@docker-desktop    | Waiting for db\n",
      "worker.1.0gnij2e9quc1@docker-desktop    | Waiting for db\n",
      "worker.1.0gnij2e9quc1@docker-desktop    | Waiting for db\n",
      "worker.1.0gnij2e9quc1@docker-desktop    | Waiting for db\n",
      "worker.1.0gnij2e9quc1@docker-desktop    | Waiting for db\n",
      "worker.1.0gnij2e9quc1@docker-desktop    | Waiting for db\n",
      "worker.1.0gnij2e9quc1@docker-desktop    | Waiting for db\n",
      "worker.1.0gnij2e9quc1@docker-desktop    | Waiting for db\n",
      "worker.1.0gnij2e9quc1@docker-desktop    | Waiting for db\n",
      "worker.1.0gnij2e9quc1@docker-desktop    | Waiting for db\n",
      "worker.1.0gnij2e9quc1@docker-desktop    | Waiting for db\n",
      "worker.1.0gnij2e9quc1@docker-desktop    | Waiting for db\n",
      "worker.1.0gnij2e9quc1@docker-desktop    | Waiting for db\n",
      "worker.1.0gnij2e9quc1@docker-desktop    | Waiting for db\n",
      "worker.1.0gnij2e9quc1@docker-desktop    | Waiting for db\n",
      "worker.1.0gnij2e9quc1@docker-desktop    | Waiting for db\n",
      "worker.1.0gnij2e9quc1@docker-desktop    | Waiting for db\n",
      "worker.1.0gnij2e9quc1@docker-desktop    | Waiting for db\n",
      "worker.1.0gnij2e9quc1@docker-desktop    | Waiting for db\n",
      "worker.1.0gnij2e9quc1@docker-desktop    | Waiting for db\n",
      "worker.1.0gnij2e9quc1@docker-desktop    | Waiting for db\n",
      "worker.1.0gnij2e9quc1@docker-desktop    | Waiting for db\n",
      "worker.1.0gnij2e9quc1@docker-desktop    | Waiting for db\n",
      "worker.1.0gnij2e9quc1@docker-desktop    | Waiting for db\n",
      "worker.1.0gnij2e9quc1@docker-desktop    | Waiting for db\n",
      "worker.1.0gnij2e9quc1@docker-desktop    | Waiting for db\n",
      "worker.1.0gnij2e9quc1@docker-desktop    | Waiting for db\n",
      "worker.1.0gnij2e9quc1@docker-desktop    | Waiting for db\n",
      "worker.1.0gnij2e9quc1@docker-desktop    | Waiting for db\n",
      "worker.1.0gnij2e9quc1@docker-desktop    | Waiting for db\n",
      "worker.1.0gnij2e9quc1@docker-desktop    | Waiting for db\n",
      "worker.1.0gnij2e9quc1@docker-desktop    | Waiting for db\n",
      "worker.1.0gnij2e9quc1@docker-desktop    | Waiting for db\n",
      "worker.1.0gnij2e9quc1@docker-desktop    | Waiting for db\n",
      "worker.1.0gnij2e9quc1@docker-desktop    | Waiting for db\n",
      "worker.1.0gnij2e9quc1@docker-desktop    | Waiting for db\n",
      "worker.1.0gnij2e9quc1@docker-desktop    | Waiting for db\n",
      "worker.1.0gnij2e9quc1@docker-desktop    | Waiting for db\n",
      "worker.1.0gnij2e9quc1@docker-desktop    | Waiting for db\n",
      "worker.1.0gnij2e9quc1@docker-desktop    | Waiting for db\n",
      "worker.1.0gnij2e9quc1@docker-desktop    | Waiting for db\n",
      "worker.1.0gnij2e9quc1@docker-desktop    | Waiting for db\n",
      "worker.1.0gnij2e9quc1@docker-desktop    | Waiting for db\n",
      "worker.1.0gnij2e9quc1@docker-desktop    | Waiting for db\n",
      "worker.1.0gnij2e9quc1@docker-desktop    | Waiting for db\n",
      "worker.1.0gnij2e9quc1@docker-desktop    | Waiting for db\n",
      "worker.1.0gnij2e9quc1@docker-desktop    | Waiting for db\n",
      "worker.1.0gnij2e9quc1@docker-desktop    | Waiting for db\n",
      "worker.1.0gnij2e9quc1@docker-desktop    | Waiting for db\n",
      "worker.1.0gnij2e9quc1@docker-desktop    | Waiting for db\n",
      "worker.1.0gnij2e9quc1@docker-desktop    | Waiting for db\n",
      "worker.1.0gnij2e9quc1@docker-desktop    | Waiting for db\n",
      "worker.1.0gnij2e9quc1@docker-desktop    | Waiting for db\n",
      "worker.1.0gnij2e9quc1@docker-desktop    | Waiting for db\n",
      "worker.1.0gnij2e9quc1@docker-desktop    | Waiting for db\n",
      "worker.1.0gnij2e9quc1@docker-desktop    | Waiting for db\n",
      "worker.1.0gnij2e9quc1@docker-desktop    | Waiting for db\n",
      "worker.1.0gnij2e9quc1@docker-desktop    | Waiting for db\n",
      "worker.1.0gnij2e9quc1@docker-desktop    | Waiting for db\n",
      "worker.1.0gnij2e9quc1@docker-desktop    | Waiting for db\n",
      "worker.1.0gnij2e9quc1@docker-desktop    | Waiting for db\n",
      "worker.1.0gnij2e9quc1@docker-desktop    | Waiting for db\n",
      "worker.1.0gnij2e9quc1@docker-desktop    | Waiting for db\n",
      "worker.1.0gnij2e9quc1@docker-desktop    | Waiting for db\n",
      "worker.1.0gnij2e9quc1@docker-desktop    | Waiting for db\n",
      "worker.1.0gnij2e9quc1@docker-desktop    | Waiting for db\n",
      "worker.1.0gnij2e9quc1@docker-desktop    | Waiting for db\n",
      "worker.1.0gnij2e9quc1@docker-desktop    | Waiting for db\n",
      "worker.1.0gnij2e9quc1@docker-desktop    | Waiting for db\n",
      "worker.1.0gnij2e9quc1@docker-desktop    | Waiting for db\n",
      "worker.1.0gnij2e9quc1@docker-desktop    | Waiting for db\n",
      "worker.1.0gnij2e9quc1@docker-desktop    | Waiting for db\n",
      "worker.1.0gnij2e9quc1@docker-desktop    | Waiting for db\n",
      "worker.1.0gnij2e9quc1@docker-desktop    | Waiting for db\n",
      "worker.1.0gnij2e9quc1@docker-desktop    | Waiting for db\n",
      "worker.1.0gnij2e9quc1@docker-desktop    | Waiting for db\n",
      "worker.1.0gnij2e9quc1@docker-desktop    | Waiting for db\n",
      "worker.1.0gnij2e9quc1@docker-desktop    | Waiting for db\n",
      "worker.1.0gnij2e9quc1@docker-desktop    | Waiting for db\n",
      "worker.1.0gnij2e9quc1@docker-desktop    | Waiting for db\n",
      "worker.1.0gnij2e9quc1@docker-desktop    | Waiting for db\n",
      "worker.1.0gnij2e9quc1@docker-desktop    | Waiting for db\n",
      "worker.1.0gnij2e9quc1@docker-desktop    | Waiting for db\n",
      "worker.1.0gnij2e9quc1@docker-desktop    | Waiting for db\n",
      "worker.1.0gnij2e9quc1@docker-desktop    | Waiting for db\n",
      "worker.1.0gnij2e9quc1@docker-desktop    | Waiting for db\n",
      "worker.1.0gnij2e9quc1@docker-desktop    | Waiting for db\n",
      "worker.1.0gnij2e9quc1@docker-desktop    | Waiting for db\n",
      "worker.1.0gnij2e9quc1@docker-desktop    | Waiting for db\n",
      "worker.1.0gnij2e9quc1@docker-desktop    | Waiting for db\n",
      "worker.1.0gnij2e9quc1@docker-desktop    | Waiting for db\n",
      "worker.1.0gnij2e9quc1@docker-desktop    | Waiting for db\n",
      "worker.1.0gnij2e9quc1@docker-desktop    | Waiting for db\n",
      "worker.1.0gnij2e9quc1@docker-desktop    | Waiting for db\n",
      "worker.1.0gnij2e9quc1@docker-desktop    | Waiting for db\n",
      "worker.1.0gnij2e9quc1@docker-desktop    | Waiting for db\n",
      "worker.1.0gnij2e9quc1@docker-desktop    | Waiting for db\n",
      "worker.1.0gnij2e9quc1@docker-desktop    | Waiting for db\n",
      "worker.1.0gnij2e9quc1@docker-desktop    | Waiting for db\n",
      "worker.1.0gnij2e9quc1@docker-desktop    | Waiting for db\n",
      "worker.1.0gnij2e9quc1@docker-desktop    | Waiting for db\n",
      "worker.1.0gnij2e9quc1@docker-desktop    | Waiting for db\n",
      "worker.1.0gnij2e9quc1@docker-desktop    | Waiting for db\n",
      "worker.1.0gnij2e9quc1@docker-desktop    | Waiting for db\n",
      "worker.1.0gnij2e9quc1@docker-desktop    | Waiting for db\n",
      "worker.1.0gnij2e9quc1@docker-desktop    | Waiting for db\n",
      "worker.1.0gnij2e9quc1@docker-desktop    | Waiting for db\n",
      "worker.1.0gnij2e9quc1@docker-desktop    | Waiting for db\n",
      "worker.1.0gnij2e9quc1@docker-desktop    | Waiting for db\n",
      "worker.1.0gnij2e9quc1@docker-desktop    | Waiting for db\n",
      "worker.1.0gnij2e9quc1@docker-desktop    | Waiting for db\n",
      "worker.1.0gnij2e9quc1@docker-desktop    | Waiting for db\n",
      "worker.1.0gnij2e9quc1@docker-desktop    | Waiting for db\n",
      "worker.1.0gnij2e9quc1@docker-desktop    | Waiting for db\n"
     ]
    }
   ],
   "source": [
    "!docker service logs worker"
   ]
  },
  {
   "cell_type": "code",
   "execution_count": null,
   "id": "3585e280",
   "metadata": {},
   "outputs": [],
   "source": []
  }
 ],
 "metadata": {
  "kernelspec": {
   "display_name": ".venv",
   "language": "python",
   "name": "python3"
  },
  "language_info": {
   "codemirror_mode": {
    "name": "ipython",
    "version": 3
   },
   "file_extension": ".py",
   "mimetype": "text/x-python",
   "name": "python",
   "nbconvert_exporter": "python",
   "pygments_lexer": "ipython3",
   "version": "3.13.5"
  }
 },
 "nbformat": 4,
 "nbformat_minor": 5
}
