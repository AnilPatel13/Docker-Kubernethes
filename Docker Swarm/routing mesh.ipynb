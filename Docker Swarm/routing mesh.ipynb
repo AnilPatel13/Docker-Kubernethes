{
 "cells": [
  {
   "cell_type": "code",
   "execution_count": 1,
   "id": "802f4941",
   "metadata": {},
   "outputs": [
    {
     "name": "stdout",
     "output_type": "stream",
     "text": [
      "ibwqeuxu5yu919zblh9wl8u91\n",
      "overall progress: 0 out of 3 tasks\n",
      "1/3:  \n",
      "2/3:  \n",
      "3/3:  \n",
      "overall progress: 0 out of 3 tasks\n",
      "overall progress: 0 out of 3 tasks\n",
      "overall progress: 0 out of 3 tasks\n",
      "overall progress: 0 out of 3 tasks\n",
      "overall progress: 0 out of 3 tasks\n",
      "overall progress: 0 out of 3 tasks\n",
      "overall progress: 0 out of 3 tasks\n",
      "overall progress: 0 out of 3 tasks\n",
      "overall progress: 0 out of 3 tasks\n",
      "overall progress: 0 out of 3 tasks\n",
      "overall progress: 0 out of 3 tasks\n",
      "overall progress: 0 out of 3 tasks\n",
      "overall progress: 0 out of 3 tasks\n",
      "overall progress: 0 out of 3 tasks\n",
      "overall progress: 0 out of 3 tasks\n",
      "overall progress: 0 out of 3 tasks\n",
      "overall progress: 0 out of 3 tasks\n",
      "overall progress: 0 out of 3 tasks\n",
      "overall progress: 0 out of 3 tasks\n",
      "overall progress: 0 out of 3 tasks\n",
      "overall progress: 0 out of 3 tasks\n",
      "overall progress: 0 out of 3 tasks\n",
      "overall progress: 0 out of 3 tasks\n",
      "overall progress: 0 out of 3 tasks\n",
      "overall progress: 0 out of 3 tasks\n",
      "overall progress: 0 out of 3 tasks\n",
      "overall progress: 0 out of 3 tasks\n",
      "overall progress: 0 out of 3 tasks\n",
      "overall progress: 0 out of 3 tasks\n",
      "overall progress: 0 out of 3 tasks\n",
      "overall progress: 0 out of 3 tasks\n",
      "overall progress: 0 out of 3 tasks\n",
      "overall progress: 0 out of 3 tasks\n",
      "overall progress: 0 out of 3 tasks\n",
      "overall progress: 0 out of 3 tasks\n",
      "overall progress: 0 out of 3 tasks\n",
      "overall progress: 0 out of 3 tasks\n",
      "overall progress: 0 out of 3 tasks\n",
      "overall progress: 0 out of 3 tasks\n",
      "overall progress: 0 out of 3 tasks\n",
      "overall progress: 0 out of 3 tasks\n",
      "overall progress: 0 out of 3 tasks\n",
      "overall progress: 0 out of 3 tasks\n",
      "overall progress: 0 out of 3 tasks\n",
      "overall progress: 0 out of 3 tasks\n",
      "overall progress: 0 out of 3 tasks\n",
      "overall progress: 0 out of 3 tasks\n",
      "overall progress: 0 out of 3 tasks\n",
      "overall progress: 0 out of 3 tasks\n",
      "overall progress: 0 out of 3 tasks\n",
      "overall progress: 0 out of 3 tasks\n",
      "overall progress: 0 out of 3 tasks\n",
      "overall progress: 0 out of 3 tasks\n",
      "overall progress: 0 out of 3 tasks\n",
      "overall progress: 0 out of 3 tasks\n",
      "overall progress: 0 out of 3 tasks\n",
      "overall progress: 0 out of 3 tasks\n",
      "overall progress: 0 out of 3 tasks\n",
      "overall progress: 0 out of 3 tasks\n",
      "overall progress: 0 out of 3 tasks\n",
      "overall progress: 0 out of 3 tasks\n",
      "overall progress: 0 out of 3 tasks\n",
      "overall progress: 0 out of 3 tasks\n",
      "overall progress: 0 out of 3 tasks\n",
      "overall progress: 0 out of 3 tasks\n",
      "overall progress: 0 out of 3 tasks\n",
      "overall progress: 0 out of 3 tasks\n",
      "overall progress: 0 out of 3 tasks\n",
      "overall progress: 0 out of 3 tasks\n",
      "overall progress: 0 out of 3 tasks\n",
      "overall progress: 0 out of 3 tasks\n",
      "overall progress: 0 out of 3 tasks\n",
      "overall progress: 0 out of 3 tasks\n",
      "overall progress: 0 out of 3 tasks\n",
      "overall progress: 0 out of 3 tasks\n",
      "overall progress: 0 out of 3 tasks\n",
      "overall progress: 0 out of 3 tasks\n",
      "overall progress: 0 out of 3 tasks\n",
      "overall progress: 0 out of 3 tasks\n",
      "overall progress: 0 out of 3 tasks\n",
      "overall progress: 0 out of 3 tasks\n",
      "overall progress: 0 out of 3 tasks\n",
      "overall progress: 0 out of 3 tasks\n",
      "overall progress: 0 out of 3 tasks\n",
      "overall progress: 0 out of 3 tasks\n",
      "overall progress: 0 out of 3 tasks\n",
      "overall progress: 0 out of 3 tasks\n",
      "overall progress: 0 out of 3 tasks\n",
      "overall progress: 0 out of 3 tasks\n",
      "overall progress: 0 out of 3 tasks\n",
      "overall progress: 0 out of 3 tasks\n",
      "overall progress: 0 out of 3 tasks\n",
      "overall progress: 0 out of 3 tasks\n",
      "overall progress: 0 out of 3 tasks\n",
      "overall progress: 0 out of 3 tasks\n",
      "overall progress: 0 out of 3 tasks\n",
      "overall progress: 0 out of 3 tasks\n",
      "overall progress: 0 out of 3 tasks\n",
      "overall progress: 0 out of 3 tasks\n",
      "overall progress: 0 out of 3 tasks\n",
      "overall progress: 0 out of 3 tasks\n",
      "overall progress: 0 out of 3 tasks\n",
      "overall progress: 0 out of 3 tasks\n",
      "overall progress: 0 out of 3 tasks\n",
      "overall progress: 0 out of 3 tasks\n",
      "overall progress: 0 out of 3 tasks\n",
      "overall progress: 0 out of 3 tasks\n",
      "overall progress: 0 out of 3 tasks\n",
      "overall progress: 0 out of 3 tasks\n",
      "overall progress: 0 out of 3 tasks\n",
      "overall progress: 0 out of 3 tasks\n",
      "overall progress: 0 out of 3 tasks\n",
      "overall progress: 0 out of 3 tasks\n",
      "overall progress: 0 out of 3 tasks\n",
      "overall progress: 0 out of 3 tasks\n",
      "overall progress: 0 out of 3 tasks\n",
      "overall progress: 0 out of 3 tasks\n",
      "overall progress: 0 out of 3 tasks\n",
      "overall progress: 3 out of 3 tasks\n",
      "verify: Waiting 6 seconds to verify that tasks are stable...\n",
      "verify: Waiting 5 seconds to verify that tasks are stable...\n",
      "verify: Waiting 5 seconds to verify that tasks are stable...\n",
      "verify: Waiting 5 seconds to verify that tasks are stable...\n",
      "verify: Waiting 5 seconds to verify that tasks are stable...\n",
      "verify: Waiting 4 seconds to verify that tasks are stable...\n",
      "verify: Waiting 4 seconds to verify that tasks are stable...\n",
      "verify: Waiting 4 seconds to verify that tasks are stable...\n",
      "verify: Waiting 4 seconds to verify that tasks are stable...\n",
      "verify: Waiting 4 seconds to verify that tasks are stable...\n",
      "verify: Waiting 3 seconds to verify that tasks are stable...\n",
      "verify: Waiting 3 seconds to verify that tasks are stable...\n",
      "verify: Waiting 3 seconds to verify that tasks are stable...\n",
      "verify: Waiting 3 seconds to verify that tasks are stable...\n",
      "verify: Waiting 3 seconds to verify that tasks are stable...\n",
      "verify: Waiting 2 seconds to verify that tasks are stable...\n",
      "verify: Waiting 2 seconds to verify that tasks are stable...\n",
      "verify: Waiting 2 seconds to verify that tasks are stable...\n",
      "verify: Waiting 2 seconds to verify that tasks are stable...\n",
      "verify: Waiting 2 seconds to verify that tasks are stable...\n",
      "verify: Waiting 1 seconds to verify that tasks are stable...\n",
      "verify: Waiting 1 seconds to verify that tasks are stable...\n",
      "verify: Waiting 1 seconds to verify that tasks are stable...\n",
      "verify: Waiting 1 seconds to verify that tasks are stable...\n",
      "verify: Waiting 1 seconds to verify that tasks are stable...\n",
      "verify: Service ibwqeuxu5yu919zblh9wl8u91 converged\n"
     ]
    }
   ],
   "source": [
    "!docker service create --name search --replicas 3 -p 9200:9200 elasticsearch:2"
   ]
  },
  {
   "cell_type": "code",
   "execution_count": 2,
   "id": "a9444224",
   "metadata": {},
   "outputs": [
    {
     "name": "stdout",
     "output_type": "stream",
     "text": [
      "ID             NAME       IMAGE             NODE             DESIRED STATE   CURRENT STATE           ERROR     PORTS\n",
      "wrr97thieae3   search.1   elasticsearch:2   docker-desktop   Running         Running 8 seconds ago             \n",
      "leku4fnc01zy   search.2   elasticsearch:2   docker-desktop   Running         Running 8 seconds ago             \n",
      "xqz7itdgdx32   search.3   elasticsearch:2   docker-desktop   Running         Running 8 seconds ago             \n"
     ]
    }
   ],
   "source": [
    "!docker service ps search"
   ]
  },
  {
   "cell_type": "code",
   "execution_count": 3,
   "id": "2a921513",
   "metadata": {},
   "outputs": [
    {
     "name": "stdout",
     "output_type": "stream",
     "text": [
      "{\n",
      "  \"name\" : \"George Washington Bridge\",\n",
      "  \"cluster_name\" : \"elasticsearch\",\n",
      "  \"cluster_uuid\" : \"y-fsahVTQOiqx8B27KaGKA\",\n",
      "  \"version\" : {\n",
      "    \"number\" : \"2.4.6\",\n",
      "    \"build_hash\" : \"5376dca9f70f3abef96a77f4bb22720ace8240fd\",\n",
      "    \"build_timestamp\" : \"2017-07-18T12:17:44Z\",\n",
      "    \"build_snapshot\" : false,\n",
      "    \"lucene_version\" : \"5.5.4\"\n",
      "  },\n",
      "  \"tagline\" : \"You Know, for Search\"\n",
      "}\n"
     ]
    },
    {
     "name": "stderr",
     "output_type": "stream",
     "text": [
      "  % Total    % Received % Xferd  Average Speed   Time    Time     Time  Current\n",
      "                                 Dload  Upload   Total   Spent    Left  Speed\n",
      "\n",
      "  0     0    0     0    0     0      0      0 --:--:-- --:--:-- --:--:--     0\n",
      "100   378  100   378    0     0  16038      0 --:--:-- --:--:-- --:--:-- 16434\n"
     ]
    }
   ],
   "source": [
    "!curl localhost:9200"
   ]
  },
  {
   "cell_type": "code",
   "execution_count": 4,
   "id": "379703b1",
   "metadata": {},
   "outputs": [
    {
     "name": "stdout",
     "output_type": "stream",
     "text": [
      "{\n",
      "  \"name\" : \"Gauntlet\",\n",
      "  \"cluster_name\" : \"elasticsearch\",\n",
      "  \"cluster_uuid\" : \"OP6SnnVkT_aZzdqkm2j7Zg\",\n",
      "  \"version\" : {\n",
      "    \"number\" : \"2.4.6\",\n",
      "    \"build_hash\" : \"5376dca9f70f3abef96a77f4bb22720ace8240fd\",\n",
      "    \"build_timestamp\" : \"2017-07-18T12:17:44Z\",\n",
      "    \"build_snapshot\" : false,\n",
      "    \"lucene_version\" : \"5.5.4\"\n",
      "  },\n",
      "  \"tagline\" : \"You Know, for Search\"\n",
      "}\n"
     ]
    },
    {
     "name": "stderr",
     "output_type": "stream",
     "text": [
      "  % Total    % Received % Xferd  Average Speed   Time    Time     Time  Current\n",
      "                                 Dload  Upload   Total   Spent    Left  Speed\n",
      "\n",
      "  0     0    0     0    0     0      0      0 --:--:-- --:--:-- --:--:--     0\n",
      "100   362  100   362    0     0   9922      0 --:--:-- --:--:-- --:--:-- 10055\n"
     ]
    }
   ],
   "source": [
    "!curl localhost:9200"
   ]
  },
  {
   "cell_type": "code",
   "execution_count": 5,
   "id": "369d59d7",
   "metadata": {},
   "outputs": [
    {
     "name": "stdout",
     "output_type": "stream",
     "text": [
      "{\n",
      "  \"name\" : \"Unuscione\",\n",
      "  \"cluster_name\" : \"elasticsearch\",\n",
      "  \"cluster_uuid\" : \"SqF_QL5OQNWHyKvqImSkkQ\",\n",
      "  \"version\" : {\n",
      "    \"number\" : \"2.4.6\",\n",
      "    \"build_hash\" : \"5376dca9f70f3abef96a77f4bb22720ace8240fd\",\n",
      "    \"build_timestamp\" : \"2017-07-18T12:17:44Z\",\n",
      "    \"build_snapshot\" : false,\n",
      "    \"lucene_version\" : \"5.5.4\"\n",
      "  },\n",
      "  \"tagline\" : \"You Know, for Search\"\n",
      "}\n"
     ]
    },
    {
     "name": "stderr",
     "output_type": "stream",
     "text": [
      "  % Total    % Received % Xferd  Average Speed   Time    Time     Time  Current\n",
      "                                 Dload  Upload   Total   Spent    Left  Speed\n",
      "\n",
      "  0     0    0     0    0     0      0      0 --:--:-- --:--:-- --:--:--     0\n",
      "100   363  100   363    0     0  18199      0 --:--:-- --:--:-- --:--:-- 19105\n"
     ]
    }
   ],
   "source": [
    "!curl localhost:9200"
   ]
  },
  {
   "cell_type": "code",
   "execution_count": 6,
   "id": "25bb7108",
   "metadata": {},
   "outputs": [
    {
     "name": "stdout",
     "output_type": "stream",
     "text": [
      "{\n",
      "  \"name\" : \"George Washington Bridge\",\n",
      "  \"cluster_name\" : \"elasticsearch\",\n",
      "  \"cluster_uuid\" : \"y-fsahVTQOiqx8B27KaGKA\",\n",
      "  \"version\" : {\n",
      "    \"number\" : \"2.4.6\",\n",
      "    \"build_hash\" : \"5376dca9f70f3abef96a77f4bb22720ace8240fd\",\n",
      "    \"build_timestamp\" : \"2017-07-18T12:17:44Z\",\n",
      "    \"build_snapshot\" : false,\n",
      "    \"lucene_version\" : \"5.5.4\"\n",
      "  },\n",
      "  \"tagline\" : \"You Know, for Search\"\n",
      "}\n"
     ]
    },
    {
     "name": "stderr",
     "output_type": "stream",
     "text": [
      "  % Total    % Received % Xferd  Average Speed   Time    Time     Time  Current\n",
      "                                 Dload  Upload   Total   Spent    Left  Speed\n",
      "\n",
      "  0     0    0     0    0     0      0      0 --:--:-- --:--:-- --:--:--     0\n",
      "100   378  100   378    0     0  31634      0 --:--:-- --:--:-- --:--:-- 34363\n"
     ]
    }
   ],
   "source": [
    "!curl localhost:9200"
   ]
  }
 ],
 "metadata": {
  "kernelspec": {
   "display_name": ".venv",
   "language": "python",
   "name": "python3"
  },
  "language_info": {
   "codemirror_mode": {
    "name": "ipython",
    "version": 3
   },
   "file_extension": ".py",
   "mimetype": "text/x-python",
   "name": "python",
   "nbconvert_exporter": "python",
   "pygments_lexer": "ipython3",
   "version": "3.13.5"
  }
 },
 "nbformat": 4,
 "nbformat_minor": 5
}
