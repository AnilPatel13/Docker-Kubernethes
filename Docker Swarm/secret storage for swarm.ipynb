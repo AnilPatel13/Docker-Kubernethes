{
 "cells": [
  {
   "cell_type": "code",
   "execution_count": 5,
   "id": "baeab7ca",
   "metadata": {},
   "outputs": [
    {
     "name": "stdout",
     "output_type": "stream",
     "text": [
      "luy57fso57ni3i8wpjlvpiaqz\n"
     ]
    }
   ],
   "source": [
    "!docker secret create psql_user secrets-sample-1/psql_user.txt"
   ]
  },
  {
   "cell_type": "code",
   "execution_count": 8,
   "id": "6f76d5cf",
   "metadata": {},
   "outputs": [
    {
     "name": "stdout",
     "output_type": "stream",
     "text": [
      "vtsq7sn9foop4tzjwjc56oqwi\n"
     ]
    }
   ],
   "source": [
    "!echo mySuperSecret | docker secret create psql_pass -"
   ]
  },
  {
   "cell_type": "code",
   "execution_count": 9,
   "id": "c515c125",
   "metadata": {},
   "outputs": [
    {
     "name": "stdout",
     "output_type": "stream",
     "text": [
      "ID                          NAME        DRIVER    CREATED              UPDATED\n",
      "vtsq7sn9foop4tzjwjc56oqwi   psql_pass             About a minute ago   About a minute ago\n",
      "luy57fso57ni3i8wpjlvpiaqz   psql_user             4 minutes ago        4 minutes ago\n"
     ]
    }
   ],
   "source": [
    "!docker secret ls"
   ]
  },
  {
   "cell_type": "code",
   "execution_count": 10,
   "id": "2e7ee4df",
   "metadata": {},
   "outputs": [
    {
     "name": "stdout",
     "output_type": "stream",
     "text": [
      "[\n",
      "    {\n",
      "        \"ID\": \"luy57fso57ni3i8wpjlvpiaqz\",\n",
      "        \"Version\": {\n",
      "            \"Index\": 696\n",
      "        },\n",
      "        \"CreatedAt\": \"2025-08-16T21:27:19.196437543Z\",\n",
      "        \"UpdatedAt\": \"2025-08-16T21:27:19.196437543Z\",\n",
      "        \"Spec\": {\n",
      "            \"Name\": \"psql_user\",\n",
      "            \"Labels\": {}\n",
      "        }\n",
      "    }\n",
      "]\n"
     ]
    }
   ],
   "source": [
    "!docker secret inspect psql_user"
   ]
  },
  {
   "cell_type": "code",
   "execution_count": 11,
   "id": "5828382e",
   "metadata": {},
   "outputs": [
    {
     "name": "stdout",
     "output_type": "stream",
     "text": [
      "t90vnsfw71vvvy4xn215t4rp3\n",
      "overall progress: 0 out of 1 tasks\n",
      "1/1:  \n",
      "overall progress: 0 out of 1 tasks\n",
      "overall progress: 0 out of 1 tasks\n",
      "overall progress: 0 out of 1 tasks\n",
      "overall progress: 1 out of 1 tasks\n",
      "verify: Waiting 6 seconds to verify that tasks are stable...\n",
      "verify: Waiting 5 seconds to verify that tasks are stable...\n",
      "verify: Waiting 5 seconds to verify that tasks are stable...\n",
      "verify: Waiting 5 seconds to verify that tasks are stable...\n",
      "verify: Waiting 5 seconds to verify that tasks are stable...\n",
      "verify: Waiting 4 seconds to verify that tasks are stable...\n",
      "verify: Waiting 4 seconds to verify that tasks are stable...\n",
      "verify: Waiting 4 seconds to verify that tasks are stable...\n",
      "verify: Waiting 4 seconds to verify that tasks are stable...\n",
      "verify: Waiting 4 seconds to verify that tasks are stable...\n",
      "verify: Waiting 3 seconds to verify that tasks are stable...\n",
      "verify: Waiting 3 seconds to verify that tasks are stable...\n",
      "verify: Waiting 3 seconds to verify that tasks are stable...\n",
      "verify: Waiting 3 seconds to verify that tasks are stable...\n",
      "verify: Waiting 3 seconds to verify that tasks are stable...\n",
      "verify: Waiting 2 seconds to verify that tasks are stable...\n",
      "verify: Waiting 2 seconds to verify that tasks are stable...\n",
      "verify: Waiting 2 seconds to verify that tasks are stable...\n",
      "verify: Waiting 2 seconds to verify that tasks are stable...\n",
      "verify: Waiting 2 seconds to verify that tasks are stable...\n",
      "verify: Waiting 1 seconds to verify that tasks are stable...\n",
      "verify: Waiting 1 seconds to verify that tasks are stable...\n",
      "verify: Waiting 1 seconds to verify that tasks are stable...\n",
      "verify: Waiting 1 seconds to verify that tasks are stable...\n",
      "verify: Waiting 1 seconds to verify that tasks are stable...\n",
      "verify: Service t90vnsfw71vvvy4xn215t4rp3 converged\n"
     ]
    }
   ],
   "source": [
    "!docker service create --name psql --secret psql_user --secret psql_pass -e POSTGRES_PASSWORD_FILE=/run/secrets/psql_user -e POSTGRES_USER_FILE=/run/secrets/psql_user postgres"
   ]
  },
  {
   "cell_type": "code",
   "execution_count": 12,
   "id": "b2fb88c6",
   "metadata": {},
   "outputs": [
    {
     "name": "stdout",
     "output_type": "stream",
     "text": [
      "ID             NAME      IMAGE             NODE             DESIRED STATE   CURRENT STATE            ERROR     PORTS\n",
      "mkq7prad93z2   psql.1    postgres:latest   docker-desktop   Running         Running 20 seconds ago             \n"
     ]
    }
   ],
   "source": [
    "!docker service ps psql"
   ]
  },
  {
   "cell_type": "code",
   "execution_count": 13,
   "id": "a5261698",
   "metadata": {},
   "outputs": [
    {
     "name": "stderr",
     "output_type": "stream",
     "text": [
      "docker: 'docker exec' requires at least 2 arguments\n",
      "\n",
      "Usage:  docker exec [OPTIONS] CONTAINER COMMAND [ARG...]\n",
      "\n",
      "See 'docker exec --help' for more information\n"
     ]
    }
   ],
   "source": [
    "!docker exec -it psql.1"
   ]
  },
  {
   "cell_type": "code",
   "execution_count": 14,
   "id": "1885b80b",
   "metadata": {},
   "outputs": [
    {
     "name": "stdout",
     "output_type": "stream",
     "text": [
      "The files belonging to this database system will be owned by user \"postgres\".\n",
      "This user must also own the server process.\n",
      "\n",
      "The database cluster will be initialized with locale \"en_US.utf8\".\n",
      "The default database encoding has accordingly been set to \"UTF8\".\n",
      "The default text search configuration will be set to \"english\".\n",
      "\n",
      "Data page checksums are disabled.\n",
      "\n",
      "fixing permissions on existing directory /var/lib/postgresql/data ... ok\n",
      "creating subdirectories ... ok\n",
      "selecting dynamic shared memory implementation ... posix\n",
      "selecting default \"max_connections\" ... 100\n",
      "selecting default \"shared_buffers\" ... 128MB\n",
      "selecting default time zone ... Etc/UTC\n",
      "creating configuration files ... ok\n",
      "running bootstrap script ... ok\n",
      "performing post-bootstrap initialization ... ok\n",
      "syncing data to disk ... ok\n",
      "\n",
      "\n",
      "Success. You can now start the database server using:\n",
      "\n",
      "    pg_ctl -D /var/lib/postgresql/data -l logfile start\n",
      "\n",
      "waiting for server to start....2025-08-16 21:35:07.255 UTC [48] LOG:  starting PostgreSQL 17.6 (Debian 17.6-1.pgdg13+1) on x86_64-pc-linux-gnu, compiled by gcc (Debian 14.2.0-19) 14.2.0, 64-bit\n",
      "2025-08-16 21:35:07.258 UTC [48] LOG:  listening on Unix socket \"/var/run/postgresql/.s.PGSQL.5432\"\n",
      "2025-08-16 21:35:07.264 UTC [51] LOG:  database system was shut down at 2025-08-16 21:35:06 UTC\n",
      "2025-08-16 21:35:07.269 UTC [48] LOG:  database system is ready to accept connections\n",
      " done\n",
      "server started\n",
      "CREATE DATABASE\n",
      "\n",
      "\n",
      "/usr/local/bin/docker-entrypoint.sh: ignoring /docker-entrypoint-initdb.d/*\n",
      "\n",
      "waiting for server to shut down....2025-08-16 21:35:07.437 UTC [48] LOG:  received fast shutdown request\n",
      "2025-08-16 21:35:07.439 UTC [48] LOG:  aborting any active transactions\n",
      "2025-08-16 21:35:07.440 UTC [48] LOG:  background worker \"logical replication launcher\" (PID 54) exited with exit code 1\n",
      "2025-08-16 21:35:07.440 UTC [49] LOG:  shutting down\n",
      "2025-08-16 21:35:07.443 UTC [49] LOG:  checkpoint starting: shutdown immediate\n",
      "2025-08-16 21:35:07.725 UTC [49] LOG:  checkpoint complete: wrote 925 buffers (5.6%); 0 WAL file(s) added, 0 removed, 0 recycled; write=0.013 s, sync=0.261 s, total=0.285 s; sync files=301, longest=0.004 s, average=0.001 s; distance=4256 kB, estimate=4256 kB; lsn=0/1915968, redo lsn=0/1915968\n",
      "2025-08-16 21:35:07.728 UTC [48] LOG:  database system is shut down\n",
      " done\n",
      "server stopped\n",
      "\n",
      "PostgreSQL init process complete; ready for start up.\n",
      "\n"
     ]
    },
    {
     "name": "stderr",
     "output_type": "stream",
     "text": [
      "initdb: warning: enabling \"trust\" authentication for local connections\n",
      "initdb: hint: You can change this by editing pg_hba.conf or using the option -A, or --auth-local and --auth-host, the next time you run initdb.\n",
      "2025-08-16 21:35:07.755 UTC [1] LOG:  starting PostgreSQL 17.6 (Debian 17.6-1.pgdg13+1) on x86_64-pc-linux-gnu, compiled by gcc (Debian 14.2.0-19) 14.2.0, 64-bit\n",
      "2025-08-16 21:35:07.756 UTC [1] LOG:  listening on IPv4 address \"0.0.0.0\", port 5432\n",
      "2025-08-16 21:35:07.756 UTC [1] LOG:  listening on IPv6 address \"::\", port 5432\n",
      "2025-08-16 21:35:07.761 UTC [1] LOG:  listening on Unix socket \"/var/run/postgresql/.s.PGSQL.5432\"\n",
      "2025-08-16 21:35:07.767 UTC [64] LOG:  database system was shut down at 2025-08-16 21:35:07 UTC\n",
      "2025-08-16 21:35:07.772 UTC [1] LOG:  database system is ready to accept connections\n"
     ]
    }
   ],
   "source": [
    "!docker logs c9e8a74950d45d519172928eec8e29bdb50606b0b282cdca43f7e1abbc039b00"
   ]
  },
  {
   "cell_type": "code",
   "execution_count": 17,
   "id": "841347bd",
   "metadata": {},
   "outputs": [
    {
     "name": "stdout",
     "output_type": "stream",
     "text": [
      "ID             NAME      IMAGE             NODE             DESIRED STATE   CURRENT STATE           ERROR     PORTS\n",
      "mkq7prad93z2   psql.1    postgres:latest   docker-desktop   Running         Running 3 minutes ago             \n"
     ]
    }
   ],
   "source": [
    "!docker service ps psql"
   ]
  },
  {
   "cell_type": "code",
   "execution_count": 21,
   "id": "5645c114",
   "metadata": {},
   "outputs": [
    {
     "name": "stdout",
     "output_type": "stream",
     "text": [
      "psql\n",
      "overall progress: 0 out of 1 tasks\n",
      "1/1:  \n",
      "overall progress: 0 out of 1 tasks\n",
      "overall progress: 0 out of 1 tasks\n",
      "overall progress: 0 out of 1 tasks\n",
      "overall progress: 0 out of 1 tasks\n",
      "overall progress: 0 out of 1 tasks\n",
      "overall progress: 0 out of 1 tasks\n",
      "overall progress: 0 out of 1 tasks\n",
      "overall progress: 0 out of 1 tasks\n",
      "overall progress: 0 out of 1 tasks\n",
      "overall progress: 0 out of 1 tasks\n"
     ]
    },
    {
     "name": "stderr",
     "output_type": "stream",
     "text": [
      "service update paused: update paused due to failure or early termination of task srp3dj2san0o36thypxzr453w\n"
     ]
    }
   ],
   "source": [
    "!docker service update --secret-rm psql_user psql"
   ]
  },
  {
   "cell_type": "code",
   "execution_count": 22,
   "id": "a83b7083",
   "metadata": {},
   "outputs": [
    {
     "name": "stdout",
     "output_type": "stream",
     "text": [
      "ID             NAME      MODE         REPLICAS   IMAGE             PORTS\n",
      "t90vnsfw71vv   psql      replicated   0/1        postgres:latest   \n"
     ]
    }
   ],
   "source": [
    "!docker service ls"
   ]
  },
  {
   "cell_type": "code",
   "execution_count": 23,
   "id": "898ca2f1",
   "metadata": {},
   "outputs": [
    {
     "name": "stdout",
     "output_type": "stream",
     "text": [
      "psql\n"
     ]
    }
   ],
   "source": [
    "!docker service rm psql"
   ]
  },
  {
   "cell_type": "code",
   "execution_count": 24,
   "id": "f97dc0be",
   "metadata": {},
   "outputs": [
    {
     "name": "stdout",
     "output_type": "stream",
     "text": [
      "Creating network mydb_default\n",
      "Creating secret mydb_psql_user\n",
      "Creating secret mydb_psql_password\n",
      "Creating service mydb_psql\n"
     ]
    },
    {
     "name": "stderr",
     "output_type": "stream",
     "text": [
      "Since --detach=false was not specified, tasks will be created in the background.\n",
      "In a future release, --detach=false will become the default.\n"
     ]
    }
   ],
   "source": [
    "!docker stack deploy -c secrets-sample-2/docker-compose.yml mydb"
   ]
  },
  {
   "cell_type": "code",
   "execution_count": 25,
   "id": "bf87667e",
   "metadata": {},
   "outputs": [
    {
     "name": "stdout",
     "output_type": "stream",
     "text": [
      "ID                          NAME                 DRIVER    CREATED          UPDATED\n",
      "jhch0afwrhgabzfi5qqfuws6i   mydb_psql_password             19 seconds ago   19 seconds ago\n",
      "kwnnw2b2d76119f2nkpjb40y6   mydb_psql_user                 19 seconds ago   19 seconds ago\n",
      "vtsq7sn9foop4tzjwjc56oqwi   psql_pass                      13 minutes ago   13 minutes ago\n",
      "luy57fso57ni3i8wpjlvpiaqz   psql_user                      16 minutes ago   16 minutes ago\n"
     ]
    }
   ],
   "source": [
    "!docker secret ls"
   ]
  },
  {
   "cell_type": "code",
   "execution_count": 26,
   "id": "1059caf3",
   "metadata": {},
   "outputs": [
    {
     "name": "stdout",
     "output_type": "stream",
     "text": [
      "Removing service mydb_psql\n",
      "Removing secret mydb_psql_password\n",
      "Removing secret mydb_psql_user\n",
      "Removing network mydb_default\n"
     ]
    }
   ],
   "source": [
    "!docker stack rm mydb"
   ]
  },
  {
   "cell_type": "code",
   "execution_count": 27,
   "id": "ac69b66a",
   "metadata": {},
   "outputs": [
    {
     "name": "stdout",
     "output_type": "stream",
     "text": [
      "z80ctrhv1hpb4om71230dq12s\n"
     ]
    }
   ],
   "source": [
    "! echo mytest123 | docker secret create psql-pw -"
   ]
  },
  {
   "cell_type": "code",
   "execution_count": 28,
   "id": "bb852617",
   "metadata": {},
   "outputs": [
    {
     "name": "stdout",
     "output_type": "stream",
     "text": [
      "Creating network drupal_default\n",
      "Creating service drupal_drupal\n",
      "Creating service drupal_postgres\n"
     ]
    },
    {
     "name": "stderr",
     "output_type": "stream",
     "text": [
      "Since --detach=false was not specified, tasks will be created in the background.\n",
      "In a future release, --detach=false will become the default.\n"
     ]
    }
   ],
   "source": [
    "!docker stack deploy -c compose-assignment-2/answer/docker-compose.yml drupal"
   ]
  },
  {
   "cell_type": "code",
   "execution_count": 29,
   "id": "027edbb1",
   "metadata": {},
   "outputs": [
    {
     "name": "stdout",
     "output_type": "stream",
     "text": [
      "NAME      SERVICES\n",
      "drupal    2\n"
     ]
    }
   ],
   "source": [
    "!docker stack ls"
   ]
  },
  {
   "cell_type": "code",
   "execution_count": 30,
   "id": "ec52c999",
   "metadata": {},
   "outputs": [
    {
     "name": "stdout",
     "output_type": "stream",
     "text": [
      "Removing service drupal_drupal\n",
      "Removing service drupal_postgres\n",
      "Removing network drupal_default\n"
     ]
    }
   ],
   "source": [
    "!docker stack rm drupal"
   ]
  },
  {
   "cell_type": "code",
   "execution_count": null,
   "id": "2deec4c8",
   "metadata": {},
   "outputs": [],
   "source": []
  }
 ],
 "metadata": {
  "kernelspec": {
   "display_name": ".venv",
   "language": "python",
   "name": "python3"
  },
  "language_info": {
   "codemirror_mode": {
    "name": "ipython",
    "version": 3
   },
   "file_extension": ".py",
   "mimetype": "text/x-python",
   "name": "python",
   "nbconvert_exporter": "python",
   "pygments_lexer": "ipython3",
   "version": "3.13.5"
  }
 },
 "nbformat": 4,
 "nbformat_minor": 5
}
