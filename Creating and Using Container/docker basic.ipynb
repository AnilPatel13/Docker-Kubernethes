{
 "cells": [
  {
   "cell_type": "code",
   "execution_count": 11,
   "id": "51afab85",
   "metadata": {},
   "outputs": [
    {
     "name": "stdout",
     "output_type": "stream",
     "text": [
      "Client:\n",
      " Version:           28.3.2\n",
      " API version:       1.51\n",
      " Go version:        go1.24.5\n",
      " Git commit:        578ccf6\n",
      " Built:             Wed Jul  9 16:12:31 2025\n",
      " OS/Arch:           windows/amd64\n",
      " Context:           desktop-linux\n",
      "\n",
      "Server: Docker Desktop 4.43.2 (199162)\n",
      " Engine:\n",
      "  Version:          28.3.2\n",
      "  API version:      1.51 (minimum version 1.24)\n",
      "  Go version:       go1.24.5\n",
      "  Git commit:       e77ff99\n",
      "  Built:            Wed Jul  9 16:13:55 2025\n",
      "  OS/Arch:          linux/amd64\n",
      "  Experimental:     false\n",
      " containerd:\n",
      "  Version:          1.7.27\n",
      "  GitCommit:        05044ec0a9a75232cad458027ca83437aae3f4da\n",
      " runc:\n",
      "  Version:          1.2.5\n",
      "  GitCommit:        v1.2.5-0-g59923ef\n",
      " docker-init:\n",
      "  Version:          0.19.0\n",
      "  GitCommit:        de40ad0\n"
     ]
    }
   ],
   "source": [
    "!docker version"
   ]
  },
  {
   "cell_type": "code",
   "execution_count": 12,
   "id": "de5a5fff",
   "metadata": {},
   "outputs": [
    {
     "name": "stdout",
     "output_type": "stream",
     "text": [
      "Client:\n",
      " Version:    28.3.2\n",
      " Context:    desktop-linux\n",
      " Debug Mode: false\n",
      " Plugins:\n",
      "  ai: Docker AI Agent - Ask Gordon (Docker Inc.)\n",
      "    Version:  v1.6.0\n",
      "    Path:     C:\\Program Files\\Docker\\cli-plugins\\docker-ai.exe\n",
      "  buildx: Docker Buildx (Docker Inc.)\n",
      "    Version:  v0.25.0-desktop.1\n",
      "    Path:     C:\\Program Files\\Docker\\cli-plugins\\docker-buildx.exe\n",
      "  cloud: Docker Cloud (Docker Inc.)\n",
      "    Version:  v0.4.2\n",
      "    Path:     C:\\Program Files\\Docker\\cli-plugins\\docker-cloud.exe\n",
      "  compose: Docker Compose (Docker Inc.)\n",
      "    Version:  v2.38.2-desktop.1\n",
      "    Path:     C:\\Program Files\\Docker\\cli-plugins\\docker-compose.exe\n",
      "  debug: Get a shell into any image or container (Docker Inc.)\n",
      "    Version:  0.0.41\n",
      "    Path:     C:\\Program Files\\Docker\\cli-plugins\\docker-debug.exe\n",
      "  desktop: Docker Desktop commands (Docker Inc.)\n",
      "    Version:  v0.1.11\n",
      "    Path:     C:\\Program Files\\Docker\\cli-plugins\\docker-desktop.exe\n",
      "  extension: Manages Docker extensions (Docker Inc.)\n",
      "    Version:  v0.2.29\n",
      "    Path:     C:\\Program Files\\Docker\\cli-plugins\\docker-extension.exe\n",
      "  init: Creates Docker-related starter files for your project (Docker Inc.)\n",
      "    Version:  v1.4.0\n",
      "    Path:     C:\\Program Files\\Docker\\cli-plugins\\docker-init.exe\n",
      "  mcp: Docker MCP Plugin (Docker Inc.)\n",
      "    Version:  v0.9.9\n",
      "    Path:     C:\\Program Files\\Docker\\cli-plugins\\docker-mcp.exe\n",
      "  model: Docker Model Runner (EXPERIMENTAL) (Docker Inc.)\n",
      "    Version:  v0.1.33\n",
      "    Path:     C:\\Program Files\\Docker\\cli-plugins\\docker-model.exe\n",
      "  sbom: View the packaged-based Software Bill Of Materials (SBOM) for an image (Anchore Inc.)\n",
      "    Version:  0.6.0\n",
      "    Path:     C:\\Program Files\\Docker\\cli-plugins\\docker-sbom.exe\n",
      "  scout: Docker Scout (Docker Inc.)\n",
      "    Version:  v1.18.1\n",
      "    Path:     C:\\Program Files\\Docker\\cli-plugins\\docker-scout.exe\n",
      "\n",
      "Server:\n",
      " Containers: 0\n",
      "  Running: 0\n",
      "  Paused: 0\n",
      "  Stopped: 0\n",
      " Images: 1\n",
      " Server Version: 28.3.2\n",
      " Storage Driver: overlayfs\n",
      "  driver-type: io.containerd.snapshotter.v1\n",
      " Logging Driver: json-file\n",
      " Cgroup Driver: cgroupfs\n",
      " Cgroup Version: 2\n",
      " Plugins:\n",
      "  Volume: local\n",
      "  Network: bridge host ipvlan macvlan null overlay\n",
      "  Log: awslogs fluentd gcplogs gelf journald json-file local splunk syslog\n",
      " CDI spec directories:\n",
      "  /etc/cdi\n",
      "  /var/run/cdi\n",
      " Discovered Devices:\n",
      "  cdi: docker.com/gpu=webgpu\n",
      " Swarm: inactive\n",
      " Runtimes: io.containerd.runc.v2 nvidia runc\n",
      " Default Runtime: runc\n",
      " Init Binary: docker-init\n",
      " containerd version: 05044ec0a9a75232cad458027ca83437aae3f4da\n",
      " runc version: v1.2.5-0-g59923ef\n",
      " init version: de40ad0\n",
      " Security Options:\n",
      "  seccomp\n",
      "   Profile: builtin\n",
      "  cgroupns\n",
      " Kernel Version: 6.6.87.2-microsoft-standard-WSL2\n",
      " Operating System: Docker Desktop\n",
      " OSType: linux\n",
      " Architecture: x86_64\n",
      " CPUs: 24\n",
      " Total Memory: 31.05GiB\n",
      " Name: docker-desktop\n",
      " ID: 63b6b636-8483-4eae-a89e-a007de3eb607\n",
      " Docker Root Dir: /var/lib/docker\n",
      " Debug Mode: false\n",
      " HTTP Proxy: http.docker.internal:3128\n",
      " HTTPS Proxy: http.docker.internal:3128\n",
      " No Proxy: hubproxy.docker.internal\n",
      " Labels:\n",
      "  com.docker.desktop.address=npipe://\\\\.\\pipe\\docker_cli\n",
      " Experimental: false\n",
      " Insecure Registries:\n",
      "  hubproxy.docker.internal:5555\n",
      "  ::1/128\n",
      "  127.0.0.0/8\n",
      " Live Restore Enabled: false\n",
      "\n"
     ]
    },
    {
     "name": "stderr",
     "output_type": "stream",
     "text": [
      "WARNING: DOCKER_INSECURE_NO_IPTABLES_RAW is set\n"
     ]
    }
   ],
   "source": [
    "!docker info"
   ]
  },
  {
   "cell_type": "code",
   "execution_count": 13,
   "id": "850bcce2",
   "metadata": {},
   "outputs": [
    {
     "name": "stdout",
     "output_type": "stream",
     "text": [
      "Usage:  docker [OPTIONS] COMMAND\n",
      "\n",
      "A self-sufficient runtime for containers\n",
      "\n",
      "Common Commands:\n",
      "  run         Create and run a new container from an image\n",
      "  exec        Execute a command in a running container\n",
      "  ps          List containers\n",
      "  build       Build an image from a Dockerfile\n",
      "  bake        Build from a file\n",
      "  pull        Download an image from a registry\n",
      "  push        Upload an image to a registry\n",
      "  images      List images\n",
      "  login       Authenticate to a registry\n",
      "  logout      Log out from a registry\n",
      "  search      Search Docker Hub for images\n",
      "  version     Show the Docker version information\n",
      "  info        Display system-wide information\n",
      "\n",
      "Management Commands:\n",
      "  ai*         Docker AI Agent - Ask Gordon\n",
      "  builder     Manage builds\n",
      "  buildx*     Docker Buildx\n",
      "  cloud*      Docker Cloud\n",
      "  compose*    Docker Compose\n",
      "  container   Manage containers\n",
      "  context     Manage contexts\n",
      "  debug*      Get a shell into any image or container\n",
      "  desktop*    Docker Desktop commands\n",
      "  extension*  Manages Docker extensions\n",
      "  image       Manage images\n",
      "  init*       Creates Docker-related starter files for your project\n",
      "  manifest    Manage Docker image manifests and manifest lists\n",
      "  mcp*        Docker MCP Plugin\n",
      "  model*      Docker Model Runner (EXPERIMENTAL)\n",
      "  network     Manage networks\n",
      "  plugin      Manage plugins\n",
      "  sbom*       View the packaged-based Software Bill Of Materials (SBOM) for an image\n",
      "  scout*      Docker Scout\n",
      "  system      Manage Docker\n",
      "  trust       Manage trust on Docker images\n",
      "  volume      Manage volumes\n",
      "\n",
      "Swarm Commands:\n",
      "  swarm       Manage Swarm\n",
      "\n",
      "Commands:\n",
      "  attach      Attach local standard input, output, and error streams to a running container\n",
      "  commit      Create a new image from a container's changes\n",
      "  cp          Copy files/folders between a container and the local filesystem\n",
      "  create      Create a new container\n",
      "  diff        Inspect changes to files or directories on a container's filesystem\n",
      "  events      Get real time events from the server\n",
      "  export      Export a container's filesystem as a tar archive\n",
      "  history     Show the history of an image\n",
      "  import      Import the contents from a tarball to create a filesystem image\n",
      "  inspect     Return low-level information on Docker objects\n",
      "  kill        Kill one or more running containers\n",
      "  load        Load an image from a tar archive or STDIN\n",
      "  logs        Fetch the logs of a container\n",
      "  pause       Pause all processes within one or more containers\n",
      "  port        List port mappings or a specific mapping for the container\n",
      "  rename      Rename a container\n",
      "  restart     Restart one or more containers\n",
      "  rm          Remove one or more containers\n",
      "  rmi         Remove one or more images\n",
      "  save        Save one or more images to a tar archive (streamed to STDOUT by default)\n",
      "  start       Start one or more stopped containers\n",
      "  stats       Display a live stream of container(s) resource usage statistics\n",
      "  stop        Stop one or more running containers\n",
      "  tag         Create a tag TARGET_IMAGE that refers to SOURCE_IMAGE\n",
      "  top         Display the running processes of a container\n",
      "  unpause     Unpause all processes within one or more containers\n",
      "  update      Update configuration of one or more containers\n",
      "  wait        Block until one or more containers stop, then print their exit codes\n",
      "\n",
      "Global Options:\n",
      "      --config string      Location of client config files (default\n",
      "                           \"C:\\\\Users\\\\celia\\\\.docker\")\n",
      "  -c, --context string     Name of the context to use to connect to the\n",
      "                           daemon (overrides DOCKER_HOST env var and\n",
      "                           default context set with \"docker context use\")\n",
      "  -D, --debug              Enable debug mode\n",
      "  -H, --host list          Daemon socket to connect to\n",
      "  -l, --log-level string   Set the logging level (\"debug\", \"info\",\n",
      "                           \"warn\", \"error\", \"fatal\") (default \"info\")\n",
      "      --tls                Use TLS; implied by --tlsverify\n",
      "      --tlscacert string   Trust certs signed only by this CA (default\n",
      "                           \"C:\\\\Users\\\\celia\\\\.docker\\\\ca.pem\")\n",
      "      --tlscert string     Path to TLS certificate file (default\n",
      "                           \"C:\\\\Users\\\\celia\\\\.docker\\\\cert.pem\")\n",
      "      --tlskey string      Path to TLS key file (default\n",
      "                           \"C:\\\\Users\\\\celia\\\\.docker\\\\key.pem\")\n",
      "      --tlsverify          Use TLS and verify the remote\n",
      "  -v, --version            Print version information and quit\n",
      "\n",
      "Run 'docker COMMAND --help' for more information on a command.\n",
      "\n",
      "For more help on how to use Docker, head to https://docs.docker.com/go/guides/\n"
     ]
    }
   ],
   "source": [
    "!docker help"
   ]
  },
  {
   "cell_type": "code",
   "execution_count": 14,
   "id": "28ae1bd5",
   "metadata": {},
   "outputs": [
    {
     "name": "stdout",
     "output_type": "stream",
     "text": [
      "^C\n"
     ]
    },
    {
     "name": "stdout",
     "output_type": "stream",
     "text": [
      "/docker-entrypoint.sh: /docker-entrypoint.d/ is not empty, will attempt to perform configuration\n",
      "/docker-entrypoint.sh: Looking for shell scripts in /docker-entrypoint.d/\n",
      "/docker-entrypoint.sh: Launching /docker-entrypoint.d/10-listen-on-ipv6-by-default.sh\n",
      "10-listen-on-ipv6-by-default.sh: info: Getting the checksum of /etc/nginx/conf.d/default.conf\n",
      "10-listen-on-ipv6-by-default.sh: info: Enabled listen on IPv6 in /etc/nginx/conf.d/default.conf\n",
      "/docker-entrypoint.sh: Sourcing /docker-entrypoint.d/15-local-resolvers.envsh\n",
      "/docker-entrypoint.sh: Launching /docker-entrypoint.d/20-envsubst-on-templates.sh\n",
      "/docker-entrypoint.sh: Launching /docker-entrypoint.d/30-tune-worker-processes.sh\n",
      "/docker-entrypoint.sh: Configuration complete; ready for start up\n"
     ]
    },
    {
     "name": "stderr",
     "output_type": "stream",
     "text": [
      "2025/08/10 16:05:32 [notice] 1#1: using the \"epoll\" event method\n",
      "2025/08/10 16:05:32 [notice] 1#1: nginx/1.29.0\n",
      "2025/08/10 16:05:32 [notice] 1#1: built by gcc 12.2.0 (Debian 12.2.0-14+deb12u1) \n",
      "2025/08/10 16:05:32 [notice] 1#1: OS: Linux 6.6.87.2-microsoft-standard-WSL2\n",
      "2025/08/10 16:05:32 [notice] 1#1: getrlimit(RLIMIT_NOFILE): 1048576:1048576\n",
      "2025/08/10 16:05:32 [notice] 1#1: start worker processes\n",
      "2025/08/10 16:05:32 [notice] 1#1: start worker process 29\n",
      "2025/08/10 16:05:32 [notice] 1#1: start worker process 30\n",
      "2025/08/10 16:05:32 [notice] 1#1: start worker process 31\n",
      "2025/08/10 16:05:32 [notice] 1#1: start worker process 32\n",
      "2025/08/10 16:05:32 [notice] 1#1: start worker process 33\n",
      "2025/08/10 16:05:32 [notice] 1#1: start worker process 34\n",
      "2025/08/10 16:05:32 [notice] 1#1: start worker process 35\n",
      "2025/08/10 16:05:32 [notice] 1#1: start worker process 36\n",
      "2025/08/10 16:05:32 [notice] 1#1: start worker process 37\n",
      "2025/08/10 16:05:32 [notice] 1#1: start worker process 38\n",
      "2025/08/10 16:05:32 [notice] 1#1: start worker process 39\n",
      "2025/08/10 16:05:32 [notice] 1#1: start worker process 40\n",
      "2025/08/10 16:05:32 [notice] 1#1: start worker process 41\n",
      "2025/08/10 16:05:32 [notice] 1#1: start worker process 42\n",
      "2025/08/10 16:05:32 [notice] 1#1: start worker process 43\n",
      "2025/08/10 16:05:32 [notice] 1#1: start worker process 44\n",
      "2025/08/10 16:05:32 [notice] 1#1: start worker process 45\n",
      "2025/08/10 16:05:32 [notice] 1#1: start worker process 46\n",
      "2025/08/10 16:05:32 [notice] 1#1: start worker process 47\n",
      "2025/08/10 16:05:32 [notice] 1#1: start worker process 48\n",
      "2025/08/10 16:05:32 [notice] 1#1: start worker process 49\n",
      "2025/08/10 16:05:32 [notice] 1#1: start worker process 50\n",
      "2025/08/10 16:05:32 [notice] 1#1: start worker process 51\n",
      "2025/08/10 16:05:32 [notice] 1#1: start worker process 52\n"
     ]
    }
   ],
   "source": [
    "!docker container run --publish 80:80 nginx"
   ]
  },
  {
   "cell_type": "code",
   "execution_count": 16,
   "id": "cb80ac1b",
   "metadata": {},
   "outputs": [
    {
     "name": "stdout",
     "output_type": "stream",
     "text": [
      "cfac775eee73cfbef5ca6f58841ce5430f4cf947c0b233a91e47dd1efe95c6ad\n"
     ]
    }
   ],
   "source": [
    "!docker container run --publish 80:80 --detach nginx"
   ]
  },
  {
   "cell_type": "code",
   "execution_count": 17,
   "id": "ccd47e1e",
   "metadata": {},
   "outputs": [
    {
     "name": "stdout",
     "output_type": "stream",
     "text": [
      "CONTAINER ID   IMAGE     COMMAND                  CREATED        STATUS        PORTS                                 NAMES\n",
      "cfac775eee73   nginx     \"/docker-entrypoint.…\"   1 second ago   Up 1 second   0.0.0.0:80->80/tcp, [::]:80->80/tcp   brave_jemison\n"
     ]
    }
   ],
   "source": [
    "!docker container ls"
   ]
  },
  {
   "cell_type": "code",
   "execution_count": 19,
   "id": "ad127cdd",
   "metadata": {},
   "outputs": [
    {
     "name": "stdout",
     "output_type": "stream",
     "text": [
      "cfac\n"
     ]
    }
   ],
   "source": [
    "!docker container stop cfac"
   ]
  },
  {
   "cell_type": "code",
   "execution_count": 20,
   "id": "bb8bbca0",
   "metadata": {},
   "outputs": [
    {
     "name": "stdout",
     "output_type": "stream",
     "text": [
      "CONTAINER ID   IMAGE     COMMAND   CREATED   STATUS    PORTS     NAMES\n"
     ]
    }
   ],
   "source": [
    "!docker container ls"
   ]
  },
  {
   "cell_type": "code",
   "execution_count": 21,
   "id": "b36d9227",
   "metadata": {},
   "outputs": [
    {
     "name": "stdout",
     "output_type": "stream",
     "text": [
      "CONTAINER ID   IMAGE     COMMAND                  CREATED          STATUS                     PORTS     NAMES\n",
      "cfac775eee73   nginx     \"/docker-entrypoint.…\"   13 seconds ago   Exited (0) 2 seconds ago             brave_jemison\n"
     ]
    }
   ],
   "source": [
    "!docker container ls -a"
   ]
  },
  {
   "cell_type": "code",
   "execution_count": 23,
   "id": "7a2a5208",
   "metadata": {},
   "outputs": [
    {
     "name": "stdout",
     "output_type": "stream",
     "text": [
      "cfac\n"
     ]
    }
   ],
   "source": [
    "!docker container start cfac"
   ]
  },
  {
   "cell_type": "code",
   "execution_count": 24,
   "id": "afb7ab9b",
   "metadata": {},
   "outputs": [
    {
     "name": "stdout",
     "output_type": "stream",
     "text": [
      "CONTAINER ID   IMAGE     COMMAND                  CREATED          STATUS        PORTS                                 NAMES\n",
      "cfac775eee73   nginx     \"/docker-entrypoint.…\"   21 seconds ago   Up 1 second   0.0.0.0:80->80/tcp, [::]:80->80/tcp   brave_jemison\n"
     ]
    }
   ],
   "source": [
    "!docker container ls"
   ]
  },
  {
   "cell_type": "code",
   "execution_count": 26,
   "id": "5e4429e6",
   "metadata": {},
   "outputs": [
    {
     "name": "stdout",
     "output_type": "stream",
     "text": [
      "cfac\n"
     ]
    }
   ],
   "source": [
    "!docker container start cfac"
   ]
  },
  {
   "cell_type": "code",
   "execution_count": 28,
   "id": "2b1aeb66",
   "metadata": {},
   "outputs": [
    {
     "name": "stdout",
     "output_type": "stream",
     "text": [
      "cfac\n"
     ]
    }
   ],
   "source": [
    "!docker container stop cfac"
   ]
  },
  {
   "cell_type": "code",
   "execution_count": 29,
   "id": "5d2cbc83",
   "metadata": {},
   "outputs": [
    {
     "name": "stdout",
     "output_type": "stream",
     "text": [
      "36a74d90f78a5af480579738c68768b09f1e1e6102079ed88e245a3f0c66ee09\n"
     ]
    }
   ],
   "source": [
    "!docker container run --publish 80:80 --detach --name webhost nginx"
   ]
  },
  {
   "cell_type": "code",
   "execution_count": 30,
   "id": "ab7e1e1a",
   "metadata": {},
   "outputs": [
    {
     "name": "stdout",
     "output_type": "stream",
     "text": [
      "CONTAINER ID   IMAGE     COMMAND                  CREATED          STATUS                     PORTS                                 NAMES\n",
      "36a74d90f78a   nginx     \"/docker-entrypoint.…\"   4 seconds ago    Up 3 seconds               0.0.0.0:80->80/tcp, [::]:80->80/tcp   webhost\n",
      "cfac775eee73   nginx     \"/docker-entrypoint.…\"   38 seconds ago   Exited (0) 5 seconds ago                                         brave_jemison\n"
     ]
    }
   ],
   "source": [
    "!docker container ls -a"
   ]
  },
  {
   "cell_type": "code",
   "execution_count": 24,
   "id": "bcc5ce58",
   "metadata": {},
   "outputs": [
    {
     "name": "stdout",
     "output_type": "stream",
     "text": [
      "/docker-entrypoint.sh: /docker-entrypoint.d/ is not empty, will attempt to perform configuration\n",
      "/docker-entrypoint.sh: Looking for shell scripts in /docker-entrypoint.d/\n",
      "/docker-entrypoint.sh: Launching /docker-entrypoint.d/10-listen-on-ipv6-by-default.sh\n",
      "10-listen-on-ipv6-by-default.sh: info: Getting the checksum of /etc/nginx/conf.d/default.conf\n",
      "10-listen-on-ipv6-by-default.sh: info: Enabled listen on IPv6 in /etc/nginx/conf.d/default.conf\n",
      "/docker-entrypoint.sh: Sourcing /docker-entrypoint.d/15-local-resolvers.envsh\n",
      "/docker-entrypoint.sh: Launching /docker-entrypoint.d/20-envsubst-on-templates.sh\n",
      "/docker-entrypoint.sh: Launching /docker-entrypoint.d/30-tune-worker-processes.sh\n",
      "/docker-entrypoint.sh: Configuration complete; ready for start up\n"
     ]
    },
    {
     "name": "stderr",
     "output_type": "stream",
     "text": [
      "2025/08/10 05:26:21 [notice] 1#1: using the \"epoll\" event method\n",
      "2025/08/10 05:26:21 [notice] 1#1: nginx/1.29.0\n",
      "2025/08/10 05:26:21 [notice] 1#1: built by gcc 12.2.0 (Debian 12.2.0-14+deb12u1) \n",
      "2025/08/10 05:26:21 [notice] 1#1: OS: Linux 6.6.87.2-microsoft-standard-WSL2\n",
      "2025/08/10 05:26:21 [notice] 1#1: getrlimit(RLIMIT_NOFILE): 1048576:1048576\n",
      "2025/08/10 05:26:21 [notice] 1#1: start worker processes\n",
      "2025/08/10 05:26:21 [notice] 1#1: start worker process 29\n",
      "2025/08/10 05:26:21 [notice] 1#1: start worker process 30\n",
      "2025/08/10 05:26:21 [notice] 1#1: start worker process 31\n",
      "2025/08/10 05:26:21 [notice] 1#1: start worker process 32\n",
      "2025/08/10 05:26:21 [notice] 1#1: start worker process 33\n",
      "2025/08/10 05:26:21 [notice] 1#1: start worker process 34\n",
      "2025/08/10 05:26:21 [notice] 1#1: start worker process 35\n",
      "2025/08/10 05:26:21 [notice] 1#1: start worker process 36\n",
      "2025/08/10 05:26:21 [notice] 1#1: start worker process 37\n",
      "2025/08/10 05:26:21 [notice] 1#1: start worker process 38\n",
      "2025/08/10 05:26:21 [notice] 1#1: start worker process 39\n",
      "2025/08/10 05:26:21 [notice] 1#1: start worker process 40\n",
      "2025/08/10 05:26:21 [notice] 1#1: start worker process 41\n",
      "2025/08/10 05:26:21 [notice] 1#1: start worker process 42\n",
      "2025/08/10 05:26:21 [notice] 1#1: start worker process 43\n",
      "2025/08/10 05:26:21 [notice] 1#1: start worker process 44\n",
      "2025/08/10 05:26:21 [notice] 1#1: start worker process 45\n",
      "2025/08/10 05:26:21 [notice] 1#1: start worker process 46\n",
      "2025/08/10 05:26:21 [notice] 1#1: start worker process 47\n",
      "2025/08/10 05:26:21 [notice] 1#1: start worker process 48\n",
      "2025/08/10 05:26:21 [notice] 1#1: start worker process 49\n",
      "2025/08/10 05:26:21 [notice] 1#1: start worker process 50\n",
      "2025/08/10 05:26:21 [notice] 1#1: start worker process 51\n",
      "2025/08/10 05:26:21 [notice] 1#1: start worker process 52\n"
     ]
    }
   ],
   "source": [
    "!docker container logs webhost"
   ]
  },
  {
   "cell_type": "code",
   "execution_count": 31,
   "id": "0c3b6a89",
   "metadata": {},
   "outputs": [
    {
     "name": "stdout",
     "output_type": "stream",
     "text": [
      "UID                 PID                 PPID                C                   STIME               TTY                 TIME                CMD\n",
      "root                906                 883                 0                   16:06               ?                   00:00:00            nginx: master process nginx -g daemon off;\n",
      "statd               948                 906                 0                   16:06               ?                   00:00:00            nginx: worker process\n",
      "statd               949                 906                 0                   16:06               ?                   00:00:00            nginx: worker process\n",
      "statd               950                 906                 0                   16:06               ?                   00:00:00            nginx: worker process\n",
      "statd               951                 906                 0                   16:06               ?                   00:00:00            nginx: worker process\n",
      "statd               952                 906                 0                   16:06               ?                   00:00:00            nginx: worker process\n",
      "statd               953                 906                 0                   16:06               ?                   00:00:00            nginx: worker process\n",
      "statd               954                 906                 0                   16:06               ?                   00:00:00            nginx: worker process\n",
      "statd               955                 906                 0                   16:06               ?                   00:00:00            nginx: worker process\n",
      "statd               956                 906                 0                   16:06               ?                   00:00:00            nginx: worker process\n",
      "statd               957                 906                 0                   16:06               ?                   00:00:00            nginx: worker process\n",
      "statd               958                 906                 0                   16:06               ?                   00:00:00            nginx: worker process\n",
      "statd               959                 906                 0                   16:06               ?                   00:00:00            nginx: worker process\n",
      "statd               960                 906                 0                   16:06               ?                   00:00:00            nginx: worker process\n",
      "statd               961                 906                 0                   16:06               ?                   00:00:00            nginx: worker process\n",
      "statd               962                 906                 0                   16:06               ?                   00:00:00            nginx: worker process\n",
      "statd               963                 906                 0                   16:06               ?                   00:00:00            nginx: worker process\n",
      "statd               964                 906                 0                   16:06               ?                   00:00:00            nginx: worker process\n",
      "statd               965                 906                 0                   16:06               ?                   00:00:00            nginx: worker process\n",
      "statd               966                 906                 0                   16:06               ?                   00:00:00            nginx: worker process\n",
      "statd               967                 906                 0                   16:06               ?                   00:00:00            nginx: worker process\n",
      "statd               968                 906                 0                   16:06               ?                   00:00:00            nginx: worker process\n",
      "statd               969                 906                 0                   16:06               ?                   00:00:00            nginx: worker process\n",
      "statd               970                 906                 0                   16:06               ?                   00:00:00            nginx: worker process\n",
      "statd               971                 906                 0                   16:06               ?                   00:00:00            nginx: worker process\n"
     ]
    }
   ],
   "source": [
    "!docker container top webhost"
   ]
  },
  {
   "cell_type": "code",
   "execution_count": 32,
   "id": "4f2752ae",
   "metadata": {},
   "outputs": [
    {
     "name": "stdout",
     "output_type": "stream",
     "text": [
      "CONTAINER ID   IMAGE     COMMAND                  CREATED          STATUS                      PORTS                                 NAMES\n",
      "36a74d90f78a   nginx     \"/docker-entrypoint.…\"   12 seconds ago   Up 11 seconds               0.0.0.0:80->80/tcp, [::]:80->80/tcp   webhost\n",
      "cfac775eee73   nginx     \"/docker-entrypoint.…\"   46 seconds ago   Exited (0) 13 seconds ago                                         brave_jemison\n"
     ]
    }
   ],
   "source": [
    "!docker container ls -a"
   ]
  },
  {
   "cell_type": "code",
   "execution_count": 33,
   "id": "411b422f",
   "metadata": {},
   "outputs": [
    {
     "name": "stdout",
     "output_type": "stream",
     "text": [
      "36a74d90f78a\n",
      "cfac775eee73\n"
     ]
    }
   ],
   "source": [
    "!docker container rm  -f 36a74d90f78a      cfac775eee73      "
   ]
  },
  {
   "cell_type": "code",
   "execution_count": 34,
   "id": "41663991",
   "metadata": {},
   "outputs": [
    {
     "name": "stdout",
     "output_type": "stream",
     "text": [
      "CONTAINER ID   IMAGE     COMMAND   CREATED   STATUS    PORTS     NAMES\n"
     ]
    }
   ],
   "source": [
    "!docker container ls -a"
   ]
  },
  {
   "cell_type": "code",
   "execution_count": null,
   "id": "4913c6f5",
   "metadata": {},
   "outputs": [],
   "source": []
  }
 ],
 "metadata": {
  "kernelspec": {
   "display_name": "Python 3",
   "language": "python",
   "name": "python3"
  },
  "language_info": {
   "codemirror_mode": {
    "name": "ipython",
    "version": 3
   },
   "file_extension": ".py",
   "mimetype": "text/x-python",
   "name": "python",
   "nbconvert_exporter": "python",
   "pygments_lexer": "ipython3",
   "version": "3.13.5"
  }
 },
 "nbformat": 4,
 "nbformat_minor": 5
}
