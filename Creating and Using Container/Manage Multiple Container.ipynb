{
 "cells": [
  {
   "cell_type": "markdown",
   "id": "ec59802f",
   "metadata": {},
   "source": [
    "# Assignment Manage Multiple Container"
   ]
  },
  {
   "cell_type": "code",
   "execution_count": 6,
   "id": "b1c50ae3",
   "metadata": {},
   "outputs": [
    {
     "name": "stdout",
     "output_type": "stream",
     "text": [
      "CONTAINER ID   IMAGE     COMMAND                  CREATED              STATUS                       PORTS     NAMES\n",
      "59577fd8691e   httpd     \"--publish 8080:80\"      About a minute ago   Created                                httpd-webserver\n",
      "9f7314a5cbcd   nginx     \"/docker-entrypoint.…\"   2 minutes ago        Exited (127) 2 minutes ago             nginx-webserver\n"
     ]
    }
   ],
   "source": [
    "!docker ps -a"
   ]
  },
  {
   "cell_type": "code",
   "execution_count": 7,
   "id": "54b3477f",
   "metadata": {},
   "outputs": [
    {
     "name": "stdout",
     "output_type": "stream",
     "text": [
      "59577fd8691e\n",
      "9f7314a5cbcd\n"
     ]
    }
   ],
   "source": [
    "!docker rm -f 59577fd8691e  9f7314a5cbcd"
   ]
  },
  {
   "cell_type": "code",
   "execution_count": 11,
   "id": "b49f3dfb",
   "metadata": {},
   "outputs": [
    {
     "name": "stdout",
     "output_type": "stream",
     "text": [
      "0b2c21487daec65137150066db04644b47396a36b9821f5b7e1569d05532fed7\n"
     ]
    }
   ],
   "source": [
    "!docker container run -d --name nginx-webserver -p 80:80 nginx"
   ]
  },
  {
   "cell_type": "code",
   "execution_count": 10,
   "id": "ccc2bc77",
   "metadata": {},
   "outputs": [
    {
     "name": "stdout",
     "output_type": "stream",
     "text": [
      "11bfef7d537d33f309744b2076bce817b916242eed61babb208dd9944bdf86a1\n"
     ]
    }
   ],
   "source": [
    "!docker container run -d --name httpd-webserver -p 8081:80 httpd"
   ]
  },
  {
   "cell_type": "code",
   "execution_count": 8,
   "id": "c14eb294",
   "metadata": {},
   "outputs": [
    {
     "name": "stdout",
     "output_type": "stream",
     "text": [
      "bf8e1dae98f5aec84e87da0ec5fe4a2e393dcb00bb247d6aa40b24087991db35\n"
     ]
    },
    {
     "name": "stderr",
     "output_type": "stream",
     "text": [
      "Unable to find image 'mysql:latest' locally\n",
      "latest: Pulling from library/mysql\n",
      "c81e70a25040: Pulling fs layer\n",
      "e55b6f427ac7: Pulling fs layer\n",
      "10aec8a104c7: Pulling fs layer\n",
      "cac9e6e2c9d6: Pulling fs layer\n",
      "b9916866e45f: Pulling fs layer\n",
      "f15cc21449ca: Pulling fs layer\n",
      "a22f87a7c498: Pulling fs layer\n",
      "31f7d8dc4024: Pulling fs layer\n",
      "5d2f76605aa7: Pulling fs layer\n",
      "fcb1221d0ce3: Pulling fs layer\n",
      "a22f87a7c498: Download complete\n",
      "c81e70a25040: Download complete\n",
      "fcb1221d0ce3: Download complete\n",
      "31f7d8dc4024: Download complete\n",
      "5d2f76605aa7: Download complete\n",
      "b9916866e45f: Download complete\n",
      "cac9e6e2c9d6: Download complete\n",
      "10aec8a104c7: Download complete\n",
      "f15cc21449ca: Download complete\n",
      "10aec8a104c7: Pull complete\n",
      "c81e70a25040: Pull complete\n",
      "b9916866e45f: Pull complete\n",
      "cac9e6e2c9d6: Pull complete\n",
      "31f7d8dc4024: Pull complete\n",
      "5d2f76605aa7: Pull complete\n",
      "f15cc21449ca: Pull complete\n",
      "a22f87a7c498: Pull complete\n",
      "e55b6f427ac7: Download complete\n",
      "fcb1221d0ce3: Pull complete\n",
      "e55b6f427ac7: Pull complete\n",
      "Digest: sha256:a776e89aad2d425c248ccfb840115aaa52883499ff36512db4d503b11aae455a\n",
      "Status: Downloaded newer image for mysql:latest\n"
     ]
    }
   ],
   "source": [
    "!docker container run -d -p 3306:3306 --name mysql-db -e MYSQL_RANDOM_ROOT_PASSWORD=yes mysql"
   ]
  },
  {
   "cell_type": "code",
   "execution_count": 9,
   "id": "c37fc138",
   "metadata": {},
   "outputs": [
    {
     "name": "stdout",
     "output_type": "stream",
     "text": [
      "2025-08-10 16:32:14+00:00 [Note] [Entrypoint]: Entrypoint script for MySQL Server 9.4.0-1.el9 started.\n",
      "2025-08-10 16:32:14+00:00 [Note] [Entrypoint]: Switching to dedicated user 'mysql'\n",
      "2025-08-10 16:32:14+00:00 [Note] [Entrypoint]: Entrypoint script for MySQL Server 9.4.0-1.el9 started.\n",
      "2025-08-10 16:32:14+00:00 [Note] [Entrypoint]: Initializing database files\n",
      "2025-08-10 16:32:19+00:00 [Note] [Entrypoint]: Database files initialized\n",
      "2025-08-10 16:32:19+00:00 [Note] [Entrypoint]: Starting temporary server\n",
      "2025-08-10 16:32:20+00:00 [Note] [Entrypoint]: Temporary server started.\n",
      "'/var/lib/mysql/mysql.sock' -> '/var/run/mysqld/mysqld.sock'\n",
      "2025-08-10 16:32:21+00:00 [Note] [Entrypoint]: GENERATED ROOT PASSWORD: B4tdZecpjxhnnYTsKezFsQjlTgxPt5yX\n",
      "\n",
      "2025-08-10 16:32:21+00:00 [Note] [Entrypoint]: Stopping temporary server\n",
      "2025-08-10 16:32:23+00:00 [Note] [Entrypoint]: Temporary server stopped\n",
      "\n",
      "2025-08-10 16:32:23+00:00 [Note] [Entrypoint]: MySQL init process done. Ready for start up.\n",
      "\n"
     ]
    },
    {
     "name": "stderr",
     "output_type": "stream",
     "text": [
      "2025-08-10T16:32:14.573475Z 0 [System] [MY-015017] [Server] MySQL Server Initialization - start.\n",
      "2025-08-10T16:32:14.574209Z 0 [System] [MY-013169] [Server] /usr/sbin/mysqld (mysqld 9.4.0) initializing of server in progress as process 80\n",
      "2025-08-10T16:32:14.585032Z 1 [System] [MY-013576] [InnoDB] InnoDB initialization has started.\n",
      "2025-08-10T16:32:15.302690Z 1 [System] [MY-013577] [InnoDB] InnoDB initialization has ended.\n",
      "2025-08-10T16:32:17.172544Z 6 [Warning] [MY-010453] [Server] root@localhost is created with an empty password ! Please consider switching off the --initialize-insecure option.\n",
      "2025-08-10T16:32:19.135166Z 0 [System] [MY-015018] [Server] MySQL Server Initialization - end.\n",
      "2025-08-10T16:32:19.179214Z 0 [System] [MY-015015] [Server] MySQL Server - start.\n",
      "2025-08-10T16:32:19.420763Z 0 [System] [MY-010116] [Server] /usr/sbin/mysqld (mysqld 9.4.0) starting as process 128\n",
      "2025-08-10T16:32:19.420783Z 0 [System] [MY-015590] [Server] MySQL Server has access to 24 logical CPUs.\n",
      "2025-08-10T16:32:19.420794Z 0 [System] [MY-015590] [Server] MySQL Server has access to 33344868352 bytes of physical memory.\n",
      "2025-08-10T16:32:19.439759Z 1 [System] [MY-013576] [InnoDB] InnoDB initialization has started.\n",
      "2025-08-10T16:32:20.093775Z 1 [System] [MY-013577] [InnoDB] InnoDB initialization has ended.\n",
      "2025-08-10T16:32:20.486415Z 0 [Warning] [MY-010068] [Server] CA certificate ca.pem is self signed.\n",
      "2025-08-10T16:32:20.486438Z 0 [System] [MY-013602] [Server] Channel mysql_main configured to support TLS. Encrypted connections are now supported for this channel.\n",
      "2025-08-10T16:32:20.493398Z 0 [Warning] [MY-011810] [Server] Insecure configuration for --pid-file: Location '/var/run/mysqld' in the path is accessible to all OS users. Consider choosing a different directory.\n",
      "2025-08-10T16:32:20.509593Z 0 [System] [MY-011323] [Server] X Plugin ready for connections. Socket: /var/run/mysqld/mysqlx.sock\n",
      "2025-08-10T16:32:20.509640Z 0 [System] [MY-010931] [Server] /usr/sbin/mysqld: ready for connections. Version: '9.4.0'  socket: '/var/run/mysqld/mysqld.sock'  port: 0  MySQL Community Server - GPL.\n",
      "Warning: Unable to load '/usr/share/zoneinfo/iso3166.tab' as time zone. Skipping it.\n",
      "Warning: Unable to load '/usr/share/zoneinfo/leap-seconds.list' as time zone. Skipping it.\n",
      "Warning: Unable to load '/usr/share/zoneinfo/leapseconds' as time zone. Skipping it.\n",
      "Warning: Unable to load '/usr/share/zoneinfo/tzdata.zi' as time zone. Skipping it.\n",
      "Warning: Unable to load '/usr/share/zoneinfo/zone.tab' as time zone. Skipping it.\n",
      "Warning: Unable to load '/usr/share/zoneinfo/zone1970.tab' as time zone. Skipping it.\n",
      "2025-08-10T16:32:21.692484Z 11 [System] [MY-013172] [Server] Received SHUTDOWN from user root. Shutting down mysqld (Version: 9.4.0).\n",
      "2025-08-10T16:32:22.899719Z 0 [System] [MY-010910] [Server] /usr/sbin/mysqld: Shutdown complete (mysqld 9.4.0)  MySQL Community Server - GPL.\n",
      "2025-08-10T16:32:22.899736Z 0 [System] [MY-015016] [Server] MySQL Server - end.\n",
      "2025-08-10T16:32:23.717228Z 0 [System] [MY-015015] [Server] MySQL Server - start.\n",
      "2025-08-10T16:32:23.989104Z 0 [System] [MY-010116] [Server] /usr/sbin/mysqld (mysqld 9.4.0) starting as process 1\n",
      "2025-08-10T16:32:23.989123Z 0 [System] [MY-015590] [Server] MySQL Server has access to 24 logical CPUs.\n",
      "2025-08-10T16:32:23.989136Z 0 [System] [MY-015590] [Server] MySQL Server has access to 33344868352 bytes of physical memory.\n",
      "2025-08-10T16:32:23.999798Z 1 [System] [MY-013576] [InnoDB] InnoDB initialization has started.\n",
      "2025-08-10T16:32:24.639927Z 1 [System] [MY-013577] [InnoDB] InnoDB initialization has ended.\n",
      "2025-08-10T16:32:24.968425Z 0 [Warning] [MY-010068] [Server] CA certificate ca.pem is self signed.\n",
      "2025-08-10T16:32:24.968454Z 0 [System] [MY-013602] [Server] Channel mysql_main configured to support TLS. Encrypted connections are now supported for this channel.\n",
      "2025-08-10T16:32:24.979518Z 0 [Warning] [MY-011810] [Server] Insecure configuration for --pid-file: Location '/var/run/mysqld' in the path is accessible to all OS users. Consider choosing a different directory.\n",
      "2025-08-10T16:32:25.015067Z 0 [System] [MY-010931] [Server] /usr/sbin/mysqld: ready for connections. Version: '9.4.0'  socket: '/var/run/mysqld/mysqld.sock'  port: 3306  MySQL Community Server - GPL.\n",
      "2025-08-10T16:32:25.015040Z 0 [System] [MY-011323] [Server] X Plugin ready for connections. Bind-address: '::' port: 33060, socket: /var/run/mysqld/mysqlx.sock\n"
     ]
    }
   ],
   "source": [
    "!docker container logs mysql-db"
   ]
  },
  {
   "cell_type": "code",
   "execution_count": 12,
   "id": "911f0637",
   "metadata": {},
   "outputs": [
    {
     "name": "stdout",
     "output_type": "stream",
     "text": [
      "CONTAINER ID   IMAGE     COMMAND                  CREATED              STATUS              PORTS                                         NAMES\n",
      "0b2c21487dae   nginx     \"/docker-entrypoint.…\"   48 seconds ago       Up 47 seconds       0.0.0.0:80->80/tcp, [::]:80->80/tcp           nginx-webserver\n",
      "11bfef7d537d   httpd     \"httpd-foreground\"       About a minute ago   Up About a minute   0.0.0.0:8081->80/tcp, [::]:8081->80/tcp       httpd-webserver\n",
      "bf8e1dae98f5   mysql     \"docker-entrypoint.s…\"   3 minutes ago        Up 3 minutes        0.0.0.0:3306->3306/tcp, [::]:3306->3306/tcp   mysql-db\n"
     ]
    }
   ],
   "source": [
    "!docker ps -a"
   ]
  },
  {
   "cell_type": "code",
   "execution_count": 13,
   "id": "4bba186a",
   "metadata": {},
   "outputs": [
    {
     "name": "stdout",
     "output_type": "stream",
     "text": [
      "<!DOCTYPE html>\n",
      "<html>\n",
      "<head>\n",
      "<title>Welcome to nginx!</title>\n",
      "<style>\n",
      "html { color-scheme: light dark; }\n",
      "body { width: 35em; margin: 0 auto;\n",
      "font-family: Tahoma, Verdana, Arial, sans-serif; }\n",
      "</style>\n",
      "</head>\n",
      "<body>\n",
      "<h1>Welcome to nginx!</h1>\n",
      "<p>If you see this page, the nginx web server is successfully installed and\n",
      "working. Further configuration is required.</p>\n",
      "\n",
      "<p>For online documentation and support please refer to\n",
      "<a href=\"http://nginx.org/\">nginx.org</a>.<br/>\n",
      "Commercial support is available at\n",
      "<a href=\"http://nginx.com/\">nginx.com</a>.</p>\n",
      "\n",
      "<p><em>Thank you for using nginx.</em></p>\n",
      "</body>\n",
      "</html>\n"
     ]
    },
    {
     "name": "stderr",
     "output_type": "stream",
     "text": [
      "  % Total    % Received % Xferd  Average Speed   Time    Time     Time  Current\n",
      "                                 Dload  Upload   Total   Spent    Left  Speed\n",
      "\n",
      "  0     0    0     0    0     0      0      0 --:--:-- --:--:-- --:--:--     0\n",
      "100   615  100   615    0     0   164k      0 --:--:-- --:--:-- --:--:--  300k\n"
     ]
    }
   ],
   "source": [
    "!curl localhost"
   ]
  },
  {
   "cell_type": "code",
   "execution_count": 15,
   "id": "d5562182",
   "metadata": {},
   "outputs": [
    {
     "name": "stderr",
     "output_type": "stream",
     "text": [
      "  % Total    % Received % Xferd  Average Speed   Time    Time     Time  Current\n",
      "                                 Dload  Upload   Total   Spent    Left  Speed\n",
      "\n",
      "  0     0    0     0    0     0      0      0 --:--:-- --:--:-- --:--:--     0\n",
      "  0     0    0     0    0     0      0      0 --:--:--  0:00:01 --:--:--     0\n",
      "  0     0    0     0    0     0      0      0 --:--:--  0:00:02 --:--:--     0\n",
      "  0     0    0     0    0     0      0      0 --:--:--  0:00:02 --:--:--     0\n",
      "curl: (7) Failed to connect to localhost port 8080 after 2234 ms: Could not connect to server\n"
     ]
    }
   ],
   "source": [
    "!curl localhost:8080"
   ]
  },
  {
   "cell_type": "code",
   "execution_count": 16,
   "id": "e0a2179e",
   "metadata": {},
   "outputs": [
    {
     "name": "stdout",
     "output_type": "stream",
     "text": [
      "CONTAINER ID   IMAGE     COMMAND                  CREATED              STATUS              PORTS                                         NAMES\n",
      "0b2c21487dae   nginx     \"/docker-entrypoint.…\"   About a minute ago   Up About a minute   0.0.0.0:80->80/tcp, [::]:80->80/tcp           nginx-webserver\n",
      "11bfef7d537d   httpd     \"httpd-foreground\"       2 minutes ago        Up 2 minutes        0.0.0.0:8081->80/tcp, [::]:8081->80/tcp       httpd-webserver\n",
      "bf8e1dae98f5   mysql     \"docker-entrypoint.s…\"   5 minutes ago        Up 5 minutes        0.0.0.0:3306->3306/tcp, [::]:3306->3306/tcp   mysql-db\n"
     ]
    }
   ],
   "source": [
    "!docker ps -a"
   ]
  },
  {
   "cell_type": "code",
   "execution_count": 17,
   "id": "67a0b3b1",
   "metadata": {},
   "outputs": [
    {
     "name": "stdout",
     "output_type": "stream",
     "text": [
      "0b2c21487dae\n",
      "11bfef7d537d\n",
      "bf8e1dae98f5\n"
     ]
    }
   ],
   "source": [
    "!docker rm -f 0b2c21487dae   11bfef7d537d   bf8e1dae98f5   "
   ]
  },
  {
   "cell_type": "code",
   "execution_count": 18,
   "id": "1056b029",
   "metadata": {},
   "outputs": [
    {
     "name": "stdout",
     "output_type": "stream",
     "text": [
      "CONTAINER ID   IMAGE     COMMAND   CREATED   STATUS    PORTS     NAMES\n"
     ]
    }
   ],
   "source": [
    "!docker ps"
   ]
  },
  {
   "cell_type": "code",
   "execution_count": null,
   "id": "018deb1b",
   "metadata": {},
   "outputs": [],
   "source": []
  }
 ],
 "metadata": {
  "kernelspec": {
   "display_name": "Python 3",
   "language": "python",
   "name": "python3"
  },
  "language_info": {
   "codemirror_mode": {
    "name": "ipython",
    "version": 3
   },
   "file_extension": ".py",
   "mimetype": "text/x-python",
   "name": "python",
   "nbconvert_exporter": "python",
   "pygments_lexer": "ipython3",
   "version": "3.13.5"
  }
 },
 "nbformat": 4,
 "nbformat_minor": 5
}
