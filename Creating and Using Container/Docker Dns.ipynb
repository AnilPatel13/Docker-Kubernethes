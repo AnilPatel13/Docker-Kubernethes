{
 "cells": [
  {
   "cell_type": "code",
   "execution_count": 1,
   "id": "64a0457e",
   "metadata": {},
   "outputs": [
    {
     "name": "stdout",
     "output_type": "stream",
     "text": [
      "CONTAINER ID   IMAGE     COMMAND                  CREATED             STATUS             PORTS                                 NAMES\n",
      "adc831b3718e   nginx     \"/docker-entrypoint.…\"   18 minutes ago      Up 18 minutes      80/tcp                                new_nginx\n",
      "1bf0ffecf0dd   nginx     \"/docker-entrypoint.…\"   37 minutes ago      Up 37 minutes      0.0.0.0:80->80/tcp, [::]:80->80/tcp   webhost\n",
      "9cf1c60dd774   mysql     \"docker-entrypoint.s…\"   About an hour ago   Up About an hour   3306/tcp, 33060/tcp                   mysql-db\n",
      "ef146c5eb1d2   nginx     \"/docker-entrypoint.…\"   About an hour ago   Up About an hour   80/tcp                                nginx\n"
     ]
    }
   ],
   "source": [
    "!docker container ls"
   ]
  },
  {
   "cell_type": "code",
   "execution_count": 2,
   "id": "c5395120",
   "metadata": {},
   "outputs": [
    {
     "name": "stdout",
     "output_type": "stream",
     "text": [
      "NETWORK ID     NAME         DRIVER    SCOPE\n",
      "ec11ec405b3f   bridge       bridge    local\n",
      "64b83c98a870   host         host      local\n",
      "69ad2b594473   my_app_net   bridge    local\n",
      "92ee42025ca3   none         null      local\n"
     ]
    }
   ],
   "source": [
    "!docker network ls"
   ]
  },
  {
   "cell_type": "code",
   "execution_count": 3,
   "id": "1900bea4",
   "metadata": {},
   "outputs": [
    {
     "name": "stdout",
     "output_type": "stream",
     "text": [
      "[\n",
      "    {\n",
      "        \"Name\": \"my_app_net\",\n",
      "        \"Id\": \"69ad2b5944733d1f785758069f4633b2ff4e4bf6f0eb4c59e8a637ed27c212a3\",\n",
      "        \"Created\": \"2025-08-10T17:31:09.664228849Z\",\n",
      "        \"Scope\": \"local\",\n",
      "        \"Driver\": \"bridge\",\n",
      "        \"EnableIPv4\": true,\n",
      "        \"EnableIPv6\": false,\n",
      "        \"IPAM\": {\n",
      "            \"Driver\": \"default\",\n",
      "            \"Options\": {},\n",
      "            \"Config\": [\n",
      "                {\n",
      "                    \"Subnet\": \"172.18.0.0/16\",\n",
      "                    \"Gateway\": \"172.18.0.1\"\n",
      "                }\n",
      "            ]\n",
      "        },\n",
      "        \"Internal\": false,\n",
      "        \"Attachable\": false,\n",
      "        \"Ingress\": false,\n",
      "        \"ConfigFrom\": {\n",
      "            \"Network\": \"\"\n",
      "        },\n",
      "        \"ConfigOnly\": false,\n",
      "        \"Containers\": {\n",
      "            \"adc831b3718e6acc79cac01672f32b63cbd10a58a59ef6980d6ae8b34043fad8\": {\n",
      "                \"Name\": \"new_nginx\",\n",
      "                \"EndpointID\": \"312ebcb5051c1c9da943e9834a66e3ab596764736004ed67d8f3876eceb06326\",\n",
      "                \"MacAddress\": \"4a:5f:33:fd:5d:01\",\n",
      "                \"IPv4Address\": \"172.18.0.2/16\",\n",
      "                \"IPv6Address\": \"\"\n",
      "            }\n",
      "        },\n",
      "        \"Options\": {\n",
      "            \"com.docker.network.enable_ipv4\": \"true\",\n",
      "            \"com.docker.network.enable_ipv6\": \"false\"\n",
      "        },\n",
      "        \"Labels\": {}\n",
      "    }\n",
      "]\n"
     ]
    }
   ],
   "source": [
    "!docker network inspect 69ad2b594473"
   ]
  },
  {
   "cell_type": "code",
   "execution_count": 4,
   "id": "d9a664aa",
   "metadata": {},
   "outputs": [
    {
     "name": "stdout",
     "output_type": "stream",
     "text": [
      "471856a221c8de2bbf83f75c031c84931de438695465e6b3fec69851c40841d1\n"
     ]
    }
   ],
   "source": [
    "!docker container run -d --name my_nginx --network my_app_net nginx"
   ]
  },
  {
   "cell_type": "code",
   "execution_count": 5,
   "id": "e282eb67",
   "metadata": {},
   "outputs": [
    {
     "name": "stdout",
     "output_type": "stream",
     "text": [
      "[\n",
      "    {\n",
      "        \"Name\": \"my_app_net\",\n",
      "        \"Id\": \"69ad2b5944733d1f785758069f4633b2ff4e4bf6f0eb4c59e8a637ed27c212a3\",\n",
      "        \"Created\": \"2025-08-10T17:31:09.664228849Z\",\n",
      "        \"Scope\": \"local\",\n",
      "        \"Driver\": \"bridge\",\n",
      "        \"EnableIPv4\": true,\n",
      "        \"EnableIPv6\": false,\n",
      "        \"IPAM\": {\n",
      "            \"Driver\": \"default\",\n",
      "            \"Options\": {},\n",
      "            \"Config\": [\n",
      "                {\n",
      "                    \"Subnet\": \"172.18.0.0/16\",\n",
      "                    \"Gateway\": \"172.18.0.1\"\n",
      "                }\n",
      "            ]\n",
      "        },\n",
      "        \"Internal\": false,\n",
      "        \"Attachable\": false,\n",
      "        \"Ingress\": false,\n",
      "        \"ConfigFrom\": {\n",
      "            \"Network\": \"\"\n",
      "        },\n",
      "        \"ConfigOnly\": false,\n",
      "        \"Containers\": {\n",
      "            \"471856a221c8de2bbf83f75c031c84931de438695465e6b3fec69851c40841d1\": {\n",
      "                \"Name\": \"my_nginx\",\n",
      "                \"EndpointID\": \"f8f0ded419e1c9b3832bf1cdca16202ab4214c38957a03297fd3db8590cad52d\",\n",
      "                \"MacAddress\": \"4a:a2:94:f3:37:6f\",\n",
      "                \"IPv4Address\": \"172.18.0.3/16\",\n",
      "                \"IPv6Address\": \"\"\n",
      "            },\n",
      "            \"adc831b3718e6acc79cac01672f32b63cbd10a58a59ef6980d6ae8b34043fad8\": {\n",
      "                \"Name\": \"new_nginx\",\n",
      "                \"EndpointID\": \"312ebcb5051c1c9da943e9834a66e3ab596764736004ed67d8f3876eceb06326\",\n",
      "                \"MacAddress\": \"4a:5f:33:fd:5d:01\",\n",
      "                \"IPv4Address\": \"172.18.0.2/16\",\n",
      "                \"IPv6Address\": \"\"\n",
      "            }\n",
      "        },\n",
      "        \"Options\": {\n",
      "            \"com.docker.network.enable_ipv4\": \"true\",\n",
      "            \"com.docker.network.enable_ipv6\": \"false\"\n",
      "        },\n",
      "        \"Labels\": {}\n",
      "    }\n",
      "]\n"
     ]
    }
   ],
   "source": [
    "!docker network inspect 69ad2b594473"
   ]
  },
  {
   "cell_type": "code",
   "execution_count": 6,
   "id": "a9b27ee4",
   "metadata": {},
   "outputs": [
    {
     "name": "stderr",
     "output_type": "stream",
     "text": [
      "the input device is not a TTY.  If you are using mintty, try prefixing the command with 'winpty'\n"
     ]
    }
   ],
   "source": [
    "!docker container exec -it my_nginx ping new_nginx"
   ]
  },
  {
   "cell_type": "code",
   "execution_count": null,
   "id": "423f7c1a",
   "metadata": {},
   "outputs": [],
   "source": []
  }
 ],
 "metadata": {
  "kernelspec": {
   "display_name": "Python 3",
   "language": "python",
   "name": "python3"
  },
  "language_info": {
   "codemirror_mode": {
    "name": "ipython",
    "version": 3
   },
   "file_extension": ".py",
   "mimetype": "text/x-python",
   "name": "python",
   "nbconvert_exporter": "python",
   "pygments_lexer": "ipython3",
   "version": "3.13.5"
  }
 },
 "nbformat": 4,
 "nbformat_minor": 5
}
