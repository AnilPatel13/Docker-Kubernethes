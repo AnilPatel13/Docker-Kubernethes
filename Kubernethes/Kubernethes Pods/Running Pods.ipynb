{
 "cells": [
  {
   "cell_type": "code",
   "execution_count": null,
   "id": "2d290b73",
   "metadata": {},
   "outputs": [],
   "source": []
  },
  {
   "cell_type": "code",
   "execution_count": null,
   "id": "5924e509",
   "metadata": {},
   "outputs": [],
   "source": []
  },
  {
   "cell_type": "code",
   "execution_count": null,
   "id": "3ca38a40",
   "metadata": {},
   "outputs": [],
   "source": []
  },
  {
   "cell_type": "code",
   "execution_count": 1,
   "id": "99a9047f",
   "metadata": {},
   "outputs": [
    {
     "name": "stdout",
     "output_type": "stream",
     "text": [
      "Client Version: v1.32.2\n",
      "Kustomize Version: v5.5.0\n",
      "Server Version: v1.32.2\n"
     ]
    }
   ],
   "source": [
    "!kubectl version"
   ]
  },
  {
   "cell_type": "code",
   "execution_count": 4,
   "id": "381d8dc7",
   "metadata": {},
   "outputs": [
    {
     "name": "stdout",
     "output_type": "stream",
     "text": [
      "pod/my-nginx created\n"
     ]
    }
   ],
   "source": [
    "!kubectl run my-nginx --image nginx"
   ]
  },
  {
   "cell_type": "code",
   "execution_count": 6,
   "id": "9e0c9840",
   "metadata": {},
   "outputs": [
    {
     "name": "stdout",
     "output_type": "stream",
     "text": [
      "NAME       READY   STATUS    RESTARTS   AGE\n",
      "my-nginx   1/1     Running   0          65s\n"
     ]
    }
   ],
   "source": [
    "!kubectl get pods"
   ]
  },
  {
   "cell_type": "code",
   "execution_count": 7,
   "id": "7cd729df",
   "metadata": {},
   "outputs": [
    {
     "name": "stdout",
     "output_type": "stream",
     "text": [
      "NAME           READY   STATUS    RESTARTS   AGE\n",
      "pod/my-nginx   1/1     Running   0          75s\n",
      "\n",
      "NAME                 TYPE        CLUSTER-IP   EXTERNAL-IP   PORT(S)   AGE\n",
      "service/kubernetes   ClusterIP   10.96.0.1    <none>        443/TCP   16m\n"
     ]
    }
   ],
   "source": [
    "!kubectl get all"
   ]
  },
  {
   "cell_type": "code",
   "execution_count": 8,
   "id": "fb005ea8",
   "metadata": {},
   "outputs": [
    {
     "name": "stdout",
     "output_type": "stream",
     "text": [
      "deployment.apps/my-nginx created\n"
     ]
    }
   ],
   "source": [
    "!kubectl create deployment my-nginx --image nginx"
   ]
  },
  {
   "cell_type": "code",
   "execution_count": 9,
   "id": "876e11b5",
   "metadata": {},
   "outputs": [
    {
     "name": "stdout",
     "output_type": "stream",
     "text": [
      "NAME                        READY   STATUS    RESTARTS   AGE\n",
      "my-nginx                    1/1     Running   0          11m\n",
      "my-nginx-5b584c864b-hmln8   1/1     Running   0          9s\n"
     ]
    }
   ],
   "source": [
    "!kubectl get pods"
   ]
  },
  {
   "cell_type": "code",
   "execution_count": 10,
   "id": "f1645836",
   "metadata": {},
   "outputs": [
    {
     "name": "stdout",
     "output_type": "stream",
     "text": [
      "NAME                            READY   STATUS    RESTARTS   AGE\n",
      "pod/my-nginx                    1/1     Running   0          11m\n",
      "pod/my-nginx-5b584c864b-hmln8   1/1     Running   0          24s\n",
      "\n",
      "NAME                 TYPE        CLUSTER-IP   EXTERNAL-IP   PORT(S)   AGE\n",
      "service/kubernetes   ClusterIP   10.96.0.1    <none>        443/TCP   26m\n",
      "\n",
      "NAME                       READY   UP-TO-DATE   AVAILABLE   AGE\n",
      "deployment.apps/my-nginx   1/1     1            1           25s\n",
      "\n",
      "NAME                                  DESIRED   CURRENT   READY   AGE\n",
      "replicaset.apps/my-nginx-5b584c864b   1         1         1       25s\n"
     ]
    }
   ],
   "source": [
    "!kubectl get all"
   ]
  },
  {
   "cell_type": "code",
   "execution_count": 12,
   "id": "3d413a7c",
   "metadata": {},
   "outputs": [
    {
     "name": "stdout",
     "output_type": "stream",
     "text": [
      "pod \"my-nginx\" deleted\n"
     ]
    }
   ],
   "source": [
    "!kubectl delete pod my-nginx"
   ]
  },
  {
   "cell_type": "code",
   "execution_count": 13,
   "id": "d37fe502",
   "metadata": {},
   "outputs": [
    {
     "name": "stdout",
     "output_type": "stream",
     "text": [
      "deployment.apps \"my-nginx\" deleted\n"
     ]
    }
   ],
   "source": [
    "!kubectl delete deployment my-nginx"
   ]
  },
  {
   "cell_type": "code",
   "execution_count": null,
   "id": "da0d59cc",
   "metadata": {},
   "outputs": [],
   "source": []
  }
 ],
 "metadata": {
  "kernelspec": {
   "display_name": ".venv",
   "language": "python",
   "name": "python3"
  },
  "language_info": {
   "codemirror_mode": {
    "name": "ipython",
    "version": 3
   },
   "file_extension": ".py",
   "mimetype": "text/x-python",
   "name": "python",
   "nbconvert_exporter": "python",
   "pygments_lexer": "ipython3",
   "version": "3.13.5"
  }
 },
 "nbformat": 4,
 "nbformat_minor": 5
}
