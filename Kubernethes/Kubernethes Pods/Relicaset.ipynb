{
 "cells": [
  {
   "cell_type": "code",
   "execution_count": 2,
   "id": "3e557f95",
   "metadata": {},
   "outputs": [
    {
     "name": "stdout",
     "output_type": "stream",
     "text": [
      "deployment.apps/my-apache created\n"
     ]
    }
   ],
   "source": [
    "!kubectl create deployment my-apache --image httpd"
   ]
  },
  {
   "cell_type": "code",
   "execution_count": 3,
   "id": "c6adf8b2",
   "metadata": {},
   "outputs": [
    {
     "name": "stdout",
     "output_type": "stream",
     "text": [
      "NAME                         READY   STATUS    RESTARTS   AGE\n",
      "my-apache-856f76d9f8-fhdqq   1/1     Running   0          9s\n"
     ]
    }
   ],
   "source": [
    "!kubectl get pod"
   ]
  },
  {
   "cell_type": "code",
   "execution_count": 4,
   "id": "4c00a8af",
   "metadata": {},
   "outputs": [
    {
     "name": "stdout",
     "output_type": "stream",
     "text": [
      "NAME                             READY   STATUS    RESTARTS   AGE\n",
      "pod/my-apache-856f76d9f8-fhdqq   1/1     Running   0          19s\n",
      "\n",
      "NAME                 TYPE        CLUSTER-IP   EXTERNAL-IP   PORT(S)   AGE\n",
      "service/kubernetes   ClusterIP   10.96.0.1    <none>        443/TCP   37m\n",
      "\n",
      "NAME                        READY   UP-TO-DATE   AVAILABLE   AGE\n",
      "deployment.apps/my-apache   1/1     1            1           19s\n",
      "\n",
      "NAME                                   DESIRED   CURRENT   READY   AGE\n",
      "replicaset.apps/my-apache-856f76d9f8   1         1         1       19s\n"
     ]
    }
   ],
   "source": [
    "!kubectl get all"
   ]
  },
  {
   "cell_type": "code",
   "execution_count": 8,
   "id": "ff2ff8f3",
   "metadata": {},
   "outputs": [
    {
     "name": "stdout",
     "output_type": "stream",
     "text": [
      "deployment.apps/my-apache scaled\n"
     ]
    }
   ],
   "source": [
    "!kubectl scale deploy/my-apache --replicas 2"
   ]
  },
  {
   "cell_type": "code",
   "execution_count": 10,
   "id": "e1d77da6",
   "metadata": {},
   "outputs": [
    {
     "name": "stdout",
     "output_type": "stream",
     "text": [
      "NAME                             READY   STATUS    RESTARTS   AGE\n",
      "pod/my-apache-856f76d9f8-5c69h   1/1     Running   0          59s\n",
      "pod/my-apache-856f76d9f8-fhdqq   1/1     Running   0          2m53s\n",
      "\n",
      "NAME                 TYPE        CLUSTER-IP   EXTERNAL-IP   PORT(S)   AGE\n",
      "service/kubernetes   ClusterIP   10.96.0.1    <none>        443/TCP   39m\n",
      "\n",
      "NAME                        READY   UP-TO-DATE   AVAILABLE   AGE\n",
      "deployment.apps/my-apache   2/2     2            2           2m53s\n",
      "\n",
      "NAME                                   DESIRED   CURRENT   READY   AGE\n",
      "replicaset.apps/my-apache-856f76d9f8   2         2         2       2m53s\n"
     ]
    }
   ],
   "source": [
    "!kubectl get all"
   ]
  },
  {
   "cell_type": "code",
   "execution_count": null,
   "id": "18a72c33",
   "metadata": {},
   "outputs": [],
   "source": [
    "!"
   ]
  }
 ],
 "metadata": {
  "kernelspec": {
   "display_name": ".venv",
   "language": "python",
   "name": "python3"
  },
  "language_info": {
   "codemirror_mode": {
    "name": "ipython",
    "version": 3
   },
   "file_extension": ".py",
   "mimetype": "text/x-python",
   "name": "python",
   "nbconvert_exporter": "python",
   "pygments_lexer": "ipython3",
   "version": "3.13.5"
  }
 },
 "nbformat": 4,
 "nbformat_minor": 5
}
