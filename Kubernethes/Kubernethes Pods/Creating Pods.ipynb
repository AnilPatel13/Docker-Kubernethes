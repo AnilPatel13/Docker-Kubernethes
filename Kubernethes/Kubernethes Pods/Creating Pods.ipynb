{
 "cells": [
  {
   "cell_type": "code",
   "execution_count": 1,
   "id": "6d6b14b1",
   "metadata": {},
   "outputs": [
    {
     "name": "stdout",
     "output_type": "stream",
     "text": [
      "Client Version: v1.32.2\n",
      "Kustomize Version: v5.5.0\n",
      "Server Version: v1.32.2\n"
     ]
    }
   ],
   "source": [
    "!kubectl version"
   ]
  },
  {
   "cell_type": "code",
   "execution_count": 2,
   "id": "78605b73",
   "metadata": {},
   "outputs": [
    {
     "name": "stdout",
     "output_type": "stream",
     "text": [
      "docker-desktop\n"
     ]
    }
   ],
   "source": [
    "!kubectl config current-context"
   ]
  },
  {
   "cell_type": "code",
   "execution_count": 3,
   "id": "9dd299d9",
   "metadata": {},
   "outputs": [
    {
     "name": "stdout",
     "output_type": "stream",
     "text": [
      "Create and run a particular image in a pod.\n",
      "\n",
      "Examples:\n",
      "  # Start a nginx pod\n",
      "  kubectl run nginx --image=nginx\n",
      "  \n",
      "  # Start a hazelcast pod and let the container expose port 5701\n",
      "  kubectl run hazelcast --image=hazelcast/hazelcast --port=5701\n",
      "  \n",
      "  # Start a hazelcast pod and set environment variables \"DNS_DOMAIN=cluster\" and \"POD_NAMESPACE=default\" in the container\n",
      "  kubectl run hazelcast --image=hazelcast/hazelcast --env=\"DNS_DOMAIN=cluster\" --env=\"POD_NAMESPACE=default\"\n",
      "  \n",
      "  # Start a hazelcast pod and set labels \"app=hazelcast\" and \"env=prod\" in the container\n",
      "  kubectl run hazelcast --image=hazelcast/hazelcast --labels=\"app=hazelcast,env=prod\"\n",
      "  \n",
      "  # Dry run; print the corresponding API objects without creating them\n",
      "  kubectl run nginx --image=nginx --dry-run=client\n",
      "  \n",
      "  # Start a nginx pod, but overload the spec with a partial set of values parsed from JSON\n",
      "  kubectl run nginx --image=nginx --overrides='{ \"apiVersion\": \"v1\", \"spec\": { ... } }'\n",
      "  \n",
      "  # Start a busybox pod and keep it in the foreground, don't restart it if it exits\n",
      "  kubectl run -i -t busybox --image=busybox --restart=Never\n",
      "  \n",
      "  # Start the nginx pod using the default command, but use custom arguments (arg1 .. argN) for that command\n",
      "  kubectl run nginx --image=nginx -- <arg1> <arg2> ... <argN>\n",
      "  \n",
      "  # Start the nginx pod using a different command and custom arguments\n",
      "  kubectl run nginx --image=nginx --command -- <cmd> <arg1> ... <argN>\n",
      "\n",
      "Options:\n",
      "    --allow-missing-template-keys=true:\n",
      "\tIf true, ignore any errors in templates when a field or map key is missing in the template. Only applies to golang and jsonpath output formats.\n",
      "\n",
      "    --annotations=[]:\n",
      "\tAnnotations to apply to the pod.\n",
      "\n",
      "    --attach=false:\n",
      "\tIf true, wait for the Pod to start running, and then attach to the Pod as if 'kubectl attach ...' were called.  Default false, unless '-i/--stdin' is set, in which case the default is true. With '--restart=Never' the exit code of the container process is returned.\n",
      "\n",
      "    --cascade='background':\n",
      "\tMust be \"background\", \"orphan\", or \"foreground\". Selects the deletion cascading strategy for the dependents (e.g. Pods created by a ReplicationController). Defaults to background.\n",
      "\n",
      "    --command=false:\n",
      "\tIf true and extra arguments are present, use them as the 'command' field in the container, rather than the 'args' field which is the default.\n",
      "\n",
      "    --dry-run='none':\n",
      "\tMust be \"none\", \"server\", or \"client\". If client strategy, only print the object that would be sent, without sending it. If server strategy, submit server-side request without persisting the resource.\n",
      "\n",
      "    --env=[]:\n",
      "\tEnvironment variables to set in the container.\n",
      "\n",
      "    --expose=false:\n",
      "\tIf true, create a ClusterIP service associated with the pod.  Requires `--port`.\n",
      "\n",
      "    --field-manager='kubectl-run':\n",
      "\tName of the manager used to track field ownership.\n",
      "\n",
      "    -f, --filename=[]:\n",
      "\tto use to replace the resource.\n",
      "\n",
      "    --force=false:\n",
      "\tIf true, immediately remove resources from API and bypass graceful deletion. Note that immediate deletion of some resources may result in inconsistency or data loss and requires confirmation.\n",
      "\n",
      "    --grace-period=-1:\n",
      "\tPeriod of time in seconds given to the resource to terminate gracefully. Ignored if negative. Set to 1 for immediate shutdown. Can only be set to 0 when --force is true (force deletion).\n",
      "\n",
      "    --image='':\n",
      "\tThe image for the container to run.\n",
      "\n",
      "    --image-pull-policy='':\n",
      "\tThe image pull policy for the container.  If left empty, this value will not be specified by the client and defaulted by the server.\n",
      "\n",
      "    -k, --kustomize='':\n",
      "\tProcess a kustomization directory. This flag can't be used together with -f or -R.\n",
      "\n",
      "    -l, --labels='':\n",
      "\tComma separated labels to apply to the pod. Will override previous values.\n",
      "\n",
      "    --leave-stdin-open=false:\n",
      "\tIf the pod is started in interactive mode or with stdin, leave stdin open after the first attach completes. By default, stdin will be closed after the first attach completes.\n",
      "\n",
      "    -o, --output='':\n",
      "\tOutput format. One of: (json, yaml, name, go-template, go-template-file, template, templatefile, jsonpath, jsonpath-as-json, jsonpath-file).\n",
      "\n",
      "    --override-type='merge':\n",
      "\tThe method used to override the generated object: json, merge, or strategic.\n",
      "\n",
      "    --overrides='':\n",
      "\tAn inline JSON override for the generated object. If this is non-empty, it is used to override the generated object. Requires that the object supply a valid apiVersion field.\n",
      "\n",
      "    --pod-running-timeout=1m0s:\n",
      "\tThe length of time (like 5s, 2m, or 3h, higher than zero) to wait until at least one pod is running\n",
      "\n",
      "    --port='':\n",
      "\tThe port that this container exposes.\n",
      "\n",
      "    --privileged=false:\n",
      "\tIf true, run the container in privileged mode.\n",
      "\n",
      "    -q, --quiet=false:\n",
      "\tIf true, suppress prompt messages.\n",
      "\n",
      "    -R, --recursive=false:\n",
      "\tProcess the directory used in -f, --filename recursively. Useful when you want to manage related manifests organized within the same directory.\n",
      "\n",
      "    --restart='Always':\n",
      "\tThe restart policy for this Pod.  Legal values [Always, OnFailure, Never].\n",
      "\n",
      "    --rm=false:\n",
      "\tIf true, delete the pod after it exits.  Only valid when attaching to the container, e.g. with '--attach' or with '-i/--stdin'.\n",
      "\n",
      "    --save-config=false:\n",
      "\tIf true, the configuration of current object will be saved in its annotation. Otherwise, the annotation will be unchanged. This flag is useful when you want to perform kubectl apply on this object in the future.\n",
      "\n",
      "    --show-managed-fields=false:\n",
      "\tIf true, keep the managedFields when printing objects in JSON or YAML format.\n",
      "\n",
      "    -i, --stdin=false:\n",
      "\tKeep stdin open on the container in the pod, even if nothing is attached.\n",
      "\n",
      "    --template='':\n",
      "\tTemplate string or path to template file to use when -o=go-template, -o=go-template-file. The template format is golang templates [http://golang.org/pkg/text/template/#pkg-overview].\n",
      "\n",
      "    --timeout=0s:\n",
      "\tThe length of time to wait before giving up on a delete, zero means determine a timeout from the size of the object\n",
      "\n",
      "    -t, --tty=false:\n",
      "\tAllocate a TTY for the container in the pod.\n",
      "\n",
      "    --wait=false:\n",
      "\tIf true, wait for resources to be gone before returning. This waits for finalizers.\n",
      "\n",
      "Usage:\n",
      "  kubectl run NAME --image=image [--env=\"key=value\"] [--port=port] [--dry-run=server|client] [--overrides=inline-json] [--command] -- [COMMAND] [args...] [options]\n",
      "\n",
      "Use \"kubectl options\" for a list of global command-line options (applies to all commands).\n"
     ]
    }
   ],
   "source": [
    "!kubectl run --help"
   ]
  },
  {
   "cell_type": "code",
   "execution_count": 5,
   "id": "52e491ea",
   "metadata": {},
   "outputs": [
    {
     "name": "stdout",
     "output_type": "stream",
     "text": [
      "pod/nginx created\n"
     ]
    }
   ],
   "source": [
    "!kubectl run nginx --image=nginx:1.27.0"
   ]
  },
  {
   "cell_type": "code",
   "execution_count": 6,
   "id": "e0951f4e",
   "metadata": {},
   "outputs": [
    {
     "name": "stdout",
     "output_type": "stream",
     "text": [
      "NAME    READY   STATUS    RESTARTS   AGE\n",
      "nginx   1/1     Running   0          9s\n"
     ]
    }
   ],
   "source": [
    "!kubectl get pods"
   ]
  },
  {
   "cell_type": "code",
   "execution_count": 7,
   "id": "4a29f6d3",
   "metadata": {},
   "outputs": [
    {
     "name": "stdout",
     "output_type": "stream",
     "text": [
      "Name:             nginx\n",
      "Namespace:        default\n",
      "Priority:         0\n",
      "Service Account:  default\n",
      "Node:             docker-desktop/192.168.65.3\n",
      "Start Time:       Sat, 23 Aug 2025 22:21:05 -0400\n",
      "Labels:           run=nginx\n",
      "Annotations:      <none>\n",
      "Status:           Running\n",
      "IP:               10.1.0.79\n",
      "IPs:\n",
      "  IP:  10.1.0.79\n",
      "Containers:\n",
      "  nginx:\n",
      "    Container ID:   docker://25300cbb404619d502fbf4f259bd802f9acdc56ce1d779d4ada8f95f4d49304b\n",
      "    Image:          nginx:1.27.0\n",
      "    Image ID:       docker-pullable://nginx@sha256:98f8ec75657d21b924fe4f69b6b9bff2f6550ea48838af479d8894a852000e40\n",
      "    Port:           <none>\n",
      "    Host Port:      <none>\n",
      "    State:          Running\n",
      "      Started:      Sat, 23 Aug 2025 22:21:11 -0400\n",
      "    Ready:          True\n",
      "    Restart Count:  0\n",
      "    Environment:    <none>\n",
      "    Mounts:\n",
      "      /var/run/secrets/kubernetes.io/serviceaccount from kube-api-access-chnw2 (ro)\n",
      "Conditions:\n",
      "  Type                        Status\n",
      "  PodReadyToStartContainers   True \n",
      "  Initialized                 True \n",
      "  Ready                       True \n",
      "  ContainersReady             True \n",
      "  PodScheduled                True \n",
      "Volumes:\n",
      "  kube-api-access-chnw2:\n",
      "    Type:                    Projected (a volume that contains injected data from multiple sources)\n",
      "    TokenExpirationSeconds:  3607\n",
      "    ConfigMapName:           kube-root-ca.crt\n",
      "    ConfigMapOptional:       <nil>\n",
      "    DownwardAPI:             true\n",
      "QoS Class:                   BestEffort\n",
      "Node-Selectors:              <none>\n",
      "Tolerations:                 node.kubernetes.io/not-ready:NoExecute op=Exists for 300s\n",
      "                             node.kubernetes.io/unreachable:NoExecute op=Exists for 300s\n",
      "Events:\n",
      "  Type    Reason     Age   From               Message\n",
      "  ----    ------     ----  ----               -------\n",
      "  Normal  Scheduled  71s   default-scheduler  Successfully assigned default/nginx to docker-desktop\n",
      "  Normal  Pulling    70s   kubelet            Pulling image \"nginx:1.27.0\"\n",
      "  Normal  Pulled     65s   kubelet            Successfully pulled image \"nginx:1.27.0\" in 4.837s (4.837s including waiting). Image size: 70985469 bytes.\n",
      "  Normal  Created    65s   kubelet            Created container: nginx\n",
      "  Normal  Started    65s   kubelet            Started container nginx\n"
     ]
    }
   ],
   "source": [
    "!kubectl describe pod nginx"
   ]
  },
  {
   "cell_type": "code",
   "execution_count": 8,
   "id": "ae3a424d",
   "metadata": {},
   "outputs": [
    {
     "name": "stdout",
     "output_type": "stream",
     "text": [
      "^C\n"
     ]
    },
    {
     "name": "stderr",
     "output_type": "stream",
     "text": [
      "  % Total    % Received % Xferd  Average Speed   Time    Time     Time  Current\n",
      "                                 Dload  Upload   Total   Spent    Left  Speed\n",
      "\n",
      "  0     0    0     0    0     0      0      0 --:--:-- --:--:-- --:--:--     0\n",
      "  0     0    0     0    0     0      0      0 --:--:--  0:00:01 --:--:--     0\n",
      "  0     0    0     0    0     0      0      0 --:--:--  0:00:02 --:--:--     0\n",
      "  0     0    0     0    0     0      0      0 --:--:--  0:00:03 --:--:--     0\n",
      "  0     0    0     0    0     0      0      0 --:--:--  0:00:04 --:--:--     0\n",
      "  0     0    0     0    0     0      0      0 --:--:--  0:00:05 --:--:--     0\n",
      "  0     0    0     0    0     0      0      0 --:--:--  0:00:06 --:--:--     0\n",
      "  0     0    0     0    0     0      0      0 --:--:--  0:00:07 --:--:--     0\n",
      "  0     0    0     0    0     0      0      0 --:--:--  0:00:08 --:--:--     0\n",
      "  0     0    0     0    0     0      0      0 --:--:--  0:00:09 --:--:--     0\n",
      "  0     0    0     0    0     0      0      0 --:--:--  0:00:10 --:--:--     0\n",
      "  0     0    0     0    0     0      0      0 --:--:--  0:00:11 --:--:--     0\n",
      "  0     0    0     0    0     0      0      0 --:--:--  0:00:12 --:--:--     0\n",
      "  0     0    0     0    0     0      0      0 --:--:--  0:00:13 --:--:--     0\n",
      "  0     0    0     0    0     0      0      0 --:--:--  0:00:14 --:--:--     0\n",
      "  0     0    0     0    0     0      0      0 --:--:--  0:00:15 --:--:--     0\n",
      "  0     0    0     0    0     0      0      0 --:--:--  0:00:16 --:--:--     0\n",
      "  0     0    0     0    0     0      0      0 --:--:--  0:00:17 --:--:--     0\n",
      "  0     0    0     0    0     0      0      0 --:--:--  0:00:18 --:--:--     0\n",
      "  0     0    0     0    0     0      0      0 --:--:--  0:00:19 --:--:--     0\n",
      "  0     0    0     0    0     0      0      0 --:--:--  0:00:20 --:--:--     0\n",
      "  0     0    0     0    0     0      0      0 --:--:--  0:00:21 --:--:--     0\n",
      "curl: (28) Failed to connect to 10.1.0.79 port 80 after 21003 ms: Could not connect to server\n"
     ]
    }
   ],
   "source": [
    "!curl 10.1.0.79"
   ]
  },
  {
   "cell_type": "code",
   "execution_count": 12,
   "id": "7115790a",
   "metadata": {},
   "outputs": [
    {
     "name": "stdout",
     "output_type": "stream",
     "text": [
      "<!DOCTYPE html>\n",
      "<html>\n",
      "<head>\n",
      "<title>Welcome to nginx!</title>\n",
      "<style>\n",
      "html { color-scheme: light dark; }\n",
      "body { width: 35em; margin: 0 auto;\n",
      "font-family: Tahoma, Verdana, Arial, sans-serif; }\n",
      "</style>\n",
      "</head>\n",
      "<body>\n",
      "<h1>Welcome to nginx!</h1>\n",
      "<p>If you see this page, the nginx web server is successfully installed and\n",
      "working. Further configuration is required.</p>\n",
      "\n",
      "<p>For online documentation and support please refer to\n",
      "<a href=\"http://nginx.org/\">nginx.org</a>.<br/>\n",
      "Commercial support is available at\n",
      "<a href=\"http://nginx.com/\">nginx.com</a>.</p>\n",
      "\n",
      "<p><em>Thank you for using nginx.</em></p>\n",
      "</body>\n",
      "</html>\n",
      "pod \"curl\" deleted\n"
     ]
    }
   ],
   "source": [
    "!kubectl run curl --image=curlimages/curl:8.12.1 --restart=Never --attach --rm -- curl -sS http://10.1.0.79"
   ]
  },
  {
   "cell_type": "code",
   "execution_count": 13,
   "id": "b0de3023",
   "metadata": {},
   "outputs": [
    {
     "name": "stdout",
     "output_type": "stream",
     "text": [
      "NAME    READY   STATUS    RESTARTS   AGE\n",
      "nginx   1/1     Running   0          7m44s\n"
     ]
    }
   ],
   "source": [
    "!kubectl get pods"
   ]
  },
  {
   "cell_type": "code",
   "execution_count": 14,
   "id": "24f132f4",
   "metadata": {},
   "outputs": [
    {
     "name": "stdout",
     "output_type": "stream",
     "text": [
      "/docker-entrypoint.sh: /docker-entrypoint.d/ is not empty, will attempt to perform configuration\n",
      "/docker-entrypoint.sh: Looking for shell scripts in /docker-entrypoint.d/\n",
      "/docker-entrypoint.sh: Launching /docker-entrypoint.d/10-listen-on-ipv6-by-default.sh\n",
      "10-listen-on-ipv6-by-default.sh: info: Getting the checksum of /etc/nginx/conf.d/default.conf\n",
      "10-listen-on-ipv6-by-default.sh: info: Enabled listen on IPv6 in /etc/nginx/conf.d/default.conf\n",
      "/docker-entrypoint.sh: Sourcing /docker-entrypoint.d/15-local-resolvers.envsh\n",
      "/docker-entrypoint.sh: Launching /docker-entrypoint.d/20-envsubst-on-templates.sh\n",
      "/docker-entrypoint.sh: Launching /docker-entrypoint.d/30-tune-worker-processes.sh\n",
      "/docker-entrypoint.sh: Configuration complete; ready for start up\n",
      "2025/08/24 02:21:11 [notice] 1#1: using the \"epoll\" event method\n",
      "2025/08/24 02:21:11 [notice] 1#1: nginx/1.27.0\n",
      "2025/08/24 02:21:11 [notice] 1#1: built by gcc 12.2.0 (Debian 12.2.0-14) \n",
      "2025/08/24 02:21:11 [notice] 1#1: OS: Linux 6.6.87.2-microsoft-standard-WSL2\n",
      "2025/08/24 02:21:11 [notice] 1#1: getrlimit(RLIMIT_NOFILE): 1048576:1048576\n",
      "2025/08/24 02:21:11 [notice] 1#1: start worker processes\n",
      "2025/08/24 02:21:11 [notice] 1#1: start worker process 29\n",
      "2025/08/24 02:21:11 [notice] 1#1: start worker process 30\n",
      "2025/08/24 02:21:11 [notice] 1#1: start worker process 31\n",
      "2025/08/24 02:21:11 [notice] 1#1: start worker process 32\n",
      "2025/08/24 02:21:11 [notice] 1#1: start worker process 33\n",
      "2025/08/24 02:21:11 [notice] 1#1: start worker process 34\n",
      "2025/08/24 02:21:11 [notice] 1#1: start worker process 35\n",
      "2025/08/24 02:21:11 [notice] 1#1: start worker process 36\n",
      "2025/08/24 02:21:11 [notice] 1#1: start worker process 37\n",
      "2025/08/24 02:21:11 [notice] 1#1: start worker process 38\n",
      "2025/08/24 02:21:11 [notice] 1#1: start worker process 39\n",
      "2025/08/24 02:21:11 [notice] 1#1: start worker process 40\n",
      "2025/08/24 02:21:11 [notice] 1#1: start worker process 41\n",
      "2025/08/24 02:21:11 [notice] 1#1: start worker process 42\n",
      "2025/08/24 02:21:11 [notice] 1#1: start worker process 43\n",
      "2025/08/24 02:21:11 [notice] 1#1: start worker process 44\n",
      "2025/08/24 02:21:11 [notice] 1#1: start worker process 45\n",
      "2025/08/24 02:21:11 [notice] 1#1: start worker process 46\n",
      "2025/08/24 02:21:11 [notice] 1#1: start worker process 47\n",
      "2025/08/24 02:21:11 [notice] 1#1: start worker process 48\n",
      "2025/08/24 02:21:11 [notice] 1#1: start worker process 49\n",
      "2025/08/24 02:21:11 [notice] 1#1: start worker process 50\n",
      "2025/08/24 02:21:11 [notice] 1#1: start worker process 51\n",
      "2025/08/24 02:21:11 [notice] 1#1: start worker process 52\n",
      "10.1.0.80 - - [24/Aug/2025:02:25:08 +0000] \"GET / HTTP/1.1\" 200 615 \"-\" \"curl/8.12.1\" \"-\"\n",
      "10.1.0.83 - - [24/Aug/2025:02:27:23 +0000] \"GET / HTTP/1.1\" 200 615 \"-\" \"curl/8.12.1\" \"-\"\n"
     ]
    }
   ],
   "source": [
    "!kubectl logs nginx"
   ]
  },
  {
   "cell_type": "code",
   "execution_count": 15,
   "id": "39523604",
   "metadata": {},
   "outputs": [
    {
     "name": "stdout",
     "output_type": "stream",
     "text": [
      "/docker-entrypoint.sh: /docker-entrypoint.d/ is not empty, will attempt to perform configuration\n",
      "/docker-entrypoint.sh: Looking for shell scripts in /docker-entrypoint.d/\n",
      "/docker-entrypoint.sh: Launching /docker-entrypoint.d/10-listen-on-ipv6-by-default.sh\n",
      "10-listen-on-ipv6-by-default.sh: info: Getting the checksum of /etc/nginx/conf.d/default.conf\n",
      "10-listen-on-ipv6-by-default.sh: info: Enabled listen on IPv6 in /etc/nginx/conf.d/default.conf\n",
      "/docker-entrypoint.sh: Sourcing /docker-entrypoint.d/15-local-resolvers.envsh\n",
      "/docker-entrypoint.sh: Launching /docker-entrypoint.d/20-envsubst-on-templates.sh\n",
      "/docker-entrypoint.sh: Launching /docker-entrypoint.d/30-tune-worker-processes.sh\n",
      "/docker-entrypoint.sh: Configuration complete; ready for start up\n",
      "2025/08/24 02:21:11 [notice] 1#1: using the \"epoll\" event method\n",
      "2025/08/24 02:21:11 [notice] 1#1: nginx/1.27.0\n",
      "2025/08/24 02:21:11 [notice] 1#1: built by gcc 12.2.0 (Debian 12.2.0-14) \n",
      "2025/08/24 02:21:11 [notice] 1#1: OS: Linux 6.6.87.2-microsoft-standard-WSL2\n",
      "2025/08/24 02:21:11 [notice] 1#1: getrlimit(RLIMIT_NOFILE): 1048576:1048576\n",
      "2025/08/24 02:21:11 [notice] 1#1: start worker processes\n",
      "2025/08/24 02:21:11 [notice] 1#1: start worker process 29\n",
      "2025/08/24 02:21:11 [notice] 1#1: start worker process 30\n",
      "2025/08/24 02:21:11 [notice] 1#1: start worker process 31\n",
      "2025/08/24 02:21:11 [notice] 1#1: start worker process 32\n",
      "2025/08/24 02:21:11 [notice] 1#1: start worker process 33\n",
      "2025/08/24 02:21:11 [notice] 1#1: start worker process 34\n",
      "2025/08/24 02:21:11 [notice] 1#1: start worker process 35\n",
      "2025/08/24 02:21:11 [notice] 1#1: start worker process 36\n",
      "2025/08/24 02:21:11 [notice] 1#1: start worker process 37\n",
      "2025/08/24 02:21:11 [notice] 1#1: start worker process 38\n",
      "2025/08/24 02:21:11 [notice] 1#1: start worker process 39\n",
      "2025/08/24 02:21:11 [notice] 1#1: start worker process 40\n",
      "2025/08/24 02:21:11 [notice] 1#1: start worker process 41\n",
      "2025/08/24 02:21:11 [notice] 1#1: start worker process 42\n",
      "2025/08/24 02:21:11 [notice] 1#1: start worker process 43\n",
      "2025/08/24 02:21:11 [notice] 1#1: start worker process 44\n",
      "2025/08/24 02:21:11 [notice] 1#1: start worker process 45\n",
      "2025/08/24 02:21:11 [notice] 1#1: start worker process 46\n",
      "2025/08/24 02:21:11 [notice] 1#1: start worker process 47\n",
      "2025/08/24 02:21:11 [notice] 1#1: start worker process 48\n",
      "2025/08/24 02:21:11 [notice] 1#1: start worker process 49\n",
      "2025/08/24 02:21:11 [notice] 1#1: start worker process 50\n",
      "2025/08/24 02:21:11 [notice] 1#1: start worker process 51\n",
      "2025/08/24 02:21:11 [notice] 1#1: start worker process 52\n",
      "10.1.0.80 - - [24/Aug/2025:02:25:08 +0000] \"GET / HTTP/1.1\" 200 615 \"-\" \"curl/8.12.1\" \"-\"\n",
      "10.1.0.83 - - [24/Aug/2025:02:27:23 +0000] \"GET / HTTP/1.1\" 200 615 \"-\" \"curl/8.12.1\" \"-\"\n"
     ]
    }
   ],
   "source": [
    "!kubectl logs nginx --container=nginx"
   ]
  },
  {
   "cell_type": "code",
   "execution_count": 16,
   "id": "7367da98",
   "metadata": {},
   "outputs": [
    {
     "name": "stdout",
     "output_type": "stream",
     "text": [
      "NAME    READY   STATUS    RESTARTS   AGE\n",
      "nginx   1/1     Running   0          10m\n"
     ]
    }
   ],
   "source": [
    "!kubectl get pods"
   ]
  },
  {
   "cell_type": "code",
   "execution_count": 17,
   "id": "5e1ca563",
   "metadata": {},
   "outputs": [
    {
     "name": "stdout",
     "output_type": "stream",
     "text": [
      "Expose a resource as a new Kubernetes service.\n",
      "\n",
      " Looks up a deployment, service, replica set, replication controller or pod by name and uses the selector for that resource as the selector for a new service on the specified port. A deployment or replica set will be exposed as a service only if its selector is convertible to a selector that service supports, i.e. when the selector contains only the matchLabels component. Note that if no port is specified via --port and the exposed resource has multiple ports, all will be re-used by the new service. Also if no labels are specified, the new service will re-use the labels from the resource it exposes.\n",
      "\n",
      " Possible resources include (case insensitive):\n",
      "\n",
      " pod (po), service (svc), replicationcontroller (rc), deployment (deploy), replicaset (rs)\n",
      "\n",
      "Examples:\n",
      "  # Create a service for a replicated nginx, which serves on port 80 and connects to the containers on port 8000\n",
      "  kubectl expose rc nginx --port=80 --target-port=8000\n",
      "  \n",
      "  # Create a service for a replication controller identified by type and name specified in \"nginx-controller.yaml\", which serves on port 80 and connects to the containers on port 8000\n",
      "  kubectl expose -f nginx-controller.yaml --port=80 --target-port=8000\n",
      "  \n",
      "  # Create a service for a pod valid-pod, which serves on port 444 with the name \"frontend\"\n",
      "  kubectl expose pod valid-pod --port=444 --name=frontend\n",
      "  \n",
      "  # Create a second service based on the above service, exposing the container port 8443 as port 443 with the name \"nginx-https\"\n",
      "  kubectl expose service nginx --port=443 --target-port=8443 --name=nginx-https\n",
      "  \n",
      "  # Create a service for a replicated streaming application on port 4100 balancing UDP traffic and named 'video-stream'.\n",
      "  kubectl expose rc streamer --port=4100 --protocol=UDP --name=video-stream\n",
      "  \n",
      "  # Create a service for a replicated nginx using replica set, which serves on port 80 and connects to the containers on port 8000\n",
      "  kubectl expose rs nginx --port=80 --target-port=8000\n",
      "  \n",
      "  # Create a service for an nginx deployment, which serves on port 80 and connects to the containers on port 8000\n",
      "  kubectl expose deployment nginx --port=80 --target-port=8000\n",
      "\n",
      "Options:\n",
      "    --allow-missing-template-keys=true:\n",
      "\tIf true, ignore any errors in templates when a field or map key is missing in the template. Only applies to golang and jsonpath output formats.\n",
      "\n",
      "    --cluster-ip='':\n",
      "\tClusterIP to be assigned to the service. Leave empty to auto-allocate, or set to 'None' to create a headless service.\n",
      "\n",
      "    --dry-run='none':\n",
      "\tMust be \"none\", \"server\", or \"client\". If client strategy, only print the object that would be sent, without sending it. If server strategy, submit server-side request without persisting the resource.\n",
      "\n",
      "    --external-ip='':\n",
      "\tAdditional external IP address (not managed by Kubernetes) to accept for the service. If this IP is routed to a node, the service can be accessed by this IP in addition to its generated service IP.\n",
      "\n",
      "    --field-manager='kubectl-expose':\n",
      "\tName of the manager used to track field ownership.\n",
      "\n",
      "    -f, --filename=[]:\n",
      "\tFilename, directory, or URL to files identifying the resource to expose a service\n",
      "\n",
      "    -k, --kustomize='':\n",
      "\tProcess the kustomization directory. This flag can't be used together with -f or -R.\n",
      "\n",
      "    -l, --labels='':\n",
      "\tLabels to apply to the service created by this call.\n",
      "\n",
      "    --load-balancer-ip='':\n",
      "\tIP to assign to the LoadBalancer. If empty, an ephemeral IP will be created and used (cloud-provider specific).\n",
      "\n",
      "    --name='':\n",
      "\tThe name for the newly created object.\n",
      "\n",
      "    -o, --output='':\n",
      "\tOutput format. One of: (json, yaml, name, go-template, go-template-file, template, templatefile, jsonpath, jsonpath-as-json, jsonpath-file).\n",
      "\n",
      "    --override-type='merge':\n",
      "\tThe method used to override the generated object: json, merge, or strategic.\n",
      "\n",
      "    --overrides='':\n",
      "\tAn inline JSON override for the generated object. If this is non-empty, it is used to override the generated object. Requires that the object supply a valid apiVersion field.\n",
      "\n",
      "    --port='':\n",
      "\tThe port that the service should serve on. Copied from the resource being exposed, if unspecified\n",
      "\n",
      "    --protocol='':\n",
      "\tThe network protocol for the service to be created. Default is 'TCP'.\n",
      "\n",
      "    -R, --recursive=false:\n",
      "\tProcess the directory used in -f, --filename recursively. Useful when you want to manage related manifests organized within the same directory.\n",
      "\n",
      "    --save-config=false:\n",
      "\tIf true, the configuration of current object will be saved in its annotation. Otherwise, the annotation will be unchanged. This flag is useful when you want to perform kubectl apply on this object in the future.\n",
      "\n",
      "    --selector='':\n",
      "\tA label selector to use for this service. Only equality-based selector requirements are supported. If empty (the default) infer the selector from the replication controller or replica set.)\n",
      "\n",
      "    --session-affinity='':\n",
      "\tIf non-empty, set the session affinity for the service to this; legal values: 'None', 'ClientIP'\n",
      "\n",
      "    --show-managed-fields=false:\n",
      "\tIf true, keep the managedFields when printing objects in JSON or YAML format.\n",
      "\n",
      "    --target-port='':\n",
      "\tName or number for the port on the container that the service should direct traffic to. Optional.\n",
      "\n",
      "    --template='':\n",
      "\tTemplate string or path to template file to use when -o=go-template, -o=go-template-file. The template format is golang templates [http://golang.org/pkg/text/template/#pkg-overview].\n",
      "\n",
      "    --type='':\n",
      "\tType for this service: ClusterIP, NodePort, LoadBalancer, or ExternalName. Default is 'ClusterIP'.\n",
      "\n",
      "Usage:\n",
      "  kubectl expose (-f FILENAME | TYPE NAME) [--port=port] [--protocol=TCP|UDP|SCTP] [--target-port=number-or-name] [--name=name] [--external-ip=external-ip-of-service] [--type=type] [options]\n",
      "\n",
      "Use \"kubectl options\" for a list of global command-line options (applies to all commands).\n"
     ]
    }
   ],
   "source": [
    "!kubectl expose pod --help"
   ]
  },
  {
   "cell_type": "code",
   "execution_count": 19,
   "id": "df0adbae",
   "metadata": {},
   "outputs": [
    {
     "name": "stdout",
     "output_type": "stream",
     "text": [
      "service/nginx exposed\n"
     ]
    }
   ],
   "source": [
    "!kubectl expose pod nginx --type=NodePort  --port=80"
   ]
  },
  {
   "cell_type": "code",
   "execution_count": 20,
   "id": "1a14e1e5",
   "metadata": {},
   "outputs": [
    {
     "name": "stdout",
     "output_type": "stream",
     "text": [
      "NAME         TYPE        CLUSTER-IP       EXTERNAL-IP   PORT(S)        AGE\n",
      "kubernetes   ClusterIP   10.96.0.1        <none>        443/TCP        6d5h\n",
      "nginx        NodePort    10.103.175.167   <none>        80:30816/TCP   11s\n"
     ]
    }
   ],
   "source": [
    "!kubectl get service"
   ]
  },
  {
   "cell_type": "code",
   "execution_count": 21,
   "id": "9e1a14d3",
   "metadata": {},
   "outputs": [
    {
     "name": "stdout",
     "output_type": "stream",
     "text": [
      "<!DOCTYPE html>\n",
      "<html>\n",
      "<head>\n",
      "<title>Welcome to nginx!</title>\n",
      "<style>\n",
      "html { color-scheme: light dark; }\n",
      "body { width: 35em; margin: 0 auto;\n",
      "font-family: Tahoma, Verdana, Arial, sans-serif; }\n",
      "</style>\n",
      "</head>\n",
      "<body>\n",
      "<h1>Welcome to nginx!</h1>\n",
      "<p>If you see this page, the nginx web server is successfully installed and\n",
      "working. Further configuration is required.</p>\n",
      "\n",
      "<p>For online documentation and support please refer to\n",
      "<a href=\"http://nginx.org/\">nginx.org</a>.<br/>\n",
      "Commercial support is available at\n",
      "<a href=\"http://nginx.com/\">nginx.com</a>.</p>\n",
      "\n",
      "<p><em>Thank you for using nginx.</em></p>\n",
      "</body>\n",
      "</html>\n",
      "pod \"curl\" deleted\n"
     ]
    }
   ],
   "source": [
    "!kubectl run curl --image=curlimages/curl:8.12.1 --restart=Never --attach --rm -- curl -sS http://10.103.175.167"
   ]
  },
  {
   "cell_type": "code",
   "execution_count": 23,
   "id": "1b38e3f5",
   "metadata": {},
   "outputs": [
    {
     "name": "stdout",
     "output_type": "stream",
     "text": [
      "pod \"nginx\" deleted\n"
     ]
    }
   ],
   "source": [
    "!kubectl delete pod nginx"
   ]
  },
  {
   "cell_type": "code",
   "execution_count": 24,
   "id": "203b8421",
   "metadata": {},
   "outputs": [
    {
     "name": "stdout",
     "output_type": "stream",
     "text": [
      "curl: (7) Failed to connect to 10.103.175.167 port 80 after 0 ms: Could not connect to server\n",
      "pod \"curl\" deleted\n"
     ]
    },
    {
     "name": "stderr",
     "output_type": "stream",
     "text": [
      "pod default/curl terminated (Error)\n"
     ]
    }
   ],
   "source": [
    "!kubectl run curl --image=curlimages/curl:8.12.1 --restart=Never --attach --rm -- curl -sS http://10.103.175.167"
   ]
  },
  {
   "cell_type": "code",
   "execution_count": 25,
   "id": "0fef60de",
   "metadata": {},
   "outputs": [
    {
     "name": "stdout",
     "output_type": "stream",
     "text": [
      "pod/nginx created\n"
     ]
    }
   ],
   "source": [
    "!kubectl run nginx --image=nginx:1.27.0"
   ]
  },
  {
   "cell_type": "code",
   "execution_count": 26,
   "id": "f6133d8f",
   "metadata": {},
   "outputs": [
    {
     "name": "stdout",
     "output_type": "stream",
     "text": [
      "<!DOCTYPE html>\n",
      "<html>\n",
      "<head>\n",
      "<title>Welcome to nginx!</title>\n",
      "<style>\n",
      "html { color-scheme: light dark; }\n",
      "body { width: 35em; margin: 0 auto;\n",
      "font-family: Tahoma, Verdana, Arial, sans-serif; }\n",
      "</style>\n",
      "</head>\n",
      "<body>\n",
      "<h1>Welcome to nginx!</h1>\n",
      "<p>If you see this page, the nginx web server is successfully installed and\n",
      "working. Further configuration is required.</p>\n",
      "\n",
      "<p>For online documentation and support please refer to\n",
      "<a href=\"http://nginx.org/\">nginx.org</a>.<br/>\n",
      "Commercial support is available at\n",
      "<a href=\"http://nginx.com/\">nginx.com</a>.</p>\n",
      "\n",
      "<p><em>Thank you for using nginx.</em></p>\n",
      "</body>\n",
      "</html>\n",
      "pod \"curl\" deleted\n"
     ]
    }
   ],
   "source": [
    "!kubectl run curl --image=curlimages/curl:8.12.1 --restart=Never --attach --rm -- curl -sS http://10.103.175.167"
   ]
  },
  {
   "cell_type": "code",
   "execution_count": 27,
   "id": "eff3e574",
   "metadata": {},
   "outputs": [
    {
     "name": "stdout",
     "output_type": "stream",
     "text": [
      "<!DOCTYPE html>\n",
      "<html>\n",
      "<head>\n",
      "<title>Welcome to nginx!</title>\n",
      "<style>\n",
      "html { color-scheme: light dark; }\n",
      "body { width: 35em; margin: 0 auto;\n",
      "font-family: Tahoma, Verdana, Arial, sans-serif; }\n",
      "</style>\n",
      "</head>\n",
      "<body>\n",
      "<h1>Welcome to nginx!</h1>\n",
      "<p>If you see this page, the nginx web server is successfully installed and\n",
      "working. Further configuration is required.</p>\n",
      "\n",
      "<p>For online documentation and support please refer to\n",
      "<a href=\"http://nginx.org/\">nginx.org</a>.<br/>\n",
      "Commercial support is available at\n",
      "<a href=\"http://nginx.com/\">nginx.com</a>.</p>\n",
      "\n",
      "<p><em>Thank you for using nginx.</em></p>\n",
      "</body>\n",
      "</html>\n",
      "pod \"curl\" deleted\n"
     ]
    }
   ],
   "source": [
    "!kubectl run curl --image=curlimages/curl:8.12.1 --restart=Never --attach --rm -- curl -sS http://nginx"
   ]
  },
  {
   "cell_type": "code",
   "execution_count": 28,
   "id": "dcd4eaaf",
   "metadata": {},
   "outputs": [
    {
     "name": "stdout",
     "output_type": "stream",
     "text": [
      "service \"nginx\" deleted\n"
     ]
    }
   ],
   "source": [
    "!kubectl delete service nginx"
   ]
  },
  {
   "cell_type": "code",
   "execution_count": 29,
   "id": "3a55fc6b",
   "metadata": {},
   "outputs": [
    {
     "name": "stdout",
     "output_type": "stream",
     "text": [
      "NAME         TYPE        CLUSTER-IP   EXTERNAL-IP   PORT(S)   AGE\n",
      "kubernetes   ClusterIP   10.96.0.1    <none>        443/TCP   6d5h\n"
     ]
    }
   ],
   "source": [
    "!kubectl get service"
   ]
  },
  {
   "cell_type": "code",
   "execution_count": 30,
   "id": "b5b98b90",
   "metadata": {},
   "outputs": [
    {
     "name": "stdout",
     "output_type": "stream",
     "text": [
      "pod \"nginx\" deleted\n"
     ]
    }
   ],
   "source": [
    "!kubectl delete pod nginx"
   ]
  },
  {
   "cell_type": "code",
   "execution_count": 32,
   "id": "dfe42c7d",
   "metadata": {},
   "outputs": [
    {
     "name": "stderr",
     "output_type": "stream",
     "text": [
      "No resources found in default namespace.\n"
     ]
    }
   ],
   "source": [
    "!kubectl get pod"
   ]
  },
  {
   "cell_type": "code",
   "execution_count": null,
   "id": "359f2e66",
   "metadata": {},
   "outputs": [],
   "source": []
  }
 ],
 "metadata": {
  "kernelspec": {
   "display_name": ".venv",
   "language": "python",
   "name": "python3"
  },
  "language_info": {
   "codemirror_mode": {
    "name": "ipython",
    "version": 3
   },
   "file_extension": ".py",
   "mimetype": "text/x-python",
   "name": "python",
   "nbconvert_exporter": "python",
   "pygments_lexer": "ipython3",
   "version": "3.13.5"
  }
 },
 "nbformat": 4,
 "nbformat_minor": 5
}
