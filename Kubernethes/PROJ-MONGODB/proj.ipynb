{
 "cells": [
  {
   "cell_type": "code",
   "execution_count": 77,
   "id": "6458dd53",
   "metadata": {},
   "outputs": [
    {
     "name": "stdout",
     "output_type": "stream",
     "text": [
      "statefulset.apps/mongodb-ss created\n",
      "secret/mongodb-colordb-creds created\n",
      "secret/mongodb-root-creds created\n",
      "configmap/mongodb-init-colordb created\n",
      "service/mongodb-svc created\n"
     ]
    }
   ],
   "source": [
    "!kubectl apply -f ."
   ]
  },
  {
   "cell_type": "code",
   "execution_count": 78,
   "id": "1c5ae484",
   "metadata": {},
   "outputs": [
    {
     "name": "stdout",
     "output_type": "stream",
     "text": [
      "NAME          TYPE        CLUSTER-IP   EXTERNAL-IP   PORT(S)     AGE\n",
      "kubernetes    ClusterIP   10.96.0.1    <none>        443/TCP     3d1h\n",
      "mongodb-svc   ClusterIP   None         <none>        27017/TCP   40s\n"
     ]
    }
   ],
   "source": [
    "!kubectl get svc"
   ]
  },
  {
   "cell_type": "code",
   "execution_count": 79,
   "id": "fa7ff21b",
   "metadata": {},
   "outputs": [
    {
     "name": "stdout",
     "output_type": "stream",
     "text": [
      "NAME                             DATA   AGE\n",
      "configmap/kube-root-ca.crt       1      3d1h\n",
      "configmap/mongodb-init-colordb   1      42s\n",
      "\n",
      "NAME                           TYPE     DATA   AGE\n",
      "secret/mongodb-colordb-creds   Opaque   2      42s\n",
      "secret/mongodb-root-creds      Opaque   2      42s\n"
     ]
    }
   ],
   "source": [
    "!kubectl get configmap,secret"
   ]
  },
  {
   "cell_type": "code",
   "execution_count": 80,
   "id": "691a751e",
   "metadata": {},
   "outputs": [
    {
     "name": "stdout",
     "output_type": "stream",
     "text": [
      "NAME           READY   STATUS    RESTARTS   AGE\n",
      "mongodb-ss-0   1/1     Running   0          47s\n"
     ]
    }
   ],
   "source": [
    "!kubectl get pods"
   ]
  },
  {
   "cell_type": "code",
   "execution_count": 81,
   "id": "c09b3eb7",
   "metadata": {},
   "outputs": [
    {
     "name": "stdout",
     "output_type": "stream",
     "text": [
      "Name:               mongodb-ss\n",
      "Namespace:          default\n",
      "CreationTimestamp:  Sun, 31 Aug 2025 21:25:33 -0400\n",
      "Selector:           app=mongodb\n",
      "Labels:             <none>\n",
      "Annotations:        <none>\n",
      "Replicas:           1 desired | 1 total\n",
      "Update Strategy:    RollingUpdate\n",
      "  Partition:        0\n",
      "Pods Status:        1 Running / 0 Waiting / 0 Succeeded / 0 Failed\n",
      "Pod Template:\n",
      "  Labels:  app=mongodb\n",
      "  Containers:\n",
      "   mongo:\n",
      "    Image:      mongo:8.0.0\n",
      "    Port:       27017/TCP\n",
      "    Host Port:  0/TCP\n",
      "    Environment:\n",
      "      MONGO_INITDB_ROOT_USERNAME:  <set to the key 'username' in secret 'mongodb-root-creds'>  Optional: false\n",
      "      MONGO_INITDB_ROOT_PASSWORD:  <set to the key 'password' in secret 'mongodb-root-creds'>  Optional: false\n",
      "      DB_NAME:                     colordb\n",
      "      DB_USER:                     <set to the key 'username' in secret 'mongodb-colordb-creds'>  Optional: false\n",
      "      DB_PASSWORD:                 <set to the key 'password' in secret 'mongodb-colordb-creds'>  Optional: false\n",
      "    Mounts:\n",
      "      /data/db from mongodb-data (rw)\n",
      "      /docker-entrypoint-initdb.d from mongodb-init-config (rw)\n",
      "  Volumes:\n",
      "   mongodb-init-config:\n",
      "    Type:          ConfigMap (a volume populated by a ConfigMap)\n",
      "    Name:          mongodb-init-colordb\n",
      "    Optional:      false\n",
      "  Node-Selectors:  <none>\n",
      "  Tolerations:     <none>\n",
      "Volume Claims:\n",
      "  Name:          mongodb-data\n",
      "  StorageClass:  hostpath\n",
      "  Labels:        <none>\n",
      "  Annotations:   <none>\n",
      "  Capacity:      5Gi\n",
      "  Access Modes:  [ReadWriteOnce]\n",
      "Events:\n",
      "  Type    Reason            Age   From                    Message\n",
      "  ----    ------            ----  ----                    -------\n",
      "  Normal  SuccessfulCreate  50s   statefulset-controller  create Claim mongodb-data-mongodb-ss-0 Pod mongodb-ss-0 in StatefulSet mongodb-ss success\n",
      "  Normal  SuccessfulCreate  50s   statefulset-controller  create Pod mongodb-ss-0 in StatefulSet mongodb-ss successful\n"
     ]
    }
   ],
   "source": [
    "!kubectl describe statefulset"
   ]
  },
  {
   "cell_type": "code",
   "execution_count": 15,
   "id": "b98f2f67",
   "metadata": {},
   "outputs": [
    {
     "name": "stdout",
     "output_type": "stream",
     "text": [
      "Name:             mongodb-ss-0\n",
      "Namespace:        default\n",
      "Priority:         0\n",
      "Service Account:  default\n",
      "Node:             docker-desktop/192.168.65.3\n",
      "Start Time:       Sun, 31 Aug 2025 20:49:43 -0400\n",
      "Labels:           app=mongodb\n",
      "                  apps.kubernetes.io/pod-index=0\n",
      "                  controller-revision-hash=mongodb-ss-7cf67cff74\n",
      "                  statefulset.kubernetes.io/pod-name=mongodb-ss-0\n",
      "Annotations:      <none>\n",
      "Status:           Running\n",
      "IP:               10.1.1.181\n",
      "IPs:\n",
      "  IP:           10.1.1.181\n",
      "Controlled By:  StatefulSet/mongodb-ss\n",
      "Containers:\n",
      "  mongo:\n",
      "    Container ID:   docker://0f959f4d89981a90c061526d9cd4da0b78bd446bd12ba69dbe7bc5f0de52aac5\n",
      "    Image:          mongo:8.0.0\n",
      "    Image ID:       docker-pullable://mongo@sha256:0c17421487ae4a5cae88e7652a26ef72a8162adbc599a0730805526f5ff5ee83\n",
      "    Port:           27017/TCP\n",
      "    Host Port:      0/TCP\n",
      "    State:          Running\n",
      "      Started:      Sun, 31 Aug 2025 20:49:59 -0400\n",
      "    Last State:     Terminated\n",
      "      Reason:       Error\n",
      "      Exit Code:    1\n",
      "      Started:      Sun, 31 Aug 2025 20:49:57 -0400\n",
      "      Finished:     Sun, 31 Aug 2025 20:49:58 -0400\n",
      "    Ready:          True\n",
      "    Restart Count:  1\n",
      "    Environment:\n",
      "      MONGO_INITDB_ROOT_USERNAME:  <set to the key 'username' in secret 'mongodb-root-creds'>  Optional: false\n",
      "      MONGO_INITDB_ROOT_PASSWORD:  <set to the key 'password' in secret 'mongodb-root-creds'>  Optional: false\n",
      "      DB_NAME:                     colordb\n",
      "      DB_USER:                     <set to the key 'username' in secret 'mongodb-colordb-creds'>  Optional: false\n",
      "      MONGO_INITDB_ROOT_PASSWORD:  <set to the key 'password' in secret 'mongodb-colordb-creds'>  Optional: false\n",
      "    Mounts:\n",
      "      /data/db from mongodb-data (rw)\n",
      "      /docker-entrypoint-initdb.d from mongodb-init-config (rw)\n",
      "      /var/run/secrets/kubernetes.io/serviceaccount from kube-api-access-5njcf (ro)\n",
      "Conditions:\n",
      "  Type                        Status\n",
      "  PodReadyToStartContainers   True \n",
      "  Initialized                 True \n",
      "  Ready                       True \n",
      "  ContainersReady             True \n",
      "  PodScheduled                True \n",
      "Volumes:\n",
      "  mongodb-data:\n",
      "    Type:       PersistentVolumeClaim (a reference to a PersistentVolumeClaim in the same namespace)\n",
      "    ClaimName:  mongodb-data-mongodb-ss-0\n",
      "    ReadOnly:   false\n",
      "  mongodb-init-config:\n",
      "    Type:      ConfigMap (a volume populated by a ConfigMap)\n",
      "    Name:      mongodb-init-colordb\n",
      "    Optional:  false\n",
      "  kube-api-access-5njcf:\n",
      "    Type:                    Projected (a volume that contains injected data from multiple sources)\n",
      "    TokenExpirationSeconds:  3607\n",
      "    ConfigMapName:           kube-root-ca.crt\n",
      "    ConfigMapOptional:       <nil>\n",
      "    DownwardAPI:             true\n",
      "QoS Class:                   BestEffort\n",
      "Node-Selectors:              <none>\n",
      "Tolerations:                 node.kubernetes.io/not-ready:NoExecute op=Exists for 300s\n",
      "                             node.kubernetes.io/unreachable:NoExecute op=Exists for 300s\n",
      "Events:\n",
      "  Type     Reason            Age                From               Message\n",
      "  ----     ------            ----               ----               -------\n",
      "  Warning  FailedScheduling  104s               default-scheduler  0/1 nodes are available: pod has unbound immediate PersistentVolumeClaims. preemption: 0/1 nodes are available: 1 Preemption is not helpful for scheduling.\n",
      "  Normal   Scheduled         103s               default-scheduler  Successfully assigned default/mongodb-ss-0 to docker-desktop\n",
      "  Normal   Pulling           103s               kubelet            Pulling image \"mongo:8.0.0\"\n",
      "  Normal   Pulled            89s                kubelet            Successfully pulled image \"mongo:8.0.0\" in 13.592s (13.592s including waiting). Image size: 274338396 bytes.\n",
      "  Normal   Created           87s (x2 over 89s)  kubelet            Created container: mongo\n",
      "  Normal   Started           87s (x2 over 89s)  kubelet            Started container mongo\n",
      "  Normal   Pulled            87s                kubelet            Container image \"mongo:8.0.0\" already present on machine\n"
     ]
    }
   ],
   "source": [
    "!kubectl describe pod mongodb-ss-0"
   ]
  },
  {
   "cell_type": "code",
   "execution_count": null,
   "id": "8ede3885",
   "metadata": {},
   "outputs": [],
   "source": []
  },
  {
   "cell_type": "code",
   "execution_count": 82,
   "id": "83f431a6",
   "metadata": {},
   "outputs": [
    {
     "name": "stdout",
     "output_type": "stream",
     "text": [
      "about to fork child process, waiting until server is ready for connections.\n",
      "forked process: 29\n",
      "\n",
      "{\"t\":{\"$date\":\"2025-09-01T01:25:35.921+00:00\"},\"s\":\"I\",  \"c\":\"CONTROL\",  \"id\":20698,   \"ctx\":\"main\",\"msg\":\"***** SERVER RESTARTED *****\"}\n",
      "{\"t\":{\"$date\":\"2025-09-01T01:25:35.921+00:00\"},\"s\":\"I\",  \"c\":\"CONTROL\",  \"id\":23285,   \"ctx\":\"main\",\"msg\":\"Automatically disabling TLS 1.0, to force-enable TLS 1.0 specify --sslDisabledProtocols 'none'\"}\n",
      "{\"t\":{\"$date\":\"2025-09-01T01:25:35.923+00:00\"},\"s\":\"I\",  \"c\":\"CONTROL\",  \"id\":5945603, \"ctx\":\"main\",\"msg\":\"Multi threading initialized\"}\n",
      "{\"t\":{\"$date\":\"2025-09-01T01:25:35.923+00:00\"},\"s\":\"I\",  \"c\":\"NETWORK\",  \"id\":4648601, \"ctx\":\"main\",\"msg\":\"Implicit TCP FastOpen unavailable. If TCP FastOpen is required, set at least one of the related parameters\",\"attr\":{\"relatedParameters\":[\"tcpFastOpenServer\",\"tcpFastOpenClient\",\"tcpFastOpenQueueSize\"]}}\n",
      "{\"t\":{\"$date\":\"2025-09-01T01:25:35.924+00:00\"},\"s\":\"I\",  \"c\":\"NETWORK\",  \"id\":4915701, \"ctx\":\"main\",\"msg\":\"Initialized wire specification\",\"attr\":{\"spec\":{\"incomingExternalClient\":{\"minWireVersion\":0,\"maxWireVersion\":25},\"incomingInternalClient\":{\"minWireVersion\":0,\"maxWireVersion\":25},\"outgoing\":{\"minWireVersion\":6,\"maxWireVersion\":25},\"isInternalClient\":true}}}\n",
      "{\"t\":{\"$date\":\"2025-09-01T01:25:35.925+00:00\"},\"s\":\"I\",  \"c\":\"TENANT_M\", \"id\":7091600, \"ctx\":\"main\",\"msg\":\"Starting TenantMigrationAccessBlockerRegistry\"}\n",
      "{\"t\":{\"$date\":\"2025-09-01T01:25:35.925+00:00\"},\"s\":\"I\",  \"c\":\"CONTROL\",  \"id\":4615611, \"ctx\":\"initandlisten\",\"msg\":\"MongoDB starting\",\"attr\":{\"pid\":29,\"port\":27017,\"dbPath\":\"/data/db\",\"architecture\":\"64-bit\",\"host\":\"mongodb-ss-0\"}}\n",
      "{\"t\":{\"$date\":\"2025-09-01T01:25:35.925+00:00\"},\"s\":\"I\",  \"c\":\"CONTROL\",  \"id\":23403,   \"ctx\":\"initandlisten\",\"msg\":\"Build Info\",\"attr\":{\"buildInfo\":{\"version\":\"8.0.0\",\"gitVersion\":\"d7cd03b239ac39a3c7d63f7145e91aca36f93db6\",\"openSSLVersion\":\"OpenSSL 3.0.13 30 Jan 2024\",\"modules\":[],\"allocator\":\"tcmalloc-google\",\"environment\":{\"distmod\":\"ubuntu2404\",\"distarch\":\"x86_64\",\"target_arch\":\"x86_64\"}}}}\n",
      "{\"t\":{\"$date\":\"2025-09-01T01:25:35.925+00:00\"},\"s\":\"I\",  \"c\":\"CONTROL\",  \"id\":51765,   \"ctx\":\"initandlisten\",\"msg\":\"Operating System\",\"attr\":{\"os\":{\"name\":\"Ubuntu\",\"version\":\"24.04\"}}}\n",
      "{\"t\":{\"$date\":\"2025-09-01T01:25:35.925+00:00\"},\"s\":\"I\",  \"c\":\"CONTROL\",  \"id\":21951,   \"ctx\":\"initandlisten\",\"msg\":\"Options set by command line\",\"attr\":{\"options\":{\"net\":{\"bindIp\":\"127.0.0.1\",\"port\":27017,\"tls\":{\"mode\":\"disabled\"}},\"processManagement\":{\"fork\":true,\"pidFilePath\":\"/tmp/docker-entrypoint-temp-mongod.pid\"},\"systemLog\":{\"destination\":\"file\",\"logAppend\":true,\"path\":\"/proc/1/fd/1\"}}}}\n",
      "{\"t\":{\"$date\":\"2025-09-01T01:25:35.926+00:00\"},\"s\":\"I\",  \"c\":\"STORAGE\",  \"id\":22297,   \"ctx\":\"initandlisten\",\"msg\":\"Using the XFS filesystem is strongly recommended with the WiredTiger storage engine. See http://dochub.mongodb.org/core/prodnotes-filesystem\",\"tags\":[\"startupWarnings\"]}\n",
      "{\"t\":{\"$date\":\"2025-09-01T01:25:35.926+00:00\"},\"s\":\"I\",  \"c\":\"STORAGE\",  \"id\":22315,   \"ctx\":\"initandlisten\",\"msg\":\"Opening WiredTiger\",\"attr\":{\"config\":\"create,cache_size=15388M,session_max=33000,eviction=(threads_min=4,threads_max=4),config_base=false,statistics=(fast),log=(enabled=true,remove=true,path=journal,compressor=snappy),builtin_extension_config=(zstd=(compression_level=6)),file_manager=(close_idle_time=600,close_scan_interval=10,close_handle_minimum=2000),statistics_log=(wait=0),json_output=(error,message),verbose=[recovery_progress:1,checkpoint_progress:1,compact_progress:1,backup:0,checkpoint:0,compact:0,evict:0,history_store:0,recovery:0,rts:0,salvage:0,tiered:0,timestamp:0,transaction:0,verify:0,log:0],prefetch=(available=true,default=false),\"}}\n",
      "{\"t\":{\"$date\":\"2025-09-01T01:25:36.125+00:00\"},\"s\":\"I\",  \"c\":\"WTRECOV\",  \"id\":22430,   \"ctx\":\"initandlisten\",\"msg\":\"WiredTiger message\",\"attr\":{\"message\":{\"ts_sec\":1756689936,\"ts_usec\":125836,\"thread\":\"29:0x78d942138680\",\"session_name\":\"txn-recover\",\"category\":\"WT_VERB_RECOVERY_PROGRESS\",\"category_id\":34,\"verbose_level\":\"DEBUG_1\",\"verbose_level_id\":1,\"msg\":\"recovery log replay has successfully finished and ran for 0 milliseconds\"}}}\n",
      "{\"t\":{\"$date\":\"2025-09-01T01:25:36.125+00:00\"},\"s\":\"I\",  \"c\":\"WTRECOV\",  \"id\":22430,   \"ctx\":\"initandlisten\",\"msg\":\"WiredTiger message\",\"attr\":{\"message\":{\"ts_sec\":1756689936,\"ts_usec\":125898,\"thread\":\"29:0x78d942138680\",\"session_name\":\"txn-recover\",\"category\":\"WT_VERB_RECOVERY_PROGRESS\",\"category_id\":34,\"verbose_level\":\"DEBUG_1\",\"verbose_level_id\":1,\"msg\":\"Set global recovery timestamp: (0, 0)\"}}}\n",
      "{\"t\":{\"$date\":\"2025-09-01T01:25:36.125+00:00\"},\"s\":\"I\",  \"c\":\"WTRECOV\",  \"id\":22430,   \"ctx\":\"initandlisten\",\"msg\":\"WiredTiger message\",\"attr\":{\"message\":{\"ts_sec\":1756689936,\"ts_usec\":125909,\"thread\":\"29:0x78d942138680\",\"session_name\":\"txn-recover\",\"category\":\"WT_VERB_RECOVERY_PROGRESS\",\"category_id\":34,\"verbose_level\":\"DEBUG_1\",\"verbose_level_id\":1,\"msg\":\"Set global oldest timestamp: (0, 0)\"}}}\n",
      "{\"t\":{\"$date\":\"2025-09-01T01:25:36.125+00:00\"},\"s\":\"I\",  \"c\":\"WTRECOV\",  \"id\":22430,   \"ctx\":\"initandlisten\",\"msg\":\"WiredTiger message\",\"attr\":{\"message\":{\"ts_sec\":1756689936,\"ts_usec\":125924,\"thread\":\"29:0x78d942138680\",\"session_name\":\"txn-recover\",\"category\":\"WT_VERB_RECOVERY_PROGRESS\",\"category_id\":34,\"verbose_level\":\"DEBUG_1\",\"verbose_level_id\":1,\"msg\":\"recovery was completed successfully and took 0ms, including 0ms for the log replay, 0ms for the rollback to stable, and 0ms for the checkpoint.\"}}}\n",
      "{\"t\":{\"$date\":\"2025-09-01T01:25:36.150+00:00\"},\"s\":\"I\",  \"c\":\"STORAGE\",  \"id\":4795906, \"ctx\":\"initandlisten\",\"msg\":\"WiredTiger opened\",\"attr\":{\"durationMillis\":224}}\n",
      "{\"t\":{\"$date\":\"2025-09-01T01:25:36.150+00:00\"},\"s\":\"I\",  \"c\":\"RECOVERY\", \"id\":23987,   \"ctx\":\"initandlisten\",\"msg\":\"WiredTiger recoveryTimestamp\",\"attr\":{\"recoveryTimestamp\":{\"$timestamp\":{\"t\":0,\"i\":0}}}}\n",
      "{\"t\":{\"$date\":\"2025-09-01T01:25:36.207+00:00\"},\"s\":\"W\",  \"c\":\"CONTROL\",  \"id\":22120,   \"ctx\":\"initandlisten\",\"msg\":\"Access control is not enabled for the database. Read and write access to data and configuration is unrestricted\",\"tags\":[\"startupWarnings\"]}\n",
      "{\"t\":{\"$date\":\"2025-09-01T01:25:36.207+00:00\"},\"s\":\"W\",  \"c\":\"CONTROL\",  \"id\":8640300, \"ctx\":\"initandlisten\",\"msg\":\"For customers running the tcmalloc-google memory allocator, we suggest setting the contents of sysfsFile to 'always'\",\"attr\":{\"sysfsFile\":\"/sys/kernel/mm/transparent_hugepage/enabled\",\"currentValue\":\"madvise\"},\"tags\":[\"startupWarnings\"]}\n",
      "{\"t\":{\"$date\":\"2025-09-01T01:25:36.207+00:00\"},\"s\":\"W\",  \"c\":\"CONTROL\",  \"id\":8640301, \"ctx\":\"initandlisten\",\"msg\":\"For customers running the updated tcmalloc-google memory allocator, we suggest setting the contents of sysfsFile to 'defer+madvise'\",\"attr\":{\"sysfsFile\":\"/sys/kernel/mm/transparent_hugepage/defrag\",\"currentValue\":\"madvise\"},\"tags\":[\"startupWarnings\"]}\n",
      "{\"t\":{\"$date\":\"2025-09-01T01:25:36.207+00:00\"},\"s\":\"W\",  \"c\":\"CONTROL\",  \"id\":8640302, \"ctx\":\"initandlisten\",\"msg\":\"We suggest setting the contents of sysfsFile to 0.\",\"attr\":{\"sysfsFile\":\"/sys/kernel/mm/transparent_hugepage/khugepaged/max_ptes_none\",\"currentValue\":511},\"tags\":[\"startupWarnings\"]}\n",
      "{\"t\":{\"$date\":\"2025-09-01T01:25:36.207+00:00\"},\"s\":\"W\",  \"c\":\"CONTROL\",  \"id\":8718500, \"ctx\":\"initandlisten\",\"msg\":\"Your system has glibc support for rseq built in, which is not yet supported by tcmalloc-google and has critical performance implications. Please set the environment variable GLIBC_TUNABLES=glibc.pthread.rseq=0\",\"tags\":[\"startupWarnings\"]}\n",
      "{\"t\":{\"$date\":\"2025-09-01T01:25:36.207+00:00\"},\"s\":\"W\",  \"c\":\"NETWORK\",  \"id\":5123300, \"ctx\":\"initandlisten\",\"msg\":\"vm.max_map_count is too low\",\"attr\":{\"currentValue\":262144,\"recommendedMinimum\":1677720,\"maxConns\":838860},\"tags\":[\"startupWarnings\"]}\n",
      "{\"t\":{\"$date\":\"2025-09-01T01:25:36.207+00:00\"},\"s\":\"W\",  \"c\":\"CONTROL\",  \"id\":8386700, \"ctx\":\"initandlisten\",\"msg\":\"We suggest setting swappiness to 0 or 1, as swapping can cause performance problems.\",\"attr\":{\"sysfsFile\":\"/proc/sys/vm/swappiness\",\"currentValue\":60},\"tags\":[\"startupWarnings\"]}\n",
      "{\"t\":{\"$date\":\"2025-09-01T01:25:36.208+00:00\"},\"s\":\"I\",  \"c\":\"STORAGE\",  \"id\":20320,   \"ctx\":\"initandlisten\",\"msg\":\"createCollection\",\"attr\":{\"namespace\":\"admin.system.version\",\"uuidDisposition\":\"provided\",\"uuid\":{\"uuid\":{\"$uuid\":\"7faa56b9-cbd6-4fbb-863a-0ea872a4960c\"}},\"options\":{\"uuid\":{\"$uuid\":\"7faa56b9-cbd6-4fbb-863a-0ea872a4960c\"}}}}\n",
      "{\"t\":{\"$date\":\"2025-09-01T01:25:36.238+00:00\"},\"s\":\"I\",  \"c\":\"INDEX\",    \"id\":20345,   \"ctx\":\"initandlisten\",\"msg\":\"Index build: done building\",\"attr\":{\"buildUUID\":null,\"collectionUUID\":{\"uuid\":{\"$uuid\":\"7faa56b9-cbd6-4fbb-863a-0ea872a4960c\"}},\"namespace\":\"admin.system.version\",\"index\":\"_id_\",\"ident\":\"index-1-3774668179759017395\",\"collectionIdent\":\"collection-0-3774668179759017395\",\"commitTimestamp\":null}}\n",
      "{\"t\":{\"$date\":\"2025-09-01T01:25:36.238+00:00\"},\"s\":\"I\",  \"c\":\"REPL\",     \"id\":20459,   \"ctx\":\"initandlisten\",\"msg\":\"Setting featureCompatibilityVersion\",\"attr\":{\"newVersion\":\"8.0\"}}\n",
      "{\"t\":{\"$date\":\"2025-09-01T01:25:36.238+00:00\"},\"s\":\"I\",  \"c\":\"REPL\",     \"id\":5853300, \"ctx\":\"initandlisten\",\"msg\":\"current featureCompatibilityVersion value\",\"attr\":{\"featureCompatibilityVersion\":\"8.0\",\"context\":\"setFCV\"}}\n",
      "{\"t\":{\"$date\":\"2025-09-01T01:25:36.238+00:00\"},\"s\":\"I\",  \"c\":\"NETWORK\",  \"id\":4915702, \"ctx\":\"initandlisten\",\"msg\":\"Updated wire specification\",\"attr\":{\"oldSpec\":{\"incomingExternalClient\":{\"minWireVersion\":0,\"maxWireVersion\":25},\"incomingInternalClient\":{\"minWireVersion\":0,\"maxWireVersion\":25},\"outgoing\":{\"minWireVersion\":6,\"maxWireVersion\":25},\"isInternalClient\":true},\"newSpec\":{\"incomingExternalClient\":{\"minWireVersion\":0,\"maxWireVersion\":25},\"incomingInternalClient\":{\"minWireVersion\":25,\"maxWireVersion\":25},\"outgoing\":{\"minWireVersion\":25,\"maxWireVersion\":25},\"isInternalClient\":true}}}\n",
      "{\"t\":{\"$date\":\"2025-09-01T01:25:36.238+00:00\"},\"s\":\"I\",  \"c\":\"NETWORK\",  \"id\":4915702, \"ctx\":\"initandlisten\",\"msg\":\"Updated wire specification\",\"attr\":{\"oldSpec\":{\"incomingExternalClient\":{\"minWireVersion\":0,\"maxWireVersion\":25},\"incomingInternalClient\":{\"minWireVersion\":25,\"maxWireVersion\":25},\"outgoing\":{\"minWireVersion\":25,\"maxWireVersion\":25},\"isInternalClient\":true},\"newSpec\":{\"incomingExternalClient\":{\"minWireVersion\":0,\"maxWireVersion\":25},\"incomingInternalClient\":{\"minWireVersion\":25,\"maxWireVersion\":25},\"outgoing\":{\"minWireVersion\":25,\"maxWireVersion\":25},\"isInternalClient\":true}}}\n",
      "{\"t\":{\"$date\":\"2025-09-01T01:25:36.238+00:00\"},\"s\":\"I\",  \"c\":\"REPL\",     \"id\":5853300, \"ctx\":\"initandlisten\",\"msg\":\"current featureCompatibilityVersion value\",\"attr\":{\"featureCompatibilityVersion\":\"8.0\",\"context\":\"startup\"}}\n",
      "{\"t\":{\"$date\":\"2025-09-01T01:25:36.238+00:00\"},\"s\":\"I\",  \"c\":\"STORAGE\",  \"id\":5071100, \"ctx\":\"initandlisten\",\"msg\":\"Clearing temp directory\"}\n",
      "{\"t\":{\"$date\":\"2025-09-01T01:25:36.238+00:00\"},\"s\":\"I\",  \"c\":\"CONTROL\",  \"id\":6608200, \"ctx\":\"initandlisten\",\"msg\":\"Initializing cluster server parameters from disk\"}\n",
      "{\"t\":{\"$date\":\"2025-09-01T01:25:36.238+00:00\"},\"s\":\"I\",  \"c\":\"CONTROL\",  \"id\":20536,   \"ctx\":\"initandlisten\",\"msg\":\"Flow Control is enabled on this deployment\"}\n",
      "{\"t\":{\"$date\":\"2025-09-01T01:25:36.239+00:00\"},\"s\":\"I\",  \"c\":\"FTDC\",     \"id\":20625,   \"ctx\":\"initandlisten\",\"msg\":\"Initializing full-time diagnostic data capture\",\"attr\":{\"dataDirectory\":\"/data/db/diagnostic.data\"}}\n",
      "{\"t\":{\"$date\":\"2025-09-01T01:25:36.239+00:00\"},\"s\":\"I\",  \"c\":\"STORAGE\",  \"id\":20320,   \"ctx\":\"initandlisten\",\"msg\":\"createCollection\",\"attr\":{\"namespace\":\"local.startup_log\",\"uuidDisposition\":\"generated\",\"uuid\":{\"uuid\":{\"$uuid\":\"d77193b5-c271-46b2-85a9-d951b5506cca\"}},\"options\":{\"capped\":true,\"size\":10485760}}}\n",
      "{\"t\":{\"$date\":\"2025-09-01T01:25:36.270+00:00\"},\"s\":\"I\",  \"c\":\"INDEX\",    \"id\":20345,   \"ctx\":\"initandlisten\",\"msg\":\"Index build: done building\",\"attr\":{\"buildUUID\":null,\"collectionUUID\":{\"uuid\":{\"$uuid\":\"d77193b5-c271-46b2-85a9-d951b5506cca\"}},\"namespace\":\"local.startup_log\",\"index\":\"_id_\",\"ident\":\"index-3-3774668179759017395\",\"collectionIdent\":\"collection-2-3774668179759017395\",\"commitTimestamp\":null}}\n",
      "{\"t\":{\"$date\":\"2025-09-01T01:25:36.270+00:00\"},\"s\":\"I\",  \"c\":\"REPL\",     \"id\":6015317, \"ctx\":\"initandlisten\",\"msg\":\"Setting new configuration state\",\"attr\":{\"newState\":\"ConfigReplicationDisabled\",\"oldState\":\"ConfigPreStart\"}}\n",
      "{\"t\":{\"$date\":\"2025-09-01T01:25:36.270+00:00\"},\"s\":\"I\",  \"c\":\"STORAGE\",  \"id\":22262,   \"ctx\":\"initandlisten\",\"msg\":\"Timestamp monitor starting\"}\n",
      "{\"t\":{\"$date\":\"2025-09-01T01:25:36.270+00:00\"},\"s\":\"I\",  \"c\":\"STORAGE\",  \"id\":7333401, \"ctx\":\"initandlisten\",\"msg\":\"Starting the DiskSpaceMonitor\"}\n",
      "{\"t\":{\"$date\":\"2025-09-01T01:25:36.271+00:00\"},\"s\":\"I\",  \"c\":\"NETWORK\",  \"id\":23015,   \"ctx\":\"listener\",\"msg\":\"Listening on\",\"attr\":{\"address\":\"/tmp/mongodb-27017.sock\"}}\n",
      "{\"t\":{\"$date\":\"2025-09-01T01:25:36.271+00:00\"},\"s\":\"I\",  \"c\":\"NETWORK\",  \"id\":23015,   \"ctx\":\"listener\",\"msg\":\"Listening on\",\"attr\":{\"address\":\"127.0.0.1:27017\"}}\n",
      "{\"t\":{\"$date\":\"2025-09-01T01:25:36.271+00:00\"},\"s\":\"I\",  \"c\":\"NETWORK\",  \"id\":23016,   \"ctx\":\"listener\",\"msg\":\"Waiting for connections\",\"attr\":{\"port\":27017,\"ssl\":\"off\"}}\n",
      "{\"t\":{\"$date\":\"2025-09-01T01:25:36.271+00:00\"},\"s\":\"I\",  \"c\":\"CONTROL\",  \"id\":8423403, \"ctx\":\"initandlisten\",\"msg\":\"mongod startup complete\",\"attr\":{\"Summary of time elapsed\":{\"Startup from clean shutdown?\":true,\"Statistics\":{\"Set up periodic runner\":\"0 ms\",\"Set up online certificate status protocol manager\":\"0 ms\",\"Transport layer setup\":\"0 ms\",\"Run initial syncer crash recovery\":\"0 ms\",\"Create storage engine lock file in the data directory\":\"0 ms\",\"Get metadata describing storage engine\":\"0 ms\",\"Create storage engine\":\"265 ms\",\"Write current PID to file\":\"0 ms\",\"Write a new metadata for storage engine\":\"10 ms\",\"Initialize FCV before rebuilding indexes\":\"0 ms\",\"Drop abandoned idents and get back indexes that need to be rebuilt or builds that need to be restarted\":\"0 ms\",\"Rebuild indexes for collections\":\"0 ms\",\"Load cluster parameters from disk for a standalone\":\"0 ms\",\"Build user and roles graph\":\"0 ms\",\"Set up the background thread pool responsible for waiting for opTimes to be majority committed\":\"0 ms\",\"Start up the replication coordinator\":\"0 ms\",\"Ensure the change stream collections on startup contain consistent data\":\"0 ms\",\"Write startup options to the audit log\":\"0 ms\",\"Start transport layer\":\"0 ms\",\"_initAndListen total elapsed time\":\"346 ms\"}}}}\n",
      "{\"t\":{\"$date\":\"2025-09-01T01:25:36.272+00:00\"},\"s\":\"I\",  \"c\":\"CONTROL\",  \"id\":20712,   \"ctx\":\"LogicalSessionCacheReap\",\"msg\":\"Sessions collection is not set up; waiting until next sessions reap interval\",\"attr\":{\"error\":\"NamespaceNotFound: config.system.sessions does not exist\"}}\n",
      "child process started successfully, parent exiting\n",
      "{\"t\":{\"$date\":\"2025-09-01T01:25:36.272+00:00\"},\"s\":\"I\",  \"c\":\"STORAGE\",  \"id\":20320,   \"ctx\":\"LogicalSessionCacheRefresh\",\"msg\":\"createCollection\",\"attr\":{\"namespace\":\"config.system.sessions\",\"uuidDisposition\":\"generated\",\"uuid\":{\"uuid\":{\"$uuid\":\"13475293-0abb-4e69-a543-06ac4665bbec\"}},\"options\":{}}}\n",
      "{\"t\":{\"$date\":\"2025-09-01T01:25:36.322+00:00\"},\"s\":\"I\",  \"c\":\"INDEX\",    \"id\":20345,   \"ctx\":\"LogicalSessionCacheRefresh\",\"msg\":\"Index build: done building\",\"attr\":{\"buildUUID\":null,\"collectionUUID\":{\"uuid\":{\"$uuid\":\"13475293-0abb-4e69-a543-06ac4665bbec\"}},\"namespace\":\"config.system.sessions\",\"index\":\"_id_\",\"ident\":\"index-5-3774668179759017395\",\"collectionIdent\":\"collection-4-3774668179759017395\",\"commitTimestamp\":null}}\n",
      "{\"t\":{\"$date\":\"2025-09-01T01:25:36.322+00:00\"},\"s\":\"I\",  \"c\":\"INDEX\",    \"id\":20345,   \"ctx\":\"LogicalSessionCacheRefresh\",\"msg\":\"Index build: done building\",\"attr\":{\"buildUUID\":null,\"collectionUUID\":{\"uuid\":{\"$uuid\":\"13475293-0abb-4e69-a543-06ac4665bbec\"}},\"namespace\":\"config.system.sessions\",\"index\":\"lsidTTLIndex\",\"ident\":\"index-6-3774668179759017395\",\"collectionIdent\":\"collection-4-3774668179759017395\",\"commitTimestamp\":null}}\n",
      "{\"t\":{\"$date\":\"2025-09-01T01:25:36.554+00:00\"},\"s\":\"I\",  \"c\":\"NETWORK\",  \"id\":22943,   \"ctx\":\"listener\",\"msg\":\"Connection accepted\",\"attr\":{\"remote\":\"127.0.0.1:41792\",\"uuid\":{\"uuid\":{\"$uuid\":\"0cbe1b06-eae3-421c-a760-1b1801f2cc97\"}},\"connectionId\":1,\"connectionCount\":1}}\n",
      "{\"t\":{\"$date\":\"2025-09-01T01:25:36.555+00:00\"},\"s\":\"I\",  \"c\":\"NETWORK\",  \"id\":51800,   \"ctx\":\"conn1\",\"msg\":\"client metadata\",\"attr\":{\"remote\":\"127.0.0.1:41792\",\"client\":\"conn1\",\"negotiatedCompressors\":[],\"doc\":{\"application\":{\"name\":\"mongosh 2.3.1\"},\"driver\":{\"name\":\"nodejs|mongosh\",\"version\":\"6.8.0|2.3.1\"},\"platform\":\"Node.js v20.17.0, LE\",\"os\":{\"name\":\"linux\",\"architecture\":\"x64\",\"version\":\"3.10.0-327.22.2.el7.x86_64\",\"type\":\"Linux\"},\"env\":{\"container\":{\"runtime\":\"docker\",\"orchestrator\":\"kubernetes\"}}}}}\n",
      "{\"t\":{\"$date\":\"2025-09-01T01:25:36.587+00:00\"},\"s\":\"I\",  \"c\":\"NETWORK\",  \"id\":22944,   \"ctx\":\"conn1\",\"msg\":\"Connection ended\",\"attr\":{\"remote\":\"127.0.0.1:41792\",\"uuid\":{\"uuid\":{\"$uuid\":\"0cbe1b06-eae3-421c-a760-1b1801f2cc97\"}},\"connectionId\":1,\"connectionCount\":0}}\n",
      "{\"t\":{\"$date\":\"2025-09-01T01:25:36.842+00:00\"},\"s\":\"I\",  \"c\":\"NETWORK\",  \"id\":22943,   \"ctx\":\"listener\",\"msg\":\"Connection accepted\",\"attr\":{\"remote\":\"127.0.0.1:41808\",\"uuid\":{\"uuid\":{\"$uuid\":\"7fe30f7b-2f7e-4735-b472-c94d0c3ccd26\"}},\"connectionId\":2,\"connectionCount\":1}}\n",
      "{\"t\":{\"$date\":\"2025-09-01T01:25:36.843+00:00\"},\"s\":\"I\",  \"c\":\"NETWORK\",  \"id\":51800,   \"ctx\":\"conn2\",\"msg\":\"client metadata\",\"attr\":{\"remote\":\"127.0.0.1:41808\",\"client\":\"conn2\",\"negotiatedCompressors\":[],\"doc\":{\"application\":{\"name\":\"mongosh 2.3.1\"},\"driver\":{\"name\":\"nodejs|mongosh\",\"version\":\"6.8.0|2.3.1\"},\"platform\":\"Node.js v20.17.0, LE\",\"os\":{\"name\":\"linux\",\"architecture\":\"x64\",\"version\":\"3.10.0-327.22.2.el7.x86_64\",\"type\":\"Linux\"},\"env\":{\"container\":{\"runtime\":\"docker\",\"orchestrator\":\"kubernetes\"}}}}}\n",
      "{\"t\":{\"$date\":\"2025-09-01T01:25:36.864+00:00\"},\"s\":\"I\",  \"c\":\"NETWORK\",  \"id\":22943,   \"ctx\":\"listener\",\"msg\":\"Connection accepted\",\"attr\":{\"remote\":\"127.0.0.1:41822\",\"uuid\":{\"uuid\":{\"$uuid\":\"92667202-6936-4747-8be6-eddd77be0045\"}},\"connectionId\":3,\"connectionCount\":2}}\n",
      "{\"t\":{\"$date\":\"2025-09-01T01:25:36.865+00:00\"},\"s\":\"I\",  \"c\":\"NETWORK\",  \"id\":22943,   \"ctx\":\"listener\",\"msg\":\"Connection accepted\",\"attr\":{\"remote\":\"127.0.0.1:41838\",\"uuid\":{\"uuid\":{\"$uuid\":\"d4ede413-2356-4d60-92d4-1bf3c0ca281a\"}},\"connectionId\":4,\"connectionCount\":3}}\n",
      "{\"t\":{\"$date\":\"2025-09-01T01:25:36.865+00:00\"},\"s\":\"I\",  \"c\":\"NETWORK\",  \"id\":51800,   \"ctx\":\"conn3\",\"msg\":\"client metadata\",\"attr\":{\"remote\":\"127.0.0.1:41822\",\"client\":\"conn3\",\"negotiatedCompressors\":[],\"doc\":{\"application\":{\"name\":\"mongosh 2.3.1\"},\"driver\":{\"name\":\"nodejs|mongosh\",\"version\":\"6.8.0|2.3.1\"},\"platform\":\"Node.js v20.17.0, LE\",\"os\":{\"name\":\"linux\",\"architecture\":\"x64\",\"version\":\"3.10.0-327.22.2.el7.x86_64\",\"type\":\"Linux\"},\"env\":{\"container\":{\"runtime\":\"docker\",\"orchestrator\":\"kubernetes\"}}}}}\n",
      "{\"t\":{\"$date\":\"2025-09-01T01:25:36.866+00:00\"},\"s\":\"I\",  \"c\":\"NETWORK\",  \"id\":51800,   \"ctx\":\"conn4\",\"msg\":\"client metadata\",\"attr\":{\"remote\":\"127.0.0.1:41838\",\"client\":\"conn4\",\"negotiatedCompressors\":[],\"doc\":{\"application\":{\"name\":\"mongosh 2.3.1\"},\"driver\":{\"name\":\"nodejs|mongosh\",\"version\":\"6.8.0|2.3.1\"},\"platform\":\"Node.js v20.17.0, LE\",\"os\":{\"name\":\"linux\",\"architecture\":\"x64\",\"version\":\"3.10.0-327.22.2.el7.x86_64\",\"type\":\"Linux\"},\"env\":{\"container\":{\"runtime\":\"docker\",\"orchestrator\":\"kubernetes\"}}}}}\n",
      "{\"t\":{\"$date\":\"2025-09-01T01:25:36.867+00:00\"},\"s\":\"I\",  \"c\":\"NETWORK\",  \"id\":6788700, \"ctx\":\"conn3\",\"msg\":\"Received first command on ingress connection since session start or auth handshake\",\"attr\":{\"elapsedMillis\":1}}\n",
      "{\"t\":{\"$date\":\"2025-09-01T01:25:36.867+00:00\"},\"s\":\"I\",  \"c\":\"NETWORK\",  \"id\":22943,   \"ctx\":\"listener\",\"msg\":\"Connection accepted\",\"attr\":{\"remote\":\"127.0.0.1:41840\",\"uuid\":{\"uuid\":{\"$uuid\":\"fb277145-df39-473f-a07c-673a07d66018\"}},\"connectionId\":5,\"connectionCount\":4}}\n",
      "{\"t\":{\"$date\":\"2025-09-01T01:25:36.869+00:00\"},\"s\":\"I\",  \"c\":\"NETWORK\",  \"id\":51800,   \"ctx\":\"conn5\",\"msg\":\"client metadata\",\"attr\":{\"remote\":\"127.0.0.1:41840\",\"client\":\"conn5\",\"negotiatedCompressors\":[],\"doc\":{\"application\":{\"name\":\"mongosh 2.3.1\"},\"driver\":{\"name\":\"nodejs|mongosh\",\"version\":\"6.8.0|2.3.1\"},\"platform\":\"Node.js v20.17.0, LE\",\"os\":{\"name\":\"linux\",\"architecture\":\"x64\",\"version\":\"3.10.0-327.22.2.el7.x86_64\",\"type\":\"Linux\"},\"env\":{\"container\":{\"runtime\":\"docker\",\"orchestrator\":\"kubernetes\"}}}}}\n",
      "{\"t\":{\"$date\":\"2025-09-01T01:25:36.870+00:00\"},\"s\":\"I\",  \"c\":\"NETWORK\",  \"id\":6788700, \"ctx\":\"conn5\",\"msg\":\"Received first command on ingress connection since session start or auth handshake\",\"attr\":{\"elapsedMillis\":1}}\n",
      "admin> ... ... ... ... {\"t\":{\"$date\":\"2025-09-01T01:25:36.984+00:00\"},\"s\":\"I\",  \"c\":\"STORAGE\",  \"id\":20320,   \"ctx\":\"conn5\",\"msg\":\"createCollection\",\"attr\":{\"namespace\":\"admin.system.users\",\"uuidDisposition\":\"generated\",\"uuid\":{\"uuid\":{\"$uuid\":\"196f5d32-583b-46b5-af1a-eecedffb4eea\"}},\"options\":{}}}\n",
      "{\"t\":{\"$date\":\"2025-09-01T01:25:37.006+00:00\"},\"s\":\"W\",  \"c\":\"CONTROL\",  \"id\":636300,  \"ctx\":\"ftdc\",\"msg\":\"Use of deprecated server parameter name\",\"attr\":{\"deprecatedName\":\"internalQueryCacheSize\",\"canonicalName\":\"internalQueryCacheMaxEntriesPerCollection\"}}\n",
      "{\"t\":{\"$date\":\"2025-09-01T01:25:37.006+00:00\"},\"s\":\"W\",  \"c\":\"CONTROL\",  \"id\":636300,  \"ctx\":\"ftdc\",\"msg\":\"Use of deprecated server parameter name\",\"attr\":{\"deprecatedName\":\"oplogSamplingLogIntervalSeconds\",\"canonicalName\":\"collectionSamplingLogIntervalSeconds\"}}\n",
      "{\"t\":{\"$date\":\"2025-09-01T01:25:37.006+00:00\"},\"s\":\"W\",  \"c\":\"NETWORK\",  \"id\":23803,   \"ctx\":\"ftdc\",\"msg\":\"Use of deprecated server parameter 'sslMode', please use 'tlsMode' instead.\"}\n",
      "{\"t\":{\"$date\":\"2025-09-01T01:25:37.006+00:00\"},\"s\":\"W\",  \"c\":\"CONTROL\",  \"id\":636300,  \"ctx\":\"ftdc\",\"msg\":\"Use of deprecated server parameter name\",\"attr\":{\"deprecatedName\":\"wiredTigerConcurrentReadTransactions\",\"canonicalName\":\"storageEngineConcurrentReadTransactions\"}}\n",
      "{\"t\":{\"$date\":\"2025-09-01T01:25:37.006+00:00\"},\"s\":\"W\",  \"c\":\"CONTROL\",  \"id\":636300,  \"ctx\":\"ftdc\",\"msg\":\"Use of deprecated server parameter name\",\"attr\":{\"deprecatedName\":\"wiredTigerConcurrentWriteTransactions\",\"canonicalName\":\"storageEngineConcurrentWriteTransactions\"}}\n",
      "{\"t\":{\"$date\":\"2025-09-01T01:25:37.046+00:00\"},\"s\":\"I\",  \"c\":\"INDEX\",    \"id\":20345,   \"ctx\":\"conn5\",\"msg\":\"Index build: done building\",\"attr\":{\"buildUUID\":null,\"collectionUUID\":{\"uuid\":{\"$uuid\":\"196f5d32-583b-46b5-af1a-eecedffb4eea\"}},\"namespace\":\"admin.system.users\",\"index\":\"_id_\",\"ident\":\"index-8-3774668179759017395\",\"collectionIdent\":\"collection-7-3774668179759017395\",\"commitTimestamp\":null}}\n",
      "{\"t\":{\"$date\":\"2025-09-01T01:25:37.046+00:00\"},\"s\":\"I\",  \"c\":\"INDEX\",    \"id\":20345,   \"ctx\":\"conn5\",\"msg\":\"Index build: done building\",\"attr\":{\"buildUUID\":null,\"collectionUUID\":{\"uuid\":{\"$uuid\":\"196f5d32-583b-46b5-af1a-eecedffb4eea\"}},\"namespace\":\"admin.system.users\",\"index\":\"user_1_db_1\",\"ident\":\"index-9-3774668179759017395\",\"collectionIdent\":\"collection-7-3774668179759017395\",\"commitTimestamp\":null}}\n",
      "{ ok: 1 }\n",
      "admin> {\"t\":{\"$date\":\"2025-09-01T01:25:37.051+00:00\"},\"s\":\"I\",  \"c\":\"NETWORK\",  \"id\":22944,   \"ctx\":\"conn2\",\"msg\":\"Connection ended\",\"attr\":{\"remote\":\"127.0.0.1:41808\",\"uuid\":{\"uuid\":{\"$uuid\":\"7fe30f7b-2f7e-4735-b472-c94d0c3ccd26\"}},\"connectionId\":2,\"connectionCount\":3}}\n",
      "{\"t\":{\"$date\":\"2025-09-01T01:25:37.051+00:00\"},\"s\":\"I\",  \"c\":\"NETWORK\",  \"id\":22944,   \"ctx\":\"conn5\",\"msg\":\"Connection ended\",\"attr\":{\"remote\":\"127.0.0.1:41840\",\"uuid\":{\"uuid\":{\"$uuid\":\"fb277145-df39-473f-a07c-673a07d66018\"}},\"connectionId\":5,\"connectionCount\":2}}\n",
      "{\"t\":{\"$date\":\"2025-09-01T01:25:37.052+00:00\"},\"s\":\"I\",  \"c\":\"NETWORK\",  \"id\":22944,   \"ctx\":\"conn4\",\"msg\":\"Connection ended\",\"attr\":{\"remote\":\"127.0.0.1:41838\",\"uuid\":{\"uuid\":{\"$uuid\":\"d4ede413-2356-4d60-92d4-1bf3c0ca281a\"}},\"connectionId\":4,\"connectionCount\":1}}\n",
      "{\"t\":{\"$date\":\"2025-09-01T01:25:37.052+00:00\"},\"s\":\"I\",  \"c\":\"NETWORK\",  \"id\":22944,   \"ctx\":\"conn3\",\"msg\":\"Connection ended\",\"attr\":{\"remote\":\"127.0.0.1:41822\",\"uuid\":{\"uuid\":{\"$uuid\":\"92667202-6936-4747-8be6-eddd77be0045\"}},\"connectionId\":3,\"connectionCount\":0}}\n",
      "\n",
      "/usr/local/bin/docker-entrypoint.sh: running /docker-entrypoint-initdb.d/mongo-init.js\n",
      "{\"t\":{\"$date\":\"2025-09-01T01:25:37.317+00:00\"},\"s\":\"I\",  \"c\":\"NETWORK\",  \"id\":22943,   \"ctx\":\"listener\",\"msg\":\"Connection accepted\",\"attr\":{\"remote\":\"127.0.0.1:41844\",\"uuid\":{\"uuid\":{\"$uuid\":\"7283b625-c063-4537-9773-a0a14c35ca1f\"}},\"connectionId\":6,\"connectionCount\":1}}\n",
      "{\"t\":{\"$date\":\"2025-09-01T01:25:37.319+00:00\"},\"s\":\"I\",  \"c\":\"NETWORK\",  \"id\":51800,   \"ctx\":\"conn6\",\"msg\":\"client metadata\",\"attr\":{\"remote\":\"127.0.0.1:41844\",\"client\":\"conn6\",\"negotiatedCompressors\":[],\"doc\":{\"application\":{\"name\":\"mongosh 2.3.1\"},\"driver\":{\"name\":\"nodejs|mongosh\",\"version\":\"6.8.0|2.3.1\"},\"platform\":\"Node.js v20.17.0, LE\",\"os\":{\"name\":\"linux\",\"architecture\":\"x64\",\"version\":\"3.10.0-327.22.2.el7.x86_64\",\"type\":\"Linux\"},\"env\":{\"container\":{\"runtime\":\"docker\",\"orchestrator\":\"kubernetes\"}}}}}\n",
      "{\"t\":{\"$date\":\"2025-09-01T01:25:37.339+00:00\"},\"s\":\"I\",  \"c\":\"NETWORK\",  \"id\":22943,   \"ctx\":\"listener\",\"msg\":\"Connection accepted\",\"attr\":{\"remote\":\"127.0.0.1:41850\",\"uuid\":{\"uuid\":{\"$uuid\":\"999d7e67-609d-421a-af1a-0e446044a402\"}},\"connectionId\":7,\"connectionCount\":2}}\n",
      "{\"t\":{\"$date\":\"2025-09-01T01:25:37.339+00:00\"},\"s\":\"I\",  \"c\":\"NETWORK\",  \"id\":22943,   \"ctx\":\"listener\",\"msg\":\"Connection accepted\",\"attr\":{\"remote\":\"127.0.0.1:41858\",\"uuid\":{\"uuid\":{\"$uuid\":\"79697e25-1255-4592-8bf3-243ca682ddc8\"}},\"connectionId\":8,\"connectionCount\":3}}\n",
      "{\"t\":{\"$date\":\"2025-09-01T01:25:37.339+00:00\"},\"s\":\"I\",  \"c\":\"NETWORK\",  \"id\":51800,   \"ctx\":\"conn7\",\"msg\":\"client metadata\",\"attr\":{\"remote\":\"127.0.0.1:41850\",\"client\":\"conn7\",\"negotiatedCompressors\":[],\"doc\":{\"application\":{\"name\":\"mongosh 2.3.1\"},\"driver\":{\"name\":\"nodejs|mongosh\",\"version\":\"6.8.0|2.3.1\"},\"platform\":\"Node.js v20.17.0, LE\",\"os\":{\"name\":\"linux\",\"architecture\":\"x64\",\"version\":\"3.10.0-327.22.2.el7.x86_64\",\"type\":\"Linux\"},\"env\":{\"container\":{\"runtime\":\"docker\",\"orchestrator\":\"kubernetes\"}}}}}\n",
      "{\"t\":{\"$date\":\"2025-09-01T01:25:37.340+00:00\"},\"s\":\"I\",  \"c\":\"NETWORK\",  \"id\":51800,   \"ctx\":\"conn8\",\"msg\":\"client metadata\",\"attr\":{\"remote\":\"127.0.0.1:41858\",\"client\":\"conn8\",\"negotiatedCompressors\":[],\"doc\":{\"application\":{\"name\":\"mongosh 2.3.1\"},\"driver\":{\"name\":\"nodejs|mongosh\",\"version\":\"6.8.0|2.3.1\"},\"platform\":\"Node.js v20.17.0, LE\",\"os\":{\"name\":\"linux\",\"architecture\":\"x64\",\"version\":\"3.10.0-327.22.2.el7.x86_64\",\"type\":\"Linux\"},\"env\":{\"container\":{\"runtime\":\"docker\",\"orchestrator\":\"kubernetes\"}}}}}\n",
      "{\"t\":{\"$date\":\"2025-09-01T01:25:37.340+00:00\"},\"s\":\"I\",  \"c\":\"NETWORK\",  \"id\":6788700, \"ctx\":\"conn7\",\"msg\":\"Received first command on ingress connection since session start or auth handshake\",\"attr\":{\"elapsedMillis\":1}}\n",
      "{\"t\":{\"$date\":\"2025-09-01T01:25:37.341+00:00\"},\"s\":\"I\",  \"c\":\"NETWORK\",  \"id\":22943,   \"ctx\":\"listener\",\"msg\":\"Connection accepted\",\"attr\":{\"remote\":\"127.0.0.1:41862\",\"uuid\":{\"uuid\":{\"$uuid\":\"ea1af5e8-e26a-464e-bdca-65e6e647a4fd\"}},\"connectionId\":9,\"connectionCount\":4}}\n",
      "{\"t\":{\"$date\":\"2025-09-01T01:25:37.342+00:00\"},\"s\":\"I\",  \"c\":\"NETWORK\",  \"id\":51800,   \"ctx\":\"conn9\",\"msg\":\"client metadata\",\"attr\":{\"remote\":\"127.0.0.1:41862\",\"client\":\"conn9\",\"negotiatedCompressors\":[],\"doc\":{\"application\":{\"name\":\"mongosh 2.3.1\"},\"driver\":{\"name\":\"nodejs|mongosh\",\"version\":\"6.8.0|2.3.1\"},\"platform\":\"Node.js v20.17.0, LE\",\"os\":{\"name\":\"linux\",\"architecture\":\"x64\",\"version\":\"3.10.0-327.22.2.el7.x86_64\",\"type\":\"Linux\"},\"env\":{\"container\":{\"runtime\":\"docker\",\"orchestrator\":\"kubernetes\"}}}}}\n",
      "INITIALIZING: colordb\n",
      "INITIALIZING: Creating user colordb_user\n",
      "{\"t\":{\"$date\":\"2025-09-01T01:25:37.363+00:00\"},\"s\":\"I\",  \"c\":\"NETWORK\",  \"id\":6788700, \"ctx\":\"conn9\",\"msg\":\"Received first command on ingress connection since session start or auth handshake\",\"attr\":{\"elapsedMillis\":20}}\n",
      "INITIALIZING: Success\n",
      "{\"t\":{\"$date\":\"2025-09-01T01:25:37.383+00:00\"},\"s\":\"I\",  \"c\":\"NETWORK\",  \"id\":22944,   \"ctx\":\"conn7\",\"msg\":\"Connection ended\",\"attr\":{\"remote\":\"127.0.0.1:41850\",\"uuid\":{\"uuid\":{\"$uuid\":\"999d7e67-609d-421a-af1a-0e446044a402\"}},\"connectionId\":7,\"connectionCount\":3}}\n",
      "\n",
      "\n",
      "{\"t\":{\"$date\":\"2025-09-01T01:25:37.383+00:00\"},\"s\":\"I\",  \"c\":\"NETWORK\",  \"id\":22944,   \"ctx\":\"conn8\",\"msg\":\"Connection ended\",\"attr\":{\"remote\":\"127.0.0.1:41858\",\"uuid\":{\"uuid\":{\"$uuid\":\"79697e25-1255-4592-8bf3-243ca682ddc8\"}},\"connectionId\":8,\"connectionCount\":2}}\n",
      "{\"t\":{\"$date\":\"2025-09-01T01:25:37.383+00:00\"},\"s\":\"I\",  \"c\":\"NETWORK\",  \"id\":22944,   \"ctx\":\"conn6\",\"msg\":\"Connection ended\",\"attr\":{\"remote\":\"127.0.0.1:41844\",\"uuid\":{\"uuid\":{\"$uuid\":\"7283b625-c063-4537-9773-a0a14c35ca1f\"}},\"connectionId\":6,\"connectionCount\":1}}\n",
      "{\"t\":{\"$date\":\"2025-09-01T01:25:37.384+00:00\"},\"s\":\"I\",  \"c\":\"NETWORK\",  \"id\":22944,   \"ctx\":\"conn9\",\"msg\":\"Connection ended\",\"attr\":{\"remote\":\"127.0.0.1:41862\",\"uuid\":{\"uuid\":{\"$uuid\":\"ea1af5e8-e26a-464e-bdca-65e6e647a4fd\"}},\"connectionId\":9,\"connectionCount\":0}}\n",
      "\n",
      "{\"t\":{\"$date\":\"2025-09-01T01:25:37.405+00:00\"},\"s\":\"I\",  \"c\":\"CONTROL\",  \"id\":20698,   \"ctx\":\"main\",\"msg\":\"***** SERVER RESTARTED *****\"}\n",
      "{\"t\":{\"$date\":\"2025-09-01T01:25:37.407+00:00\"},\"s\":\"I\",  \"c\":\"CONTROL\",  \"id\":23285,   \"ctx\":\"main\",\"msg\":\"Automatically disabling TLS 1.0, to force-enable TLS 1.0 specify --sslDisabledProtocols 'none'\"}\n",
      "{\"t\":{\"$date\":\"2025-09-01T01:25:37.408+00:00\"},\"s\":\"I\",  \"c\":\"CONTROL\",  \"id\":5945603, \"ctx\":\"main\",\"msg\":\"Multi threading initialized\"}\n",
      "{\"t\":{\"$date\":\"2025-09-01T01:25:37.408+00:00\"},\"s\":\"I\",  \"c\":\"NETWORK\",  \"id\":4648601, \"ctx\":\"main\",\"msg\":\"Implicit TCP FastOpen unavailable. If TCP FastOpen is required, set at least one of the related parameters\",\"attr\":{\"relatedParameters\":[\"tcpFastOpenServer\",\"tcpFastOpenClient\",\"tcpFastOpenQueueSize\"]}}\n",
      "{\"t\":{\"$date\":\"2025-09-01T01:25:37.409+00:00\"},\"s\":\"I\",  \"c\":\"NETWORK\",  \"id\":4915701, \"ctx\":\"main\",\"msg\":\"Initialized wire specification\",\"attr\":{\"spec\":{\"incomingExternalClient\":{\"minWireVersion\":0,\"maxWireVersion\":25},\"incomingInternalClient\":{\"minWireVersion\":0,\"maxWireVersion\":25},\"outgoing\":{\"minWireVersion\":6,\"maxWireVersion\":25},\"isInternalClient\":true}}}\n",
      "Killing process with pid: 29\n",
      "{\"t\":{\"$date\":\"2025-09-01T01:25:37.409+00:00\"},\"s\":\"I\",  \"c\":\"CONTROL\",  \"id\":23377,   \"ctx\":\"SignalHandler\",\"msg\":\"Received signal\",\"attr\":{\"signal\":15,\"error\":\"Terminated\"}}\n",
      "{\"t\":{\"$date\":\"2025-09-01T01:25:37.409+00:00\"},\"s\":\"I\",  \"c\":\"CONTROL\",  \"id\":23378,   \"ctx\":\"SignalHandler\",\"msg\":\"Signal was sent by kill(2)\",\"attr\":{\"pid\":125,\"uid\":999}}\n",
      "{\"t\":{\"$date\":\"2025-09-01T01:25:37.409+00:00\"},\"s\":\"I\",  \"c\":\"CONTROL\",  \"id\":23381,   \"ctx\":\"SignalHandler\",\"msg\":\"will terminate after current cmd ends\"}\n",
      "{\"t\":{\"$date\":\"2025-09-01T01:25:37.409+00:00\"},\"s\":\"I\",  \"c\":\"REPL\",     \"id\":4784900, \"ctx\":\"SignalHandler\",\"msg\":\"Stepping down the ReplicationCoordinator for shutdown\",\"attr\":{\"waitTimeMillis\":15000}}\n",
      "{\"t\":{\"$date\":\"2025-09-01T01:25:37.409+00:00\"},\"s\":\"I\",  \"c\":\"REPL\",     \"id\":4794602, \"ctx\":\"SignalHandler\",\"msg\":\"Attempting to enter quiesce mode\"}\n",
      "{\"t\":{\"$date\":\"2025-09-01T01:25:37.409+00:00\"},\"s\":\"I\",  \"c\":\"STORAGE\",  \"id\":7333402, \"ctx\":\"SignalHandler\",\"msg\":\"Shutting down the DiskSpaceMonitor\"}\n",
      "{\"t\":{\"$date\":\"2025-09-01T01:25:37.410+00:00\"},\"s\":\"I\",  \"c\":\"-\",        \"id\":6371601, \"ctx\":\"SignalHandler\",\"msg\":\"Shutting down the FLE Crud thread pool\"}\n",
      "{\"t\":{\"$date\":\"2025-09-01T01:25:37.410+00:00\"},\"s\":\"I\",  \"c\":\"COMMAND\",  \"id\":4784901, \"ctx\":\"SignalHandler\",\"msg\":\"Shutting down the MirrorMaestro\"}\n",
      "{\"t\":{\"$date\":\"2025-09-01T01:25:37.410+00:00\"},\"s\":\"I\",  \"c\":\"SHARDING\", \"id\":4784902, \"ctx\":\"SignalHandler\",\"msg\":\"Shutting down the WaitForMajorityService\"}\n",
      "{\"t\":{\"$date\":\"2025-09-01T01:25:37.410+00:00\"},\"s\":\"I\",  \"c\":\"CONTROL\",  \"id\":4784903, \"ctx\":\"SignalHandler\",\"msg\":\"Shutting down the LogicalSessionCache\"}\n",
      "{\"t\":{\"$date\":\"2025-09-01T01:25:37.410+00:00\"},\"s\":\"I\",  \"c\":\"NETWORK\",  \"id\":8314100, \"ctx\":\"SignalHandler\",\"msg\":\"Shutdown: Closing listener sockets\"}\n",
      "{\"t\":{\"$date\":\"2025-09-01T01:25:37.410+00:00\"},\"s\":\"I\",  \"c\":\"NETWORK\",  \"id\":23017,   \"ctx\":\"listener\",\"msg\":\"removing socket file\",\"attr\":{\"path\":\"/tmp/mongodb-27017.sock\"}}\n",
      "{\"t\":{\"$date\":\"2025-09-01T01:25:37.411+00:00\"},\"s\":\"I\",  \"c\":\"NETWORK\",  \"id\":4784905, \"ctx\":\"SignalHandler\",\"msg\":\"Shutting down the global connection pool\"}\n",
      "{\"t\":{\"$date\":\"2025-09-01T01:25:37.411+00:00\"},\"s\":\"I\",  \"c\":\"CONTROL\",  \"id\":4784906, \"ctx\":\"SignalHandler\",\"msg\":\"Shutting down the FlowControlTicketholder\"}\n",
      "{\"t\":{\"$date\":\"2025-09-01T01:25:37.411+00:00\"},\"s\":\"I\",  \"c\":\"-\",        \"id\":20520,   \"ctx\":\"SignalHandler\",\"msg\":\"Stopping further Flow Control ticket acquisitions.\"}\n",
      "{\"t\":{\"$date\":\"2025-09-01T01:25:37.411+00:00\"},\"s\":\"I\",  \"c\":\"CONTROL\",  \"id\":4784908, \"ctx\":\"SignalHandler\",\"msg\":\"Shutting down the PeriodicThreadToAbortExpiredTransactions\"}\n",
      "{\"t\":{\"$date\":\"2025-09-01T01:25:37.411+00:00\"},\"s\":\"I\",  \"c\":\"REPL\",     \"id\":4784909, \"ctx\":\"SignalHandler\",\"msg\":\"Shutting down the ReplicationCoordinator\"}\n",
      "{\"t\":{\"$date\":\"2025-09-01T01:25:37.411+00:00\"},\"s\":\"I\",  \"c\":\"SHARDING\", \"id\":4784910, \"ctx\":\"SignalHandler\",\"msg\":\"Shutting down the ShardingInitializationMongoD\"}\n",
      "{\"t\":{\"$date\":\"2025-09-01T01:25:37.411+00:00\"},\"s\":\"I\",  \"c\":\"REPL\",     \"id\":4784911, \"ctx\":\"SignalHandler\",\"msg\":\"Enqueuing the ReplicationStateTransitionLock for shutdown\"}\n",
      "{\"t\":{\"$date\":\"2025-09-01T01:25:37.411+00:00\"},\"s\":\"I\",  \"c\":\"-\",        \"id\":4784912, \"ctx\":\"SignalHandler\",\"msg\":\"Killing all operations for shutdown\"}\n",
      "{\"t\":{\"$date\":\"2025-09-01T01:25:37.411+00:00\"},\"s\":\"I\",  \"c\":\"-\",        \"id\":4695300, \"ctx\":\"SignalHandler\",\"msg\":\"Interrupted all currently running operations\",\"attr\":{\"opsKilled\":3}}\n",
      "{\"t\":{\"$date\":\"2025-09-01T01:25:37.411+00:00\"},\"s\":\"I\",  \"c\":\"TENANT_M\", \"id\":5093807, \"ctx\":\"SignalHandler\",\"msg\":\"Shutting down all TenantMigrationAccessBlockers on global shutdown\"}\n",
      "{\"t\":{\"$date\":\"2025-09-01T01:25:37.411+00:00\"},\"s\":\"I\",  \"c\":\"ASIO\",     \"id\":22582,   \"ctx\":\"TenantMigrationBlockerNet\",\"msg\":\"Killing all outstanding egress activity.\"}\n",
      "{\"t\":{\"$date\":\"2025-09-01T01:25:37.411+00:00\"},\"s\":\"I\",  \"c\":\"ASIO\",     \"id\":6529201, \"ctx\":\"SignalHandler\",\"msg\":\"Network interface redundant shutdown\",\"attr\":{\"state\":\"Stopped\"}}\n",
      "{\"t\":{\"$date\":\"2025-09-01T01:25:37.411+00:00\"},\"s\":\"I\",  \"c\":\"ASIO\",     \"id\":22582,   \"ctx\":\"SignalHandler\",\"msg\":\"Killing all outstanding egress activity.\"}\n",
      "{\"t\":{\"$date\":\"2025-09-01T01:25:37.411+00:00\"},\"s\":\"I\",  \"c\":\"COMMAND\",  \"id\":4784913, \"ctx\":\"SignalHandler\",\"msg\":\"Shutting down all open transactions\"}\n",
      "{\"t\":{\"$date\":\"2025-09-01T01:25:37.411+00:00\"},\"s\":\"I\",  \"c\":\"REPL\",     \"id\":4784914, \"ctx\":\"SignalHandler\",\"msg\":\"Acquiring the ReplicationStateTransitionLock for shutdown\"}\n",
      "{\"t\":{\"$date\":\"2025-09-01T01:25:37.411+00:00\"},\"s\":\"I\",  \"c\":\"INDEX\",    \"id\":4784915, \"ctx\":\"SignalHandler\",\"msg\":\"Shutting down the IndexBuildsCoordinator\"}\n",
      "{\"t\":{\"$date\":\"2025-09-01T01:25:37.411+00:00\"},\"s\":\"I\",  \"c\":\"NETWORK\",  \"id\":4784918, \"ctx\":\"SignalHandler\",\"msg\":\"Shutting down the ReplicaSetMonitor\"}\n",
      "{\"t\":{\"$date\":\"2025-09-01T01:25:37.411+00:00\"},\"s\":\"I\",  \"c\":\"SHARDING\", \"id\":4784921, \"ctx\":\"SignalHandler\",\"msg\":\"Shutting down the MigrationUtilExecutor\"}\n",
      "{\"t\":{\"$date\":\"2025-09-01T01:25:37.411+00:00\"},\"s\":\"I\",  \"c\":\"ASIO\",     \"id\":22582,   \"ctx\":\"MigrationUtil-TaskExecutor\",\"msg\":\"Killing all outstanding egress activity.\"}\n",
      "{\"t\":{\"$date\":\"2025-09-01T01:25:37.411+00:00\"},\"s\":\"I\",  \"c\":\"NETWORK\",  \"id\":20562,   \"ctx\":\"SignalHandler\",\"msg\":\"Shutdown: Closing open transport sessions\"}\n",
      "{\"t\":{\"$date\":\"2025-09-01T01:25:37.411+00:00\"},\"s\":\"I\",  \"c\":\"NETWORK\",  \"id\":4784923, \"ctx\":\"SignalHandler\",\"msg\":\"Shutting down the ASIO transport SessionManager\"}\n",
      "{\"t\":{\"$date\":\"2025-09-01T01:25:37.411+00:00\"},\"s\":\"I\",  \"c\":\"CONTROL\",  \"id\":4784927, \"ctx\":\"SignalHandler\",\"msg\":\"Shutting down the HealthLog\"}\n",
      "{\"t\":{\"$date\":\"2025-09-01T01:25:37.411+00:00\"},\"s\":\"I\",  \"c\":\"CONTROL\",  \"id\":4784928, \"ctx\":\"SignalHandler\",\"msg\":\"Shutting down the TTL monitor\"}\n",
      "{\"t\":{\"$date\":\"2025-09-01T01:25:37.411+00:00\"},\"s\":\"I\",  \"c\":\"INDEX\",    \"id\":3684100, \"ctx\":\"SignalHandler\",\"msg\":\"Shutting down TTL collection monitor thread\"}\n",
      "{\"t\":{\"$date\":\"2025-09-01T01:25:37.411+00:00\"},\"s\":\"I\",  \"c\":\"INDEX\",    \"id\":3684101, \"ctx\":\"SignalHandler\",\"msg\":\"Finished shutting down TTL collection monitor thread\"}\n",
      "{\"t\":{\"$date\":\"2025-09-01T01:25:37.411+00:00\"},\"s\":\"I\",  \"c\":\"CONTROL\",  \"id\":6278511, \"ctx\":\"SignalHandler\",\"msg\":\"Shutting down the Change Stream Expired Pre-images Remover\"}\n",
      "{\"t\":{\"$date\":\"2025-09-01T01:25:37.411+00:00\"},\"s\":\"I\",  \"c\":\"CONTROL\",  \"id\":4784929, \"ctx\":\"SignalHandler\",\"msg\":\"Acquiring the global lock for shutdown\"}\n",
      "{\"t\":{\"$date\":\"2025-09-01T01:25:37.411+00:00\"},\"s\":\"I\",  \"c\":\"CONTROL\",  \"id\":4784930, \"ctx\":\"SignalHandler\",\"msg\":\"Shutting down the storage engine\"}\n",
      "{\"t\":{\"$date\":\"2025-09-01T01:25:37.411+00:00\"},\"s\":\"I\",  \"c\":\"STORAGE\",  \"id\":22320,   \"ctx\":\"SignalHandler\",\"msg\":\"Shutting down journal flusher thread\"}\n",
      "{\"t\":{\"$date\":\"2025-09-01T01:25:37.411+00:00\"},\"s\":\"I\",  \"c\":\"STORAGE\",  \"id\":22321,   \"ctx\":\"SignalHandler\",\"msg\":\"Finished shutting down journal flusher thread\"}\n",
      "{\"t\":{\"$date\":\"2025-09-01T01:25:37.411+00:00\"},\"s\":\"I\",  \"c\":\"STORAGE\",  \"id\":22322,   \"ctx\":\"SignalHandler\",\"msg\":\"Shutting down checkpoint thread\"}\n",
      "{\"t\":{\"$date\":\"2025-09-01T01:25:37.411+00:00\"},\"s\":\"I\",  \"c\":\"STORAGE\",  \"id\":22323,   \"ctx\":\"SignalHandler\",\"msg\":\"Finished shutting down checkpoint thread\"}\n",
      "{\"t\":{\"$date\":\"2025-09-01T01:25:37.411+00:00\"},\"s\":\"I\",  \"c\":\"STORAGE\",  \"id\":22261,   \"ctx\":\"SignalHandler\",\"msg\":\"Timestamp monitor shutting down\"}\n",
      "{\"t\":{\"$date\":\"2025-09-01T01:25:37.411+00:00\"},\"s\":\"I\",  \"c\":\"STORAGE\",  \"id\":20282,   \"ctx\":\"SignalHandler\",\"msg\":\"Deregistering all the collections\"}\n",
      "{\"t\":{\"$date\":\"2025-09-01T01:25:37.411+00:00\"},\"s\":\"I\",  \"c\":\"STORAGE\",  \"id\":22317,   \"ctx\":\"SignalHandler\",\"msg\":\"WiredTigerKVEngine shutting down\"}\n",
      "{\"t\":{\"$date\":\"2025-09-01T01:25:37.411+00:00\"},\"s\":\"I\",  \"c\":\"STORAGE\",  \"id\":22318,   \"ctx\":\"SignalHandler\",\"msg\":\"Shutting down session sweeper thread\"}\n",
      "{\"t\":{\"$date\":\"2025-09-01T01:25:37.412+00:00\"},\"s\":\"I\",  \"c\":\"STORAGE\",  \"id\":22319,   \"ctx\":\"SignalHandler\",\"msg\":\"Finished shutting down session sweeper thread\"}\n",
      "{\"t\":{\"$date\":\"2025-09-01T01:25:37.422+00:00\"},\"s\":\"I\",  \"c\":\"STORAGE\",  \"id\":4795902, \"ctx\":\"SignalHandler\",\"msg\":\"Closing WiredTiger\",\"attr\":{\"closeConfig\":\"leak_memory=true,use_timestamp=false,\"}}\n",
      "{\"t\":{\"$date\":\"2025-09-01T01:25:37.423+00:00\"},\"s\":\"I\",  \"c\":\"WTCHKPT\",  \"id\":22430,   \"ctx\":\"SignalHandler\",\"msg\":\"WiredTiger message\",\"attr\":{\"message\":{\"ts_sec\":1756689937,\"ts_usec\":423397,\"thread\":\"29:0x78d9421146c0\",\"session_name\":\"close_ckpt\",\"category\":\"WT_VERB_CHECKPOINT_PROGRESS\",\"category_id\":7,\"verbose_level\":\"DEBUG_1\",\"verbose_level_id\":1,\"msg\":\"saving checkpoint snapshot min: 47, snapshot max: 47 snapshot count: 0, oldest timestamp: (0, 0) , meta checkpoint timestamp: (0, 0) base write gen: 1\"}}}\n",
      "{\"t\":{\"$date\":\"2025-09-01T01:25:37.519+00:00\"},\"s\":\"I\",  \"c\":\"WTRECOV\",  \"id\":22430,   \"ctx\":\"SignalHandler\",\"msg\":\"WiredTiger message\",\"attr\":{\"message\":{\"ts_sec\":1756689937,\"ts_usec\":519153,\"thread\":\"29:0x78d9421146c0\",\"session_name\":\"WT_CONNECTION.close\",\"category\":\"WT_VERB_RECOVERY_PROGRESS\",\"category_id\":34,\"verbose_level\":\"DEBUG_1\",\"verbose_level_id\":1,\"msg\":\"shutdown checkpoint has successfully finished and ran for 96 milliseconds\"}}}\n",
      "{\"t\":{\"$date\":\"2025-09-01T01:25:37.519+00:00\"},\"s\":\"I\",  \"c\":\"WTRECOV\",  \"id\":22430,   \"ctx\":\"SignalHandler\",\"msg\":\"WiredTiger message\",\"attr\":{\"message\":{\"ts_sec\":1756689937,\"ts_usec\":519359,\"thread\":\"29:0x78d9421146c0\",\"session_name\":\"WT_CONNECTION.close\",\"category\":\"WT_VERB_RECOVERY_PROGRESS\",\"category_id\":34,\"verbose_level\":\"DEBUG_1\",\"verbose_level_id\":1,\"msg\":\"shutdown was completed successfully and took 97ms, including 0ms for the rollback to stable, and 96ms for the checkpoint.\"}}}\n",
      "{\"t\":{\"$date\":\"2025-09-01T01:25:37.548+00:00\"},\"s\":\"I\",  \"c\":\"STORAGE\",  \"id\":4795901, \"ctx\":\"SignalHandler\",\"msg\":\"WiredTiger closed\",\"attr\":{\"durationMillis\":126}}\n",
      "{\"t\":{\"$date\":\"2025-09-01T01:25:37.548+00:00\"},\"s\":\"I\",  \"c\":\"STORAGE\",  \"id\":22279,   \"ctx\":\"SignalHandler\",\"msg\":\"shutdown: removing fs lock...\"}\n",
      "{\"t\":{\"$date\":\"2025-09-01T01:25:37.548+00:00\"},\"s\":\"I\",  \"c\":\"-\",        \"id\":4784931, \"ctx\":\"SignalHandler\",\"msg\":\"Dropping the scope cache for shutdown\"}\n",
      "{\"t\":{\"$date\":\"2025-09-01T01:25:37.548+00:00\"},\"s\":\"I\",  \"c\":\"FTDC\",     \"id\":20626,   \"ctx\":\"SignalHandler\",\"msg\":\"Shutting down full-time diagnostic data capture\"}\n",
      "{\"t\":{\"$date\":\"2025-09-01T01:25:37.550+00:00\"},\"s\":\"I\",  \"c\":\"CONTROL\",  \"id\":20565,   \"ctx\":\"SignalHandler\",\"msg\":\"Now exiting\"}\n",
      "{\"t\":{\"$date\":\"2025-09-01T01:25:37.550+00:00\"},\"s\":\"I\",  \"c\":\"CONTROL\",  \"id\":8423404, \"ctx\":\"SignalHandler\",\"msg\":\"mongod shutdown complete\",\"attr\":{\"Summary of time elapsed\":{\"Statistics\":{\"Enter terminal shutdown\":\"0 ms\",\"Step down the replication coordinator for shutdown\":\"0 ms\",\"Time spent in quiesce mode\":\"0 ms\",\"Shut down FLE Crud subsystem\":\"1 ms\",\"Shut down MirrorMaestro\":\"0 ms\",\"Shut down WaitForMajorityService\":\"0 ms\",\"Shut down the logical session cache\":\"0 ms\",\"Shut down the global connection pool\":\"1 ms\",\"Shut down the flow control ticket holder\":\"0 ms\",\"Shut down the thread that aborts expired transactions\":\"0 ms\",\"Kill all operations for shutdown\":\"0 ms\",\"Shut down all tenant migration access blockers on global shutdown\":\"0 ms\",\"Shut down all open transactions\":\"0 ms\",\"Acquire the RSTL for shutdown\":\"0 ms\",\"Shut down the IndexBuildsCoordinator and wait for index builds to finish\":\"0 ms\",\"Shut down the replica set monitor\":\"0 ms\",\"Shut down the migration util executor\":\"0 ms\",\"Shut down the transport layer\":\"0 ms\",\"Shut down the health log\":\"0 ms\",\"Shut down the TTL monitor\":\"0 ms\",\"Shut down expired pre-images and documents removers\":\"0 ms\",\"Shut down the storage engine\":\"137 ms\",\"Wait for the oplog cap maintainer thread to stop\":\"0 ms\",\"Shut down full-time data capture\":\"0 ms\",\"Shut down online certificate status protocol manager\":\"0 ms\",\"shutdownTask total elapsed time\":\"141 ms\"}}}}\n",
      "{\"t\":{\"$date\":\"2025-09-01T01:25:37.550+00:00\"},\"s\":\"I\",  \"c\":\"CONTROL\",  \"id\":23138,   \"ctx\":\"SignalHandler\",\"msg\":\"Shutting down\",\"attr\":{\"exitCode\":0}}\n",
      "\n",
      "MongoDB init process complete; ready for start up.\n",
      "\n",
      "{\"t\":{\"$date\":\"2025-09-01T01:25:38.436+00:00\"},\"s\":\"I\",  \"c\":\"CONTROL\",  \"id\":23285,   \"ctx\":\"main\",\"msg\":\"Automatically disabling TLS 1.0, to force-enable TLS 1.0 specify --sslDisabledProtocols 'none'\"}\n",
      "{\"t\":{\"$date\":\"2025-09-01T01:25:38.437+00:00\"},\"s\":\"I\",  \"c\":\"CONTROL\",  \"id\":5945603, \"ctx\":\"main\",\"msg\":\"Multi threading initialized\"}\n",
      "{\"t\":{\"$date\":\"2025-09-01T01:25:38.437+00:00\"},\"s\":\"I\",  \"c\":\"NETWORK\",  \"id\":4648601, \"ctx\":\"main\",\"msg\":\"Implicit TCP FastOpen unavailable. If TCP FastOpen is required, set at least one of the related parameters\",\"attr\":{\"relatedParameters\":[\"tcpFastOpenServer\",\"tcpFastOpenClient\",\"tcpFastOpenQueueSize\"]}}\n",
      "{\"t\":{\"$date\":\"2025-09-01T01:25:38.437+00:00\"},\"s\":\"I\",  \"c\":\"NETWORK\",  \"id\":4915701, \"ctx\":\"main\",\"msg\":\"Initialized wire specification\",\"attr\":{\"spec\":{\"incomingExternalClient\":{\"minWireVersion\":0,\"maxWireVersion\":25},\"incomingInternalClient\":{\"minWireVersion\":0,\"maxWireVersion\":25},\"outgoing\":{\"minWireVersion\":6,\"maxWireVersion\":25},\"isInternalClient\":true}}}\n",
      "{\"t\":{\"$date\":\"2025-09-01T01:25:38.438+00:00\"},\"s\":\"I\",  \"c\":\"TENANT_M\", \"id\":7091600, \"ctx\":\"main\",\"msg\":\"Starting TenantMigrationAccessBlockerRegistry\"}\n",
      "{\"t\":{\"$date\":\"2025-09-01T01:25:38.438+00:00\"},\"s\":\"I\",  \"c\":\"CONTROL\",  \"id\":4615611, \"ctx\":\"initandlisten\",\"msg\":\"MongoDB starting\",\"attr\":{\"pid\":1,\"port\":27017,\"dbPath\":\"/data/db\",\"architecture\":\"64-bit\",\"host\":\"mongodb-ss-0\"}}\n",
      "{\"t\":{\"$date\":\"2025-09-01T01:25:38.438+00:00\"},\"s\":\"I\",  \"c\":\"CONTROL\",  \"id\":23403,   \"ctx\":\"initandlisten\",\"msg\":\"Build Info\",\"attr\":{\"buildInfo\":{\"version\":\"8.0.0\",\"gitVersion\":\"d7cd03b239ac39a3c7d63f7145e91aca36f93db6\",\"openSSLVersion\":\"OpenSSL 3.0.13 30 Jan 2024\",\"modules\":[],\"allocator\":\"tcmalloc-google\",\"environment\":{\"distmod\":\"ubuntu2404\",\"distarch\":\"x86_64\",\"target_arch\":\"x86_64\"}}}}\n",
      "{\"t\":{\"$date\":\"2025-09-01T01:25:38.438+00:00\"},\"s\":\"I\",  \"c\":\"CONTROL\",  \"id\":51765,   \"ctx\":\"initandlisten\",\"msg\":\"Operating System\",\"attr\":{\"os\":{\"name\":\"Ubuntu\",\"version\":\"24.04\"}}}\n",
      "{\"t\":{\"$date\":\"2025-09-01T01:25:38.438+00:00\"},\"s\":\"I\",  \"c\":\"CONTROL\",  \"id\":21951,   \"ctx\":\"initandlisten\",\"msg\":\"Options set by command line\",\"attr\":{\"options\":{\"net\":{\"bindIp\":\"*\"},\"security\":{\"authorization\":\"enabled\"}}}}\n",
      "{\"t\":{\"$date\":\"2025-09-01T01:25:38.439+00:00\"},\"s\":\"I\",  \"c\":\"STORAGE\",  \"id\":22270,   \"ctx\":\"initandlisten\",\"msg\":\"Storage engine to use detected by data files\",\"attr\":{\"dbpath\":\"/data/db\",\"storageEngine\":\"wiredTiger\"}}\n",
      "{\"t\":{\"$date\":\"2025-09-01T01:25:38.439+00:00\"},\"s\":\"I\",  \"c\":\"STORAGE\",  \"id\":22297,   \"ctx\":\"initandlisten\",\"msg\":\"Using the XFS filesystem is strongly recommended with the WiredTiger storage engine. See http://dochub.mongodb.org/core/prodnotes-filesystem\",\"tags\":[\"startupWarnings\"]}\n",
      "{\"t\":{\"$date\":\"2025-09-01T01:25:38.439+00:00\"},\"s\":\"I\",  \"c\":\"STORAGE\",  \"id\":22315,   \"ctx\":\"initandlisten\",\"msg\":\"Opening WiredTiger\",\"attr\":{\"config\":\"create,cache_size=15388M,session_max=33000,eviction=(threads_min=4,threads_max=4),config_base=false,statistics=(fast),log=(enabled=true,remove=true,path=journal,compressor=snappy),builtin_extension_config=(zstd=(compression_level=6)),file_manager=(close_idle_time=600,close_scan_interval=10,close_handle_minimum=2000),statistics_log=(wait=0),json_output=(error,message),verbose=[recovery_progress:1,checkpoint_progress:1,compact_progress:1,backup:0,checkpoint:0,compact:0,evict:0,history_store:0,recovery:0,rts:0,salvage:0,tiered:0,timestamp:0,transaction:0,verify:0,log:0],prefetch=(available=true,default=false),\"}}\n",
      "{\"t\":{\"$date\":\"2025-09-01T01:25:38.578+00:00\"},\"s\":\"I\",  \"c\":\"WTRECOV\",  \"id\":22430,   \"ctx\":\"initandlisten\",\"msg\":\"WiredTiger message\",\"attr\":{\"message\":{\"ts_sec\":1756689938,\"ts_usec\":578731,\"thread\":\"1:0x7b391f90d680\",\"session_name\":\"txn-recover\",\"category\":\"WT_VERB_RECOVERY_PROGRESS\",\"category_id\":34,\"verbose_level\":\"DEBUG_1\",\"verbose_level_id\":1,\"msg\":\"Recovering log 1 through 2\"}}}\n",
      "{\"t\":{\"$date\":\"2025-09-01T01:25:38.617+00:00\"},\"s\":\"I\",  \"c\":\"WTRECOV\",  \"id\":22430,   \"ctx\":\"initandlisten\",\"msg\":\"WiredTiger message\",\"attr\":{\"message\":{\"ts_sec\":1756689938,\"ts_usec\":617142,\"thread\":\"1:0x7b391f90d680\",\"session_name\":\"txn-recover\",\"category\":\"WT_VERB_RECOVERY_PROGRESS\",\"category_id\":34,\"verbose_level\":\"DEBUG_1\",\"verbose_level_id\":1,\"msg\":\"Recovering log 2 through 2\"}}}\n",
      "{\"t\":{\"$date\":\"2025-09-01T01:25:38.677+00:00\"},\"s\":\"I\",  \"c\":\"WTRECOV\",  \"id\":22430,   \"ctx\":\"initandlisten\",\"msg\":\"WiredTiger message\",\"attr\":{\"message\":{\"ts_sec\":1756689938,\"ts_usec\":677739,\"thread\":\"1:0x7b391f90d680\",\"session_name\":\"txn-recover\",\"category\":\"WT_VERB_RECOVERY_PROGRESS\",\"category_id\":34,\"verbose_level\":\"DEBUG_1\",\"verbose_level_id\":1,\"msg\":\"Main recovery loop: starting at 1/32768 to 2/256\"}}}\n",
      "{\"t\":{\"$date\":\"2025-09-01T01:25:38.712+00:00\"},\"s\":\"I\",  \"c\":\"WTRECOV\",  \"id\":22430,   \"ctx\":\"initandlisten\",\"msg\":\"WiredTiger message\",\"attr\":{\"message\":{\"ts_sec\":1756689938,\"ts_usec\":712707,\"thread\":\"1:0x7b391f90d680\",\"session_name\":\"txn-recover\",\"category\":\"WT_VERB_RECOVERY_PROGRESS\",\"category_id\":34,\"verbose_level\":\"DEBUG_1\",\"verbose_level_id\":1,\"msg\":\"Recovering log 1 through 2\"}}}\n",
      "{\"t\":{\"$date\":\"2025-09-01T01:25:38.744+00:00\"},\"s\":\"I\",  \"c\":\"WTRECOV\",  \"id\":22430,   \"ctx\":\"initandlisten\",\"msg\":\"WiredTiger message\",\"attr\":{\"message\":{\"ts_sec\":1756689938,\"ts_usec\":744918,\"thread\":\"1:0x7b391f90d680\",\"session_name\":\"txn-recover\",\"category\":\"WT_VERB_RECOVERY_PROGRESS\",\"category_id\":34,\"verbose_level\":\"DEBUG_1\",\"verbose_level_id\":1,\"msg\":\"Recovering log 2 through 2\"}}}\n",
      "{\"t\":{\"$date\":\"2025-09-01T01:25:38.763+00:00\"},\"s\":\"I\",  \"c\":\"WTRECOV\",  \"id\":22430,   \"ctx\":\"initandlisten\",\"msg\":\"WiredTiger message\",\"attr\":{\"message\":{\"ts_sec\":1756689938,\"ts_usec\":763213,\"thread\":\"1:0x7b391f90d680\",\"session_name\":\"txn-recover\",\"category\":\"WT_VERB_RECOVERY_PROGRESS\",\"category_id\":34,\"verbose_level\":\"DEBUG_1\",\"verbose_level_id\":1,\"msg\":\"recovery log replay has successfully finished and ran for 184 milliseconds\"}}}\n",
      "{\"t\":{\"$date\":\"2025-09-01T01:25:38.763+00:00\"},\"s\":\"I\",  \"c\":\"WTRECOV\",  \"id\":22430,   \"ctx\":\"initandlisten\",\"msg\":\"WiredTiger message\",\"attr\":{\"message\":{\"ts_sec\":1756689938,\"ts_usec\":763287,\"thread\":\"1:0x7b391f90d680\",\"session_name\":\"txn-recover\",\"category\":\"WT_VERB_RECOVERY_PROGRESS\",\"category_id\":34,\"verbose_level\":\"DEBUG_1\",\"verbose_level_id\":1,\"msg\":\"Set global recovery timestamp: (0, 0)\"}}}\n",
      "{\"t\":{\"$date\":\"2025-09-01T01:25:38.763+00:00\"},\"s\":\"I\",  \"c\":\"WTRECOV\",  \"id\":22430,   \"ctx\":\"initandlisten\",\"msg\":\"WiredTiger message\",\"attr\":{\"message\":{\"ts_sec\":1756689938,\"ts_usec\":763298,\"thread\":\"1:0x7b391f90d680\",\"session_name\":\"txn-recover\",\"category\":\"WT_VERB_RECOVERY_PROGRESS\",\"category_id\":34,\"verbose_level\":\"DEBUG_1\",\"verbose_level_id\":1,\"msg\":\"Set global oldest timestamp: (0, 0)\"}}}\n",
      "{\"t\":{\"$date\":\"2025-09-01T01:25:38.763+00:00\"},\"s\":\"I\",  \"c\":\"WTRECOV\",  \"id\":22430,   \"ctx\":\"initandlisten\",\"msg\":\"WiredTiger message\",\"attr\":{\"message\":{\"ts_sec\":1756689938,\"ts_usec\":763922,\"thread\":\"1:0x7b391f90d680\",\"session_name\":\"txn-recover\",\"category\":\"WT_VERB_RECOVERY_PROGRESS\",\"category_id\":34,\"verbose_level\":\"DEBUG_1\",\"verbose_level_id\":1,\"msg\":\"recovery rollback to stable has successfully finished and ran for 0 milliseconds\"}}}\n",
      "{\"t\":{\"$date\":\"2025-09-01T01:25:38.774+00:00\"},\"s\":\"I\",  \"c\":\"WTCHKPT\",  \"id\":22430,   \"ctx\":\"initandlisten\",\"msg\":\"WiredTiger message\",\"attr\":{\"message\":{\"ts_sec\":1756689938,\"ts_usec\":774429,\"thread\":\"1:0x7b391f90d680\",\"session_name\":\"WT_SESSION.checkpoint\",\"category\":\"WT_VERB_CHECKPOINT_PROGRESS\",\"category_id\":7,\"verbose_level\":\"DEBUG_1\",\"verbose_level_id\":1,\"msg\":\"saving checkpoint snapshot min: 1, snapshot max: 1 snapshot count: 0, oldest timestamp: (0, 0) , meta checkpoint timestamp: (0, 0) base write gen: 7\"}}}\n",
      "{\"t\":{\"$date\":\"2025-09-01T01:25:38.815+00:00\"},\"s\":\"I\",  \"c\":\"WTRECOV\",  \"id\":22430,   \"ctx\":\"initandlisten\",\"msg\":\"WiredTiger message\",\"attr\":{\"message\":{\"ts_sec\":1756689938,\"ts_usec\":815592,\"thread\":\"1:0x7b391f90d680\",\"session_name\":\"txn-recover\",\"category\":\"WT_VERB_RECOVERY_PROGRESS\",\"category_id\":34,\"verbose_level\":\"DEBUG_1\",\"verbose_level_id\":1,\"msg\":\"recovery checkpoint has successfully finished and ran for 51 milliseconds\"}}}\n",
      "{\"t\":{\"$date\":\"2025-09-01T01:25:38.815+00:00\"},\"s\":\"I\",  \"c\":\"WTRECOV\",  \"id\":22430,   \"ctx\":\"initandlisten\",\"msg\":\"WiredTiger message\",\"attr\":{\"message\":{\"ts_sec\":1756689938,\"ts_usec\":815669,\"thread\":\"1:0x7b391f90d680\",\"session_name\":\"txn-recover\",\"category\":\"WT_VERB_RECOVERY_PROGRESS\",\"category_id\":34,\"verbose_level\":\"DEBUG_1\",\"verbose_level_id\":1,\"msg\":\"recovery was completed successfully and took 237ms, including 184ms for the log replay, 0ms for the rollback to stable, and 51ms for the checkpoint.\"}}}\n",
      "{\"t\":{\"$date\":\"2025-09-01T01:25:38.820+00:00\"},\"s\":\"I\",  \"c\":\"STORAGE\",  \"id\":4795906, \"ctx\":\"initandlisten\",\"msg\":\"WiredTiger opened\",\"attr\":{\"durationMillis\":381}}\n",
      "{\"t\":{\"$date\":\"2025-09-01T01:25:38.820+00:00\"},\"s\":\"I\",  \"c\":\"RECOVERY\", \"id\":23987,   \"ctx\":\"initandlisten\",\"msg\":\"WiredTiger recoveryTimestamp\",\"attr\":{\"recoveryTimestamp\":{\"$timestamp\":{\"t\":0,\"i\":0}}}}\n",
      "{\"t\":{\"$date\":\"2025-09-01T01:25:38.830+00:00\"},\"s\":\"W\",  \"c\":\"CONTROL\",  \"id\":8640300, \"ctx\":\"initandlisten\",\"msg\":\"For customers running the tcmalloc-google memory allocator, we suggest setting the contents of sysfsFile to 'always'\",\"attr\":{\"sysfsFile\":\"/sys/kernel/mm/transparent_hugepage/enabled\",\"currentValue\":\"madvise\"},\"tags\":[\"startupWarnings\"]}\n",
      "{\"t\":{\"$date\":\"2025-09-01T01:25:38.831+00:00\"},\"s\":\"W\",  \"c\":\"CONTROL\",  \"id\":8640301, \"ctx\":\"initandlisten\",\"msg\":\"For customers running the updated tcmalloc-google memory allocator, we suggest setting the contents of sysfsFile to 'defer+madvise'\",\"attr\":{\"sysfsFile\":\"/sys/kernel/mm/transparent_hugepage/defrag\",\"currentValue\":\"madvise\"},\"tags\":[\"startupWarnings\"]}\n",
      "{\"t\":{\"$date\":\"2025-09-01T01:25:38.831+00:00\"},\"s\":\"W\",  \"c\":\"CONTROL\",  \"id\":8640302, \"ctx\":\"initandlisten\",\"msg\":\"We suggest setting the contents of sysfsFile to 0.\",\"attr\":{\"sysfsFile\":\"/sys/kernel/mm/transparent_hugepage/khugepaged/max_ptes_none\",\"currentValue\":511},\"tags\":[\"startupWarnings\"]}\n",
      "{\"t\":{\"$date\":\"2025-09-01T01:25:38.831+00:00\"},\"s\":\"W\",  \"c\":\"CONTROL\",  \"id\":8718500, \"ctx\":\"initandlisten\",\"msg\":\"Your system has glibc support for rseq built in, which is not yet supported by tcmalloc-google and has critical performance implications. Please set the environment variable GLIBC_TUNABLES=glibc.pthread.rseq=0\",\"tags\":[\"startupWarnings\"]}\n",
      "{\"t\":{\"$date\":\"2025-09-01T01:25:38.831+00:00\"},\"s\":\"W\",  \"c\":\"NETWORK\",  \"id\":5123300, \"ctx\":\"initandlisten\",\"msg\":\"vm.max_map_count is too low\",\"attr\":{\"currentValue\":262144,\"recommendedMinimum\":1677720,\"maxConns\":838860},\"tags\":[\"startupWarnings\"]}\n",
      "{\"t\":{\"$date\":\"2025-09-01T01:25:38.831+00:00\"},\"s\":\"W\",  \"c\":\"CONTROL\",  \"id\":8386700, \"ctx\":\"initandlisten\",\"msg\":\"We suggest setting swappiness to 0 or 1, as swapping can cause performance problems.\",\"attr\":{\"sysfsFile\":\"/proc/sys/vm/swappiness\",\"currentValue\":60},\"tags\":[\"startupWarnings\"]}\n",
      "{\"t\":{\"$date\":\"2025-09-01T01:25:38.832+00:00\"},\"s\":\"I\",  \"c\":\"NETWORK\",  \"id\":4915702, \"ctx\":\"initandlisten\",\"msg\":\"Updated wire specification\",\"attr\":{\"oldSpec\":{\"incomingExternalClient\":{\"minWireVersion\":0,\"maxWireVersion\":25},\"incomingInternalClient\":{\"minWireVersion\":0,\"maxWireVersion\":25},\"outgoing\":{\"minWireVersion\":6,\"maxWireVersion\":25},\"isInternalClient\":true},\"newSpec\":{\"incomingExternalClient\":{\"minWireVersion\":0,\"maxWireVersion\":25},\"incomingInternalClient\":{\"minWireVersion\":25,\"maxWireVersion\":25},\"outgoing\":{\"minWireVersion\":25,\"maxWireVersion\":25},\"isInternalClient\":true}}}\n",
      "{\"t\":{\"$date\":\"2025-09-01T01:25:38.832+00:00\"},\"s\":\"I\",  \"c\":\"REPL\",     \"id\":5853300, \"ctx\":\"initandlisten\",\"msg\":\"current featureCompatibilityVersion value\",\"attr\":{\"featureCompatibilityVersion\":\"8.0\",\"context\":\"startup\"}}\n",
      "{\"t\":{\"$date\":\"2025-09-01T01:25:38.832+00:00\"},\"s\":\"I\",  \"c\":\"STORAGE\",  \"id\":5071100, \"ctx\":\"initandlisten\",\"msg\":\"Clearing temp directory\"}\n",
      "{\"t\":{\"$date\":\"2025-09-01T01:25:38.832+00:00\"},\"s\":\"I\",  \"c\":\"CONTROL\",  \"id\":6608200, \"ctx\":\"initandlisten\",\"msg\":\"Initializing cluster server parameters from disk\"}\n",
      "{\"t\":{\"$date\":\"2025-09-01T01:25:38.832+00:00\"},\"s\":\"I\",  \"c\":\"CONTROL\",  \"id\":20536,   \"ctx\":\"initandlisten\",\"msg\":\"Flow Control is enabled on this deployment\"}\n",
      "{\"t\":{\"$date\":\"2025-09-01T01:25:38.833+00:00\"},\"s\":\"I\",  \"c\":\"FTDC\",     \"id\":20625,   \"ctx\":\"initandlisten\",\"msg\":\"Initializing full-time diagnostic data capture\",\"attr\":{\"dataDirectory\":\"/data/db/diagnostic.data\"}}\n",
      "{\"t\":{\"$date\":\"2025-09-01T01:25:38.834+00:00\"},\"s\":\"I\",  \"c\":\"REPL\",     \"id\":6015317, \"ctx\":\"initandlisten\",\"msg\":\"Setting new configuration state\",\"attr\":{\"newState\":\"ConfigReplicationDisabled\",\"oldState\":\"ConfigPreStart\"}}\n",
      "{\"t\":{\"$date\":\"2025-09-01T01:25:38.834+00:00\"},\"s\":\"I\",  \"c\":\"STORAGE\",  \"id\":22262,   \"ctx\":\"initandlisten\",\"msg\":\"Timestamp monitor starting\"}\n",
      "{\"t\":{\"$date\":\"2025-09-01T01:25:38.834+00:00\"},\"s\":\"I\",  \"c\":\"STORAGE\",  \"id\":7333401, \"ctx\":\"initandlisten\",\"msg\":\"Starting the DiskSpaceMonitor\"}\n",
      "{\"t\":{\"$date\":\"2025-09-01T01:25:38.835+00:00\"},\"s\":\"I\",  \"c\":\"NETWORK\",  \"id\":23015,   \"ctx\":\"listener\",\"msg\":\"Listening on\",\"attr\":{\"address\":\"/tmp/mongodb-27017.sock\"}}\n",
      "{\"t\":{\"$date\":\"2025-09-01T01:25:38.835+00:00\"},\"s\":\"I\",  \"c\":\"NETWORK\",  \"id\":23015,   \"ctx\":\"listener\",\"msg\":\"Listening on\",\"attr\":{\"address\":\"0.0.0.0:27017\"}}\n",
      "{\"t\":{\"$date\":\"2025-09-01T01:25:38.835+00:00\"},\"s\":\"I\",  \"c\":\"NETWORK\",  \"id\":23016,   \"ctx\":\"listener\",\"msg\":\"Waiting for connections\",\"attr\":{\"port\":27017,\"ssl\":\"off\"}}\n",
      "{\"t\":{\"$date\":\"2025-09-01T01:25:38.835+00:00\"},\"s\":\"I\",  \"c\":\"CONTROL\",  \"id\":8423403, \"ctx\":\"initandlisten\",\"msg\":\"mongod startup complete\",\"attr\":{\"Summary of time elapsed\":{\"Startup from clean shutdown?\":true,\"Statistics\":{\"Set up periodic runner\":\"0 ms\",\"Set up online certificate status protocol manager\":\"0 ms\",\"Transport layer setup\":\"0 ms\",\"Run initial syncer crash recovery\":\"0 ms\",\"Create storage engine lock file in the data directory\":\"0 ms\",\"Get metadata describing storage engine\":\"0 ms\",\"Validate options in metadata against current startup options\":\"0 ms\",\"Create storage engine\":\"382 ms\",\"Write current PID to file\":\"0 ms\",\"Initialize FCV before rebuilding indexes\":\"1 ms\",\"Drop abandoned idents and get back indexes that need to be rebuilt or builds that need to be restarted\":\"0 ms\",\"Rebuild indexes for collections\":\"0 ms\",\"Load cluster parameters from disk for a standalone\":\"0 ms\",\"Build user and roles graph\":\"0 ms\",\"Verify indexes for admin.system.users collection\":\"0 ms\",\"Set up the background thread pool responsible for waiting for opTimes to be majority committed\":\"0 ms\",\"Start up the replication coordinator\":\"1 ms\",\"Ensure the change stream collections on startup contain consistent data\":\"0 ms\",\"Write startup options to the audit log\":\"0 ms\",\"Start transport layer\":\"0 ms\",\"_initAndListen total elapsed time\":\"397 ms\"}}}}\n",
      "{\"t\":{\"$date\":\"2025-09-01T01:25:39.004+00:00\"},\"s\":\"W\",  \"c\":\"CONTROL\",  \"id\":636300,  \"ctx\":\"ftdc\",\"msg\":\"Use of deprecated server parameter name\",\"attr\":{\"deprecatedName\":\"internalQueryCacheSize\",\"canonicalName\":\"internalQueryCacheMaxEntriesPerCollection\"}}\n",
      "{\"t\":{\"$date\":\"2025-09-01T01:25:39.004+00:00\"},\"s\":\"W\",  \"c\":\"CONTROL\",  \"id\":636300,  \"ctx\":\"ftdc\",\"msg\":\"Use of deprecated server parameter name\",\"attr\":{\"deprecatedName\":\"oplogSamplingLogIntervalSeconds\",\"canonicalName\":\"collectionSamplingLogIntervalSeconds\"}}\n",
      "{\"t\":{\"$date\":\"2025-09-01T01:25:39.005+00:00\"},\"s\":\"W\",  \"c\":\"NETWORK\",  \"id\":23803,   \"ctx\":\"ftdc\",\"msg\":\"Use of deprecated server parameter 'sslMode', please use 'tlsMode' instead.\"}\n",
      "{\"t\":{\"$date\":\"2025-09-01T01:25:39.005+00:00\"},\"s\":\"W\",  \"c\":\"CONTROL\",  \"id\":636300,  \"ctx\":\"ftdc\",\"msg\":\"Use of deprecated server parameter name\",\"attr\":{\"deprecatedName\":\"wiredTigerConcurrentReadTransactions\",\"canonicalName\":\"storageEngineConcurrentReadTransactions\"}}\n",
      "{\"t\":{\"$date\":\"2025-09-01T01:25:39.005+00:00\"},\"s\":\"W\",  \"c\":\"CONTROL\",  \"id\":636300,  \"ctx\":\"ftdc\",\"msg\":\"Use of deprecated server parameter name\",\"attr\":{\"deprecatedName\":\"wiredTigerConcurrentWriteTransactions\",\"canonicalName\":\"storageEngineConcurrentWriteTransactions\"}}\n",
      "{\"t\":{\"$date\":\"2025-09-01T01:25:44.446+00:00\"},\"s\":\"I\",  \"c\":\"NETWORK\",  \"id\":22943,   \"ctx\":\"listener\",\"msg\":\"Connection accepted\",\"attr\":{\"remote\":\"127.0.0.1:43886\",\"uuid\":{\"uuid\":{\"$uuid\":\"342c0378-0cff-441e-834f-fdb4e1af7d38\"}},\"connectionId\":1,\"connectionCount\":1}}\n",
      "{\"t\":{\"$date\":\"2025-09-01T01:25:44.449+00:00\"},\"s\":\"I\",  \"c\":\"NETWORK\",  \"id\":51800,   \"ctx\":\"conn1\",\"msg\":\"client metadata\",\"attr\":{\"remote\":\"127.0.0.1:43886\",\"client\":\"conn1\",\"negotiatedCompressors\":[],\"doc\":{\"application\":{\"name\":\"mongosh 2.3.1\"},\"driver\":{\"name\":\"nodejs|mongosh\",\"version\":\"6.8.0|2.3.1\"},\"platform\":\"Node.js v20.17.0, LE\",\"os\":{\"name\":\"linux\",\"architecture\":\"x64\",\"version\":\"3.10.0-327.22.2.el7.x86_64\",\"type\":\"Linux\"},\"env\":{\"container\":{\"runtime\":\"docker\",\"orchestrator\":\"kubernetes\"}}}}}\n",
      "{\"t\":{\"$date\":\"2025-09-01T01:25:44.455+00:00\"},\"s\":\"I\",  \"c\":\"NETWORK\",  \"id\":22943,   \"ctx\":\"listener\",\"msg\":\"Connection accepted\",\"attr\":{\"remote\":\"127.0.0.1:43898\",\"uuid\":{\"uuid\":{\"$uuid\":\"87416e85-e241-4e2a-9097-dea3ae2356d5\"}},\"connectionId\":2,\"connectionCount\":2}}\n",
      "{\"t\":{\"$date\":\"2025-09-01T01:25:44.455+00:00\"},\"s\":\"I\",  \"c\":\"NETWORK\",  \"id\":22943,   \"ctx\":\"listener\",\"msg\":\"Connection accepted\",\"attr\":{\"remote\":\"127.0.0.1:43906\",\"uuid\":{\"uuid\":{\"$uuid\":\"ca9762a0-6411-4540-b405-50687469014a\"}},\"connectionId\":3,\"connectionCount\":3}}\n",
      "{\"t\":{\"$date\":\"2025-09-01T01:25:44.455+00:00\"},\"s\":\"I\",  \"c\":\"NETWORK\",  \"id\":51800,   \"ctx\":\"conn2\",\"msg\":\"client metadata\",\"attr\":{\"remote\":\"127.0.0.1:43898\",\"client\":\"conn2\",\"negotiatedCompressors\":[],\"doc\":{\"application\":{\"name\":\"mongosh 2.3.1\"},\"driver\":{\"name\":\"nodejs|mongosh\",\"version\":\"6.8.0|2.3.1\"},\"platform\":\"Node.js v20.17.0, LE\",\"os\":{\"name\":\"linux\",\"architecture\":\"x64\",\"version\":\"3.10.0-327.22.2.el7.x86_64\",\"type\":\"Linux\"},\"env\":{\"container\":{\"runtime\":\"docker\",\"orchestrator\":\"kubernetes\"}}}}}\n",
      "{\"t\":{\"$date\":\"2025-09-01T01:25:44.456+00:00\"},\"s\":\"I\",  \"c\":\"NETWORK\",  \"id\":51800,   \"ctx\":\"conn3\",\"msg\":\"client metadata\",\"attr\":{\"remote\":\"127.0.0.1:43906\",\"client\":\"conn3\",\"negotiatedCompressors\":[],\"doc\":{\"application\":{\"name\":\"mongosh 2.3.1\"},\"driver\":{\"name\":\"nodejs|mongosh\",\"version\":\"6.8.0|2.3.1\"},\"platform\":\"Node.js v20.17.0, LE\",\"os\":{\"name\":\"linux\",\"architecture\":\"x64\",\"version\":\"3.10.0-327.22.2.el7.x86_64\",\"type\":\"Linux\"},\"env\":{\"container\":{\"runtime\":\"docker\",\"orchestrator\":\"kubernetes\"}}}}}\n",
      "{\"t\":{\"$date\":\"2025-09-01T01:25:44.456+00:00\"},\"s\":\"I\",  \"c\":\"NETWORK\",  \"id\":6788700, \"ctx\":\"conn2\",\"msg\":\"Received first command on ingress connection since session start or auth handshake\",\"attr\":{\"elapsedMillis\":1}}\n",
      "{\"t\":{\"$date\":\"2025-09-01T01:25:44.457+00:00\"},\"s\":\"I\",  \"c\":\"NETWORK\",  \"id\":22943,   \"ctx\":\"listener\",\"msg\":\"Connection accepted\",\"attr\":{\"remote\":\"127.0.0.1:43912\",\"uuid\":{\"uuid\":{\"$uuid\":\"a5c8d7bd-925a-4cf4-a539-9691a270fa22\"}},\"connectionId\":4,\"connectionCount\":4}}\n",
      "{\"t\":{\"$date\":\"2025-09-01T01:25:44.458+00:00\"},\"s\":\"I\",  \"c\":\"NETWORK\",  \"id\":51800,   \"ctx\":\"conn4\",\"msg\":\"client metadata\",\"attr\":{\"remote\":\"127.0.0.1:43912\",\"client\":\"conn4\",\"negotiatedCompressors\":[],\"doc\":{\"application\":{\"name\":\"mongosh 2.3.1\"},\"driver\":{\"name\":\"nodejs|mongosh\",\"version\":\"6.8.0|2.3.1\"},\"platform\":\"Node.js v20.17.0, LE\",\"os\":{\"name\":\"linux\",\"architecture\":\"x64\",\"version\":\"3.10.0-327.22.2.el7.x86_64\",\"type\":\"Linux\"},\"env\":{\"container\":{\"runtime\":\"docker\",\"orchestrator\":\"kubernetes\"}}}}}\n",
      "{\"t\":{\"$date\":\"2025-09-01T01:25:44.463+00:00\"},\"s\":\"I\",  \"c\":\"NETWORK\",  \"id\":6788700, \"ctx\":\"conn4\",\"msg\":\"Received first command on ingress connection since session start or auth handshake\",\"attr\":{\"elapsedMillis\":5}}\n",
      "{\"t\":{\"$date\":\"2025-09-01T01:25:54.951+00:00\"},\"s\":\"I\",  \"c\":\"NETWORK\",  \"id\":22943,   \"ctx\":\"listener\",\"msg\":\"Connection accepted\",\"attr\":{\"remote\":\"127.0.0.1:43640\",\"uuid\":{\"uuid\":{\"$uuid\":\"7d61724c-2c91-4a82-b94e-3680eb7af209\"}},\"connectionId\":5,\"connectionCount\":5}}\n",
      "{\"t\":{\"$date\":\"2025-09-01T01:25:54.951+00:00\"},\"s\":\"I\",  \"c\":\"NETWORK\",  \"id\":51800,   \"ctx\":\"conn5\",\"msg\":\"client metadata\",\"attr\":{\"remote\":\"127.0.0.1:43640\",\"client\":\"conn5\",\"negotiatedCompressors\":[],\"doc\":{\"application\":{\"name\":\"mongosh 2.3.1\"},\"driver\":{\"name\":\"nodejs|mongosh\",\"version\":\"6.8.0|2.3.1\"},\"platform\":\"Node.js v20.17.0, LE\",\"os\":{\"name\":\"linux\",\"architecture\":\"x64\",\"version\":\"3.10.0-327.22.2.el7.x86_64\",\"type\":\"Linux\"},\"env\":{\"container\":{\"runtime\":\"docker\",\"orchestrator\":\"kubernetes\"}}}}}\n",
      "{\"t\":{\"$date\":\"2025-09-01T01:26:00.436+00:00\"},\"s\":\"I\",  \"c\":\"NETWORK\",  \"id\":22943,   \"ctx\":\"listener\",\"msg\":\"Connection accepted\",\"attr\":{\"remote\":\"127.0.0.1:50856\",\"uuid\":{\"uuid\":{\"$uuid\":\"47aa9404-27d1-4e75-a1bb-772deb52737a\"}},\"connectionId\":6,\"connectionCount\":6}}\n",
      "{\"t\":{\"$date\":\"2025-09-01T01:26:00.438+00:00\"},\"s\":\"I\",  \"c\":\"NETWORK\",  \"id\":51800,   \"ctx\":\"conn6\",\"msg\":\"client metadata\",\"attr\":{\"remote\":\"127.0.0.1:50856\",\"client\":\"conn6\",\"negotiatedCompressors\":[],\"doc\":{\"application\":{\"name\":\"mongosh 2.3.1\"},\"driver\":{\"name\":\"nodejs|mongosh\",\"version\":\"6.8.0|2.3.1\"},\"platform\":\"Node.js v20.17.0, LE\",\"os\":{\"name\":\"linux\",\"architecture\":\"x64\",\"version\":\"3.10.0-327.22.2.el7.x86_64\",\"type\":\"Linux\"},\"env\":{\"container\":{\"runtime\":\"docker\",\"orchestrator\":\"kubernetes\"}}}}}\n",
      "{\"t\":{\"$date\":\"2025-09-01T01:26:00.440+00:00\"},\"s\":\"I\",  \"c\":\"NETWORK\",  \"id\":22943,   \"ctx\":\"listener\",\"msg\":\"Connection accepted\",\"attr\":{\"remote\":\"127.0.0.1:50870\",\"uuid\":{\"uuid\":{\"$uuid\":\"0fdf4153-76b1-42cb-8560-45e32882feeb\"}},\"connectionId\":7,\"connectionCount\":7}}\n",
      "{\"t\":{\"$date\":\"2025-09-01T01:26:00.441+00:00\"},\"s\":\"I\",  \"c\":\"NETWORK\",  \"id\":51800,   \"ctx\":\"conn7\",\"msg\":\"client metadata\",\"attr\":{\"remote\":\"127.0.0.1:50870\",\"client\":\"conn7\",\"negotiatedCompressors\":[],\"doc\":{\"application\":{\"name\":\"mongosh 2.3.1\"},\"driver\":{\"name\":\"nodejs|mongosh\",\"version\":\"6.8.0|2.3.1\"},\"platform\":\"Node.js v20.17.0, LE\",\"os\":{\"name\":\"linux\",\"architecture\":\"x64\",\"version\":\"3.10.0-327.22.2.el7.x86_64\",\"type\":\"Linux\"},\"env\":{\"container\":{\"runtime\":\"docker\",\"orchestrator\":\"kubernetes\"}}}}}\n",
      "{\"t\":{\"$date\":\"2025-09-01T01:26:00.442+00:00\"},\"s\":\"I\",  \"c\":\"ACCESS\",   \"id\":6788604, \"ctx\":\"conn7\",\"msg\":\"Auth metrics report\",\"attr\":{\"metric\":\"acquireUser\",\"micros\":0}}\n",
      "{\"t\":{\"$date\":\"2025-09-01T01:26:00.445+00:00\"},\"s\":\"I\",  \"c\":\"ACCESS\",   \"id\":5286306, \"ctx\":\"conn7\",\"msg\":\"Successfully authenticated\",\"attr\":{\"client\":\"127.0.0.1:50870\",\"isSpeculative\":true,\"isClusterMember\":false,\"mechanism\":\"SCRAM-SHA-256\",\"user\":\"root_user\",\"db\":\"admin\",\"result\":0,\"metrics\":{\"conversation_duration\":{\"micros\":3704,\"summary\":{\"0\":{\"step\":1,\"step_total\":2,\"duration_micros\":42},\"1\":{\"step\":2,\"step_total\":2,\"duration_micros\":14}}}},\"extraInfo\":{}}}\n",
      "{\"t\":{\"$date\":\"2025-09-01T01:26:00.447+00:00\"},\"s\":\"I\",  \"c\":\"NETWORK\",  \"id\":6788700, \"ctx\":\"conn7\",\"msg\":\"Received first command on ingress connection since session start or auth handshake\",\"attr\":{\"elapsedMillis\":1}}\n",
      "{\"t\":{\"$date\":\"2025-09-01T01:26:00.449+00:00\"},\"s\":\"I\",  \"c\":\"NETWORK\",  \"id\":22944,   \"ctx\":\"conn5\",\"msg\":\"Connection ended\",\"attr\":{\"remote\":\"127.0.0.1:43640\",\"uuid\":{\"uuid\":{\"$uuid\":\"7d61724c-2c91-4a82-b94e-3680eb7af209\"}},\"connectionId\":5,\"connectionCount\":6}}\n",
      "{\"t\":{\"$date\":\"2025-09-01T01:26:00.449+00:00\"},\"s\":\"I\",  \"c\":\"-\",        \"id\":20883,   \"ctx\":\"conn1\",\"msg\":\"Interrupted operation as its client disconnected\",\"attr\":{\"opId\":13314}}\n",
      "{\"t\":{\"$date\":\"2025-09-01T01:26:00.449+00:00\"},\"s\":\"I\",  \"c\":\"NETWORK\",  \"id\":22944,   \"ctx\":\"conn1\",\"msg\":\"Connection ended\",\"attr\":{\"remote\":\"127.0.0.1:43886\",\"uuid\":{\"uuid\":{\"$uuid\":\"342c0378-0cff-441e-834f-fdb4e1af7d38\"}},\"connectionId\":1,\"connectionCount\":5}}\n",
      "{\"t\":{\"$date\":\"2025-09-01T01:26:00.449+00:00\"},\"s\":\"I\",  \"c\":\"NETWORK\",  \"id\":22944,   \"ctx\":\"conn4\",\"msg\":\"Connection ended\",\"attr\":{\"remote\":\"127.0.0.1:43912\",\"uuid\":{\"uuid\":{\"$uuid\":\"a5c8d7bd-925a-4cf4-a539-9691a270fa22\"}},\"connectionId\":4,\"connectionCount\":4}}\n",
      "{\"t\":{\"$date\":\"2025-09-01T01:26:00.449+00:00\"},\"s\":\"I\",  \"c\":\"NETWORK\",  \"id\":22944,   \"ctx\":\"conn3\",\"msg\":\"Connection ended\",\"attr\":{\"remote\":\"127.0.0.1:43906\",\"uuid\":{\"uuid\":{\"$uuid\":\"ca9762a0-6411-4540-b405-50687469014a\"}},\"connectionId\":3,\"connectionCount\":3}}\n",
      "{\"t\":{\"$date\":\"2025-09-01T01:26:00.449+00:00\"},\"s\":\"I\",  \"c\":\"NETWORK\",  \"id\":22944,   \"ctx\":\"conn2\",\"msg\":\"Connection ended\",\"attr\":{\"remote\":\"127.0.0.1:43898\",\"uuid\":{\"uuid\":{\"$uuid\":\"87416e85-e241-4e2a-9097-dea3ae2356d5\"}},\"connectionId\":2,\"connectionCount\":2}}\n",
      "{\"t\":{\"$date\":\"2025-09-01T01:26:10.946+00:00\"},\"s\":\"I\",  \"c\":\"NETWORK\",  \"id\":22943,   \"ctx\":\"listener\",\"msg\":\"Connection accepted\",\"attr\":{\"remote\":\"127.0.0.1:56622\",\"uuid\":{\"uuid\":{\"$uuid\":\"09a9ae86-d4a5-491c-bc65-f831bc177be5\"}},\"connectionId\":8,\"connectionCount\":3}}\n",
      "{\"t\":{\"$date\":\"2025-09-01T01:26:10.947+00:00\"},\"s\":\"I\",  \"c\":\"NETWORK\",  \"id\":51800,   \"ctx\":\"conn8\",\"msg\":\"client metadata\",\"attr\":{\"remote\":\"127.0.0.1:56622\",\"client\":\"conn8\",\"negotiatedCompressors\":[],\"doc\":{\"application\":{\"name\":\"mongosh 2.3.1\"},\"driver\":{\"name\":\"nodejs|mongosh\",\"version\":\"6.8.0|2.3.1\"},\"platform\":\"Node.js v20.17.0, LE\",\"os\":{\"name\":\"linux\",\"architecture\":\"x64\",\"version\":\"3.10.0-327.22.2.el7.x86_64\",\"type\":\"Linux\"},\"env\":{\"container\":{\"runtime\":\"docker\",\"orchestrator\":\"kubernetes\"}}}}}\n"
     ]
    }
   ],
   "source": [
    "!kubectl logs mongodb-ss-0"
   ]
  },
  {
   "cell_type": "code",
   "execution_count": 84,
   "id": "7c82289e",
   "metadata": {},
   "outputs": [
    {
     "name": "stdout",
     "output_type": "stream",
     "text": [
      "{\n",
      "  db: 'test',\n",
      "  collections: Long('0'),\n",
      "  views: Long('0'),\n",
      "  objects: Long('0'),\n",
      "  avgObjSize: 0,\n",
      "  dataSize: 0,\n",
      "  storageSize: 0,\n",
      "  indexes: Long('0'),\n",
      "  indexSize: 0,\n",
      "  totalSize: 0,\n",
      "  scaleFactor: Long('1'),\n",
      "  fsUsedSize: 0,\n",
      "  fsTotalSize: 0,\n",
      "  ok: 1\n",
      "}\n"
     ]
    }
   ],
   "source": [
    "!kubectl exec mongodb-ss-0 -- mongosh -u root_user -p root_password --authenticationDatabase admin --eval \"db.stats()\"\n"
   ]
  },
  {
   "cell_type": "code",
   "execution_count": 105,
   "id": "b5f0662b",
   "metadata": {},
   "outputs": [
    {
     "name": "stdout",
     "output_type": "stream",
     "text": [
      "{\n",
      "  acknowledged: true,\n",
      "  insertedId: ObjectId('68b4f9c5251d0f17fb964033')\n",
      "}\n"
     ]
    }
   ],
   "source": [
    "!kubectl exec mongodb-ss-0 -- mongosh -u colordb_user -p colordb_password --authenticationDatabase colordb --eval \"db.getSiblingDB(\\\"colordb\\\").testCollection.insertOne({hello: \\\"world\\\"})\"\n"
   ]
  },
  {
   "cell_type": "code",
   "execution_count": 106,
   "id": "ecfa905b",
   "metadata": {},
   "outputs": [
    {
     "name": "stdout",
     "output_type": "stream",
     "text": [
      "[\n",
      "  { _id: ObjectId('68b4f7dbe81beb1ade964033'), hello: 'world' },\n",
      "  { _id: ObjectId('68b4f9c5251d0f17fb964033'), hello: 'world' }\n",
      "]\n"
     ]
    }
   ],
   "source": [
    "!kubectl exec mongodb-ss-0 -- mongosh -u colordb_user -p colordb_password --authenticationDatabase colordb --eval \"db.getSiblingDB(\\\"colordb\\\").testCollection.find()\"\n"
   ]
  },
  {
   "cell_type": "code",
   "execution_count": 93,
   "id": "8545b117",
   "metadata": {},
   "outputs": [
    {
     "name": "stdout",
     "output_type": "stream",
     "text": [
      "NAME           READY   STATUS    RESTARTS   AGE\n",
      "mongodb-ss-0   1/1     Running   0          10m\n"
     ]
    }
   ],
   "source": [
    "!kubectl get pods"
   ]
  },
  {
   "cell_type": "code",
   "execution_count": 94,
   "id": "223b3434",
   "metadata": {},
   "outputs": [
    {
     "name": "stdout",
     "output_type": "stream",
     "text": [
      "statefulset.apps/mongodb-ss scaled\n"
     ]
    }
   ],
   "source": [
    "!kubectl scale statefulset mongodb-ss --replicas=5"
   ]
  },
  {
   "cell_type": "code",
   "execution_count": 96,
   "id": "1a2a6403",
   "metadata": {},
   "outputs": [
    {
     "name": "stdout",
     "output_type": "stream",
     "text": [
      "NAME           READY   STATUS              RESTARTS   AGE\n",
      "mongodb-ss-0   1/1     Running             0          10m\n",
      "mongodb-ss-1   1/1     Running             0          10s\n",
      "mongodb-ss-2   1/1     Running             0          6s\n",
      "mongodb-ss-3   0/1     ContainerCreating   0          3s\n"
     ]
    }
   ],
   "source": [
    "!kubectl get pods"
   ]
  },
  {
   "cell_type": "code",
   "execution_count": 107,
   "id": "4b2cb8ca",
   "metadata": {},
   "outputs": [
    {
     "name": "stdout",
     "output_type": "stream",
     "text": [
      "[\n",
      "  { _id: ObjectId('68b4f7dbe81beb1ade964033'), hello: 'world' },\n",
      "  { _id: ObjectId('68b4f9c5251d0f17fb964033'), hello: 'world' }\n",
      "]\n"
     ]
    }
   ],
   "source": [
    "!kubectl exec mongodb-ss-0 -- mongosh -u colordb_user -p colordb_password --authenticationDatabase colordb --eval \"db.getSiblingDB(\\\"colordb\\\").testCollection.find()\"\n"
   ]
  },
  {
   "cell_type": "code",
   "execution_count": 108,
   "id": "95692cd0",
   "metadata": {},
   "outputs": [
    {
     "name": "stdout",
     "output_type": "stream",
     "text": [
      "\n"
     ]
    }
   ],
   "source": [
    "!kubectl exec mongodb-ss-1 -- mongosh -u colordb_user -p colordb_password --authenticationDatabase colordb --eval \"db.getSiblingDB(\\\"colordb\\\").testCollection.find()\"\n"
   ]
  },
  {
   "cell_type": "code",
   "execution_count": 109,
   "id": "e8135677",
   "metadata": {},
   "outputs": [
    {
     "name": "stdout",
     "output_type": "stream",
     "text": [
      "NAME                                                        CAPACITY   ACCESS MODES   RECLAIM POLICY   STATUS   CLAIM                               STORAGECLASS   VOLUMEATTRIBUTESCLASS   REASON   AGE\n",
      "persistentvolume/pvc-063ffbc4-e98c-4608-9897-d810aa369c68   5Gi        RWO            Delete           Bound    default/mongodb-data-mongodb-ss-0   hostpath       <unset>                          17m\n",
      "persistentvolume/pvc-0c7dd438-05a6-4ea1-bbf1-9a522b241cea   5Gi        RWO            Delete           Bound    default/mongodb-data-mongodb-ss-4   hostpath       <unset>                          6m21s\n",
      "persistentvolume/pvc-d3ce881d-bd19-46f0-8c9b-4608e56b34cf   5Gi        RWO            Delete           Bound    default/mongodb-data-mongodb-ss-3   hostpath       <unset>                          6m24s\n",
      "persistentvolume/pvc-e770456d-dc05-4910-b31c-6bf8aa1a0a6d   5Gi        RWO            Delete           Bound    default/mongodb-data-mongodb-ss-1   hostpath       <unset>                          6m31s\n",
      "persistentvolume/pvc-fc89b0e2-ecc0-4d3c-b808-c0a26548a8c1   5Gi        RWO            Delete           Bound    default/mongodb-data-mongodb-ss-2   hostpath       <unset>                          6m27s\n",
      "\n",
      "NAME                                              STATUS   VOLUME                                     CAPACITY   ACCESS MODES   STORAGECLASS   VOLUMEATTRIBUTESCLASS   AGE\n",
      "persistentvolumeclaim/mongodb-data-mongodb-ss-0   Bound    pvc-063ffbc4-e98c-4608-9897-d810aa369c68   5Gi        RWO            hostpath       <unset>                 17m\n",
      "persistentvolumeclaim/mongodb-data-mongodb-ss-1   Bound    pvc-e770456d-dc05-4910-b31c-6bf8aa1a0a6d   5Gi        RWO            hostpath       <unset>                 6m31s\n",
      "persistentvolumeclaim/mongodb-data-mongodb-ss-2   Bound    pvc-fc89b0e2-ecc0-4d3c-b808-c0a26548a8c1   5Gi        RWO            hostpath       <unset>                 6m27s\n",
      "persistentvolumeclaim/mongodb-data-mongodb-ss-3   Bound    pvc-d3ce881d-bd19-46f0-8c9b-4608e56b34cf   5Gi        RWO            hostpath       <unset>                 6m24s\n",
      "persistentvolumeclaim/mongodb-data-mongodb-ss-4   Bound    pvc-0c7dd438-05a6-4ea1-bbf1-9a522b241cea   5Gi        RWO            hostpath       <unset>                 6m21s\n"
     ]
    }
   ],
   "source": [
    "!kubectl get pv,pvc"
   ]
  },
  {
   "cell_type": "code",
   "execution_count": 110,
   "id": "2f787133",
   "metadata": {},
   "outputs": [
    {
     "name": "stdout",
     "output_type": "stream",
     "text": [
      "statefulset.apps/mongodb-ss scaled\n"
     ]
    }
   ],
   "source": [
    "!kubectl scale statefulset mongodb-ss --replicas=1"
   ]
  },
  {
   "cell_type": "code",
   "execution_count": 111,
   "id": "a8a08d5f",
   "metadata": {},
   "outputs": [
    {
     "name": "stdout",
     "output_type": "stream",
     "text": [
      "NAME           READY   STATUS    RESTARTS   AGE\n",
      "mongodb-ss-0   1/1     Running   0          18m\n"
     ]
    }
   ],
   "source": [
    "!kubectl get pods"
   ]
  },
  {
   "cell_type": "code",
   "execution_count": 112,
   "id": "2d25d954",
   "metadata": {},
   "outputs": [
    {
     "name": "stdout",
     "output_type": "stream",
     "text": [
      "NAME                        STATUS   VOLUME                                     CAPACITY   ACCESS MODES   STORAGECLASS   VOLUMEATTRIBUTESCLASS   AGE\n",
      "mongodb-data-mongodb-ss-0   Bound    pvc-063ffbc4-e98c-4608-9897-d810aa369c68   5Gi        RWO            hostpath       <unset>                 19m\n",
      "mongodb-data-mongodb-ss-1   Bound    pvc-e770456d-dc05-4910-b31c-6bf8aa1a0a6d   5Gi        RWO            hostpath       <unset>                 8m45s\n",
      "mongodb-data-mongodb-ss-2   Bound    pvc-fc89b0e2-ecc0-4d3c-b808-c0a26548a8c1   5Gi        RWO            hostpath       <unset>                 8m41s\n",
      "mongodb-data-mongodb-ss-3   Bound    pvc-d3ce881d-bd19-46f0-8c9b-4608e56b34cf   5Gi        RWO            hostpath       <unset>                 8m38s\n",
      "mongodb-data-mongodb-ss-4   Bound    pvc-0c7dd438-05a6-4ea1-bbf1-9a522b241cea   5Gi        RWO            hostpath       <unset>                 8m35s\n"
     ]
    }
   ],
   "source": [
    "!kubectl get pvc"
   ]
  },
  {
   "cell_type": "code",
   "execution_count": 113,
   "id": "d46d0fd6",
   "metadata": {},
   "outputs": [
    {
     "name": "stdout",
     "output_type": "stream",
     "text": [
      "persistentvolumeclaim \"mongodb-data-mongodb-ss-1\" deleted\n",
      "persistentvolumeclaim \"mongodb-data-mongodb-ss-2\" deleted\n",
      "persistentvolumeclaim \"mongodb-data-mongodb-ss-3\" deleted\n",
      "persistentvolumeclaim \"mongodb-data-mongodb-ss-4\" deleted\n"
     ]
    }
   ],
   "source": [
    "!kubectl delete pvc mongodb-data-mongodb-ss-1 mongodb-data-mongodb-ss-2 mongodb-data-mongodb-ss-3 mongodb-data-mongodb-ss-4"
   ]
  },
  {
   "cell_type": "code",
   "execution_count": 114,
   "id": "36965ae5",
   "metadata": {},
   "outputs": [
    {
     "name": "stdout",
     "output_type": "stream",
     "text": [
      "NAME                                                        CAPACITY   ACCESS MODES   RECLAIM POLICY   STATUS   CLAIM                               STORAGECLASS   VOLUMEATTRIBUTESCLASS   REASON   AGE\n",
      "persistentvolume/pvc-063ffbc4-e98c-4608-9897-d810aa369c68   5Gi        RWO            Delete           Bound    default/mongodb-data-mongodb-ss-0   hostpath       <unset>                          20m\n",
      "\n",
      "NAME                                              STATUS   VOLUME                                     CAPACITY   ACCESS MODES   STORAGECLASS   VOLUMEATTRIBUTESCLASS   AGE\n",
      "persistentvolumeclaim/mongodb-data-mongodb-ss-0   Bound    pvc-063ffbc4-e98c-4608-9897-d810aa369c68   5Gi        RWO            hostpath       <unset>                 20m\n"
     ]
    }
   ],
   "source": [
    "!kubectl get pv,pvc"
   ]
  },
  {
   "cell_type": "code",
   "execution_count": 9,
   "id": "2c491220",
   "metadata": {},
   "outputs": [
    {
     "name": "stdout",
     "output_type": "stream",
     "text": [
      "deployment.apps/color-api unchanged\n",
      "service/color-svc configured\n",
      "statefulset.apps/mongodb-ss configured\n",
      "secret/mongodb-colordb-creds unchanged\n",
      "secret/mongodb-root-creds unchanged\n",
      "configmap/mongodb-init-colordb unchanged\n",
      "service/mongodb-svc unchanged\n"
     ]
    }
   ],
   "source": [
    "!kubectl apply -f ."
   ]
  },
  {
   "cell_type": "code",
   "execution_count": 10,
   "id": "76c303db",
   "metadata": {},
   "outputs": [
    {
     "name": "stdout",
     "output_type": "stream",
     "text": [
      "NAME                         READY   STATUS    RESTARTS   AGE\n",
      "color-api-7bf587b48f-wxwqm   1/1     Running   0          3m24s\n"
     ]
    }
   ],
   "source": [
    "!kubectl get pods -l app=color-api"
   ]
  },
  {
   "cell_type": "code",
   "execution_count": 4,
   "id": "8ec46e33",
   "metadata": {},
   "outputs": [
    {
     "name": "stdout",
     "output_type": "stream",
     "text": [
      "\n",
      "> color-api@1.0.0 start\n",
      "> node src/index.js\n",
      "\n",
      "Fail liveness: false\n",
      "Fail readiness: false\n",
      "Delayed startup: false\n",
      "Connected to MongoDB\n",
      "Color-API listening on port 80\n"
     ]
    }
   ],
   "source": [
    "!kubectl logs color-api-7bf587b48f-wxwqm"
   ]
  },
  {
   "cell_type": "code",
   "execution_count": 11,
   "id": "023749d8",
   "metadata": {},
   "outputs": [
    {
     "name": "stdout",
     "output_type": "stream",
     "text": [
      "NAME          TYPE        CLUSTER-IP     EXTERNAL-IP   PORT(S)        AGE\n",
      "color-svc     NodePort    10.111.72.33   <none>        80:30080/TCP   3m26s\n",
      "kubernetes    ClusterIP   10.96.0.1      <none>        443/TCP        3d3h\n",
      "mongodb-svc   ClusterIP   None           <none>        27017/TCP      133m\n"
     ]
    }
   ],
   "source": [
    "!kubectl get svc"
   ]
  },
  {
   "cell_type": "code",
   "execution_count": 12,
   "id": "2994c108",
   "metadata": {},
   "outputs": [
    {
     "name": "stdout",
     "output_type": "stream",
     "text": [
      "Name:                     color-svc\n",
      "Namespace:                default\n",
      "Labels:                   <none>\n",
      "Annotations:              <none>\n",
      "Selector:                 app=color-api\n",
      "Type:                     NodePort\n",
      "IP Family Policy:         SingleStack\n",
      "IP Families:              IPv4\n",
      "IP:                       10.111.72.33\n",
      "IPs:                      10.111.72.33\n",
      "Port:                     <unset>  80/TCP\n",
      "TargetPort:               80/TCP\n",
      "NodePort:                 <unset>  30080/TCP\n",
      "Endpoints:                10.1.1.199:80\n",
      "Session Affinity:         None\n",
      "External Traffic Policy:  Cluster\n",
      "Internal Traffic Policy:  Cluster\n",
      "Events:                   <none>\n",
      "\n"
     ]
    }
   ],
   "source": [
    "!kubectl describe svc color-sv"
   ]
  },
  {
   "cell_type": "code",
   "execution_count": 13,
   "id": "aaac99ff",
   "metadata": {},
   "outputs": [
    {
     "name": "stdout",
     "output_type": "stream",
     "text": [
      "<h1 style=\"color:blue;\">Hello from Color-API!</h1>\n",
      "            <h2>Hostname: color-api-7bf587b48f-wxwqm</h2>\n"
     ]
    },
    {
     "name": "stderr",
     "output_type": "stream",
     "text": [
      "  % Total    % Received % Xferd  Average Speed   Time    Time     Time  Current\n",
      "                                 Dload  Upload   Total   Spent    Left  Speed\n",
      "\n",
      "  0     0    0     0    0     0      0      0 --:--:-- --:--:-- --:--:--     0\n",
      "100   108  100   108    0     0  19512      0 --:--:-- --:--:-- --:--:-- 21600\n"
     ]
    }
   ],
   "source": [
    "!curl localhost:30080"
   ]
  },
  {
   "cell_type": "code",
   "execution_count": 14,
   "id": "18e57cd8",
   "metadata": {},
   "outputs": [
    {
     "name": "stdout",
     "output_type": "stream",
     "text": [
      "COLOR : blue, HOSTNAME : color-api-7bf587b48f-wxwqm\n"
     ]
    },
    {
     "name": "stderr",
     "output_type": "stream",
     "text": [
      "  % Total    % Received % Xferd  Average Speed   Time    Time     Time  Current\n",
      "                                 Dload  Upload   Total   Spent    Left  Speed\n",
      "\n",
      "  0     0    0     0    0     0      0      0 --:--:-- --:--:-- --:--:--     0\n",
      "100    51  100    51    0     0   9908      0 --:--:-- --:--:-- --:--:-- 10200\n"
     ]
    }
   ],
   "source": [
    "!curl localhost:30080/api"
   ]
  },
  {
   "cell_type": "code",
   "execution_count": 15,
   "id": "73011641",
   "metadata": {},
   "outputs": [
    {
     "name": "stdout",
     "output_type": "stream",
     "text": [
      "{\"data\":[]}\n"
     ]
    },
    {
     "name": "stderr",
     "output_type": "stream",
     "text": [
      "  % Total    % Received % Xferd  Average Speed   Time    Time     Time  Current\n",
      "                                 Dload  Upload   Total   Spent    Left  Speed\n",
      "\n",
      "  0     0    0     0    0     0      0      0 --:--:-- --:--:-- --:--:--     0\n",
      "100    11  100    11    0     0   1838      0 --:--:-- --:--:-- --:--:--  2200\n"
     ]
    }
   ],
   "source": [
    "!curl localhost:30080/api/color"
   ]
  },
  {
   "cell_type": "code",
   "execution_count": 26,
   "id": "fc245135",
   "metadata": {},
   "outputs": [
    {
     "name": "stdout",
     "output_type": "stream",
     "text": [
      "Created\n"
     ]
    },
    {
     "name": "stderr",
     "output_type": "stream",
     "text": [
      "  % Total    % Received % Xferd  Average Speed   Time    Time     Time  Current\n",
      "                                 Dload  Upload   Total   Spent    Left  Speed\n",
      "\n",
      "  0     0    0     0    0     0      0      0 --:--:-- --:--:-- --:--:--     0\n",
      "100    25  100     7  100    18    352    906 --:--:-- --:--:-- --:--:--  1315\n"
     ]
    }
   ],
   "source": [
    "!curl -X POST http://localhost:30080/api/color/primary -H \"Content-Type: application/json\" -d \"{\\\"value\\\":\\\"purple\\\"}\""
   ]
  },
  {
   "cell_type": "code",
   "execution_count": 27,
   "id": "b76a0177",
   "metadata": {},
   "outputs": [
    {
     "name": "stdout",
     "output_type": "stream",
     "text": [
      "{\"data\":[{\"_id\":\"68b5186ff8ee3e164f8be23d\",\"key\":\"primary\",\"value\":\"purple\",\"__v\":0}]}\n"
     ]
    },
    {
     "name": "stderr",
     "output_type": "stream",
     "text": [
      "  % Total    % Received % Xferd  Average Speed   Time    Time     Time  Current\n",
      "                                 Dload  Upload   Total   Spent    Left  Speed\n",
      "\n",
      "  0     0    0     0    0     0      0      0 --:--:-- --:--:-- --:--:--     0\n",
      "100    86  100    86    0     0   2658      0 --:--:-- --:--:-- --:--:--  2687\n"
     ]
    }
   ],
   "source": [
    "!curl localhost:30080/api/color"
   ]
  },
  {
   "cell_type": "code",
   "execution_count": 28,
   "id": "9d320920",
   "metadata": {},
   "outputs": [
    {
     "name": "stdout",
     "output_type": "stream",
     "text": [
      "Created\n"
     ]
    },
    {
     "name": "stderr",
     "output_type": "stream",
     "text": [
      "  % Total    % Received % Xferd  Average Speed   Time    Time     Time  Current\n",
      "                                 Dload  Upload   Total   Spent    Left  Speed\n",
      "\n",
      "  0     0    0     0    0     0      0      0 --:--:-- --:--:-- --:--:--     0\n",
      "100    25  100     7  100    18    329    847 --:--:-- --:--:-- --:--:--  1190\n"
     ]
    }
   ],
   "source": [
    "!curl -X POST http://localhost:30080/api/color/secondary -H \"Content-Type: application/json\" -d \"{\\\"value\\\":\\\"orange\\\"}\""
   ]
  },
  {
   "cell_type": "code",
   "execution_count": 30,
   "id": "49423e60",
   "metadata": {},
   "outputs": [
    {
     "name": "stdout",
     "output_type": "stream",
     "text": [
      "{\"data\":[{\"_id\":\"68b5186ff8ee3e164f8be23d\",\"key\":\"primary\",\"value\":\"purple\",\"__v\":0},{\"_id\":\"68b5189329165156f06c89b6\",\"key\":\"secondary\",\"value\":\"orange\",\"__v\":0}]}\n"
     ]
    },
    {
     "name": "stderr",
     "output_type": "stream",
     "text": [
      "  % Total    % Received % Xferd  Average Speed   Time    Time     Time  Current\n",
      "                                 Dload  Upload   Total   Spent    Left  Speed\n",
      "\n",
      "  0     0    0     0    0     0      0      0 --:--:-- --:--:-- --:--:--     0\n",
      "100   164  100   164    0     0  11261      0 --:--:-- --:--:-- --:--:-- 11714\n"
     ]
    }
   ],
   "source": [
    "!curl localhost:30080/api/color"
   ]
  },
  {
   "cell_type": "code",
   "execution_count": 37,
   "id": "19530766",
   "metadata": {},
   "outputs": [
    {
     "name": "stdout",
     "output_type": "stream",
     "text": [
      "COLOR : purple, HOSTNAME : color-api-7bf587b48f-x667r\n"
     ]
    },
    {
     "name": "stderr",
     "output_type": "stream",
     "text": [
      "  % Total    % Received % Xferd  Average Speed   Time    Time     Time  Current\n",
      "                                 Dload  Upload   Total   Spent    Left  Speed\n",
      "\n",
      "  0     0    0     0    0     0      0      0 --:--:-- --:--:-- --:--:--     0\n",
      "100    53  100    53    0     0   8333      0 --:--:-- --:--:-- --:--:--  8833\n"
     ]
    }
   ],
   "source": [
    "!curl localhost:30080/api?colorkey=primary"
   ]
  },
  {
   "cell_type": "code",
   "execution_count": 38,
   "id": "6d49ccbe",
   "metadata": {},
   "outputs": [
    {
     "name": "stdout",
     "output_type": "stream",
     "text": [
      "COLOR : orange, HOSTNAME : color-api-7bf587b48f-x667r\n"
     ]
    },
    {
     "name": "stderr",
     "output_type": "stream",
     "text": [
      "  % Total    % Received % Xferd  Average Speed   Time    Time     Time  Current\n",
      "                                 Dload  Upload   Total   Spent    Left  Speed\n",
      "\n",
      "  0     0    0     0    0     0      0      0 --:--:-- --:--:-- --:--:--     0\n",
      "100    53  100    53    0     0   8450      0 --:--:-- --:--:-- --:--:--  8833\n"
     ]
    }
   ],
   "source": [
    "!curl localhost:30080/api?colorkey=secondary"
   ]
  },
  {
   "cell_type": "code",
   "execution_count": 39,
   "id": "db81e6de",
   "metadata": {},
   "outputs": [
    {
     "name": "stdout",
     "output_type": "stream",
     "text": [
      "deployment.apps/color-api scaled\n"
     ]
    }
   ],
   "source": [
    "!kubectl scale deployment color-api --replicas=5\n"
   ]
  },
  {
   "cell_type": "code",
   "execution_count": 41,
   "id": "be732dfb",
   "metadata": {},
   "outputs": [
    {
     "name": "stdout",
     "output_type": "stream",
     "text": [
      "NAME                         READY   STATUS    RESTARTS        AGE\n",
      "color-api-7bf587b48f-2xn4r   1/1     Running   0               9s\n",
      "color-api-7bf587b48f-7w5mh   1/1     Running   0               9s\n",
      "color-api-7bf587b48f-9knpt   1/1     Running   0               9s\n",
      "color-api-7bf587b48f-x667r   1/1     Running   2 (5m35s ago)   6m29s\n",
      "color-api-7bf587b48f-zdbp6   1/1     Running   0               9s\n",
      "mongodb-ss-0                 1/1     Running   0               152m\n"
     ]
    }
   ],
   "source": [
    "!kubectl get pods"
   ]
  },
  {
   "cell_type": "code",
   "execution_count": 44,
   "id": "e9f1e78f",
   "metadata": {},
   "outputs": [
    {
     "name": "stdout",
     "output_type": "stream",
     "text": [
      "COLOR : orange, HOSTNAME : color-api-7bf587b48f-9knpt\n"
     ]
    },
    {
     "name": "stderr",
     "output_type": "stream",
     "text": [
      "  % Total    % Received % Xferd  Average Speed   Time    Time     Time  Current\n",
      "                                 Dload  Upload   Total   Spent    Left  Speed\n",
      "\n",
      "  0     0    0     0    0     0      0      0 --:--:-- --:--:-- --:--:--     0\n",
      "100    53  100    53    0     0   3612      0 --:--:-- --:--:-- --:--:--  3785\n"
     ]
    }
   ],
   "source": [
    "!curl localhost:30080/api?colorkey=secondary"
   ]
  },
  {
   "cell_type": "code",
   "execution_count": 45,
   "id": "8a79994d",
   "metadata": {},
   "outputs": [
    {
     "name": "stdout",
     "output_type": "stream",
     "text": [
      "COLOR : orange, HOSTNAME : color-api-7bf587b48f-2xn4r\n"
     ]
    },
    {
     "name": "stderr",
     "output_type": "stream",
     "text": [
      "  % Total    % Received % Xferd  Average Speed   Time    Time     Time  Current\n",
      "                                 Dload  Upload   Total   Spent    Left  Speed\n",
      "\n",
      "  0     0    0     0    0     0      0      0 --:--:-- --:--:-- --:--:--     0\n",
      "100    53  100    53    0     0   3249      0 --:--:-- --:--:-- --:--:--  3312\n"
     ]
    }
   ],
   "source": [
    "!curl localhost:30080/api?colorkey=secondary"
   ]
  },
  {
   "cell_type": "code",
   "execution_count": 46,
   "id": "2801e3b0",
   "metadata": {},
   "outputs": [
    {
     "name": "stdout",
     "output_type": "stream",
     "text": [
      "deployment.apps/color-api unchanged\n",
      "service/color-svc unchanged\n",
      "statefulset.apps/mongodb-ss configured\n",
      "secret/mongodb-colordb-creds unchanged\n",
      "secret/mongodb-root-creds unchanged\n",
      "configmap/mongodb-init-colordb unchanged\n",
      "service/mongodb-svc unchanged\n",
      "pod/traffic-generator created\n"
     ]
    }
   ],
   "source": [
    "!kubectl apply -f ."
   ]
  },
  {
   "cell_type": "code",
   "execution_count": 47,
   "id": "6f7ad29f",
   "metadata": {},
   "outputs": [
    {
     "name": "stdout",
     "output_type": "stream",
     "text": [
      "NAME                         READY   STATUS    RESTARTS      AGE\n",
      "color-api-7bf587b48f-2xn4r   1/1     Running   0             4m44s\n",
      "color-api-7bf587b48f-7w5mh   1/1     Running   0             4m44s\n",
      "color-api-7bf587b48f-9knpt   1/1     Running   0             4m44s\n",
      "color-api-7bf587b48f-x667r   1/1     Running   2 (10m ago)   11m\n",
      "color-api-7bf587b48f-zdbp6   1/1     Running   0             4m44s\n",
      "mongodb-ss-0                 1/1     Running   0             157m\n",
      "traffic-generator            1/1     Running   0             8s\n"
     ]
    }
   ],
   "source": [
    "!kubectl get pods"
   ]
  },
  {
   "cell_type": "code",
   "execution_count": 49,
   "id": "f0af140c",
   "metadata": {},
   "outputs": [
    {
     "name": "stdout",
     "output_type": "stream",
     "text": [
      "Sending request to color-svc/api every 0.5 seconds..\n",
      "2025-09-01 04:02:54 COLOR : blue, HOSTNAME : color-api-7bf587b48f-2xn4r\n",
      "2025-09-01 04:02:54 COLOR : blue, HOSTNAME : color-api-7bf587b48f-7w5mh\n",
      "2025-09-01 04:02:55 COLOR : blue, HOSTNAME : color-api-7bf587b48f-9knpt\n",
      "2025-09-01 04:02:55 COLOR : blue, HOSTNAME : color-api-7bf587b48f-zdbp6\n",
      "2025-09-01 04:02:56 COLOR : blue, HOSTNAME : color-api-7bf587b48f-7w5mh\n",
      "2025-09-01 04:02:56 COLOR : blue, HOSTNAME : color-api-7bf587b48f-x667r\n",
      "2025-09-01 04:02:57 COLOR : blue, HOSTNAME : color-api-7bf587b48f-9knpt\n",
      "2025-09-01 04:02:57 COLOR : blue, HOSTNAME : color-api-7bf587b48f-9knpt\n",
      "2025-09-01 04:02:58 COLOR : blue, HOSTNAME : color-api-7bf587b48f-9knpt\n",
      "2025-09-01 04:02:58 COLOR : blue, HOSTNAME : color-api-7bf587b48f-zdbp6\n",
      "2025-09-01 04:02:59 COLOR : blue, HOSTNAME : color-api-7bf587b48f-zdbp6\n",
      "2025-09-01 04:02:59 COLOR : blue, HOSTNAME : color-api-7bf587b48f-x667r\n",
      "2025-09-01 04:03:00 COLOR : blue, HOSTNAME : color-api-7bf587b48f-2xn4r\n",
      "2025-09-01 04:03:00 COLOR : blue, HOSTNAME : color-api-7bf587b48f-2xn4r\n",
      "2025-09-01 04:03:01 COLOR : blue, HOSTNAME : color-api-7bf587b48f-7w5mh\n",
      "2025-09-01 04:03:01 COLOR : blue, HOSTNAME : color-api-7bf587b48f-2xn4r\n",
      "2025-09-01 04:03:02 COLOR : blue, HOSTNAME : color-api-7bf587b48f-zdbp6\n",
      "2025-09-01 04:03:02 COLOR : blue, HOSTNAME : color-api-7bf587b48f-9knpt\n",
      "2025-09-01 04:03:03 COLOR : blue, HOSTNAME : color-api-7bf587b48f-2xn4r\n",
      "2025-09-01 04:03:03 COLOR : blue, HOSTNAME : color-api-7bf587b48f-7w5mh\n",
      "2025-09-01 04:03:04 COLOR : blue, HOSTNAME : color-api-7bf587b48f-2xn4r\n",
      "2025-09-01 04:03:05 COLOR : blue, HOSTNAME : color-api-7bf587b48f-9knpt\n",
      "2025-09-01 04:03:05 COLOR : blue, HOSTNAME : color-api-7bf587b48f-zdbp6\n",
      "2025-09-01 04:03:06 COLOR : blue, HOSTNAME : color-api-7bf587b48f-zdbp6\n",
      "2025-09-01 04:03:06 COLOR : blue, HOSTNAME : color-api-7bf587b48f-2xn4r\n",
      "2025-09-01 04:03:07 COLOR : blue, HOSTNAME : color-api-7bf587b48f-2xn4r\n",
      "2025-09-01 04:03:07 COLOR : blue, HOSTNAME : color-api-7bf587b48f-2xn4r\n",
      "2025-09-01 04:03:08 COLOR : blue, HOSTNAME : color-api-7bf587b48f-x667r\n",
      "2025-09-01 04:03:08 COLOR : blue, HOSTNAME : color-api-7bf587b48f-zdbp6\n",
      "2025-09-01 04:03:09 COLOR : blue, HOSTNAME : color-api-7bf587b48f-2xn4r\n",
      "2025-09-01 04:03:09 COLOR : blue, HOSTNAME : color-api-7bf587b48f-9knpt\n",
      "2025-09-01 04:03:10 COLOR : blue, HOSTNAME : color-api-7bf587b48f-x667r\n",
      "2025-09-01 04:03:10 COLOR : blue, HOSTNAME : color-api-7bf587b48f-7w5mh\n",
      "2025-09-01 04:03:11 COLOR : blue, HOSTNAME : color-api-7bf587b48f-zdbp6\n",
      "2025-09-01 04:03:11 COLOR : blue, HOSTNAME : color-api-7bf587b48f-2xn4r\n",
      "2025-09-01 04:03:12 COLOR : blue, HOSTNAME : color-api-7bf587b48f-x667r\n",
      "2025-09-01 04:03:12 COLOR : blue, HOSTNAME : color-api-7bf587b48f-zdbp6\n",
      "2025-09-01 04:03:13 COLOR : blue, HOSTNAME : color-api-7bf587b48f-2xn4r\n",
      "2025-09-01 04:03:13 COLOR : blue, HOSTNAME : color-api-7bf587b48f-x667r\n",
      "2025-09-01 04:03:14 COLOR : blue, HOSTNAME : color-api-7bf587b48f-zdbp6\n",
      "2025-09-01 04:03:14 COLOR : blue, HOSTNAME : color-api-7bf587b48f-9knpt\n",
      "2025-09-01 04:03:15 COLOR : blue, HOSTNAME : color-api-7bf587b48f-9knpt\n",
      "2025-09-01 04:03:15 COLOR : blue, HOSTNAME : color-api-7bf587b48f-9knpt\n",
      "2025-09-01 04:03:16 COLOR : blue, HOSTNAME : color-api-7bf587b48f-7w5mh\n",
      "2025-09-01 04:03:16 COLOR : blue, HOSTNAME : color-api-7bf587b48f-7w5mh\n",
      "2025-09-01 04:03:17 COLOR : blue, HOSTNAME : color-api-7bf587b48f-7w5mh\n",
      "2025-09-01 04:03:17 COLOR : blue, HOSTNAME : color-api-7bf587b48f-x667r\n"
     ]
    }
   ],
   "source": [
    "!kubectl logs traffic-generator"
   ]
  },
  {
   "cell_type": "code",
   "execution_count": 51,
   "id": "a4fe4dd3",
   "metadata": {},
   "outputs": [
    {
     "name": "stdout",
     "output_type": "stream",
     "text": [
      "pod \"traffic-generator\" force deleted\n"
     ]
    },
    {
     "name": "stderr",
     "output_type": "stream",
     "text": [
      "Warning: Immediate deletion does not wait for confirmation that the running resource has been terminated. The resource may continue to run on the cluster indefinitely.\n"
     ]
    }
   ],
   "source": [
    "!kubectl delete pod --force traffic-generator"
   ]
  },
  {
   "cell_type": "code",
   "execution_count": 52,
   "id": "b760a442",
   "metadata": {},
   "outputs": [
    {
     "name": "stdout",
     "output_type": "stream",
     "text": [
      "deployment.apps/color-api unchanged\n",
      "service/color-svc unchanged\n",
      "statefulset.apps/mongodb-ss configured\n",
      "secret/mongodb-colordb-creds unchanged\n",
      "secret/mongodb-root-creds unchanged\n",
      "configmap/mongodb-init-colordb unchanged\n",
      "service/mongodb-svc unchanged\n",
      "pod/traffic-generator created\n"
     ]
    }
   ],
   "source": [
    "!kubectl apply -f ."
   ]
  },
  {
   "cell_type": "code",
   "execution_count": 53,
   "id": "23143d82",
   "metadata": {},
   "outputs": [
    {
     "name": "stdout",
     "output_type": "stream",
     "text": [
      "Sending request to color-svc/api?colorkey=primary every 0.5 seconds..\n",
      "2025-09-01 04:04:43 COLOR : purple, HOSTNAME : color-api-7bf587b48f-7w5mh\n",
      "2025-09-01 04:04:43 COLOR : purple, HOSTNAME : color-api-7bf587b48f-x667r\n",
      "2025-09-01 04:04:44 COLOR : purple, HOSTNAME : color-api-7bf587b48f-x667r\n",
      "2025-09-01 04:04:44 COLOR : purple, HOSTNAME : color-api-7bf587b48f-7w5mh\n",
      "2025-09-01 04:04:45 COLOR : purple, HOSTNAME : color-api-7bf587b48f-9knpt\n",
      "2025-09-01 04:04:45 COLOR : purple, HOSTNAME : color-api-7bf587b48f-9knpt\n",
      "2025-09-01 04:04:46 COLOR : purple, HOSTNAME : color-api-7bf587b48f-9knpt\n",
      "2025-09-01 04:04:46 COLOR : purple, HOSTNAME : color-api-7bf587b48f-x667r\n",
      "2025-09-01 04:04:47 COLOR : purple, HOSTNAME : color-api-7bf587b48f-zdbp6\n",
      "2025-09-01 04:04:47 COLOR : purple, HOSTNAME : color-api-7bf587b48f-x667r\n",
      "2025-09-01 04:04:48 COLOR : purple, HOSTNAME : color-api-7bf587b48f-2xn4r\n",
      "2025-09-01 04:04:48 COLOR : purple, HOSTNAME : color-api-7bf587b48f-9knpt\n",
      "2025-09-01 04:04:49 COLOR : purple, HOSTNAME : color-api-7bf587b48f-zdbp6\n",
      "2025-09-01 04:04:49 COLOR : purple, HOSTNAME : color-api-7bf587b48f-9knpt\n",
      "2025-09-01 04:04:50 COLOR : purple, HOSTNAME : color-api-7bf587b48f-7w5mh\n",
      "2025-09-01 04:04:50 COLOR : purple, HOSTNAME : color-api-7bf587b48f-7w5mh\n",
      "2025-09-01 04:04:51 COLOR : purple, HOSTNAME : color-api-7bf587b48f-x667r\n",
      "2025-09-01 04:04:51 COLOR : purple, HOSTNAME : color-api-7bf587b48f-x667r\n",
      "2025-09-01 04:04:52 COLOR : purple, HOSTNAME : color-api-7bf587b48f-7w5mh\n",
      "2025-09-01 04:04:52 COLOR : purple, HOSTNAME : color-api-7bf587b48f-x667r\n",
      "2025-09-01 04:04:53 COLOR : purple, HOSTNAME : color-api-7bf587b48f-zdbp6\n",
      "2025-09-01 04:04:53 COLOR : purple, HOSTNAME : color-api-7bf587b48f-x667r\n",
      "2025-09-01 04:04:54 COLOR : purple, HOSTNAME : color-api-7bf587b48f-9knpt\n",
      "2025-09-01 04:04:54 COLOR : purple, HOSTNAME : color-api-7bf587b48f-zdbp6\n"
     ]
    }
   ],
   "source": [
    "!kubectl logs pod/traffic-generator"
   ]
  },
  {
   "cell_type": "code",
   "execution_count": 54,
   "id": "3efd9aeb",
   "metadata": {},
   "outputs": [
    {
     "name": "stdout",
     "output_type": "stream",
     "text": [
      "Created\n"
     ]
    },
    {
     "name": "stderr",
     "output_type": "stream",
     "text": [
      "  % Total    % Received % Xferd  Average Speed   Time    Time     Time  Current\n",
      "                                 Dload  Upload   Total   Spent    Left  Speed\n",
      "\n",
      "  0     0    0     0    0     0      0      0 --:--:-- --:--:-- --:--:--     0\n",
      "100    22  100     7  100    15    463    994 --:--:-- --:--:-- --:--:--  1466\n"
     ]
    }
   ],
   "source": [
    "!curl -X POST http://localhost:30080/api/color/primary -H \"Content-Type: application/json\" -d \"{\\\"value\\\":\\\"red\\\"}\""
   ]
  },
  {
   "cell_type": "code",
   "execution_count": 55,
   "id": "068168ff",
   "metadata": {},
   "outputs": [
    {
     "name": "stdout",
     "output_type": "stream",
     "text": [
      "Sending request to color-svc/api?colorkey=primary every 0.5 seconds..\n",
      "2025-09-01 04:04:43 COLOR : purple, HOSTNAME : color-api-7bf587b48f-7w5mh\n",
      "2025-09-01 04:04:43 COLOR : purple, HOSTNAME : color-api-7bf587b48f-x667r\n",
      "2025-09-01 04:04:44 COLOR : purple, HOSTNAME : color-api-7bf587b48f-x667r\n",
      "2025-09-01 04:04:44 COLOR : purple, HOSTNAME : color-api-7bf587b48f-7w5mh\n",
      "2025-09-01 04:04:45 COLOR : purple, HOSTNAME : color-api-7bf587b48f-9knpt\n",
      "2025-09-01 04:04:45 COLOR : purple, HOSTNAME : color-api-7bf587b48f-9knpt\n",
      "2025-09-01 04:04:46 COLOR : purple, HOSTNAME : color-api-7bf587b48f-9knpt\n",
      "2025-09-01 04:04:46 COLOR : purple, HOSTNAME : color-api-7bf587b48f-x667r\n",
      "2025-09-01 04:04:47 COLOR : purple, HOSTNAME : color-api-7bf587b48f-zdbp6\n",
      "2025-09-01 04:04:47 COLOR : purple, HOSTNAME : color-api-7bf587b48f-x667r\n",
      "2025-09-01 04:04:48 COLOR : purple, HOSTNAME : color-api-7bf587b48f-2xn4r\n",
      "2025-09-01 04:04:48 COLOR : purple, HOSTNAME : color-api-7bf587b48f-9knpt\n",
      "2025-09-01 04:04:49 COLOR : purple, HOSTNAME : color-api-7bf587b48f-zdbp6\n",
      "2025-09-01 04:04:49 COLOR : purple, HOSTNAME : color-api-7bf587b48f-9knpt\n",
      "2025-09-01 04:04:50 COLOR : purple, HOSTNAME : color-api-7bf587b48f-7w5mh\n",
      "2025-09-01 04:04:50 COLOR : purple, HOSTNAME : color-api-7bf587b48f-7w5mh\n",
      "2025-09-01 04:04:51 COLOR : purple, HOSTNAME : color-api-7bf587b48f-x667r\n",
      "2025-09-01 04:04:51 COLOR : purple, HOSTNAME : color-api-7bf587b48f-x667r\n",
      "2025-09-01 04:04:52 COLOR : purple, HOSTNAME : color-api-7bf587b48f-7w5mh\n",
      "2025-09-01 04:04:52 COLOR : purple, HOSTNAME : color-api-7bf587b48f-x667r\n",
      "2025-09-01 04:04:53 COLOR : purple, HOSTNAME : color-api-7bf587b48f-zdbp6\n",
      "2025-09-01 04:04:53 COLOR : purple, HOSTNAME : color-api-7bf587b48f-x667r\n",
      "2025-09-01 04:04:54 COLOR : purple, HOSTNAME : color-api-7bf587b48f-9knpt\n",
      "2025-09-01 04:04:54 COLOR : purple, HOSTNAME : color-api-7bf587b48f-zdbp6\n",
      "2025-09-01 04:04:55 COLOR : purple, HOSTNAME : color-api-7bf587b48f-x667r\n",
      "2025-09-01 04:04:55 COLOR : purple, HOSTNAME : color-api-7bf587b48f-9knpt\n",
      "2025-09-01 04:04:56 COLOR : purple, HOSTNAME : color-api-7bf587b48f-7w5mh\n",
      "2025-09-01 04:04:56 COLOR : purple, HOSTNAME : color-api-7bf587b48f-zdbp6\n",
      "2025-09-01 04:04:57 COLOR : purple, HOSTNAME : color-api-7bf587b48f-zdbp6\n",
      "2025-09-01 04:04:57 COLOR : purple, HOSTNAME : color-api-7bf587b48f-zdbp6\n",
      "2025-09-01 04:04:58 COLOR : purple, HOSTNAME : color-api-7bf587b48f-x667r\n",
      "2025-09-01 04:04:58 COLOR : purple, HOSTNAME : color-api-7bf587b48f-9knpt\n",
      "2025-09-01 04:04:59 COLOR : purple, HOSTNAME : color-api-7bf587b48f-2xn4r\n",
      "2025-09-01 04:04:59 COLOR : purple, HOSTNAME : color-api-7bf587b48f-7w5mh\n",
      "2025-09-01 04:05:00 COLOR : purple, HOSTNAME : color-api-7bf587b48f-x667r\n",
      "2025-09-01 04:05:00 COLOR : purple, HOSTNAME : color-api-7bf587b48f-7w5mh\n",
      "2025-09-01 04:05:01 COLOR : purple, HOSTNAME : color-api-7bf587b48f-2xn4r\n",
      "2025-09-01 04:05:01 COLOR : purple, HOSTNAME : color-api-7bf587b48f-zdbp6\n",
      "2025-09-01 04:05:02 COLOR : purple, HOSTNAME : color-api-7bf587b48f-2xn4r\n",
      "2025-09-01 04:05:02 COLOR : purple, HOSTNAME : color-api-7bf587b48f-9knpt\n",
      "2025-09-01 04:05:03 COLOR : purple, HOSTNAME : color-api-7bf587b48f-7w5mh\n",
      "2025-09-01 04:05:03 COLOR : purple, HOSTNAME : color-api-7bf587b48f-9knpt\n",
      "2025-09-01 04:05:04 COLOR : purple, HOSTNAME : color-api-7bf587b48f-x667r\n",
      "2025-09-01 04:05:05 COLOR : purple, HOSTNAME : color-api-7bf587b48f-zdbp6\n",
      "2025-09-01 04:05:05 COLOR : purple, HOSTNAME : color-api-7bf587b48f-2xn4r\n",
      "2025-09-01 04:05:06 COLOR : purple, HOSTNAME : color-api-7bf587b48f-9knpt\n",
      "2025-09-01 04:05:06 COLOR : purple, HOSTNAME : color-api-7bf587b48f-7w5mh\n",
      "2025-09-01 04:05:07 COLOR : purple, HOSTNAME : color-api-7bf587b48f-x667r\n",
      "2025-09-01 04:05:07 COLOR : purple, HOSTNAME : color-api-7bf587b48f-zdbp6\n",
      "2025-09-01 04:05:08 COLOR : purple, HOSTNAME : color-api-7bf587b48f-7w5mh\n",
      "2025-09-01 04:05:08 COLOR : purple, HOSTNAME : color-api-7bf587b48f-2xn4r\n",
      "2025-09-01 04:05:09 COLOR : purple, HOSTNAME : color-api-7bf587b48f-7w5mh\n",
      "2025-09-01 04:05:09 COLOR : purple, HOSTNAME : color-api-7bf587b48f-zdbp6\n",
      "2025-09-01 04:05:10 COLOR : purple, HOSTNAME : color-api-7bf587b48f-2xn4r\n",
      "2025-09-01 04:05:10 COLOR : purple, HOSTNAME : color-api-7bf587b48f-7w5mh\n",
      "2025-09-01 04:05:11 COLOR : purple, HOSTNAME : color-api-7bf587b48f-x667r\n",
      "2025-09-01 04:05:11 COLOR : purple, HOSTNAME : color-api-7bf587b48f-9knpt\n",
      "2025-09-01 04:05:12 COLOR : purple, HOSTNAME : color-api-7bf587b48f-7w5mh\n",
      "2025-09-01 04:05:12 COLOR : purple, HOSTNAME : color-api-7bf587b48f-7w5mh\n",
      "2025-09-01 04:05:13 COLOR : purple, HOSTNAME : color-api-7bf587b48f-2xn4r\n",
      "2025-09-01 04:05:13 COLOR : purple, HOSTNAME : color-api-7bf587b48f-9knpt\n",
      "2025-09-01 04:05:14 COLOR : purple, HOSTNAME : color-api-7bf587b48f-2xn4r\n",
      "2025-09-01 04:05:14 COLOR : purple, HOSTNAME : color-api-7bf587b48f-7w5mh\n",
      "2025-09-01 04:05:15 COLOR : purple, HOSTNAME : color-api-7bf587b48f-x667r\n",
      "2025-09-01 04:05:15 COLOR : purple, HOSTNAME : color-api-7bf587b48f-7w5mh\n",
      "2025-09-01 04:05:16 COLOR : purple, HOSTNAME : color-api-7bf587b48f-zdbp6\n",
      "2025-09-01 04:05:16 COLOR : purple, HOSTNAME : color-api-7bf587b48f-7w5mh\n",
      "2025-09-01 04:05:17 COLOR : purple, HOSTNAME : color-api-7bf587b48f-2xn4r\n",
      "2025-09-01 04:05:17 COLOR : purple, HOSTNAME : color-api-7bf587b48f-zdbp6\n",
      "2025-09-01 04:05:18 COLOR : purple, HOSTNAME : color-api-7bf587b48f-zdbp6\n",
      "2025-09-01 04:05:18 COLOR : purple, HOSTNAME : color-api-7bf587b48f-x667r\n",
      "2025-09-01 04:05:19 COLOR : purple, HOSTNAME : color-api-7bf587b48f-2xn4r\n",
      "2025-09-01 04:05:19 COLOR : purple, HOSTNAME : color-api-7bf587b48f-2xn4r\n",
      "2025-09-01 04:05:20 COLOR : purple, HOSTNAME : color-api-7bf587b48f-2xn4r\n",
      "2025-09-01 04:05:20 COLOR : purple, HOSTNAME : color-api-7bf587b48f-9knpt\n",
      "2025-09-01 04:05:21 COLOR : purple, HOSTNAME : color-api-7bf587b48f-zdbp6\n",
      "2025-09-01 04:05:21 COLOR : purple, HOSTNAME : color-api-7bf587b48f-x667r\n",
      "2025-09-01 04:05:22 COLOR : purple, HOSTNAME : color-api-7bf587b48f-x667r\n",
      "2025-09-01 04:05:22 COLOR : purple, HOSTNAME : color-api-7bf587b48f-7w5mh\n",
      "2025-09-01 04:05:23 COLOR : purple, HOSTNAME : color-api-7bf587b48f-7w5mh\n",
      "2025-09-01 04:05:23 COLOR : purple, HOSTNAME : color-api-7bf587b48f-2xn4r\n",
      "2025-09-01 04:05:24 COLOR : purple, HOSTNAME : color-api-7bf587b48f-2xn4r\n",
      "2025-09-01 04:05:24 COLOR : purple, HOSTNAME : color-api-7bf587b48f-x667r\n",
      "2025-09-01 04:05:25 COLOR : purple, HOSTNAME : color-api-7bf587b48f-x667r\n",
      "2025-09-01 04:05:25 COLOR : purple, HOSTNAME : color-api-7bf587b48f-9knpt\n",
      "2025-09-01 04:05:26 COLOR : purple, HOSTNAME : color-api-7bf587b48f-x667r\n",
      "2025-09-01 04:05:26 COLOR : purple, HOSTNAME : color-api-7bf587b48f-7w5mh\n",
      "2025-09-01 04:05:27 COLOR : purple, HOSTNAME : color-api-7bf587b48f-2xn4r\n",
      "2025-09-01 04:05:27 COLOR : purple, HOSTNAME : color-api-7bf587b48f-x667r\n",
      "2025-09-01 04:05:28 COLOR : purple, HOSTNAME : color-api-7bf587b48f-x667r\n",
      "2025-09-01 04:05:28 COLOR : purple, HOSTNAME : color-api-7bf587b48f-7w5mh\n",
      "2025-09-01 04:05:29 COLOR : purple, HOSTNAME : color-api-7bf587b48f-7w5mh\n",
      "2025-09-01 04:05:29 COLOR : purple, HOSTNAME : color-api-7bf587b48f-7w5mh\n",
      "2025-09-01 04:05:30 COLOR : purple, HOSTNAME : color-api-7bf587b48f-x667r\n",
      "2025-09-01 04:05:30 COLOR : purple, HOSTNAME : color-api-7bf587b48f-zdbp6\n",
      "2025-09-01 04:05:31 COLOR : purple, HOSTNAME : color-api-7bf587b48f-x667r\n",
      "2025-09-01 04:05:31 COLOR : purple, HOSTNAME : color-api-7bf587b48f-zdbp6\n",
      "2025-09-01 04:05:32 COLOR : purple, HOSTNAME : color-api-7bf587b48f-x667r\n",
      "2025-09-01 04:05:32 COLOR : purple, HOSTNAME : color-api-7bf587b48f-7w5mh\n",
      "2025-09-01 04:05:33 COLOR : purple, HOSTNAME : color-api-7bf587b48f-2xn4r\n",
      "2025-09-01 04:05:33 COLOR : purple, HOSTNAME : color-api-7bf587b48f-2xn4r\n",
      "2025-09-01 04:05:34 COLOR : purple, HOSTNAME : color-api-7bf587b48f-7w5mh\n",
      "2025-09-01 04:05:34 COLOR : purple, HOSTNAME : color-api-7bf587b48f-x667r\n",
      "2025-09-01 04:05:35 COLOR : purple, HOSTNAME : color-api-7bf587b48f-x667r\n",
      "2025-09-01 04:05:35 COLOR : purple, HOSTNAME : color-api-7bf587b48f-9knpt\n",
      "2025-09-01 04:05:36 COLOR : purple, HOSTNAME : color-api-7bf587b48f-x667r\n",
      "2025-09-01 04:05:37 COLOR : purple, HOSTNAME : color-api-7bf587b48f-2xn4r\n",
      "2025-09-01 04:05:37 COLOR : purple, HOSTNAME : color-api-7bf587b48f-7w5mh\n",
      "2025-09-01 04:05:38 COLOR : purple, HOSTNAME : color-api-7bf587b48f-2xn4r\n",
      "2025-09-01 04:05:38 COLOR : purple, HOSTNAME : color-api-7bf587b48f-zdbp6\n",
      "2025-09-01 04:05:39 COLOR : purple, HOSTNAME : color-api-7bf587b48f-9knpt\n",
      "2025-09-01 04:05:39 COLOR : purple, HOSTNAME : color-api-7bf587b48f-x667r\n",
      "2025-09-01 04:05:40 COLOR : purple, HOSTNAME : color-api-7bf587b48f-2xn4r\n",
      "2025-09-01 04:05:40 COLOR : purple, HOSTNAME : color-api-7bf587b48f-2xn4r\n",
      "2025-09-01 04:05:41 COLOR : purple, HOSTNAME : color-api-7bf587b48f-2xn4r\n",
      "2025-09-01 04:05:41 COLOR : purple, HOSTNAME : color-api-7bf587b48f-x667r\n",
      "2025-09-01 04:05:42 COLOR : purple, HOSTNAME : color-api-7bf587b48f-2xn4r\n",
      "2025-09-01 04:05:42 COLOR : purple, HOSTNAME : color-api-7bf587b48f-7w5mh\n",
      "2025-09-01 04:05:43 COLOR : purple, HOSTNAME : color-api-7bf587b48f-x667r\n",
      "2025-09-01 04:05:43 COLOR : purple, HOSTNAME : color-api-7bf587b48f-9knpt\n",
      "2025-09-01 04:05:44 COLOR : purple, HOSTNAME : color-api-7bf587b48f-2xn4r\n",
      "2025-09-01 04:05:44 COLOR : purple, HOSTNAME : color-api-7bf587b48f-9knpt\n",
      "2025-09-01 04:05:45 COLOR : purple, HOSTNAME : color-api-7bf587b48f-7w5mh\n",
      "2025-09-01 04:05:45 COLOR : purple, HOSTNAME : color-api-7bf587b48f-7w5mh\n",
      "2025-09-01 04:05:46 COLOR : purple, HOSTNAME : color-api-7bf587b48f-2xn4r\n",
      "2025-09-01 04:05:46 COLOR : purple, HOSTNAME : color-api-7bf587b48f-2xn4r\n",
      "2025-09-01 04:05:47 COLOR : purple, HOSTNAME : color-api-7bf587b48f-7w5mh\n",
      "2025-09-01 04:05:47 COLOR : purple, HOSTNAME : color-api-7bf587b48f-zdbp6\n",
      "2025-09-01 04:05:48 COLOR : purple, HOSTNAME : color-api-7bf587b48f-9knpt\n",
      "2025-09-01 04:05:48 COLOR : purple, HOSTNAME : color-api-7bf587b48f-7w5mh\n",
      "2025-09-01 04:05:49 COLOR : purple, HOSTNAME : color-api-7bf587b48f-zdbp6\n",
      "2025-09-01 04:05:49 COLOR : purple, HOSTNAME : color-api-7bf587b48f-zdbp6\n",
      "2025-09-01 04:05:50 COLOR : purple, HOSTNAME : color-api-7bf587b48f-zdbp6\n",
      "2025-09-01 04:05:50 COLOR : purple, HOSTNAME : color-api-7bf587b48f-zdbp6\n",
      "2025-09-01 04:05:51 COLOR : purple, HOSTNAME : color-api-7bf587b48f-2xn4r\n",
      "2025-09-01 04:05:51 COLOR : purple, HOSTNAME : color-api-7bf587b48f-9knpt\n",
      "2025-09-01 04:05:52 COLOR : purple, HOSTNAME : color-api-7bf587b48f-7w5mh\n",
      "2025-09-01 04:05:52 COLOR : purple, HOSTNAME : color-api-7bf587b48f-7w5mh\n",
      "2025-09-01 04:05:53 COLOR : purple, HOSTNAME : color-api-7bf587b48f-x667r\n",
      "2025-09-01 04:05:53 COLOR : purple, HOSTNAME : color-api-7bf587b48f-x667r\n",
      "2025-09-01 04:05:54 COLOR : purple, HOSTNAME : color-api-7bf587b48f-9knpt\n",
      "2025-09-01 04:05:54 COLOR : purple, HOSTNAME : color-api-7bf587b48f-9knpt\n",
      "2025-09-01 04:05:55 COLOR : purple, HOSTNAME : color-api-7bf587b48f-7w5mh\n",
      "2025-09-01 04:05:55 COLOR : purple, HOSTNAME : color-api-7bf587b48f-7w5mh\n",
      "2025-09-01 04:05:56 COLOR : purple, HOSTNAME : color-api-7bf587b48f-9knpt\n",
      "2025-09-01 04:05:56 COLOR : purple, HOSTNAME : color-api-7bf587b48f-9knpt\n",
      "2025-09-01 04:05:57 COLOR : purple, HOSTNAME : color-api-7bf587b48f-x667r\n",
      "2025-09-01 04:05:57 COLOR : purple, HOSTNAME : color-api-7bf587b48f-9knpt\n",
      "2025-09-01 04:05:58 COLOR : purple, HOSTNAME : color-api-7bf587b48f-2xn4r\n",
      "2025-09-01 04:05:58 COLOR : purple, HOSTNAME : color-api-7bf587b48f-2xn4r\n",
      "2025-09-01 04:05:59 COLOR : purple, HOSTNAME : color-api-7bf587b48f-x667r\n",
      "2025-09-01 04:05:59 COLOR : purple, HOSTNAME : color-api-7bf587b48f-2xn4r\n",
      "2025-09-01 04:06:00 COLOR : purple, HOSTNAME : color-api-7bf587b48f-x667r\n",
      "2025-09-01 04:06:00 COLOR : purple, HOSTNAME : color-api-7bf587b48f-zdbp6\n",
      "2025-09-01 04:06:01 COLOR : purple, HOSTNAME : color-api-7bf587b48f-9knpt\n",
      "2025-09-01 04:06:01 COLOR : purple, HOSTNAME : color-api-7bf587b48f-2xn4r\n",
      "2025-09-01 04:06:02 COLOR : purple, HOSTNAME : color-api-7bf587b48f-9knpt\n",
      "2025-09-01 04:06:02 COLOR : purple, HOSTNAME : color-api-7bf587b48f-zdbp6\n",
      "2025-09-01 04:06:03 COLOR : purple, HOSTNAME : color-api-7bf587b48f-9knpt\n",
      "2025-09-01 04:06:03 COLOR : purple, HOSTNAME : color-api-7bf587b48f-7w5mh\n",
      "2025-09-01 04:06:04 COLOR : purple, HOSTNAME : color-api-7bf587b48f-7w5mh\n",
      "2025-09-01 04:06:04 COLOR : purple, HOSTNAME : color-api-7bf587b48f-zdbp6\n",
      "2025-09-01 04:06:05 COLOR : purple, HOSTNAME : color-api-7bf587b48f-2xn4r\n",
      "2025-09-01 04:06:05 COLOR : purple, HOSTNAME : color-api-7bf587b48f-2xn4r\n",
      "2025-09-01 04:06:06 COLOR : purple, HOSTNAME : color-api-7bf587b48f-zdbp6\n",
      "2025-09-01 04:06:06 COLOR : purple, HOSTNAME : color-api-7bf587b48f-7w5mh\n",
      "2025-09-01 04:06:07 COLOR : purple, HOSTNAME : color-api-7bf587b48f-7w5mh\n",
      "2025-09-01 04:06:07 COLOR : purple, HOSTNAME : color-api-7bf587b48f-2xn4r\n",
      "2025-09-01 04:06:08 COLOR : purple, HOSTNAME : color-api-7bf587b48f-7w5mh\n",
      "2025-09-01 04:06:08 COLOR : purple, HOSTNAME : color-api-7bf587b48f-2xn4r\n",
      "2025-09-01 04:06:09 COLOR : purple, HOSTNAME : color-api-7bf587b48f-2xn4r\n",
      "2025-09-01 04:06:09 COLOR : purple, HOSTNAME : color-api-7bf587b48f-zdbp6\n",
      "2025-09-01 04:06:10 COLOR : purple, HOSTNAME : color-api-7bf587b48f-9knpt\n",
      "2025-09-01 04:06:10 COLOR : purple, HOSTNAME : color-api-7bf587b48f-zdbp6\n",
      "2025-09-01 04:06:11 COLOR : purple, HOSTNAME : color-api-7bf587b48f-zdbp6\n",
      "2025-09-01 04:06:12 COLOR : purple, HOSTNAME : color-api-7bf587b48f-9knpt\n",
      "2025-09-01 04:06:12 COLOR : red, HOSTNAME : color-api-7bf587b48f-x667r\n",
      "2025-09-01 04:06:13 COLOR : red, HOSTNAME : color-api-7bf587b48f-7w5mh\n",
      "2025-09-01 04:06:13 COLOR : red, HOSTNAME : color-api-7bf587b48f-7w5mh\n",
      "2025-09-01 04:06:14 COLOR : red, HOSTNAME : color-api-7bf587b48f-9knpt\n",
      "2025-09-01 04:06:14 COLOR : red, HOSTNAME : color-api-7bf587b48f-x667r\n",
      "2025-09-01 04:06:15 COLOR : red, HOSTNAME : color-api-7bf587b48f-2xn4r\n",
      "2025-09-01 04:06:15 COLOR : red, HOSTNAME : color-api-7bf587b48f-zdbp6\n",
      "2025-09-01 04:06:16 COLOR : red, HOSTNAME : color-api-7bf587b48f-9knpt\n",
      "2025-09-01 04:06:16 COLOR : red, HOSTNAME : color-api-7bf587b48f-7w5mh\n",
      "2025-09-01 04:06:17 COLOR : red, HOSTNAME : color-api-7bf587b48f-x667r\n",
      "2025-09-01 04:06:17 COLOR : red, HOSTNAME : color-api-7bf587b48f-zdbp6\n",
      "2025-09-01 04:06:18 COLOR : red, HOSTNAME : color-api-7bf587b48f-2xn4r\n",
      "2025-09-01 04:06:18 COLOR : red, HOSTNAME : color-api-7bf587b48f-9knpt\n",
      "2025-09-01 04:06:19 COLOR : red, HOSTNAME : color-api-7bf587b48f-9knpt\n",
      "2025-09-01 04:06:19 COLOR : red, HOSTNAME : color-api-7bf587b48f-zdbp6\n",
      "2025-09-01 04:06:20 COLOR : red, HOSTNAME : color-api-7bf587b48f-9knpt\n",
      "2025-09-01 04:06:20 COLOR : red, HOSTNAME : color-api-7bf587b48f-9knpt\n",
      "2025-09-01 04:06:21 COLOR : red, HOSTNAME : color-api-7bf587b48f-zdbp6\n",
      "2025-09-01 04:06:21 COLOR : red, HOSTNAME : color-api-7bf587b48f-2xn4r\n",
      "2025-09-01 04:06:22 COLOR : red, HOSTNAME : color-api-7bf587b48f-7w5mh\n",
      "2025-09-01 04:06:22 COLOR : red, HOSTNAME : color-api-7bf587b48f-9knpt\n",
      "2025-09-01 04:06:23 COLOR : red, HOSTNAME : color-api-7bf587b48f-x667r\n",
      "2025-09-01 04:06:23 COLOR : red, HOSTNAME : color-api-7bf587b48f-7w5mh\n",
      "2025-09-01 04:06:24 COLOR : red, HOSTNAME : color-api-7bf587b48f-zdbp6\n",
      "2025-09-01 04:06:24 COLOR : red, HOSTNAME : color-api-7bf587b48f-x667r\n",
      "2025-09-01 04:06:25 COLOR : red, HOSTNAME : color-api-7bf587b48f-9knpt\n",
      "2025-09-01 04:06:25 COLOR : red, HOSTNAME : color-api-7bf587b48f-7w5mh\n",
      "2025-09-01 04:06:26 COLOR : red, HOSTNAME : color-api-7bf587b48f-x667r\n",
      "2025-09-01 04:06:26 COLOR : red, HOSTNAME : color-api-7bf587b48f-x667r\n",
      "2025-09-01 04:06:27 COLOR : red, HOSTNAME : color-api-7bf587b48f-zdbp6\n",
      "2025-09-01 04:06:27 COLOR : red, HOSTNAME : color-api-7bf587b48f-zdbp6\n",
      "2025-09-01 04:06:28 COLOR : red, HOSTNAME : color-api-7bf587b48f-7w5mh\n"
     ]
    }
   ],
   "source": [
    "!kubectl logs pod/traffic-generator"
   ]
  },
  {
   "cell_type": "code",
   "execution_count": 56,
   "id": "3af44b6f",
   "metadata": {},
   "outputs": [
    {
     "name": "stdout",
     "output_type": "stream",
     "text": [
      "pod \"traffic-generator\" force deleted\n"
     ]
    },
    {
     "name": "stderr",
     "output_type": "stream",
     "text": [
      "Warning: Immediate deletion does not wait for confirmation that the running resource has been terminated. The resource may continue to run on the cluster indefinitely.\n"
     ]
    }
   ],
   "source": [
    "!kubectl delete pod --force traffic-generator"
   ]
  },
  {
   "cell_type": "code",
   "execution_count": 57,
   "id": "88345702",
   "metadata": {},
   "outputs": [
    {
     "name": "stdout",
     "output_type": "stream",
     "text": [
      "statefulset.apps/mongodb-ss scaled\n"
     ]
    }
   ],
   "source": [
    "!kubectl scale statefulset mongodb-ss --replicas=5"
   ]
  },
  {
   "cell_type": "code",
   "execution_count": 59,
   "id": "b241ac52",
   "metadata": {},
   "outputs": [
    {
     "name": "stdout",
     "output_type": "stream",
     "text": [
      "NAME                         READY   STATUS    RESTARTS       AGE\n",
      "color-api-7bf587b48f-2xn4r   1/1     Running   1 (103s ago)   9m38s\n",
      "color-api-7bf587b48f-7w5mh   1/1     Running   0              9m38s\n",
      "color-api-7bf587b48f-9knpt   1/1     Running   0              9m38s\n",
      "color-api-7bf587b48f-x667r   1/1     Running   2 (15m ago)    15m\n",
      "color-api-7bf587b48f-zdbp6   1/1     Running   0              9m38s\n",
      "mongodb-ss-0                 1/1     Running   0              162m\n",
      "mongodb-ss-1                 1/1     Running   0              11s\n",
      "mongodb-ss-2                 1/1     Running   0              9s\n",
      "mongodb-ss-3                 1/1     Running   0              7s\n",
      "mongodb-ss-4                 1/1     Running   0              4s\n"
     ]
    }
   ],
   "source": [
    "!kubectl get pods"
   ]
  },
  {
   "cell_type": "code",
   "execution_count": 60,
   "id": "f87cae58",
   "metadata": {},
   "outputs": [
    {
     "name": "stdout",
     "output_type": "stream",
     "text": [
      "deployment.apps \"color-api\" deleted\n",
      "service \"color-svc\" deleted\n",
      "statefulset.apps \"mongodb-ss\" deleted\n",
      "secret \"mongodb-colordb-creds\" deleted\n",
      "secret \"mongodb-root-creds\" deleted\n",
      "configmap \"mongodb-init-colordb\" deleted\n",
      "service \"mongodb-svc\" deleted\n"
     ]
    },
    {
     "name": "stderr",
     "output_type": "stream",
     "text": [
      "Error from server (NotFound): error when deleting \"traffic-genrator-pod.yaml\": pods \"traffic-generator\" not found\n"
     ]
    }
   ],
   "source": [
    "!kubectl delete -f ."
   ]
  },
  {
   "cell_type": "code",
   "execution_count": 61,
   "id": "28757010",
   "metadata": {},
   "outputs": [
    {
     "name": "stdout",
     "output_type": "stream",
     "text": [
      "NAME                                                        CAPACITY   ACCESS MODES   RECLAIM POLICY   STATUS   CLAIM                               STORAGECLASS   VOLUMEATTRIBUTESCLASS   REASON   AGE\n",
      "persistentvolume/pvc-063ffbc4-e98c-4608-9897-d810aa369c68   5Gi        RWO            Delete           Bound    default/mongodb-data-mongodb-ss-0   hostpath       <unset>                          164m\n",
      "persistentvolume/pvc-13ec6fb7-d372-4754-b734-b730e30d4c61   5Gi        RWO            Delete           Bound    default/mongodb-data-mongodb-ss-1   hostpath       <unset>                          2m29s\n",
      "persistentvolume/pvc-32d436ad-a648-40f4-9a31-cffc3ba1c084   5Gi        RWO            Delete           Bound    default/mongodb-data-mongodb-ss-4   hostpath       <unset>                          2m22s\n",
      "persistentvolume/pvc-44ff06f1-533d-4a70-b72c-dc585bc43214   5Gi        RWO            Delete           Bound    default/mongodb-data-mongodb-ss-2   hostpath       <unset>                          2m27s\n",
      "persistentvolume/pvc-5f058326-321a-44bf-a8fc-ea163966f57e   5Gi        RWO            Delete           Bound    default/mongodb-data-mongodb-ss-3   hostpath       <unset>                          2m25s\n",
      "\n",
      "NAME                                              STATUS   VOLUME                                     CAPACITY   ACCESS MODES   STORAGECLASS   VOLUMEATTRIBUTESCLASS   AGE\n",
      "persistentvolumeclaim/mongodb-data-mongodb-ss-0   Bound    pvc-063ffbc4-e98c-4608-9897-d810aa369c68   5Gi        RWO            hostpath       <unset>                 164m\n",
      "persistentvolumeclaim/mongodb-data-mongodb-ss-1   Bound    pvc-13ec6fb7-d372-4754-b734-b730e30d4c61   5Gi        RWO            hostpath       <unset>                 2m29s\n",
      "persistentvolumeclaim/mongodb-data-mongodb-ss-2   Bound    pvc-44ff06f1-533d-4a70-b72c-dc585bc43214   5Gi        RWO            hostpath       <unset>                 2m27s\n",
      "persistentvolumeclaim/mongodb-data-mongodb-ss-3   Bound    pvc-5f058326-321a-44bf-a8fc-ea163966f57e   5Gi        RWO            hostpath       <unset>                 2m25s\n",
      "persistentvolumeclaim/mongodb-data-mongodb-ss-4   Bound    pvc-32d436ad-a648-40f4-9a31-cffc3ba1c084   5Gi        RWO            hostpath       <unset>                 2m22s\n"
     ]
    }
   ],
   "source": [
    "!kubectl get pv,pvc"
   ]
  },
  {
   "cell_type": "code",
   "execution_count": 62,
   "id": "a45f3d4a",
   "metadata": {},
   "outputs": [
    {
     "name": "stdout",
     "output_type": "stream",
     "text": [
      "persistentvolumeclaim \"mongodb-data-mongodb-ss-0\" deleted\n",
      "persistentvolumeclaim \"mongodb-data-mongodb-ss-1\" deleted\n",
      "persistentvolumeclaim \"mongodb-data-mongodb-ss-2\" deleted\n",
      "persistentvolumeclaim \"mongodb-data-mongodb-ss-3\" deleted\n",
      "persistentvolumeclaim \"mongodb-data-mongodb-ss-4\" deleted\n"
     ]
    }
   ],
   "source": [
    "!kubectl delete pvc --all"
   ]
  },
  {
   "cell_type": "code",
   "execution_count": 63,
   "id": "c2781317",
   "metadata": {},
   "outputs": [
    {
     "name": "stdout",
     "output_type": "stream",
     "text": [
      "NAME         TYPE        CLUSTER-IP   EXTERNAL-IP   PORT(S)   AGE\n",
      "kubernetes   ClusterIP   10.96.0.1    <none>        443/TCP   3d3h\n"
     ]
    }
   ],
   "source": [
    "!kubectl get svc"
   ]
  },
  {
   "cell_type": "code",
   "execution_count": 64,
   "id": "0859a481",
   "metadata": {},
   "outputs": [
    {
     "name": "stderr",
     "output_type": "stream",
     "text": [
      "No resources found in default namespace.\n"
     ]
    }
   ],
   "source": [
    "!kubectl get pods"
   ]
  },
  {
   "cell_type": "code",
   "execution_count": 65,
   "id": "a04bb326",
   "metadata": {},
   "outputs": [
    {
     "name": "stderr",
     "output_type": "stream",
     "text": [
      "No resources found in default namespace.\n"
     ]
    }
   ],
   "source": [
    "!kubectl get deployments"
   ]
  },
  {
   "cell_type": "code",
   "execution_count": 66,
   "id": "3e0d098c",
   "metadata": {},
   "outputs": [
    {
     "name": "stdout",
     "output_type": "stream",
     "text": [
      "NAME               DATA   AGE\n",
      "kube-root-ca.crt   1      3d3h\n"
     ]
    }
   ],
   "source": [
    "!kubectl get configmaps"
   ]
  },
  {
   "cell_type": "code",
   "execution_count": 67,
   "id": "b39f668d",
   "metadata": {},
   "outputs": [
    {
     "name": "stderr",
     "output_type": "stream",
     "text": [
      "No resources found in default namespace.\n"
     ]
    }
   ],
   "source": [
    "!kubectl get secrets"
   ]
  },
  {
   "cell_type": "code",
   "execution_count": null,
   "id": "a107fb4c",
   "metadata": {},
   "outputs": [],
   "source": []
  }
 ],
 "metadata": {
  "kernelspec": {
   "display_name": ".venv",
   "language": "python",
   "name": "python3"
  },
  "language_info": {
   "codemirror_mode": {
    "name": "ipython",
    "version": 3
   },
   "file_extension": ".py",
   "mimetype": "text/x-python",
   "name": "python",
   "nbconvert_exporter": "python",
   "pygments_lexer": "ipython3",
   "version": "3.13.5"
  }
 },
 "nbformat": 4,
 "nbformat_minor": 5
}
