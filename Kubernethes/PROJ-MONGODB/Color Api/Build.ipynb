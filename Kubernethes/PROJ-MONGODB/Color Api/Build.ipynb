{
 "cells": [
  {
   "cell_type": "code",
   "execution_count": 15,
   "id": "085e6a9d",
   "metadata": {},
   "outputs": [
    {
     "name": "stdout",
     "output_type": "stream",
     "text": [
      "\n",
      "up to date, audited 89 packages in 1s\n",
      "\n",
      "13 packages are looking for funding\n",
      "  run `npm fund` for details\n",
      "\n",
      "7 vulnerabilities (3 low, 3 high, 1 critical)\n",
      "\n",
      "To address issues that do not require attention, run:\n",
      "  npm audit fix\n",
      "\n",
      "To address all issues, run:\n",
      "  npm audit fix --force\n",
      "\n",
      "Run `npm audit` for details.\n",
      "\n",
      "added 2 packages, changed 1 package, and audited 91 packages in 818ms\n",
      "\n",
      "14 packages are looking for funding\n",
      "  run `npm fund` for details\n",
      "\n",
      "7 vulnerabilities (3 low, 3 high, 1 critical)\n",
      "\n",
      "To address issues that do not require attention, run:\n",
      "  npm audit fix\n",
      "\n",
      "To address all issues, run:\n",
      "  npm audit fix --force\n",
      "\n",
      "Run `npm audit` for details.\n"
     ]
    }
   ],
   "source": [
    "!npm install  --save-exact mongoose@8.6.3\n",
    "!npm install  --save-exact body-parser@1.20.3"
   ]
  },
  {
   "cell_type": "code",
   "execution_count": 10,
   "id": "d3aaf0a4",
   "metadata": {},
   "outputs": [
    {
     "name": "stdout",
     "output_type": "stream",
     "text": [
      "<h1 style=\"color:blue;\">Hello from Color-API!</h1>\n",
      "            <h2>Hostname: MSI</h2>\n"
     ]
    },
    {
     "name": "stderr",
     "output_type": "stream",
     "text": [
      "  % Total    % Received % Xferd  Average Speed   Time    Time     Time  Current\n",
      "                                 Dload  Upload   Total   Spent    Left  Speed\n",
      "\n",
      "  0     0    0     0    0     0      0      0 --:--:-- --:--:-- --:--:--     0\n",
      "100    85  100    85    0     0    387      0 --:--:-- --:--:-- --:--:--   388\n"
     ]
    }
   ],
   "source": [
    "!curl localhost"
   ]
  },
  {
   "cell_type": "code",
   "execution_count": 11,
   "id": "7c876c2b",
   "metadata": {},
   "outputs": [
    {
     "name": "stdout",
     "output_type": "stream",
     "text": [
      "COLOR : blue, HOSTNAME : MSI\n"
     ]
    },
    {
     "name": "stderr",
     "output_type": "stream",
     "text": [
      "  % Total    % Received % Xferd  Average Speed   Time    Time     Time  Current\n",
      "                                 Dload  Upload   Total   Spent    Left  Speed\n",
      "\n",
      "  0     0    0     0    0     0      0      0 --:--:-- --:--:-- --:--:--     0\n",
      "100    28  100    28    0     0    136      0 --:--:-- --:--:-- --:--:--   137\n"
     ]
    }
   ],
   "source": [
    "!curl localhost/api"
   ]
  },
  {
   "cell_type": "code",
   "execution_count": 13,
   "id": "a3e8e170",
   "metadata": {},
   "outputs": [
    {
     "name": "stdout",
     "output_type": "stream",
     "text": [
      "ok\n"
     ]
    },
    {
     "name": "stderr",
     "output_type": "stream",
     "text": [
      "  % Total    % Received % Xferd  Average Speed   Time    Time     Time  Current\n",
      "                                 Dload  Upload   Total   Spent    Left  Speed\n",
      "\n",
      "  0     0    0     0    0     0      0      0 --:--:-- --:--:-- --:--:--     0\n",
      "  0     0    0     0    0     0      0      0 --:--:-- --:--:-- --:--:--     0\n",
      "100     2  100     2    0     0      9      0 --:--:-- --:--:-- --:--:--     9\n"
     ]
    }
   ],
   "source": [
    "!curl localhost/up"
   ]
  },
  {
   "cell_type": "code",
   "execution_count": 14,
   "id": "2bc2dcdb",
   "metadata": {},
   "outputs": [
    {
     "name": "stdout",
     "output_type": "stream",
     "text": [
      "ok\n"
     ]
    },
    {
     "name": "stderr",
     "output_type": "stream",
     "text": [
      "  % Total    % Received % Xferd  Average Speed   Time    Time     Time  Current\n",
      "                                 Dload  Upload   Total   Spent    Left  Speed\n",
      "\n",
      "  0     0    0     0    0     0      0      0 --:--:-- --:--:-- --:--:--     0\n",
      "100     2  100     2    0     0      9      0 --:--:-- --:--:-- --:--:--     9\n"
     ]
    }
   ],
   "source": [
    "!curl localhost/health"
   ]
  },
  {
   "cell_type": "code",
   "execution_count": 18,
   "id": "330f11c8",
   "metadata": {},
   "outputs": [
    {
     "name": "stderr",
     "output_type": "stream",
     "text": [
      "#0 building with \"desktop-linux\" instance using docker driver\n",
      "\n",
      "#1 [internal] load build definition from Dockerfile\n",
      "#1 transferring dockerfile: 161B done\n",
      "#1 DONE 0.0s\n",
      "\n",
      "#2 [internal] load metadata for docker.io/library/node:22-alpine3.20\n",
      "#2 ...\n",
      "\n",
      "#3 [auth] library/node:pull token for registry-1.docker.io\n",
      "#3 DONE 0.0s\n",
      "\n",
      "#2 [internal] load metadata for docker.io/library/node:22-alpine3.20\n",
      "#2 DONE 0.5s\n",
      "\n",
      "#4 [internal] load .dockerignore\n",
      "#4 transferring context: 2B done\n",
      "#4 DONE 0.0s\n",
      "\n",
      "#5 [internal] load build context\n",
      "#5 transferring context: 1.27kB 0.0s done\n",
      "#5 DONE 0.0s\n",
      "\n",
      "#6 [1/5] FROM docker.io/library/node:22-alpine3.20@sha256:2289fb1fba0f4633b08ec47b94a89c7e20b829fc5679f9b7b298eaa2f1ed8b7e\n",
      "#6 resolve docker.io/library/node:22-alpine3.20@sha256:2289fb1fba0f4633b08ec47b94a89c7e20b829fc5679f9b7b298eaa2f1ed8b7e 0.0s done\n",
      "#6 DONE 0.0s\n",
      "\n",
      "#7 [2/5] WORKDIR /app\n",
      "#7 CACHED\n",
      "\n",
      "#8 [3/5] COPY package*.json .\n",
      "#8 CACHED\n",
      "\n",
      "#9 [4/5] RUN npm ci\n",
      "#9 CACHED\n",
      "\n",
      "#10 [5/5] COPY src src\n",
      "#10 DONE 0.0s\n",
      "\n",
      "#11 exporting to image\n",
      "#11 exporting layers 0.1s done\n",
      "#11 exporting manifest sha256:eed05510dd51a365da229ebf6199a4e325bf2a74a9dca853ced62e0dc8d160c5 0.0s done\n",
      "#11 exporting config sha256:795a2696d6e9ecda320918ede86ec720862334d46867f0ed42123b593ad9a2a0 0.0s done\n",
      "#11 exporting attestation manifest sha256:35a7151a0675d8a361a5f64a055e9ca2229014055907fb222b7a7f7803d9b68c 0.0s done\n",
      "#11 exporting manifest list sha256:1f60a789a73cf06a7d0027f2616d5d39d7fcd9844f013cbb9b594bd0702f8823 0.0s done\n",
      "#11 naming to docker.io/anil1318/color-api:2.0.0 done\n",
      "#11 unpacking to docker.io/anil1318/color-api:2.0.0 0.0s done\n",
      "#11 DONE 0.2s\n",
      "\n",
      "View build details: docker-desktop://dashboard/build/desktop-linux/desktop-linux/uz1tybjy3k1t77cfxyfx30zel\n"
     ]
    }
   ],
   "source": [
    "!docker build -t anil1318/color-api:2.0.0 ."
   ]
  },
  {
   "cell_type": "code",
   "execution_count": 19,
   "id": "771213e6",
   "metadata": {},
   "outputs": [
    {
     "name": "stdout",
     "output_type": "stream",
     "text": [
      "The push refers to repository [docker.io/anil1318/color-api]\n",
      "c59df97d10f8: Waiting\n",
      "149e5417c1e2: Waiting\n",
      "82bea49235a6: Waiting\n",
      "f79148a7387c: Waiting\n",
      "ba4caef5715c: Waiting\n",
      "8622c8540a52: Waiting\n",
      "0a9a5dfd008f: Waiting\n",
      "fa78c90741ab: Waiting\n",
      "0c6d1cca3259: Waiting\n",
      "f79148a7387c: Waiting\n",
      "ba4caef5715c: Waiting\n",
      "8622c8540a52: Waiting\n",
      "0a9a5dfd008f: Waiting\n",
      "fa78c90741ab: Waiting\n",
      "0c6d1cca3259: Waiting\n",
      "c59df97d10f8: Waiting\n",
      "149e5417c1e2: Waiting\n",
      "82bea49235a6: Waiting\n",
      "c59df97d10f8: Waiting\n",
      "149e5417c1e2: Waiting\n",
      "82bea49235a6: Waiting\n",
      "f79148a7387c: Waiting\n",
      "ba4caef5715c: Waiting\n",
      "8622c8540a52: Waiting\n",
      "0a9a5dfd008f: Waiting\n",
      "fa78c90741ab: Waiting\n",
      "0c6d1cca3259: Waiting\n",
      "c59df97d10f8: Waiting\n",
      "149e5417c1e2: Waiting\n",
      "82bea49235a6: Waiting\n",
      "f79148a7387c: Waiting\n",
      "ba4caef5715c: Waiting\n",
      "8622c8540a52: Waiting\n",
      "0a9a5dfd008f: Waiting\n",
      "fa78c90741ab: Waiting\n",
      "0c6d1cca3259: Waiting\n",
      "0c6d1cca3259: Waiting\n",
      "c59df97d10f8: Waiting\n",
      "149e5417c1e2: Waiting\n",
      "82bea49235a6: Waiting\n",
      "f79148a7387c: Waiting\n",
      "ba4caef5715c: Waiting\n",
      "8622c8540a52: Waiting\n",
      "0a9a5dfd008f: Waiting\n",
      "fa78c90741ab: Waiting\n",
      "0c6d1cca3259: Layer already exists\n",
      "82bea49235a6: Layer already exists\n",
      "f79148a7387c: Layer already exists\n",
      "ba4caef5715c: Layer already exists\n",
      "8622c8540a52: Layer already exists\n",
      "0a9a5dfd008f: Layer already exists\n",
      "fa78c90741ab: Layer already exists\n",
      "c59df97d10f8: Pushed\n",
      "149e5417c1e2: Pushed\n",
      "2.0.0: digest: sha256:1f60a789a73cf06a7d0027f2616d5d39d7fcd9844f013cbb9b594bd0702f8823 size: 856\n"
     ]
    }
   ],
   "source": [
    "!docker push anil1318/color-api:2.0.0"
   ]
  },
  {
   "cell_type": "code",
   "execution_count": null,
   "id": "70967ea3",
   "metadata": {},
   "outputs": [],
   "source": []
  }
 ],
 "metadata": {
  "kernelspec": {
   "display_name": ".venv",
   "language": "python",
   "name": "python3"
  },
  "language_info": {
   "codemirror_mode": {
    "name": "ipython",
    "version": 3
   },
   "file_extension": ".py",
   "mimetype": "text/x-python",
   "name": "python",
   "nbconvert_exporter": "python",
   "pygments_lexer": "ipython3",
   "version": "3.13.5"
  }
 },
 "nbformat": 4,
 "nbformat_minor": 5
}
