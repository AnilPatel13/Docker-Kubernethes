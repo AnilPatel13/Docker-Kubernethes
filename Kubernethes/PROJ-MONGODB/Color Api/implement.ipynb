{
 "cells": [
  {
   "cell_type": "code",
   "execution_count": 1,
   "id": "32f2b522",
   "metadata": {},
   "outputs": [
    {
     "name": "stdout",
     "output_type": "stream",
     "text": [
      "v22.18.0\n"
     ]
    }
   ],
   "source": [
    "!node -v"
   ]
  },
  {
   "cell_type": "code",
   "execution_count": 2,
   "id": "8bf50130",
   "metadata": {},
   "outputs": [
    {
     "name": "stdout",
     "output_type": "stream",
     "text": [
      "Wrote to c:\\Users\\celia\\OneDrive\\Desktop\\Anil\\Docker-Kubernethes\\Kubernethes\\Kubernethes Pods\\Color Api\\package.json:\n",
      "\n",
      "{\n",
      "  \"name\": \"color-api\",\n",
      "  \"version\": \"1.0.0\",\n",
      "  \"description\": \"\",\n",
      "  \"main\": \"index.js\",\n",
      "  \"scripts\": {\n",
      "    \"test\": \"echo \\\"Error: no test specified\\\" && exit 1\"\n",
      "  },\n",
      "  \"keywords\": [],\n",
      "  \"author\": \"\",\n",
      "  \"license\": \"ISC\"\n",
      "}\n",
      "\n",
      "\n",
      "\n"
     ]
    }
   ],
   "source": [
    "!npm init -y"
   ]
  },
  {
   "cell_type": "code",
   "execution_count": 3,
   "id": "1f30d574",
   "metadata": {},
   "outputs": [
    {
     "name": "stdout",
     "output_type": "stream",
     "text": [
      "\n",
      "added 68 packages, and audited 69 packages in 2s\n",
      "\n",
      "12 packages are looking for funding\n",
      "  run `npm fund` for details\n",
      "\n",
      "6 vulnerabilities (3 low, 3 high)\n",
      "\n",
      "To address issues that do not require attention, run:\n",
      "  npm audit fix\n",
      "\n",
      "To address all issues, run:\n",
      "  npm audit fix --force\n",
      "\n",
      "Run `npm audit` for details.\n"
     ]
    }
   ],
   "source": [
    "!npm i --save-exact express@4.19.2"
   ]
  },
  {
   "cell_type": "code",
   "execution_count": 5,
   "id": "e51789eb",
   "metadata": {},
   "outputs": [
    {
     "name": "stdout",
     "output_type": "stream",
     "text": [
      " Volume in drive C is Windows\n",
      " Volume Serial Number is 1A81-4DC6\n",
      "\n",
      " Directory of c:\\Users\\celia\\OneDrive\\Desktop\\Anil\\Docker-Kubernethes\\Kubernethes\\Kubernethes Pods\\Color Api\n",
      "\n",
      "08/23/2025  10:50 PM    <DIR>          .\n",
      "08/23/2025  10:51 PM    <DIR>          ..\n",
      "08/23/2025  10:54 PM               116 Dockerfile\n",
      "08/23/2025  10:41 PM                 0 implement.ipynb\n",
      "08/23/2025  10:43 PM    <DIR>          node_modules\n",
      "08/23/2025  10:43 PM            28,983 package-lock.json\n",
      "08/23/2025  10:53 PM               306 package.json\n",
      "08/23/2025  10:44 PM    <DIR>          src\n",
      "               4 File(s)         29,405 bytes\n",
      "               4 Dir(s)  652,837,490,688 bytes free\n"
     ]
    }
   ],
   "source": [
    "!dir"
   ]
  },
  {
   "cell_type": "code",
   "execution_count": 16,
   "id": "5a8cbfd4",
   "metadata": {},
   "outputs": [
    {
     "name": "stderr",
     "output_type": "stream",
     "text": [
      "#0 building with \"desktop-linux\" instance using docker driver\n",
      "\n",
      "#1 [internal] load build definition from Dockerfile\n",
      "#1 transferring dockerfile: 163B done\n",
      "#1 DONE 0.0s\n",
      "\n",
      "#2 [internal] load metadata for docker.io/library/node:22-alpine3.20\n",
      "#2 DONE 0.2s\n",
      "\n",
      "#3 [internal] load .dockerignore\n",
      "#3 transferring context: 2B done\n",
      "#3 DONE 0.0s\n",
      "\n",
      "#4 [internal] load build context\n",
      "#4 transferring context: 447B 0.0s done\n",
      "#4 DONE 0.0s\n",
      "\n",
      "#5 [1/5] FROM docker.io/library/node:22-alpine3.20@sha256:2289fb1fba0f4633b08ec47b94a89c7e20b829fc5679f9b7b298eaa2f1ed8b7e\n",
      "#5 resolve docker.io/library/node:22-alpine3.20@sha256:2289fb1fba0f4633b08ec47b94a89c7e20b829fc5679f9b7b298eaa2f1ed8b7e 0.0s done\n",
      "#5 DONE 0.0s\n",
      "\n",
      "#6 [2/5] WORKDIR /app\n",
      "#6 CACHED\n",
      "\n",
      "#7 [3/5] COPY package*.json .\n",
      "#7 CACHED\n",
      "\n",
      "#8 [4/5] RUN npm ci\n",
      "#8 CACHED\n",
      "\n",
      "#9 [5/5] COPY src src\n",
      "#9 DONE 0.0s\n",
      "\n",
      "#10 exporting to image\n",
      "#10 exporting layers 0.1s done\n",
      "#10 exporting manifest sha256:a03e48fc6657db7b1706e626a859b21c299da2f5bf69e23623b3c13ffd7b0ab2 0.0s done\n",
      "#10 exporting config sha256:e838abeaed1ee939dd00ff57cea44efe771ce0bd15c94daada29b339f2a001bb 0.0s done\n",
      "#10 exporting attestation manifest sha256:c0072f02a5cc4b9fb474a1963d301a2e06d5b93a4aff2acbb878cad0148254d3 0.0s done\n",
      "#10 exporting manifest list sha256:4a4edda439457bbb129ea679ddd8e4356c15b57146330e23d0915291f66d099b 0.0s done\n",
      "#10 naming to docker.io/library/color-api:latest done\n",
      "#10 unpacking to docker.io/library/color-api:latest 0.0s done\n",
      "#10 DONE 0.2s\n",
      "\n",
      "View build details: docker-desktop://dashboard/build/desktop-linux/desktop-linux/aiv5wg4ztu43um04lft9q7xyv\n"
     ]
    }
   ],
   "source": [
    "!docker build -t color-api ."
   ]
  },
  {
   "cell_type": "code",
   "execution_count": 17,
   "id": "3407c642",
   "metadata": {},
   "outputs": [
    {
     "name": "stdout",
     "output_type": "stream",
     "text": [
      "REPOSITORY   TAG       IMAGE ID       CREATED         SIZE\n",
      "color-api    latest    4a4edda43945   2 seconds ago   239MB\n"
     ]
    }
   ],
   "source": [
    "!docker images color-api"
   ]
  },
  {
   "cell_type": "code",
   "execution_count": 13,
   "id": "02c28b06",
   "metadata": {},
   "outputs": [
    {
     "name": "stdout",
     "output_type": "stream",
     "text": [
      "8b7df3b91df7c5c4ff72dafa04dc20f29e21098eae959f034e42101053378ce9\n"
     ]
    }
   ],
   "source": [
    "!docker run -d -p 3000:80 --name color-api color-api"
   ]
  },
  {
   "cell_type": "code",
   "execution_count": 19,
   "id": "a7501358",
   "metadata": {},
   "outputs": [],
   "source": [
    "!docker image tag color-api anil1318/color-api"
   ]
  },
  {
   "cell_type": "code",
   "execution_count": 20,
   "id": "6d088728",
   "metadata": {},
   "outputs": [
    {
     "name": "stdout",
     "output_type": "stream",
     "text": [
      "Using default tag: latest\n",
      "The push refers to repository [docker.io/anil1318/color-api]\n",
      "0c6d1cca3259: Waiting\n",
      "82bea49235a6: Waiting\n",
      "0a9a5dfd008f: Waiting\n",
      "ee24b7c60dee: Waiting\n",
      "81373d05d331: Waiting\n",
      "fa78c90741ab: Waiting\n",
      "610c0499c787: Waiting\n",
      "ba4caef5715c: Waiting\n",
      "f7aac949c6b8: Waiting\n",
      "f7aac949c6b8: Waiting\n",
      "0c6d1cca3259: Waiting\n",
      "82bea49235a6: Waiting\n",
      "0a9a5dfd008f: Waiting\n",
      "ee24b7c60dee: Waiting\n",
      "81373d05d331: Waiting\n",
      "fa78c90741ab: Waiting\n",
      "610c0499c787: Waiting\n",
      "ba4caef5715c: Waiting\n",
      "81373d05d331: Waiting\n",
      "fa78c90741ab: Waiting\n",
      "610c0499c787: Waiting\n",
      "ba4caef5715c: Waiting\n",
      "f7aac949c6b8: Waiting\n",
      "0c6d1cca3259: Waiting\n",
      "82bea49235a6: Waiting\n",
      "0a9a5dfd008f: Waiting\n",
      "ee24b7c60dee: Waiting\n",
      "ba4caef5715c: Waiting\n",
      "f7aac949c6b8: Waiting\n",
      "0c6d1cca3259: Waiting\n",
      "82bea49235a6: Waiting\n",
      "0a9a5dfd008f: Waiting\n",
      "ee24b7c60dee: Waiting\n",
      "81373d05d331: Waiting\n",
      "fa78c90741ab: Waiting\n",
      "610c0499c787: Waiting\n",
      "0c6d1cca3259: Waiting\n",
      "0a9a5dfd008f: Waiting\n",
      "fa78c90741ab: Waiting\n",
      "610c0499c787: Waiting\n",
      "ba4caef5715c: Waiting\n",
      "82bea49235a6: Pushed\n",
      "81373d05d331: Pushed\n",
      "610c0499c787: Pushed\n",
      "f7aac949c6b8: Pushed\n",
      "fa78c90741ab: Pushed\n",
      "0c6d1cca3259: Pushed\n",
      "ee24b7c60dee: Pushed\n",
      "0a9a5dfd008f: Pushed\n",
      "ba4caef5715c: Pushed\n",
      "latest: digest: sha256:4a4edda439457bbb129ea679ddd8e4356c15b57146330e23d0915291f66d099b size: 856\n"
     ]
    }
   ],
   "source": [
    "!docker image push anil1318/color-api"
   ]
  },
  {
   "cell_type": "code",
   "execution_count": 23,
   "id": "0a3a65b8",
   "metadata": {},
   "outputs": [
    {
     "name": "stdout",
     "output_type": "stream",
     "text": [
      "REPOSITORY           TAG       IMAGE ID       CREATED         SIZE\n",
      "anil1318/color-api   latest    4a4edda43945   5 minutes ago   239MB\n"
     ]
    }
   ],
   "source": [
    "!docker images anil1318/color-api"
   ]
  },
  {
   "cell_type": "code",
   "execution_count": 24,
   "id": "b60a0f3a",
   "metadata": {},
   "outputs": [
    {
     "name": "stdout",
     "output_type": "stream",
     "text": [
      "pod/color-api created\n"
     ]
    }
   ],
   "source": [
    "!kubectl run color-api --image=anil1318/color-api:latest"
   ]
  },
  {
   "cell_type": "code",
   "execution_count": 25,
   "id": "cfd19f00",
   "metadata": {},
   "outputs": [
    {
     "name": "stdout",
     "output_type": "stream",
     "text": [
      "NAME        READY   STATUS    RESTARTS   AGE\n",
      "color-api   1/1     Running   0          8s\n"
     ]
    }
   ],
   "source": [
    "!kubectl get pods"
   ]
  },
  {
   "cell_type": "code",
   "execution_count": 26,
   "id": "40a824b0",
   "metadata": {},
   "outputs": [
    {
     "name": "stdout",
     "output_type": "stream",
     "text": [
      "\n",
      "> color-api@1.0.0 start\n",
      "> node src/index.js\n",
      "\n",
      "Color-API listening on port 3000\n"
     ]
    }
   ],
   "source": [
    "!kubectl logs color-api"
   ]
  },
  {
   "cell_type": "code",
   "execution_count": 28,
   "id": "eea6cb04",
   "metadata": {},
   "outputs": [
    {
     "name": "stdout",
     "output_type": "stream",
     "text": [
      "Name:             color-api\n",
      "Namespace:        default\n",
      "Priority:         0\n",
      "Service Account:  default\n",
      "Node:             docker-desktop/192.168.65.3\n",
      "Start Time:       Sat, 23 Aug 2025 23:13:59 -0400\n",
      "Labels:           run=color-api\n",
      "Annotations:      <none>\n",
      "Status:           Running\n",
      "IP:               10.1.0.89\n",
      "IPs:\n",
      "  IP:  10.1.0.89\n",
      "Containers:\n",
      "  color-api:\n",
      "    Container ID:   docker://b334df2424e7da4420ddb5a6c405f18355a7f0e9e9e37229b9bbc7448ffeaeff\n",
      "    Image:          anil1318/color-api:latest\n",
      "    Image ID:       docker-pullable://anil1318/color-api@sha256:4a4edda439457bbb129ea679ddd8e4356c15b57146330e23d0915291f66d099b\n",
      "    Port:           <none>\n",
      "    Host Port:      <none>\n",
      "    State:          Running\n",
      "      Started:      Sat, 23 Aug 2025 23:14:00 -0400\n",
      "    Ready:          True\n",
      "    Restart Count:  0\n",
      "    Environment:    <none>\n",
      "    Mounts:\n",
      "      /var/run/secrets/kubernetes.io/serviceaccount from kube-api-access-8rgqk (ro)\n",
      "Conditions:\n",
      "  Type                        Status\n",
      "  PodReadyToStartContainers   True \n",
      "  Initialized                 True \n",
      "  Ready                       True \n",
      "  ContainersReady             True \n",
      "  PodScheduled                True \n",
      "Volumes:\n",
      "  kube-api-access-8rgqk:\n",
      "    Type:                    Projected (a volume that contains injected data from multiple sources)\n",
      "    TokenExpirationSeconds:  3607\n",
      "    ConfigMapName:           kube-root-ca.crt\n",
      "    ConfigMapOptional:       <nil>\n",
      "    DownwardAPI:             true\n",
      "QoS Class:                   BestEffort\n",
      "Node-Selectors:              <none>\n",
      "Tolerations:                 node.kubernetes.io/not-ready:NoExecute op=Exists for 300s\n",
      "                             node.kubernetes.io/unreachable:NoExecute op=Exists for 300s\n",
      "Events:\n",
      "  Type    Reason     Age   From               Message\n",
      "  ----    ------     ----  ----               -------\n",
      "  Normal  Scheduled  48s   default-scheduler  Successfully assigned default/color-api to docker-desktop\n",
      "  Normal  Pulling    48s   kubelet            Pulling image \"anil1318/color-api:latest\"\n",
      "  Normal  Pulled     48s   kubelet            Successfully pulled image \"anil1318/color-api:latest\" in 536ms (536ms including waiting). Image size: 58257799 bytes.\n",
      "  Normal  Created    48s   kubelet            Created container: color-api\n",
      "  Normal  Started    48s   kubelet            Started container color-api\n"
     ]
    }
   ],
   "source": [
    "!kubectl describe pod color-api"
   ]
  },
  {
   "cell_type": "code",
   "execution_count": 30,
   "id": "76b9f698",
   "metadata": {},
   "outputs": [
    {
     "name": "stdout",
     "output_type": "stream",
     "text": [
      "<h1 style=\"color:blue;\">Hello from Color-API</h1>pod \"curl\" deleted\n"
     ]
    }
   ],
   "source": [
    "!kubectl run curl --image=curlimages/curl:8.12.1 --restart=Never --attach --rm -- curl -sS http://10.1.0.89:3000"
   ]
  },
  {
   "cell_type": "code",
   "execution_count": 31,
   "id": "ec7e39fc",
   "metadata": {},
   "outputs": [
    {
     "name": "stdout",
     "output_type": "stream",
     "text": [
      "NAME        READY   STATUS    RESTARTS   AGE\n",
      "color-api   1/1     Running   0          2m39s\n"
     ]
    }
   ],
   "source": [
    "!kubectl get pods"
   ]
  },
  {
   "cell_type": "code",
   "execution_count": 32,
   "id": "84191046",
   "metadata": {},
   "outputs": [
    {
     "name": "stdout",
     "output_type": "stream",
     "text": [
      "pod \"color-api\" deleted\n"
     ]
    }
   ],
   "source": [
    "!kubectl delete pods color-api"
   ]
  },
  {
   "cell_type": "code",
   "execution_count": null,
   "id": "47e853d3",
   "metadata": {},
   "outputs": [],
   "source": []
  }
 ],
 "metadata": {
  "kernelspec": {
   "display_name": ".venv",
   "language": "python",
   "name": "python3"
  },
  "language_info": {
   "codemirror_mode": {
    "name": "ipython",
    "version": 3
   },
   "file_extension": ".py",
   "mimetype": "text/x-python",
   "name": "python",
   "nbconvert_exporter": "python",
   "pygments_lexer": "ipython3",
   "version": "3.13.5"
  }
 },
 "nbformat": 4,
 "nbformat_minor": 5
}
