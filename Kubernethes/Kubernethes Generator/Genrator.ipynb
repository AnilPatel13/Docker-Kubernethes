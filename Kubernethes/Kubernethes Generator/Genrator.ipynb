{
 "cells": [
  {
   "cell_type": "code",
   "execution_count": 1,
   "id": "df493d2e",
   "metadata": {},
   "outputs": [
    {
     "name": "stdout",
     "output_type": "stream",
     "text": [
      "NAME                           READY   STATUS      RESTARTS   AGE\n",
      "pod/httpenv-5c47dc9f79-4r9dj   1/1     Running     0          91m\n",
      "pod/httpenv-5c47dc9f79-6p6wb   1/1     Running     0          90m\n",
      "pod/httpenv-5c47dc9f79-8l5t2   1/1     Running     0          90m\n",
      "pod/httpenv-5c47dc9f79-9bd4d   1/1     Running     0          90m\n",
      "pod/httpenv-5c47dc9f79-9xlrx   1/1     Running     0          90m\n",
      "pod/httpenv-5c47dc9f79-d2r27   1/1     Running     0          90m\n",
      "pod/httpenv-5c47dc9f79-k5g7s   1/1     Running     0          90m\n",
      "pod/httpenv-5c47dc9f79-p8r8n   1/1     Running     0          90m\n",
      "pod/httpenv-5c47dc9f79-sdcsw   1/1     Running     0          90m\n",
      "pod/httpenv-5c47dc9f79-szpr5   1/1     Running     0          90m\n",
      "pod/tmp-shell                  0/1     Completed   0          85m\n",
      "\n",
      "NAME                       TYPE           CLUSTER-IP       EXTERNAL-IP            PORT(S)          AGE\n",
      "service/httpenv            ClusterIP      10.104.177.152   <none>                 8888/TCP         89m\n",
      "service/httpenv-external   ExternalName   <none>           host.docker.internal   8888/TCP         29m\n",
      "service/httpenv-lb         LoadBalancer   10.108.161.49    localhost              8888:31248/TCP   42m\n",
      "service/httpenv-np         NodePort       10.104.222.223   <none>                 8888:32318/TCP   49m\n",
      "service/kubernetes         ClusterIP      10.96.0.1        <none>                 443/TCP          5d21h\n",
      "\n",
      "NAME                      READY   UP-TO-DATE   AVAILABLE   AGE\n",
      "deployment.apps/httpenv   10/10   10           10          91m\n",
      "\n",
      "NAME                                 DESIRED   CURRENT   READY   AGE\n",
      "replicaset.apps/httpenv-5c47dc9f79   10        10        10      91m\n"
     ]
    }
   ],
   "source": [
    "!kubectl get all"
   ]
  },
  {
   "cell_type": "code",
   "execution_count": 2,
   "id": "de77c911",
   "metadata": {},
   "outputs": [
    {
     "name": "stdout",
     "output_type": "stream",
     "text": [
      "deployment.apps/test created (dry run)\n"
     ]
    }
   ],
   "source": [
    "!kubectl create deployment test --image nginx --dry-run=client"
   ]
  },
  {
   "cell_type": "code",
   "execution_count": 3,
   "id": "1075a606",
   "metadata": {},
   "outputs": [
    {
     "name": "stdout",
     "output_type": "stream",
     "text": [
      "NAME                           READY   STATUS      RESTARTS   AGE\n",
      "pod/httpenv-5c47dc9f79-4r9dj   1/1     Running     0          92m\n",
      "pod/httpenv-5c47dc9f79-6p6wb   1/1     Running     0          91m\n",
      "pod/httpenv-5c47dc9f79-8l5t2   1/1     Running     0          91m\n",
      "pod/httpenv-5c47dc9f79-9bd4d   1/1     Running     0          91m\n",
      "pod/httpenv-5c47dc9f79-9xlrx   1/1     Running     0          91m\n",
      "pod/httpenv-5c47dc9f79-d2r27   1/1     Running     0          91m\n",
      "pod/httpenv-5c47dc9f79-k5g7s   1/1     Running     0          91m\n",
      "pod/httpenv-5c47dc9f79-p8r8n   1/1     Running     0          91m\n",
      "pod/httpenv-5c47dc9f79-sdcsw   1/1     Running     0          91m\n",
      "pod/httpenv-5c47dc9f79-szpr5   1/1     Running     0          91m\n",
      "pod/tmp-shell                  0/1     Completed   0          86m\n",
      "\n",
      "NAME                       TYPE           CLUSTER-IP       EXTERNAL-IP            PORT(S)          AGE\n",
      "service/httpenv            ClusterIP      10.104.177.152   <none>                 8888/TCP         90m\n",
      "service/httpenv-external   ExternalName   <none>           host.docker.internal   8888/TCP         30m\n",
      "service/httpenv-lb         LoadBalancer   10.108.161.49    localhost              8888:31248/TCP   43m\n",
      "service/httpenv-np         NodePort       10.104.222.223   <none>                 8888:32318/TCP   50m\n",
      "service/kubernetes         ClusterIP      10.96.0.1        <none>                 443/TCP          5d21h\n",
      "\n",
      "NAME                      READY   UP-TO-DATE   AVAILABLE   AGE\n",
      "deployment.apps/httpenv   10/10   10           10          92m\n",
      "\n",
      "NAME                                 DESIRED   CURRENT   READY   AGE\n",
      "replicaset.apps/httpenv-5c47dc9f79   10        10        10      92m\n"
     ]
    }
   ],
   "source": [
    "!kubectl get all"
   ]
  },
  {
   "cell_type": "code",
   "execution_count": 4,
   "id": "7da50a9c",
   "metadata": {},
   "outputs": [
    {
     "name": "stdout",
     "output_type": "stream",
     "text": [
      "apiVersion: apps/v1\n",
      "kind: Deployment\n",
      "metadata:\n",
      "  creationTimestamp: null\n",
      "  labels:\n",
      "    app: test\n",
      "  name: test\n",
      "spec:\n",
      "  replicas: 1\n",
      "  selector:\n",
      "    matchLabels:\n",
      "      app: test\n",
      "  strategy: {}\n",
      "  template:\n",
      "    metadata:\n",
      "      creationTimestamp: null\n",
      "      labels:\n",
      "        app: test\n",
      "    spec:\n",
      "      containers:\n",
      "      - image: nginx\n",
      "        name: nginx\n",
      "        resources: {}\n",
      "status: {}\n"
     ]
    }
   ],
   "source": [
    "!kubectl create deployment test --image nginx --dry-run=client -o yaml"
   ]
  },
  {
   "cell_type": "code",
   "execution_count": 5,
   "id": "909155fb",
   "metadata": {},
   "outputs": [
    {
     "name": "stdout",
     "output_type": "stream",
     "text": [
      "apiVersion: batch/v1\n",
      "kind: Job\n",
      "metadata:\n",
      "  creationTimestamp: null\n",
      "  name: test\n",
      "spec:\n",
      "  template:\n",
      "    metadata:\n",
      "      creationTimestamp: null\n",
      "    spec:\n",
      "      containers:\n",
      "      - image: nginx\n",
      "        name: test\n",
      "        resources: {}\n",
      "      restartPolicy: Never\n",
      "status: {}\n"
     ]
    }
   ],
   "source": [
    "!kubectl create job test --image nginx --dry-run=client -o yaml\n"
   ]
  },
  {
   "cell_type": "code",
   "execution_count": 7,
   "id": "aba91bbe",
   "metadata": {},
   "outputs": [
    {
     "name": "stdout",
     "output_type": "stream",
     "text": [
      "deployment.apps/test created\n"
     ]
    }
   ],
   "source": [
    "!kubectl create deployment test --image nginx"
   ]
  },
  {
   "cell_type": "code",
   "execution_count": 8,
   "id": "96feb97a",
   "metadata": {},
   "outputs": [
    {
     "name": "stdout",
     "output_type": "stream",
     "text": [
      "apiVersion: v1\n",
      "kind: Service\n",
      "metadata:\n",
      "  creationTimestamp: null\n",
      "  labels:\n",
      "    app: test\n",
      "  name: test\n",
      "spec:\n",
      "  ports:\n",
      "  - port: 80\n",
      "    protocol: TCP\n",
      "    targetPort: 80\n",
      "  selector:\n",
      "    app: test\n",
      "status:\n",
      "  loadBalancer: {}\n"
     ]
    }
   ],
   "source": [
    "!kubectl expose deployment/test --port 80 --dry-run=client -o yaml"
   ]
  },
  {
   "cell_type": "code",
   "execution_count": null,
   "id": "3f637f3f",
   "metadata": {},
   "outputs": [],
   "source": []
  }
 ],
 "metadata": {
  "kernelspec": {
   "display_name": ".venv",
   "language": "python",
   "name": "python3"
  },
  "language_info": {
   "codemirror_mode": {
    "name": "ipython",
    "version": 3
   },
   "file_extension": ".py",
   "mimetype": "text/x-python",
   "name": "python",
   "nbconvert_exporter": "python",
   "pygments_lexer": "ipython3",
   "version": "3.13.5"
  }
 },
 "nbformat": 4,
 "nbformat_minor": 5
}
