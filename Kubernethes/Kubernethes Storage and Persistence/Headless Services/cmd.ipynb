{
 "cells": [
  {
   "cell_type": "code",
   "execution_count": 5,
   "id": "b55e6460",
   "metadata": {},
   "outputs": [
    {
     "name": "stdout",
     "output_type": "stream",
     "text": [
      "service/color-svc created\n"
     ]
    }
   ],
   "source": [
    "!kubectl apply -f ."
   ]
  },
  {
   "cell_type": "code",
   "execution_count": 6,
   "id": "0559735d",
   "metadata": {},
   "outputs": [
    {
     "name": "stdout",
     "output_type": "stream",
     "text": [
      "NAME         TYPE        CLUSTER-IP   EXTERNAL-IP   PORT(S)   AGE\n",
      "color-svc    ClusterIP   None         <none>        80/TCP    2s\n",
      "kubernetes   ClusterIP   10.96.0.1    <none>        443/TCP   2d6h\n"
     ]
    }
   ],
   "source": [
    "!kubectl get svc"
   ]
  },
  {
   "cell_type": "code",
   "execution_count": 7,
   "id": "2d182ae8",
   "metadata": {},
   "outputs": [
    {
     "name": "stdout",
     "output_type": "stream",
     "text": [
      "Name:                     color-svc\n",
      "Namespace:                default\n",
      "Labels:                   <none>\n",
      "Annotations:              <none>\n",
      "Selector:                 app=color-api\n",
      "Type:                     ClusterIP\n",
      "IP Family Policy:         SingleStack\n",
      "IP Families:              IPv4\n",
      "IP:                       None\n",
      "IPs:                      None\n",
      "Port:                     <unset>  80/TCP\n",
      "TargetPort:               80/TCP\n",
      "Endpoints:                \n",
      "Session Affinity:         None\n",
      "Internal Traffic Policy:  Cluster\n",
      "Events:                   <none>\n"
     ]
    }
   ],
   "source": [
    "!kubectl describe svc color-svc"
   ]
  },
  {
   "cell_type": "code",
   "execution_count": 8,
   "id": "58f1c178",
   "metadata": {},
   "outputs": [
    {
     "name": "stdout",
     "output_type": "stream",
     "text": [
      "statefulset.apps/color-api-ss created\n",
      "service/color-svc unchanged\n"
     ]
    }
   ],
   "source": [
    "!kubectl apply -f ."
   ]
  },
  {
   "cell_type": "code",
   "execution_count": 12,
   "id": "c26f4d9e",
   "metadata": {},
   "outputs": [
    {
     "name": "stdout",
     "output_type": "stream",
     "text": [
      "NAME             READY   STATUS    RESTARTS   AGE\n",
      "color-api-ss-0   1/1     Running   0          18s\n",
      "color-api-ss-1   1/1     Running   0          15s\n",
      "color-api-ss-2   1/1     Running   0          11s\n",
      "color-api-ss-3   1/1     Running   0          8s\n",
      "color-api-ss-4   1/1     Running   0          5s\n"
     ]
    }
   ],
   "source": [
    "!kubectl get pods"
   ]
  },
  {
   "cell_type": "code",
   "execution_count": 13,
   "id": "172ef974",
   "metadata": {},
   "outputs": [
    {
     "name": "stdout",
     "output_type": "stream",
     "text": [
      "Name:                     color-svc\n",
      "Namespace:                default\n",
      "Labels:                   <none>\n",
      "Annotations:              <none>\n",
      "Selector:                 app=color-api\n",
      "Type:                     ClusterIP\n",
      "IP Family Policy:         SingleStack\n",
      "IP Families:              IPv4\n",
      "IP:                       None\n",
      "IPs:                      None\n",
      "Port:                     <unset>  80/TCP\n",
      "TargetPort:               80/TCP\n",
      "Endpoints:                10.1.1.163:80,10.1.1.164:80,10.1.1.165:80 + 2 more...\n",
      "Session Affinity:         None\n",
      "Internal Traffic Policy:  Cluster\n",
      "Events:                   <none>\n"
     ]
    }
   ],
   "source": [
    "!kubectl describe svc color-svc"
   ]
  },
  {
   "cell_type": "code",
   "execution_count": 18,
   "id": "10c71c6b",
   "metadata": {},
   "outputs": [
    {
     "name": "stdout",
     "output_type": "stream",
     "text": [
      "statefulset.apps/color-api-ss configured\n",
      "pod/curl configured\n",
      "service/color-svc unchanged\n"
     ]
    }
   ],
   "source": [
    "!kubectl apply -f ."
   ]
  },
  {
   "cell_type": "code",
   "execution_count": 20,
   "id": "b3a903b2",
   "metadata": {},
   "outputs": [
    {
     "name": "stdout",
     "output_type": "stream",
     "text": [
      "NAME             READY   STATUS    RESTARTS       AGE\n",
      "color-api-ss-0   1/1     Running   0              7m46s\n",
      "color-api-ss-1   1/1     Running   0              7m43s\n",
      "color-api-ss-2   1/1     Running   0              7m39s\n",
      "color-api-ss-3   1/1     Running   0              7m36s\n",
      "color-api-ss-4   1/1     Running   0              7m33s\n",
      "curl             1/1     Running   6 (111s ago)   4m47s\n"
     ]
    }
   ],
   "source": [
    "!kubectl get pods"
   ]
  },
  {
   "cell_type": "code",
   "execution_count": 21,
   "id": "87bd3aea",
   "metadata": {},
   "outputs": [
    {
     "name": "stdout",
     "output_type": "stream",
     "text": [
      "<h1 style=\"color:blue;\">Hello from Color-API!</h1>\n",
      "            <h2>Hostname: color-api-ss-0</h2>\n"
     ]
    },
    {
     "name": "stderr",
     "output_type": "stream",
     "text": [
      "  % Total    % Received % Xferd  Average Speed   Time    Time     Time  Current\n",
      "                                 Dload  Upload   Total   Spent    Left  Speed\n",
      "\n",
      "  0     0    0     0    0     0      0      0 --:--:-- --:--:-- --:--:--     0\n",
      "100    96  100    96    0     0  17403      0 --:--:-- --:--:-- --:--:-- 19200\n"
     ]
    }
   ],
   "source": [
    "!kubectl exec curl -- sh -c \"curl color-api-ss-0.color-svc\""
   ]
  },
  {
   "cell_type": "code",
   "execution_count": 22,
   "id": "566131f5",
   "metadata": {},
   "outputs": [
    {
     "name": "stdout",
     "output_type": "stream",
     "text": [
      "<h1 style=\"color:blue;\">Hello from Color-API!</h1>\n",
      "            <h2>Hostname: color-api-ss-1</h2>\n"
     ]
    },
    {
     "name": "stderr",
     "output_type": "stream",
     "text": [
      "  % Total    % Received % Xferd  Average Speed   Time    Time     Time  Current\n",
      "                                 Dload  Upload   Total   Spent    Left  Speed\n",
      "\n",
      "  0     0    0     0    0     0      0      0 --:--:-- --:--:-- --:--:--     0\n",
      "100    96  100    96    0     0  20236      0 --:--:-- --:--:-- --:--:-- 24000\n"
     ]
    }
   ],
   "source": [
    "!kubectl exec curl -- sh -c \"curl color-api-ss-1.color-svc\""
   ]
  },
  {
   "cell_type": "code",
   "execution_count": 23,
   "id": "25c4a276",
   "metadata": {},
   "outputs": [
    {
     "name": "stdout",
     "output_type": "stream",
     "text": [
      "<h1 style=\"color:blue;\">Hello from Color-API!</h1>\n",
      "            <h2>Hostname: color-api-ss-2</h2>\n"
     ]
    },
    {
     "name": "stderr",
     "output_type": "stream",
     "text": [
      "  % Total    % Received % Xferd  Average Speed   Time    Time     Time  Current\n",
      "                                 Dload  Upload   Total   Spent    Left  Speed\n",
      "\n",
      "  0     0    0     0    0     0      0      0 --:--:-- --:--:-- --:--:--     0\n",
      "100    96  100    96    0     0  19785      0 --:--:-- --:--:-- --:--:-- 24000\n"
     ]
    }
   ],
   "source": [
    "!kubectl exec curl -- sh -c \"curl color-api-ss-2.color-svc\""
   ]
  },
  {
   "cell_type": "code",
   "execution_count": 26,
   "id": "b4588da4",
   "metadata": {},
   "outputs": [
    {
     "name": "stdout",
     "output_type": "stream",
     "text": [
      "<h1 style=\"color:blue;\">Hello from Color-API!</h1>\n",
      "            <h2>Hostname: color-api-ss-3</h2>\n"
     ]
    },
    {
     "name": "stderr",
     "output_type": "stream",
     "text": [
      "  % Total    % Received % Xferd  Average Speed   Time    Time     Time  Current\n",
      "                                 Dload  Upload   Total   Spent    Left  Speed\n",
      "\n",
      "  0     0    0     0    0     0      0      0 --:--:-- --:--:-- --:--:--     0\n",
      "100    96  100    96    0     0  66298      0 --:--:-- --:--:-- --:--:-- 96000\n"
     ]
    }
   ],
   "source": [
    "!kubectl exec curl -- sh -c \"curl color-svc\""
   ]
  },
  {
   "cell_type": "markdown",
   "id": "baf6e406",
   "metadata": {},
   "source": [
    "# Using FQDN for cross NS"
   ]
  },
  {
   "cell_type": "code",
   "execution_count": 27,
   "id": "ae298e5a",
   "metadata": {},
   "outputs": [
    {
     "name": "stdout",
     "output_type": "stream",
     "text": [
      "<h1 style=\"color:blue;\">Hello from Color-API!</h1>\n",
      "            <h2>Hostname: color-api-ss-2</h2>\n"
     ]
    },
    {
     "name": "stderr",
     "output_type": "stream",
     "text": [
      "  % Total    % Received % Xferd  Average Speed   Time    Time     Time  Current\n",
      "                                 Dload  Upload   Total   Spent    Left  Speed\n",
      "\n",
      "  0     0    0     0    0     0      0      0 --:--:-- --:--:-- --:--:--     0\n",
      "100    96  100    96    0     0  63116      0 --:--:-- --:--:-- --:--:-- 96000\n"
     ]
    }
   ],
   "source": [
    "!kubectl exec curl -- sh -c \"curl color-api-ss-2.color-svc.default.svc.cluster.local\""
   ]
  },
  {
   "cell_type": "code",
   "execution_count": 29,
   "id": "da6ed035",
   "metadata": {},
   "outputs": [
    {
     "name": "stdout",
     "output_type": "stream",
     "text": [
      "statefulset.apps \"color-api-ss\" force deleted\n",
      "pod \"curl\" force deleted\n",
      "service \"color-svc\" force deleted\n"
     ]
    },
    {
     "name": "stderr",
     "output_type": "stream",
     "text": [
      "Warning: Immediate deletion does not wait for confirmation that the running resource has been terminated. The resource may continue to run on the cluster indefinitely.\n"
     ]
    }
   ],
   "source": [
    "!kubectl delete --force -f ."
   ]
  },
  {
   "cell_type": "code",
   "execution_count": 30,
   "id": "33fafb9b",
   "metadata": {},
   "outputs": [
    {
     "name": "stdout",
     "output_type": "stream",
     "text": [
      "NAME                        STATUS   VOLUME                                     CAPACITY   ACCESS MODES   STORAGECLASS   VOLUMEATTRIBUTESCLASS   AGE\n",
      "dummy-data-color-api-ss-0   Bound    pvc-cd0a227b-b31d-473b-9a4c-823b7d9ef1e9   1Gi        RWO            hostpath       <unset>                 13m\n",
      "dummy-data-color-api-ss-1   Bound    pvc-3fcb28ea-43ff-4270-8555-b874f993994b   1Gi        RWO            hostpath       <unset>                 13m\n",
      "dummy-data-color-api-ss-2   Bound    pvc-cad1736b-1055-417b-bf34-0d652ba3f859   1Gi        RWO            hostpath       <unset>                 13m\n",
      "dummy-data-color-api-ss-3   Bound    pvc-1b24cae4-93dd-4404-943c-38b688c25dab   1Gi        RWO            hostpath       <unset>                 13m\n",
      "dummy-data-color-api-ss-4   Bound    pvc-9f0b1a77-b436-4a15-a9f9-dfa804099d18   1Gi        RWO            hostpath       <unset>                 13m\n"
     ]
    }
   ],
   "source": [
    "!kubectl get pvc"
   ]
  },
  {
   "cell_type": "code",
   "execution_count": 31,
   "id": "09bc797c",
   "metadata": {},
   "outputs": [
    {
     "name": "stdout",
     "output_type": "stream",
     "text": [
      "persistentvolumeclaim \"dummy-data-color-api-ss-0\" deleted\n",
      "persistentvolumeclaim \"dummy-data-color-api-ss-1\" deleted\n",
      "persistentvolumeclaim \"dummy-data-color-api-ss-2\" deleted\n",
      "persistentvolumeclaim \"dummy-data-color-api-ss-3\" deleted\n",
      "persistentvolumeclaim \"dummy-data-color-api-ss-4\" deleted\n"
     ]
    }
   ],
   "source": [
    "!kubectl delete pvc --all"
   ]
  },
  {
   "cell_type": "code",
   "execution_count": 32,
   "id": "928d9bdf",
   "metadata": {},
   "outputs": [
    {
     "name": "stderr",
     "output_type": "stream",
     "text": [
      "No resources found\n"
     ]
    }
   ],
   "source": [
    "!kubectl get pv"
   ]
  },
  {
   "cell_type": "code",
   "execution_count": null,
   "id": "b0217dc3",
   "metadata": {},
   "outputs": [],
   "source": []
  }
 ],
 "metadata": {
  "kernelspec": {
   "display_name": ".venv",
   "language": "python",
   "name": "python3"
  },
  "language_info": {
   "codemirror_mode": {
    "name": "ipython",
    "version": 3
   },
   "file_extension": ".py",
   "mimetype": "text/x-python",
   "name": "python",
   "nbconvert_exporter": "python",
   "pygments_lexer": "ipython3",
   "version": "3.13.5"
  }
 },
 "nbformat": 4,
 "nbformat_minor": 5
}
