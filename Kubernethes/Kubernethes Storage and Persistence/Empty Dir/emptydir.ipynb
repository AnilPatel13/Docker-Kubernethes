{
 "cells": [
  {
   "cell_type": "code",
   "execution_count": 1,
   "id": "38523ac7",
   "metadata": {},
   "outputs": [
    {
     "name": "stdout",
     "output_type": "stream",
     "text": [
      "pod/empty-dir created\n"
     ]
    }
   ],
   "source": [
    "!kubectl apply -f ."
   ]
  },
  {
   "cell_type": "code",
   "execution_count": 2,
   "id": "d6f242d4",
   "metadata": {},
   "outputs": [
    {
     "name": "stdout",
     "output_type": "stream",
     "text": [
      "NAME        READY   STATUS    RESTARTS   AGE\n",
      "empty-dir   1/1     Running   0          8s\n"
     ]
    }
   ],
   "source": [
    "!kubectl get pods"
   ]
  },
  {
   "cell_type": "code",
   "execution_count": 3,
   "id": "be0ede7c",
   "metadata": {},
   "outputs": [
    {
     "name": "stdout",
     "output_type": "stream",
     "text": [
      "Name:             empty-dir\n",
      "Namespace:        default\n",
      "Priority:         0\n",
      "Service Account:  default\n",
      "Node:             docker-desktop/192.168.65.3\n",
      "Start Time:       Sat, 30 Aug 2025 23:49:02 -0400\n",
      "Labels:           name=empty-dir\n",
      "Annotations:      <none>\n",
      "Status:           Running\n",
      "IP:               10.1.1.145\n",
      "IPs:\n",
      "  IP:  10.1.1.145\n",
      "Containers:\n",
      "  empty-dir:\n",
      "    Container ID:  docker://76ed14ed44ac5f4b3340fa22144aeac3797947a8c6b2ef070e00f9253f732109\n",
      "    Image:         busybox:1.36.1\n",
      "    Image ID:      docker-pullable://busybox@sha256:303337d3d52898b33018796d760d3a01c2dcc87973dd66ec22fe78ae1e8429c9\n",
      "    Port:          <none>\n",
      "    Host Port:     <none>\n",
      "    Command:\n",
      "      sh\n",
      "      -c\n",
      "      sleep 3600\n",
      "    State:          Running\n",
      "      Started:      Sat, 30 Aug 2025 23:49:04 -0400\n",
      "    Ready:          True\n",
      "    Restart Count:  0\n",
      "    Limits:\n",
      "      cpu:     500m\n",
      "      memory:  128Mi\n",
      "    Requests:\n",
      "      cpu:        500m\n",
      "      memory:     128Mi\n",
      "    Environment:  <none>\n",
      "    Mounts:\n",
      "      /usr/share/temp from temporary-storage (rw)\n",
      "      /var/run/secrets/kubernetes.io/serviceaccount from kube-api-access-s229p (ro)\n",
      "Conditions:\n",
      "  Type                        Status\n",
      "  PodReadyToStartContainers   True \n",
      "  Initialized                 True \n",
      "  Ready                       True \n",
      "  ContainersReady             True \n",
      "  PodScheduled                True \n",
      "Volumes:\n",
      "  temporary-storage:\n",
      "    Type:       EmptyDir (a temporary directory that shares a pod's lifetime)\n",
      "    Medium:     \n",
      "    SizeLimit:  <unset>\n",
      "  kube-api-access-s229p:\n",
      "    Type:                    Projected (a volume that contains injected data from multiple sources)\n",
      "    TokenExpirationSeconds:  3607\n",
      "    ConfigMapName:           kube-root-ca.crt\n",
      "    ConfigMapOptional:       <nil>\n",
      "    DownwardAPI:             true\n",
      "QoS Class:                   Guaranteed\n",
      "Node-Selectors:              <none>\n",
      "Tolerations:                 node.kubernetes.io/not-ready:NoExecute op=Exists for 300s\n",
      "                             node.kubernetes.io/unreachable:NoExecute op=Exists for 300s\n",
      "Events:\n",
      "  Type    Reason     Age   From               Message\n",
      "  ----    ------     ----  ----               -------\n",
      "  Normal  Scheduled  23s   default-scheduler  Successfully assigned default/empty-dir to docker-desktop\n",
      "  Normal  Pulling    23s   kubelet            Pulling image \"busybox:1.36.1\"\n",
      "  Normal  Pulled     22s   kubelet            Successfully pulled image \"busybox:1.36.1\" in 1.237s (1.237s including waiting). Image size: 2220000 bytes.\n",
      "  Normal  Created    21s   kubelet            Created container: empty-dir\n",
      "  Normal  Started    21s   kubelet            Started container empty-dir\n"
     ]
    }
   ],
   "source": [
    "!kubectl describe pods empty-dir"
   ]
  },
  {
   "cell_type": "code",
   "execution_count": 4,
   "id": "aaefa341",
   "metadata": {},
   "outputs": [
    {
     "name": "stdout",
     "output_type": "stream",
     "text": [
      "NAME        READY   STATUS    RESTARTS   AGE\n",
      "empty-dir   1/1     Running   0          2m11s\n"
     ]
    }
   ],
   "source": [
    "!kubectl get pods"
   ]
  },
  {
   "cell_type": "code",
   "execution_count": 7,
   "id": "f630c54d",
   "metadata": {},
   "outputs": [
    {
     "name": "stdout",
     "output_type": "stream",
     "text": [
      "temp\n"
     ]
    }
   ],
   "source": [
    "!kubectl exec empty-dir -- sh -c \"ls /usr/share\""
   ]
  },
  {
   "cell_type": "code",
   "execution_count": 12,
   "id": "ea31f317",
   "metadata": {},
   "outputs": [],
   "source": [
    "!kubectl exec empty-dir -- sh -c \"echo 'hello from temp storage' >  /usr/share/temp/demo.txt\""
   ]
  },
  {
   "cell_type": "code",
   "execution_count": 13,
   "id": "f8541ddb",
   "metadata": {},
   "outputs": [
    {
     "name": "stdout",
     "output_type": "stream",
     "text": [
      "demo.txt\n"
     ]
    }
   ],
   "source": [
    "!kubectl exec empty-dir -- sh -c \"ls /usr/share/temp/\""
   ]
  },
  {
   "cell_type": "code",
   "execution_count": 14,
   "id": "b0541c15",
   "metadata": {},
   "outputs": [
    {
     "name": "stdout",
     "output_type": "stream",
     "text": [
      "hello from temp storage\n"
     ]
    }
   ],
   "source": [
    "!kubectl exec empty-dir -- sh -c \"cat /usr/share/temp/demo.txt\""
   ]
  },
  {
   "cell_type": "code",
   "execution_count": 16,
   "id": "03c3d049",
   "metadata": {},
   "outputs": [
    {
     "name": "stderr",
     "output_type": "stream",
     "text": [
      "Warning: Immediate deletion does not wait for confirmation that the running resource has been terminated. The resource may continue to run on the cluster indefinitely.\n",
      "Error from server (NotFound): error when deleting \"exmpty-dir.yaml\": pods \"empty-dir\" not found\n"
     ]
    }
   ],
   "source": [
    "!kubectl delete --force -f ."
   ]
  },
  {
   "cell_type": "code",
   "execution_count": 17,
   "id": "7632789f",
   "metadata": {},
   "outputs": [
    {
     "name": "stdout",
     "output_type": "stream",
     "text": [
      "pod/empty-dir created\n"
     ]
    }
   ],
   "source": [
    "!kubectl apply -f ."
   ]
  },
  {
   "cell_type": "code",
   "execution_count": 18,
   "id": "84bab1dd",
   "metadata": {},
   "outputs": [],
   "source": [
    "!kubectl exec empty-dir -- sh -c \"ls /usr/share/temp/\""
   ]
  },
  {
   "cell_type": "code",
   "execution_count": 19,
   "id": "88687b48",
   "metadata": {},
   "outputs": [
    {
     "name": "stdout",
     "output_type": "stream",
     "text": [
      "pod \"empty-dir\" force deleted\n"
     ]
    },
    {
     "name": "stderr",
     "output_type": "stream",
     "text": [
      "Warning: Immediate deletion does not wait for confirmation that the running resource has been terminated. The resource may continue to run on the cluster indefinitely.\n"
     ]
    }
   ],
   "source": [
    "!kubectl delete --force -f ."
   ]
  },
  {
   "cell_type": "code",
   "execution_count": 21,
   "id": "fb9c6925",
   "metadata": {},
   "outputs": [
    {
     "name": "stdout",
     "output_type": "stream",
     "text": [
      "pod/empty-dir created\n"
     ]
    }
   ],
   "source": [
    "!kubectl apply -f sidecar.yaml"
   ]
  },
  {
   "cell_type": "code",
   "execution_count": 22,
   "id": "0b0ae1b6",
   "metadata": {},
   "outputs": [
    {
     "name": "stdout",
     "output_type": "stream",
     "text": [
      "NAME        READY   STATUS    RESTARTS   AGE\n",
      "empty-dir   2/2     Running   0          7s\n"
     ]
    }
   ],
   "source": [
    "!kubectl get pods"
   ]
  },
  {
   "cell_type": "code",
   "execution_count": 23,
   "id": "f6341b5f",
   "metadata": {},
   "outputs": [
    {
     "name": "stdout",
     "output_type": "stream",
     "text": [
      "Name:             empty-dir\n",
      "Namespace:        default\n",
      "Priority:         0\n",
      "Service Account:  default\n",
      "Node:             docker-desktop/192.168.65.3\n",
      "Start Time:       Sun, 31 Aug 2025 00:02:06 -0400\n",
      "Labels:           name=empty-dir\n",
      "Annotations:      <none>\n",
      "Status:           Running\n",
      "IP:               10.1.1.147\n",
      "IPs:\n",
      "  IP:  10.1.1.147\n",
      "Containers:\n",
      "  empty-dir-writer:\n",
      "    Container ID:  docker://be29adcd2164c052545050b8058ed08517397ea78adc9084d72e007aa216836a\n",
      "    Image:         busybox:1.36.1\n",
      "    Image ID:      docker-pullable://busybox@sha256:303337d3d52898b33018796d760d3a01c2dcc87973dd66ec22fe78ae1e8429c9\n",
      "    Port:          <none>\n",
      "    Host Port:     <none>\n",
      "    Command:\n",
      "      sh\n",
      "      -c\n",
      "      sleep 3600\n",
      "    State:          Running\n",
      "      Started:      Sun, 31 Aug 2025 00:02:07 -0400\n",
      "    Ready:          True\n",
      "    Restart Count:  0\n",
      "    Limits:\n",
      "      cpu:     500m\n",
      "      memory:  128Mi\n",
      "    Requests:\n",
      "      cpu:        500m\n",
      "      memory:     128Mi\n",
      "    Environment:  <none>\n",
      "    Mounts:\n",
      "      /usr/share/temp from temporary-storage (rw)\n",
      "      /var/run/secrets/kubernetes.io/serviceaccount from kube-api-access-7l6tv (ro)\n",
      "  empty-dir-reader:\n",
      "    Container ID:  docker://5b7d26a842e6dec78c192c205ae39334798fc3d90b565f6c9888ad1c750f0c08\n",
      "    Image:         busybox:1.36.1\n",
      "    Image ID:      docker-pullable://busybox@sha256:303337d3d52898b33018796d760d3a01c2dcc87973dd66ec22fe78ae1e8429c9\n",
      "    Port:          <none>\n",
      "    Host Port:     <none>\n",
      "    Command:\n",
      "      sh\n",
      "      -c\n",
      "      sleep 3600\n",
      "    State:          Running\n",
      "      Started:      Sun, 31 Aug 2025 00:02:07 -0400\n",
      "    Ready:          True\n",
      "    Restart Count:  0\n",
      "    Limits:\n",
      "      cpu:     500m\n",
      "      memory:  128Mi\n",
      "    Requests:\n",
      "      cpu:        500m\n",
      "      memory:     128Mi\n",
      "    Environment:  <none>\n",
      "    Mounts:\n",
      "      /temp from temporary-storage (ro)\n",
      "      /var/run/secrets/kubernetes.io/serviceaccount from kube-api-access-7l6tv (ro)\n",
      "Conditions:\n",
      "  Type                        Status\n",
      "  PodReadyToStartContainers   True \n",
      "  Initialized                 True \n",
      "  Ready                       True \n",
      "  ContainersReady             True \n",
      "  PodScheduled                True \n",
      "Volumes:\n",
      "  temporary-storage:\n",
      "    Type:       EmptyDir (a temporary directory that shares a pod's lifetime)\n",
      "    Medium:     \n",
      "    SizeLimit:  <unset>\n",
      "  kube-api-access-7l6tv:\n",
      "    Type:                    Projected (a volume that contains injected data from multiple sources)\n",
      "    TokenExpirationSeconds:  3607\n",
      "    ConfigMapName:           kube-root-ca.crt\n",
      "    ConfigMapOptional:       <nil>\n",
      "    DownwardAPI:             true\n",
      "QoS Class:                   Guaranteed\n",
      "Node-Selectors:              <none>\n",
      "Tolerations:                 node.kubernetes.io/not-ready:NoExecute op=Exists for 300s\n",
      "                             node.kubernetes.io/unreachable:NoExecute op=Exists for 300s\n",
      "Events:\n",
      "  Type    Reason     Age   From               Message\n",
      "  ----    ------     ----  ----               -------\n",
      "  Normal  Scheduled  19s   default-scheduler  Successfully assigned default/empty-dir to docker-desktop\n",
      "  Normal  Pulled     19s   kubelet            Container image \"busybox:1.36.1\" already present on machine\n",
      "  Normal  Created    19s   kubelet            Created container: empty-dir-writer\n",
      "  Normal  Started    19s   kubelet            Started container empty-dir-writer\n",
      "  Normal  Pulled     19s   kubelet            Container image \"busybox:1.36.1\" already present on machine\n",
      "  Normal  Created    19s   kubelet            Created container: empty-dir-reader\n",
      "  Normal  Started    19s   kubelet            Started container empty-dir-reader\n"
     ]
    }
   ],
   "source": [
    "!kubectl describe pod empty-dir"
   ]
  },
  {
   "cell_type": "code",
   "execution_count": 33,
   "id": "9aaea933",
   "metadata": {},
   "outputs": [],
   "source": [
    "!kubectl exec empty-dir -c empty-dir-writer -- sh -c \"echo 'hello from writer' > /usr/share/temp/hello.txt\""
   ]
  },
  {
   "cell_type": "code",
   "execution_count": 34,
   "id": "2afd2e2a",
   "metadata": {},
   "outputs": [
    {
     "name": "stdout",
     "output_type": "stream",
     "text": [
      "hello from writer\n"
     ]
    }
   ],
   "source": [
    "!kubectl exec empty-dir -c empty-dir-writer -- sh -c \"cat /usr/share/temp/hello.txt\""
   ]
  },
  {
   "cell_type": "code",
   "execution_count": 36,
   "id": "32f38290",
   "metadata": {},
   "outputs": [
    {
     "name": "stdout",
     "output_type": "stream",
     "text": [
      "hello from writer\n"
     ]
    }
   ],
   "source": [
    "!kubectl exec empty-dir -c empty-dir-reader -- sh -c \"cat /temp/hello.txt\""
   ]
  },
  {
   "cell_type": "code",
   "execution_count": 37,
   "id": "108ed182",
   "metadata": {},
   "outputs": [
    {
     "name": "stderr",
     "output_type": "stream",
     "text": [
      "sh: can't create /temp/hello1.txt: Read-only file system\n",
      "command terminated with exit code 1\n"
     ]
    }
   ],
   "source": [
    "!kubectl exec empty-dir -c empty-dir-reader -- sh -c \"echo 'hello 1' > /temp/hello1.txt\""
   ]
  },
  {
   "cell_type": "code",
   "execution_count": 38,
   "id": "38599fdc",
   "metadata": {},
   "outputs": [
    {
     "name": "stdout",
     "output_type": "stream",
     "text": [
      "pod \"empty-dir\" deleted\n",
      "pod \"empty-dir\" deleted\n"
     ]
    }
   ],
   "source": [
    "!kubectl delete -f ."
   ]
  },
  {
   "cell_type": "code",
   "execution_count": null,
   "id": "b1abd6e6",
   "metadata": {},
   "outputs": [],
   "source": []
  }
 ],
 "metadata": {
  "kernelspec": {
   "display_name": ".venv",
   "language": "python",
   "name": "python3"
  },
  "language_info": {
   "codemirror_mode": {
    "name": "ipython",
    "version": 3
   },
   "file_extension": ".py",
   "mimetype": "text/x-python",
   "name": "python",
   "nbconvert_exporter": "python",
   "pygments_lexer": "ipython3",
   "version": "3.13.5"
  }
 },
 "nbformat": 4,
 "nbformat_minor": 5
}
