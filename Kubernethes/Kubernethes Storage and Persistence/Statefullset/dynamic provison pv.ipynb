{
 "cells": [
  {
   "cell_type": "code",
   "execution_count": 1,
   "id": "6b4aa264",
   "metadata": {},
   "outputs": [
    {
     "name": "stdout",
     "output_type": "stream",
     "text": [
      "NAME                 PROVISIONER          RECLAIMPOLICY   VOLUMEBINDINGMODE   ALLOWVOLUMEEXPANSION   AGE\n",
      "hostpath (default)   docker.io/hostpath   Delete          Immediate           false                  2d6h\n"
     ]
    }
   ],
   "source": [
    "!kubectl get storageclass"
   ]
  },
  {
   "cell_type": "code",
   "execution_count": 2,
   "id": "a46b2832",
   "metadata": {},
   "outputs": [
    {
     "name": "stdout",
     "output_type": "stream",
     "text": [
      "statefulset.apps/stateful-set created\n"
     ]
    }
   ],
   "source": [
    "!kubectl apply -f statefull-set-dynamic.yaml"
   ]
  },
  {
   "cell_type": "code",
   "execution_count": 3,
   "id": "63cb2e75",
   "metadata": {},
   "outputs": [
    {
     "name": "stdout",
     "output_type": "stream",
     "text": [
      "NAME             READY   STATUS    RESTARTS   AGE\n",
      "stateful-set-0   1/1     Running   0          12s\n",
      "stateful-set-1   1/1     Running   0          8s\n",
      "stateful-set-2   1/1     Running   0          5s\n"
     ]
    }
   ],
   "source": [
    "!kubectl get pods"
   ]
  },
  {
   "cell_type": "code",
   "execution_count": 4,
   "id": "d47525cc",
   "metadata": {},
   "outputs": [
    {
     "name": "stdout",
     "output_type": "stream",
     "text": [
      "NAME                                                        CAPACITY   ACCESS MODES   RECLAIM POLICY   STATUS   CLAIM                                 STORAGECLASS   VOLUMEATTRIBUTESCLASS   REASON   AGE\n",
      "persistentvolume/pvc-953889e0-31c0-44e0-8371-f67cc12d4d84   128Mi      RWO            Delete           Bound    default/local-volume-stateful-set-1   hostpath       <unset>                          23s\n",
      "persistentvolume/pvc-9e52fd9b-b311-4440-9edc-8a97067692cd   128Mi      RWO            Delete           Bound    default/local-volume-stateful-set-2   hostpath       <unset>                          20s\n",
      "persistentvolume/pvc-a85227e9-71d6-489a-8b8a-3fa6d70c5d3c   128Mi      RWO            Delete           Bound    default/local-volume-stateful-set-0   hostpath       <unset>                          27s\n",
      "\n",
      "NAME                                                STATUS   VOLUME                                     CAPACITY   ACCESS MODES   STORAGECLASS   VOLUMEATTRIBUTESCLASS   AGE\n",
      "persistentvolumeclaim/local-volume-stateful-set-0   Bound    pvc-a85227e9-71d6-489a-8b8a-3fa6d70c5d3c   128Mi      RWO            hostpath       <unset>                 27s\n",
      "persistentvolumeclaim/local-volume-stateful-set-1   Bound    pvc-953889e0-31c0-44e0-8371-f67cc12d4d84   128Mi      RWO            hostpath       <unset>                 23s\n",
      "persistentvolumeclaim/local-volume-stateful-set-2   Bound    pvc-9e52fd9b-b311-4440-9edc-8a97067692cd   128Mi      RWO            hostpath       <unset>                 20s\n"
     ]
    }
   ],
   "source": [
    "!kubectl get pv,pvc"
   ]
  },
  {
   "cell_type": "code",
   "execution_count": 5,
   "id": "592a6c2d",
   "metadata": {},
   "outputs": [
    {
     "name": "stdout",
     "output_type": "stream",
     "text": [
      "Name:             stateful-set-0\n",
      "Namespace:        default\n",
      "Priority:         0\n",
      "Service Account:  default\n",
      "Node:             docker-desktop/192.168.65.3\n",
      "Start Time:       Sun, 31 Aug 2025 02:55:10 -0400\n",
      "Labels:           app=busybox\n",
      "                  apps.kubernetes.io/pod-index=0\n",
      "                  controller-revision-hash=stateful-set-5cb7c6b567\n",
      "                  statefulset.kubernetes.io/pod-name=stateful-set-0\n",
      "Annotations:      <none>\n",
      "Status:           Running\n",
      "IP:               10.1.1.160\n",
      "IPs:\n",
      "  IP:           10.1.1.160\n",
      "Controlled By:  StatefulSet/stateful-set\n",
      "Containers:\n",
      "  busybox:\n",
      "    Container ID:  docker://bfffd9869a29ec0a6e9c0ec5f3a055b68c01f8b3dd9295649ba5ad99450b2723\n",
      "    Image:         busybox:1.36.1\n",
      "    Image ID:      docker-pullable://busybox@sha256:303337d3d52898b33018796d760d3a01c2dcc87973dd66ec22fe78ae1e8429c9\n",
      "    Port:          <none>\n",
      "    Host Port:     <none>\n",
      "    Command:\n",
      "      sh\n",
      "      -c\n",
      "      sleep 3600\n",
      "    State:          Running\n",
      "      Started:      Sun, 31 Aug 2025 02:55:11 -0400\n",
      "    Ready:          True\n",
      "    Restart Count:  0\n",
      "    Limits:\n",
      "      cpu:     500m\n",
      "      memory:  128Mi\n",
      "    Requests:\n",
      "      cpu:        500m\n",
      "      memory:     128Mi\n",
      "    Environment:  <none>\n",
      "    Mounts:\n",
      "      /mnt/local from local-volume (rw)\n",
      "      /var/run/secrets/kubernetes.io/serviceaccount from kube-api-access-8sqx2 (ro)\n",
      "Conditions:\n",
      "  Type                        Status\n",
      "  PodReadyToStartContainers   True \n",
      "  Initialized                 True \n",
      "  Ready                       True \n",
      "  ContainersReady             True \n",
      "  PodScheduled                True \n",
      "Volumes:\n",
      "  local-volume:\n",
      "    Type:       PersistentVolumeClaim (a reference to a PersistentVolumeClaim in the same namespace)\n",
      "    ClaimName:  local-volume-stateful-set-0\n",
      "    ReadOnly:   false\n",
      "  kube-api-access-8sqx2:\n",
      "    Type:                    Projected (a volume that contains injected data from multiple sources)\n",
      "    TokenExpirationSeconds:  3607\n",
      "    ConfigMapName:           kube-root-ca.crt\n",
      "    ConfigMapOptional:       <nil>\n",
      "    DownwardAPI:             true\n",
      "QoS Class:                   Guaranteed\n",
      "Node-Selectors:              <none>\n",
      "Tolerations:                 node.kubernetes.io/not-ready:NoExecute op=Exists for 300s\n",
      "                             node.kubernetes.io/unreachable:NoExecute op=Exists for 300s\n",
      "Events:\n",
      "  Type     Reason            Age   From               Message\n",
      "  ----     ------            ----  ----               -------\n",
      "  Warning  FailedScheduling  87s   default-scheduler  0/1 nodes are available: pod has unbound immediate PersistentVolumeClaims. preemption: 0/1 nodes are available: 1 Preemption is not helpful for scheduling.\n",
      "  Normal   Scheduled         85s   default-scheduler  Successfully assigned default/stateful-set-0 to docker-desktop\n",
      "  Normal   Pulled            85s   kubelet            Container image \"busybox:1.36.1\" already present on machine\n",
      "  Normal   Created           85s   kubelet            Created container: busybox\n",
      "  Normal   Started           85s   kubelet            Started container busybox\n"
     ]
    }
   ],
   "source": [
    "!kubectl describe pods stateful-set-0"
   ]
  },
  {
   "cell_type": "code",
   "execution_count": 7,
   "id": "6fcec333",
   "metadata": {},
   "outputs": [],
   "source": [
    "!kubectl exec stateful-set-0 -- sh -c \"echo 'hello world' > /mnt/local/file1.txt\""
   ]
  },
  {
   "cell_type": "code",
   "execution_count": 8,
   "id": "1f44419d",
   "metadata": {},
   "outputs": [
    {
     "name": "stdout",
     "output_type": "stream",
     "text": [
      "hello world\n"
     ]
    }
   ],
   "source": [
    "!kubectl exec stateful-set-0 -- sh -c \"cat /mnt/local/file1.txt\""
   ]
  },
  {
   "cell_type": "code",
   "execution_count": 9,
   "id": "39e0f388",
   "metadata": {},
   "outputs": [
    {
     "name": "stdout",
     "output_type": "stream",
     "text": [
      "statefulset.apps \"stateful-set\" deleted\n"
     ]
    }
   ],
   "source": [
    "!kubectl delete -f statefull-set-dynamic.yaml"
   ]
  },
  {
   "cell_type": "code",
   "execution_count": 10,
   "id": "563ef626",
   "metadata": {},
   "outputs": [
    {
     "name": "stdout",
     "output_type": "stream",
     "text": [
      "NAME                          STATUS   VOLUME                                     CAPACITY   ACCESS MODES   STORAGECLASS   VOLUMEATTRIBUTESCLASS   AGE\n",
      "local-volume-stateful-set-0   Bound    pvc-a85227e9-71d6-489a-8b8a-3fa6d70c5d3c   128Mi      RWO            hostpath       <unset>                 4m5s\n",
      "local-volume-stateful-set-1   Bound    pvc-953889e0-31c0-44e0-8371-f67cc12d4d84   128Mi      RWO            hostpath       <unset>                 4m1s\n",
      "local-volume-stateful-set-2   Bound    pvc-9e52fd9b-b311-4440-9edc-8a97067692cd   128Mi      RWO            hostpath       <unset>                 3m58s\n"
     ]
    }
   ],
   "source": [
    "!kubectl get pvc"
   ]
  },
  {
   "cell_type": "code",
   "execution_count": 11,
   "id": "8ce05b84",
   "metadata": {},
   "outputs": [
    {
     "name": "stdout",
     "output_type": "stream",
     "text": [
      "persistentvolumeclaim \"local-volume-stateful-set-0\" deleted\n",
      "persistentvolumeclaim \"local-volume-stateful-set-1\" deleted\n",
      "persistentvolumeclaim \"local-volume-stateful-set-2\" deleted\n"
     ]
    }
   ],
   "source": [
    "!kubectl delete pvc --all"
   ]
  },
  {
   "cell_type": "code",
   "execution_count": 12,
   "id": "dec3083b",
   "metadata": {},
   "outputs": [
    {
     "name": "stdout",
     "output_type": "stream",
     "text": [
      "NAME                 PROVISIONER          RECLAIMPOLICY   VOLUMEBINDINGMODE   ALLOWVOLUMEEXPANSION   AGE\n",
      "hostpath (default)   docker.io/hostpath   Delete          Immediate           false                  2d6h\n"
     ]
    }
   ],
   "source": [
    "!kubectl get storageclass hostpath"
   ]
  },
  {
   "cell_type": "code",
   "execution_count": 13,
   "id": "623e0376",
   "metadata": {},
   "outputs": [
    {
     "name": "stderr",
     "output_type": "stream",
     "text": [
      "No resources found\n"
     ]
    }
   ],
   "source": [
    "!kubectl get pv,pvc"
   ]
  },
  {
   "cell_type": "code",
   "execution_count": null,
   "id": "096e45ad",
   "metadata": {},
   "outputs": [],
   "source": []
  }
 ],
 "metadata": {
  "kernelspec": {
   "display_name": ".venv",
   "language": "python",
   "name": "python3"
  },
  "language_info": {
   "codemirror_mode": {
    "name": "ipython",
    "version": 3
   },
   "file_extension": ".py",
   "mimetype": "text/x-python",
   "name": "python",
   "nbconvert_exporter": "python",
   "pygments_lexer": "ipython3",
   "version": "3.13.5"
  }
 },
 "nbformat": 4,
 "nbformat_minor": 5
}
