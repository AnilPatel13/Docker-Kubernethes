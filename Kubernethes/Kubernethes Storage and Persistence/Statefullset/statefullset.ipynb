{
 "cells": [
  {
   "cell_type": "code",
   "execution_count": 1,
   "id": "8bc62861",
   "metadata": {},
   "outputs": [
    {
     "name": "stdout",
     "output_type": "stream",
     "text": [
      "persistentvolume/ss-0 created\n",
      "persistentvolume/ss-1 created\n",
      "persistentvolume/ss-2 created\n"
     ]
    }
   ],
   "source": [
    "!kubectl apply -f pv.yaml"
   ]
  },
  {
   "cell_type": "code",
   "execution_count": 2,
   "id": "9c08343b",
   "metadata": {},
   "outputs": [
    {
     "name": "stdout",
     "output_type": "stream",
     "text": [
      "NAME   CAPACITY   ACCESS MODES   RECLAIM POLICY   STATUS      CLAIM   STORAGECLASS    VOLUMEATTRIBUTESCLASS   REASON   AGE\n",
      "ss-0   128Mi      RWO            Retain           Available           local-storage   <unset>                          9s\n",
      "ss-1   128Mi      RWO            Retain           Available           local-storage   <unset>                          9s\n",
      "ss-2   128Mi      RWO            Retain           Available           local-storage   <unset>                          9s\n"
     ]
    }
   ],
   "source": [
    "!kubectl get pv"
   ]
  },
  {
   "cell_type": "code",
   "execution_count": 3,
   "id": "e1acdda0",
   "metadata": {},
   "outputs": [
    {
     "name": "stdout",
     "output_type": "stream",
     "text": [
      "statefulset.apps/stateful-set created\n"
     ]
    }
   ],
   "source": [
    "!kubectl apply -f statefull-set.yaml"
   ]
  },
  {
   "cell_type": "code",
   "execution_count": 4,
   "id": "453c99a8",
   "metadata": {},
   "outputs": [
    {
     "name": "stdout",
     "output_type": "stream",
     "text": [
      "NAME             READY   STATUS    RESTARTS   AGE\n",
      "stateful-set-0   1/1     Running   0          10s\n",
      "stateful-set-1   1/1     Running   0          7s\n",
      "stateful-set-2   1/1     Running   0          4s\n"
     ]
    }
   ],
   "source": [
    "!kubectl get pods"
   ]
  },
  {
   "cell_type": "code",
   "execution_count": 6,
   "id": "b8b3f21b",
   "metadata": {},
   "outputs": [
    {
     "name": "stdout",
     "output_type": "stream",
     "text": [
      "NAME           READY   AGE\n",
      "stateful-set   3/3     42s\n"
     ]
    }
   ],
   "source": [
    "!kubectl get statefulset"
   ]
  },
  {
   "cell_type": "code",
   "execution_count": 7,
   "id": "da296944",
   "metadata": {},
   "outputs": [
    {
     "name": "stdout",
     "output_type": "stream",
     "text": [
      "NAME                    CAPACITY   ACCESS MODES   RECLAIM POLICY   STATUS   CLAIM                                 STORAGECLASS    VOLUMEATTRIBUTESCLASS   REASON   AGE\n",
      "persistentvolume/ss-0   128Mi      RWO            Retain           Bound    default/local-volume-stateful-set-1   local-storage   <unset>                          15m\n",
      "persistentvolume/ss-1   128Mi      RWO            Retain           Bound    default/local-volume-stateful-set-0   local-storage   <unset>                          15m\n",
      "persistentvolume/ss-2   128Mi      RWO            Retain           Bound    default/local-volume-stateful-set-2   local-storage   <unset>                          15m\n",
      "\n",
      "NAME                                                STATUS   VOLUME   CAPACITY   ACCESS MODES   STORAGECLASS    VOLUMEATTRIBUTESCLASS   AGE\n",
      "persistentvolumeclaim/local-volume-stateful-set-0   Bound    ss-1     128Mi      RWO            local-storage   <unset>                 57s\n",
      "persistentvolumeclaim/local-volume-stateful-set-1   Bound    ss-0     128Mi      RWO            local-storage   <unset>                 54s\n",
      "persistentvolumeclaim/local-volume-stateful-set-2   Bound    ss-2     128Mi      RWO            local-storage   <unset>                 51s\n"
     ]
    }
   ],
   "source": [
    "!kubectl get pv,pvc"
   ]
  },
  {
   "cell_type": "code",
   "execution_count": 8,
   "id": "3dcb0f19",
   "metadata": {},
   "outputs": [
    {
     "name": "stdout",
     "output_type": "stream",
     "text": [
      "pod \"stateful-set-0\" force deleted\n"
     ]
    },
    {
     "name": "stderr",
     "output_type": "stream",
     "text": [
      "Warning: Immediate deletion does not wait for confirmation that the running resource has been terminated. The resource may continue to run on the cluster indefinitely.\n"
     ]
    }
   ],
   "source": [
    "!kubectl delete pods --force stateful-set-0"
   ]
  },
  {
   "cell_type": "code",
   "execution_count": 9,
   "id": "9c538253",
   "metadata": {},
   "outputs": [
    {
     "name": "stdout",
     "output_type": "stream",
     "text": [
      "NAME             READY   STATUS    RESTARTS   AGE\n",
      "stateful-set-0   1/1     Running   0          6s\n",
      "stateful-set-1   1/1     Running   0          3m23s\n",
      "stateful-set-2   1/1     Running   0          3m20s\n"
     ]
    }
   ],
   "source": [
    "!kubectl get pods"
   ]
  },
  {
   "cell_type": "code",
   "execution_count": 10,
   "id": "a43baecb",
   "metadata": {},
   "outputs": [],
   "source": [
    "!kubectl exec stateful-set-0 -- sh -c \"echo 'hello from statefull-set-0' > /mnt/local/file1.txt\""
   ]
  },
  {
   "cell_type": "code",
   "execution_count": 11,
   "id": "ff1e5b90",
   "metadata": {},
   "outputs": [
    {
     "name": "stdout",
     "output_type": "stream",
     "text": [
      "hello from statefull-set-0\n"
     ]
    }
   ],
   "source": [
    "!kubectl exec stateful-set-0 -- sh -c \"cat /mnt/local/file1.txt\""
   ]
  },
  {
   "cell_type": "code",
   "execution_count": 12,
   "id": "8c519f04",
   "metadata": {},
   "outputs": [
    {
     "name": "stderr",
     "output_type": "stream",
     "text": [
      "cat: can't open '/mnt/local/file1.txt': No such file or directory\n",
      "command terminated with exit code 1\n"
     ]
    }
   ],
   "source": [
    "!kubectl exec stateful-set-1 -- sh -c \"cat /mnt/local/file1.txt\""
   ]
  },
  {
   "cell_type": "code",
   "execution_count": 14,
   "id": "67f71218",
   "metadata": {},
   "outputs": [
    {
     "name": "stdout",
     "output_type": "stream",
     "text": [
      "pod \"stateful-set-0\" force deleted\n"
     ]
    },
    {
     "name": "stderr",
     "output_type": "stream",
     "text": [
      "Warning: Immediate deletion does not wait for confirmation that the running resource has been terminated. The resource may continue to run on the cluster indefinitely.\n"
     ]
    }
   ],
   "source": [
    "!kubectl delete pods --force stateful-set-0"
   ]
  },
  {
   "cell_type": "code",
   "execution_count": 15,
   "id": "3cd06d29",
   "metadata": {},
   "outputs": [
    {
     "name": "stdout",
     "output_type": "stream",
     "text": [
      "hello from statefull-set-0\n"
     ]
    }
   ],
   "source": [
    "!kubectl exec stateful-set-0 -- sh -c \"cat /mnt/local/file1.txt\""
   ]
  },
  {
   "cell_type": "code",
   "execution_count": 16,
   "id": "027d2b99",
   "metadata": {},
   "outputs": [
    {
     "name": "stdout",
     "output_type": "stream",
     "text": [
      "NAME                          STATUS   VOLUME   CAPACITY   ACCESS MODES   STORAGECLASS    VOLUMEATTRIBUTESCLASS   AGE\n",
      "local-volume-stateful-set-0   Bound    ss-1     128Mi      RWO            local-storage   <unset>                 7m59s\n",
      "local-volume-stateful-set-1   Bound    ss-0     128Mi      RWO            local-storage   <unset>                 7m56s\n",
      "local-volume-stateful-set-2   Bound    ss-2     128Mi      RWO            local-storage   <unset>                 7m53s\n"
     ]
    }
   ],
   "source": [
    "!kubectl get pvc"
   ]
  },
  {
   "cell_type": "code",
   "execution_count": null,
   "id": "57fef0b9",
   "metadata": {},
   "outputs": [],
   "source": [
    "!kubectl delete --force -f ."
   ]
  },
  {
   "cell_type": "code",
   "execution_count": 5,
   "id": "42a2a6f3",
   "metadata": {},
   "outputs": [
    {
     "name": "stderr",
     "output_type": "stream",
     "text": [
      "Error from server (NotFound): error when deleting \"pv.yaml\": persistentvolumes \"ss-0\" not found\n",
      "Error from server (NotFound): error when deleting \"pv.yaml\": persistentvolumes \"ss-1\" not found\n",
      "Error from server (NotFound): error when deleting \"pv.yaml\": persistentvolumes \"ss-2\" not found\n"
     ]
    }
   ],
   "source": [
    "!kubectl delete -f pv.yaml"
   ]
  },
  {
   "cell_type": "code",
   "execution_count": 6,
   "id": "0cf73ca9",
   "metadata": {},
   "outputs": [
    {
     "name": "stderr",
     "output_type": "stream",
     "text": [
      "No resources found\n"
     ]
    }
   ],
   "source": [
    "!kubectl get pv,pvc,pods"
   ]
  },
  {
   "cell_type": "code",
   "execution_count": 3,
   "id": "03d3f8f7",
   "metadata": {},
   "outputs": [
    {
     "name": "stdout",
     "output_type": "stream",
     "text": [
      "persistentvolumeclaim \"local-volume-stateful-set-1\" deleted\n",
      "persistentvolumeclaim \"local-volume-stateful-set-2\" deleted\n"
     ]
    },
    {
     "name": "stderr",
     "output_type": "stream",
     "text": [
      "Error from server (NotFound): persistentvolumeclaims \"local-volume-stateful-set-0\" not found\n"
     ]
    }
   ],
   "source": [
    "!kubectl delete pvc local-volume-stateful-set-1\n",
    "!kubectl delete pvc local-volume-stateful-set-2\n",
    "!kubectl delete pvc local-volume-stateful-set-0"
   ]
  },
  {
   "cell_type": "code",
   "execution_count": null,
   "id": "d66888c3",
   "metadata": {},
   "outputs": [],
   "source": []
  }
 ],
 "metadata": {
  "kernelspec": {
   "display_name": ".venv",
   "language": "python",
   "name": "python3"
  },
  "language_info": {
   "codemirror_mode": {
    "name": "ipython",
    "version": 3
   },
   "file_extension": ".py",
   "mimetype": "text/x-python",
   "name": "python",
   "nbconvert_exporter": "python",
   "pygments_lexer": "ipython3",
   "version": "3.13.5"
  }
 },
 "nbformat": 4,
 "nbformat_minor": 5
}
