{
 "cells": [
  {
   "cell_type": "code",
   "execution_count": 1,
   "id": "3e632951",
   "metadata": {},
   "outputs": [
    {
     "name": "stdout",
     "output_type": "stream",
     "text": [
      "NAME                            CAPACITY   ACCESS MODES   RECLAIM POLICY   STATUS   CLAIM                        STORAGECLASS    VOLUMEATTRIBUTESCLASS   REASON   AGE\n",
      "persistentvolume/local-volume   1Gi        RWO            Retain           Bound    default/local-volume-claim   local-storage   <unset>                          3m24s\n",
      "\n",
      "NAME                                       STATUS   VOLUME         CAPACITY   ACCESS MODES   STORAGECLASS    VOLUMEATTRIBUTESCLASS   AGE\n",
      "persistentvolumeclaim/local-volume-claim   Bound    local-volume   1Gi        RWO            local-storage   <unset>                 3m24s\n"
     ]
    }
   ],
   "source": [
    "!kubectl get pv,pvc"
   ]
  },
  {
   "cell_type": "code",
   "execution_count": 8,
   "id": "4ba7366a",
   "metadata": {},
   "outputs": [
    {
     "name": "stdout",
     "output_type": "stream",
     "text": [
      "persistentvolume/local-volume unchanged\n",
      "persistentvolumeclaim/local-volume-claim unchanged\n",
      "pod/local-volume-pod created\n"
     ]
    }
   ],
   "source": [
    "!kubectl apply -f ."
   ]
  },
  {
   "cell_type": "code",
   "execution_count": 9,
   "id": "ad3661dc",
   "metadata": {},
   "outputs": [
    {
     "name": "stdout",
     "output_type": "stream",
     "text": [
      "NAME               READY   STATUS              RESTARTS   AGE\n",
      "local-volume-pod   0/1     ContainerCreating   0          11s\n"
     ]
    }
   ],
   "source": [
    "!kubectl get pods"
   ]
  },
  {
   "cell_type": "code",
   "execution_count": 10,
   "id": "195e9636",
   "metadata": {},
   "outputs": [
    {
     "name": "stdout",
     "output_type": "stream",
     "text": [
      "Name:             local-volume-pod\n",
      "Namespace:        default\n",
      "Priority:         0\n",
      "Service Account:  default\n",
      "Node:             docker-desktop/192.168.65.3\n",
      "Start Time:       Sun, 31 Aug 2025 01:06:51 -0400\n",
      "Labels:           app=local-volume-pod\n",
      "Annotations:      <none>\n",
      "Status:           Pending\n",
      "IP:               \n",
      "IPs:              <none>\n",
      "Containers:\n",
      "  local-volume:\n",
      "    Container ID:  \n",
      "    Image:         busybox:1.36.1\n",
      "    Image ID:      \n",
      "    Port:          <none>\n",
      "    Host Port:     <none>\n",
      "    Command:\n",
      "      sh\n",
      "      -c\n",
      "      sleep 3600\n",
      "    State:          Waiting\n",
      "      Reason:       ContainerCreating\n",
      "    Ready:          False\n",
      "    Restart Count:  0\n",
      "    Limits:\n",
      "      cpu:     500m\n",
      "      memory:  128Mi\n",
      "    Requests:\n",
      "      cpu:        500m\n",
      "      memory:     128Mi\n",
      "    Environment:  <none>\n",
      "    Mounts:\n",
      "      /mnt/local from local-volume (rw)\n",
      "      /var/run/secrets/kubernetes.io/serviceaccount from kube-api-access-lg9qs (ro)\n",
      "Conditions:\n",
      "  Type                        Status\n",
      "  PodReadyToStartContainers   False \n",
      "  Initialized                 True \n",
      "  Ready                       False \n",
      "  ContainersReady             False \n",
      "  PodScheduled                True \n",
      "Volumes:\n",
      "  local-volume:\n",
      "    Type:       PersistentVolumeClaim (a reference to a PersistentVolumeClaim in the same namespace)\n",
      "    ClaimName:  local-volume-claim\n",
      "    ReadOnly:   false\n",
      "  kube-api-access-lg9qs:\n",
      "    Type:                    Projected (a volume that contains injected data from multiple sources)\n",
      "    TokenExpirationSeconds:  3607\n",
      "    ConfigMapName:           kube-root-ca.crt\n",
      "    ConfigMapOptional:       <nil>\n",
      "    DownwardAPI:             true\n",
      "QoS Class:                   Guaranteed\n",
      "Node-Selectors:              <none>\n",
      "Tolerations:                 node.kubernetes.io/not-ready:NoExecute op=Exists for 300s\n",
      "                             node.kubernetes.io/unreachable:NoExecute op=Exists for 300s\n",
      "Events:\n",
      "  Type     Reason       Age               From               Message\n",
      "  ----     ------       ----              ----               -------\n",
      "  Normal   Scheduled    34s               default-scheduler  Successfully assigned default/local-volume-pod to docker-desktop\n",
      "  Warning  FailedMount  1s (x7 over 34s)  kubelet            MountVolume.NewMounter initialization failed for volume \"local-volume\" : path \"/mnt/disk/local1\" does not exist\n"
     ]
    }
   ],
   "source": [
    "!kubectl describe pods local-volume-pod"
   ]
  },
  {
   "cell_type": "code",
   "execution_count": 13,
   "id": "488886b7",
   "metadata": {},
   "outputs": [
    {
     "name": "stdout",
     "output_type": "stream",
     "text": [
      "persistentvolume/local-volume created\n",
      "persistentvolumeclaim/local-volume-claim created\n",
      "pod/local-volume-pod created\n"
     ]
    }
   ],
   "source": [
    "!kubectl apply -f ."
   ]
  },
  {
   "cell_type": "code",
   "execution_count": 14,
   "id": "af806e4c",
   "metadata": {},
   "outputs": [
    {
     "name": "stdout",
     "output_type": "stream",
     "text": [
      "NAME               READY   STATUS    RESTARTS   AGE\n",
      "local-volume-pod   1/1     Running   0          14s\n"
     ]
    }
   ],
   "source": [
    "!kubectl get pods"
   ]
  },
  {
   "cell_type": "code",
   "execution_count": 15,
   "id": "45bd6467",
   "metadata": {},
   "outputs": [
    {
     "name": "stdout",
     "output_type": "stream",
     "text": [
      "Name:             local-volume-pod\n",
      "Namespace:        default\n",
      "Priority:         0\n",
      "Service Account:  default\n",
      "Node:             docker-desktop/192.168.65.3\n",
      "Start Time:       Sun, 31 Aug 2025 01:20:38 -0400\n",
      "Labels:           app=local-volume-pod\n",
      "Annotations:      <none>\n",
      "Status:           Running\n",
      "IP:               10.1.1.152\n",
      "IPs:\n",
      "  IP:  10.1.1.152\n",
      "Containers:\n",
      "  local-volume:\n",
      "    Container ID:  docker://f94dfc9a6d092ee2ef9c528279a6328901535720eb3146cfcbd2208b3854cc2a\n",
      "    Image:         busybox:1.36.1\n",
      "    Image ID:      docker-pullable://busybox@sha256:303337d3d52898b33018796d760d3a01c2dcc87973dd66ec22fe78ae1e8429c9\n",
      "    Port:          <none>\n",
      "    Host Port:     <none>\n",
      "    Command:\n",
      "      sh\n",
      "      -c\n",
      "      sleep 3600\n",
      "    State:          Running\n",
      "      Started:      Sun, 31 Aug 2025 01:20:39 -0400\n",
      "    Ready:          True\n",
      "    Restart Count:  0\n",
      "    Limits:\n",
      "      cpu:     500m\n",
      "      memory:  128Mi\n",
      "    Requests:\n",
      "      cpu:        500m\n",
      "      memory:     128Mi\n",
      "    Environment:  <none>\n",
      "    Mounts:\n",
      "      /mnt/local from local-volume (rw)\n",
      "      /var/run/secrets/kubernetes.io/serviceaccount from kube-api-access-629jd (ro)\n",
      "Conditions:\n",
      "  Type                        Status\n",
      "  PodReadyToStartContainers   True \n",
      "  Initialized                 True \n",
      "  Ready                       True \n",
      "  ContainersReady             True \n",
      "  PodScheduled                True \n",
      "Volumes:\n",
      "  local-volume:\n",
      "    Type:       PersistentVolumeClaim (a reference to a PersistentVolumeClaim in the same namespace)\n",
      "    ClaimName:  local-volume-claim\n",
      "    ReadOnly:   false\n",
      "  kube-api-access-629jd:\n",
      "    Type:                    Projected (a volume that contains injected data from multiple sources)\n",
      "    TokenExpirationSeconds:  3607\n",
      "    ConfigMapName:           kube-root-ca.crt\n",
      "    ConfigMapOptional:       <nil>\n",
      "    DownwardAPI:             true\n",
      "QoS Class:                   Guaranteed\n",
      "Node-Selectors:              <none>\n",
      "Tolerations:                 node.kubernetes.io/not-ready:NoExecute op=Exists for 300s\n",
      "                             node.kubernetes.io/unreachable:NoExecute op=Exists for 300s\n",
      "Events:\n",
      "  Type     Reason            Age   From               Message\n",
      "  ----     ------            ----  ----               -------\n",
      "  Warning  FailedScheduling  16s   default-scheduler  0/1 nodes are available: pod has unbound immediate PersistentVolumeClaims. preemption: 0/1 nodes are available: 1 Preemption is not helpful for scheduling.\n",
      "  Normal   Scheduled         15s   default-scheduler  Successfully assigned default/local-volume-pod to docker-desktop\n",
      "  Normal   Pulled            14s   kubelet            Container image \"busybox:1.36.1\" already present on machine\n",
      "  Normal   Created           14s   kubelet            Created container: local-volume\n",
      "  Normal   Started           14s   kubelet            Started container local-volume\n"
     ]
    }
   ],
   "source": [
    "!kubectl describe pods local-volume-pod"
   ]
  },
  {
   "cell_type": "code",
   "execution_count": 17,
   "id": "9698c4ea",
   "metadata": {},
   "outputs": [
    {
     "name": "stdout",
     "output_type": "stream",
     "text": [
      "local\n"
     ]
    }
   ],
   "source": [
    "!kubectl exec local-volume-pod -- sh -c \"ls /mnt/\""
   ]
  },
  {
   "cell_type": "code",
   "execution_count": 18,
   "id": "d4dfabe9",
   "metadata": {},
   "outputs": [],
   "source": [
    "!kubectl exec local-volume-pod -- sh -c \"echo 'hello form pod' > /mnt/local/hello.txt\""
   ]
  },
  {
   "cell_type": "code",
   "execution_count": 19,
   "id": "6dd7fcb6",
   "metadata": {},
   "outputs": [
    {
     "name": "stdout",
     "output_type": "stream",
     "text": [
      "hello.txt\n"
     ]
    }
   ],
   "source": [
    "!kubectl exec local-volume-pod -- sh -c \"ls /mnt/local/\""
   ]
  },
  {
   "cell_type": "code",
   "execution_count": 21,
   "id": "4dc1aa59",
   "metadata": {},
   "outputs": [
    {
     "name": "stdout",
     "output_type": "stream",
     "text": [
      "hello form pod\n"
     ]
    }
   ],
   "source": [
    "!kubectl exec local-volume-pod -- sh -c \"cat /mnt/local/hello.txt\""
   ]
  },
  {
   "cell_type": "code",
   "execution_count": 23,
   "id": "2b350e9f",
   "metadata": {},
   "outputs": [
    {
     "name": "stderr",
     "output_type": "stream",
     "text": [
      "Warning: Immediate deletion does not wait for confirmation that the running resource has been terminated. The resource may continue to run on the cluster indefinitely.\n",
      "Error from server (NotFound): pods \"local-volume-pod\" not found\n"
     ]
    }
   ],
   "source": [
    "!kubectl delete pod --force local-volume-pod"
   ]
  },
  {
   "cell_type": "code",
   "execution_count": 24,
   "id": "094fb509",
   "metadata": {},
   "outputs": [
    {
     "name": "stdout",
     "output_type": "stream",
     "text": [
      "persistentvolume/local-volume unchanged\n",
      "persistentvolumeclaim/local-volume-claim unchanged\n",
      "pod/local-volume-pod created\n"
     ]
    }
   ],
   "source": [
    "!kubectl apply -f ."
   ]
  },
  {
   "cell_type": "code",
   "execution_count": 25,
   "id": "5c8d1139",
   "metadata": {},
   "outputs": [
    {
     "name": "stdout",
     "output_type": "stream",
     "text": [
      "hello form pod\n"
     ]
    }
   ],
   "source": [
    "!kubectl exec local-volume-pod -- sh -c \"cat /mnt/local/hello.txt\""
   ]
  },
  {
   "cell_type": "code",
   "execution_count": 26,
   "id": "7397158a",
   "metadata": {},
   "outputs": [
    {
     "name": "stdout",
     "output_type": "stream",
     "text": [
      "persistentvolume/local-volume unchanged\n",
      "persistentvolumeclaim/local-volume-claim unchanged\n",
      "pod/local-volume-pod configured\n",
      "pod/local-volume-pod2 created\n"
     ]
    }
   ],
   "source": [
    "!kubectl apply -f ."
   ]
  },
  {
   "cell_type": "code",
   "execution_count": 27,
   "id": "a0d8d0ae",
   "metadata": {},
   "outputs": [
    {
     "name": "stdout",
     "output_type": "stream",
     "text": [
      "NAME                READY   STATUS    RESTARTS   AGE\n",
      "local-volume-pod    1/1     Running   0          94s\n",
      "local-volume-pod2   1/1     Running   0          11s\n"
     ]
    }
   ],
   "source": [
    "!kubectl get pods"
   ]
  },
  {
   "cell_type": "code",
   "execution_count": 28,
   "id": "154ec2f2",
   "metadata": {},
   "outputs": [
    {
     "name": "stdout",
     "output_type": "stream",
     "text": [
      "hello form pod\n"
     ]
    }
   ],
   "source": [
    "!kubectl exec local-volume-pod2 -- sh -c \"cat /mnt/local2/hello.txt\""
   ]
  },
  {
   "cell_type": "code",
   "execution_count": 29,
   "id": "5988b3c1",
   "metadata": {},
   "outputs": [
    {
     "name": "stdout",
     "output_type": "stream",
     "text": [
      "NAME                    READY   STATUS    RESTARTS   AGE\n",
      "pod/local-volume-pod    1/1     Running   0          2m30s\n",
      "pod/local-volume-pod2   1/1     Running   0          67s\n",
      "\n",
      "NAME                            CAPACITY   ACCESS MODES   RECLAIM POLICY   STATUS   CLAIM                        STORAGECLASS    VOLUMEATTRIBUTESCLASS   REASON   AGE\n",
      "persistentvolume/local-volume   1Gi        RWO            Retain           Bound    default/local-volume-claim   local-storage   <unset>                          7m58s\n",
      "\n",
      "NAME                                       STATUS   VOLUME         CAPACITY   ACCESS MODES   STORAGECLASS    VOLUMEATTRIBUTESCLASS   AGE\n",
      "persistentvolumeclaim/local-volume-claim   Bound    local-volume   1Gi        RWO            local-storage   <unset>                 7m58s\n"
     ]
    }
   ],
   "source": [
    "!kubectl get pod,pv,pvc"
   ]
  },
  {
   "cell_type": "code",
   "execution_count": 31,
   "id": "e0d9ae81",
   "metadata": {},
   "outputs": [
    {
     "name": "stdout",
     "output_type": "stream",
     "text": [
      "pod \"local-volume-pod\" force deleted\n",
      "pod \"local-volume-pod2\" force deleted\n"
     ]
    },
    {
     "name": "stderr",
     "output_type": "stream",
     "text": [
      "Warning: Immediate deletion does not wait for confirmation that the running resource has been terminated. The resource may continue to run on the cluster indefinitely.\n"
     ]
    }
   ],
   "source": [
    "!kubectl delete pod --force local-volume-pod local-volume-pod2"
   ]
  },
  {
   "cell_type": "code",
   "execution_count": 32,
   "id": "00962163",
   "metadata": {},
   "outputs": [
    {
     "name": "stdout",
     "output_type": "stream",
     "text": [
      "persistentvolumeclaim \"local-volume-claim\" deleted\n"
     ]
    }
   ],
   "source": [
    "!kubectl delete pvc local-volume-claim"
   ]
  },
  {
   "cell_type": "code",
   "execution_count": 33,
   "id": "f81df9b3",
   "metadata": {},
   "outputs": [
    {
     "name": "stdout",
     "output_type": "stream",
     "text": [
      "NAME           CAPACITY   ACCESS MODES   RECLAIM POLICY   STATUS     CLAIM                        STORAGECLASS    VOLUMEATTRIBUTESCLASS   REASON   AGE\n",
      "local-volume   1Gi        RWO            Retain           Released   default/local-volume-claim   local-storage   <unset>                          9m44s\n"
     ]
    }
   ],
   "source": [
    "!kubectl get pv"
   ]
  },
  {
   "cell_type": "code",
   "execution_count": 34,
   "id": "a4ebf904",
   "metadata": {},
   "outputs": [
    {
     "name": "stdout",
     "output_type": "stream",
     "text": [
      "persistentvolume/local-volume unchanged\n",
      "persistentvolumeclaim/local-volume-claim created\n",
      "pod/local-volume-pod created\n",
      "pod/local-volume-pod2 created\n"
     ]
    }
   ],
   "source": [
    "!kubectl apply -f ."
   ]
  },
  {
   "cell_type": "code",
   "execution_count": 35,
   "id": "d8ca5a61",
   "metadata": {},
   "outputs": [
    {
     "name": "stdout",
     "output_type": "stream",
     "text": [
      "NAME           CAPACITY   ACCESS MODES   RECLAIM POLICY   STATUS     CLAIM                        STORAGECLASS    VOLUMEATTRIBUTESCLASS   REASON   AGE\n",
      "local-volume   1Gi        RWO            Retain           Released   default/local-volume-claim   local-storage   <unset>                          10m\n"
     ]
    }
   ],
   "source": [
    "!kubectl get pv"
   ]
  },
  {
   "cell_type": "code",
   "execution_count": 36,
   "id": "4d45c84d",
   "metadata": {},
   "outputs": [
    {
     "name": "stdout",
     "output_type": "stream",
     "text": [
      "NAME                    READY   STATUS    RESTARTS   AGE\n",
      "pod/local-volume-pod    0/1     Pending   0          19s\n",
      "pod/local-volume-pod2   0/1     Pending   0          19s\n",
      "\n",
      "NAME                            CAPACITY   ACCESS MODES   RECLAIM POLICY   STATUS     CLAIM                        STORAGECLASS    VOLUMEATTRIBUTESCLASS   REASON   AGE\n",
      "persistentvolume/local-volume   1Gi        RWO            Retain           Released   default/local-volume-claim   local-storage   <unset>                          10m\n",
      "\n",
      "NAME                                       STATUS    VOLUME   CAPACITY   ACCESS MODES   STORAGECLASS    VOLUMEATTRIBUTESCLASS   AGE\n",
      "persistentvolumeclaim/local-volume-claim   Pending                                      local-storage   <unset>                 19s\n"
     ]
    }
   ],
   "source": [
    "!kubectl get pod,pv,pvc"
   ]
  },
  {
   "cell_type": "code",
   "execution_count": 37,
   "id": "1817e533",
   "metadata": {},
   "outputs": [
    {
     "name": "stdout",
     "output_type": "stream",
     "text": [
      "persistentvolume \"local-volume\" deleted\n",
      "persistentvolumeclaim \"local-volume-claim\" deleted\n",
      "pod \"local-volume-pod\" deleted\n",
      "pod \"local-volume-pod2\" deleted\n"
     ]
    }
   ],
   "source": [
    "!kubectl delete -f ."
   ]
  },
  {
   "cell_type": "code",
   "execution_count": 38,
   "id": "d3fca3d1",
   "metadata": {},
   "outputs": [
    {
     "name": "stderr",
     "output_type": "stream",
     "text": [
      "No resources found\n"
     ]
    }
   ],
   "source": [
    "!kubectl get pod,pv,pvc"
   ]
  },
  {
   "cell_type": "code",
   "execution_count": null,
   "id": "f78b5487",
   "metadata": {},
   "outputs": [],
   "source": []
  }
 ],
 "metadata": {
  "kernelspec": {
   "display_name": ".venv",
   "language": "python",
   "name": "python3"
  },
  "language_info": {
   "codemirror_mode": {
    "name": "ipython",
    "version": 3
   },
   "file_extension": ".py",
   "mimetype": "text/x-python",
   "name": "python",
   "nbconvert_exporter": "python",
   "pygments_lexer": "ipython3",
   "version": "3.13.5"
  }
 },
 "nbformat": 4,
 "nbformat_minor": 5
}
