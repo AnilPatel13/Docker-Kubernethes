{
 "cells": [
  {
   "cell_type": "code",
   "execution_count": 1,
   "id": "c63d43fa",
   "metadata": {},
   "outputs": [
    {
     "name": "stdout",
     "output_type": "stream",
     "text": [
      "NAME                 PROVISIONER          RECLAIMPOLICY   VOLUMEBINDINGMODE   ALLOWVOLUMEEXPANSION   AGE\n",
      "hostpath (default)   docker.io/hostpath   Delete          Immediate           false                  2d5h\n"
     ]
    }
   ],
   "source": [
    "!kubectl get storageclass"
   ]
  },
  {
   "cell_type": "code",
   "execution_count": 2,
   "id": "427a30c3",
   "metadata": {},
   "outputs": [
    {
     "name": "stdout",
     "output_type": "stream",
     "text": [
      "Name:            hostpath\n",
      "IsDefaultClass:  Yes\n",
      "Annotations:     kubectl.kubernetes.io/last-applied-configuration={\"apiVersion\":\"storage.k8s.io/v1\",\"kind\":\"StorageClass\",\"metadata\":{\"annotations\":{\"storageclass.kubernetes.io/is-default-class\":\"true\"},\"name\":\"hostpath\"},\"provisioner\":\"docker.io/hostpath\",\"reclaimPolicy\":\"Delete\",\"volumeBindingMode\":\"Immediate\"}\n",
      ",storageclass.kubernetes.io/is-default-class=true\n",
      "Provisioner:           docker.io/hostpath\n",
      "Parameters:            <none>\n",
      "AllowVolumeExpansion:  <unset>\n",
      "MountOptions:          <none>\n",
      "ReclaimPolicy:         Delete\n",
      "VolumeBindingMode:     Immediate\n",
      "Events:                <none>\n"
     ]
    }
   ],
   "source": [
    "!kubectl describe storageclass hostpath"
   ]
  },
  {
   "cell_type": "code",
   "execution_count": 1,
   "id": "aa693c29",
   "metadata": {},
   "outputs": [
    {
     "name": "stdout",
     "output_type": "stream",
     "text": [
      "persistentvolumeclaim/dynamic-volume-claim created\n"
     ]
    }
   ],
   "source": [
    "!kubectl apply -f dynamic.yaml"
   ]
  },
  {
   "cell_type": "code",
   "execution_count": 4,
   "id": "2384357d",
   "metadata": {},
   "outputs": [
    {
     "name": "stdout",
     "output_type": "stream",
     "text": [
      "NAME                   STATUS   VOLUME                                     CAPACITY   ACCESS MODES   STORAGECLASS   VOLUMEATTRIBUTESCLASS   AGE\n",
      "dynamic-volume-claim   Bound    pvc-106b3f6b-72e9-45dd-a86a-cdcc10c46b99   1Gi        RWO            hostpath       <unset>                 25s\n"
     ]
    }
   ],
   "source": [
    "!kubectl get pvc"
   ]
  },
  {
   "cell_type": "code",
   "execution_count": 6,
   "id": "c8575040",
   "metadata": {},
   "outputs": [
    {
     "name": "stdout",
     "output_type": "stream",
     "text": [
      "Name:            pvc-106b3f6b-72e9-45dd-a86a-cdcc10c46b99\n",
      "Labels:          <none>\n",
      "Annotations:     docker.io/hostpath: /var/lib/k8s-pvs/dynamic-volume-claim/pvc-106b3f6b-72e9-45dd-a86a-cdcc10c46b99\n",
      "                 pv.kubernetes.io/provisioned-by: docker.io/hostpath\n",
      "Finalizers:      [kubernetes.io/pv-protection]\n",
      "StorageClass:    hostpath\n",
      "Status:          Bound\n",
      "Claim:           default/dynamic-volume-claim\n",
      "Reclaim Policy:  Delete\n",
      "Access Modes:    RWO\n",
      "VolumeMode:      Filesystem\n",
      "Capacity:        1Gi\n",
      "Node Affinity:   <none>\n",
      "Message:         \n",
      "Source:\n",
      "    Type:          HostPath (bare host directory volume)\n",
      "    Path:          /var/lib/k8s-pvs/dynamic-volume-claim/pvc-106b3f6b-72e9-45dd-a86a-cdcc10c46b99\n",
      "    HostPathType:  \n",
      "Events:            <none>\n"
     ]
    }
   ],
   "source": [
    "!kubectl describe pv pvc-106b3f6b-72e9-45dd-a86a-cdcc10c46b99"
   ]
  },
  {
   "cell_type": "code",
   "execution_count": 7,
   "id": "e8d56499",
   "metadata": {},
   "outputs": [
    {
     "name": "stdout",
     "output_type": "stream",
     "text": [
      "persistentvolumeclaim \"dynamic-volume-claim\" deleted\n"
     ]
    }
   ],
   "source": [
    "!kubectl delete -f dynamic.yaml"
   ]
  },
  {
   "cell_type": "code",
   "execution_count": 8,
   "id": "cf5d969e",
   "metadata": {},
   "outputs": [
    {
     "name": "stderr",
     "output_type": "stream",
     "text": [
      "No resources found\n"
     ]
    }
   ],
   "source": [
    "!kubectl get pv"
   ]
  },
  {
   "cell_type": "code",
   "execution_count": 9,
   "id": "e7417cf1",
   "metadata": {},
   "outputs": [
    {
     "name": "stdout",
     "output_type": "stream",
     "text": [
      "apiVersion: v1\n",
      "items:\n",
      "- apiVersion: storage.k8s.io/v1\n",
      "  kind: StorageClass\n",
      "  metadata:\n",
      "    annotations:\n",
      "      kubectl.kubernetes.io/last-applied-configuration: |\n",
      "        {\"apiVersion\":\"storage.k8s.io/v1\",\"kind\":\"StorageClass\",\"metadata\":{\"annotations\":{\"storageclass.kubernetes.io/is-default-class\":\"true\"},\"name\":\"hostpath\"},\"provisioner\":\"docker.io/hostpath\",\"reclaimPolicy\":\"Delete\",\"volumeBindingMode\":\"Immediate\"}\n",
      "      storageclass.kubernetes.io/is-default-class: \"true\"\n",
      "    creationTimestamp: \"2025-08-29T00:11:47Z\"\n",
      "    name: hostpath\n",
      "    resourceVersion: \"397\"\n",
      "    uid: f2d143e4-0fa4-4924-b1ca-a9f85a0b08a5\n",
      "  provisioner: docker.io/hostpath\n",
      "  reclaimPolicy: Delete\n",
      "  volumeBindingMode: Immediate\n",
      "kind: List\n",
      "metadata:\n",
      "  resourceVersion: \"\"\n"
     ]
    }
   ],
   "source": [
    "!kubectl get storageclass -o yaml"
   ]
  },
  {
   "cell_type": "code",
   "execution_count": 10,
   "id": "3128275c",
   "metadata": {},
   "outputs": [
    {
     "name": "stdout",
     "output_type": "stream",
     "text": [
      "persistentvolumeclaim/dynamic-volume-claim created\n"
     ]
    }
   ],
   "source": [
    "!kubectl apply -f dynamic.yaml"
   ]
  },
  {
   "cell_type": "code",
   "execution_count": 11,
   "id": "a412ea41",
   "metadata": {},
   "outputs": [
    {
     "name": "stdout",
     "output_type": "stream",
     "text": [
      "NAME                                       CAPACITY   ACCESS MODES   RECLAIM POLICY   STATUS   CLAIM                          STORAGECLASS   VOLUMEATTRIBUTESCLASS   REASON   AGE\n",
      "pvc-c85b6064-1931-4bac-bd50-7726c02f127d   1Gi        RWO            Delete           Bound    default/dynamic-volume-claim   hostpath       <unset>                          15s\n"
     ]
    }
   ],
   "source": [
    "!kubectl get pv"
   ]
  },
  {
   "cell_type": "code",
   "execution_count": 12,
   "id": "ab38b569",
   "metadata": {},
   "outputs": [
    {
     "name": "stdout",
     "output_type": "stream",
     "text": [
      "NAME                   STATUS   VOLUME                                     CAPACITY   ACCESS MODES   STORAGECLASS   VOLUMEATTRIBUTESCLASS   AGE\n",
      "dynamic-volume-claim   Bound    pvc-c85b6064-1931-4bac-bd50-7726c02f127d   1Gi        RWO            hostpath       <unset>                 23s\n"
     ]
    }
   ],
   "source": [
    "!kubectl get pvc"
   ]
  },
  {
   "cell_type": "code",
   "execution_count": 13,
   "id": "56198967",
   "metadata": {},
   "outputs": [
    {
     "name": "stdout",
     "output_type": "stream",
     "text": [
      "^C\n"
     ]
    },
    {
     "name": "stdout",
     "output_type": "stream",
     "text": [
      "persistentvolume \"pvc-c85b6064-1931-4bac-bd50-7726c02f127d\" deleted\n"
     ]
    }
   ],
   "source": [
    "!kubectl delete pv pvc-c85b6064-1931-4bac-bd50-7726c02f127d"
   ]
  },
  {
   "cell_type": "code",
   "execution_count": 15,
   "id": "bbaa1f98",
   "metadata": {},
   "outputs": [
    {
     "name": "stdout",
     "output_type": "stream",
     "text": [
      "Name:            pvc-c85b6064-1931-4bac-bd50-7726c02f127d\n",
      "Labels:          <none>\n",
      "Annotations:     docker.io/hostpath: /var/lib/k8s-pvs/dynamic-volume-claim/pvc-c85b6064-1931-4bac-bd50-7726c02f127d\n",
      "                 pv.kubernetes.io/provisioned-by: docker.io/hostpath\n",
      "Finalizers:      [kubernetes.io/pv-protection]\n",
      "StorageClass:    hostpath\n",
      "Status:          Terminating (lasts 43s)\n",
      "Claim:           default/dynamic-volume-claim\n",
      "Reclaim Policy:  Delete\n",
      "Access Modes:    RWO\n",
      "VolumeMode:      Filesystem\n",
      "Capacity:        1Gi\n",
      "Node Affinity:   <none>\n",
      "Message:         \n",
      "Source:\n",
      "    Type:          HostPath (bare host directory volume)\n",
      "    Path:          /var/lib/k8s-pvs/dynamic-volume-claim/pvc-c85b6064-1931-4bac-bd50-7726c02f127d\n",
      "    HostPathType:  \n",
      "Events:            <none>\n"
     ]
    }
   ],
   "source": [
    "!kubectl describe pv pvc-c85b6064-1931-4bac-bd50-7726c02f127d"
   ]
  },
  {
   "cell_type": "code",
   "execution_count": 16,
   "id": "30eebccf",
   "metadata": {},
   "outputs": [
    {
     "name": "stdout",
     "output_type": "stream",
     "text": [
      "persistentvolumeclaim \"dynamic-volume-claim\" deleted\n"
     ]
    }
   ],
   "source": [
    "!kubectl delete -f dynamic.yaml"
   ]
  },
  {
   "cell_type": "code",
   "execution_count": 17,
   "id": "34c096fd",
   "metadata": {},
   "outputs": [
    {
     "name": "stderr",
     "output_type": "stream",
     "text": [
      "No resources found\n"
     ]
    }
   ],
   "source": [
    "!kubectl get pv,pvc"
   ]
  },
  {
   "cell_type": "code",
   "execution_count": null,
   "id": "322b2121",
   "metadata": {},
   "outputs": [],
   "source": []
  }
 ],
 "metadata": {
  "kernelspec": {
   "display_name": ".venv",
   "language": "python",
   "name": "python3"
  },
  "language_info": {
   "codemirror_mode": {
    "name": "ipython",
    "version": 3
   },
   "file_extension": ".py",
   "mimetype": "text/x-python",
   "name": "python",
   "nbconvert_exporter": "python",
   "pygments_lexer": "ipython3",
   "version": "3.13.5"
  }
 },
 "nbformat": 4,
 "nbformat_minor": 5
}
