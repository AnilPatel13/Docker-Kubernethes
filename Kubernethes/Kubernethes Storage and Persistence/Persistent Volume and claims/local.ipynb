{
 "cells": [
  {
   "cell_type": "code",
   "execution_count": 1,
   "id": "8f7bb392",
   "metadata": {},
   "outputs": [
    {
     "name": "stderr",
     "output_type": "stream",
     "text": [
      "No resources found in default namespace.\n"
     ]
    }
   ],
   "source": [
    "!kubectl get pods"
   ]
  },
  {
   "cell_type": "code",
   "execution_count": 2,
   "id": "129dd403",
   "metadata": {},
   "outputs": [
    {
     "name": "stdout",
     "output_type": "stream",
     "text": [
      "Name:               docker-desktop\n",
      "Roles:              control-plane\n",
      "Labels:             beta.kubernetes.io/arch=amd64\n",
      "                    beta.kubernetes.io/os=linux\n",
      "                    kubernetes.io/arch=amd64\n",
      "                    kubernetes.io/hostname=docker-desktop\n",
      "                    kubernetes.io/os=linux\n",
      "                    node-role.kubernetes.io/control-plane=\n",
      "                    node.kubernetes.io/exclude-from-external-load-balancers=\n",
      "Annotations:        kubeadm.alpha.kubernetes.io/cri-socket: unix:///var/run/cri-dockerd.sock\n",
      "                    node.alpha.kubernetes.io/ttl: 0\n",
      "                    volumes.kubernetes.io/controller-managed-attach-detach: true\n",
      "CreationTimestamp:  Thu, 28 Aug 2025 20:11:38 -0400\n",
      "Taints:             <none>\n",
      "Unschedulable:      false\n",
      "Lease:\n",
      "  HolderIdentity:  docker-desktop\n",
      "  AcquireTime:     <unset>\n",
      "  RenewTime:       Sun, 31 Aug 2025 00:36:13 -0400\n",
      "Conditions:\n",
      "  Type             Status  LastHeartbeatTime                 LastTransitionTime                Reason                       Message\n",
      "  ----             ------  -----------------                 ------------------                ------                       -------\n",
      "  MemoryPressure   False   Sun, 31 Aug 2025 00:36:04 -0400   Thu, 28 Aug 2025 20:11:38 -0400   KubeletHasSufficientMemory   kubelet has sufficient memory available\n",
      "  DiskPressure     False   Sun, 31 Aug 2025 00:36:04 -0400   Thu, 28 Aug 2025 20:11:38 -0400   KubeletHasNoDiskPressure     kubelet has no disk pressure\n",
      "  PIDPressure      False   Sun, 31 Aug 2025 00:36:04 -0400   Thu, 28 Aug 2025 20:11:38 -0400   KubeletHasSufficientPID      kubelet has sufficient PID available\n",
      "  Ready            True    Sun, 31 Aug 2025 00:36:04 -0400   Thu, 28 Aug 2025 20:11:38 -0400   KubeletReady                 kubelet is posting ready status\n",
      "Addresses:\n",
      "  InternalIP:  192.168.65.3\n",
      "  Hostname:    docker-desktop\n",
      "Capacity:\n",
      "  cpu:                24\n",
      "  ephemeral-storage:  1055762868Ki\n",
      "  hugepages-1Gi:      0\n",
      "  hugepages-2Mi:      0\n",
      "  memory:             32563340Ki\n",
      "  pods:               110\n",
      "Allocatable:\n",
      "  cpu:                24\n",
      "  ephemeral-storage:  972991057538\n",
      "  hugepages-1Gi:      0\n",
      "  hugepages-2Mi:      0\n",
      "  memory:             32460940Ki\n",
      "  pods:               110\n",
      "System Info:\n",
      "  Machine ID:                 cddb2bacdaed4eb1b5e4b1d20a42c7ba\n",
      "  System UUID:                cddb2bacdaed4eb1b5e4b1d20a42c7ba\n",
      "  Boot ID:                    16980a37-3c45-48c8-84a8-511ee6c16e15\n",
      "  Kernel Version:             6.6.87.2-microsoft-standard-WSL2\n",
      "  OS Image:                   Docker Desktop\n",
      "  Operating System:           linux\n",
      "  Architecture:               amd64\n",
      "  Container Runtime Version:  docker://28.3.2\n",
      "  Kubelet Version:            v1.32.2\n",
      "  Kube-Proxy Version:         v1.32.2\n",
      "Non-terminated Pods:          (9 in total)\n",
      "  Namespace                   Name                                      CPU Requests  CPU Limits  Memory Requests  Memory Limits  Age\n",
      "  ---------                   ----                                      ------------  ----------  ---------------  -------------  ---\n",
      "  kube-system                 coredns-668d6bf9bc-dp7ln                  100m (0%)     0 (0%)      70Mi (0%)        170Mi (0%)     2d4h\n",
      "  kube-system                 coredns-668d6bf9bc-f7sh4                  100m (0%)     0 (0%)      70Mi (0%)        170Mi (0%)     2d4h\n",
      "  kube-system                 etcd-docker-desktop                       100m (0%)     0 (0%)      100Mi (0%)       0 (0%)         2d4h\n",
      "  kube-system                 kube-apiserver-docker-desktop             250m (1%)     0 (0%)      0 (0%)           0 (0%)         2d4h\n",
      "  kube-system                 kube-controller-manager-docker-desktop    200m (0%)     0 (0%)      0 (0%)           0 (0%)         2d4h\n",
      "  kube-system                 kube-proxy-7hl4l                          0 (0%)        0 (0%)      0 (0%)           0 (0%)         2d4h\n",
      "  kube-system                 kube-scheduler-docker-desktop             100m (0%)     0 (0%)      0 (0%)           0 (0%)         2d4h\n",
      "  kube-system                 storage-provisioner                       0 (0%)        0 (0%)      0 (0%)           0 (0%)         2d4h\n",
      "  kube-system                 vpnkit-controller                         0 (0%)        0 (0%)      0 (0%)           0 (0%)         2d4h\n",
      "Allocated resources:\n",
      "  (Total limits may be over 100 percent, i.e., overcommitted.)\n",
      "  Resource           Requests    Limits\n",
      "  --------           --------    ------\n",
      "  cpu                850m (3%)   0 (0%)\n",
      "  memory             240Mi (0%)  340Mi (1%)\n",
      "  ephemeral-storage  0 (0%)      0 (0%)\n",
      "  hugepages-1Gi      0 (0%)      0 (0%)\n",
      "  hugepages-2Mi      0 (0%)      0 (0%)\n",
      "Events:              <none>\n"
     ]
    }
   ],
   "source": [
    "!kubectl describe node"
   ]
  },
  {
   "cell_type": "code",
   "execution_count": 3,
   "id": "d0aa971e",
   "metadata": {},
   "outputs": [
    {
     "name": "stdout",
     "output_type": "stream",
     "text": [
      "persistentvolume/local-volume created\n"
     ]
    }
   ],
   "source": [
    "!kubectl apply -f local-volume.yaml"
   ]
  },
  {
   "cell_type": "code",
   "execution_count": 4,
   "id": "c9a511f5",
   "metadata": {},
   "outputs": [
    {
     "name": "stdout",
     "output_type": "stream",
     "text": [
      "NAME           CAPACITY   ACCESS MODES   RECLAIM POLICY   STATUS      CLAIM   STORAGECLASS    VOLUMEATTRIBUTESCLASS   REASON   AGE\n",
      "local-volume   1Gi        RWO            Retain           Available           local-storage   <unset>                          19s\n"
     ]
    }
   ],
   "source": [
    "!kubectl get persistentvolume"
   ]
  },
  {
   "cell_type": "code",
   "execution_count": 5,
   "id": "e3a653cd",
   "metadata": {},
   "outputs": [
    {
     "name": "stdout",
     "output_type": "stream",
     "text": [
      "Name:              local-volume\n",
      "Labels:            <none>\n",
      "Annotations:       <none>\n",
      "Finalizers:        [kubernetes.io/pv-protection]\n",
      "StorageClass:      local-storage\n",
      "Status:            Available\n",
      "Claim:             \n",
      "Reclaim Policy:    Retain\n",
      "Access Modes:      RWO\n",
      "VolumeMode:        Filesystem\n",
      "Capacity:          1Gi\n",
      "Node Affinity:     \n",
      "  Required Terms:  \n",
      "    Term 0:        kubernetes.io/hostname in [docker-desktop]\n",
      "Message:           \n",
      "Source:\n",
      "    Type:  LocalVolume (a persistent volume backed by local storage on a node)\n",
      "    Path:  /mnt/disk/local1\n",
      "Events:    <none>\n"
     ]
    }
   ],
   "source": [
    "!kubectl describe pv local-volume"
   ]
  },
  {
   "cell_type": "code",
   "execution_count": 6,
   "id": "dcaad77d",
   "metadata": {},
   "outputs": [
    {
     "name": "stdout",
     "output_type": "stream",
     "text": [
      "persistentvolume/local-volume unchanged\n",
      "persistentvolumeclaim/local-volume-claim created\n"
     ]
    }
   ],
   "source": [
    "!kubectl apply -f local-volume.yaml"
   ]
  },
  {
   "cell_type": "code",
   "execution_count": 7,
   "id": "9432d4f4",
   "metadata": {},
   "outputs": [
    {
     "name": "stdout",
     "output_type": "stream",
     "text": [
      "NAME                 STATUS    VOLUME   CAPACITY   ACCESS MODES   STORAGECLASS    VOLUMEATTRIBUTESCLASS   AGE\n",
      "local-volume-claim   Pending                                      local-storage   <unset>                 12s\n"
     ]
    }
   ],
   "source": [
    "!kubectl get pvc"
   ]
  },
  {
   "cell_type": "code",
   "execution_count": null,
   "id": "39747ed2",
   "metadata": {},
   "outputs": [
    {
     "name": "stdout",
     "output_type": "stream",
     "text": [
      "Name:          local-volume-claim\n",
      "Namespace:     default\n",
      "StorageClass:  local-storage\n",
      "Status:        Pending\n",
      "Volume:        \n",
      "Labels:        <none>\n",
      "Annotations:   <none>\n",
      "Finalizers:    [kubernetes.io/pvc-protection]\n",
      "Capacity:      \n",
      "Access Modes:  \n",
      "VolumeMode:    Filesystem\n",
      "Used By:       <none>\n",
      "Events:\n",
      "  Type     Reason              Age               From                         Message\n",
      "  ----     ------              ----              ----                         -------\n",
      "  Warning  ProvisioningFailed  4s (x2 over 40s)  persistentvolume-controller  storageclass.storage.k8s.io \"local-storage\" not found\n"
     ]
    }
   ],
   "source": [
    "!kubectl describe pvc local-volume-claim"
   ]
  },
  {
   "cell_type": "code",
   "execution_count": 9,
   "id": "1c57fc59",
   "metadata": {},
   "outputs": [
    {
     "name": "stdout",
     "output_type": "stream",
     "text": [
      "persistentvolume/local-volume unchanged\n"
     ]
    },
    {
     "name": "stderr",
     "output_type": "stream",
     "text": [
      "The PersistentVolumeClaim \"local-volume-claim\" is invalid: spec: Forbidden: spec is immutable after creation except resources.requests and volumeAttributesClassName for bound claims\n",
      "  core.PersistentVolumeClaimSpec{\n",
      "  \tAccessModes: {\"ReadWriteOnce\"},\n",
      "  \tSelector:    nil,\n",
      "  \tResources: core.VolumeResourceRequirements{\n",
      "  \t\tLimits: nil,\n",
      "- \t\tRequests: core.ResourceList{\n",
      "- \t\t\ts\"storage\": {i: resource.int64Amount{value: 2147483648}, s: \"2Gi\", Format: \"BinarySI\"},\n",
      "- \t\t},\n",
      "+ \t\tRequests: core.ResourceList{\n",
      "+ \t\t\ts\"storage\": {i: resource.int64Amount{value: 1073741824}, s: \"1Gi\", Format: \"BinarySI\"},\n",
      "+ \t\t},\n",
      "  \t},\n",
      "  \tVolumeName:       \"\",\n",
      "  \tStorageClassName: &\"local-storage\",\n",
      "  \t... // 4 identical fields\n",
      "  }\n",
      "\n"
     ]
    }
   ],
   "source": [
    "!kubectl apply -f local-volume.yaml"
   ]
  },
  {
   "cell_type": "code",
   "execution_count": 10,
   "id": "5968f376",
   "metadata": {},
   "outputs": [
    {
     "name": "stdout",
     "output_type": "stream",
     "text": [
      "persistentvolume \"local-volume\" deleted\n",
      "persistentvolumeclaim \"local-volume-claim\" deleted\n"
     ]
    }
   ],
   "source": [
    "!kubectl delete -f local-volume.yaml"
   ]
  },
  {
   "cell_type": "code",
   "execution_count": 11,
   "id": "28a9af7a",
   "metadata": {},
   "outputs": [
    {
     "name": "stdout",
     "output_type": "stream",
     "text": [
      "persistentvolume/local-volume created\n",
      "persistentvolumeclaim/local-volume-claim created\n"
     ]
    }
   ],
   "source": [
    "!kubectl apply -f local-volume.yaml"
   ]
  },
  {
   "cell_type": "code",
   "execution_count": 12,
   "id": "4d38af44",
   "metadata": {},
   "outputs": [
    {
     "name": "stdout",
     "output_type": "stream",
     "text": [
      "NAME                 STATUS   VOLUME         CAPACITY   ACCESS MODES   STORAGECLASS    VOLUMEATTRIBUTESCLASS   AGE\n",
      "local-volume-claim   Bound    local-volume   1Gi        RWO            local-storage   <unset>                 10s\n"
     ]
    }
   ],
   "source": [
    "!kubectl get pvc"
   ]
  },
  {
   "cell_type": "code",
   "execution_count": 13,
   "id": "c3188730",
   "metadata": {},
   "outputs": [
    {
     "name": "stdout",
     "output_type": "stream",
     "text": [
      "Name:          local-volume-claim\n",
      "Namespace:     default\n",
      "StorageClass:  local-storage\n",
      "Status:        Bound\n",
      "Volume:        local-volume\n",
      "Labels:        <none>\n",
      "Annotations:   pv.kubernetes.io/bind-completed: yes\n",
      "               pv.kubernetes.io/bound-by-controller: yes\n",
      "Finalizers:    [kubernetes.io/pvc-protection]\n",
      "Capacity:      1Gi\n",
      "Access Modes:  RWO\n",
      "VolumeMode:    Filesystem\n",
      "Used By:       <none>\n",
      "Events:        <none>\n"
     ]
    }
   ],
   "source": [
    "!kubectl describe pvc local-volume-claim"
   ]
  },
  {
   "cell_type": "code",
   "execution_count": 14,
   "id": "5aea5017",
   "metadata": {},
   "outputs": [
    {
     "name": "stdout",
     "output_type": "stream",
     "text": [
      "NAME           CAPACITY   ACCESS MODES   RECLAIM POLICY   STATUS   CLAIM                        STORAGECLASS    VOLUMEATTRIBUTESCLASS   REASON   AGE\n",
      "local-volume   1Gi        RWO            Retain           Bound    default/local-volume-claim   local-storage   <unset>                          77s\n"
     ]
    }
   ],
   "source": [
    "!kubectl get pv"
   ]
  },
  {
   "cell_type": "code",
   "execution_count": null,
   "id": "172c4e1b",
   "metadata": {},
   "outputs": [],
   "source": []
  }
 ],
 "metadata": {
  "kernelspec": {
   "display_name": ".venv",
   "language": "python",
   "name": "python3"
  },
  "language_info": {
   "codemirror_mode": {
    "name": "ipython",
    "version": 3
   },
   "file_extension": ".py",
   "mimetype": "text/x-python",
   "name": "python",
   "nbconvert_exporter": "python",
   "pygments_lexer": "ipython3",
   "version": "3.13.5"
  }
 },
 "nbformat": 4,
 "nbformat_minor": 5
}
