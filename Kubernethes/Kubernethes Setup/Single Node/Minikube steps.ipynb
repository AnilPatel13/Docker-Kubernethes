{
 "cells": [
  {
   "cell_type": "code",
   "execution_count": 1,
   "id": "b194126a",
   "metadata": {},
   "outputs": [
    {
     "name": "stdout",
     "output_type": "stream",
     "text": [
      "Current machine states:\n",
      "\n",
      "default                   not created (virtualbox)\n",
      "\n",
      "The environment has not yet been created. Run `vagrant up` to\n",
      "create the environment. If a machine is not created, only the\n",
      "default provider will be shown. So if a provider is not listed,\n",
      "then the machine is not created for that environment.\n"
     ]
    }
   ],
   "source": [
    "!vagrant status\n"
   ]
  },
  {
   "cell_type": "code",
   "execution_count": 2,
   "id": "d4a710ed",
   "metadata": {},
   "outputs": [
    {
     "name": "stdout",
     "output_type": "stream",
     "text": [
      "ubuntu/focal64 (virtualbox, 20240821.0.1)\n"
     ]
    }
   ],
   "source": [
    "!vagrant box list"
   ]
  },
  {
   "cell_type": "code",
   "execution_count": 3,
   "id": "956f7f62",
   "metadata": {},
   "outputs": [
    {
     "name": "stdout",
     "output_type": "stream",
     "text": [
      "Current machine states:\n",
      "\n",
      "default                   running (virtualbox)\n",
      "\n",
      "The VM is running. To stop this VM, you can run `vagrant halt` to\n",
      "shut it down forcefully, or you can run `vagrant suspend` to simply\n",
      "suspend the virtual machine. In either case, to restart it again,\n",
      "simply run `vagrant up`.\n"
     ]
    }
   ],
   "source": [
    "!vagrant status"
   ]
  },
  {
   "cell_type": "code",
   "execution_count": 4,
   "id": "f95bd772",
   "metadata": {},
   "outputs": [
    {
     "name": "stdout",
     "output_type": "stream",
     "text": [
      "NAME       STATUS   ROLES           AGE     VERSION\n",
      "minikube   Ready    control-plane   3m58s   v1.33.1\n"
     ]
    }
   ],
   "source": [
    "!vagrant ssh -c \"kubectl get nodes\""
   ]
  },
  {
   "cell_type": "code",
   "execution_count": 5,
   "id": "4e30b9f9",
   "metadata": {},
   "outputs": [
    {
     "name": "stdout",
     "output_type": "stream",
     "text": [
      "NAMESPACE     NAME                               READY   STATUS    RESTARTS        AGE\n",
      "kube-system   coredns-674b8bbfcf-fzkzv           1/1     Running   1 (2m41s ago)   4m9s\n",
      "kube-system   etcd-minikube                      1/1     Running   1 (2m39s ago)   4m14s\n",
      "kube-system   kube-apiserver-minikube            1/1     Running   1 (106s ago)    4m14s\n",
      "kube-system   kube-controller-manager-minikube   1/1     Running   1 (2m46s ago)   4m14s\n",
      "kube-system   kube-proxy-2mrt8                   1/1     Running   1 (2m46s ago)   4m9s\n",
      "kube-system   kube-scheduler-minikube            1/1     Running   1 (2m46s ago)   4m14s\n",
      "kube-system   storage-provisioner                1/1     Running   3 (53s ago)     4m13s\n",
      "NAMESPACE     NAME         TYPE        CLUSTER-IP   EXTERNAL-IP   PORT(S)                  AGE\n",
      "default       kubernetes   ClusterIP   10.96.0.1    <none>        443/TCP                  4m15s\n",
      "kube-system   kube-dns     ClusterIP   10.96.0.10   <none>        53/UDP,53/TCP,9153/TCP   4m14s\n"
     ]
    }
   ],
   "source": [
    "!vagrant ssh -c \"kubectl get pods -A && kubectl get svc -A\""
   ]
  },
  {
   "cell_type": "code",
   "execution_count": 6,
   "id": "bb7e3139",
   "metadata": {},
   "outputs": [
    {
     "name": "stdout",
     "output_type": "stream",
     "text": [
      "10.0.2.15 192.168.49.1 172.17.0.1 fd17:625c:f037:2:1a:a2ff:fe1e:9db7 \n"
     ]
    }
   ],
   "source": [
    "!vagrant ssh -c \"hostname -I\""
   ]
  },
  {
   "cell_type": "code",
   "execution_count": 7,
   "id": "ea2de462",
   "metadata": {},
   "outputs": [
    {
     "name": "stdout",
     "output_type": "stream",
     "text": [
      "* dashboard is an addon maintained by Kubernetes. For any concerns contact minikube on GitHub.\n",
      "You can view the list of minikube maintainers at: https://github.com/kubernetes/minikube/blob/master/OWNERS\n",
      "  - Using image docker.io/kubernetesui/dashboard:v2.7.0\n",
      "  - Using image docker.io/kubernetesui/metrics-scraper:v1.0.8\n",
      "* Some dashboard features require the metrics-server addon. To enable all features please run:\n",
      "\n",
      "\tminikube addons enable metrics-server\n",
      "\n",
      "* The 'dashboard' addon is enabled\n"
     ]
    }
   ],
   "source": [
    "!vagrant ssh -c \"minikube addons enable dashboard\""
   ]
  },
  {
   "cell_type": "code",
   "execution_count": 8,
   "id": "b820d585",
   "metadata": {},
   "outputs": [
    {
     "name": "stdout",
     "output_type": "stream",
     "text": [
      "* metrics-server is an addon maintained by Kubernetes. For any concerns contact minikube on GitHub.\n",
      "You can view the list of minikube maintainers at: https://github.com/kubernetes/minikube/blob/master/OWNERS\n",
      "  - Using image registry.k8s.io/metrics-server/metrics-server:v0.7.2\n",
      "* The 'metrics-server' addon is enabled\n"
     ]
    }
   ],
   "source": [
    "!vagrant ssh -c \"minikube addons enable metrics-server\""
   ]
  },
  {
   "cell_type": "code",
   "execution_count": null,
   "id": "0f41fb08",
   "metadata": {},
   "outputs": [
    {
     "name": "stdout",
     "output_type": "stream",
     "text": [
      "^C\n"
     ]
    },
    {
     "name": "stdout",
     "output_type": "stream",
     "text": [
      "Forwarding from 127.0.0.1:8080 -> 9090\n",
      "Forwarding from [::1]:8080 -> 9090\n"
     ]
    }
   ],
   "source": [
    "!vagrant ssh -c \"kubectl dashboard --url\""
   ]
  },
  {
   "cell_type": "code",
   "execution_count": 13,
   "id": "5802e4dd",
   "metadata": {},
   "outputs": [
    {
     "name": "stdout",
     "output_type": "stream",
     "text": [
      "NAME       CPU(cores)   CPU(%)   MEMORY(bytes)   MEMORY(%)   \n",
      "minikube   255m         6%       877Mi           14%         \n"
     ]
    }
   ],
   "source": [
    "!vagrant ssh -c \"kubectl top nodes\"\n"
   ]
  },
  {
   "cell_type": "code",
   "execution_count": 14,
   "id": "e4c0d8b3",
   "metadata": {},
   "outputs": [
    {
     "name": "stdout",
     "output_type": "stream",
     "text": [
      "deployment.apps/nginx created\n"
     ]
    }
   ],
   "source": [
    "!vagrant ssh -c \"kubectl create deployment nginx --image=nginx\"\n"
   ]
  },
  {
   "cell_type": "code",
   "execution_count": 15,
   "id": "3ad82eb5",
   "metadata": {},
   "outputs": [
    {
     "name": "stdout",
     "output_type": "stream",
     "text": [
      "NAMESPACE              NAME                                         READY   STATUS    RESTARTS      AGE\n",
      "default                nginx-5869d7778c-8mrpt                       1/1     Running   0             15s\n",
      "kube-system            coredns-674b8bbfcf-fzkzv                     1/1     Running   1 (15m ago)   16m\n",
      "kube-system            etcd-minikube                                1/1     Running   1 (15m ago)   16m\n",
      "kube-system            kube-apiserver-minikube                      1/1     Running   1 (14m ago)   16m\n",
      "kube-system            kube-controller-manager-minikube             1/1     Running   1 (15m ago)   16m\n",
      "kube-system            kube-proxy-2mrt8                             1/1     Running   1 (15m ago)   16m\n",
      "kube-system            kube-scheduler-minikube                      1/1     Running   1 (15m ago)   16m\n",
      "kube-system            metrics-server-7fbb699795-7jck6              1/1     Running   0             10m\n",
      "kube-system            storage-provisioner                          1/1     Running   3 (13m ago)   16m\n",
      "kubernetes-dashboard   dashboard-metrics-scraper-5d59dccf9b-nv2v7   1/1     Running   0             10m\n",
      "kubernetes-dashboard   kubernetes-dashboard-7779f9b69b-gw6nf        1/1     Running   0             10m\n",
      "NAMESPACE              NAME                        TYPE        CLUSTER-IP      EXTERNAL-IP   PORT(S)                  AGE\n",
      "default                kubernetes                  ClusterIP   10.96.0.1       <none>        443/TCP                  16m\n",
      "kube-system            kube-dns                    ClusterIP   10.96.0.10      <none>        53/UDP,53/TCP,9153/TCP   16m\n",
      "kube-system            metrics-server              ClusterIP   10.101.184.31   <none>        443/TCP                  10m\n",
      "kubernetes-dashboard   dashboard-metrics-scraper   ClusterIP   10.97.63.20     <none>        8000/TCP                 10m\n",
      "kubernetes-dashboard   kubernetes-dashboard        ClusterIP   10.111.107.15   <none>        80/TCP                   10m\n"
     ]
    }
   ],
   "source": [
    "!vagrant ssh -c \"kubectl get pods -A && kubectl get svc -A\"\n"
   ]
  },
  {
   "cell_type": "code",
   "execution_count": null,
   "id": "752c6201",
   "metadata": {},
   "outputs": [],
   "source": []
  }
 ],
 "metadata": {
  "kernelspec": {
   "display_name": ".venv",
   "language": "python",
   "name": "python3"
  },
  "language_info": {
   "codemirror_mode": {
    "name": "ipython",
    "version": 3
   },
   "file_extension": ".py",
   "mimetype": "text/x-python",
   "name": "python",
   "nbconvert_exporter": "python",
   "pygments_lexer": "ipython3",
   "version": "3.13.5"
  }
 },
 "nbformat": 4,
 "nbformat_minor": 5
}
