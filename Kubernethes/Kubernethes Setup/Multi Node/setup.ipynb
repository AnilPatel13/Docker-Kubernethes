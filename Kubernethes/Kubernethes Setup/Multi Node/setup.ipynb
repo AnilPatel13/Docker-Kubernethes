{
 "cells": [
  {
   "cell_type": "code",
   "execution_count": 1,
   "id": "a7ff6e0a",
   "metadata": {},
   "outputs": [
    {
     "name": "stdout",
     "output_type": "stream",
     "text": [
      "Current machine states:\n",
      "\n",
      "k8s-master                not created (virtualbox)\n",
      "k8s-worker1               not created (virtualbox)\n",
      "k8s-worker2               not created (virtualbox)\n",
      "k8s-client                not created (virtualbox)\n",
      "\n",
      "This environment represents multiple VMs. The VMs are all listed\n",
      "above with their current state. For more information about a specific\n",
      "VM, run `vagrant status NAME`.\n"
     ]
    }
   ],
   "source": [
    "!vagrant status"
   ]
  },
  {
   "cell_type": "code",
   "execution_count": 2,
   "id": "bcf3cf5b",
   "metadata": {},
   "outputs": [
    {
     "name": "stdout",
     "output_type": "stream",
     "text": [
      "ubuntu/focal64 (virtualbox, 20240821.0.1)\n"
     ]
    }
   ],
   "source": [
    "!vagrant box list"
   ]
  },
  {
   "cell_type": "code",
   "execution_count": 3,
   "id": "2e20f4a4",
   "metadata": {},
   "outputs": [
    {
     "name": "stdout",
     "output_type": "stream",
     "text": [
      "Current machine states:\n",
      "\n",
      "k8s-master                running (virtualbox)\n",
      "k8s-worker1               running (virtualbox)\n",
      "k8s-worker2               running (virtualbox)\n",
      "k8s-client                running (virtualbox)\n",
      "\n",
      "This environment represents multiple VMs. The VMs are all listed\n",
      "above with their current state. For more information about a specific\n",
      "VM, run `vagrant status NAME`.\n"
     ]
    }
   ],
   "source": [
    "!vagrant status"
   ]
  },
  {
   "cell_type": "code",
   "execution_count": 4,
   "id": "62afe270",
   "metadata": {},
   "outputs": [
    {
     "name": "stdout",
     "output_type": "stream",
     "text": [
      "NAME          STATUS   ROLES           AGE     VERSION    INTERNAL-IP   EXTERNAL-IP   OS-IMAGE             KERNEL-VERSION      CONTAINER-RUNTIME\n",
      "k8s-master    Ready    control-plane   4m39s   v1.30.14   10.0.2.15     <none>        Ubuntu 20.04.6 LTS   5.4.0-216-generic   containerd://1.7.27\n",
      "k8s-worker1   Ready    <none>          2m59s   v1.30.14   10.0.2.15     <none>        Ubuntu 20.04.6 LTS   5.4.0-216-generic   containerd://1.7.27\n",
      "k8s-worker2   Ready    <none>          104s    v1.30.14   10.0.2.15     <none>        Ubuntu 20.04.6 LTS   5.4.0-216-generic   containerd://1.7.27\n"
     ]
    }
   ],
   "source": [
    "!vagrant ssh k8s-client -c \"kubectl get nodes -o wide\""
   ]
  },
  {
   "cell_type": "code",
   "execution_count": 5,
   "id": "633eeb5c",
   "metadata": {},
   "outputs": [
    {
     "name": "stdout",
     "output_type": "stream",
     "text": [
      "namespace/kubernetes-dashboard created\n",
      "serviceaccount/kubernetes-dashboard created\n",
      "service/kubernetes-dashboard created\n",
      "secret/kubernetes-dashboard-certs created\n",
      "secret/kubernetes-dashboard-csrf created\n",
      "secret/kubernetes-dashboard-key-holder created\n",
      "configmap/kubernetes-dashboard-settings created\n",
      "role.rbac.authorization.k8s.io/kubernetes-dashboard created\n",
      "clusterrole.rbac.authorization.k8s.io/kubernetes-dashboard created\n",
      "rolebinding.rbac.authorization.k8s.io/kubernetes-dashboard created\n",
      "clusterrolebinding.rbac.authorization.k8s.io/kubernetes-dashboard created\n",
      "deployment.apps/kubernetes-dashboard created\n",
      "service/dashboard-metrics-scraper created\n",
      "deployment.apps/dashboard-metrics-scraper created\n"
     ]
    }
   ],
   "source": [
    "!vagrant ssh k8s-client -c\"kubectl apply -f https://raw.githubusercontent.com/kubernetes/dashboard/v2.7.0/aio/deploy/recommended.yaml\""
   ]
  },
  {
   "cell_type": "markdown",
   "id": "b3082052",
   "metadata": {},
   "source": [
    "dashboard-adminuser.yaml\n",
    "\n",
    "apiVersion: v1\n",
    "kind: ServiceAccount\n",
    "metadata:\n",
    "  name: admin-user\n",
    "  namespace: kubernetes-dashboard\n",
    "---\n",
    "apiVersion: rbac.authorization.k8s.io/v1\n",
    "kind: ClusterRoleBinding\n",
    "metadata:\n",
    "  name: admin-user\n",
    "roleRef:\n",
    "  apiGroup: rbac.authorization.k8s.io\n",
    "  kind: ClusterRole\n",
    "  name: cluster-admin\n",
    "subjects:\n",
    "- kind: ServiceAccount\n",
    "  name: admin-user\n",
    "  namespace: kubernetes-dashboard"
   ]
  },
  {
   "cell_type": "markdown",
   "id": "1a0b42a1",
   "metadata": {},
   "source": []
  },
  {
   "cell_type": "markdown",
   "id": "27083447",
   "metadata": {},
   "source": [
    "!vagrant ssh k8s-client -c\"kubectl apply -f dashboard-adminuser.yaml\""
   ]
  },
  {
   "cell_type": "code",
   "execution_count": 6,
   "id": "27252ed4",
   "metadata": {},
   "outputs": [
    {
     "name": "stdout",
     "output_type": "stream",
     "text": [
      "eyJhbGciOiJSUzI1NiIsImtpZCI6IlhZZFQtZmhZVXNIcDJOd2o2YzQ4R0ZEM09xT0tfOTRweGsyZlNrdUl4dXcifQ.eyJhdWQiOlsiaHR0cHM6Ly9rdWJlcm5ldGVzLmRlZmF1bHQuc3ZjLmNsdXN0ZXIubG9jYWwiXSwiZXhwIjoxNzU1OTk5MTQ2LCJpYXQiOjE3NTU5OTU1NDYsImlzcyI6Imh0dHBzOi8va3ViZXJuZXRlcy5kZWZhdWx0LnN2Yy5jbHVzdGVyLmxvY2FsIiwianRpIjoiYmM0NjZlZjEtYjgxYi00MzIzLTg0NDEtMTU1ODEwMDc2ZmI2Iiwia3ViZXJuZXRlcy5pbyI6eyJuYW1lc3BhY2UiOiJrdWJlcm5ldGVzLWRhc2hib2FyZCIsInNlcnZpY2VhY2NvdW50Ijp7Im5hbWUiOiJhZG1pbi11c2VyIiwidWlkIjoiODBjYzQ3YzctMTJiMS00NzFkLTg5ZTctOTMzYWM4YjE3NWM1In19LCJuYmYiOjE3NTU5OTU1NDYsInN1YiI6InN5c3RlbTpzZXJ2aWNlYWNjb3VudDprdWJlcm5ldGVzLWRhc2hib2FyZDphZG1pbi11c2VyIn0.TOQMW32XPJt07w6EF1SsNfPaW-6MRCuPOPDbU0DrjSJX7SgmDfsdHZMU1Uf-piNVq46yrpo1hZLmNzOvacc8eGOtpL85xhx3os-We5VT-3CGV6FHmeEc2Vc7MHY0usJt3YRL-FyrEPndc3RWDX4rSQz2VbKTs5CzKZdormLqbUgCBQ8rMaBhEp7V-IX3U-Hwa2PIhv4tJzdknAwZE7EEJ4-tfEVZhLxYcx_LUcky5i63M3yZsZyeuc9K0zGV97UW0HKBiFz9zekbG5bK_MuMp0oElryyNW2BdAjY38GhcYJvd_EveL7I4UX2QBFJCsxXfDQD5b2a-Do9xmS-X1RlAA\n"
     ]
    }
   ],
   "source": [
    "!vagrant ssh k8s-client -c\"kubectl -n kubernetes-dashboard create token admin-user\""
   ]
  },
  {
   "cell_type": "code",
   "execution_count": null,
   "id": "6b295e49",
   "metadata": {},
   "outputs": [],
   "source": [
    "!vagrant ssh k8s-client -c\"kubectl proxy --address=0.0.0.0 --disable-filter=true &\""
   ]
  },
  {
   "cell_type": "code",
   "execution_count": 7,
   "id": "66510dde",
   "metadata": {},
   "outputs": [
    {
     "name": "stdout",
     "output_type": "stream",
     "text": [
      "10.0.2.15 192.168.56.13 fd17:625c:f037:2:1a:a2ff:fe1e:9db7 \n"
     ]
    }
   ],
   "source": [
    "!vagrant ssh k8s-client -c\"hostname -I\""
   ]
  },
  {
   "cell_type": "markdown",
   "id": "e616cb4f",
   "metadata": {},
   "source": [
    "http://192.168.56.13:8001/api/v1/namespaces/kubernetes-dashboard/services/https:kubernetes-dashboard:/proxy/#/login"
   ]
  },
  {
   "cell_type": "code",
   "execution_count": 9,
   "id": "f7b5d362",
   "metadata": {},
   "outputs": [
    {
     "name": "stderr",
     "output_type": "stream",
     "text": [
      "error: failed to create deployment: deployments.apps \"nginx\" already exists\n"
     ]
    }
   ],
   "source": [
    "!vagrant ssh k8s-client -c\"kubectl create deployment nginx --image=nginx:latest --replicas=2\""
   ]
  },
  {
   "cell_type": "code",
   "execution_count": 10,
   "id": "74bf9985",
   "metadata": {},
   "outputs": [
    {
     "name": "stdout",
     "output_type": "stream",
     "text": [
      "NAME                     READY   STATUS    RESTARTS   AGE\n",
      "nginx-7584b6f84c-29dk4   1/1     Running   0          60s\n",
      "nginx-7584b6f84c-lxcvt   1/1     Running   0          60s\n"
     ]
    }
   ],
   "source": [
    "!vagrant ssh k8s-client -c\"kubectl get pods\""
   ]
  },
  {
   "cell_type": "code",
   "execution_count": 11,
   "id": "12c4b706",
   "metadata": {},
   "outputs": [
    {
     "name": "stdout",
     "output_type": "stream",
     "text": [
      "deployment.apps/nginx scaled\n"
     ]
    }
   ],
   "source": [
    "!vagrant ssh k8s-client -c\"kubectl scale deployment nginx --replicas=10\""
   ]
  },
  {
   "cell_type": "code",
   "execution_count": 12,
   "id": "5f5c05b4",
   "metadata": {},
   "outputs": [
    {
     "name": "stdout",
     "output_type": "stream",
     "text": [
      "NAME    READY   UP-TO-DATE   AVAILABLE   AGE\n",
      "nginx   10/10   10           10          113s\n"
     ]
    }
   ],
   "source": [
    "!vagrant ssh k8s-client -c\"kubectl get deployments\""
   ]
  },
  {
   "cell_type": "code",
   "execution_count": 14,
   "id": "f2cdb16e",
   "metadata": {},
   "outputs": [
    {
     "name": "stdout",
     "output_type": "stream",
     "text": [
      "NAME                     READY   STATUS    RESTARTS   AGE     IP               NODE          NOMINATED NODE   READINESS GATES\n",
      "nginx-7584b6f84c-29dk4   1/1     Running   0          2m25s   192.168.194.66   k8s-worker1   <none>           <none>\n",
      "nginx-7584b6f84c-4ftjv   1/1     Running   0          50s     192.168.194.68   k8s-worker1   <none>           <none>\n",
      "nginx-7584b6f84c-7fsjx   1/1     Running   0          50s     192.168.194.70   k8s-worker1   <none>           <none>\n",
      "nginx-7584b6f84c-8h6rf   1/1     Running   0          50s     192.168.126.5    k8s-worker2   <none>           <none>\n",
      "nginx-7584b6f84c-9j6qr   1/1     Running   0          50s     192.168.126.3    k8s-worker2   <none>           <none>\n",
      "nginx-7584b6f84c-jszg2   1/1     Running   0          50s     192.168.126.4    k8s-worker2   <none>           <none>\n",
      "nginx-7584b6f84c-lm6vv   1/1     Running   0          50s     192.168.194.67   k8s-worker1   <none>           <none>\n",
      "nginx-7584b6f84c-lxcvt   1/1     Running   0          2m25s   192.168.126.2    k8s-worker2   <none>           <none>\n",
      "nginx-7584b6f84c-r7mgz   1/1     Running   0          50s     192.168.194.69   k8s-worker1   <none>           <none>\n",
      "nginx-7584b6f84c-rcccp   1/1     Running   0          49s     192.168.126.6    k8s-worker2   <none>           <none>\n"
     ]
    }
   ],
   "source": [
    "!vagrant ssh k8s-client -c\"kubectl get pods -o wide\""
   ]
  },
  {
   "cell_type": "code",
   "execution_count": null,
   "id": "ac5eaeb1",
   "metadata": {},
   "outputs": [],
   "source": []
  }
 ],
 "metadata": {
  "kernelspec": {
   "display_name": ".venv",
   "language": "python",
   "name": "python3"
  },
  "language_info": {
   "codemirror_mode": {
    "name": "ipython",
    "version": 3
   },
   "file_extension": ".py",
   "mimetype": "text/x-python",
   "name": "python",
   "nbconvert_exporter": "python",
   "pygments_lexer": "ipython3",
   "version": "3.13.5"
  }
 },
 "nbformat": 4,
 "nbformat_minor": 5
}
