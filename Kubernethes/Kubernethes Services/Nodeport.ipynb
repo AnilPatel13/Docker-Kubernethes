{
 "cells": [
  {
   "cell_type": "code",
   "execution_count": 1,
   "id": "9393f1f4",
   "metadata": {},
   "outputs": [
    {
     "name": "stdout",
     "output_type": "stream",
     "text": [
      "NAME                           READY   STATUS      RESTARTS   AGE\n",
      "pod/httpenv-5c47dc9f79-4r9dj   1/1     Running     0          40m\n",
      "pod/httpenv-5c47dc9f79-6p6wb   1/1     Running     0          39m\n",
      "pod/httpenv-5c47dc9f79-8l5t2   1/1     Running     0          39m\n",
      "pod/httpenv-5c47dc9f79-9bd4d   1/1     Running     0          39m\n",
      "pod/httpenv-5c47dc9f79-9xlrx   1/1     Running     0          39m\n",
      "pod/httpenv-5c47dc9f79-d2r27   1/1     Running     0          39m\n",
      "pod/httpenv-5c47dc9f79-k5g7s   1/1     Running     0          39m\n",
      "pod/httpenv-5c47dc9f79-p8r8n   1/1     Running     0          39m\n",
      "pod/httpenv-5c47dc9f79-sdcsw   1/1     Running     0          39m\n",
      "pod/httpenv-5c47dc9f79-szpr5   1/1     Running     0          39m\n",
      "pod/tmp-shell                  0/1     Completed   0          34m\n",
      "\n",
      "NAME                 TYPE        CLUSTER-IP       EXTERNAL-IP   PORT(S)    AGE\n",
      "service/httpenv      ClusterIP   10.104.177.152   <none>        8888/TCP   38m\n",
      "service/kubernetes   ClusterIP   10.96.0.1        <none>        443/TCP    5d20h\n",
      "\n",
      "NAME                      READY   UP-TO-DATE   AVAILABLE   AGE\n",
      "deployment.apps/httpenv   10/10   10           10          40m\n",
      "\n",
      "NAME                                 DESIRED   CURRENT   READY   AGE\n",
      "replicaset.apps/httpenv-5c47dc9f79   10        10        10      40m\n"
     ]
    }
   ],
   "source": [
    "!kubectl get all"
   ]
  },
  {
   "cell_type": "code",
   "execution_count": 2,
   "id": "483552e5",
   "metadata": {},
   "outputs": [
    {
     "name": "stdout",
     "output_type": "stream",
     "text": [
      "service/httpenv-np exposed\n"
     ]
    }
   ],
   "source": [
    "!kubectl expose deployment/httpenv --port 8888 --name httpenv-np --type NodePort"
   ]
  },
  {
   "cell_type": "code",
   "execution_count": 3,
   "id": "28ff8939",
   "metadata": {},
   "outputs": [
    {
     "name": "stdout",
     "output_type": "stream",
     "text": [
      "NAME         TYPE        CLUSTER-IP       EXTERNAL-IP   PORT(S)          AGE\n",
      "httpenv      ClusterIP   10.104.177.152   <none>        8888/TCP         40m\n",
      "httpenv-np   NodePort    10.104.222.223   <none>        8888:32318/TCP   37s\n",
      "kubernetes   ClusterIP   10.96.0.1        <none>        443/TCP          5d20h\n"
     ]
    }
   ],
   "source": [
    "!kubectl get services"
   ]
  },
  {
   "cell_type": "code",
   "execution_count": 4,
   "id": "6493df92",
   "metadata": {},
   "outputs": [
    {
     "name": "stdout",
     "output_type": "stream",
     "text": [
      "{\"HOME\":\"/root\",\"HOSTNAME\":\"httpenv-5c47dc9f79-szpr5\",\"KUBERNETES_PORT\":\"tcp://10.96.0.1:443\",\"KUBERNETES_PORT_443_TCP\":\"tcp://10.96.0.1:443\",\"KUBERNETES_PORT_443_TCP_ADDR\":\"10.96.0.1\",\"KUBERNETES_PORT_443_TCP_PORT\":\"443\",\"KUBERNETES_PORT_443_TCP_PROTO\":\"tcp\",\"KUBERNETES_SERVICE_HOST\":\"10.96.0.1\",\"KUBERNETES_SERVICE_PORT\":\"443\",\"KUBERNETES_SERVICE_PORT_HTTPS\":\"443\",\"PATH\":\"/usr/local/sbin:/usr/local/bin:/usr/sbin:/usr/bin:/sbin:/bin\"}\n"
     ]
    },
    {
     "name": "stderr",
     "output_type": "stream",
     "text": [
      "  % Total    % Received % Xferd  Average Speed   Time    Time     Time  Current\n",
      "                                 Dload  Upload   Total   Spent    Left  Speed\n",
      "\n",
      "  0     0    0     0    0     0      0      0 --:--:-- --:--:-- --:--:--     0\n",
      "100   438  100   438    0     0   109k      0 --:--:-- --:--:-- --:--:--  142k\n"
     ]
    }
   ],
   "source": [
    "!curl localhost:32318"
   ]
  },
  {
   "cell_type": "code",
   "execution_count": null,
   "id": "e978bb81",
   "metadata": {},
   "outputs": [],
   "source": []
  },
  {
   "cell_type": "code",
   "execution_count": null,
   "id": "93becf08",
   "metadata": {},
   "outputs": [],
   "source": [
    "!"
   ]
  },
  {
   "cell_type": "code",
   "execution_count": null,
   "id": "7bc67b81",
   "metadata": {},
   "outputs": [],
   "source": [
    "!"
   ]
  }
 ],
 "metadata": {
  "kernelspec": {
   "display_name": ".venv",
   "language": "python",
   "name": "python3"
  },
  "language_info": {
   "codemirror_mode": {
    "name": "ipython",
    "version": 3
   },
   "file_extension": ".py",
   "mimetype": "text/x-python",
   "name": "python",
   "nbconvert_exporter": "python",
   "pygments_lexer": "ipython3",
   "version": "3.13.5"
  }
 },
 "nbformat": 4,
 "nbformat_minor": 5
}
