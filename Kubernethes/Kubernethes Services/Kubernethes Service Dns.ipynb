{
 "cells": [
  {
   "cell_type": "code",
   "execution_count": 1,
   "id": "2b21cdf0",
   "metadata": {},
   "outputs": [
    {
     "name": "stdout",
     "output_type": "stream",
     "text": [
      "NAME              STATUS   AGE\n",
      "default           Active   5d21h\n",
      "kube-node-lease   Active   5d21h\n",
      "kube-public       Active   5d21h\n",
      "kube-system       Active   5d21h\n"
     ]
    }
   ],
   "source": [
    "!kubectl get namespaces"
   ]
  },
  {
   "cell_type": "code",
   "execution_count": 2,
   "id": "99c5a580",
   "metadata": {},
   "outputs": [
    {
     "name": "stdout",
     "output_type": "stream",
     "text": [
      "service/httpenv-external created\n"
     ]
    }
   ],
   "source": [
    "!kubectl create service externalname httpenv-external --external-name=host.docker.internal --tcp=8888:8888"
   ]
  },
  {
   "cell_type": "code",
   "execution_count": 4,
   "id": "427848b3",
   "metadata": {},
   "outputs": [
    {
     "name": "stdout",
     "output_type": "stream",
     "text": [
      "NAME               TYPE           CLUSTER-IP       EXTERNAL-IP            PORT(S)          AGE\n",
      "httpenv            ClusterIP      10.104.177.152   <none>                 8888/TCP         60m\n",
      "httpenv-external   ExternalName   <none>           host.docker.internal   8888/TCP         13s\n",
      "httpenv-lb         LoadBalancer   10.108.161.49    localhost              8888:31248/TCP   13m\n",
      "httpenv-np         NodePort       10.104.222.223   <none>                 8888:32318/TCP   20m\n",
      "kubernetes         ClusterIP      10.96.0.1        <none>                 443/TCP          5d21h\n"
     ]
    }
   ],
   "source": [
    "!kubectl get services"
   ]
  },
  {
   "cell_type": "code",
   "execution_count": 6,
   "id": "3908da96",
   "metadata": {},
   "outputs": [
    {
     "name": "stdout",
     "output_type": "stream",
     "text": [
      "{\"HOME\":\"/root\",\"HOSTNAME\":\"httpenv-5c47dc9f79-szpr5\",\"KUBERNETES_PORT\":\"tcp://10.96.0.1:443\",\"KUBERNETES_PORT_443_TCP\":\"tcp://10.96.0.1:443\",\"KUBERNETES_PORT_443_TCP_ADDR\":\"10.96.0.1\",\"KUBERNETES_PORT_443_TCP_PORT\":\"443\",\"KUBERNETES_PORT_443_TCP_PROTO\":\"tcp\",\"KUBERNETES_SERVICE_HOST\":\"10.96.0.1\",\"KUBERNETES_SERVICE_PORT\":\"443\",\"KUBERNETES_SERVICE_PORT_HTTPS\":\"443\",\"PATH\":\"/usr/local/sbin:/usr/local/bin:/usr/sbin:/usr/bin:/sbin:/bin\"}\n"
     ]
    },
    {
     "name": "stderr",
     "output_type": "stream",
     "text": [
      "  % Total    % Received % Xferd  Average Speed   Time    Time     Time  Current\n",
      "                                 Dload  Upload   Total   Spent    Left  Speed\n",
      "\n",
      "  0     0    0     0    0     0      0      0 --:--:-- --:--:-- --:--:--     0\n",
      "100   438  100   438    0     0  67949      0 --:--:-- --:--:-- --:--:-- 87600\n"
     ]
    }
   ],
   "source": [
    "!curl host.docker.internal:8888"
   ]
  }
 ],
 "metadata": {
  "kernelspec": {
   "display_name": ".venv",
   "language": "python",
   "name": "python3"
  },
  "language_info": {
   "codemirror_mode": {
    "name": "ipython",
    "version": 3
   },
   "file_extension": ".py",
   "mimetype": "text/x-python",
   "name": "python",
   "nbconvert_exporter": "python",
   "pygments_lexer": "ipython3",
   "version": "3.13.5"
  }
 },
 "nbformat": 4,
 "nbformat_minor": 5
}
