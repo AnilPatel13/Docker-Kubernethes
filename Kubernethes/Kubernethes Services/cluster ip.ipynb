{
 "cells": [
  {
   "cell_type": "code",
   "execution_count": 3,
   "id": "de6c73eb",
   "metadata": {},
   "outputs": [
    {
     "name": "stderr",
     "output_type": "stream",
     "text": [
      "No resources found in default namespace.\n"
     ]
    }
   ],
   "source": [
    "!kubectl get pods"
   ]
  },
  {
   "cell_type": "code",
   "execution_count": 4,
   "id": "59aaa9ba",
   "metadata": {},
   "outputs": [
    {
     "name": "stdout",
     "output_type": "stream",
     "text": [
      "deployment.apps/httpenv created\n"
     ]
    }
   ],
   "source": [
    "!kubectl create deployment httpenv --image=bretfisher/httpenv"
   ]
  },
  {
   "cell_type": "code",
   "execution_count": 5,
   "id": "13d8bd64",
   "metadata": {},
   "outputs": [
    {
     "name": "stdout",
     "output_type": "stream",
     "text": [
      "NAME                       READY   STATUS    RESTARTS   AGE\n",
      "httpenv-5c47dc9f79-4r9dj   1/1     Running   0          10s\n"
     ]
    }
   ],
   "source": [
    "!kubectl get pods"
   ]
  },
  {
   "cell_type": "code",
   "execution_count": 8,
   "id": "2eed3d5a",
   "metadata": {},
   "outputs": [
    {
     "name": "stdout",
     "output_type": "stream",
     "text": [
      "deployment.apps/httpenv scaled\n"
     ]
    }
   ],
   "source": [
    "!kubectl scale deployment/httpenv --replicas=10"
   ]
  },
  {
   "cell_type": "code",
   "execution_count": 10,
   "id": "24b2207f",
   "metadata": {},
   "outputs": [
    {
     "name": "stdout",
     "output_type": "stream",
     "text": [
      "NAME                       READY   STATUS    RESTARTS   AGE\n",
      "httpenv-5c47dc9f79-4r9dj   1/1     Running   0          71s\n",
      "httpenv-5c47dc9f79-6p6wb   1/1     Running   0          10s\n",
      "httpenv-5c47dc9f79-8l5t2   1/1     Running   0          10s\n",
      "httpenv-5c47dc9f79-9bd4d   1/1     Running   0          10s\n",
      "httpenv-5c47dc9f79-9xlrx   1/1     Running   0          10s\n",
      "httpenv-5c47dc9f79-d2r27   1/1     Running   0          10s\n",
      "httpenv-5c47dc9f79-k5g7s   1/1     Running   0          10s\n",
      "httpenv-5c47dc9f79-p8r8n   1/1     Running   0          10s\n",
      "httpenv-5c47dc9f79-sdcsw   1/1     Running   0          10s\n",
      "httpenv-5c47dc9f79-szpr5   1/1     Running   0          10s\n"
     ]
    }
   ],
   "source": [
    "!kubectl get pods"
   ]
  },
  {
   "cell_type": "code",
   "execution_count": 11,
   "id": "eb0fbc63",
   "metadata": {},
   "outputs": [
    {
     "name": "stdout",
     "output_type": "stream",
     "text": [
      "service/httpenv exposed\n"
     ]
    }
   ],
   "source": [
    "!kubectl expose deployment/httpenv --port 8888"
   ]
  },
  {
   "cell_type": "code",
   "execution_count": 12,
   "id": "3241c648",
   "metadata": {},
   "outputs": [
    {
     "name": "stdout",
     "output_type": "stream",
     "text": [
      "NAME         TYPE        CLUSTER-IP       EXTERNAL-IP   PORT(S)    AGE\n",
      "httpenv      ClusterIP   10.104.177.152   <none>        8888/TCP   32s\n",
      "kubernetes   ClusterIP   10.96.0.1        <none>        443/TCP    5d20h\n"
     ]
    }
   ],
   "source": [
    "!kubectl get services"
   ]
  },
  {
   "cell_type": "code",
   "execution_count": 14,
   "id": "b9c3b5e6",
   "metadata": {},
   "outputs": [
    {
     "name": "stdout",
     "output_type": "stream",
     "text": [
      "pod/tmp-shell created\n"
     ]
    }
   ],
   "source": [
    "!kubectl run tmp-shell --restart=Never --image=bretfisher/netshoot -- curl httpenv:8888"
   ]
  },
  {
   "cell_type": "code",
   "execution_count": 15,
   "id": "19dbc6a3",
   "metadata": {},
   "outputs": [
    {
     "name": "stdout",
     "output_type": "stream",
     "text": [
      "  % Total    % Received % Xferd  Average Speed   Time    Time     Time  Current\n",
      "                                 Dload  Upload   Total   Spent    Left  Speed\n",
      "\n",
      "  0     0    0     0    0     0      0      0 --:--:-- --:--:-- --:--:--     0\n",
      "100   438  100   438    0     0   139k      0 --:--:-- --:--:-- --:--:--  213k\n",
      "{\"HOME\":\"/root\",\"HOSTNAME\":\"httpenv-5c47dc9f79-9bd4d\",\"KUBERNETES_PORT\":\"tcp://10.96.0.1:443\",\"KUBERNETES_PORT_443_TCP\":\"tcp://10.96.0.1:443\",\"KUBERNETES_PORT_443_TCP_ADDR\":\"10.96.0.1\",\"KUBERNETES_PORT_443_TCP_PORT\":\"443\",\"KUBERNETES_PORT_443_TCP_PROTO\":\"tcp\",\"KUBERNETES_SERVICE_HOST\":\"10.96.0.1\",\"KUBERNETES_SERVICE_PORT\":\"443\",\"KUBERNETES_SERVICE_PORT_HTTPS\":\"443\",\"PATH\":\"/usr/local/sbin:/usr/local/bin:/usr/sbin:/usr/bin:/sbin:/bin\"}\n"
     ]
    }
   ],
   "source": [
    "!kubectl logs tmp-shell"
   ]
  },
  {
   "cell_type": "code",
   "execution_count": 16,
   "id": "35528aa4",
   "metadata": {},
   "outputs": [
    {
     "name": "stdout",
     "output_type": "stream",
     "text": [
      "NAME                       READY   STATUS      RESTARTS   AGE\n",
      "httpenv-5c47dc9f79-4r9dj   1/1     Running     0          6m34s\n",
      "httpenv-5c47dc9f79-6p6wb   1/1     Running     0          5m33s\n",
      "httpenv-5c47dc9f79-8l5t2   1/1     Running     0          5m33s\n",
      "httpenv-5c47dc9f79-9bd4d   1/1     Running     0          5m33s\n",
      "httpenv-5c47dc9f79-9xlrx   1/1     Running     0          5m33s\n",
      "httpenv-5c47dc9f79-d2r27   1/1     Running     0          5m33s\n",
      "httpenv-5c47dc9f79-k5g7s   1/1     Running     0          5m33s\n",
      "httpenv-5c47dc9f79-p8r8n   1/1     Running     0          5m33s\n",
      "httpenv-5c47dc9f79-sdcsw   1/1     Running     0          5m33s\n",
      "httpenv-5c47dc9f79-szpr5   1/1     Running     0          5m33s\n",
      "tmp-shell                  0/1     Completed   0          77s\n"
     ]
    }
   ],
   "source": [
    "!kubectl get pods"
   ]
  },
  {
   "cell_type": "code",
   "execution_count": null,
   "id": "ceae6166",
   "metadata": {},
   "outputs": [],
   "source": []
  }
 ],
 "metadata": {
  "kernelspec": {
   "display_name": ".venv",
   "language": "python",
   "name": "python3"
  },
  "language_info": {
   "codemirror_mode": {
    "name": "ipython",
    "version": 3
   },
   "file_extension": ".py",
   "mimetype": "text/x-python",
   "name": "python",
   "nbconvert_exporter": "python",
   "pygments_lexer": "ipython3",
   "version": "3.13.5"
  }
 },
 "nbformat": 4,
 "nbformat_minor": 5
}
