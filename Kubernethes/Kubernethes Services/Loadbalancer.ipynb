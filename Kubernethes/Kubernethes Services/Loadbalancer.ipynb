{
 "cells": [
  {
   "cell_type": "code",
   "execution_count": 1,
   "id": "81676b76",
   "metadata": {},
   "outputs": [
    {
     "name": "stdout",
     "output_type": "stream",
     "text": [
      "NAME                           READY   STATUS      RESTARTS   AGE\n",
      "pod/httpenv-5c47dc9f79-4r9dj   1/1     Running     0          47m\n",
      "pod/httpenv-5c47dc9f79-6p6wb   1/1     Running     0          46m\n",
      "pod/httpenv-5c47dc9f79-8l5t2   1/1     Running     0          46m\n",
      "pod/httpenv-5c47dc9f79-9bd4d   1/1     Running     0          46m\n",
      "pod/httpenv-5c47dc9f79-9xlrx   1/1     Running     0          46m\n",
      "pod/httpenv-5c47dc9f79-d2r27   1/1     Running     0          46m\n",
      "pod/httpenv-5c47dc9f79-k5g7s   1/1     Running     0          46m\n",
      "pod/httpenv-5c47dc9f79-p8r8n   1/1     Running     0          46m\n",
      "pod/httpenv-5c47dc9f79-sdcsw   1/1     Running     0          46m\n",
      "pod/httpenv-5c47dc9f79-szpr5   1/1     Running     0          46m\n",
      "pod/tmp-shell                  0/1     Completed   0          42m\n",
      "\n",
      "NAME                 TYPE        CLUSTER-IP       EXTERNAL-IP   PORT(S)          AGE\n",
      "service/httpenv      ClusterIP   10.104.177.152   <none>        8888/TCP         45m\n",
      "service/httpenv-np   NodePort    10.104.222.223   <none>        8888:32318/TCP   5m44s\n",
      "service/kubernetes   ClusterIP   10.96.0.1        <none>        443/TCP          5d21h\n",
      "\n",
      "NAME                      READY   UP-TO-DATE   AVAILABLE   AGE\n",
      "deployment.apps/httpenv   10/10   10           10          47m\n",
      "\n",
      "NAME                                 DESIRED   CURRENT   READY   AGE\n",
      "replicaset.apps/httpenv-5c47dc9f79   10        10        10      47m\n"
     ]
    }
   ],
   "source": [
    "!kubectl get all"
   ]
  },
  {
   "cell_type": "code",
   "execution_count": 2,
   "id": "5317b58a",
   "metadata": {},
   "outputs": [
    {
     "name": "stdout",
     "output_type": "stream",
     "text": [
      "NAME         TYPE        CLUSTER-IP       EXTERNAL-IP   PORT(S)          AGE\n",
      "httpenv      ClusterIP   10.104.177.152   <none>        8888/TCP         45m\n",
      "httpenv-np   NodePort    10.104.222.223   <none>        8888:32318/TCP   5m53s\n",
      "kubernetes   ClusterIP   10.96.0.1        <none>        443/TCP          5d21h\n"
     ]
    }
   ],
   "source": [
    "!kubectl get services"
   ]
  },
  {
   "cell_type": "code",
   "execution_count": 3,
   "id": "fa7a8562",
   "metadata": {},
   "outputs": [
    {
     "name": "stdout",
     "output_type": "stream",
     "text": [
      "service/httpenv-lb exposed\n"
     ]
    }
   ],
   "source": [
    "!kubectl expose deployment/httpenv --port 8888 --name httpenv-lb --type LoadBalancer"
   ]
  },
  {
   "cell_type": "code",
   "execution_count": 4,
   "id": "0d6d05ce",
   "metadata": {},
   "outputs": [
    {
     "name": "stdout",
     "output_type": "stream",
     "text": [
      "NAME         TYPE           CLUSTER-IP       EXTERNAL-IP   PORT(S)          AGE\n",
      "httpenv      ClusterIP      10.104.177.152   <none>        8888/TCP         46m\n",
      "httpenv-lb   LoadBalancer   10.108.161.49    localhost     8888:31248/TCP   5s\n",
      "httpenv-np   NodePort       10.104.222.223   <none>        8888:32318/TCP   6m35s\n",
      "kubernetes   ClusterIP      10.96.0.1        <none>        443/TCP          5d21h\n"
     ]
    }
   ],
   "source": [
    "!kubectl get services"
   ]
  },
  {
   "cell_type": "code",
   "execution_count": 5,
   "id": "f8822af5",
   "metadata": {},
   "outputs": [
    {
     "name": "stdout",
     "output_type": "stream",
     "text": [
      "{\"HOME\":\"/root\",\"HOSTNAME\":\"httpenv-5c47dc9f79-p8r8n\",\"KUBERNETES_PORT\":\"tcp://10.96.0.1:443\",\"KUBERNETES_PORT_443_TCP\":\"tcp://10.96.0.1:443\",\"KUBERNETES_PORT_443_TCP_ADDR\":\"10.96.0.1\",\"KUBERNETES_PORT_443_TCP_PORT\":\"443\",\"KUBERNETES_PORT_443_TCP_PROTO\":\"tcp\",\"KUBERNETES_SERVICE_HOST\":\"10.96.0.1\",\"KUBERNETES_SERVICE_PORT\":\"443\",\"KUBERNETES_SERVICE_PORT_HTTPS\":\"443\",\"PATH\":\"/usr/local/sbin:/usr/local/bin:/usr/sbin:/usr/bin:/sbin:/bin\"}\n"
     ]
    },
    {
     "name": "stderr",
     "output_type": "stream",
     "text": [
      "  % Total    % Received % Xferd  Average Speed   Time    Time     Time  Current\n",
      "                                 Dload  Upload   Total   Spent    Left  Speed\n",
      "\n",
      "  0     0    0     0    0     0      0      0 --:--:-- --:--:-- --:--:--     0\n",
      "100   438  100   438    0     0   133k      0 --:--:-- --:--:-- --:--:--  142k\n"
     ]
    }
   ],
   "source": [
    "!curl localhost:8888"
   ]
  },
  {
   "cell_type": "code",
   "execution_count": null,
   "id": "7feb97e1",
   "metadata": {},
   "outputs": [],
   "source": []
  }
 ],
 "metadata": {
  "kernelspec": {
   "display_name": ".venv",
   "language": "python",
   "name": "python3"
  },
  "language_info": {
   "codemirror_mode": {
    "name": "ipython",
    "version": 3
   },
   "file_extension": ".py",
   "mimetype": "text/x-python",
   "name": "python",
   "nbconvert_exporter": "python",
   "pygments_lexer": "ipython3",
   "version": "3.13.5"
  }
 },
 "nbformat": 4,
 "nbformat_minor": 5
}
