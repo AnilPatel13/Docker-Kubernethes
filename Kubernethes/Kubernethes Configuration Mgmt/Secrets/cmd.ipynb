{
 "cells": [
  {
   "cell_type": "code",
   "execution_count": 2,
   "id": "a1bb0f07",
   "metadata": {},
   "outputs": [
    {
     "name": "stdout",
     "output_type": "stream",
     "text": [
      "Create a secret with specified type.\n",
      "\n",
      " A docker-registry type secret is for accessing a container registry.\n",
      "\n",
      " A generic type secret indicate an Opaque secret type.\n",
      "\n",
      " A tls type secret holds TLS certificate and its associated key.\n",
      "\n",
      "Available Commands:\n",
      "  docker-registry   Create a secret for use with a Docker registry\n",
      "  generic           Create a secret from a local file, directory, or literal value\n",
      "  tls               Create a TLS secret\n",
      "\n",
      "Usage:\n",
      "  kubectl create secret (docker-registry | generic | tls) [options]\n",
      "\n",
      "Use \"kubectl create secret <command> --help\" for more information about a given command.\n",
      "Use \"kubectl options\" for a list of global command-line options (applies to all commands).\n"
     ]
    }
   ],
   "source": [
    "!kubectl create secret --help"
   ]
  },
  {
   "cell_type": "code",
   "execution_count": 3,
   "id": "0a0f214a",
   "metadata": {},
   "outputs": [
    {
     "name": "stdout",
     "output_type": "stream",
     "text": [
      "Create a secret based on a file, directory, or specified literal value.\n",
      "\n",
      " A single secret may package one or more key/value pairs.\n",
      "\n",
      " When creating a secret based on a file, the key will default to the basename of the file, and the value will default to the file content. If the basename is an invalid key or you wish to chose your own, you may specify an alternate key.\n",
      "\n",
      " When creating a secret based on a directory, each file whose basename is a valid key in the directory will be packaged into the secret. Any directory entries except regular files are ignored (e.g. subdirectories, symlinks, devices, pipes, etc).\n",
      "\n",
      "Examples:\n",
      "  # Create a new secret named my-secret with keys for each file in folder bar\n",
      "  kubectl create secret generic my-secret --from-file=path/to/bar\n",
      "  \n",
      "  # Create a new secret named my-secret with specified keys instead of names on disk\n",
      "  kubectl create secret generic my-secret --from-file=ssh-privatekey=path/to/id_rsa --from-file=ssh-publickey=path/to/id_rsa.pub\n",
      "  \n",
      "  # Create a new secret named my-secret with key1=supersecret and key2=topsecret\n",
      "  kubectl create secret generic my-secret --from-literal=key1=supersecret --from-literal=key2=topsecret\n",
      "  \n",
      "  # Create a new secret named my-secret using a combination of a file and a literal\n",
      "  kubectl create secret generic my-secret --from-file=ssh-privatekey=path/to/id_rsa --from-literal=passphrase=topsecret\n",
      "  \n",
      "  # Create a new secret named my-secret from env files\n",
      "  kubectl create secret generic my-secret --from-env-file=path/to/foo.env --from-env-file=path/to/bar.env\n",
      "\n",
      "Options:\n",
      "    --allow-missing-template-keys=true:\n",
      "\tIf true, ignore any errors in templates when a field or map key is missing in the template. Only applies to golang and jsonpath output formats.\n",
      "\n",
      "    --append-hash=false:\n",
      "\tAppend a hash of the secret to its name.\n",
      "\n",
      "    --dry-run='none':\n",
      "\tMust be \"none\", \"server\", or \"client\". If client strategy, only print the object that would be sent, without sending it. If server strategy, submit server-side request without persisting the resource.\n",
      "\n",
      "    --field-manager='kubectl-create':\n",
      "\tName of the manager used to track field ownership.\n",
      "\n",
      "    --from-env-file=[]:\n",
      "\tSpecify the path to a file to read lines of key=val pairs to create a secret.\n",
      "\n",
      "    --from-file=[]:\n",
      "\tKey files can be specified using their file path, in which case a default name will be given to them, or optionally with a name and file path, in which case the given name will be used.  Specifying a directory will iterate each named file in the directory that is a valid secret key.\n",
      "\n",
      "    --from-literal=[]:\n",
      "\tSpecify a key and literal value to insert in secret (i.e. mykey=somevalue)\n",
      "\n",
      "    -o, --output='':\n",
      "\tOutput format. One of: (json, yaml, name, go-template, go-template-file, template, templatefile, jsonpath, jsonpath-as-json, jsonpath-file).\n",
      "\n",
      "    --save-config=false:\n",
      "\tIf true, the configuration of current object will be saved in its annotation. Otherwise, the annotation will be unchanged. This flag is useful when you want to perform kubectl apply on this object in the future.\n",
      "\n",
      "    --show-managed-fields=false:\n",
      "\tIf true, keep the managedFields when printing objects in JSON or YAML format.\n",
      "\n",
      "    --template='':\n",
      "\tTemplate string or path to template file to use when -o=go-template, -o=go-template-file. The template format is golang templates [http://golang.org/pkg/text/template/#pkg-overview].\n",
      "\n",
      "    --type='':\n",
      "\tThe type of secret to create\n",
      "\n",
      "    --validate='strict':\n",
      "\tMust be one of: strict (or true), warn, ignore (or false). \"true\" or \"strict\" will use a schema to validate the input and fail the request if invalid. It will perform server side validation if ServerSideFieldValidation is enabled on the api-server, but will fall back to less reliable client-side validation if not. \"warn\" will warn about unknown or duplicate fields without blocking the request if server-side field validation is enabled on the API server, and behave as \"ignore\" otherwise. \"false\" or \"ignore\" will not perform any schema validation, silently dropping any unknown or duplicate fields.\n",
      "\n",
      "Usage:\n",
      "  kubectl create secret generic NAME [--type=string] [--from-file=[key=]source] [--from-literal=key1=value1] [--dry-run=server|client|none] [options]\n",
      "\n",
      "Use \"kubectl options\" for a list of global command-line options (applies to all commands).\n"
     ]
    }
   ],
   "source": [
    "!kubectl create secret generic --help"
   ]
  },
  {
   "cell_type": "code",
   "execution_count": 6,
   "id": "0512fe7b",
   "metadata": {},
   "outputs": [
    {
     "name": "stdout",
     "output_type": "stream",
     "text": [
      "secret/db-creds created\n"
     ]
    }
   ],
   "source": [
    "!kubectl create secret generic db-creds --from-literal=username=db_user --from-literal=password=db_pass"
   ]
  },
  {
   "cell_type": "code",
   "execution_count": 7,
   "id": "65095c4c",
   "metadata": {},
   "outputs": [
    {
     "name": "stdout",
     "output_type": "stream",
     "text": [
      "NAME       TYPE     DATA   AGE\n",
      "db-creds   Opaque   2      8s\n"
     ]
    }
   ],
   "source": [
    "!kubectl get secret"
   ]
  },
  {
   "cell_type": "code",
   "execution_count": 8,
   "id": "a85c530f",
   "metadata": {},
   "outputs": [
    {
     "name": "stdout",
     "output_type": "stream",
     "text": [
      "Name:         db-creds\n",
      "Namespace:    default\n",
      "Labels:       <none>\n",
      "Annotations:  <none>\n",
      "\n",
      "Type:  Opaque\n",
      "\n",
      "Data\n",
      "====\n",
      "password:  7 bytes\n",
      "username:  7 bytes\n"
     ]
    }
   ],
   "source": [
    "!kubectl describe secret db-creds"
   ]
  },
  {
   "cell_type": "code",
   "execution_count": 9,
   "id": "2faa0a63",
   "metadata": {},
   "outputs": [
    {
     "name": "stdout",
     "output_type": "stream",
     "text": [
      "apiVersion: v1\n",
      "data:\n",
      "  password: ZGJfcGFzcw==\n",
      "  username: ZGJfdXNlcg==\n",
      "kind: Secret\n",
      "metadata:\n",
      "  creationTimestamp: \"2025-08-31T18:01:52Z\"\n",
      "  name: db-creds\n",
      "  namespace: default\n",
      "  resourceVersion: \"101755\"\n",
      "  uid: dba9b23e-9311-4f30-be57-ea5ee82742bc\n",
      "type: Opaque\n"
     ]
    }
   ],
   "source": [
    "!kubectl get secret db-creds -o yaml"
   ]
  },
  {
   "cell_type": "code",
   "execution_count": 11,
   "id": "92f72f8e",
   "metadata": {},
   "outputs": [
    {
     "name": "stderr",
     "output_type": "stream",
     "text": [
      "'base64' is not recognized as an internal or external command,\n",
      "operable program or batch file.\n"
     ]
    }
   ],
   "source": [
    "!echo \"ZGJfcGFzcw==\" | base64 -d"
   ]
  },
  {
   "cell_type": "code",
   "execution_count": 12,
   "id": "5e569527",
   "metadata": {},
   "outputs": [
    {
     "name": "stdout",
     "output_type": "stream",
     "text": [
      "pod/busybox created\n"
     ]
    }
   ],
   "source": [
    "!kubectl apply -f ."
   ]
  },
  {
   "cell_type": "code",
   "execution_count": 13,
   "id": "cbeca89f",
   "metadata": {},
   "outputs": [
    {
     "name": "stdout",
     "output_type": "stream",
     "text": [
      "NAME      READY   STATUS    RESTARTS   AGE\n",
      "busybox   1/1     Running   0          7s\n"
     ]
    }
   ],
   "source": [
    "!kubectl get pods"
   ]
  },
  {
   "cell_type": "code",
   "execution_count": 14,
   "id": "b50a6d4c",
   "metadata": {},
   "outputs": [
    {
     "name": "stdout",
     "output_type": "stream",
     "text": [
      "db_user\n",
      "db_pass\n"
     ]
    }
   ],
   "source": [
    "!kubectl logs busybox   "
   ]
  },
  {
   "cell_type": "code",
   "execution_count": 18,
   "id": "576f76da",
   "metadata": {},
   "outputs": [
    {
     "name": "stdout",
     "output_type": "stream",
     "text": [
      "pod/busybox created\n"
     ]
    }
   ],
   "source": [
    "!kubectl apply -f ."
   ]
  },
  {
   "cell_type": "code",
   "execution_count": 19,
   "id": "33a24347",
   "metadata": {},
   "outputs": [
    {
     "name": "stdout",
     "output_type": "stream",
     "text": [
      "db_user\n",
      "db_pass\n"
     ]
    }
   ],
   "source": [
    "!kubectl logs busybox   "
   ]
  },
  {
   "cell_type": "markdown",
   "id": "cbd1fa91",
   "metadata": {},
   "source": [
    "# mounting secrets as volumes"
   ]
  },
  {
   "cell_type": "code",
   "execution_count": 20,
   "id": "12d3c4da",
   "metadata": {},
   "outputs": [
    {
     "name": "stdout",
     "output_type": "stream",
     "text": [
      "NAME      READY   STATUS    RESTARTS   AGE\n",
      "busybox   1/1     Running   0          3m7s\n"
     ]
    }
   ],
   "source": [
    "!kubectl get pods"
   ]
  },
  {
   "cell_type": "code",
   "execution_count": 22,
   "id": "86c2d8dd",
   "metadata": {},
   "outputs": [
    {
     "name": "stdout",
     "output_type": "stream",
     "text": [
      "pod \"busybox\" force deleted\n"
     ]
    },
    {
     "name": "stderr",
     "output_type": "stream",
     "text": [
      "Warning: Immediate deletion does not wait for confirmation that the running resource has been terminated. The resource may continue to run on the cluster indefinitely.\n"
     ]
    }
   ],
   "source": [
    "!kubectl delete pods --force busybox"
   ]
  },
  {
   "cell_type": "code",
   "execution_count": 23,
   "id": "c8c5febd",
   "metadata": {},
   "outputs": [
    {
     "name": "stdout",
     "output_type": "stream",
     "text": [
      "pod/busybox created\n"
     ]
    }
   ],
   "source": [
    "!kubectl apply -f ."
   ]
  },
  {
   "cell_type": "code",
   "execution_count": 26,
   "id": "03efbd49",
   "metadata": {},
   "outputs": [
    {
     "name": "stdout",
     "output_type": "stream",
     "text": [
      "password\n",
      "username\n"
     ]
    }
   ],
   "source": [
    "!kubectl exec busybox -- sh -c \"ls /etc/db\""
   ]
  },
  {
   "cell_type": "code",
   "execution_count": 27,
   "id": "fb72fa66",
   "metadata": {},
   "outputs": [
    {
     "name": "stdout",
     "output_type": "stream",
     "text": [
      "db_pass\n"
     ]
    }
   ],
   "source": [
    "!kubectl exec busybox -- sh -c \"cat /etc/db/password\""
   ]
  },
  {
   "cell_type": "code",
   "execution_count": 28,
   "id": "e80083bc",
   "metadata": {},
   "outputs": [
    {
     "name": "stdout",
     "output_type": "stream",
     "text": [
      "db_user\n"
     ]
    }
   ],
   "source": [
    "!kubectl exec busybox -- sh -c \"cat /etc/db/username\""
   ]
  },
  {
   "cell_type": "code",
   "execution_count": 29,
   "id": "ac070fe5",
   "metadata": {},
   "outputs": [
    {
     "name": "stdout",
     "output_type": "stream",
     "text": [
      "apiVersion: v1\n",
      "kind: Pod\n",
      "metadata:\n",
      "  annotations:\n",
      "    kubectl.kubernetes.io/last-applied-configuration: |\n",
      "      {\"apiVersion\":\"v1\",\"kind\":\"Pod\",\"metadata\":{\"annotations\":{},\"labels\":{\"app\":\"busybox\"},\"name\":\"busybox\",\"namespace\":\"default\"},\"spec\":{\"containers\":[{\"command\":[\"sh\",\"-c\",\"sleep 1800\"],\"image\":\"busybox:1.36.1\",\"name\":\"busybox\",\"resources\":{\"limits\":{\"cpu\":\"500m\",\"memory\":\"128Mi\"}},\"volumeMounts\":[{\"mountPath\":\"/etc/db\",\"name\":\"db-secrets\"}]}],\"volumes\":[{\"name\":\"db-secrets\",\"secret\":{\"secretName\":\"db-creds\"}}]}}\n",
      "  creationTimestamp: \"2025-08-31T18:17:00Z\"\n",
      "  labels:\n",
      "    app: busybox\n",
      "  name: busybox\n",
      "  namespace: default\n",
      "  resourceVersion: \"103042\"\n",
      "  uid: e2364b88-6249-4a81-bafd-92d12c0a26a3\n",
      "spec:\n",
      "  containers:\n",
      "  - command:\n",
      "    - sh\n",
      "    - -c\n",
      "    - sleep 1800\n",
      "    image: busybox:1.36.1\n",
      "    imagePullPolicy: IfNotPresent\n",
      "    name: busybox\n",
      "    resources:\n",
      "      limits:\n",
      "        cpu: 500m\n",
      "        memory: 128Mi\n",
      "      requests:\n",
      "        cpu: 500m\n",
      "        memory: 128Mi\n",
      "    terminationMessagePath: /dev/termination-log\n",
      "    terminationMessagePolicy: File\n",
      "    volumeMounts:\n",
      "    - mountPath: /etc/db\n",
      "      name: db-secrets\n",
      "    - mountPath: /var/run/secrets/kubernetes.io/serviceaccount\n",
      "      name: kube-api-access-mjprh\n",
      "      readOnly: true\n",
      "  dnsPolicy: ClusterFirst\n",
      "  enableServiceLinks: true\n",
      "  nodeName: docker-desktop\n",
      "  preemptionPolicy: PreemptLowerPriority\n",
      "  priority: 0\n",
      "  restartPolicy: Always\n",
      "  schedulerName: default-scheduler\n",
      "  securityContext: {}\n",
      "  serviceAccount: default\n",
      "  serviceAccountName: default\n",
      "  terminationGracePeriodSeconds: 30\n",
      "  tolerations:\n",
      "  - effect: NoExecute\n",
      "    key: node.kubernetes.io/not-ready\n",
      "    operator: Exists\n",
      "    tolerationSeconds: 300\n",
      "  - effect: NoExecute\n",
      "    key: node.kubernetes.io/unreachable\n",
      "    operator: Exists\n",
      "    tolerationSeconds: 300\n",
      "  volumes:\n",
      "  - name: db-secrets\n",
      "    secret:\n",
      "      defaultMode: 420\n",
      "      secretName: db-creds\n",
      "  - name: kube-api-access-mjprh\n",
      "    projected:\n",
      "      defaultMode: 420\n",
      "      sources:\n",
      "      - serviceAccountToken:\n",
      "          expirationSeconds: 3607\n",
      "          path: token\n",
      "      - configMap:\n",
      "          items:\n",
      "          - key: ca.crt\n",
      "            path: ca.crt\n",
      "          name: kube-root-ca.crt\n",
      "      - downwardAPI:\n",
      "          items:\n",
      "          - fieldRef:\n",
      "              apiVersion: v1\n",
      "              fieldPath: metadata.namespace\n",
      "            path: namespace\n",
      "status:\n",
      "  conditions:\n",
      "  - lastProbeTime: null\n",
      "    lastTransitionTime: \"2025-08-31T18:17:01Z\"\n",
      "    status: \"True\"\n",
      "    type: PodReadyToStartContainers\n",
      "  - lastProbeTime: null\n",
      "    lastTransitionTime: \"2025-08-31T18:17:00Z\"\n",
      "    status: \"True\"\n",
      "    type: Initialized\n",
      "  - lastProbeTime: null\n",
      "    lastTransitionTime: \"2025-08-31T18:17:01Z\"\n",
      "    status: \"True\"\n",
      "    type: Ready\n",
      "  - lastProbeTime: null\n",
      "    lastTransitionTime: \"2025-08-31T18:17:01Z\"\n",
      "    status: \"True\"\n",
      "    type: ContainersReady\n",
      "  - lastProbeTime: null\n",
      "    lastTransitionTime: \"2025-08-31T18:17:00Z\"\n",
      "    status: \"True\"\n",
      "    type: PodScheduled\n",
      "  containerStatuses:\n",
      "  - containerID: docker://66eb572b7927a5bb3c66784f10cb3c904d72df40625e773b8969a98f6b503a37\n",
      "    image: busybox:1.36.1\n",
      "    imageID: docker-pullable://busybox@sha256:303337d3d52898b33018796d760d3a01c2dcc87973dd66ec22fe78ae1e8429c9\n",
      "    lastState: {}\n",
      "    name: busybox\n",
      "    ready: true\n",
      "    restartCount: 0\n",
      "    started: true\n",
      "    state:\n",
      "      running:\n",
      "        startedAt: \"2025-08-31T18:17:01Z\"\n",
      "    volumeMounts:\n",
      "    - mountPath: /etc/db\n",
      "      name: db-secrets\n",
      "    - mountPath: /var/run/secrets/kubernetes.io/serviceaccount\n",
      "      name: kube-api-access-mjprh\n",
      "      readOnly: true\n",
      "      recursiveReadOnly: Disabled\n",
      "  hostIP: 192.168.65.3\n",
      "  hostIPs:\n",
      "  - ip: 192.168.65.3\n",
      "  phase: Running\n",
      "  podIP: 10.1.1.179\n",
      "  podIPs:\n",
      "  - ip: 10.1.1.179\n",
      "  qosClass: Guaranteed\n",
      "  startTime: \"2025-08-31T18:17:00Z\"\n"
     ]
    }
   ],
   "source": [
    "!kubectl get pod busybox -o yaml"
   ]
  },
  {
   "cell_type": "code",
   "execution_count": 30,
   "id": "d7649d2d",
   "metadata": {},
   "outputs": [
    {
     "name": "stdout",
     "output_type": "stream",
     "text": [
      "pod \"busybox\" force deleted\n"
     ]
    },
    {
     "name": "stderr",
     "output_type": "stream",
     "text": [
      "Warning: Immediate deletion does not wait for confirmation that the running resource has been terminated. The resource may continue to run on the cluster indefinitely.\n"
     ]
    }
   ],
   "source": [
    "!kubectl delete pod --force busybox"
   ]
  },
  {
   "cell_type": "code",
   "execution_count": 31,
   "id": "f6257e64",
   "metadata": {},
   "outputs": [
    {
     "name": "stdout",
     "output_type": "stream",
     "text": [
      "pod/busybox created\n"
     ]
    }
   ],
   "source": [
    "!kubectl apply -f ."
   ]
  },
  {
   "cell_type": "code",
   "execution_count": 33,
   "id": "2e450166",
   "metadata": {},
   "outputs": [
    {
     "name": "stdout",
     "output_type": "stream",
     "text": [
      "password\n",
      "username\n"
     ]
    }
   ],
   "source": [
    "!kubectl exec busybox -- sh -c \"ls /etc/db/dev\""
   ]
  },
  {
   "cell_type": "code",
   "execution_count": 34,
   "id": "3c6de660",
   "metadata": {},
   "outputs": [
    {
     "name": "stdout",
     "output_type": "stream",
     "text": [
      "db_pass\n"
     ]
    }
   ],
   "source": [
    "!kubectl exec busybox -- sh -c \"cat /etc/db/dev/password\""
   ]
  },
  {
   "cell_type": "code",
   "execution_count": 37,
   "id": "857d27df",
   "metadata": {},
   "outputs": [
    {
     "name": "stdout",
     "output_type": "stream",
     "text": [
      "pod \"busybox\" force deleted\n"
     ]
    },
    {
     "name": "stderr",
     "output_type": "stream",
     "text": [
      "Warning: Immediate deletion does not wait for confirmation that the running resource has been terminated. The resource may continue to run on the cluster indefinitely.\n"
     ]
    }
   ],
   "source": [
    "!kubectl delete --force -f ."
   ]
  },
  {
   "cell_type": "code",
   "execution_count": 38,
   "id": "c43a9be1",
   "metadata": {},
   "outputs": [
    {
     "name": "stdout",
     "output_type": "stream",
     "text": [
      "secret \"db-creds\" deleted\n"
     ]
    }
   ],
   "source": [
    "!kubectl delete secret db-creds"
   ]
  },
  {
   "cell_type": "code",
   "execution_count": null,
   "id": "20e80724",
   "metadata": {},
   "outputs": [],
   "source": []
  }
 ],
 "metadata": {
  "kernelspec": {
   "display_name": ".venv",
   "language": "python",
   "name": "python3"
  },
  "language_info": {
   "codemirror_mode": {
    "name": "ipython",
    "version": 3
   },
   "file_extension": ".py",
   "mimetype": "text/x-python",
   "name": "python",
   "nbconvert_exporter": "python",
   "pygments_lexer": "ipython3",
   "version": "3.13.5"
  }
 },
 "nbformat": 4,
 "nbformat_minor": 5
}
