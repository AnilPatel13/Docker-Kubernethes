{
 "cells": [
  {
   "cell_type": "code",
   "execution_count": 1,
   "id": "4e302afe",
   "metadata": {},
   "outputs": [
    {
     "name": "stdout",
     "output_type": "stream",
     "text": [
      "configmap/green-config created\n"
     ]
    }
   ],
   "source": [
    "!kubectl apply -f green-config.yaml"
   ]
  },
  {
   "cell_type": "code",
   "execution_count": 2,
   "id": "d043d2c6",
   "metadata": {},
   "outputs": [
    {
     "name": "stdout",
     "output_type": "stream",
     "text": [
      "pod/green-color-api created\n"
     ]
    }
   ],
   "source": [
    "!kubectl apply -f green-color-api.yaml"
   ]
  },
  {
   "cell_type": "code",
   "execution_count": 3,
   "id": "f735352e",
   "metadata": {},
   "outputs": [
    {
     "name": "stdout",
     "output_type": "stream",
     "text": [
      "NAME               DATA   AGE\n",
      "green-config       3      38s\n",
      "kube-root-ca.crt   1      2d17h\n"
     ]
    }
   ],
   "source": [
    "!kubectl get configMap"
   ]
  },
  {
   "cell_type": "code",
   "execution_count": 4,
   "id": "9c4837a8",
   "metadata": {},
   "outputs": [
    {
     "name": "stdout",
     "output_type": "stream",
     "text": [
      "Name:         green-config\n",
      "Namespace:    default\n",
      "Labels:       <none>\n",
      "Annotations:  <none>\n",
      "\n",
      "Data\n",
      "====\n",
      "COLOR_CONFIG_PATH:\n",
      "----\n",
      "/mnt/config/color.txt\n",
      "\n",
      "color.txt:\n",
      "----\n",
      "green\n",
      "\n",
      "hello-from-green.js:\n",
      "----\n",
      "console.log(\"Hello from green\");\n",
      "console.log(\"Hello from green config Map\");\n",
      "\n",
      "\n",
      "\n",
      "BinaryData\n",
      "====\n",
      "\n",
      "Events:  <none>\n"
     ]
    }
   ],
   "source": [
    "!kubectl describe configMap green-config"
   ]
  },
  {
   "cell_type": "code",
   "execution_count": 5,
   "id": "e04d42b3",
   "metadata": {},
   "outputs": [
    {
     "name": "stdout",
     "output_type": "stream",
     "text": [
      "NAME              READY   STATUS    RESTARTS   AGE\n",
      "green-color-api   1/1     Running   0          44s\n"
     ]
    }
   ],
   "source": [
    "!kubectl get pods"
   ]
  },
  {
   "cell_type": "code",
   "execution_count": 6,
   "id": "f7f8d551",
   "metadata": {},
   "outputs": [
    {
     "name": "stdout",
     "output_type": "stream",
     "text": [
      "Name:             green-color-api\n",
      "Namespace:        default\n",
      "Priority:         0\n",
      "Service Account:  default\n",
      "Node:             docker-desktop/192.168.65.3\n",
      "Start Time:       Sun, 31 Aug 2025 13:24:36 -0400\n",
      "Labels:           app=green-color-api\n",
      "Annotations:      <none>\n",
      "Status:           Running\n",
      "IP:               10.1.1.175\n",
      "IPs:\n",
      "  IP:  10.1.1.175\n",
      "Containers:\n",
      "  color-api:\n",
      "    Container ID:   docker://1462879c3cc9ebea1bcf6e2ab18cb484e1f2c0d5578c621b127a9e876dad12da\n",
      "    Image:          anil1318/color-api:1.3.0\n",
      "    Image ID:       docker-pullable://anil1318/color-api@sha256:3c3cf433cd5a4cb53f2da389b75480dfe7513f1fd32afefee699085926696685\n",
      "    Port:           80/TCP\n",
      "    Host Port:      0/TCP\n",
      "    State:          Running\n",
      "      Started:      Sun, 31 Aug 2025 13:24:36 -0400\n",
      "    Ready:          True\n",
      "    Restart Count:  0\n",
      "    Limits:\n",
      "      cpu:     500m\n",
      "      memory:  128Mi\n",
      "    Requests:\n",
      "      cpu:     500m\n",
      "      memory:  128Mi\n",
      "    Environment:\n",
      "      COLOR_CONFIG_PATH:  <set to the key 'COLOR_CONFIG_PATH' of config map 'green-config'>  Optional: false\n",
      "    Mounts:\n",
      "      /mnt/config from color-config (ro)\n",
      "      /var/run/secrets/kubernetes.io/serviceaccount from kube-api-access-sdv2t (ro)\n",
      "Conditions:\n",
      "  Type                        Status\n",
      "  PodReadyToStartContainers   True \n",
      "  Initialized                 True \n",
      "  Ready                       True \n",
      "  ContainersReady             True \n",
      "  PodScheduled                True \n",
      "Volumes:\n",
      "  color-config:\n",
      "    Type:      ConfigMap (a volume populated by a ConfigMap)\n",
      "    Name:      green-config\n",
      "    Optional:  false\n",
      "  kube-api-access-sdv2t:\n",
      "    Type:                    Projected (a volume that contains injected data from multiple sources)\n",
      "    TokenExpirationSeconds:  3607\n",
      "    ConfigMapName:           kube-root-ca.crt\n",
      "    ConfigMapOptional:       <nil>\n",
      "    DownwardAPI:             true\n",
      "QoS Class:                   Guaranteed\n",
      "Node-Selectors:              <none>\n",
      "Tolerations:                 node.kubernetes.io/not-ready:NoExecute op=Exists for 300s\n",
      "                             node.kubernetes.io/unreachable:NoExecute op=Exists for 300s\n",
      "Events:\n",
      "  Type    Reason     Age   From               Message\n",
      "  ----    ------     ----  ----               -------\n",
      "  Normal  Scheduled  61s   default-scheduler  Successfully assigned default/green-color-api to docker-desktop\n",
      "  Normal  Pulled     61s   kubelet            Container image \"anil1318/color-api:1.3.0\" already present on machine\n",
      "  Normal  Created    61s   kubelet            Created container: color-api\n",
      "  Normal  Started    61s   kubelet            Started container color-api\n"
     ]
    }
   ],
   "source": [
    "!kubectl describe pods green-color-api"
   ]
  },
  {
   "cell_type": "code",
   "execution_count": 8,
   "id": "67df19c5",
   "metadata": {},
   "outputs": [
    {
     "name": "stdout",
     "output_type": "stream",
     "text": [
      "COLOR_CONFIG_PATH\n",
      "color.txt\n",
      "hello-from-green.js\n"
     ]
    }
   ],
   "source": [
    "!kubectl exec green-color-api -- sh -c \"ls /mnt/config\""
   ]
  },
  {
   "cell_type": "code",
   "execution_count": 10,
   "id": "a50c0c75",
   "metadata": {},
   "outputs": [
    {
     "name": "stdout",
     "output_type": "stream",
     "text": [
      "/mnt/config/color.txt\n"
     ]
    }
   ],
   "source": [
    "!kubectl exec green-color-api -- sh -c \"cat /mnt/config/COLOR_CONFIG_PATH\""
   ]
  },
  {
   "cell_type": "code",
   "execution_count": 11,
   "id": "fcf158e3",
   "metadata": {},
   "outputs": [
    {
     "name": "stdout",
     "output_type": "stream",
     "text": [
      "green\n"
     ]
    }
   ],
   "source": [
    "!kubectl exec green-color-api -- sh -c \"cat /mnt/config/color.txt\""
   ]
  },
  {
   "cell_type": "code",
   "execution_count": 12,
   "id": "dd820054",
   "metadata": {},
   "outputs": [
    {
     "name": "stdout",
     "output_type": "stream",
     "text": [
      "console.log(\"Hello from green\");\n",
      "console.log(\"Hello from green config Map\");\n"
     ]
    }
   ],
   "source": [
    "!kubectl exec green-color-api -- sh -c \"cat /mnt/config/hello-from-green.js\""
   ]
  },
  {
   "cell_type": "code",
   "execution_count": 13,
   "id": "a4566666",
   "metadata": {},
   "outputs": [
    {
     "name": "stdout",
     "output_type": "stream",
     "text": [
      "Hello from green\n",
      "Hello from green config Map\n"
     ]
    }
   ],
   "source": [
    "!kubectl exec green-color-api -- sh -c \"node /mnt/config/hello-from-green.js\""
   ]
  },
  {
   "cell_type": "code",
   "execution_count": 15,
   "id": "f5cc5e44",
   "metadata": {},
   "outputs": [
    {
     "name": "stderr",
     "output_type": "stream",
     "text": [
      "sh: can't create /mnt/config/hello-from-green.js: Read-only file system\n",
      "command terminated with exit code 1\n"
     ]
    }
   ],
   "source": [
    "!kubectl exec green-color-api -- sh -c \"echo 'yellow' > /mnt/config/hello-from-green.js\""
   ]
  },
  {
   "cell_type": "code",
   "execution_count": 16,
   "id": "851a546e",
   "metadata": {},
   "outputs": [
    {
     "name": "stdout",
     "output_type": "stream",
     "text": [
      "service/red-color-api-service exposed\n"
     ]
    }
   ],
   "source": [
    "!kubectl expose pod green-color-api --type=NodePort --name=red-color-api-service --port=80 --target-port=80"
   ]
  },
  {
   "cell_type": "code",
   "execution_count": 17,
   "id": "30289b4d",
   "metadata": {},
   "outputs": [
    {
     "name": "stdout",
     "output_type": "stream",
     "text": [
      "NAME                    TYPE        CLUSTER-IP   EXTERNAL-IP   PORT(S)        AGE\n",
      "kubernetes              ClusterIP   10.96.0.1    <none>        443/TCP        2d17h\n",
      "red-color-api-service   NodePort    10.105.5.6   <none>        80:31801/TCP   5s\n"
     ]
    }
   ],
   "source": [
    "!kubectl get svc"
   ]
  },
  {
   "cell_type": "code",
   "execution_count": 18,
   "id": "6a6ea7f7",
   "metadata": {},
   "outputs": [
    {
     "name": "stdout",
     "output_type": "stream",
     "text": [
      "<h1 style=\"color:green;\">Hello from Color-API!</h1>\n",
      "            <h2>Hostname: green-color-api</h2>\n"
     ]
    },
    {
     "name": "stderr",
     "output_type": "stream",
     "text": [
      "  % Total    % Received % Xferd  Average Speed   Time    Time     Time  Current\n",
      "                                 Dload  Upload   Total   Spent    Left  Speed\n",
      "\n",
      "  0     0    0     0    0     0      0      0 --:--:-- --:--:-- --:--:--     0\n",
      "100    98  100    98    0     0  12119      0 --:--:-- --:--:-- --:--:-- 12250\n"
     ]
    }
   ],
   "source": [
    "!curl localhost:31801"
   ]
  },
  {
   "cell_type": "code",
   "execution_count": 19,
   "id": "3b9de514",
   "metadata": {},
   "outputs": [
    {
     "name": "stdout",
     "output_type": "stream",
     "text": [
      "pod \"green-color-api\" deleted\n",
      "configmap \"green-config\" deleted\n",
      "service \"red-color-api-service\" deleted\n"
     ]
    }
   ],
   "source": [
    "!kubectl delete pod green-color-api\n",
    "!kubectl delete configMap green-config\n",
    "!kubectl delete svc red-color-api-service"
   ]
  },
  {
   "cell_type": "code",
   "execution_count": 20,
   "id": "2c6df3a7",
   "metadata": {},
   "outputs": [
    {
     "name": "stdout",
     "output_type": "stream",
     "text": [
      "configmap/green-env-vars created\n",
      "configmap/green-files created\n"
     ]
    }
   ],
   "source": [
    "!kubectl apply -f green-config.yaml"
   ]
  },
  {
   "cell_type": "code",
   "execution_count": 21,
   "id": "c95d1039",
   "metadata": {},
   "outputs": [
    {
     "name": "stdout",
     "output_type": "stream",
     "text": [
      "pod/green-color-api created\n"
     ]
    }
   ],
   "source": [
    "!kubectl apply -f green-color-api.yaml"
   ]
  },
  {
   "cell_type": "code",
   "execution_count": null,
   "id": "fd691bc7",
   "metadata": {},
   "outputs": [
    {
     "name": "stdout",
     "output_type": "stream",
     "text": [
      "service/red-color-api-service exposed\n"
     ]
    }
   ],
   "source": [
    "!kubectl expose pod green-color-api --type=NodePort --name=!kubectl expose pod green-color-api --type=NodePort --name=red-color-api-service --port=80 --target-port=80 --port=80 --target-port=80"
   ]
  },
  {
   "cell_type": "code",
   "execution_count": 23,
   "id": "6e37e81e",
   "metadata": {},
   "outputs": [
    {
     "name": "stdout",
     "output_type": "stream",
     "text": [
      "Name:                     red-color-api-service\n",
      "Namespace:                default\n",
      "Labels:                   app=green-color-api\n",
      "Annotations:              <none>\n",
      "Selector:                 app=green-color-api\n",
      "Type:                     NodePort\n",
      "IP Family Policy:         SingleStack\n",
      "IP Families:              IPv4\n",
      "IP:                       10.109.91.177\n",
      "IPs:                      10.109.91.177\n",
      "Port:                     <unset>  80/TCP\n",
      "TargetPort:               80/TCP\n",
      "NodePort:                 <unset>  30150/TCP\n",
      "Endpoints:                10.1.1.176:80\n",
      "Session Affinity:         None\n",
      "External Traffic Policy:  Cluster\n",
      "Internal Traffic Policy:  Cluster\n",
      "Events:                   <none>\n"
     ]
    }
   ],
   "source": [
    "!kubectl describe svc red-color-api-service"
   ]
  },
  {
   "cell_type": "code",
   "execution_count": 24,
   "id": "4d1fcead",
   "metadata": {},
   "outputs": [
    {
     "name": "stdout",
     "output_type": "stream",
     "text": [
      "NAME                    TYPE        CLUSTER-IP      EXTERNAL-IP   PORT(S)        AGE\n",
      "kubernetes              ClusterIP   10.96.0.1       <none>        443/TCP        2d17h\n",
      "red-color-api-service   NodePort    10.109.91.177   <none>        80:30150/TCP   59s\n"
     ]
    }
   ],
   "source": [
    "!kubectl get svc"
   ]
  },
  {
   "cell_type": "code",
   "execution_count": 28,
   "id": "c1632272",
   "metadata": {},
   "outputs": [
    {
     "name": "stdout",
     "output_type": "stream",
     "text": [
      "<h1 style=\"color:green;\">Hello from Color-API!</h1>\n",
      "            <h2>Hostname: green-color-api</h2>\n"
     ]
    },
    {
     "name": "stderr",
     "output_type": "stream",
     "text": [
      "  % Total    % Received % Xferd  Average Speed   Time    Time     Time  Current\n",
      "                                 Dload  Upload   Total   Spent    Left  Speed\n",
      "\n",
      "  0     0    0     0    0     0      0      0 --:--:-- --:--:-- --:--:--     0\n",
      "100    98  100    98    0     0  12103      0 --:--:-- --:--:-- --:--:-- 12250\n"
     ]
    }
   ],
   "source": [
    "!curl localhost:30150"
   ]
  },
  {
   "cell_type": "code",
   "execution_count": 26,
   "id": "162cf182",
   "metadata": {},
   "outputs": [
    {
     "name": "stdout",
     "output_type": "stream",
     "text": [
      "NAME              READY   STATUS    RESTARTS   AGE\n",
      "green-color-api   1/1     Running   0          91s\n"
     ]
    }
   ],
   "source": [
    "!kubectl get pods"
   ]
  },
  {
   "cell_type": "code",
   "execution_count": 27,
   "id": "77f5c751",
   "metadata": {},
   "outputs": [
    {
     "name": "stdout",
     "output_type": "stream",
     "text": [
      "Name:             green-color-api\n",
      "Namespace:        default\n",
      "Priority:         0\n",
      "Service Account:  default\n",
      "Node:             docker-desktop/192.168.65.3\n",
      "Start Time:       Sun, 31 Aug 2025 13:36:39 -0400\n",
      "Labels:           app=green-color-api\n",
      "Annotations:      <none>\n",
      "Status:           Running\n",
      "IP:               10.1.1.176\n",
      "IPs:\n",
      "  IP:  10.1.1.176\n",
      "Containers:\n",
      "  color-api:\n",
      "    Container ID:   docker://29b0931ebb88f7487c3f56d9ffa90cb2907216313fe2434107f93ccc49a8d7aa\n",
      "    Image:          anil1318/color-api:1.3.0\n",
      "    Image ID:       docker-pullable://anil1318/color-api@sha256:3c3cf433cd5a4cb53f2da389b75480dfe7513f1fd32afefee699085926696685\n",
      "    Port:           80/TCP\n",
      "    Host Port:      0/TCP\n",
      "    State:          Running\n",
      "      Started:      Sun, 31 Aug 2025 13:36:39 -0400\n",
      "    Ready:          True\n",
      "    Restart Count:  0\n",
      "    Limits:\n",
      "      cpu:     500m\n",
      "      memory:  128Mi\n",
      "    Requests:\n",
      "      cpu:     500m\n",
      "      memory:  128Mi\n",
      "    Environment Variables from:\n",
      "      green-env-vars  ConfigMap  Optional: false\n",
      "    Environment:      <none>\n",
      "    Mounts:\n",
      "      /mnt/config from color-config (rw)\n",
      "      /var/run/secrets/kubernetes.io/serviceaccount from kube-api-access-xhxdf (ro)\n",
      "Conditions:\n",
      "  Type                        Status\n",
      "  PodReadyToStartContainers   True \n",
      "  Initialized                 True \n",
      "  Ready                       True \n",
      "  ContainersReady             True \n",
      "  PodScheduled                True \n",
      "Volumes:\n",
      "  color-config:\n",
      "    Type:      ConfigMap (a volume populated by a ConfigMap)\n",
      "    Name:      green-files\n",
      "    Optional:  false\n",
      "  kube-api-access-xhxdf:\n",
      "    Type:                    Projected (a volume that contains injected data from multiple sources)\n",
      "    TokenExpirationSeconds:  3607\n",
      "    ConfigMapName:           kube-root-ca.crt\n",
      "    ConfigMapOptional:       <nil>\n",
      "    DownwardAPI:             true\n",
      "QoS Class:                   Guaranteed\n",
      "Node-Selectors:              <none>\n",
      "Tolerations:                 node.kubernetes.io/not-ready:NoExecute op=Exists for 300s\n",
      "                             node.kubernetes.io/unreachable:NoExecute op=Exists for 300s\n",
      "Events:\n",
      "  Type    Reason     Age   From               Message\n",
      "  ----    ------     ----  ----               -------\n",
      "  Normal  Scheduled  103s  default-scheduler  Successfully assigned default/green-color-api to docker-desktop\n",
      "  Normal  Pulled     103s  kubelet            Container image \"anil1318/color-api:1.3.0\" already present on machine\n",
      "  Normal  Created    103s  kubelet            Created container: color-api\n",
      "  Normal  Started    103s  kubelet            Started container color-api\n"
     ]
    }
   ],
   "source": [
    "!kubectl describe pods green-color-api"
   ]
  },
  {
   "cell_type": "code",
   "execution_count": 29,
   "id": "6e68e96f",
   "metadata": {},
   "outputs": [
    {
     "name": "stdout",
     "output_type": "stream",
     "text": [
      "color.txt\n",
      "hello-from-green.js\n"
     ]
    }
   ],
   "source": [
    "!kubectl exec green-color-api -- sh -c \"ls /mnt/config\""
   ]
  },
  {
   "cell_type": "code",
   "execution_count": 30,
   "id": "91da5248",
   "metadata": {},
   "outputs": [
    {
     "name": "stdout",
     "output_type": "stream",
     "text": [
      "pod \"green-color-api\" deleted\n",
      "configmap \"green-env-vars\" deleted\n",
      "configmap \"green-files\" deleted\n"
     ]
    },
    {
     "name": "stderr",
     "output_type": "stream",
     "text": [
      "Error from server (NotFound): error when deleting \"red-color-api.yaml\": pods \"red-color-api\" not found\n",
      "Error from server (NotFound): error when deleting \"red-config.yaml\": configmaps \"red-config\" not found\n"
     ]
    }
   ],
   "source": [
    "!kubectl delete -f ."
   ]
  },
  {
   "cell_type": "code",
   "execution_count": 31,
   "id": "4e188cdb",
   "metadata": {},
   "outputs": [
    {
     "name": "stdout",
     "output_type": "stream",
     "text": [
      "NAME                    TYPE        CLUSTER-IP      EXTERNAL-IP   PORT(S)        AGE\n",
      "kubernetes              ClusterIP   10.96.0.1       <none>        443/TCP        2d17h\n",
      "red-color-api-service   NodePort    10.109.91.177   <none>        80:30150/TCP   3m36s\n"
     ]
    }
   ],
   "source": [
    "!kubectl get svc"
   ]
  },
  {
   "cell_type": "code",
   "execution_count": 32,
   "id": "23e4ab1b",
   "metadata": {},
   "outputs": [
    {
     "name": "stdout",
     "output_type": "stream",
     "text": [
      "service \"red-color-api-service\" deleted\n"
     ]
    }
   ],
   "source": [
    "!kubectl delete svc red-color-api-service"
   ]
  },
  {
   "cell_type": "code",
   "execution_count": null,
   "id": "5be64ed1",
   "metadata": {},
   "outputs": [],
   "source": []
  }
 ],
 "metadata": {
  "kernelspec": {
   "display_name": ".venv",
   "language": "python",
   "name": "python3"
  },
  "language_info": {
   "codemirror_mode": {
    "name": "ipython",
    "version": 3
   },
   "file_extension": ".py",
   "mimetype": "text/x-python",
   "name": "python",
   "nbconvert_exporter": "python",
   "pygments_lexer": "ipython3",
   "version": "3.13.5"
  }
 },
 "nbformat": 4,
 "nbformat_minor": 5
}
