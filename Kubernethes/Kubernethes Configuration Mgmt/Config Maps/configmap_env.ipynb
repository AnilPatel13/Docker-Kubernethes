{
 "cells": [
  {
   "cell_type": "code",
   "execution_count": 1,
   "id": "b9a45cd3",
   "metadata": {},
   "outputs": [
    {
     "name": "stdout",
     "output_type": "stream",
     "text": [
      "configmap/red-config created\n"
     ]
    }
   ],
   "source": [
    "!kubectl apply -f ."
   ]
  },
  {
   "cell_type": "code",
   "execution_count": 2,
   "id": "78af1fe4",
   "metadata": {},
   "outputs": [
    {
     "name": "stdout",
     "output_type": "stream",
     "text": [
      "NAME               DATA   AGE\n",
      "kube-root-ca.crt   1      2d16h\n",
      "red-config         1      12s\n"
     ]
    }
   ],
   "source": [
    "!kubectl get ConfigMap"
   ]
  },
  {
   "cell_type": "code",
   "execution_count": 3,
   "id": "38348718",
   "metadata": {},
   "outputs": [
    {
     "name": "stdout",
     "output_type": "stream",
     "text": [
      "apiVersion: v1\n",
      "data:\n",
      "  color: red\n",
      "kind: ConfigMap\n",
      "metadata:\n",
      "  annotations:\n",
      "    kubectl.kubernetes.io/last-applied-configuration: |\n",
      "      {\"apiVersion\":\"v1\",\"data\":{\"color\":\"red\"},\"kind\":\"ConfigMap\",\"metadata\":{\"annotations\":{},\"name\":\"red-config\",\"namespace\":\"default\"}}\n",
      "  creationTimestamp: \"2025-08-31T16:54:55Z\"\n",
      "  name: red-config\n",
      "  namespace: default\n",
      "  resourceVersion: \"96118\"\n",
      "  uid: 9b24b9d7-bc1c-4c19-a266-df2cae770339\n"
     ]
    }
   ],
   "source": [
    "!kubectl get configMap red-config -o yaml"
   ]
  },
  {
   "cell_type": "code",
   "execution_count": 4,
   "id": "fd8050fa",
   "metadata": {},
   "outputs": [
    {
     "name": "stdout",
     "output_type": "stream",
     "text": [
      "Name:         red-config\n",
      "Namespace:    default\n",
      "Labels:       <none>\n",
      "Annotations:  <none>\n",
      "\n",
      "Data\n",
      "====\n",
      "color:\n",
      "----\n",
      "red\n",
      "\n",
      "\n",
      "BinaryData\n",
      "====\n",
      "\n",
      "Events:  <none>\n"
     ]
    }
   ],
   "source": [
    "!kubectl describe configMap red-config"
   ]
  },
  {
   "cell_type": "code",
   "execution_count": 7,
   "id": "527b38e8",
   "metadata": {},
   "outputs": [
    {
     "name": "stdout",
     "output_type": "stream",
     "text": [
      "pod/red-color-api created\n",
      "configmap/red-config configured\n"
     ]
    }
   ],
   "source": [
    "!kubectl apply -f ."
   ]
  },
  {
   "cell_type": "code",
   "execution_count": 8,
   "id": "820f6f6c",
   "metadata": {},
   "outputs": [
    {
     "name": "stdout",
     "output_type": "stream",
     "text": [
      "NAME            READY   STATUS    RESTARTS   AGE\n",
      "red-color-api   1/1     Running   0          16s\n"
     ]
    }
   ],
   "source": [
    "!kubectl get pods"
   ]
  },
  {
   "cell_type": "code",
   "execution_count": 9,
   "id": "f49b18a7",
   "metadata": {},
   "outputs": [
    {
     "name": "stdout",
     "output_type": "stream",
     "text": [
      "Name:             red-color-api\n",
      "Namespace:        default\n",
      "Priority:         0\n",
      "Service Account:  default\n",
      "Node:             docker-desktop/192.168.65.3\n",
      "Start Time:       Sun, 31 Aug 2025 13:04:45 -0400\n",
      "Labels:           app=red-color-api\n",
      "Annotations:      <none>\n",
      "Status:           Running\n",
      "IP:               10.1.1.173\n",
      "IPs:\n",
      "  IP:  10.1.1.173\n",
      "Containers:\n",
      "  color-api:\n",
      "    Container ID:   docker://4949c934fb11f5e1f547c83ce5376b09dfb20ad107b2dfc6209949613cb026fe\n",
      "    Image:          anil1318/color-api:1.3.0\n",
      "    Image ID:       docker-pullable://anil1318/color-api@sha256:3c3cf433cd5a4cb53f2da389b75480dfe7513f1fd32afefee699085926696685\n",
      "    Port:           80/TCP\n",
      "    Host Port:      0/TCP\n",
      "    State:          Running\n",
      "      Started:      Sun, 31 Aug 2025 13:04:46 -0400\n",
      "    Ready:          True\n",
      "    Restart Count:  0\n",
      "    Limits:\n",
      "      cpu:     500m\n",
      "      memory:  128Mi\n",
      "    Requests:\n",
      "      cpu:     500m\n",
      "      memory:  128Mi\n",
      "    Environment:\n",
      "      DEFAULT_COLOR:  <set to the key 'COLOR' of config map 'red-config'>  Optional: false\n",
      "    Mounts:\n",
      "      /var/run/secrets/kubernetes.io/serviceaccount from kube-api-access-7sjpb (ro)\n",
      "Conditions:\n",
      "  Type                        Status\n",
      "  PodReadyToStartContainers   True \n",
      "  Initialized                 True \n",
      "  Ready                       True \n",
      "  ContainersReady             True \n",
      "  PodScheduled                True \n",
      "Volumes:\n",
      "  kube-api-access-7sjpb:\n",
      "    Type:                    Projected (a volume that contains injected data from multiple sources)\n",
      "    TokenExpirationSeconds:  3607\n",
      "    ConfigMapName:           kube-root-ca.crt\n",
      "    ConfigMapOptional:       <nil>\n",
      "    DownwardAPI:             true\n",
      "QoS Class:                   Guaranteed\n",
      "Node-Selectors:              <none>\n",
      "Tolerations:                 node.kubernetes.io/not-ready:NoExecute op=Exists for 300s\n",
      "                             node.kubernetes.io/unreachable:NoExecute op=Exists for 300s\n",
      "Events:\n",
      "  Type    Reason     Age   From               Message\n",
      "  ----    ------     ----  ----               -------\n",
      "  Normal  Scheduled  35s   default-scheduler  Successfully assigned default/red-color-api to docker-desktop\n",
      "  Normal  Pulled     35s   kubelet            Container image \"anil1318/color-api:1.3.0\" already present on machine\n",
      "  Normal  Created    35s   kubelet            Created container: color-api\n",
      "  Normal  Started    35s   kubelet            Started container color-api\n"
     ]
    }
   ],
   "source": [
    "!kubectl describe pod red-color-api"
   ]
  },
  {
   "cell_type": "code",
   "execution_count": 14,
   "id": "ae3497eb",
   "metadata": {},
   "outputs": [
    {
     "name": "stdout",
     "output_type": "stream",
     "text": [
      "service/red-color-api-service exposed\n"
     ]
    }
   ],
   "source": [
    "!kubectl expose pod red-color-api --type=NodePort --name=red-color-api-service --port=80 --target-port=80"
   ]
  },
  {
   "cell_type": "code",
   "execution_count": 15,
   "id": "0743ed6e",
   "metadata": {},
   "outputs": [
    {
     "name": "stdout",
     "output_type": "stream",
     "text": [
      "NAME                    TYPE        CLUSTER-IP      EXTERNAL-IP   PORT(S)        AGE\n",
      "kubernetes              ClusterIP   10.96.0.1       <none>        443/TCP        2d16h\n",
      "red-color-api-service   NodePort    10.109.54.100   <none>        80:31187/TCP   7s\n"
     ]
    }
   ],
   "source": [
    "!kubectl get svc"
   ]
  },
  {
   "cell_type": "code",
   "execution_count": 16,
   "id": "11eb191e",
   "metadata": {},
   "outputs": [
    {
     "name": "stdout",
     "output_type": "stream",
     "text": [
      "<h1 style=\"color:red;\">Hello from Color-API!</h1>\n",
      "            <h2>Hostname: red-color-api</h2>\n"
     ]
    },
    {
     "name": "stderr",
     "output_type": "stream",
     "text": [
      "  % Total    % Received % Xferd  Average Speed   Time    Time     Time  Current\n",
      "                                 Dload  Upload   Total   Spent    Left  Speed\n",
      "\n",
      "  0     0    0     0    0     0      0      0 --:--:-- --:--:-- --:--:--     0\n",
      "100    94  100    94    0     0   4097      0 --:--:-- --:--:-- --:--:--  4272\n"
     ]
    }
   ],
   "source": [
    "!curl http://localhost:31187"
   ]
  },
  {
   "cell_type": "code",
   "execution_count": 19,
   "id": "f88331f8",
   "metadata": {},
   "outputs": [
    {
     "name": "stdout",
     "output_type": "stream",
     "text": [
      "pod/red-color-api created\n",
      "configmap/red-config created\n"
     ]
    }
   ],
   "source": [
    "!kubectl apply -f ."
   ]
  },
  {
   "cell_type": "code",
   "execution_count": 20,
   "id": "616f657d",
   "metadata": {},
   "outputs": [
    {
     "name": "stdout",
     "output_type": "stream",
     "text": [
      "NAME                    TYPE        CLUSTER-IP      EXTERNAL-IP   PORT(S)        AGE\n",
      "kubernetes              ClusterIP   10.96.0.1       <none>        443/TCP        2d16h\n",
      "red-color-api-service   NodePort    10.109.54.100   <none>        80:31187/TCP   2m16s\n"
     ]
    }
   ],
   "source": [
    "!kubectl get svc"
   ]
  },
  {
   "cell_type": "code",
   "execution_count": 21,
   "id": "a7c8c72f",
   "metadata": {},
   "outputs": [
    {
     "name": "stdout",
     "output_type": "stream",
     "text": [
      "<h1 style=\"color:red;\">Hello from Color-API!</h1>\n",
      "            <h2>Hostname: red-color-api</h2>\n"
     ]
    },
    {
     "name": "stderr",
     "output_type": "stream",
     "text": [
      "  % Total    % Received % Xferd  Average Speed   Time    Time     Time  Current\n",
      "                                 Dload  Upload   Total   Spent    Left  Speed\n",
      "\n",
      "  0     0    0     0    0     0      0      0 --:--:-- --:--:-- --:--:--     0\n",
      "100    94  100    94    0     0  28737      0 --:--:-- --:--:-- --:--:-- 31333\n"
     ]
    }
   ],
   "source": [
    "!curl http://localhost:31187"
   ]
  },
  {
   "cell_type": "code",
   "execution_count": 22,
   "id": "30872779",
   "metadata": {},
   "outputs": [
    {
     "name": "stdout",
     "output_type": "stream",
     "text": [
      "NAME         DATA   AGE\n",
      "red-config   1      71s\n"
     ]
    }
   ],
   "source": [
    "!kubectl get configMap red-config"
   ]
  },
  {
   "cell_type": "code",
   "execution_count": 23,
   "id": "ec12bec1",
   "metadata": {},
   "outputs": [
    {
     "name": "stdout",
     "output_type": "stream",
     "text": [
      "Name:         red-config\n",
      "Namespace:    default\n",
      "Labels:       <none>\n",
      "Annotations:  <none>\n",
      "\n",
      "Data\n",
      "====\n",
      "DEFAULT_COLOR:\n",
      "----\n",
      "red\n",
      "\n",
      "\n",
      "BinaryData\n",
      "====\n",
      "\n",
      "Events:  <none>\n"
     ]
    }
   ],
   "source": [
    "!kubectl describe configMap red-config"
   ]
  },
  {
   "cell_type": "code",
   "execution_count": 25,
   "id": "cfcf6e79",
   "metadata": {},
   "outputs": [
    {
     "name": "stdout",
     "output_type": "stream",
     "text": [
      "apiVersion: v1\n",
      "data:\n",
      "  DEFAULT_COLOR: red\n",
      "kind: ConfigMap\n",
      "metadata:\n",
      "  annotations:\n",
      "    kubectl.kubernetes.io/last-applied-configuration: |\n",
      "      {\"apiVersion\":\"v1\",\"data\":{\"DEFAULT_COLOR\":\"red\"},\"kind\":\"ConfigMap\",\"metadata\":{\"annotations\":{},\"name\":\"red-config\",\"namespace\":\"default\"}}\n",
      "  creationTimestamp: \"2025-08-31T17:10:55Z\"\n",
      "  name: red-config\n",
      "  namespace: default\n",
      "  resourceVersion: \"97465\"\n",
      "  uid: 4bb718b9-2547-4e62-b86f-ddfa1cd69da9\n"
     ]
    }
   ],
   "source": [
    "!kubectl get configMap red-config -o yaml"
   ]
  },
  {
   "cell_type": "code",
   "execution_count": 26,
   "id": "91c3222e",
   "metadata": {},
   "outputs": [
    {
     "name": "stdout",
     "output_type": "stream",
     "text": [
      "NAME                    TYPE        CLUSTER-IP      EXTERNAL-IP   PORT(S)        AGE\n",
      "kubernetes              ClusterIP   10.96.0.1       <none>        443/TCP        2d17h\n",
      "red-color-api-service   NodePort    10.109.54.100   <none>        80:31187/TCP   4m7s\n"
     ]
    }
   ],
   "source": [
    "!kubectl get svc"
   ]
  },
  {
   "cell_type": "code",
   "execution_count": 27,
   "id": "9865a38a",
   "metadata": {},
   "outputs": [
    {
     "name": "stdout",
     "output_type": "stream",
     "text": [
      "service \"red-color-api-service\" deleted\n"
     ]
    }
   ],
   "source": [
    "!kubectl delete svc red-color-api-service"
   ]
  },
  {
   "cell_type": "code",
   "execution_count": 28,
   "id": "7ca9c69e",
   "metadata": {},
   "outputs": [
    {
     "name": "stdout",
     "output_type": "stream",
     "text": [
      "pod \"red-color-api\" deleted\n",
      "configmap \"red-config\" deleted\n"
     ]
    }
   ],
   "source": [
    "!kubectl delete -f ."
   ]
  },
  {
   "cell_type": "code",
   "execution_count": null,
   "id": "0738dc3e",
   "metadata": {},
   "outputs": [],
   "source": []
  }
 ],
 "metadata": {
  "kernelspec": {
   "display_name": ".venv",
   "language": "python",
   "name": "python3"
  },
  "language_info": {
   "codemirror_mode": {
    "name": "ipython",
    "version": 3
   },
   "file_extension": ".py",
   "mimetype": "text/x-python",
   "name": "python",
   "nbconvert_exporter": "python",
   "pygments_lexer": "ipython3",
   "version": "3.13.5"
  }
 },
 "nbformat": 4,
 "nbformat_minor": 5
}
