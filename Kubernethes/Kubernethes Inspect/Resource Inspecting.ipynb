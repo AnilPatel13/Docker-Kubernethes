{
 "cells": [
  {
   "cell_type": "code",
   "execution_count": 1,
   "id": "522422e0",
   "metadata": {},
   "outputs": [
    {
     "name": "stdout",
     "output_type": "stream",
     "text": [
      "NAME                             READY   STATUS    RESTARTS   AGE\n",
      "pod/my-apache-856f76d9f8-5c69h   1/1     Running   0          12m\n",
      "pod/my-apache-856f76d9f8-fhdqq   1/1     Running   0          14m\n",
      "\n",
      "NAME                 TYPE        CLUSTER-IP   EXTERNAL-IP   PORT(S)   AGE\n",
      "service/kubernetes   ClusterIP   10.96.0.1    <none>        443/TCP   51m\n",
      "\n",
      "NAME                        READY   UP-TO-DATE   AVAILABLE   AGE\n",
      "deployment.apps/my-apache   2/2     2            2           14m\n",
      "\n",
      "NAME                                   DESIRED   CURRENT   READY   AGE\n",
      "replicaset.apps/my-apache-856f76d9f8   2         2         2       14m\n"
     ]
    }
   ],
   "source": [
    "!kubectl get all"
   ]
  },
  {
   "cell_type": "code",
   "execution_count": 2,
   "id": "29d59b28",
   "metadata": {},
   "outputs": [
    {
     "name": "stdout",
     "output_type": "stream",
     "text": [
      "NAME        READY   UP-TO-DATE   AVAILABLE   AGE\n",
      "my-apache   2/2     2            2           15m\n"
     ]
    }
   ],
   "source": [
    "!kubectl get deploy/my-apache"
   ]
  },
  {
   "cell_type": "code",
   "execution_count": 3,
   "id": "589e2a50",
   "metadata": {},
   "outputs": [
    {
     "name": "stdout",
     "output_type": "stream",
     "text": [
      "NAME                             READY   STATUS    RESTARTS   AGE   IP          NODE             NOMINATED NODE   READINESS GATES\n",
      "pod/my-apache-856f76d9f8-5c69h   1/1     Running   0          13m   10.1.0.11   docker-desktop   <none>           <none>\n",
      "pod/my-apache-856f76d9f8-fhdqq   1/1     Running   0          15m   10.1.0.8    docker-desktop   <none>           <none>\n",
      "\n",
      "NAME                 TYPE        CLUSTER-IP   EXTERNAL-IP   PORT(S)   AGE   SELECTOR\n",
      "service/kubernetes   ClusterIP   10.96.0.1    <none>        443/TCP   52m   <none>\n",
      "\n",
      "NAME                        READY   UP-TO-DATE   AVAILABLE   AGE   CONTAINERS   IMAGES   SELECTOR\n",
      "deployment.apps/my-apache   2/2     2            2           15m   httpd        httpd    app=my-apache\n",
      "\n",
      "NAME                                   DESIRED   CURRENT   READY   AGE   CONTAINERS   IMAGES   SELECTOR\n",
      "replicaset.apps/my-apache-856f76d9f8   2         2         2       15m   httpd        httpd    app=my-apache,pod-template-hash=856f76d9f8\n"
     ]
    }
   ],
   "source": [
    "!kubectl get all -o wide"
   ]
  },
  {
   "cell_type": "code",
   "execution_count": 4,
   "id": "7fa67086",
   "metadata": {},
   "outputs": [
    {
     "name": "stdout",
     "output_type": "stream",
     "text": [
      "Display one or many resources.\n",
      "\n",
      " Prints a table of the most important information about the specified resources. You can filter the list using a label selector and the --selector flag. If the desired resource type is namespaced you will only see results in the current namespace if you don't specify any namespace.\n",
      "\n",
      " By specifying the output as 'template' and providing a Go template as the value of the --template flag, you can filter the attributes of the fetched resources.\n",
      "\n",
      "Use \"kubectl api-resources\" for a complete list of supported resources.\n",
      "\n",
      "Examples:\n",
      "  # List all pods in ps output format\n",
      "  kubectl get pods\n",
      "  \n",
      "  # List all pods in ps output format with more information (such as node name)\n",
      "  kubectl get pods -o wide\n",
      "  \n",
      "  # List a single replication controller with specified NAME in ps output format\n",
      "  kubectl get replicationcontroller web\n",
      "  \n",
      "  # List deployments in JSON output format, in the \"v1\" version of the \"apps\" API group\n",
      "  kubectl get deployments.v1.apps -o json\n",
      "  \n",
      "  # List a single pod in JSON output format\n",
      "  kubectl get -o json pod web-pod-13je7\n",
      "  \n",
      "  # List a pod identified by type and name specified in \"pod.yaml\" in JSON output format\n",
      "  kubectl get -f pod.yaml -o json\n",
      "  \n",
      "  # List resources from a directory with kustomization.yaml - e.g. dir/kustomization.yaml\n",
      "  kubectl get -k dir/\n",
      "  \n",
      "  # Return only the phase value of the specified pod\n",
      "  kubectl get -o template pod/web-pod-13je7 --template={{.status.phase}}\n",
      "  \n",
      "  # List resource information in custom columns\n",
      "  kubectl get pod test-pod -o custom-columns=CONTAINER:.spec.containers[0].name,IMAGE:.spec.containers[0].image\n",
      "  \n",
      "  # List all replication controllers and services together in ps output format\n",
      "  kubectl get rc,services\n",
      "  \n",
      "  # List one or more resources by their type and names\n",
      "  kubectl get rc/web service/frontend pods/web-pod-13je7\n",
      "  \n",
      "  # List the 'status' subresource for a single pod\n",
      "  kubectl get pod web-pod-13je7 --subresource status\n",
      "  \n",
      "  # List all deployments in namespace 'backend'\n",
      "  kubectl get deployments.apps --namespace backend\n",
      "  \n",
      "  # List all pods existing in all namespaces\n",
      "  kubectl get pods --all-namespaces\n",
      "\n",
      "Options:\n",
      "    -A, --all-namespaces=false:\n",
      "\tIf present, list the requested object(s) across all namespaces. Namespace in current context is ignored even if specified with --namespace.\n",
      "\n",
      "    --allow-missing-template-keys=true:\n",
      "\tIf true, ignore any errors in templates when a field or map key is missing in the template. Only applies to golang and jsonpath output formats.\n",
      "\n",
      "    --chunk-size=500:\n",
      "\tReturn large lists in chunks rather than all at once. Pass 0 to disable. This flag is beta and may change in the future.\n",
      "\n",
      "    --field-selector='':\n",
      "\tSelector (field query) to filter on, supports '=', '==', and '!='.(e.g. --field-selector key1=value1,key2=value2). The server only supports a limited number of field queries per type.\n",
      "\n",
      "    -f, --filename=[]:\n",
      "\tFilename, directory, or URL to files identifying the resource to get from a server.\n",
      "\n",
      "    --ignore-not-found=false:\n",
      "\tIf the requested object does not exist the command will return exit code 0.\n",
      "\n",
      "    -k, --kustomize='':\n",
      "\tProcess the kustomization directory. This flag can't be used together with -f or -R.\n",
      "\n",
      "    -L, --label-columns=[]:\n",
      "\tAccepts a comma separated list of labels that are going to be presented as columns. Names are case-sensitive. You can also use multiple flag options like -L label1 -L label2...\n",
      "\n",
      "    --no-headers=false:\n",
      "\tWhen using the default or custom-column output format, don't print headers (default print headers).\n",
      "\n",
      "    -o, --output='':\n",
      "\tOutput format. One of: (json, yaml, name, go-template, go-template-file, template, templatefile, jsonpath, jsonpath-as-json, jsonpath-file, custom-columns, custom-columns-file, wide). See custom columns [https://kubernetes.io/docs/reference/kubectl/#custom-columns], golang template [http://golang.org/pkg/text/template/#pkg-overview] and jsonpath template [https://kubernetes.io/docs/reference/kubectl/jsonpath/].\n",
      "\n",
      "    --output-watch-events=false:\n",
      "\tOutput watch event objects when --watch or --watch-only is used. Existing objects are output as initial ADDED events.\n",
      "\n",
      "    --raw='':\n",
      "\tRaw URI to request from the server.  Uses the transport specified by the kubeconfig file.\n",
      "\n",
      "    -R, --recursive=false:\n",
      "\tProcess the directory used in -f, --filename recursively. Useful when you want to manage related manifests organized within the same directory.\n",
      "\n",
      "    -l, --selector='':\n",
      "\tSelector (label query) to filter on, supports '=', '==', and '!='.(e.g. -l key1=value1,key2=value2). Matching objects must satisfy all of the specified label constraints.\n",
      "\n",
      "    --server-print=true:\n",
      "\tIf true, have the server return the appropriate table output. Supports extension APIs and CRDs.\n",
      "\n",
      "    --show-kind=false:\n",
      "\tIf present, list the resource type for the requested object(s).\n",
      "\n",
      "    --show-labels=false:\n",
      "\tWhen printing, show all labels as the last column (default hide labels column)\n",
      "\n",
      "    --show-managed-fields=false:\n",
      "\tIf true, keep the managedFields when printing objects in JSON or YAML format.\n",
      "\n",
      "    --sort-by='':\n",
      "\tIf non-empty, sort list types using this field specification.  The field specification is expressed as a JSONPath expression (e.g. '{.metadata.name}'). The field in the API resource specified by this JSONPath expression must be an integer or a string.\n",
      "\n",
      "    --subresource='':\n",
      "\tIf specified, gets the subresource of the requested object. This flag is beta and may change in the future.\n",
      "\n",
      "    --template='':\n",
      "\tTemplate string or path to template file to use when -o=go-template, -o=go-template-file. The template format is golang templates [http://golang.org/pkg/text/template/#pkg-overview].\n",
      "\n",
      "    -w, --watch=false:\n",
      "\tAfter listing/getting the requested object, watch for changes.\n",
      "\n",
      "    --watch-only=false:\n",
      "\tWatch for changes to the requested object(s), without listing/getting first.\n",
      "\n",
      "Usage:\n",
      "  kubectl get [(-o|--output=)json|yaml|name|go-template|go-template-file|template|templatefile|jsonpath|jsonpath-as-json|jsonpath-file|custom-columns|custom-columns-file|wide] (TYPE[.VERSION][.GROUP] [NAME | -l label] | TYPE[.VERSION][.GROUP]/NAME ...) [flags] [options]\n",
      "\n",
      "Use \"kubectl options\" for a list of global command-line options (applies to all commands).\n"
     ]
    }
   ],
   "source": [
    "!kubectl get --help"
   ]
  },
  {
   "cell_type": "code",
   "execution_count": 5,
   "id": "9f02906a",
   "metadata": {},
   "outputs": [
    {
     "name": "stdout",
     "output_type": "stream",
     "text": [
      "NAME        READY   UP-TO-DATE   AVAILABLE   AGE\n",
      "my-apache   2/2     2            2           16m\n"
     ]
    }
   ],
   "source": [
    "!kubectl get deploy/my-apache"
   ]
  },
  {
   "cell_type": "code",
   "execution_count": 6,
   "id": "84a9a5e3",
   "metadata": {},
   "outputs": [
    {
     "name": "stdout",
     "output_type": "stream",
     "text": [
      "NAME        READY   UP-TO-DATE   AVAILABLE   AGE   CONTAINERS   IMAGES   SELECTOR\n",
      "my-apache   2/2     2            2           17m   httpd        httpd    app=my-apache\n"
     ]
    }
   ],
   "source": [
    "!kubectl get deploy/my-apache -o wide"
   ]
  },
  {
   "cell_type": "code",
   "execution_count": 7,
   "id": "946fbcfa",
   "metadata": {},
   "outputs": [
    {
     "name": "stdout",
     "output_type": "stream",
     "text": [
      "apiVersion: apps/v1\n",
      "kind: Deployment\n",
      "metadata:\n",
      "  annotations:\n",
      "    deployment.kubernetes.io/revision: \"1\"\n",
      "  creationTimestamp: \"2025-08-17T21:21:25Z\"\n",
      "  generation: 3\n",
      "  labels:\n",
      "    app: my-apache\n",
      "  name: my-apache\n",
      "  namespace: default\n",
      "  resourceVersion: \"4291\"\n",
      "  uid: bf32ad2a-250f-4980-bce0-66682741adb2\n",
      "spec:\n",
      "  progressDeadlineSeconds: 600\n",
      "  replicas: 2\n",
      "  revisionHistoryLimit: 10\n",
      "  selector:\n",
      "    matchLabels:\n",
      "      app: my-apache\n",
      "  strategy:\n",
      "    rollingUpdate:\n",
      "      maxSurge: 25%\n",
      "      maxUnavailable: 25%\n",
      "    type: RollingUpdate\n",
      "  template:\n",
      "    metadata:\n",
      "      creationTimestamp: null\n",
      "      labels:\n",
      "        app: my-apache\n",
      "    spec:\n",
      "      containers:\n",
      "      - image: httpd\n",
      "        imagePullPolicy: Always\n",
      "        name: httpd\n",
      "        resources: {}\n",
      "        terminationMessagePath: /dev/termination-log\n",
      "        terminationMessagePolicy: File\n",
      "      dnsPolicy: ClusterFirst\n",
      "      restartPolicy: Always\n",
      "      schedulerName: default-scheduler\n",
      "      securityContext: {}\n",
      "      terminationGracePeriodSeconds: 30\n",
      "status:\n",
      "  availableReplicas: 2\n",
      "  conditions:\n",
      "  - lastTransitionTime: \"2025-08-17T21:21:25Z\"\n",
      "    lastUpdateTime: \"2025-08-17T21:21:29Z\"\n",
      "    message: ReplicaSet \"my-apache-856f76d9f8\" has successfully progressed.\n",
      "    reason: NewReplicaSetAvailable\n",
      "    status: \"True\"\n",
      "    type: Progressing\n",
      "  - lastTransitionTime: \"2025-08-17T21:23:44Z\"\n",
      "    lastUpdateTime: \"2025-08-17T21:23:44Z\"\n",
      "    message: Deployment has minimum availability.\n",
      "    reason: MinimumReplicasAvailable\n",
      "    status: \"True\"\n",
      "    type: Available\n",
      "  observedGeneration: 3\n",
      "  readyReplicas: 2\n",
      "  replicas: 2\n",
      "  updatedReplicas: 2\n"
     ]
    }
   ],
   "source": [
    "!kubectl get deploy/my-apache -o yaml"
   ]
  },
  {
   "cell_type": "code",
   "execution_count": 8,
   "id": "47476099",
   "metadata": {},
   "outputs": [
    {
     "name": "stdout",
     "output_type": "stream",
     "text": [
      "Name:                   my-apache\n",
      "Namespace:              default\n",
      "CreationTimestamp:      Sun, 17 Aug 2025 17:21:25 -0400\n",
      "Labels:                 app=my-apache\n",
      "Annotations:            deployment.kubernetes.io/revision: 1\n",
      "Selector:               app=my-apache\n",
      "Replicas:               2 desired | 2 updated | 2 total | 2 available | 0 unavailable\n",
      "StrategyType:           RollingUpdate\n",
      "MinReadySeconds:        0\n",
      "RollingUpdateStrategy:  25% max unavailable, 25% max surge\n",
      "Pod Template:\n",
      "  Labels:  app=my-apache\n",
      "  Containers:\n",
      "   httpd:\n",
      "    Image:         httpd\n",
      "    Port:          <none>\n",
      "    Host Port:     <none>\n",
      "    Environment:   <none>\n",
      "    Mounts:        <none>\n",
      "  Volumes:         <none>\n",
      "  Node-Selectors:  <none>\n",
      "  Tolerations:     <none>\n",
      "Conditions:\n",
      "  Type           Status  Reason\n",
      "  ----           ------  ------\n",
      "  Progressing    True    NewReplicaSetAvailable\n",
      "  Available      True    MinimumReplicasAvailable\n",
      "OldReplicaSets:  <none>\n",
      "NewReplicaSet:   my-apache-856f76d9f8 (2/2 replicas created)\n",
      "Events:\n",
      "  Type    Reason             Age   From                   Message\n",
      "  ----    ------             ----  ----                   -------\n",
      "  Normal  ScalingReplicaSet  33m   deployment-controller  Scaled up replica set my-apache-856f76d9f8 from 0 to 1\n",
      "  Normal  ScalingReplicaSet  31m   deployment-controller  Scaled up replica set my-apache-856f76d9f8 from 1 to 50\n",
      "  Normal  ScalingReplicaSet  31m   deployment-controller  Scaled down replica set my-apache-856f76d9f8 from 50 to 2\n"
     ]
    }
   ],
   "source": [
    "!kubectl describe deploy/my-apache"
   ]
  },
  {
   "cell_type": "code",
   "execution_count": 9,
   "id": "e7575373",
   "metadata": {},
   "outputs": [
    {
     "name": "stdout",
     "output_type": "stream",
     "text": [
      "NAME                         READY   STATUS    RESTARTS   AGE\n",
      "my-apache-856f76d9f8-5c69h   1/1     Running   0          33m\n",
      "my-apache-856f76d9f8-fhdqq   1/1     Running   0          35m\n"
     ]
    }
   ],
   "source": [
    "!kubectl get pods"
   ]
  },
  {
   "cell_type": "code",
   "execution_count": 12,
   "id": "9dbeb79b",
   "metadata": {},
   "outputs": [
    {
     "name": "stdout",
     "output_type": "stream",
     "text": [
      "Name:             my-apache-856f76d9f8-5c69h\n",
      "Namespace:        default\n",
      "Priority:         0\n",
      "Service Account:  default\n",
      "Node:             docker-desktop/192.168.65.3\n",
      "Start Time:       Sun, 17 Aug 2025 17:23:19 -0400\n",
      "Labels:           app=my-apache\n",
      "                  pod-template-hash=856f76d9f8\n",
      "Annotations:      <none>\n",
      "Status:           Running\n",
      "IP:               10.1.0.11\n",
      "IPs:\n",
      "  IP:           10.1.0.11\n",
      "Controlled By:  ReplicaSet/my-apache-856f76d9f8\n",
      "Containers:\n",
      "  httpd:\n",
      "    Container ID:   docker://50ec1344ddd111d4ccc98e28c3c69efbd979322e1df0f3982db57f13f73ae176\n",
      "    Image:          httpd\n",
      "    Image ID:       docker-pullable://httpd@sha256:3198c1839e1a875f8b83803083758a7635f1ae999f0601f30f2f3b8ce2ac99e3\n",
      "    Port:           <none>\n",
      "    Host Port:      <none>\n",
      "    State:          Running\n",
      "      Started:      Sun, 17 Aug 2025 17:23:26 -0400\n",
      "    Ready:          True\n",
      "    Restart Count:  0\n",
      "    Environment:    <none>\n",
      "    Mounts:\n",
      "      /var/run/secrets/kubernetes.io/serviceaccount from kube-api-access-t5s52 (ro)\n",
      "Conditions:\n",
      "  Type                        Status\n",
      "  PodReadyToStartContainers   True \n",
      "  Initialized                 True \n",
      "  Ready                       True \n",
      "  ContainersReady             True \n",
      "  PodScheduled                True \n",
      "Volumes:\n",
      "  kube-api-access-t5s52:\n",
      "    Type:                    Projected (a volume that contains injected data from multiple sources)\n",
      "    TokenExpirationSeconds:  3607\n",
      "    ConfigMapName:           kube-root-ca.crt\n",
      "    ConfigMapOptional:       <nil>\n",
      "    DownwardAPI:             true\n",
      "QoS Class:                   BestEffort\n",
      "Node-Selectors:              <none>\n",
      "Tolerations:                 node.kubernetes.io/not-ready:NoExecute op=Exists for 300s\n",
      "                             node.kubernetes.io/unreachable:NoExecute op=Exists for 300s\n",
      "Events:\n",
      "  Type    Reason     Age   From               Message\n",
      "  ----    ------     ----  ----               -------\n",
      "  Normal  Scheduled  34m   default-scheduler  Successfully assigned default/my-apache-856f76d9f8-5c69h to docker-desktop\n",
      "  Normal  Pulling    34m   kubelet            Pulling image \"httpd\"\n",
      "  Normal  Pulled     34m   kubelet            Successfully pulled image \"httpd\" in 476ms (3.648s including waiting). Image size: 45218413 bytes.\n",
      "  Normal  Created    34m   kubelet            Created container: httpd\n",
      "  Normal  Started    34m   kubelet            Started container httpd\n"
     ]
    }
   ],
   "source": [
    "!kubectl describe pod/my-apache-856f76d9f8-5c69h"
   ]
  },
  {
   "cell_type": "code",
   "execution_count": 13,
   "id": "0a972e4b",
   "metadata": {},
   "outputs": [
    {
     "name": "stdout",
     "output_type": "stream",
     "text": [
      "NAME             STATUS   ROLES           AGE   VERSION\n",
      "docker-desktop   Ready    control-plane   74m   v1.32.2\n"
     ]
    }
   ],
   "source": [
    "!kubectl get node"
   ]
  },
  {
   "cell_type": "code",
   "execution_count": 14,
   "id": "b5ecf7e9",
   "metadata": {},
   "outputs": [
    {
     "name": "stdout",
     "output_type": "stream",
     "text": [
      "NAME             STATUS   ROLES           AGE   VERSION   INTERNAL-IP    EXTERNAL-IP   OS-IMAGE         KERNEL-VERSION                     CONTAINER-RUNTIME\n",
      "docker-desktop   Ready    control-plane   75m   v1.32.2   192.168.65.3   <none>        Docker Desktop   6.6.87.2-microsoft-standard-WSL2   docker://28.3.2\n"
     ]
    }
   ],
   "source": [
    "!kubectl get node docker-desktop -o wide"
   ]
  },
  {
   "cell_type": "code",
   "execution_count": 15,
   "id": "37337798",
   "metadata": {},
   "outputs": [
    {
     "name": "stdout",
     "output_type": "stream",
     "text": [
      "Name:               docker-desktop\n",
      "Roles:              control-plane\n",
      "Labels:             beta.kubernetes.io/arch=amd64\n",
      "                    beta.kubernetes.io/os=linux\n",
      "                    kubernetes.io/arch=amd64\n",
      "                    kubernetes.io/hostname=docker-desktop\n",
      "                    kubernetes.io/os=linux\n",
      "                    node-role.kubernetes.io/control-plane=\n",
      "                    node.kubernetes.io/exclude-from-external-load-balancers=\n",
      "Annotations:        kubeadm.alpha.kubernetes.io/cri-socket: unix:///var/run/cri-dockerd.sock\n",
      "                    node.alpha.kubernetes.io/ttl: 0\n",
      "                    volumes.kubernetes.io/controller-managed-attach-detach: true\n",
      "CreationTimestamp:  Sun, 17 Aug 2025 16:44:37 -0400\n",
      "Taints:             <none>\n",
      "Unschedulable:      false\n",
      "Lease:\n",
      "  HolderIdentity:  docker-desktop\n",
      "  AcquireTime:     <unset>\n",
      "  RenewTime:       Sun, 17 Aug 2025 18:00:53 -0400\n",
      "Conditions:\n",
      "  Type             Status  LastHeartbeatTime                 LastTransitionTime                Reason                       Message\n",
      "  ----             ------  -----------------                 ------------------                ------                       -------\n",
      "  MemoryPressure   False   Sun, 17 Aug 2025 18:00:41 -0400   Sun, 17 Aug 2025 16:44:37 -0400   KubeletHasSufficientMemory   kubelet has sufficient memory available\n",
      "  DiskPressure     False   Sun, 17 Aug 2025 18:00:41 -0400   Sun, 17 Aug 2025 16:44:37 -0400   KubeletHasNoDiskPressure     kubelet has no disk pressure\n",
      "  PIDPressure      False   Sun, 17 Aug 2025 18:00:41 -0400   Sun, 17 Aug 2025 16:44:37 -0400   KubeletHasSufficientPID      kubelet has sufficient PID available\n",
      "  Ready            True    Sun, 17 Aug 2025 18:00:41 -0400   Sun, 17 Aug 2025 16:44:37 -0400   KubeletReady                 kubelet is posting ready status\n",
      "Addresses:\n",
      "  InternalIP:  192.168.65.3\n",
      "  Hostname:    docker-desktop\n",
      "Capacity:\n",
      "  cpu:                24\n",
      "  ephemeral-storage:  1055762868Ki\n",
      "  hugepages-1Gi:      0\n",
      "  hugepages-2Mi:      0\n",
      "  memory:             32563348Ki\n",
      "  pods:               110\n",
      "Allocatable:\n",
      "  cpu:                24\n",
      "  ephemeral-storage:  972991057538\n",
      "  hugepages-1Gi:      0\n",
      "  hugepages-2Mi:      0\n",
      "  memory:             32460948Ki\n",
      "  pods:               110\n",
      "System Info:\n",
      "  Machine ID:                 cddb2bacdaed4eb1b5e4b1d20a42c7ba\n",
      "  System UUID:                cddb2bacdaed4eb1b5e4b1d20a42c7ba\n",
      "  Boot ID:                    8f1c4e8f-7777-4213-8424-05c190b7e855\n",
      "  Kernel Version:             6.6.87.2-microsoft-standard-WSL2\n",
      "  OS Image:                   Docker Desktop\n",
      "  Operating System:           linux\n",
      "  Architecture:               amd64\n",
      "  Container Runtime Version:  docker://28.3.2\n",
      "  Kubelet Version:            v1.32.2\n",
      "  Kube-Proxy Version:         v1.32.2\n",
      "Non-terminated Pods:          (11 in total)\n",
      "  Namespace                   Name                                      CPU Requests  CPU Limits  Memory Requests  Memory Limits  Age\n",
      "  ---------                   ----                                      ------------  ----------  ---------------  -------------  ---\n",
      "  default                     my-apache-856f76d9f8-5c69h                0 (0%)        0 (0%)      0 (0%)           0 (0%)         37m\n",
      "  default                     my-apache-856f76d9f8-fhdqq                0 (0%)        0 (0%)      0 (0%)           0 (0%)         39m\n",
      "  kube-system                 coredns-668d6bf9bc-9mjnw                  100m (0%)     0 (0%)      70Mi (0%)        170Mi (0%)     76m\n",
      "  kube-system                 coredns-668d6bf9bc-zjpd9                  100m (0%)     0 (0%)      70Mi (0%)        170Mi (0%)     76m\n",
      "  kube-system                 etcd-docker-desktop                       100m (0%)     0 (0%)      100Mi (0%)       0 (0%)         76m\n",
      "  kube-system                 kube-apiserver-docker-desktop             250m (1%)     0 (0%)      0 (0%)           0 (0%)         76m\n",
      "  kube-system                 kube-controller-manager-docker-desktop    200m (0%)     0 (0%)      0 (0%)           0 (0%)         76m\n",
      "  kube-system                 kube-proxy-xc7vf                          0 (0%)        0 (0%)      0 (0%)           0 (0%)         76m\n",
      "  kube-system                 kube-scheduler-docker-desktop             100m (0%)     0 (0%)      0 (0%)           0 (0%)         76m\n",
      "  kube-system                 storage-provisioner                       0 (0%)        0 (0%)      0 (0%)           0 (0%)         76m\n",
      "  kube-system                 vpnkit-controller                         0 (0%)        0 (0%)      0 (0%)           0 (0%)         76m\n",
      "Allocated resources:\n",
      "  (Total limits may be over 100 percent, i.e., overcommitted.)\n",
      "  Resource           Requests    Limits\n",
      "  --------           --------    ------\n",
      "  cpu                850m (3%)   0 (0%)\n",
      "  memory             240Mi (0%)  340Mi (1%)\n",
      "  ephemeral-storage  0 (0%)      0 (0%)\n",
      "  hugepages-1Gi      0 (0%)      0 (0%)\n",
      "  hugepages-2Mi      0 (0%)      0 (0%)\n",
      "Events:              <none>\n"
     ]
    }
   ],
   "source": [
    "!kubectl describe node/docker-desktop"
   ]
  },
  {
   "cell_type": "code",
   "execution_count": 16,
   "id": "f681d7f0",
   "metadata": {},
   "outputs": [
    {
     "name": "stdout",
     "output_type": "stream",
     "text": [
      "NAME                         READY   STATUS    RESTARTS   AGE\n",
      "my-apache-856f76d9f8-5c69h   1/1     Running   0          43m\n",
      "my-apache-856f76d9f8-fhdqq   1/1     Running   0          45m\n"
     ]
    }
   ],
   "source": [
    "!kubectl get pods"
   ]
  },
  {
   "cell_type": "code",
   "execution_count": 18,
   "id": "a63c2cf6",
   "metadata": {},
   "outputs": [
    {
     "name": "stdout",
     "output_type": "stream",
     "text": [
      "^C\n"
     ]
    }
   ],
   "source": [
    "!kubectl get pods -w"
   ]
  },
  {
   "cell_type": "code",
   "execution_count": 19,
   "id": "ce9e7118",
   "metadata": {},
   "outputs": [
    {
     "name": "stdout",
     "output_type": "stream",
     "text": [
      "pod \"my-apache-856f76d9f8-fhdqq\" deleted\n"
     ]
    }
   ],
   "source": [
    "!kubectl delete pod my-apache-856f76d9f8-fhdqq"
   ]
  },
  {
   "cell_type": "code",
   "execution_count": 20,
   "id": "09d4e382",
   "metadata": {},
   "outputs": [
    {
     "name": "stdout",
     "output_type": "stream",
     "text": [
      "NAME                         READY   STATUS    RESTARTS   AGE\n",
      "my-apache-856f76d9f8-5c69h   1/1     Running   0          45m\n",
      "my-apache-856f76d9f8-8426p   1/1     Running   0          10s\n"
     ]
    }
   ],
   "source": [
    "!kubectl get pod"
   ]
  },
  {
   "cell_type": "code",
   "execution_count": 23,
   "id": "088c9967",
   "metadata": {},
   "outputs": [
    {
     "name": "stdout",
     "output_type": "stream",
     "text": [
      "^C\n"
     ]
    }
   ],
   "source": [
    "!kubectl get events --watch-only"
   ]
  },
  {
   "cell_type": "code",
   "execution_count": 22,
   "id": "1357d34e",
   "metadata": {},
   "outputs": [
    {
     "name": "stdout",
     "output_type": "stream",
     "text": [
      "pod \"my-apache-856f76d9f8-5c69h\" deleted\n"
     ]
    }
   ],
   "source": [
    "!kubectl delete pod my-apache-856f76d9f8-5c69h"
   ]
  },
  {
   "cell_type": "code",
   "execution_count": 24,
   "id": "57bb980d",
   "metadata": {},
   "outputs": [
    {
     "name": "stdout",
     "output_type": "stream",
     "text": [
      "LAST SEEN   TYPE     REASON              OBJECT                            MESSAGE\n",
      "49m         Normal   Scheduled           pod/my-apache-856f76d9f8-25c7z    Successfully assigned default/my-apache-856f76d9f8-25c7z to docker-desktop\n",
      "49m         Normal   Pulling             pod/my-apache-856f76d9f8-25c7z    Pulling image \"httpd\"\n",
      "49m         Normal   Pulled              pod/my-apache-856f76d9f8-25c7z    Successfully pulled image \"httpd\" in 518ms (12.789s including waiting). Image size: 45218413 bytes.\n",
      "49m         Normal   Created             pod/my-apache-856f76d9f8-25c7z    Created container: httpd\n",
      "49m         Normal   Started             pod/my-apache-856f76d9f8-25c7z    Started container httpd\n",
      "48m         Normal   Killing             pod/my-apache-856f76d9f8-25c7z    Stopping container httpd\n",
      "49m         Normal   Scheduled           pod/my-apache-856f76d9f8-29thd    Successfully assigned default/my-apache-856f76d9f8-29thd to docker-desktop\n",
      "49m         Normal   Pulling             pod/my-apache-856f76d9f8-29thd    Pulling image \"httpd\"\n",
      "48m         Normal   Pulled              pod/my-apache-856f76d9f8-29thd    Successfully pulled image \"httpd\" in 474ms (16.927s including waiting). Image size: 45218413 bytes.\n",
      "48m         Normal   Created             pod/my-apache-856f76d9f8-29thd    Created container: httpd\n",
      "48m         Normal   Started             pod/my-apache-856f76d9f8-29thd    Started container httpd\n",
      "48m         Normal   Killing             pod/my-apache-856f76d9f8-29thd    Stopping container httpd\n",
      "49m         Normal   Scheduled           pod/my-apache-856f76d9f8-2kg82    Successfully assigned default/my-apache-856f76d9f8-2kg82 to docker-desktop\n",
      "49m         Normal   Pulling             pod/my-apache-856f76d9f8-2kg82    Pulling image \"httpd\"\n",
      "49m         Normal   Pulled              pod/my-apache-856f76d9f8-2kg82    Successfully pulled image \"httpd\" in 549ms (8.406s including waiting). Image size: 45218413 bytes.\n",
      "49m         Normal   Created             pod/my-apache-856f76d9f8-2kg82    Created container: httpd\n",
      "49m         Normal   Started             pod/my-apache-856f76d9f8-2kg82    Started container httpd\n",
      "48m         Normal   Killing             pod/my-apache-856f76d9f8-2kg82    Stopping container httpd\n",
      "49m         Normal   Scheduled           pod/my-apache-856f76d9f8-4p69m    Successfully assigned default/my-apache-856f76d9f8-4p69m to docker-desktop\n",
      "49m         Normal   Pulling             pod/my-apache-856f76d9f8-4p69m    Pulling image \"httpd\"\n",
      "49m         Normal   Pulled              pod/my-apache-856f76d9f8-4p69m    Successfully pulled image \"httpd\" in 498ms (6.032s including waiting). Image size: 45218413 bytes.\n",
      "49m         Normal   Created             pod/my-apache-856f76d9f8-4p69m    Created container: httpd\n",
      "49m         Normal   Started             pod/my-apache-856f76d9f8-4p69m    Started container httpd\n",
      "48m         Normal   Killing             pod/my-apache-856f76d9f8-4p69m    Stopping container httpd\n",
      "49m         Normal   Scheduled           pod/my-apache-856f76d9f8-5c69h    Successfully assigned default/my-apache-856f76d9f8-5c69h to docker-desktop\n",
      "49m         Normal   Pulling             pod/my-apache-856f76d9f8-5c69h    Pulling image \"httpd\"\n",
      "49m         Normal   Pulled              pod/my-apache-856f76d9f8-5c69h    Successfully pulled image \"httpd\" in 476ms (3.648s including waiting). Image size: 45218413 bytes.\n",
      "49m         Normal   Created             pod/my-apache-856f76d9f8-5c69h    Created container: httpd\n",
      "49m         Normal   Started             pod/my-apache-856f76d9f8-5c69h    Started container httpd\n",
      "64s         Normal   Killing             pod/my-apache-856f76d9f8-5c69h    Stopping container httpd\n",
      "49m         Normal   Scheduled           pod/my-apache-856f76d9f8-6c7m6    Successfully assigned default/my-apache-856f76d9f8-6c7m6 to docker-desktop\n",
      "49m         Normal   Pulling             pod/my-apache-856f76d9f8-6c7m6    Pulling image \"httpd\"\n",
      "49m         Normal   Pulled              pod/my-apache-856f76d9f8-6c7m6    Successfully pulled image \"httpd\" in 512ms (8.892s including waiting). Image size: 45218413 bytes.\n",
      "49m         Normal   Created             pod/my-apache-856f76d9f8-6c7m6    Created container: httpd\n",
      "49m         Normal   Started             pod/my-apache-856f76d9f8-6c7m6    Started container httpd\n",
      "48m         Normal   Killing             pod/my-apache-856f76d9f8-6c7m6    Stopping container httpd\n",
      "49m         Normal   Scheduled           pod/my-apache-856f76d9f8-6msfv    Successfully assigned default/my-apache-856f76d9f8-6msfv to docker-desktop\n",
      "49m         Normal   Pulling             pod/my-apache-856f76d9f8-6msfv    Pulling image \"httpd\"\n",
      "49m         Normal   Pulled              pod/my-apache-856f76d9f8-6msfv    Successfully pulled image \"httpd\" in 514ms (11.291s including waiting). Image size: 45218413 bytes.\n",
      "49m         Normal   Created             pod/my-apache-856f76d9f8-6msfv    Created container: httpd\n",
      "49m         Normal   Started             pod/my-apache-856f76d9f8-6msfv    Started container httpd\n",
      "48m         Normal   Killing             pod/my-apache-856f76d9f8-6msfv    Stopping container httpd\n",
      "49m         Normal   Scheduled           pod/my-apache-856f76d9f8-6tdsc    Successfully assigned default/my-apache-856f76d9f8-6tdsc to docker-desktop\n",
      "49m         Normal   Pulling             pod/my-apache-856f76d9f8-6tdsc    Pulling image \"httpd\"\n",
      "48m         Normal   Pulled              pod/my-apache-856f76d9f8-6tdsc    Successfully pulled image \"httpd\" in 406ms (17.692s including waiting). Image size: 45218413 bytes.\n",
      "48m         Normal   Created             pod/my-apache-856f76d9f8-6tdsc    Created container: httpd\n",
      "48m         Normal   Started             pod/my-apache-856f76d9f8-6tdsc    Started container httpd\n",
      "48m         Normal   Killing             pod/my-apache-856f76d9f8-6tdsc    Stopping container httpd\n",
      "49m         Normal   Scheduled           pod/my-apache-856f76d9f8-7755w    Successfully assigned default/my-apache-856f76d9f8-7755w to docker-desktop\n",
      "49m         Normal   Pulling             pod/my-apache-856f76d9f8-7755w    Pulling image \"httpd\"\n",
      "48m         Normal   Pulled              pod/my-apache-856f76d9f8-7755w    Successfully pulled image \"httpd\" in 408ms (22.614s including waiting). Image size: 45218413 bytes.\n",
      "48m         Normal   Created             pod/my-apache-856f76d9f8-7755w    Created container: httpd\n",
      "48m         Normal   Started             pod/my-apache-856f76d9f8-7755w    Started container httpd\n",
      "48m         Normal   Killing             pod/my-apache-856f76d9f8-7755w    Stopping container httpd\n",
      "49m         Normal   Scheduled           pod/my-apache-856f76d9f8-7rkm6    Successfully assigned default/my-apache-856f76d9f8-7rkm6 to docker-desktop\n",
      "49m         Normal   Pulling             pod/my-apache-856f76d9f8-7rkm6    Pulling image \"httpd\"\n",
      "48m         Normal   Pulled              pod/my-apache-856f76d9f8-7rkm6    Successfully pulled image \"httpd\" in 392ms (23.339s including waiting). Image size: 45218413 bytes.\n",
      "48m         Normal   Created             pod/my-apache-856f76d9f8-7rkm6    Created container: httpd\n",
      "48m         Normal   Started             pod/my-apache-856f76d9f8-7rkm6    Started container httpd\n",
      "48m         Normal   Killing             pod/my-apache-856f76d9f8-7rkm6    Stopping container httpd\n",
      "4m3s        Normal   Scheduled           pod/my-apache-856f76d9f8-8426p    Successfully assigned default/my-apache-856f76d9f8-8426p to docker-desktop\n",
      "4m2s        Normal   Pulling             pod/my-apache-856f76d9f8-8426p    Pulling image \"httpd\"\n",
      "4m2s        Normal   Pulled              pod/my-apache-856f76d9f8-8426p    Successfully pulled image \"httpd\" in 593ms (593ms including waiting). Image size: 45218413 bytes.\n",
      "4m1s        Normal   Created             pod/my-apache-856f76d9f8-8426p    Created container: httpd\n",
      "4m1s        Normal   Started             pod/my-apache-856f76d9f8-8426p    Started container httpd\n",
      "49m         Normal   Scheduled           pod/my-apache-856f76d9f8-892d9    Successfully assigned default/my-apache-856f76d9f8-892d9 to docker-desktop\n",
      "49m         Normal   Pulling             pod/my-apache-856f76d9f8-892d9    Pulling image \"httpd\"\n",
      "48m         Normal   Pulled              pod/my-apache-856f76d9f8-892d9    Successfully pulled image \"httpd\" in 445ms (15.707s including waiting). Image size: 45218413 bytes.\n",
      "48m         Normal   Created             pod/my-apache-856f76d9f8-892d9    Created container: httpd\n",
      "48m         Normal   Started             pod/my-apache-856f76d9f8-892d9    Started container httpd\n",
      "48m         Normal   Killing             pod/my-apache-856f76d9f8-892d9    Stopping container httpd\n",
      "49m         Normal   Scheduled           pod/my-apache-856f76d9f8-8h9s7    Successfully assigned default/my-apache-856f76d9f8-8h9s7 to docker-desktop\n",
      "49m         Normal   Pulling             pod/my-apache-856f76d9f8-8h9s7    Pulling image \"httpd\"\n",
      "49m         Normal   Pulled              pod/my-apache-856f76d9f8-8h9s7    Successfully pulled image \"httpd\" in 515ms (5.256s including waiting). Image size: 45218413 bytes.\n",
      "49m         Normal   Created             pod/my-apache-856f76d9f8-8h9s7    Created container: httpd\n",
      "49m         Normal   Started             pod/my-apache-856f76d9f8-8h9s7    Started container httpd\n",
      "48m         Normal   Killing             pod/my-apache-856f76d9f8-8h9s7    Stopping container httpd\n",
      "49m         Normal   Scheduled           pod/my-apache-856f76d9f8-8jnzz    Successfully assigned default/my-apache-856f76d9f8-8jnzz to docker-desktop\n",
      "49m         Normal   Pulling             pod/my-apache-856f76d9f8-8jnzz    Pulling image \"httpd\"\n",
      "49m         Normal   Pulled              pod/my-apache-856f76d9f8-8jnzz    Successfully pulled image \"httpd\" in 532ms (4.744s including waiting). Image size: 45218413 bytes.\n",
      "49m         Normal   Created             pod/my-apache-856f76d9f8-8jnzz    Created container: httpd\n",
      "49m         Normal   Started             pod/my-apache-856f76d9f8-8jnzz    Started container httpd\n",
      "48m         Normal   Killing             pod/my-apache-856f76d9f8-8jnzz    Stopping container httpd\n",
      "49m         Normal   Scheduled           pod/my-apache-856f76d9f8-8nf7v    Successfully assigned default/my-apache-856f76d9f8-8nf7v to docker-desktop\n",
      "49m         Normal   Pulling             pod/my-apache-856f76d9f8-8nf7v    Pulling image \"httpd\"\n",
      "48m         Normal   Pulled              pod/my-apache-856f76d9f8-8nf7v    Successfully pulled image \"httpd\" in 413ms (15.266s including waiting). Image size: 45218413 bytes.\n",
      "48m         Normal   Created             pod/my-apache-856f76d9f8-8nf7v    Created container: httpd\n",
      "48m         Normal   Started             pod/my-apache-856f76d9f8-8nf7v    Started container httpd\n",
      "48m         Normal   Killing             pod/my-apache-856f76d9f8-8nf7v    Stopping container httpd\n",
      "49m         Normal   Scheduled           pod/my-apache-856f76d9f8-9s4kv    Successfully assigned default/my-apache-856f76d9f8-9s4kv to docker-desktop\n",
      "49m         Normal   Pulling             pod/my-apache-856f76d9f8-9s4kv    Pulling image \"httpd\"\n",
      "48m         Normal   Pulled              pod/my-apache-856f76d9f8-9s4kv    Successfully pulled image \"httpd\" in 427ms (22.237s including waiting). Image size: 45218413 bytes.\n",
      "48m         Normal   Created             pod/my-apache-856f76d9f8-9s4kv    Created container: httpd\n",
      "48m         Normal   Started             pod/my-apache-856f76d9f8-9s4kv    Started container httpd\n",
      "48m         Normal   Killing             pod/my-apache-856f76d9f8-9s4kv    Stopping container httpd\n",
      "49m         Normal   Scheduled           pod/my-apache-856f76d9f8-9thj4    Successfully assigned default/my-apache-856f76d9f8-9thj4 to docker-desktop\n",
      "49m         Normal   Pulling             pod/my-apache-856f76d9f8-9thj4    Pulling image \"httpd\"\n",
      "48m         Normal   Pulled              pod/my-apache-856f76d9f8-9thj4    Successfully pulled image \"httpd\" in 423ms (14.5s including waiting). Image size: 45218413 bytes.\n",
      "48m         Normal   Created             pod/my-apache-856f76d9f8-9thj4    Created container: httpd\n",
      "48m         Normal   Started             pod/my-apache-856f76d9f8-9thj4    Started container httpd\n",
      "48m         Normal   Killing             pod/my-apache-856f76d9f8-9thj4    Stopping container httpd\n",
      "49m         Normal   Scheduled           pod/my-apache-856f76d9f8-bj229    Successfully assigned default/my-apache-856f76d9f8-bj229 to docker-desktop\n",
      "49m         Normal   Pulling             pod/my-apache-856f76d9f8-bj229    Pulling image \"httpd\"\n",
      "49m         Normal   Pulled              pod/my-apache-856f76d9f8-bj229    Successfully pulled image \"httpd\" in 508ms (12.27s including waiting). Image size: 45218413 bytes.\n",
      "49m         Normal   Created             pod/my-apache-856f76d9f8-bj229    Created container: httpd\n",
      "49m         Normal   Started             pod/my-apache-856f76d9f8-bj229    Started container httpd\n",
      "48m         Normal   Killing             pod/my-apache-856f76d9f8-bj229    Stopping container httpd\n",
      "49m         Normal   Scheduled           pod/my-apache-856f76d9f8-c9ng6    Successfully assigned default/my-apache-856f76d9f8-c9ng6 to docker-desktop\n",
      "49m         Normal   Pulling             pod/my-apache-856f76d9f8-c9ng6    Pulling image \"httpd\"\n",
      "48m         Normal   Pulled              pod/my-apache-856f76d9f8-c9ng6    Successfully pulled image \"httpd\" in 400ms (19.644s including waiting). Image size: 45218413 bytes.\n",
      "48m         Normal   Created             pod/my-apache-856f76d9f8-c9ng6    Created container: httpd\n",
      "48m         Normal   Started             pod/my-apache-856f76d9f8-c9ng6    Started container httpd\n",
      "48m         Normal   Killing             pod/my-apache-856f76d9f8-c9ng6    Stopping container httpd\n",
      "49m         Normal   Scheduled           pod/my-apache-856f76d9f8-f5m4t    Successfully assigned default/my-apache-856f76d9f8-f5m4t to docker-desktop\n",
      "49m         Normal   Pulling             pod/my-apache-856f76d9f8-f5m4t    Pulling image \"httpd\"\n",
      "49m         Normal   Pulled              pod/my-apache-856f76d9f8-f5m4t    Successfully pulled image \"httpd\" in 539ms (3.928s including waiting). Image size: 45218413 bytes.\n",
      "49m         Normal   Created             pod/my-apache-856f76d9f8-f5m4t    Created container: httpd\n",
      "49m         Normal   Started             pod/my-apache-856f76d9f8-f5m4t    Started container httpd\n",
      "48m         Normal   Killing             pod/my-apache-856f76d9f8-f5m4t    Stopping container httpd\n",
      "49m         Normal   Scheduled           pod/my-apache-856f76d9f8-fg7rr    Successfully assigned default/my-apache-856f76d9f8-fg7rr to docker-desktop\n",
      "49m         Normal   Pulling             pod/my-apache-856f76d9f8-fg7rr    Pulling image \"httpd\"\n",
      "48m         Normal   Pulled              pod/my-apache-856f76d9f8-fg7rr    Successfully pulled image \"httpd\" in 501ms (18.178s including waiting). Image size: 45218413 bytes.\n",
      "48m         Normal   Created             pod/my-apache-856f76d9f8-fg7rr    Created container: httpd\n",
      "48m         Normal   Started             pod/my-apache-856f76d9f8-fg7rr    Started container httpd\n",
      "48m         Normal   Killing             pod/my-apache-856f76d9f8-fg7rr    Stopping container httpd\n",
      "51m         Normal   Scheduled           pod/my-apache-856f76d9f8-fhdqq    Successfully assigned default/my-apache-856f76d9f8-fhdqq to docker-desktop\n",
      "51m         Normal   Pulling             pod/my-apache-856f76d9f8-fhdqq    Pulling image \"httpd\"\n",
      "51m         Normal   Pulled              pod/my-apache-856f76d9f8-fhdqq    Successfully pulled image \"httpd\" in 1.974s (1.974s including waiting). Image size: 45218413 bytes.\n",
      "51m         Normal   Created             pod/my-apache-856f76d9f8-fhdqq    Created container: httpd\n",
      "51m         Normal   Started             pod/my-apache-856f76d9f8-fhdqq    Started container httpd\n",
      "4m3s        Normal   Killing             pod/my-apache-856f76d9f8-fhdqq    Stopping container httpd\n",
      "49m         Normal   Scheduled           pod/my-apache-856f76d9f8-fk985    Successfully assigned default/my-apache-856f76d9f8-fk985 to docker-desktop\n",
      "49m         Normal   Pulling             pod/my-apache-856f76d9f8-fk985    Pulling image \"httpd\"\n",
      "49m         Normal   Pulled              pod/my-apache-856f76d9f8-fk985    Successfully pulled image \"httpd\" in 483ms (7.53s including waiting). Image size: 45218413 bytes.\n",
      "49m         Normal   Created             pod/my-apache-856f76d9f8-fk985    Created container: httpd\n",
      "49m         Normal   Started             pod/my-apache-856f76d9f8-fk985    Started container httpd\n",
      "48m         Normal   Killing             pod/my-apache-856f76d9f8-fk985    Stopping container httpd\n",
      "49m         Normal   Scheduled           pod/my-apache-856f76d9f8-gxmgk    Successfully assigned default/my-apache-856f76d9f8-gxmgk to docker-desktop\n",
      "49m         Normal   Pulling             pod/my-apache-856f76d9f8-gxmgk    Pulling image \"httpd\"\n",
      "49m         Normal   Pulled              pod/my-apache-856f76d9f8-gxmgk    Successfully pulled image \"httpd\" in 511ms (3.489s including waiting). Image size: 45218413 bytes.\n",
      "49m         Normal   Created             pod/my-apache-856f76d9f8-gxmgk    Created container: httpd\n",
      "49m         Normal   Started             pod/my-apache-856f76d9f8-gxmgk    Started container httpd\n",
      "48m         Normal   Killing             pod/my-apache-856f76d9f8-gxmgk    Stopping container httpd\n",
      "49m         Normal   Scheduled           pod/my-apache-856f76d9f8-h4crc    Successfully assigned default/my-apache-856f76d9f8-h4crc to docker-desktop\n",
      "49m         Normal   Pulling             pod/my-apache-856f76d9f8-h4crc    Pulling image \"httpd\"\n",
      "49m         Normal   Pulled              pod/my-apache-856f76d9f8-h4crc    Successfully pulled image \"httpd\" in 521ms (13.219s including waiting). Image size: 45218413 bytes.\n",
      "49m         Normal   Created             pod/my-apache-856f76d9f8-h4crc    Created container: httpd\n",
      "49m         Normal   Started             pod/my-apache-856f76d9f8-h4crc    Started container httpd\n",
      "48m         Normal   Killing             pod/my-apache-856f76d9f8-h4crc    Stopping container httpd\n",
      "49m         Normal   Scheduled           pod/my-apache-856f76d9f8-hbgrp    Successfully assigned default/my-apache-856f76d9f8-hbgrp to docker-desktop\n",
      "49m         Normal   Pulling             pod/my-apache-856f76d9f8-hbgrp    Pulling image \"httpd\"\n",
      "48m         Normal   Pulled              pod/my-apache-856f76d9f8-hbgrp    Successfully pulled image \"httpd\" in 381ms (18.531s including waiting). Image size: 45218413 bytes.\n",
      "48m         Normal   Created             pod/my-apache-856f76d9f8-hbgrp    Created container: httpd\n",
      "48m         Normal   Started             pod/my-apache-856f76d9f8-hbgrp    Started container httpd\n",
      "48m         Normal   Killing             pod/my-apache-856f76d9f8-hbgrp    Stopping container httpd\n",
      "49m         Normal   Scheduled           pod/my-apache-856f76d9f8-hwt7z    Successfully assigned default/my-apache-856f76d9f8-hwt7z to docker-desktop\n",
      "49m         Normal   Pulling             pod/my-apache-856f76d9f8-hwt7z    Pulling image \"httpd\"\n",
      "49m         Normal   Pulled              pod/my-apache-856f76d9f8-hwt7z    Successfully pulled image \"httpd\" in 532ms (5.626s including waiting). Image size: 45218413 bytes.\n",
      "49m         Normal   Created             pod/my-apache-856f76d9f8-hwt7z    Created container: httpd\n",
      "49m         Normal   Started             pod/my-apache-856f76d9f8-hwt7z    Started container httpd\n",
      "48m         Normal   Killing             pod/my-apache-856f76d9f8-hwt7z    Stopping container httpd\n",
      "49m         Normal   Scheduled           pod/my-apache-856f76d9f8-jgr49    Successfully assigned default/my-apache-856f76d9f8-jgr49 to docker-desktop\n",
      "49m         Normal   Pulling             pod/my-apache-856f76d9f8-jgr49    Pulling image \"httpd\"\n",
      "49m         Normal   Pulled              pod/my-apache-856f76d9f8-jgr49    Successfully pulled image \"httpd\" in 512ms (7.922s including waiting). Image size: 45218413 bytes.\n",
      "49m         Normal   Created             pod/my-apache-856f76d9f8-jgr49    Created container: httpd\n",
      "49m         Normal   Started             pod/my-apache-856f76d9f8-jgr49    Started container httpd\n",
      "48m         Normal   Killing             pod/my-apache-856f76d9f8-jgr49    Stopping container httpd\n",
      "49m         Normal   Scheduled           pod/my-apache-856f76d9f8-jmczc    Successfully assigned default/my-apache-856f76d9f8-jmczc to docker-desktop\n",
      "49m         Normal   Pulling             pod/my-apache-856f76d9f8-jmczc    Pulling image \"httpd\"\n",
      "49m         Normal   Pulled              pod/my-apache-856f76d9f8-jmczc    Successfully pulled image \"httpd\" in 526ms (7.083s including waiting). Image size: 45218413 bytes.\n",
      "49m         Normal   Created             pod/my-apache-856f76d9f8-jmczc    Created container: httpd\n",
      "49m         Normal   Started             pod/my-apache-856f76d9f8-jmczc    Started container httpd\n",
      "48m         Normal   Killing             pod/my-apache-856f76d9f8-jmczc    Stopping container httpd\n",
      "49m         Normal   Scheduled           pod/my-apache-856f76d9f8-jx8b4    Successfully assigned default/my-apache-856f76d9f8-jx8b4 to docker-desktop\n",
      "49m         Normal   Pulling             pod/my-apache-856f76d9f8-jx8b4    Pulling image \"httpd\"\n",
      "48m         Normal   Pulled              pod/my-apache-856f76d9f8-jx8b4    Successfully pulled image \"httpd\" in 1.42s (21.395s including waiting). Image size: 45218413 bytes.\n",
      "48m         Normal   Created             pod/my-apache-856f76d9f8-jx8b4    Created container: httpd\n",
      "48m         Normal   Started             pod/my-apache-856f76d9f8-jx8b4    Started container httpd\n",
      "48m         Normal   Killing             pod/my-apache-856f76d9f8-jx8b4    Stopping container httpd\n",
      "49m         Normal   Scheduled           pod/my-apache-856f76d9f8-l6lcx    Successfully assigned default/my-apache-856f76d9f8-l6lcx to docker-desktop\n",
      "49m         Normal   Pulling             pod/my-apache-856f76d9f8-l6lcx    Pulling image \"httpd\"\n",
      "48m         Normal   Pulled              pod/my-apache-856f76d9f8-l6lcx    Successfully pulled image \"httpd\" in 414ms (18.927s including waiting). Image size: 45218413 bytes.\n",
      "48m         Normal   Created             pod/my-apache-856f76d9f8-l6lcx    Created container: httpd\n",
      "48m         Normal   Started             pod/my-apache-856f76d9f8-l6lcx    Started container httpd\n",
      "48m         Normal   Killing             pod/my-apache-856f76d9f8-l6lcx    Stopping container httpd\n",
      "49m         Normal   Scheduled           pod/my-apache-856f76d9f8-lk66t    Successfully assigned default/my-apache-856f76d9f8-lk66t to docker-desktop\n",
      "49m         Normal   Pulling             pod/my-apache-856f76d9f8-lk66t    Pulling image \"httpd\"\n",
      "49m         Normal   Pulled              pod/my-apache-856f76d9f8-lk66t    Successfully pulled image \"httpd\" in 502ms (10.284s including waiting). Image size: 45218413 bytes.\n",
      "49m         Normal   Created             pod/my-apache-856f76d9f8-lk66t    Created container: httpd\n",
      "49m         Normal   Started             pod/my-apache-856f76d9f8-lk66t    Started container httpd\n",
      "48m         Normal   Killing             pod/my-apache-856f76d9f8-lk66t    Stopping container httpd\n",
      "49m         Normal   Scheduled           pod/my-apache-856f76d9f8-lvqk2    Successfully assigned default/my-apache-856f76d9f8-lvqk2 to docker-desktop\n",
      "49m         Normal   Pulling             pod/my-apache-856f76d9f8-lvqk2    Pulling image \"httpd\"\n",
      "49m         Normal   Pulled              pod/my-apache-856f76d9f8-lvqk2    Successfully pulled image \"httpd\" in 513ms (9.833s including waiting). Image size: 45218413 bytes.\n",
      "49m         Normal   Created             pod/my-apache-856f76d9f8-lvqk2    Created container: httpd\n",
      "49m         Normal   Started             pod/my-apache-856f76d9f8-lvqk2    Started container httpd\n",
      "48m         Normal   Killing             pod/my-apache-856f76d9f8-lvqk2    Stopping container httpd\n",
      "49m         Normal   Scheduled           pod/my-apache-856f76d9f8-mjgss    Successfully assigned default/my-apache-856f76d9f8-mjgss to docker-desktop\n",
      "49m         Normal   Pulling             pod/my-apache-856f76d9f8-mjgss    Pulling image \"httpd\"\n",
      "48m         Normal   Pulled              pod/my-apache-856f76d9f8-mjgss    Successfully pulled image \"httpd\" in 361ms (17.289s including waiting). Image size: 45218413 bytes.\n",
      "48m         Normal   Created             pod/my-apache-856f76d9f8-mjgss    Created container: httpd\n",
      "48m         Normal   Started             pod/my-apache-856f76d9f8-mjgss    Started container httpd\n",
      "48m         Normal   Killing             pod/my-apache-856f76d9f8-mjgss    Stopping container httpd\n",
      "49m         Normal   Scheduled           pod/my-apache-856f76d9f8-n46vx    Successfully assigned default/my-apache-856f76d9f8-n46vx to docker-desktop\n",
      "49m         Normal   Pulling             pod/my-apache-856f76d9f8-n46vx    Pulling image \"httpd\"\n",
      "48m         Normal   Pulled              pod/my-apache-856f76d9f8-n46vx    Successfully pulled image \"httpd\" in 425ms (21.81s including waiting). Image size: 45218413 bytes.\n",
      "48m         Normal   Created             pod/my-apache-856f76d9f8-n46vx    Created container: httpd\n",
      "48m         Normal   Started             pod/my-apache-856f76d9f8-n46vx    Started container httpd\n",
      "48m         Normal   Killing             pod/my-apache-856f76d9f8-n46vx    Stopping container httpd\n",
      "49m         Normal   Scheduled           pod/my-apache-856f76d9f8-nsfsb    Successfully assigned default/my-apache-856f76d9f8-nsfsb to docker-desktop\n",
      "49m         Normal   Pulling             pod/my-apache-856f76d9f8-nsfsb    Pulling image \"httpd\"\n",
      "48m         Normal   Pulled              pod/my-apache-856f76d9f8-nsfsb    Successfully pulled image \"httpd\" in 381ms (16.512s including waiting). Image size: 45218413 bytes.\n",
      "48m         Normal   Created             pod/my-apache-856f76d9f8-nsfsb    Created container: httpd\n",
      "48m         Normal   Started             pod/my-apache-856f76d9f8-nsfsb    Started container httpd\n",
      "48m         Normal   Killing             pod/my-apache-856f76d9f8-nsfsb    Stopping container httpd\n",
      "49m         Normal   Scheduled           pod/my-apache-856f76d9f8-nzx4d    Successfully assigned default/my-apache-856f76d9f8-nzx4d to docker-desktop\n",
      "49m         Normal   Pulling             pod/my-apache-856f76d9f8-nzx4d    Pulling image \"httpd\"\n",
      "48m         Normal   Pulled              pod/my-apache-856f76d9f8-nzx4d    Successfully pulled image \"httpd\" in 404ms (23.743s including waiting). Image size: 45218413 bytes.\n",
      "48m         Normal   Created             pod/my-apache-856f76d9f8-nzx4d    Created container: httpd\n",
      "48m         Normal   Started             pod/my-apache-856f76d9f8-nzx4d    Started container httpd\n",
      "48m         Normal   Killing             pod/my-apache-856f76d9f8-nzx4d    Stopping container httpd\n",
      "49m         Normal   Scheduled           pod/my-apache-856f76d9f8-rdrww    Successfully assigned default/my-apache-856f76d9f8-rdrww to docker-desktop\n",
      "49m         Normal   Pulling             pod/my-apache-856f76d9f8-rdrww    Pulling image \"httpd\"\n",
      "49m         Normal   Pulled              pod/my-apache-856f76d9f8-rdrww    Successfully pulled image \"httpd\" in 560ms (13.779s including waiting). Image size: 45218413 bytes.\n",
      "49m         Normal   Created             pod/my-apache-856f76d9f8-rdrww    Created container: httpd\n",
      "49m         Normal   Started             pod/my-apache-856f76d9f8-rdrww    Started container httpd\n",
      "48m         Normal   Killing             pod/my-apache-856f76d9f8-rdrww    Stopping container httpd\n",
      "49m         Normal   Scheduled           pod/my-apache-856f76d9f8-sg5xp    Successfully assigned default/my-apache-856f76d9f8-sg5xp to docker-desktop\n",
      "49m         Normal   Pulling             pod/my-apache-856f76d9f8-sg5xp    Pulling image \"httpd\"\n",
      "48m         Normal   Pulled              pod/my-apache-856f76d9f8-sg5xp    Successfully pulled image \"httpd\" in 529ms (14.226s including waiting). Image size: 45218413 bytes.\n",
      "48m         Normal   Created             pod/my-apache-856f76d9f8-sg5xp    Created container: httpd\n",
      "48m         Normal   Started             pod/my-apache-856f76d9f8-sg5xp    Started container httpd\n",
      "48m         Normal   Killing             pod/my-apache-856f76d9f8-sg5xp    Stopping container httpd\n",
      "49m         Normal   Scheduled           pod/my-apache-856f76d9f8-sh9z2    Successfully assigned default/my-apache-856f76d9f8-sh9z2 to docker-desktop\n",
      "49m         Normal   Pulling             pod/my-apache-856f76d9f8-sh9z2    Pulling image \"httpd\"\n",
      "49m         Normal   Pulled              pod/my-apache-856f76d9f8-sh9z2    Successfully pulled image \"httpd\" in 3.278s (3.278s including waiting). Image size: 45218413 bytes.\n",
      "49m         Normal   Created             pod/my-apache-856f76d9f8-sh9z2    Created container: httpd\n",
      "49m         Normal   Started             pod/my-apache-856f76d9f8-sh9z2    Started container httpd\n",
      "48m         Normal   Killing             pod/my-apache-856f76d9f8-sh9z2    Stopping container httpd\n",
      "49m         Normal   Scheduled           pod/my-apache-856f76d9f8-sj2pl    Successfully assigned default/my-apache-856f76d9f8-sj2pl to docker-desktop\n",
      "49m         Normal   Pulling             pod/my-apache-856f76d9f8-sj2pl    Pulling image \"httpd\"\n",
      "49m         Normal   Pulled              pod/my-apache-856f76d9f8-sj2pl    Successfully pulled image \"httpd\" in 501ms (10.782s including waiting). Image size: 45218413 bytes.\n",
      "49m         Normal   Created             pod/my-apache-856f76d9f8-sj2pl    Created container: httpd\n",
      "49m         Normal   Started             pod/my-apache-856f76d9f8-sj2pl    Started container httpd\n",
      "48m         Normal   Killing             pod/my-apache-856f76d9f8-sj2pl    Stopping container httpd\n",
      "49m         Normal   Scheduled           pod/my-apache-856f76d9f8-srqtw    Successfully assigned default/my-apache-856f76d9f8-srqtw to docker-desktop\n",
      "49m         Normal   Pulling             pod/my-apache-856f76d9f8-srqtw    Pulling image \"httpd\"\n",
      "49m         Normal   Pulled              pod/my-apache-856f76d9f8-srqtw    Successfully pulled image \"httpd\" in 477ms (3.539s including waiting). Image size: 45218413 bytes.\n",
      "49m         Normal   Created             pod/my-apache-856f76d9f8-srqtw    Created container: httpd\n",
      "49m         Normal   Started             pod/my-apache-856f76d9f8-srqtw    Started container httpd\n",
      "48m         Normal   Killing             pod/my-apache-856f76d9f8-srqtw    Stopping container httpd\n",
      "49m         Normal   Scheduled           pod/my-apache-856f76d9f8-t6ljh    Successfully assigned default/my-apache-856f76d9f8-t6ljh to docker-desktop\n",
      "49m         Normal   Pulling             pod/my-apache-856f76d9f8-t6ljh    Pulling image \"httpd\"\n",
      "49m         Normal   Pulled              pod/my-apache-856f76d9f8-t6ljh    Successfully pulled image \"httpd\" in 567ms (11.858s including waiting). Image size: 45218413 bytes.\n",
      "49m         Normal   Created             pod/my-apache-856f76d9f8-t6ljh    Created container: httpd\n",
      "49m         Normal   Started             pod/my-apache-856f76d9f8-t6ljh    Started container httpd\n",
      "48m         Normal   Killing             pod/my-apache-856f76d9f8-t6ljh    Stopping container httpd\n",
      "49m         Normal   Scheduled           pod/my-apache-856f76d9f8-tcqrx    Successfully assigned default/my-apache-856f76d9f8-tcqrx to docker-desktop\n",
      "49m         Normal   Pulling             pod/my-apache-856f76d9f8-tcqrx    Pulling image \"httpd\"\n",
      "48m         Normal   Pulled              pod/my-apache-856f76d9f8-tcqrx    Successfully pulled image \"httpd\" in 367ms (19.98s including waiting). Image size: 45218413 bytes.\n",
      "48m         Normal   Created             pod/my-apache-856f76d9f8-tcqrx    Created container: httpd\n",
      "48m         Normal   Started             pod/my-apache-856f76d9f8-tcqrx    Started container httpd\n",
      "48m         Normal   Killing             pod/my-apache-856f76d9f8-tcqrx    Stopping container httpd\n",
      "64s         Normal   Scheduled           pod/my-apache-856f76d9f8-tf5g4    Successfully assigned default/my-apache-856f76d9f8-tf5g4 to docker-desktop\n",
      "64s         Normal   Pulling             pod/my-apache-856f76d9f8-tf5g4    Pulling image \"httpd\"\n",
      "63s         Normal   Pulled              pod/my-apache-856f76d9f8-tf5g4    Successfully pulled image \"httpd\" in 588ms (588ms including waiting). Image size: 45218413 bytes.\n",
      "63s         Normal   Created             pod/my-apache-856f76d9f8-tf5g4    Created container: httpd\n",
      "63s         Normal   Started             pod/my-apache-856f76d9f8-tf5g4    Started container httpd\n",
      "49m         Normal   Scheduled           pod/my-apache-856f76d9f8-tpr4p    Successfully assigned default/my-apache-856f76d9f8-tpr4p to docker-desktop\n",
      "49m         Normal   Pulling             pod/my-apache-856f76d9f8-tpr4p    Pulling image \"httpd\"\n",
      "48m         Normal   Pulled              pod/my-apache-856f76d9f8-tpr4p    Successfully pulled image \"httpd\" in 515ms (16.201s including waiting). Image size: 45218413 bytes.\n",
      "48m         Normal   Created             pod/my-apache-856f76d9f8-tpr4p    Created container: httpd\n",
      "48m         Normal   Started             pod/my-apache-856f76d9f8-tpr4p    Started container httpd\n",
      "48m         Normal   Killing             pod/my-apache-856f76d9f8-tpr4p    Stopping container httpd\n",
      "49m         Normal   Scheduled           pod/my-apache-856f76d9f8-vthj6    Successfully assigned default/my-apache-856f76d9f8-vthj6 to docker-desktop\n",
      "49m         Normal   Pulling             pod/my-apache-856f76d9f8-vthj6    Pulling image \"httpd\"\n",
      "48m         Normal   Pulled              pod/my-apache-856f76d9f8-vthj6    Successfully pulled image \"httpd\" in 400ms (14.901s including waiting). Image size: 45218413 bytes.\n",
      "48m         Normal   Created             pod/my-apache-856f76d9f8-vthj6    Created container: httpd\n",
      "48m         Normal   Started             pod/my-apache-856f76d9f8-vthj6    Started container httpd\n",
      "48m         Normal   Killing             pod/my-apache-856f76d9f8-vthj6    Stopping container httpd\n",
      "49m         Normal   Scheduled           pod/my-apache-856f76d9f8-wzp86    Successfully assigned default/my-apache-856f76d9f8-wzp86 to docker-desktop\n",
      "49m         Normal   Pulling             pod/my-apache-856f76d9f8-wzp86    Pulling image \"httpd\"\n",
      "49m         Normal   Pulled              pod/my-apache-856f76d9f8-wzp86    Successfully pulled image \"httpd\" in 516ms (9.377s including waiting). Image size: 45218413 bytes.\n",
      "49m         Normal   Created             pod/my-apache-856f76d9f8-wzp86    Created container: httpd\n",
      "49m         Normal   Started             pod/my-apache-856f76d9f8-wzp86    Started container httpd\n",
      "48m         Normal   Killing             pod/my-apache-856f76d9f8-wzp86    Stopping container httpd\n",
      "49m         Normal   Scheduled           pod/my-apache-856f76d9f8-wzsws    Successfully assigned default/my-apache-856f76d9f8-wzsws to docker-desktop\n",
      "49m         Normal   Pulling             pod/my-apache-856f76d9f8-wzsws    Pulling image \"httpd\"\n",
      "49m         Normal   Pulled              pod/my-apache-856f76d9f8-wzsws    Successfully pulled image \"httpd\" in 485ms (4.238s including waiting). Image size: 45218413 bytes.\n",
      "49m         Normal   Created             pod/my-apache-856f76d9f8-wzsws    Created container: httpd\n",
      "49m         Normal   Started             pod/my-apache-856f76d9f8-wzsws    Started container httpd\n",
      "48m         Normal   Killing             pod/my-apache-856f76d9f8-wzsws    Stopping container httpd\n",
      "49m         Normal   Scheduled           pod/my-apache-856f76d9f8-x5qk4    Successfully assigned default/my-apache-856f76d9f8-x5qk4 to docker-desktop\n",
      "49m         Normal   Pulling             pod/my-apache-856f76d9f8-x5qk4    Pulling image \"httpd\"\n",
      "49m         Normal   Pulled              pod/my-apache-856f76d9f8-x5qk4    Successfully pulled image \"httpd\" in 524ms (6.556s including waiting). Image size: 45218413 bytes.\n",
      "49m         Normal   Created             pod/my-apache-856f76d9f8-x5qk4    Created container: httpd\n",
      "49m         Normal   Started             pod/my-apache-856f76d9f8-x5qk4    Started container httpd\n",
      "48m         Normal   Killing             pod/my-apache-856f76d9f8-x5qk4    Stopping container httpd\n",
      "49m         Normal   Scheduled           pod/my-apache-856f76d9f8-x69x5    Successfully assigned default/my-apache-856f76d9f8-x69x5 to docker-desktop\n",
      "49m         Normal   Pulling             pod/my-apache-856f76d9f8-x69x5    Pulling image \"httpd\"\n",
      "48m         Normal   Pulled              pod/my-apache-856f76d9f8-x69x5    Successfully pulled image \"httpd\" in 413ms (22.979s including waiting). Image size: 45218413 bytes.\n",
      "48m         Normal   Created             pod/my-apache-856f76d9f8-x69x5    Created container: httpd\n",
      "48m         Normal   Started             pod/my-apache-856f76d9f8-x69x5    Started container httpd\n",
      "48m         Normal   Killing             pod/my-apache-856f76d9f8-x69x5    Stopping container httpd\n",
      "49m         Normal   Scheduled           pod/my-apache-856f76d9f8-zt9b2    Successfully assigned default/my-apache-856f76d9f8-zt9b2 to docker-desktop\n",
      "49m         Normal   Pulling             pod/my-apache-856f76d9f8-zt9b2    Pulling image \"httpd\"\n",
      "48m         Normal   Pulled              pod/my-apache-856f76d9f8-zt9b2    Successfully pulled image \"httpd\" in 406ms (19.315s including waiting). Image size: 45218413 bytes.\n",
      "48m         Normal   Created             pod/my-apache-856f76d9f8-zt9b2    Created container: httpd\n",
      "48m         Normal   Started             pod/my-apache-856f76d9f8-zt9b2    Started container httpd\n",
      "48m         Normal   Killing             pod/my-apache-856f76d9f8-zt9b2    Stopping container httpd\n",
      "51m         Normal   SuccessfulCreate    replicaset/my-apache-856f76d9f8   Created pod: my-apache-856f76d9f8-fhdqq\n",
      "49m         Normal   SuccessfulCreate    replicaset/my-apache-856f76d9f8   Created pod: my-apache-856f76d9f8-sh9z2\n",
      "49m         Normal   SuccessfulCreate    replicaset/my-apache-856f76d9f8   Created pod: my-apache-856f76d9f8-gxmgk\n",
      "49m         Normal   SuccessfulCreate    replicaset/my-apache-856f76d9f8   Created pod: my-apache-856f76d9f8-5c69h\n",
      "49m         Normal   SuccessfulCreate    replicaset/my-apache-856f76d9f8   Created pod: my-apache-856f76d9f8-8h9s7\n",
      "49m         Normal   SuccessfulCreate    replicaset/my-apache-856f76d9f8   Created pod: my-apache-856f76d9f8-srqtw\n",
      "49m         Normal   SuccessfulCreate    replicaset/my-apache-856f76d9f8   Created pod: my-apache-856f76d9f8-8jnzz\n",
      "49m         Normal   SuccessfulCreate    replicaset/my-apache-856f76d9f8   Created pod: my-apache-856f76d9f8-wzsws\n",
      "49m         Normal   SuccessfulCreate    replicaset/my-apache-856f76d9f8   Created pod: my-apache-856f76d9f8-fk985\n",
      "49m         Normal   SuccessfulCreate    replicaset/my-apache-856f76d9f8   (combined from similar events): Created pod: my-apache-856f76d9f8-h4crc\n",
      "4m3s        Normal   SuccessfulCreate    replicaset/my-apache-856f76d9f8   Created pod: my-apache-856f76d9f8-8426p\n",
      "64s         Normal   SuccessfulCreate    replicaset/my-apache-856f76d9f8   Created pod: my-apache-856f76d9f8-tf5g4\n",
      "51m         Normal   ScalingReplicaSet   deployment/my-apache              Scaled up replica set my-apache-856f76d9f8 from 0 to 1\n",
      "49m         Normal   ScalingReplicaSet   deployment/my-apache              Scaled up replica set my-apache-856f76d9f8 from 1 to 50\n",
      "48m         Normal   ScalingReplicaSet   deployment/my-apache              Scaled down replica set my-apache-856f76d9f8 from 50 to 2\n",
      "53m         Normal   Killing             pod/my-nginx-5b584c864b-hmln8     Stopping container nginx\n",
      "53m         Normal   Killing             pod/my-nginx                      Stopping container my-nginx\n"
     ]
    }
   ],
   "source": [
    "!kubectl get events"
   ]
  },
  {
   "cell_type": "code",
   "execution_count": 25,
   "id": "67fdabae",
   "metadata": {},
   "outputs": [
    {
     "name": "stdout",
     "output_type": "stream",
     "text": [
      "AH00558: httpd: Could not reliably determine the server's fully qualified domain name, using 10.1.0.58. Set the 'ServerName' directive globally to suppress this message\n",
      "AH00558: httpd: Could not reliably determine the server's fully qualified domain name, using 10.1.0.58. Set the 'ServerName' directive globally to suppress this message\n",
      "[Sun Aug 17 22:08:37.143966 2025] [mpm_event:notice] [pid 1:tid 1] AH00489: Apache/2.4.65 (Unix) configured -- resuming normal operations\n",
      "[Sun Aug 17 22:08:37.144053 2025] [core:notice] [pid 1:tid 1] AH00094: Command line: 'httpd -D FOREGROUND'\n"
     ]
    },
    {
     "name": "stderr",
     "output_type": "stream",
     "text": [
      "Found 2 pods, using pod/my-apache-856f76d9f8-8426p\n"
     ]
    }
   ],
   "source": [
    "!kubectl logs deploy/my-apache"
   ]
  },
  {
   "cell_type": "code",
   "execution_count": null,
   "id": "76b056ba",
   "metadata": {},
   "outputs": [
    {
     "name": "stdout",
     "output_type": "stream",
     "text": [
      "^C\n"
     ]
    },
    {
     "name": "stdout",
     "output_type": "stream",
     "text": [
      "[Sun Aug 17 22:08:37.144053 2025] [core:notice] [pid 1:tid 1] AH00094: Command line: 'httpd -D FOREGROUND'\n",
      "[Sun Aug 17 22:25:24.397946 2025] [mpm_event:notice] [pid 1:tid 1] AH00492: caught SIGWINCH, shutting down gracefully\n"
     ]
    },
    {
     "name": "stderr",
     "output_type": "stream",
     "text": [
      "Found 2 pods, using pod/my-apache-856f76d9f8-8426p\n"
     ]
    }
   ],
   "source": [
    "!kubectl logs deploy/my-apache --follow --tail 1"
   ]
  },
  {
   "cell_type": "code",
   "execution_count": 28,
   "id": "802c29fb",
   "metadata": {},
   "outputs": [
    {
     "name": "stdout",
     "output_type": "stream",
     "text": [
      "NAME                         READY   STATUS    RESTARTS   AGE\n",
      "my-apache-856f76d9f8-8426p   1/1     Running   0          10m\n",
      "my-apache-856f76d9f8-tf5g4   1/1     Running   0          7m40s\n"
     ]
    }
   ],
   "source": [
    "!kubectl get pod"
   ]
  },
  {
   "cell_type": "code",
   "execution_count": 29,
   "id": "5c3035b8",
   "metadata": {},
   "outputs": [
    {
     "name": "stdout",
     "output_type": "stream",
     "text": [
      "AH00558: httpd: Could not reliably determine the server's fully qualified domain name, using 10.1.0.58. Set the 'ServerName' directive globally to suppress this message\n",
      "AH00558: httpd: Could not reliably determine the server's fully qualified domain name, using 10.1.0.58. Set the 'ServerName' directive globally to suppress this message\n",
      "[Sun Aug 17 22:08:37.143966 2025] [mpm_event:notice] [pid 1:tid 1] AH00489: Apache/2.4.65 (Unix) configured -- resuming normal operations\n",
      "[Sun Aug 17 22:08:37.144053 2025] [core:notice] [pid 1:tid 1] AH00094: Command line: 'httpd -D FOREGROUND'\n"
     ]
    }
   ],
   "source": [
    "!kubectl logs pod/my-apache-856f76d9f8-8426p -c httpd"
   ]
  },
  {
   "cell_type": "code",
   "execution_count": 31,
   "id": "723be082",
   "metadata": {},
   "outputs": [
    {
     "name": "stdout",
     "output_type": "stream",
     "text": [
      "AH00558: httpd: Could not reliably determine the server's fully qualified domain name, using 10.1.0.58. Set the 'ServerName' directive globally to suppress this message\n",
      "AH00558: httpd: Could not reliably determine the server's fully qualified domain name, using 10.1.0.58. Set the 'ServerName' directive globally to suppress this message\n",
      "[Sun Aug 17 22:08:37.143966 2025] [mpm_event:notice] [pid 1:tid 1] AH00489: Apache/2.4.65 (Unix) configured -- resuming normal operations\n",
      "[Sun Aug 17 22:08:37.144053 2025] [core:notice] [pid 1:tid 1] AH00094: Command line: 'httpd -D FOREGROUND'\n"
     ]
    }
   ],
   "source": [
    "!kubectl logs pod/my-apache-856f76d9f8-8426p --all-containers=true"
   ]
  },
  {
   "cell_type": "code",
   "execution_count": 33,
   "id": "7eb9094f",
   "metadata": {},
   "outputs": [
    {
     "name": "stdout",
     "output_type": "stream",
     "text": [
      "Name:                   my-apache\n",
      "Namespace:              default\n",
      "CreationTimestamp:      Sun, 17 Aug 2025 17:21:25 -0400\n",
      "Labels:                 app=my-apache\n",
      "Annotations:            deployment.kubernetes.io/revision: 1\n",
      "Selector:               app=my-apache\n",
      "Replicas:               2 desired | 2 updated | 2 total | 2 available | 0 unavailable\n",
      "StrategyType:           RollingUpdate\n",
      "MinReadySeconds:        0\n",
      "RollingUpdateStrategy:  25% max unavailable, 25% max surge\n",
      "Pod Template:\n",
      "  Labels:  app=my-apache\n",
      "  Containers:\n",
      "   httpd:\n",
      "    Image:         httpd\n",
      "    Port:          <none>\n",
      "    Host Port:     <none>\n",
      "    Environment:   <none>\n",
      "    Mounts:        <none>\n",
      "  Volumes:         <none>\n",
      "  Node-Selectors:  <none>\n",
      "  Tolerations:     <none>\n",
      "Conditions:\n",
      "  Type           Status  Reason\n",
      "  ----           ------  ------\n",
      "  Progressing    True    NewReplicaSetAvailable\n",
      "  Available      True    MinimumReplicasAvailable\n",
      "OldReplicaSets:  <none>\n",
      "NewReplicaSet:   my-apache-856f76d9f8 (2/2 replicas created)\n",
      "Events:\n",
      "  Type    Reason             Age   From                   Message\n",
      "  ----    ------             ----  ----                   -------\n",
      "  Normal  ScalingReplicaSet  59m   deployment-controller  Scaled up replica set my-apache-856f76d9f8 from 1 to 50\n",
      "  Normal  ScalingReplicaSet  58m   deployment-controller  Scaled down replica set my-apache-856f76d9f8 from 50 to 2\n"
     ]
    }
   ],
   "source": [
    "!kubectl describe deploy my-apache"
   ]
  },
  {
   "cell_type": "code",
   "execution_count": 34,
   "id": "09981966",
   "metadata": {},
   "outputs": [
    {
     "name": "stdout",
     "output_type": "stream",
     "text": [
      "AH00558: httpd: Could not reliably determine the server's fully qualified domain name, using 10.1.0.58. Set the 'ServerName' directive globally to suppress this message\n",
      "AH00558: httpd: Could not reliably determine the server's fully qualified domain name, using 10.1.0.58. Set the 'ServerName' directive globally to suppress this message\n",
      "[Sun Aug 17 22:08:37.143966 2025] [mpm_event:notice] [pid 1:tid 1] AH00489: Apache/2.4.65 (Unix) configured -- resuming normal operations\n",
      "[Sun Aug 17 22:08:37.144053 2025] [core:notice] [pid 1:tid 1] AH00094: Command line: 'httpd -D FOREGROUND'\n",
      "AH00558: httpd: Could not reliably determine the server's fully qualified domain name, using 10.1.0.59. Set the 'ServerName' directive globally to suppress this message\n",
      "AH00558: httpd: Could not reliably determine the server's fully qualified domain name, using 10.1.0.59. Set the 'ServerName' directive globally to suppress this message\n",
      "[Sun Aug 17 22:11:35.693992 2025] [mpm_event:notice] [pid 1:tid 1] AH00489: Apache/2.4.65 (Unix) configured -- resuming normal operations\n",
      "[Sun Aug 17 22:11:35.694084 2025] [core:notice] [pid 1:tid 1] AH00094: Command line: 'httpd -D FOREGROUND'\n"
     ]
    }
   ],
   "source": [
    "!kubectl logs -l app=my-apache"
   ]
  },
  {
   "cell_type": "code",
   "execution_count": 35,
   "id": "3a0dff57",
   "metadata": {},
   "outputs": [
    {
     "name": "stdout",
     "output_type": "stream",
     "text": [
      "deployment.apps \"my-apache\" deleted\n"
     ]
    }
   ],
   "source": [
    "!kubectl delete deployment my-apache"
   ]
  },
  {
   "cell_type": "code",
   "execution_count": null,
   "id": "96991861",
   "metadata": {},
   "outputs": [],
   "source": []
  }
 ],
 "metadata": {
  "kernelspec": {
   "display_name": ".venv",
   "language": "python",
   "name": "python3"
  },
  "language_info": {
   "codemirror_mode": {
    "name": "ipython",
    "version": 3
   },
   "file_extension": ".py",
   "mimetype": "text/x-python",
   "name": "python",
   "nbconvert_exporter": "python",
   "pygments_lexer": "ipython3",
   "version": "3.13.5"
  }
 },
 "nbformat": 4,
 "nbformat_minor": 5
}
