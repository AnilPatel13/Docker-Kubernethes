{
 "cells": [
  {
   "cell_type": "code",
   "execution_count": 23,
   "id": "214367e6",
   "metadata": {},
   "outputs": [
    {
     "name": "stdout",
     "output_type": "stream",
     "text": [
      "pod/color-api created\n",
      "namespace/dev unchanged\n"
     ]
    }
   ],
   "source": [
    "!kubectl apply -f ."
   ]
  },
  {
   "cell_type": "code",
   "execution_count": 2,
   "id": "5d70e33a",
   "metadata": {},
   "outputs": [
    {
     "name": "stdout",
     "output_type": "stream",
     "text": [
      "NAME              STATUS   AGE\n",
      "default           Active   46h\n",
      "dev               Active   6s\n",
      "kube-node-lease   Active   46h\n",
      "kube-public       Active   46h\n",
      "kube-system       Active   46h\n"
     ]
    }
   ],
   "source": [
    "!kubectl get namespace"
   ]
  },
  {
   "cell_type": "code",
   "execution_count": 3,
   "id": "49ef7b28",
   "metadata": {},
   "outputs": [
    {
     "name": "stderr",
     "output_type": "stream",
     "text": [
      "No resources found in default namespace.\n"
     ]
    }
   ],
   "source": [
    "!kubectl get pods"
   ]
  },
  {
   "cell_type": "code",
   "execution_count": 4,
   "id": "fda30658",
   "metadata": {},
   "outputs": [
    {
     "name": "stdout",
     "output_type": "stream",
     "text": [
      "NAME                                     READY   STATUS    RESTARTS        AGE\n",
      "coredns-668d6bf9bc-dp7ln                 1/1     Running   1 (6h59m ago)   46h\n",
      "coredns-668d6bf9bc-f7sh4                 1/1     Running   1 (6h59m ago)   46h\n",
      "etcd-docker-desktop                      1/1     Running   1 (6h59m ago)   46h\n",
      "kube-apiserver-docker-desktop            1/1     Running   1 (6h59m ago)   46h\n",
      "kube-controller-manager-docker-desktop   1/1     Running   1 (6h59m ago)   46h\n",
      "kube-proxy-7hl4l                         1/1     Running   1 (6h59m ago)   46h\n",
      "kube-scheduler-docker-desktop            1/1     Running   1 (6h59m ago)   46h\n",
      "storage-provisioner                      1/1     Running   2 (6h58m ago)   46h\n",
      "vpnkit-controller                        1/1     Running   1 (6h59m ago)   46h\n"
     ]
    }
   ],
   "source": [
    "!kubectl get pods --namespace kube-system"
   ]
  },
  {
   "cell_type": "code",
   "execution_count": 5,
   "id": "61df95b6",
   "metadata": {},
   "outputs": [
    {
     "name": "stdout",
     "output_type": "stream",
     "text": [
      "pod/color-api created\n",
      "namespace/dev unchanged\n"
     ]
    }
   ],
   "source": [
    "!kubectl apply -f ."
   ]
  },
  {
   "cell_type": "code",
   "execution_count": 6,
   "id": "ba12195a",
   "metadata": {},
   "outputs": [
    {
     "name": "stderr",
     "output_type": "stream",
     "text": [
      "No resources found in default namespace.\n"
     ]
    }
   ],
   "source": [
    "!kubectl get pods"
   ]
  },
  {
   "cell_type": "code",
   "execution_count": 7,
   "id": "6cd23a9f",
   "metadata": {},
   "outputs": [
    {
     "name": "stdout",
     "output_type": "stream",
     "text": [
      "NAME        READY   STATUS    RESTARTS   AGE\n",
      "color-api   1/1     Running   0          20s\n"
     ]
    }
   ],
   "source": [
    "!kubectl get pod -n dev"
   ]
  },
  {
   "cell_type": "code",
   "execution_count": 8,
   "id": "63b581f4",
   "metadata": {},
   "outputs": [
    {
     "name": "stdout",
     "output_type": "stream",
     "text": [
      "Name:             color-api\n",
      "Namespace:        dev\n",
      "Priority:         0\n",
      "Service Account:  default\n",
      "Node:             docker-desktop/192.168.65.3\n",
      "Start Time:       Sat, 30 Aug 2025 18:29:16 -0400\n",
      "Labels:           name=color-api\n",
      "Annotations:      <none>\n",
      "Status:           Running\n",
      "IP:               10.1.1.97\n",
      "IPs:\n",
      "  IP:  10.1.1.97\n",
      "Containers:\n",
      "  color-api:\n",
      "    Container ID:   docker://edcaef430c420b10d1ef488b5c157f8533c8d152b24ab7a4b700591a7bcb1d31\n",
      "    Image:          anil1318/color-api:1.1.0\n",
      "    Image ID:       docker-pullable://anil1318/color-api@sha256:d2ed1442bbc67fcc6a58b73a5c4fd13ba00e7ffa200c7c0c06073826baca79b4\n",
      "    Port:           80/TCP\n",
      "    Host Port:      0/TCP\n",
      "    State:          Running\n",
      "      Started:      Sat, 30 Aug 2025 18:29:17 -0400\n",
      "    Ready:          True\n",
      "    Restart Count:  0\n",
      "    Environment:    <none>\n",
      "    Mounts:\n",
      "      /var/run/secrets/kubernetes.io/serviceaccount from kube-api-access-x7hq4 (ro)\n",
      "Conditions:\n",
      "  Type                        Status\n",
      "  PodReadyToStartContainers   True \n",
      "  Initialized                 True \n",
      "  Ready                       True \n",
      "  ContainersReady             True \n",
      "  PodScheduled                True \n",
      "Volumes:\n",
      "  kube-api-access-x7hq4:\n",
      "    Type:                    Projected (a volume that contains injected data from multiple sources)\n",
      "    TokenExpirationSeconds:  3607\n",
      "    ConfigMapName:           kube-root-ca.crt\n",
      "    ConfigMapOptional:       <nil>\n",
      "    DownwardAPI:             true\n",
      "QoS Class:                   BestEffort\n",
      "Node-Selectors:              <none>\n",
      "Tolerations:                 node.kubernetes.io/not-ready:NoExecute op=Exists for 300s\n",
      "                             node.kubernetes.io/unreachable:NoExecute op=Exists for 300s\n",
      "Events:\n",
      "  Type    Reason     Age   From               Message\n",
      "  ----    ------     ----  ----               -------\n",
      "  Normal  Scheduled  42s   default-scheduler  Successfully assigned dev/color-api to docker-desktop\n",
      "  Normal  Pulled     41s   kubelet            Container image \"anil1318/color-api:1.1.0\" already present on machine\n",
      "  Normal  Created    41s   kubelet            Created container: color-api\n",
      "  Normal  Started    41s   kubelet            Started container color-api\n"
     ]
    }
   ],
   "source": [
    "!kubectl describe pod color-api -n dev"
   ]
  },
  {
   "cell_type": "code",
   "execution_count": 9,
   "id": "e26b5b65",
   "metadata": {},
   "outputs": [
    {
     "name": "stdout",
     "output_type": "stream",
     "text": [
      "docker-desktop\n"
     ]
    }
   ],
   "source": [
    "!kubectl config current-context"
   ]
  },
  {
   "cell_type": "code",
   "execution_count": 10,
   "id": "5f819bb0",
   "metadata": {},
   "outputs": [
    {
     "name": "stdout",
     "output_type": "stream",
     "text": [
      "Context \"docker-desktop\" modified.\n"
     ]
    }
   ],
   "source": [
    "!kubectl config set-context --current --namespace=dev"
   ]
  },
  {
   "cell_type": "code",
   "execution_count": 11,
   "id": "3e30e965",
   "metadata": {},
   "outputs": [
    {
     "name": "stdout",
     "output_type": "stream",
     "text": [
      "NAME        READY   STATUS    RESTARTS   AGE\n",
      "color-api   1/1     Running   0          107s\n"
     ]
    }
   ],
   "source": [
    "!kubectl get pods"
   ]
  },
  {
   "cell_type": "code",
   "execution_count": 12,
   "id": "a23463f6",
   "metadata": {},
   "outputs": [
    {
     "name": "stdout",
     "output_type": "stream",
     "text": [
      "Name:             color-api\n",
      "Namespace:        dev\n",
      "Priority:         0\n",
      "Service Account:  default\n",
      "Node:             docker-desktop/192.168.65.3\n",
      "Start Time:       Sat, 30 Aug 2025 18:29:16 -0400\n",
      "Labels:           name=color-api\n",
      "Annotations:      <none>\n",
      "Status:           Running\n",
      "IP:               10.1.1.97\n",
      "IPs:\n",
      "  IP:  10.1.1.97\n",
      "Containers:\n",
      "  color-api:\n",
      "    Container ID:   docker://edcaef430c420b10d1ef488b5c157f8533c8d152b24ab7a4b700591a7bcb1d31\n",
      "    Image:          anil1318/color-api:1.1.0\n",
      "    Image ID:       docker-pullable://anil1318/color-api@sha256:d2ed1442bbc67fcc6a58b73a5c4fd13ba00e7ffa200c7c0c06073826baca79b4\n",
      "    Port:           80/TCP\n",
      "    Host Port:      0/TCP\n",
      "    State:          Running\n",
      "      Started:      Sat, 30 Aug 2025 18:29:17 -0400\n",
      "    Ready:          True\n",
      "    Restart Count:  0\n",
      "    Environment:    <none>\n",
      "    Mounts:\n",
      "      /var/run/secrets/kubernetes.io/serviceaccount from kube-api-access-x7hq4 (ro)\n",
      "Conditions:\n",
      "  Type                        Status\n",
      "  PodReadyToStartContainers   True \n",
      "  Initialized                 True \n",
      "  Ready                       True \n",
      "  ContainersReady             True \n",
      "  PodScheduled                True \n",
      "Volumes:\n",
      "  kube-api-access-x7hq4:\n",
      "    Type:                    Projected (a volume that contains injected data from multiple sources)\n",
      "    TokenExpirationSeconds:  3607\n",
      "    ConfigMapName:           kube-root-ca.crt\n",
      "    ConfigMapOptional:       <nil>\n",
      "    DownwardAPI:             true\n",
      "QoS Class:                   BestEffort\n",
      "Node-Selectors:              <none>\n",
      "Tolerations:                 node.kubernetes.io/not-ready:NoExecute op=Exists for 300s\n",
      "                             node.kubernetes.io/unreachable:NoExecute op=Exists for 300s\n",
      "Events:\n",
      "  Type    Reason     Age   From               Message\n",
      "  ----    ------     ----  ----               -------\n",
      "  Normal  Scheduled  119s  default-scheduler  Successfully assigned dev/color-api to docker-desktop\n",
      "  Normal  Pulled     119s  kubelet            Container image \"anil1318/color-api:1.1.0\" already present on machine\n",
      "  Normal  Created    119s  kubelet            Created container: color-api\n",
      "  Normal  Started    119s  kubelet            Started container color-api\n"
     ]
    }
   ],
   "source": [
    "!kubectl describe pods color-api"
   ]
  },
  {
   "cell_type": "code",
   "execution_count": 13,
   "id": "4b781297",
   "metadata": {},
   "outputs": [
    {
     "name": "stdout",
     "output_type": "stream",
     "text": [
      "apiVersion: v1\n",
      "clusters:\n",
      "- cluster:\n",
      "    certificate-authority-data: DATA+OMITTED\n",
      "    server: https://kubernetes.docker.internal:6443\n",
      "  name: docker-desktop\n",
      "contexts:\n",
      "- context:\n",
      "    cluster: docker-desktop\n",
      "    namespace: dev\n",
      "    user: docker-desktop\n",
      "  name: docker-desktop\n",
      "current-context: docker-desktop\n",
      "kind: Config\n",
      "preferences: {}\n",
      "users:\n",
      "- name: docker-desktop\n",
      "  user:\n",
      "    client-certificate-data: DATA+OMITTED\n",
      "    client-key-data: DATA+OMITTED\n"
     ]
    }
   ],
   "source": [
    "!kubectl config view"
   ]
  },
  {
   "cell_type": "code",
   "execution_count": 14,
   "id": "a73728de",
   "metadata": {},
   "outputs": [
    {
     "name": "stdout",
     "output_type": "stream",
     "text": [
      "Context \"docker-desktop\" modified.\n"
     ]
    }
   ],
   "source": [
    "!kubectl config set-context --current --namespace=default"
   ]
  },
  {
   "cell_type": "code",
   "execution_count": 16,
   "id": "a83cef0b",
   "metadata": {},
   "outputs": [
    {
     "name": "stderr",
     "output_type": "stream",
     "text": [
      "No resources found in default namespace.\n"
     ]
    }
   ],
   "source": [
    "!kubectl get pods"
   ]
  },
  {
   "cell_type": "code",
   "execution_count": 17,
   "id": "2daf07cf",
   "metadata": {},
   "outputs": [
    {
     "name": "stdout",
     "output_type": "stream",
     "text": [
      "NAME        READY   STATUS    RESTARTS   AGE\n",
      "color-api   1/1     Running   0          4m54s\n"
     ]
    }
   ],
   "source": [
    "!kubectl get pods -n dev"
   ]
  },
  {
   "cell_type": "code",
   "execution_count": 18,
   "id": "d71c7a1e",
   "metadata": {},
   "outputs": [
    {
     "name": "stdout",
     "output_type": "stream",
     "text": [
      "NAMESPACE     NAME                                     READY   STATUS    RESTARTS       AGE\n",
      "dev           color-api                                1/1     Running   0              5m20s\n",
      "kube-system   coredns-668d6bf9bc-dp7ln                 1/1     Running   1 (7h7m ago)   46h\n",
      "kube-system   coredns-668d6bf9bc-f7sh4                 1/1     Running   1 (7h7m ago)   46h\n",
      "kube-system   etcd-docker-desktop                      1/1     Running   1 (7h7m ago)   46h\n",
      "kube-system   kube-apiserver-docker-desktop            1/1     Running   1 (7h7m ago)   46h\n",
      "kube-system   kube-controller-manager-docker-desktop   1/1     Running   1 (7h7m ago)   46h\n",
      "kube-system   kube-proxy-7hl4l                         1/1     Running   1 (7h7m ago)   46h\n",
      "kube-system   kube-scheduler-docker-desktop            1/1     Running   1 (7h7m ago)   46h\n",
      "kube-system   storage-provisioner                      1/1     Running   2 (7h6m ago)   46h\n",
      "kube-system   vpnkit-controller                        1/1     Running   1 (7h7m ago)   46h\n"
     ]
    }
   ],
   "source": [
    "!kubectl get pods --all-namespaces"
   ]
  },
  {
   "cell_type": "code",
   "execution_count": 19,
   "id": "d4d02dfa",
   "metadata": {},
   "outputs": [
    {
     "name": "stdout",
     "output_type": "stream",
     "text": [
      "NAMESPACE     NAME                                     READY   STATUS    RESTARTS       AGE\n",
      "dev           color-api                                1/1     Running   0              5m40s\n",
      "kube-system   coredns-668d6bf9bc-dp7ln                 1/1     Running   1 (7h7m ago)   46h\n",
      "kube-system   coredns-668d6bf9bc-f7sh4                 1/1     Running   1 (7h7m ago)   46h\n",
      "kube-system   etcd-docker-desktop                      1/1     Running   1 (7h7m ago)   46h\n",
      "kube-system   kube-apiserver-docker-desktop            1/1     Running   1 (7h7m ago)   46h\n",
      "kube-system   kube-controller-manager-docker-desktop   1/1     Running   1 (7h7m ago)   46h\n",
      "kube-system   kube-proxy-7hl4l                         1/1     Running   1 (7h7m ago)   46h\n",
      "kube-system   kube-scheduler-docker-desktop            1/1     Running   1 (7h7m ago)   46h\n",
      "kube-system   storage-provisioner                      1/1     Running   2 (7h6m ago)   46h\n",
      "kube-system   vpnkit-controller                        1/1     Running   1 (7h7m ago)   46h\n"
     ]
    }
   ],
   "source": [
    "!kubectl get pods -A"
   ]
  },
  {
   "cell_type": "code",
   "execution_count": 24,
   "id": "0051f459",
   "metadata": {},
   "outputs": [
    {
     "name": "stdout",
     "output_type": "stream",
     "text": [
      "namespace \"dev\" deleted\n"
     ]
    }
   ],
   "source": [
    "!kubectl delete -f dev-ns.yaml"
   ]
  },
  {
   "cell_type": "code",
   "execution_count": 26,
   "id": "65a06478",
   "metadata": {},
   "outputs": [
    {
     "name": "stdout",
     "output_type": "stream",
     "text": [
      "NAMESPACE     NAME                                     READY   STATUS    RESTARTS       AGE\n",
      "kube-system   coredns-668d6bf9bc-dp7ln                 1/1     Running   1 (7h8m ago)   46h\n",
      "kube-system   coredns-668d6bf9bc-f7sh4                 1/1     Running   1 (7h8m ago)   46h\n",
      "kube-system   etcd-docker-desktop                      1/1     Running   1 (7h8m ago)   46h\n",
      "kube-system   kube-apiserver-docker-desktop            1/1     Running   1 (7h8m ago)   46h\n",
      "kube-system   kube-controller-manager-docker-desktop   1/1     Running   1 (7h8m ago)   46h\n",
      "kube-system   kube-proxy-7hl4l                         1/1     Running   1 (7h8m ago)   46h\n",
      "kube-system   kube-scheduler-docker-desktop            1/1     Running   1 (7h8m ago)   46h\n",
      "kube-system   storage-provisioner                      1/1     Running   2 (7h8m ago)   46h\n",
      "kube-system   vpnkit-controller                        1/1     Running   1 (7h8m ago)   46h\n"
     ]
    }
   ],
   "source": [
    "!kubectl get pods -A"
   ]
  },
  {
   "cell_type": "markdown",
   "id": "85cfe6b4",
   "metadata": {},
   "source": [
    "# Running cross Namespaces usig FQDN"
   ]
  },
  {
   "cell_type": "code",
   "execution_count": 27,
   "id": "9cc1f979",
   "metadata": {},
   "outputs": [
    {
     "name": "stdout",
     "output_type": "stream",
     "text": [
      "namespace/dev created\n",
      "namespace/prod created\n",
      "pod/traffic-genrator created\n"
     ]
    },
    {
     "name": "stderr",
     "output_type": "stream",
     "text": [
      "Error from server (NotFound): error when creating \"color-api.yaml\": namespaces \"prod\" not found\n",
      "Error from server (NotFound): error when creating \"color-api.yaml\": namespaces \"prod\" not found\n"
     ]
    }
   ],
   "source": [
    "!kubectl apply -f ."
   ]
  },
  {
   "cell_type": "code",
   "execution_count": 28,
   "id": "c3b4582c",
   "metadata": {},
   "outputs": [
    {
     "name": "stdout",
     "output_type": "stream",
     "text": [
      "NAME              STATUS   AGE\n",
      "default           Active   46h\n",
      "dev               Active   9s\n",
      "kube-node-lease   Active   46h\n",
      "kube-public       Active   46h\n",
      "kube-system       Active   46h\n",
      "prod              Active   9s\n"
     ]
    }
   ],
   "source": [
    "!kubectl get ns"
   ]
  },
  {
   "cell_type": "code",
   "execution_count": 29,
   "id": "8510a5b3",
   "metadata": {},
   "outputs": [
    {
     "name": "stdout",
     "output_type": "stream",
     "text": [
      "pod/color-api created\n",
      "service/color-api-svc created\n",
      "namespace/dev unchanged\n",
      "namespace/prod unchanged\n",
      "pod/traffic-genrator unchanged\n"
     ]
    }
   ],
   "source": [
    "!kubectl apply -f ."
   ]
  },
  {
   "cell_type": "code",
   "execution_count": 30,
   "id": "dd4c78c9",
   "metadata": {},
   "outputs": [
    {
     "name": "stdout",
     "output_type": "stream",
     "text": [
      "NAMESPACE     NAME                                     READY   STATUS    RESTARTS        AGE\n",
      "dev           traffic-genrator                         1/1     Running   0               30s\n",
      "kube-system   coredns-668d6bf9bc-dp7ln                 1/1     Running   1 (7h19m ago)   46h\n",
      "kube-system   coredns-668d6bf9bc-f7sh4                 1/1     Running   1 (7h19m ago)   46h\n",
      "kube-system   etcd-docker-desktop                      1/1     Running   1 (7h19m ago)   46h\n",
      "kube-system   kube-apiserver-docker-desktop            1/1     Running   1 (7h19m ago)   46h\n",
      "kube-system   kube-controller-manager-docker-desktop   1/1     Running   1 (7h19m ago)   46h\n",
      "kube-system   kube-proxy-7hl4l                         1/1     Running   1 (7h19m ago)   46h\n",
      "kube-system   kube-scheduler-docker-desktop            1/1     Running   1 (7h19m ago)   46h\n",
      "kube-system   storage-provisioner                      1/1     Running   2 (7h19m ago)   46h\n",
      "kube-system   vpnkit-controller                        1/1     Running   1 (7h19m ago)   46h\n",
      "prod          color-api                                1/1     Running   0               13s\n"
     ]
    }
   ],
   "source": [
    "!kubectl get pods -A"
   ]
  },
  {
   "cell_type": "code",
   "execution_count": 31,
   "id": "77399b62",
   "metadata": {},
   "outputs": [
    {
     "name": "stdout",
     "output_type": "stream",
     "text": [
      "Sending request to color-api-svc.prod.svc.cluster.local/api every 0.5 seconds..\n",
      "2025-08-30 22:46:50 \n",
      "2025-08-30 22:46:50 \n",
      "2025-08-30 22:46:51 \n",
      "2025-08-30 22:46:51 \n",
      "2025-08-30 22:46:52 \n",
      "2025-08-30 22:46:52 \n",
      "2025-08-30 22:46:53 \n",
      "2025-08-30 22:46:53 \n",
      "2025-08-30 22:46:54 \n",
      "2025-08-30 22:46:54 \n",
      "2025-08-30 22:46:55 \n",
      "2025-08-30 22:46:55 \n",
      "2025-08-30 22:46:56 \n",
      "2025-08-30 22:46:56 \n",
      "2025-08-30 22:46:57 \n",
      "2025-08-30 22:46:57 \n",
      "2025-08-30 22:46:58 \n",
      "2025-08-30 22:46:58 \n",
      "2025-08-30 22:46:59 \n",
      "2025-08-30 22:46:59 \n",
      "2025-08-30 22:47:00 \n",
      "2025-08-30 22:47:00 \n",
      "2025-08-30 22:47:01 \n",
      "2025-08-30 22:47:02 \n",
      "2025-08-30 22:47:02 \n",
      "2025-08-30 22:47:03 \n",
      "2025-08-30 22:47:03 \n",
      "2025-08-30 22:47:04 \n",
      "2025-08-30 22:47:04 \n",
      "2025-08-30 22:47:05 \n",
      "2025-08-30 22:47:05 \n",
      "2025-08-30 22:47:06 \n",
      "2025-08-30 22:47:06 \n",
      "2025-08-30 22:47:07 \n",
      "2025-08-30 22:47:07 \n",
      "2025-08-30 22:47:08 \n",
      "2025-08-30 22:47:08 COLOR : blue, HOSTNAME : color-api\n",
      "2025-08-30 22:47:09 COLOR : blue, HOSTNAME : color-api\n",
      "2025-08-30 22:47:09 COLOR : blue, HOSTNAME : color-api\n",
      "2025-08-30 22:47:10 COLOR : blue, HOSTNAME : color-api\n",
      "2025-08-30 22:47:10 COLOR : blue, HOSTNAME : color-api\n",
      "2025-08-30 22:47:11 COLOR : blue, HOSTNAME : color-api\n",
      "2025-08-30 22:47:11 COLOR : blue, HOSTNAME : color-api\n",
      "2025-08-30 22:47:12 COLOR : blue, HOSTNAME : color-api\n",
      "2025-08-30 22:47:12 COLOR : blue, HOSTNAME : color-api\n",
      "2025-08-30 22:47:13 COLOR : blue, HOSTNAME : color-api\n",
      "2025-08-30 22:47:13 COLOR : blue, HOSTNAME : color-api\n",
      "2025-08-30 22:47:14 COLOR : blue, HOSTNAME : color-api\n",
      "2025-08-30 22:47:14 COLOR : blue, HOSTNAME : color-api\n",
      "2025-08-30 22:47:15 COLOR : blue, HOSTNAME : color-api\n",
      "2025-08-30 22:47:15 COLOR : blue, HOSTNAME : color-api\n",
      "2025-08-30 22:47:16 COLOR : blue, HOSTNAME : color-api\n",
      "2025-08-30 22:47:16 COLOR : blue, HOSTNAME : color-api\n",
      "2025-08-30 22:47:17 COLOR : blue, HOSTNAME : color-api\n",
      "2025-08-30 22:47:17 COLOR : blue, HOSTNAME : color-api\n",
      "2025-08-30 22:47:18 COLOR : blue, HOSTNAME : color-api\n",
      "2025-08-30 22:47:18 COLOR : blue, HOSTNAME : color-api\n",
      "2025-08-30 22:47:19 COLOR : blue, HOSTNAME : color-api\n",
      "2025-08-30 22:47:19 COLOR : blue, HOSTNAME : color-api\n",
      "2025-08-30 22:47:20 COLOR : blue, HOSTNAME : color-api\n",
      "2025-08-30 22:47:20 COLOR : blue, HOSTNAME : color-api\n",
      "2025-08-30 22:47:21 COLOR : blue, HOSTNAME : color-api\n",
      "2025-08-30 22:47:21 COLOR : blue, HOSTNAME : color-api\n",
      "2025-08-30 22:47:22 COLOR : blue, HOSTNAME : color-api\n",
      "2025-08-30 22:47:22 COLOR : blue, HOSTNAME : color-api\n",
      "2025-08-30 22:47:23 COLOR : blue, HOSTNAME : color-api\n",
      "2025-08-30 22:47:23 COLOR : blue, HOSTNAME : color-api\n",
      "2025-08-30 22:47:24 COLOR : blue, HOSTNAME : color-api\n",
      "2025-08-30 22:47:24 COLOR : blue, HOSTNAME : color-api\n",
      "2025-08-30 22:47:25 COLOR : blue, HOSTNAME : color-api\n",
      "2025-08-30 22:47:25 COLOR : blue, HOSTNAME : color-api\n",
      "2025-08-30 22:47:26 COLOR : blue, HOSTNAME : color-api\n",
      "2025-08-30 22:47:26 COLOR : blue, HOSTNAME : color-api\n",
      "2025-08-30 22:47:27 COLOR : blue, HOSTNAME : color-api\n",
      "2025-08-30 22:47:27 COLOR : blue, HOSTNAME : color-api\n",
      "2025-08-30 22:47:28 COLOR : blue, HOSTNAME : color-api\n",
      "2025-08-30 22:47:28 COLOR : blue, HOSTNAME : color-api\n",
      "2025-08-30 22:47:29 COLOR : blue, HOSTNAME : color-api\n",
      "2025-08-30 22:47:29 COLOR : blue, HOSTNAME : color-api\n",
      "2025-08-30 22:47:30 COLOR : blue, HOSTNAME : color-api\n",
      "2025-08-30 22:47:30 COLOR : blue, HOSTNAME : color-api\n",
      "2025-08-30 22:47:31 COLOR : blue, HOSTNAME : color-api\n",
      "2025-08-30 22:47:31 COLOR : blue, HOSTNAME : color-api\n",
      "2025-08-30 22:47:32 COLOR : blue, HOSTNAME : color-api\n",
      "2025-08-30 22:47:32 COLOR : blue, HOSTNAME : color-api\n",
      "2025-08-30 22:47:33 COLOR : blue, HOSTNAME : color-api\n",
      "2025-08-30 22:47:33 COLOR : blue, HOSTNAME : color-api\n",
      "2025-08-30 22:47:34 COLOR : blue, HOSTNAME : color-api\n",
      "2025-08-30 22:47:34 COLOR : blue, HOSTNAME : color-api\n",
      "2025-08-30 22:47:35 COLOR : blue, HOSTNAME : color-api\n",
      "2025-08-30 22:47:35 COLOR : blue, HOSTNAME : color-api\n",
      "2025-08-30 22:47:36 COLOR : blue, HOSTNAME : color-api\n",
      "2025-08-30 22:47:36 COLOR : blue, HOSTNAME : color-api\n",
      "2025-08-30 22:47:37 COLOR : blue, HOSTNAME : color-api\n",
      "2025-08-30 22:47:37 COLOR : blue, HOSTNAME : color-api\n",
      "2025-08-30 22:47:38 COLOR : blue, HOSTNAME : color-api\n",
      "2025-08-30 22:47:38 COLOR : blue, HOSTNAME : color-api\n",
      "2025-08-30 22:47:39 COLOR : blue, HOSTNAME : color-api\n",
      "2025-08-30 22:47:39 COLOR : blue, HOSTNAME : color-api\n",
      "2025-08-30 22:47:40 COLOR : blue, HOSTNAME : color-api\n",
      "2025-08-30 22:47:40 COLOR : blue, HOSTNAME : color-api\n",
      "2025-08-30 22:47:41 COLOR : blue, HOSTNAME : color-api\n",
      "2025-08-30 22:47:41 COLOR : blue, HOSTNAME : color-api\n",
      "2025-08-30 22:47:42 COLOR : blue, HOSTNAME : color-api\n",
      "2025-08-30 22:47:42 COLOR : blue, HOSTNAME : color-api\n",
      "2025-08-30 22:47:43 COLOR : blue, HOSTNAME : color-api\n",
      "2025-08-30 22:47:43 COLOR : blue, HOSTNAME : color-api\n"
     ]
    }
   ],
   "source": [
    "!kubectl logs traffic-genrator -n dev"
   ]
  },
  {
   "cell_type": "code",
   "execution_count": 33,
   "id": "5a27aae5",
   "metadata": {},
   "outputs": [
    {
     "name": "stdout",
     "output_type": "stream",
     "text": [
      "NAMESPACE     NAME            TYPE        CLUSTER-IP      EXTERNAL-IP   PORT(S)                  AGE\n",
      "default       kubernetes      ClusterIP   10.96.0.1       <none>        443/TCP                  46h\n",
      "kube-system   kube-dns        ClusterIP   10.96.0.10      <none>        53/UDP,53/TCP,9153/TCP   46h\n",
      "prod          color-api-svc   ClusterIP   10.98.205.161   <none>        80/TCP                   76s\n"
     ]
    }
   ],
   "source": [
    "!kubectl get svc -A"
   ]
  },
  {
   "cell_type": "code",
   "execution_count": 34,
   "id": "5eb7c316",
   "metadata": {},
   "outputs": [
    {
     "name": "stdout",
     "output_type": "stream",
     "text": [
      "pod \"color-api\" deleted\n",
      "service \"color-api-svc\" deleted\n",
      "namespace \"dev\" deleted\n",
      "namespace \"prod\" deleted\n",
      "pod \"traffic-genrator\" deleted\n"
     ]
    }
   ],
   "source": [
    "!kubectl delete -f."
   ]
  },
  {
   "cell_type": "code",
   "execution_count": 35,
   "id": "0c4d4e24",
   "metadata": {},
   "outputs": [
    {
     "name": "stdout",
     "output_type": "stream",
     "text": [
      "NAMESPACE     NAME         TYPE        CLUSTER-IP   EXTERNAL-IP   PORT(S)                  AGE\n",
      "default       kubernetes   ClusterIP   10.96.0.1    <none>        443/TCP                  46h\n",
      "kube-system   kube-dns     ClusterIP   10.96.0.10   <none>        53/UDP,53/TCP,9153/TCP   46h\n"
     ]
    }
   ],
   "source": [
    "!kubectl get svc -A"
   ]
  },
  {
   "cell_type": "code",
   "execution_count": 36,
   "id": "ae08ea7d",
   "metadata": {},
   "outputs": [
    {
     "name": "stdout",
     "output_type": "stream",
     "text": [
      "NAMESPACE     NAME                                     READY   STATUS    RESTARTS        AGE\n",
      "kube-system   coredns-668d6bf9bc-dp7ln                 1/1     Running   1 (7h22m ago)   46h\n",
      "kube-system   coredns-668d6bf9bc-f7sh4                 1/1     Running   1 (7h22m ago)   46h\n",
      "kube-system   etcd-docker-desktop                      1/1     Running   1 (7h22m ago)   46h\n",
      "kube-system   kube-apiserver-docker-desktop            1/1     Running   1 (7h22m ago)   46h\n",
      "kube-system   kube-controller-manager-docker-desktop   1/1     Running   1 (7h22m ago)   46h\n",
      "kube-system   kube-proxy-7hl4l                         1/1     Running   1 (7h22m ago)   46h\n",
      "kube-system   kube-scheduler-docker-desktop            1/1     Running   1 (7h22m ago)   46h\n",
      "kube-system   storage-provisioner                      1/1     Running   2 (7h21m ago)   46h\n",
      "kube-system   vpnkit-controller                        1/1     Running   1 (7h22m ago)   46h\n"
     ]
    }
   ],
   "source": [
    "!kubectl get pods -A"
   ]
  },
  {
   "cell_type": "code",
   "execution_count": 37,
   "id": "53651a4a",
   "metadata": {},
   "outputs": [
    {
     "name": "stdout",
     "output_type": "stream",
     "text": [
      "NAME              STATUS   AGE\n",
      "default           Active   46h\n",
      "kube-node-lease   Active   46h\n",
      "kube-public       Active   46h\n",
      "kube-system       Active   46h\n"
     ]
    }
   ],
   "source": [
    "!kubectl get ns"
   ]
  },
  {
   "cell_type": "code",
   "execution_count": null,
   "id": "e9c98856",
   "metadata": {},
   "outputs": [],
   "source": []
  }
 ],
 "metadata": {
  "kernelspec": {
   "display_name": ".venv",
   "language": "python",
   "name": "python3"
  },
  "language_info": {
   "codemirror_mode": {
    "name": "ipython",
    "version": 3
   },
   "file_extension": ".py",
   "mimetype": "text/x-python",
   "name": "python",
   "nbconvert_exporter": "python",
   "pygments_lexer": "ipython3",
   "version": "3.13.5"
  }
 },
 "nbformat": 4,
 "nbformat_minor": 5
}
