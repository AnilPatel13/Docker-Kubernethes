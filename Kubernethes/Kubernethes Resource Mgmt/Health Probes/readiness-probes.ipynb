{
 "cells": [
  {
   "cell_type": "code",
   "execution_count": 1,
   "id": "88b59c3b",
   "metadata": {},
   "outputs": [
    {
     "name": "stdout",
     "output_type": "stream",
     "text": [
      "deployment.apps/color-api created\n",
      "service/color-api-svc created\n",
      "pod/traffic-generator created\n"
     ]
    }
   ],
   "source": [
    "!kubectl apply -f readiness-probe"
   ]
  },
  {
   "cell_type": "code",
   "execution_count": 5,
   "id": "6069f3b0",
   "metadata": {},
   "outputs": [
    {
     "name": "stdout",
     "output_type": "stream",
     "text": [
      "NAME                         READY   STATUS    RESTARTS   AGE\n",
      "color-api-7d8968f56d-4nf4d   1/1     Running   0          48s\n",
      "color-api-7d8968f56d-5m2t4   1/1     Running   0          48s\n",
      "color-api-7d8968f56d-9f8kk   1/1     Running   0          48s\n",
      "color-api-7d8968f56d-cl26h   0/1     Running   0          48s\n",
      "color-api-7d8968f56d-fhlzh   1/1     Running   0          48s\n",
      "color-api-7d8968f56d-hj5tk   1/1     Running   0          48s\n",
      "color-api-7d8968f56d-lcdtt   0/1     Running   0          48s\n",
      "color-api-7d8968f56d-tvvd7   0/1     Running   0          48s\n",
      "color-api-7d8968f56d-v8lsm   0/1     Running   0          48s\n",
      "color-api-7d8968f56d-vmz9j   0/1     Running   0          48s\n",
      "traffic-generator            1/1     Running   0          48s\n"
     ]
    }
   ],
   "source": [
    "!kubectl get pods"
   ]
  },
  {
   "cell_type": "code",
   "execution_count": 6,
   "id": "772a0a57",
   "metadata": {},
   "outputs": [
    {
     "name": "stdout",
     "output_type": "stream",
     "text": [
      "NAME        READY   UP-TO-DATE   AVAILABLE   AGE\n",
      "color-api   5/10    10           5           50s\n"
     ]
    }
   ],
   "source": [
    "!kubectl get deploy"
   ]
  },
  {
   "cell_type": "code",
   "execution_count": 7,
   "id": "934b2619",
   "metadata": {},
   "outputs": [
    {
     "name": "stdout",
     "output_type": "stream",
     "text": [
      "NAME            TYPE        CLUSTER-IP      EXTERNAL-IP   PORT(S)   AGE\n",
      "color-api-svc   ClusterIP   10.97.225.101   <none>        80/TCP    57s\n",
      "kubernetes      ClusterIP   10.96.0.1       <none>        443/TCP   2d\n"
     ]
    }
   ],
   "source": [
    "!kubectl get svc"
   ]
  },
  {
   "cell_type": "code",
   "execution_count": 9,
   "id": "4011cf5b",
   "metadata": {},
   "outputs": [
    {
     "name": "stdout",
     "output_type": "stream",
     "text": [
      "Sending request to color-api-svc/api every 0.5 seconds..\n",
      "2025-08-31 00:48:02 \n",
      "2025-08-31 00:48:03 \n",
      "2025-08-31 00:48:03 \n",
      "2025-08-31 00:48:04 \n",
      "2025-08-31 00:48:04 \n",
      "2025-08-31 00:48:05 \n",
      "2025-08-31 00:48:05 COLOR : blue, HOSTNAME : color-api-7d8968f56d-hj5tk\n",
      "2025-08-31 00:48:06 COLOR : blue, HOSTNAME : color-api-7d8968f56d-hj5tk\n",
      "2025-08-31 00:48:06 COLOR : blue, HOSTNAME : color-api-7d8968f56d-hj5tk\n",
      "2025-08-31 00:48:07 COLOR : blue, HOSTNAME : color-api-7d8968f56d-4nf4d\n",
      "2025-08-31 00:48:07 COLOR : blue, HOSTNAME : color-api-7d8968f56d-4nf4d\n",
      "2025-08-31 00:48:08 COLOR : blue, HOSTNAME : color-api-7d8968f56d-5m2t4\n",
      "2025-08-31 00:48:08 COLOR : blue, HOSTNAME : color-api-7d8968f56d-hj5tk\n",
      "2025-08-31 00:48:09 COLOR : blue, HOSTNAME : color-api-7d8968f56d-4nf4d\n",
      "2025-08-31 00:48:09 COLOR : blue, HOSTNAME : color-api-7d8968f56d-9f8kk\n",
      "2025-08-31 00:48:10 COLOR : blue, HOSTNAME : color-api-7d8968f56d-5m2t4\n",
      "2025-08-31 00:48:10 COLOR : blue, HOSTNAME : color-api-7d8968f56d-5m2t4\n",
      "2025-08-31 00:48:11 COLOR : blue, HOSTNAME : color-api-7d8968f56d-fhlzh\n",
      "2025-08-31 00:48:11 COLOR : blue, HOSTNAME : color-api-7d8968f56d-9f8kk\n",
      "2025-08-31 00:48:12 COLOR : blue, HOSTNAME : color-api-7d8968f56d-4nf4d\n",
      "2025-08-31 00:48:12 COLOR : blue, HOSTNAME : color-api-7d8968f56d-4nf4d\n",
      "2025-08-31 00:48:13 COLOR : blue, HOSTNAME : color-api-7d8968f56d-hj5tk\n",
      "2025-08-31 00:48:14 COLOR : blue, HOSTNAME : color-api-7d8968f56d-fhlzh\n",
      "2025-08-31 00:48:14 COLOR : blue, HOSTNAME : color-api-7d8968f56d-4nf4d\n",
      "2025-08-31 00:48:15 COLOR : blue, HOSTNAME : color-api-7d8968f56d-fhlzh\n",
      "2025-08-31 00:48:15 COLOR : blue, HOSTNAME : color-api-7d8968f56d-4nf4d\n",
      "2025-08-31 00:48:16 COLOR : blue, HOSTNAME : color-api-7d8968f56d-9f8kk\n",
      "2025-08-31 00:48:16 COLOR : blue, HOSTNAME : color-api-7d8968f56d-5m2t4\n",
      "2025-08-31 00:48:17 COLOR : blue, HOSTNAME : color-api-7d8968f56d-fhlzh\n",
      "2025-08-31 00:48:17 COLOR : blue, HOSTNAME : color-api-7d8968f56d-hj5tk\n",
      "2025-08-31 00:48:18 COLOR : blue, HOSTNAME : color-api-7d8968f56d-4nf4d\n",
      "2025-08-31 00:48:18 COLOR : blue, HOSTNAME : color-api-7d8968f56d-fhlzh\n",
      "2025-08-31 00:48:19 COLOR : blue, HOSTNAME : color-api-7d8968f56d-fhlzh\n",
      "2025-08-31 00:48:19 COLOR : blue, HOSTNAME : color-api-7d8968f56d-9f8kk\n",
      "2025-08-31 00:48:20 COLOR : blue, HOSTNAME : color-api-7d8968f56d-hj5tk\n",
      "2025-08-31 00:48:20 COLOR : blue, HOSTNAME : color-api-7d8968f56d-hj5tk\n",
      "2025-08-31 00:48:21 COLOR : blue, HOSTNAME : color-api-7d8968f56d-hj5tk\n",
      "2025-08-31 00:48:21 COLOR : blue, HOSTNAME : color-api-7d8968f56d-5m2t4\n",
      "2025-08-31 00:48:22 COLOR : blue, HOSTNAME : color-api-7d8968f56d-5m2t4\n",
      "2025-08-31 00:48:22 COLOR : blue, HOSTNAME : color-api-7d8968f56d-5m2t4\n",
      "2025-08-31 00:48:23 COLOR : blue, HOSTNAME : color-api-7d8968f56d-4nf4d\n",
      "2025-08-31 00:48:23 COLOR : blue, HOSTNAME : color-api-7d8968f56d-4nf4d\n",
      "2025-08-31 00:48:24 COLOR : blue, HOSTNAME : color-api-7d8968f56d-5m2t4\n",
      "2025-08-31 00:48:24 COLOR : blue, HOSTNAME : color-api-7d8968f56d-4nf4d\n",
      "2025-08-31 00:48:25 COLOR : blue, HOSTNAME : color-api-7d8968f56d-5m2t4\n",
      "2025-08-31 00:48:25 COLOR : blue, HOSTNAME : color-api-7d8968f56d-fhlzh\n",
      "2025-08-31 00:48:26 COLOR : blue, HOSTNAME : color-api-7d8968f56d-fhlzh\n",
      "2025-08-31 00:48:26 COLOR : blue, HOSTNAME : color-api-7d8968f56d-5m2t4\n",
      "2025-08-31 00:48:27 COLOR : blue, HOSTNAME : color-api-7d8968f56d-fhlzh\n",
      "2025-08-31 00:48:27 COLOR : blue, HOSTNAME : color-api-7d8968f56d-4nf4d\n",
      "2025-08-31 00:48:28 COLOR : blue, HOSTNAME : color-api-7d8968f56d-hj5tk\n",
      "2025-08-31 00:48:28 COLOR : blue, HOSTNAME : color-api-7d8968f56d-fhlzh\n",
      "2025-08-31 00:48:29 COLOR : blue, HOSTNAME : color-api-7d8968f56d-fhlzh\n",
      "2025-08-31 00:48:29 COLOR : blue, HOSTNAME : color-api-7d8968f56d-fhlzh\n",
      "2025-08-31 00:48:30 COLOR : blue, HOSTNAME : color-api-7d8968f56d-9f8kk\n",
      "2025-08-31 00:48:30 COLOR : blue, HOSTNAME : color-api-7d8968f56d-4nf4d\n",
      "2025-08-31 00:48:31 COLOR : blue, HOSTNAME : color-api-7d8968f56d-4nf4d\n",
      "2025-08-31 00:48:31 COLOR : blue, HOSTNAME : color-api-7d8968f56d-9f8kk\n",
      "2025-08-31 00:48:32 COLOR : blue, HOSTNAME : color-api-7d8968f56d-fhlzh\n",
      "2025-08-31 00:48:32 COLOR : blue, HOSTNAME : color-api-7d8968f56d-4nf4d\n",
      "2025-08-31 00:48:33 COLOR : blue, HOSTNAME : color-api-7d8968f56d-fhlzh\n",
      "2025-08-31 00:48:33 COLOR : blue, HOSTNAME : color-api-7d8968f56d-5m2t4\n",
      "2025-08-31 00:48:34 COLOR : blue, HOSTNAME : color-api-7d8968f56d-9f8kk\n",
      "2025-08-31 00:48:34 COLOR : blue, HOSTNAME : color-api-7d8968f56d-hj5tk\n",
      "2025-08-31 00:48:35 COLOR : blue, HOSTNAME : color-api-7d8968f56d-4nf4d\n",
      "2025-08-31 00:48:35 COLOR : blue, HOSTNAME : color-api-7d8968f56d-hj5tk\n",
      "2025-08-31 00:48:36 COLOR : blue, HOSTNAME : color-api-7d8968f56d-9f8kk\n",
      "2025-08-31 00:48:36 COLOR : blue, HOSTNAME : color-api-7d8968f56d-5m2t4\n",
      "2025-08-31 00:48:37 COLOR : blue, HOSTNAME : color-api-7d8968f56d-4nf4d\n",
      "2025-08-31 00:48:37 COLOR : blue, HOSTNAME : color-api-7d8968f56d-4nf4d\n",
      "2025-08-31 00:48:38 COLOR : blue, HOSTNAME : color-api-7d8968f56d-5m2t4\n",
      "2025-08-31 00:48:38 COLOR : blue, HOSTNAME : color-api-7d8968f56d-fhlzh\n",
      "2025-08-31 00:48:39 COLOR : blue, HOSTNAME : color-api-7d8968f56d-5m2t4\n",
      "2025-08-31 00:48:39 COLOR : blue, HOSTNAME : color-api-7d8968f56d-5m2t4\n",
      "2025-08-31 00:48:40 COLOR : blue, HOSTNAME : color-api-7d8968f56d-fhlzh\n",
      "2025-08-31 00:48:40 COLOR : blue, HOSTNAME : color-api-7d8968f56d-fhlzh\n",
      "2025-08-31 00:48:41 COLOR : blue, HOSTNAME : color-api-7d8968f56d-5m2t4\n",
      "2025-08-31 00:48:41 COLOR : blue, HOSTNAME : color-api-7d8968f56d-4nf4d\n",
      "2025-08-31 00:48:42 COLOR : blue, HOSTNAME : color-api-7d8968f56d-9f8kk\n",
      "2025-08-31 00:48:42 COLOR : blue, HOSTNAME : color-api-7d8968f56d-4nf4d\n",
      "2025-08-31 00:48:43 COLOR : blue, HOSTNAME : color-api-7d8968f56d-4nf4d\n",
      "2025-08-31 00:48:43 COLOR : blue, HOSTNAME : color-api-7d8968f56d-9f8kk\n",
      "2025-08-31 00:48:44 COLOR : blue, HOSTNAME : color-api-7d8968f56d-hj5tk\n",
      "2025-08-31 00:48:44 COLOR : blue, HOSTNAME : color-api-7d8968f56d-9f8kk\n",
      "2025-08-31 00:48:45 COLOR : blue, HOSTNAME : color-api-7d8968f56d-fhlzh\n",
      "2025-08-31 00:48:45 COLOR : blue, HOSTNAME : color-api-7d8968f56d-5m2t4\n",
      "2025-08-31 00:48:46 COLOR : blue, HOSTNAME : color-api-7d8968f56d-9f8kk\n",
      "2025-08-31 00:48:46 COLOR : blue, HOSTNAME : color-api-7d8968f56d-hj5tk\n",
      "2025-08-31 00:48:47 COLOR : blue, HOSTNAME : color-api-7d8968f56d-5m2t4\n",
      "2025-08-31 00:48:47 COLOR : blue, HOSTNAME : color-api-7d8968f56d-5m2t4\n",
      "2025-08-31 00:48:48 COLOR : blue, HOSTNAME : color-api-7d8968f56d-9f8kk\n",
      "2025-08-31 00:48:48 COLOR : blue, HOSTNAME : color-api-7d8968f56d-5m2t4\n",
      "2025-08-31 00:48:49 COLOR : blue, HOSTNAME : color-api-7d8968f56d-fhlzh\n",
      "2025-08-31 00:48:49 COLOR : blue, HOSTNAME : color-api-7d8968f56d-4nf4d\n",
      "2025-08-31 00:48:50 COLOR : blue, HOSTNAME : color-api-7d8968f56d-fhlzh\n",
      "2025-08-31 00:48:50 COLOR : blue, HOSTNAME : color-api-7d8968f56d-hj5tk\n",
      "2025-08-31 00:48:51 COLOR : blue, HOSTNAME : color-api-7d8968f56d-5m2t4\n",
      "2025-08-31 00:48:51 COLOR : blue, HOSTNAME : color-api-7d8968f56d-4nf4d\n",
      "2025-08-31 00:48:52 COLOR : blue, HOSTNAME : color-api-7d8968f56d-9f8kk\n",
      "2025-08-31 00:48:52 COLOR : blue, HOSTNAME : color-api-7d8968f56d-hj5tk\n",
      "2025-08-31 00:48:53 COLOR : blue, HOSTNAME : color-api-7d8968f56d-5m2t4\n",
      "2025-08-31 00:48:54 COLOR : blue, HOSTNAME : color-api-7d8968f56d-hj5tk\n",
      "2025-08-31 00:48:54 COLOR : blue, HOSTNAME : color-api-7d8968f56d-hj5tk\n",
      "2025-08-31 00:48:55 COLOR : blue, HOSTNAME : color-api-7d8968f56d-4nf4d\n",
      "2025-08-31 00:48:55 COLOR : blue, HOSTNAME : color-api-7d8968f56d-4nf4d\n",
      "2025-08-31 00:48:56 COLOR : blue, HOSTNAME : color-api-7d8968f56d-fhlzh\n",
      "2025-08-31 00:48:56 COLOR : blue, HOSTNAME : color-api-7d8968f56d-5m2t4\n",
      "2025-08-31 00:48:57 COLOR : blue, HOSTNAME : color-api-7d8968f56d-5m2t4\n",
      "2025-08-31 00:48:57 COLOR : blue, HOSTNAME : color-api-7d8968f56d-hj5tk\n",
      "2025-08-31 00:48:58 COLOR : blue, HOSTNAME : color-api-7d8968f56d-fhlzh\n",
      "2025-08-31 00:48:58 COLOR : blue, HOSTNAME : color-api-7d8968f56d-fhlzh\n",
      "2025-08-31 00:48:59 COLOR : blue, HOSTNAME : color-api-7d8968f56d-9f8kk\n",
      "2025-08-31 00:48:59 COLOR : blue, HOSTNAME : color-api-7d8968f56d-fhlzh\n",
      "2025-08-31 00:49:00 COLOR : blue, HOSTNAME : color-api-7d8968f56d-5m2t4\n",
      "2025-08-31 00:49:00 COLOR : blue, HOSTNAME : color-api-7d8968f56d-5m2t4\n",
      "2025-08-31 00:49:01 COLOR : blue, HOSTNAME : color-api-7d8968f56d-9f8kk\n",
      "2025-08-31 00:49:01 COLOR : blue, HOSTNAME : color-api-7d8968f56d-4nf4d\n",
      "2025-08-31 00:49:02 COLOR : blue, HOSTNAME : color-api-7d8968f56d-4nf4d\n",
      "2025-08-31 00:49:02 COLOR : blue, HOSTNAME : color-api-7d8968f56d-9f8kk\n",
      "2025-08-31 00:49:03 COLOR : blue, HOSTNAME : color-api-7d8968f56d-4nf4d\n",
      "2025-08-31 00:49:03 COLOR : blue, HOSTNAME : color-api-7d8968f56d-4nf4d\n",
      "2025-08-31 00:49:04 COLOR : blue, HOSTNAME : color-api-7d8968f56d-hj5tk\n",
      "2025-08-31 00:49:04 COLOR : blue, HOSTNAME : color-api-7d8968f56d-5m2t4\n",
      "2025-08-31 00:49:05 COLOR : blue, HOSTNAME : color-api-7d8968f56d-fhlzh\n",
      "2025-08-31 00:49:05 COLOR : blue, HOSTNAME : color-api-7d8968f56d-5m2t4\n",
      "2025-08-31 00:49:06 COLOR : blue, HOSTNAME : color-api-7d8968f56d-5m2t4\n",
      "2025-08-31 00:49:06 COLOR : blue, HOSTNAME : color-api-7d8968f56d-fhlzh\n",
      "2025-08-31 00:49:07 COLOR : blue, HOSTNAME : color-api-7d8968f56d-9f8kk\n",
      "2025-08-31 00:49:07 COLOR : blue, HOSTNAME : color-api-7d8968f56d-9f8kk\n",
      "2025-08-31 00:49:08 COLOR : blue, HOSTNAME : color-api-7d8968f56d-hj5tk\n",
      "2025-08-31 00:49:08 COLOR : blue, HOSTNAME : color-api-7d8968f56d-hj5tk\n",
      "2025-08-31 00:49:09 COLOR : blue, HOSTNAME : color-api-7d8968f56d-5m2t4\n",
      "2025-08-31 00:49:09 COLOR : blue, HOSTNAME : color-api-7d8968f56d-4nf4d\n",
      "2025-08-31 00:49:10 COLOR : blue, HOSTNAME : color-api-7d8968f56d-9f8kk\n",
      "2025-08-31 00:49:10 COLOR : blue, HOSTNAME : color-api-7d8968f56d-hj5tk\n",
      "2025-08-31 00:49:11 COLOR : blue, HOSTNAME : color-api-7d8968f56d-5m2t4\n",
      "2025-08-31 00:49:11 COLOR : blue, HOSTNAME : color-api-7d8968f56d-4nf4d\n"
     ]
    }
   ],
   "source": [
    "!kubectl logs traffic-generator"
   ]
  },
  {
   "cell_type": "code",
   "execution_count": 10,
   "id": "bbed6cb3",
   "metadata": {},
   "outputs": [
    {
     "name": "stdout",
     "output_type": "stream",
     "text": [
      "Name:             color-api-7d8968f56d-cl26h\n",
      "Namespace:        default\n",
      "Priority:         0\n",
      "Service Account:  default\n",
      "Node:             docker-desktop/192.168.65.3\n",
      "Start Time:       Sat, 30 Aug 2025 20:48:00 -0400\n",
      "Labels:           app=color-api\n",
      "                  pod-template-hash=7d8968f56d\n",
      "Annotations:      <none>\n",
      "Status:           Running\n",
      "IP:               10.1.1.129\n",
      "IPs:\n",
      "  IP:           10.1.1.129\n",
      "Controlled By:  ReplicaSet/color-api-7d8968f56d\n",
      "Containers:\n",
      "  color-api:\n",
      "    Container ID:   docker://82250c98c5e067aee29b8d9f2577a97c8dfee087fc87f3f41bc9fd3d082453cf\n",
      "    Image:          anil1318/color-api:1.2.1\n",
      "    Image ID:       docker-pullable://anil1318/color-api@sha256:0f5d1fc079cab9c060b58e7ca085873c11d710ff148e83149a3ff51d6fe57a34\n",
      "    Port:           80/TCP\n",
      "    Host Port:      0/TCP\n",
      "    State:          Running\n",
      "      Started:      Sat, 30 Aug 2025 20:48:03 -0400\n",
      "    Ready:          False\n",
      "    Restart Count:  0\n",
      "    Limits:\n",
      "      cpu:     500m\n",
      "      memory:  512Mi\n",
      "    Requests:\n",
      "      cpu:      500m\n",
      "      memory:   512Mi\n",
      "    Liveness:   http-get http://:80/health delay=0s timeout=1s period=10s #success=1 #failure=3\n",
      "    Readiness:  http-get http://:80/ready delay=0s timeout=1s period=5s #success=1 #failure=2\n",
      "    Startup:    http-get http://:80/up delay=0s timeout=1s period=3s #success=1 #failure=2\n",
      "    Environment:\n",
      "      DELAY_STARTUP:   false\n",
      "      FAIL_LIVENESS:   false\n",
      "      FAIL_READINESS:  true\n",
      "    Mounts:\n",
      "      /var/run/secrets/kubernetes.io/serviceaccount from kube-api-access-dmr5b (ro)\n",
      "Conditions:\n",
      "  Type                        Status\n",
      "  PodReadyToStartContainers   True \n",
      "  Initialized                 True \n",
      "  Ready                       False \n",
      "  ContainersReady             False \n",
      "  PodScheduled                True \n",
      "Volumes:\n",
      "  kube-api-access-dmr5b:\n",
      "    Type:                    Projected (a volume that contains injected data from multiple sources)\n",
      "    TokenExpirationSeconds:  3607\n",
      "    ConfigMapName:           kube-root-ca.crt\n",
      "    ConfigMapOptional:       <nil>\n",
      "    DownwardAPI:             true\n",
      "QoS Class:                   Guaranteed\n",
      "Node-Selectors:              <none>\n",
      "Tolerations:                 node.kubernetes.io/not-ready:NoExecute op=Exists for 300s\n",
      "                             node.kubernetes.io/unreachable:NoExecute op=Exists for 300s\n",
      "Events:\n",
      "  Type     Reason     Age                From               Message\n",
      "  ----     ------     ----               ----               -------\n",
      "  Normal   Scheduled  97s                default-scheduler  Successfully assigned default/color-api-7d8968f56d-cl26h to docker-desktop\n",
      "  Normal   Pulled     96s                kubelet            Container image \"anil1318/color-api:1.2.1\" already present on machine\n",
      "  Normal   Created    96s                kubelet            Created container: color-api\n",
      "  Normal   Started    95s                kubelet            Started container color-api\n",
      "  Warning  Unhealthy  4s (x20 over 94s)  kubelet            Readiness probe failed: HTTP probe failed with statuscode: 503\n",
      "\n"
     ]
    }
   ],
   "source": [
    "!kubectl describe pods color-api-7d8968f56d-cl26"
   ]
  },
  {
   "cell_type": "code",
   "execution_count": 11,
   "id": "4d703c0b",
   "metadata": {},
   "outputs": [
    {
     "name": "stdout",
     "output_type": "stream",
     "text": [
      "NAME                         READY   STATUS    RESTARTS   AGE\n",
      "color-api-7d8968f56d-4nf4d   1/1     Running   0          2m26s\n",
      "color-api-7d8968f56d-5m2t4   1/1     Running   0          2m26s\n",
      "color-api-7d8968f56d-9f8kk   1/1     Running   0          2m26s\n",
      "color-api-7d8968f56d-cl26h   0/1     Running   0          2m26s\n",
      "color-api-7d8968f56d-fhlzh   1/1     Running   0          2m26s\n",
      "color-api-7d8968f56d-hj5tk   1/1     Running   0          2m26s\n",
      "color-api-7d8968f56d-lcdtt   0/1     Running   0          2m26s\n",
      "color-api-7d8968f56d-tvvd7   0/1     Running   0          2m26s\n",
      "color-api-7d8968f56d-v8lsm   0/1     Running   0          2m26s\n",
      "color-api-7d8968f56d-vmz9j   0/1     Running   0          2m26s\n",
      "traffic-generator            1/1     Running   0          2m26s\n"
     ]
    }
   ],
   "source": [
    "!kubectl get pods"
   ]
  },
  {
   "cell_type": "code",
   "execution_count": 12,
   "id": "7bd2ef25",
   "metadata": {},
   "outputs": [
    {
     "name": "stdout",
     "output_type": "stream",
     "text": [
      "deployment.apps/color-api scaled\n"
     ]
    }
   ],
   "source": [
    "!kubectl scale deployment color-api --replicas=0"
   ]
  },
  {
   "cell_type": "code",
   "execution_count": 13,
   "id": "410929fb",
   "metadata": {},
   "outputs": [
    {
     "name": "stdout",
     "output_type": "stream",
     "text": [
      "NAME        READY   UP-TO-DATE   AVAILABLE   AGE\n",
      "color-api   0/0     0            0           3m8s\n"
     ]
    }
   ],
   "source": [
    "!kubectl get deployment"
   ]
  },
  {
   "cell_type": "code",
   "execution_count": 14,
   "id": "087195cd",
   "metadata": {},
   "outputs": [
    {
     "name": "stdout",
     "output_type": "stream",
     "text": [
      "deployment.apps/color-api scaled\n"
     ]
    }
   ],
   "source": [
    "!kubectl scale deployment color-api --replicas=10"
   ]
  },
  {
   "cell_type": "code",
   "execution_count": 18,
   "id": "0458a559",
   "metadata": {},
   "outputs": [
    {
     "name": "stdout",
     "output_type": "stream",
     "text": [
      "NAME        READY   UP-TO-DATE   AVAILABLE   AGE\n",
      "color-api   6/10    10           6           3m32s\n"
     ]
    }
   ],
   "source": [
    "!kubectl get deployment"
   ]
  },
  {
   "cell_type": "code",
   "execution_count": 19,
   "id": "fcca21e9",
   "metadata": {},
   "outputs": [
    {
     "name": "stdout",
     "output_type": "stream",
     "text": [
      "Name:                     color-api-svc\n",
      "Namespace:                default\n",
      "Labels:                   <none>\n",
      "Annotations:              <none>\n",
      "Selector:                 app=color-api\n",
      "Type:                     ClusterIP\n",
      "IP Family Policy:         SingleStack\n",
      "IP Families:              IPv4\n",
      "IP:                       10.97.225.101\n",
      "IPs:                      10.97.225.101\n",
      "Port:                     <unset>  80/TCP\n",
      "TargetPort:               80/TCP\n",
      "Endpoints:                10.1.1.135:80,10.1.1.137:80,10.1.1.142:80 + 3 more...\n",
      "Session Affinity:         None\n",
      "Internal Traffic Policy:  Cluster\n",
      "Events:                   <none>\n"
     ]
    }
   ],
   "source": [
    "!kubectl describe svc color-api-svc"
   ]
  },
  {
   "cell_type": "code",
   "execution_count": 20,
   "id": "50b71bd7",
   "metadata": {},
   "outputs": [
    {
     "name": "stdout",
     "output_type": "stream",
     "text": [
      "deployment.apps \"color-api\" deleted\n",
      "service \"color-api-svc\" deleted\n",
      "pod \"traffic-generator\" deleted\n"
     ]
    }
   ],
   "source": [
    "!kubectl delete -f readiness-probe"
   ]
  }
 ],
 "metadata": {
  "kernelspec": {
   "display_name": ".venv",
   "language": "python",
   "name": "python3"
  },
  "language_info": {
   "codemirror_mode": {
    "name": "ipython",
    "version": 3
   },
   "file_extension": ".py",
   "mimetype": "text/x-python",
   "name": "python",
   "nbconvert_exporter": "python",
   "pygments_lexer": "ipython3",
   "version": "3.13.5"
  }
 },
 "nbformat": 4,
 "nbformat_minor": 5
}
