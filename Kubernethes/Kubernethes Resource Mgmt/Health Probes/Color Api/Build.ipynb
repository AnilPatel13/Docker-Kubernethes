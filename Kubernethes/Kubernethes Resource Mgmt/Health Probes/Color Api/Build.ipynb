{
 "cells": [
  {
   "cell_type": "code",
   "execution_count": 8,
   "id": "330f11c8",
   "metadata": {},
   "outputs": [
    {
     "name": "stderr",
     "output_type": "stream",
     "text": [
      "#0 building with \"desktop-linux\" instance using docker driver\n",
      "\n",
      "#1 [internal] load build definition from Dockerfile\n",
      "#1 transferring dockerfile: 161B done\n",
      "#1 DONE 0.0s\n",
      "\n",
      "#2 [internal] load metadata for docker.io/library/node:22-alpine3.20\n",
      "#2 DONE 0.2s\n",
      "\n",
      "#3 [internal] load .dockerignore\n",
      "#3 transferring context: 2B done\n",
      "#3 DONE 0.0s\n",
      "\n",
      "#4 [internal] load build context\n",
      "#4 transferring context: 127B done\n",
      "#4 DONE 0.0s\n",
      "\n",
      "#5 [1/5] FROM docker.io/library/node:22-alpine3.20@sha256:2289fb1fba0f4633b08ec47b94a89c7e20b829fc5679f9b7b298eaa2f1ed8b7e\n",
      "#5 resolve docker.io/library/node:22-alpine3.20@sha256:2289fb1fba0f4633b08ec47b94a89c7e20b829fc5679f9b7b298eaa2f1ed8b7e 0.1s done\n",
      "#5 DONE 0.1s\n",
      "\n",
      "#6 [2/5] WORKDIR /app\n",
      "#6 CACHED\n",
      "\n",
      "#7 [3/5] COPY package*.json .\n",
      "#7 CACHED\n",
      "\n",
      "#8 [4/5] RUN npm ci\n",
      "#8 CACHED\n",
      "\n",
      "#9 [5/5] COPY src src\n",
      "#9 CACHED\n",
      "\n",
      "#10 exporting to image\n",
      "#10 exporting layers done\n",
      "#10 exporting manifest sha256:7ed8be1d76021648acbff77073a4c62841aefa47e9d8b614c8ad79894154c41f done\n",
      "#10 exporting config sha256:d885b0068124086a8cccd777d5ea40dcfb78233bb1f84702db0c0aeaed9b769c done\n",
      "#10 exporting attestation manifest sha256:adef750e35a7936ebd5abf5c8a5e6aa34acd4a58a7df9a5b5bc27975516801a1 0.1s done\n",
      "#10 exporting manifest list sha256:0f5d1fc079cab9c060b58e7ca085873c11d710ff148e83149a3ff51d6fe57a34\n",
      "#10 exporting manifest list sha256:0f5d1fc079cab9c060b58e7ca085873c11d710ff148e83149a3ff51d6fe57a34 0.0s done\n",
      "#10 naming to docker.io/anil1318/color-api:1.2.1 done\n",
      "#10 unpacking to docker.io/anil1318/color-api:1.2.1 0.0s done\n",
      "#10 DONE 0.2s\n",
      "\n",
      "View build details: docker-desktop://dashboard/build/desktop-linux/desktop-linux/tvej4rfjmk5avmf0yqst4uzy8\n"
     ]
    }
   ],
   "source": [
    "!docker build -t anil1318/color-api:1.2.1 ."
   ]
  },
  {
   "cell_type": "code",
   "execution_count": 9,
   "id": "771213e6",
   "metadata": {},
   "outputs": [
    {
     "name": "stdout",
     "output_type": "stream",
     "text": [
      "The push refers to repository [docker.io/anil1318/color-api]\n",
      "0a9a5dfd008f: Waiting\n",
      "ba4caef5715c: Waiting\n",
      "82bea49235a6: Waiting\n",
      "fa78c90741ab: Waiting\n",
      "a617255e05dd: Waiting\n",
      "a9af79e50cf3: Waiting\n",
      "0c6d1cca3259: Waiting\n",
      "610c0499c787: Waiting\n",
      "ee24b7c60dee: Waiting\n",
      "a617255e05dd: Waiting\n",
      "a9af79e50cf3: Waiting\n",
      "0c6d1cca3259: Waiting\n",
      "610c0499c787: Waiting\n",
      "ee24b7c60dee: Waiting\n",
      "0a9a5dfd008f: Waiting\n",
      "ba4caef5715c: Waiting\n",
      "82bea49235a6: Waiting\n",
      "fa78c90741ab: Waiting\n",
      "a9af79e50cf3: Waiting\n",
      "0c6d1cca3259: Waiting\n",
      "610c0499c787: Waiting\n",
      "ee24b7c60dee: Waiting\n",
      "0a9a5dfd008f: Waiting\n",
      "ba4caef5715c: Waiting\n",
      "82bea49235a6: Layer already exists\n",
      "fa78c90741ab: Waiting\n",
      "a617255e05dd: Waiting\n",
      "ee24b7c60dee: Layer already exists\n",
      "0a9a5dfd008f: Layer already exists\n",
      "ba4caef5715c: Layer already exists\n",
      "fa78c90741ab: Layer already exists\n",
      "a9af79e50cf3: Layer already exists\n",
      "0c6d1cca3259: Layer already exists\n",
      "610c0499c787: Layer already exists\n",
      "a617255e05dd: Pushed\n",
      "1.2.1: digest: sha256:0f5d1fc079cab9c060b58e7ca085873c11d710ff148e83149a3ff51d6fe57a34 size: 856\n"
     ]
    }
   ],
   "source": [
    "!docker push anil1318/color-api:1.2.1"
   ]
  },
  {
   "cell_type": "code",
   "execution_count": null,
   "id": "2563ef29",
   "metadata": {},
   "outputs": [],
   "source": []
  }
 ],
 "metadata": {
  "kernelspec": {
   "display_name": ".venv",
   "language": "python",
   "name": "python3"
  },
  "language_info": {
   "codemirror_mode": {
    "name": "ipython",
    "version": 3
   },
   "file_extension": ".py",
   "mimetype": "text/x-python",
   "name": "python",
   "nbconvert_exporter": "python",
   "pygments_lexer": "ipython3",
   "version": "3.13.5"
  }
 },
 "nbformat": 4,
 "nbformat_minor": 5
}
