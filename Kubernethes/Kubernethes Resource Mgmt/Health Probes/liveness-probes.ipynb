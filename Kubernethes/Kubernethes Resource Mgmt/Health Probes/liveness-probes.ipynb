{
 "cells": [
  {
   "cell_type": "code",
   "execution_count": 1,
   "id": "0be1fd31",
   "metadata": {},
   "outputs": [
    {
     "name": "stdout",
     "output_type": "stream",
     "text": [
      "pod/color-api-pod created\n"
     ]
    }
   ],
   "source": [
    "!kubectl apply -f color-api-pod-liveness.yaml"
   ]
  },
  {
   "cell_type": "code",
   "execution_count": 3,
   "id": "98c0baa8",
   "metadata": {},
   "outputs": [
    {
     "name": "stdout",
     "output_type": "stream",
     "text": [
      "NAME            READY   STATUS    RESTARTS   AGE\n",
      "color-api-pod   1/1     Running   0          7s\n"
     ]
    }
   ],
   "source": [
    "!kubectl get pods"
   ]
  },
  {
   "cell_type": "code",
   "execution_count": 4,
   "id": "02618734",
   "metadata": {},
   "outputs": [
    {
     "name": "stdout",
     "output_type": "stream",
     "text": [
      "Name:             color-api-pod\n",
      "Namespace:        default\n",
      "Priority:         0\n",
      "Service Account:  default\n",
      "Node:             docker-desktop/192.168.65.3\n",
      "Start Time:       Sat, 30 Aug 2025 20:29:54 -0400\n",
      "Labels:           name=color-api-pod\n",
      "Annotations:      <none>\n",
      "Status:           Running\n",
      "IP:               10.1.1.122\n",
      "IPs:\n",
      "  IP:  10.1.1.122\n",
      "Containers:\n",
      "  color-api-pod:\n",
      "    Container ID:   docker://d4d096eee767bf1c36a5c3868e5aeac0722ba4981df65f8c18ccfdf74e513143\n",
      "    Image:          anil1318/color-api:1.2.1\n",
      "    Image ID:       docker-pullable://anil1318/color-api@sha256:0f5d1fc079cab9c060b58e7ca085873c11d710ff148e83149a3ff51d6fe57a34\n",
      "    Port:           80/TCP\n",
      "    Host Port:      0/TCP\n",
      "    State:          Running\n",
      "      Started:      Sat, 30 Aug 2025 20:29:55 -0400\n",
      "    Ready:          True\n",
      "    Restart Count:  0\n",
      "    Limits:\n",
      "      cpu:     500m\n",
      "      memory:  512Mi\n",
      "    Requests:\n",
      "      cpu:     500m\n",
      "      memory:  512Mi\n",
      "    Startup:   http-get http://:80/up delay=0s timeout=1s period=3s #success=1 #failure=2\n",
      "    Environment:\n",
      "      DELAY_STARTUP:  false\n",
      "    Mounts:\n",
      "      /var/run/secrets/kubernetes.io/serviceaccount from kube-api-access-f5l9l (ro)\n",
      "Conditions:\n",
      "  Type                        Status\n",
      "  PodReadyToStartContainers   True \n",
      "  Initialized                 True \n",
      "  Ready                       True \n",
      "  ContainersReady             True \n",
      "  PodScheduled                True \n",
      "Volumes:\n",
      "  kube-api-access-f5l9l:\n",
      "    Type:                    Projected (a volume that contains injected data from multiple sources)\n",
      "    TokenExpirationSeconds:  3607\n",
      "    ConfigMapName:           kube-root-ca.crt\n",
      "    ConfigMapOptional:       <nil>\n",
      "    DownwardAPI:             true\n",
      "QoS Class:                   Guaranteed\n",
      "Node-Selectors:              <none>\n",
      "Tolerations:                 node.kubernetes.io/not-ready:NoExecute op=Exists for 300s\n",
      "                             node.kubernetes.io/unreachable:NoExecute op=Exists for 300s\n",
      "Events:\n",
      "  Type    Reason     Age   From               Message\n",
      "  ----    ------     ----  ----               -------\n",
      "  Normal  Scheduled  24s   default-scheduler  Successfully assigned default/color-api-pod to docker-desktop\n",
      "  Normal  Pulled     23s   kubelet            Container image \"anil1318/color-api:1.2.1\" already present on machine\n",
      "  Normal  Created    23s   kubelet            Created container: color-api-pod\n",
      "  Normal  Started    23s   kubelet            Started container color-api-pod\n"
     ]
    }
   ],
   "source": [
    "!kubectl describe pod color-api-pod"
   ]
  },
  {
   "cell_type": "code",
   "execution_count": 5,
   "id": "b084a56c",
   "metadata": {},
   "outputs": [
    {
     "name": "stdout",
     "output_type": "stream",
     "text": [
      "pod \"color-api-pod\" deleted\n"
     ]
    }
   ],
   "source": [
    "!kubectl delete -f color-api-pod-liveness.yaml"
   ]
  },
  {
   "cell_type": "code",
   "execution_count": 6,
   "id": "782e1b6d",
   "metadata": {},
   "outputs": [
    {
     "name": "stdout",
     "output_type": "stream",
     "text": [
      "pod/color-api-pod created\n"
     ]
    }
   ],
   "source": [
    "!kubectl apply -f color-api-pod-liveness.yaml"
   ]
  },
  {
   "cell_type": "code",
   "execution_count": 12,
   "id": "8109609c",
   "metadata": {},
   "outputs": [
    {
     "name": "stdout",
     "output_type": "stream",
     "text": [
      "NAME            READY   STATUS    RESTARTS      AGE\n",
      "color-api-pod   1/1     Running   1 (10s ago)   41s\n"
     ]
    }
   ],
   "source": [
    "!kubectl get pods"
   ]
  },
  {
   "cell_type": "code",
   "execution_count": 13,
   "id": "f6c9253b",
   "metadata": {},
   "outputs": [
    {
     "name": "stdout",
     "output_type": "stream",
     "text": [
      "pod \"color-api-pod\" deleted\n"
     ]
    }
   ],
   "source": [
    "!kubectl delete -f color-api-pod-liveness.yaml"
   ]
  }
 ],
 "metadata": {
  "kernelspec": {
   "display_name": ".venv",
   "language": "python",
   "name": "python3"
  },
  "language_info": {
   "codemirror_mode": {
    "name": "ipython",
    "version": 3
   },
   "file_extension": ".py",
   "mimetype": "text/x-python",
   "name": "python",
   "nbconvert_exporter": "python",
   "pygments_lexer": "ipython3",
   "version": "3.13.5"
  }
 },
 "nbformat": 4,
 "nbformat_minor": 5
}
