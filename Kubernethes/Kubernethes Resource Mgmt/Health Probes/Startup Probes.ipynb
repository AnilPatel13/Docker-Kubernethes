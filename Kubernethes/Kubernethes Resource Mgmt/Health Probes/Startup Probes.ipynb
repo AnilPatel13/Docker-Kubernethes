{
 "cells": [
  {
   "cell_type": "code",
   "execution_count": 1,
   "id": "3658a13d",
   "metadata": {},
   "outputs": [
    {
     "name": "stdout",
     "output_type": "stream",
     "text": [
      "pod/color-api-pod created\n"
     ]
    }
   ],
   "source": [
    "!kubectl apply -f color-api-pod.yaml"
   ]
  },
  {
   "cell_type": "code",
   "execution_count": 2,
   "id": "3130cb0a",
   "metadata": {},
   "outputs": [
    {
     "name": "stdout",
     "output_type": "stream",
     "text": [
      "NAME            READY   STATUS    RESTARTS   AGE\n",
      "color-api-pod   1/1     Running   0          4s\n"
     ]
    }
   ],
   "source": [
    "!kubectl get pods"
   ]
  },
  {
   "cell_type": "code",
   "execution_count": 3,
   "id": "8dbbc34b",
   "metadata": {},
   "outputs": [
    {
     "name": "stdout",
     "output_type": "stream",
     "text": [
      "Name:             color-api-pod\n",
      "Namespace:        default\n",
      "Priority:         0\n",
      "Service Account:  default\n",
      "Node:             docker-desktop/192.168.65.3\n",
      "Start Time:       Sat, 30 Aug 2025 20:20:00 -0400\n",
      "Labels:           name=color-api-pod\n",
      "Annotations:      <none>\n",
      "Status:           Running\n",
      "IP:               10.1.1.120\n",
      "IPs:\n",
      "  IP:  10.1.1.120\n",
      "Containers:\n",
      "  color-api-pod:\n",
      "    Container ID:   docker://acc71db933fdea4045585140d61f70f8654a0bcff676120ceca42b9b0f1b5a2a\n",
      "    Image:          anil1318/color-api:1.2.0\n",
      "    Image ID:       docker-pullable://anil1318/color-api@sha256:95bb6eb80130ef2c3ef4c8d1b1471143014159a6130ba622fb10f2f6672612a9\n",
      "    Port:           80/TCP\n",
      "    Host Port:      0/TCP\n",
      "    State:          Running\n",
      "      Started:      Sat, 30 Aug 2025 20:20:01 -0400\n",
      "    Ready:          True\n",
      "    Restart Count:  0\n",
      "    Limits:\n",
      "      cpu:     500m\n",
      "      memory:  512Mi\n",
      "    Requests:\n",
      "      cpu:        500m\n",
      "      memory:     512Mi\n",
      "    Startup:      http-get http://:80/health delay=0s timeout=1s period=3s #success=1 #failure=2\n",
      "    Environment:  <none>\n",
      "    Mounts:\n",
      "      /var/run/secrets/kubernetes.io/serviceaccount from kube-api-access-qzcjv (ro)\n",
      "Conditions:\n",
      "  Type                        Status\n",
      "  PodReadyToStartContainers   True \n",
      "  Initialized                 True \n",
      "  Ready                       True \n",
      "  ContainersReady             True \n",
      "  PodScheduled                True \n",
      "Volumes:\n",
      "  kube-api-access-qzcjv:\n",
      "    Type:                    Projected (a volume that contains injected data from multiple sources)\n",
      "    TokenExpirationSeconds:  3607\n",
      "    ConfigMapName:           kube-root-ca.crt\n",
      "    ConfigMapOptional:       <nil>\n",
      "    DownwardAPI:             true\n",
      "QoS Class:                   Guaranteed\n",
      "Node-Selectors:              <none>\n",
      "Tolerations:                 node.kubernetes.io/not-ready:NoExecute op=Exists for 300s\n",
      "                             node.kubernetes.io/unreachable:NoExecute op=Exists for 300s\n",
      "Events:\n",
      "  Type    Reason     Age   From               Message\n",
      "  ----    ------     ----  ----               -------\n",
      "  Normal  Scheduled  35s   default-scheduler  Successfully assigned default/color-api-pod to docker-desktop\n",
      "  Normal  Pulled     35s   kubelet            Container image \"anil1318/color-api:1.2.0\" already present on machine\n",
      "  Normal  Created    35s   kubelet            Created container: color-api-pod\n",
      "  Normal  Started    35s   kubelet            Started container color-api-pod\n"
     ]
    }
   ],
   "source": [
    "!kubectl describe pods color-api-pod"
   ]
  },
  {
   "cell_type": "code",
   "execution_count": 4,
   "id": "6fc6d70e",
   "metadata": {},
   "outputs": [
    {
     "name": "stdout",
     "output_type": "stream",
     "text": [
      "pod \"color-api-pod\" deleted\n"
     ]
    }
   ],
   "source": [
    "!kubectl delete -f color-api-pod.yaml"
   ]
  },
  {
   "cell_type": "code",
   "execution_count": 5,
   "id": "bdfe765e",
   "metadata": {},
   "outputs": [
    {
     "name": "stdout",
     "output_type": "stream",
     "text": [
      "pod/color-api-pod created\n"
     ]
    }
   ],
   "source": [
    "!kubectl apply -f color-api-pod.yaml"
   ]
  },
  {
   "cell_type": "code",
   "execution_count": 10,
   "id": "ea912f43",
   "metadata": {},
   "outputs": [
    {
     "name": "stdout",
     "output_type": "stream",
     "text": [
      "NAME            READY   STATUS             RESTARTS      AGE\n",
      "color-api-pod   0/1     CrashLoopBackOff   2 (17s ago)   36s\n"
     ]
    }
   ],
   "source": [
    "!kubectl get pods"
   ]
  },
  {
   "cell_type": "code",
   "execution_count": 11,
   "id": "27be72af",
   "metadata": {},
   "outputs": [
    {
     "name": "stdout",
     "output_type": "stream",
     "text": [
      "Name:             color-api-pod\n",
      "Namespace:        default\n",
      "Priority:         0\n",
      "Service Account:  default\n",
      "Node:             docker-desktop/192.168.65.3\n",
      "Start Time:       Sat, 30 Aug 2025 20:22:14 -0400\n",
      "Labels:           name=color-api-pod\n",
      "Annotations:      <none>\n",
      "Status:           Running\n",
      "IP:               10.1.1.121\n",
      "IPs:\n",
      "  IP:  10.1.1.121\n",
      "Containers:\n",
      "  color-api-pod:\n",
      "    Container ID:   docker://2c5f91caa97c9d77152184f4a232ef4836a3094cd92b77bce081bd59451998b5\n",
      "    Image:          anil1318/color-api:1.2.0\n",
      "    Image ID:       docker-pullable://anil1318/color-api@sha256:95bb6eb80130ef2c3ef4c8d1b1471143014159a6130ba622fb10f2f6672612a9\n",
      "    Port:           80/TCP\n",
      "    Host Port:      0/TCP\n",
      "    State:          Waiting\n",
      "      Reason:       CrashLoopBackOff\n",
      "    Last State:     Terminated\n",
      "      Reason:       Error\n",
      "      Exit Code:    1\n",
      "      Started:      Sat, 30 Aug 2025 20:22:55 -0400\n",
      "      Finished:     Sat, 30 Aug 2025 20:23:00 -0400\n",
      "    Ready:          False\n",
      "    Restart Count:  4\n",
      "    Limits:\n",
      "      cpu:     500m\n",
      "      memory:  512Mi\n",
      "    Requests:\n",
      "      cpu:     500m\n",
      "      memory:  512Mi\n",
      "    Startup:   http-get http://:80/health delay=0s timeout=1s period=3s #success=1 #failure=2\n",
      "    Environment:\n",
      "      DELAY_STARTUP:  true\n",
      "    Mounts:\n",
      "      /var/run/secrets/kubernetes.io/serviceaccount from kube-api-access-tnmcr (ro)\n",
      "Conditions:\n",
      "  Type                        Status\n",
      "  PodReadyToStartContainers   True \n",
      "  Initialized                 True \n",
      "  Ready                       False \n",
      "  ContainersReady             False \n",
      "  PodScheduled                True \n",
      "Volumes:\n",
      "  kube-api-access-tnmcr:\n",
      "    Type:                    Projected (a volume that contains injected data from multiple sources)\n",
      "    TokenExpirationSeconds:  3607\n",
      "    ConfigMapName:           kube-root-ca.crt\n",
      "    ConfigMapOptional:       <nil>\n",
      "    DownwardAPI:             true\n",
      "QoS Class:                   Guaranteed\n",
      "Node-Selectors:              <none>\n",
      "Tolerations:                 node.kubernetes.io/not-ready:NoExecute op=Exists for 300s\n",
      "                             node.kubernetes.io/unreachable:NoExecute op=Exists for 300s\n",
      "Events:\n",
      "  Type     Reason     Age                 From               Message\n",
      "  ----     ------     ----                ----               -------\n",
      "  Normal   Scheduled  58s                 default-scheduler  Successfully assigned default/color-api-pod to docker-desktop\n",
      "  Normal   Pulled     19s (x5 over 58s)   kubelet            Container image \"anil1318/color-api:1.2.0\" already present on machine\n",
      "  Normal   Created    18s (x5 over 58s)   kubelet            Created container: color-api-pod\n",
      "  Normal   Started    18s (x5 over 58s)   kubelet            Started container color-api-pod\n",
      "  Warning  Unhealthy  13s (x10 over 55s)  kubelet            Startup probe failed: Get \"http://10.1.1.121:80/health\": dial tcp 10.1.1.121:80: connect: connection refused\n",
      "  Normal   Killing    13s (x5 over 52s)   kubelet            Container color-api-pod failed startup probe, will be restarted\n",
      "  Warning  BackOff    12s (x4 over 40s)   kubelet            Back-off restarting failed container color-api-pod in pod color-api-pod_default(69d665e6-fa79-4a17-a7a2-5e99348aeecd)\n"
     ]
    }
   ],
   "source": [
    "!kubectl describe pod color-api-pod"
   ]
  },
  {
   "cell_type": "code",
   "execution_count": 12,
   "id": "26e19290",
   "metadata": {},
   "outputs": [
    {
     "name": "stdout",
     "output_type": "stream",
     "text": [
      "NAME            READY   STATUS             RESTARTS      AGE\n",
      "color-api-pod   0/1     CrashLoopBackOff   4 (35s ago)   81s\n"
     ]
    }
   ],
   "source": [
    "!kubectl get pods"
   ]
  },
  {
   "cell_type": "code",
   "execution_count": 13,
   "id": "7a25479b",
   "metadata": {},
   "outputs": [
    {
     "name": "stdout",
     "output_type": "stream",
     "text": [
      "pod \"color-api-pod\" deleted\n"
     ]
    }
   ],
   "source": [
    "!kubectl delete -f color-api-pod.yaml"
   ]
  },
  {
   "cell_type": "code",
   "execution_count": 14,
   "id": "8f99e815",
   "metadata": {},
   "outputs": [
    {
     "name": "stderr",
     "output_type": "stream",
     "text": [
      "No resources found in default namespace.\n"
     ]
    }
   ],
   "source": [
    "!kubectl get pods"
   ]
  },
  {
   "cell_type": "code",
   "execution_count": null,
   "id": "8e992a8c",
   "metadata": {},
   "outputs": [],
   "source": []
  }
 ],
 "metadata": {
  "kernelspec": {
   "display_name": ".venv",
   "language": "python",
   "name": "python3"
  },
  "language_info": {
   "codemirror_mode": {
    "name": "ipython",
    "version": 3
   },
   "file_extension": ".py",
   "mimetype": "text/x-python",
   "name": "python",
   "nbconvert_exporter": "python",
   "pygments_lexer": "ipython3",
   "version": "3.13.5"
  }
 },
 "nbformat": 4,
 "nbformat_minor": 5
}
