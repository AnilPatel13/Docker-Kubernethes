{
 "cells": [
  {
   "cell_type": "code",
   "execution_count": 3,
   "id": "c6834454",
   "metadata": {},
   "outputs": [
    {
     "name": "stdout",
     "output_type": "stream",
     "text": [
      "pod/color-backend configured\n",
      "pod/color-frontend unchanged\n"
     ]
    }
   ],
   "source": [
    "!kubectl apply -f Labels-Selector/."
   ]
  },
  {
   "cell_type": "code",
   "execution_count": 5,
   "id": "4fea207e",
   "metadata": {},
   "outputs": [
    {
     "name": "stdout",
     "output_type": "stream",
     "text": [
      "NAME             READY   STATUS    RESTARTS   AGE\n",
      "color-backend    1/1     Running   0          54s\n",
      "color-frontend   1/1     Running   0          54s\n"
     ]
    }
   ],
   "source": [
    "!kubectl get pods"
   ]
  },
  {
   "cell_type": "code",
   "execution_count": 6,
   "id": "dd0fe6b0",
   "metadata": {},
   "outputs": [
    {
     "name": "stdout",
     "output_type": "stream",
     "text": [
      "NAME             READY   STATUS    RESTARTS   AGE   APP\n",
      "color-backend    1/1     Running   0          81s   color-backend\n",
      "color-frontend   1/1     Running   0          81s   color-api\n"
     ]
    }
   ],
   "source": [
    "!kubectl get pods -Lapp"
   ]
  },
  {
   "cell_type": "code",
   "execution_count": 7,
   "id": "d8bc1673",
   "metadata": {},
   "outputs": [
    {
     "name": "stdout",
     "output_type": "stream",
     "text": [
      "NAME             READY   STATUS    RESTARTS   AGE     APP\n",
      "color-backend    1/1     Running   0          2m25s   color-backend\n",
      "color-frontend   1/1     Running   0          2m25s   color-api\n"
     ]
    }
   ],
   "source": [
    "!kubectl get pods -L app"
   ]
  },
  {
   "cell_type": "code",
   "execution_count": 8,
   "id": "14be9e07",
   "metadata": {},
   "outputs": [
    {
     "name": "stdout",
     "output_type": "stream",
     "text": [
      "NAME             READY   STATUS    RESTARTS   AGE     APP             TIER\n",
      "color-backend    1/1     Running   0          2m35s   color-backend   backend\n",
      "color-frontend   1/1     Running   0          2m35s   color-api       frontend\n"
     ]
    }
   ],
   "source": [
    "!kubectl get pods -L app -L tier"
   ]
  },
  {
   "cell_type": "code",
   "execution_count": 10,
   "id": "f6989399",
   "metadata": {},
   "outputs": [
    {
     "name": "stdout",
     "output_type": "stream",
     "text": [
      "NAME             READY   STATUS    RESTARTS   AGE\n",
      "color-frontend   1/1     Running   0          3m14s\n"
     ]
    }
   ],
   "source": [
    "!kubectl get pod -l app=color-api"
   ]
  },
  {
   "cell_type": "code",
   "execution_count": 11,
   "id": "6be98ed4",
   "metadata": {},
   "outputs": [
    {
     "name": "stdout",
     "output_type": "stream",
     "text": [
      "NAME             READY   STATUS    RESTARTS   AGE\n",
      "color-frontend   1/1     Running   0          3m29s\n"
     ]
    }
   ],
   "source": [
    "!kubectl get pod -l tier=frontend"
   ]
  },
  {
   "cell_type": "code",
   "execution_count": 12,
   "id": "cb7f70cd",
   "metadata": {},
   "outputs": [
    {
     "name": "stdout",
     "output_type": "stream",
     "text": [
      "NAME             READY   STATUS    RESTARTS   AGE\n",
      "color-frontend   1/1     Running   0          3m56s\n"
     ]
    }
   ],
   "source": [
    "!kubectl get pod -l tier=frontend -l app=color-api"
   ]
  },
  {
   "cell_type": "code",
   "execution_count": 14,
   "id": "a8725dca",
   "metadata": {},
   "outputs": [
    {
     "name": "stdout",
     "output_type": "stream",
     "text": [
      "NAME             READY   STATUS    RESTARTS   AGE\n",
      "color-frontend   1/1     Running   0          4m24s\n"
     ]
    }
   ],
   "source": [
    "!kubectl get pod -l \"tier=frontend,app=color-api\""
   ]
  },
  {
   "cell_type": "code",
   "execution_count": 15,
   "id": "229ea645",
   "metadata": {},
   "outputs": [
    {
     "name": "stdout",
     "output_type": "stream",
     "text": [
      "NAME             READY   STATUS    RESTARTS   AGE\n",
      "color-backend    1/1     Running   0          4m57s\n",
      "color-frontend   1/1     Running   0          4m57s\n"
     ]
    }
   ],
   "source": [
    "!kubectl get pod -l \"tier in (frontend, backend)\""
   ]
  },
  {
   "cell_type": "code",
   "execution_count": 17,
   "id": "93ee7f83",
   "metadata": {},
   "outputs": [
    {
     "name": "stdout",
     "output_type": "stream",
     "text": [
      "NAME            READY   STATUS    RESTARTS   AGE\n",
      "color-backend   1/1     Running   0          5m20s\n"
     ]
    }
   ],
   "source": [
    "!kubectl get pod -l \"tier notin (frontend)\""
   ]
  },
  {
   "cell_type": "code",
   "execution_count": 36,
   "id": "13f4ab94",
   "metadata": {},
   "outputs": [
    {
     "name": "stdout",
     "output_type": "stream",
     "text": [
      "pod \"color-backend\" deleted\n",
      "pod \"color-frontend\" deleted\n",
      "deployment.apps \"color-api\" deleted\n"
     ]
    }
   ],
   "source": [
    "!kubectl delete -f Labels-Selector/."
   ]
  },
  {
   "cell_type": "code",
   "execution_count": 37,
   "id": "53f48dba",
   "metadata": {},
   "outputs": [
    {
     "name": "stdout",
     "output_type": "stream",
     "text": [
      "pod/color-backend created\n",
      "pod/color-frontend created\n",
      "deployment.apps/color-api created\n"
     ]
    }
   ],
   "source": [
    "!kubectl apply -f Labels-Selector/."
   ]
  },
  {
   "cell_type": "code",
   "execution_count": 38,
   "id": "78cee471",
   "metadata": {},
   "outputs": [
    {
     "name": "stdout",
     "output_type": "stream",
     "text": [
      "NAME                         READY   STATUS              RESTARTS   AGE\n",
      "color-api-559655656c-4jkw9   0/1     ContainerCreating   0          3s\n",
      "color-api-559655656c-9gqj6   0/1     ContainerCreating   0          3s\n",
      "color-api-559655656c-nprkk   1/1     Running             0          3s\n",
      "color-api-559655656c-xmdfc   0/1     ContainerCreating   0          3s\n",
      "color-api-559655656c-xznsn   0/1     ContainerCreating   0          3s\n",
      "color-backend                0/1     ContainerCreating   0          3s\n",
      "color-frontend               1/1     Running             0          3s\n"
     ]
    }
   ],
   "source": [
    "!kubectl get pods"
   ]
  },
  {
   "cell_type": "code",
   "execution_count": 39,
   "id": "085173b9",
   "metadata": {},
   "outputs": [
    {
     "name": "stdout",
     "output_type": "stream",
     "text": [
      "pod/color-backend unchanged\n",
      "pod/color-frontend unchanged\n",
      "deployment.apps/color-api unchanged\n"
     ]
    }
   ],
   "source": [
    "!kubectl apply -f Labels-Selector/."
   ]
  },
  {
   "cell_type": "code",
   "execution_count": 41,
   "id": "ede514ca",
   "metadata": {},
   "outputs": [
    {
     "name": "stdout",
     "output_type": "stream",
     "text": [
      "NAME                         READY   STATUS    RESTARTS   AGE\n",
      "color-api-559655656c-4jkw9   1/1     Running   0          25s\n",
      "color-api-559655656c-9gqj6   1/1     Running   0          25s\n",
      "color-api-559655656c-nprkk   1/1     Running   0          25s\n",
      "color-api-559655656c-xmdfc   1/1     Running   0          25s\n",
      "color-api-559655656c-xznsn   1/1     Running   0          25s\n",
      "color-backend                1/1     Running   0          25s\n",
      "color-frontend               1/1     Running   0          25s\n"
     ]
    }
   ],
   "source": [
    "!kubectl get pods"
   ]
  },
  {
   "cell_type": "code",
   "execution_count": 42,
   "id": "72117647",
   "metadata": {},
   "outputs": [
    {
     "name": "stdout",
     "output_type": "stream",
     "text": [
      "NAME        READY   UP-TO-DATE   AVAILABLE   AGE\n",
      "color-api   5/5     5            5           26s\n"
     ]
    }
   ],
   "source": [
    "!kubectl get deployments"
   ]
  },
  {
   "cell_type": "code",
   "execution_count": 45,
   "id": "0ca30c71",
   "metadata": {},
   "outputs": [
    {
     "name": "stdout",
     "output_type": "stream",
     "text": [
      "NAME                         READY   STATUS    RESTARTS   AGE   APP             TIER       ENVIRONMENT   MANAGED\n",
      "color-api-559655656c-4jkw9   1/1     Running   0          85s   color-api       backend    local         true\n",
      "color-api-559655656c-9gqj6   1/1     Running   0          85s   color-api       backend    local         true\n",
      "color-api-559655656c-nprkk   1/1     Running   0          85s   color-api       backend    local         true\n",
      "color-api-559655656c-xmdfc   1/1     Running   0          85s   color-api       backend    local         true\n",
      "color-api-559655656c-xznsn   1/1     Running   0          85s   color-api       backend    local         true\n",
      "color-backend                1/1     Running   0          85s   color-backend   backend    local         \n",
      "color-frontend               1/1     Running   0          85s   color-api       frontend   local         \n"
     ]
    }
   ],
   "source": [
    "!kubectl get pods -Lapp -Ltier -Lenvironment -Lmanaged"
   ]
  },
  {
   "cell_type": "code",
   "execution_count": 46,
   "id": "d090e50a",
   "metadata": {},
   "outputs": [
    {
     "name": "stdout",
     "output_type": "stream",
     "text": [
      "pod \"color-backend\" deleted\n",
      "pod \"color-frontend\" deleted\n",
      "deployment.apps \"color-api\" deleted\n"
     ]
    }
   ],
   "source": [
    "!kubectl delete -f Labels-Selector/."
   ]
  },
  {
   "cell_type": "code",
   "execution_count": null,
   "id": "c31e72e3",
   "metadata": {},
   "outputs": [],
   "source": []
  }
 ],
 "metadata": {
  "kernelspec": {
   "display_name": ".venv",
   "language": "python",
   "name": "python3"
  },
  "language_info": {
   "codemirror_mode": {
    "name": "ipython",
    "version": 3
   },
   "file_extension": ".py",
   "mimetype": "text/x-python",
   "name": "python",
   "nbconvert_exporter": "python",
   "pygments_lexer": "ipython3",
   "version": "3.13.5"
  }
 },
 "nbformat": 4,
 "nbformat_minor": 5
}
