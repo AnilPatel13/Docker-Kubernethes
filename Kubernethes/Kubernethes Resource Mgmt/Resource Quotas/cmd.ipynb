{
 "cells": [
  {
   "cell_type": "code",
   "execution_count": 8,
   "id": "52aeb583",
   "metadata": {},
   "outputs": [
    {
     "name": "stdout",
     "output_type": "stream",
     "text": [
      "namespace/dev unchanged\n",
      "resourcequota/dev-quota configured\n",
      "namespace/prod unchanged\n",
      "resourcequota/prod-quota configured\n"
     ]
    }
   ],
   "source": [
    "!kubectl apply -f ."
   ]
  },
  {
   "cell_type": "code",
   "execution_count": 9,
   "id": "d5abf757",
   "metadata": {},
   "outputs": [
    {
     "name": "stdout",
     "output_type": "stream",
     "text": [
      "NAME              STATUS   AGE\n",
      "default           Active   47h\n",
      "dev               Active   118s\n",
      "kube-node-lease   Active   47h\n",
      "kube-public       Active   47h\n",
      "kube-system       Active   47h\n",
      "prod              Active   118s\n"
     ]
    }
   ],
   "source": [
    "!kubectl get ns"
   ]
  },
  {
   "cell_type": "code",
   "execution_count": 10,
   "id": "08d5a580",
   "metadata": {},
   "outputs": [
    {
     "name": "stdout",
     "output_type": "stream",
     "text": [
      "NAMESPACE   NAME         AGE   REQUEST                                     LIMIT\n",
      "dev         dev-quota    2m    requests.cpu: 0/2, requests.memory: 0/2Gi   limits.cpu: 0/4, limits.memory: 0/4Gi\n",
      "prod        prod-quota   2m    requests.cpu: 0/4, requests.memory: 0/4Gi   limits.cpu: 0/8, limits.memory: 0/16Gi\n"
     ]
    }
   ],
   "source": [
    "!kubectl get resourcequota -A"
   ]
  },
  {
   "cell_type": "code",
   "execution_count": 11,
   "id": "2e0abb3d",
   "metadata": {},
   "outputs": [
    {
     "name": "stdout",
     "output_type": "stream",
     "text": [
      "Name:            dev-quota\n",
      "Namespace:       dev\n",
      "Resource         Used  Hard\n",
      "--------         ----  ----\n",
      "limits.cpu       0     4\n",
      "limits.memory    0     4Gi\n",
      "requests.cpu     0     2\n",
      "requests.memory  0     2Gi\n",
      "\n",
      "\n",
      "Name:            prod-quota\n",
      "Namespace:       prod\n",
      "Resource         Used  Hard\n",
      "--------         ----  ----\n",
      "limits.cpu       0     8\n",
      "limits.memory    0     16Gi\n",
      "requests.cpu     0     4\n",
      "requests.memory  0     4Gi\n"
     ]
    }
   ],
   "source": [
    "!kubectl describe resourcequota -A"
   ]
  },
  {
   "cell_type": "code",
   "execution_count": 12,
   "id": "f567c78a",
   "metadata": {},
   "outputs": [
    {
     "name": "stdout",
     "output_type": "stream",
     "text": [
      "pod/color-api created\n",
      "namespace/dev unchanged\n",
      "resourcequota/dev-quota unchanged\n",
      "namespace/prod unchanged\n",
      "resourcequota/prod-quota unchanged\n"
     ]
    }
   ],
   "source": [
    "!kubectl apply -f ."
   ]
  },
  {
   "cell_type": "code",
   "execution_count": 13,
   "id": "baba0247",
   "metadata": {},
   "outputs": [
    {
     "name": "stdout",
     "output_type": "stream",
     "text": [
      "NAME        READY   STATUS    RESTARTS   AGE\n",
      "color-api   1/1     Running   0          12s\n"
     ]
    }
   ],
   "source": [
    "!kubectl get pod -n dev"
   ]
  },
  {
   "cell_type": "code",
   "execution_count": 14,
   "id": "8b006c21",
   "metadata": {},
   "outputs": [
    {
     "name": "stdout",
     "output_type": "stream",
     "text": [
      "Name:             color-api\n",
      "Namespace:        dev\n",
      "Priority:         0\n",
      "Service Account:  default\n",
      "Node:             docker-desktop/192.168.65.3\n",
      "Start Time:       Sat, 30 Aug 2025 19:18:27 -0400\n",
      "Labels:           app=color-api\n",
      "Annotations:      <none>\n",
      "Status:           Running\n",
      "IP:               10.1.1.101\n",
      "IPs:\n",
      "  IP:  10.1.1.101\n",
      "Containers:\n",
      "  color-api:\n",
      "    Container ID:   docker://b2a531c4c7d42e6bb741d6ed0777d758c4d75fa14da2c6c24c354827b004909c\n",
      "    Image:          anil1318/color-api:1.1.0\n",
      "    Image ID:       docker-pullable://anil1318/color-api@sha256:d2ed1442bbc67fcc6a58b73a5c4fd13ba00e7ffa200c7c0c06073826baca79b4\n",
      "    Port:           80/TCP\n",
      "    Host Port:      0/TCP\n",
      "    State:          Running\n",
      "      Started:      Sat, 30 Aug 2025 19:18:27 -0400\n",
      "    Ready:          True\n",
      "    Restart Count:  0\n",
      "    Limits:\n",
      "      cpu:     500m\n",
      "      memory:  512Mi\n",
      "    Requests:\n",
      "      cpu:        200m\n",
      "      memory:     256Mi\n",
      "    Environment:  <none>\n",
      "    Mounts:\n",
      "      /var/run/secrets/kubernetes.io/serviceaccount from kube-api-access-9wnkx (ro)\n",
      "Conditions:\n",
      "  Type                        Status\n",
      "  PodReadyToStartContainers   True \n",
      "  Initialized                 True \n",
      "  Ready                       True \n",
      "  ContainersReady             True \n",
      "  PodScheduled                True \n",
      "Volumes:\n",
      "  kube-api-access-9wnkx:\n",
      "    Type:                    Projected (a volume that contains injected data from multiple sources)\n",
      "    TokenExpirationSeconds:  3607\n",
      "    ConfigMapName:           kube-root-ca.crt\n",
      "    ConfigMapOptional:       <nil>\n",
      "    DownwardAPI:             true\n",
      "QoS Class:                   Burstable\n",
      "Node-Selectors:              <none>\n",
      "Tolerations:                 node.kubernetes.io/not-ready:NoExecute op=Exists for 300s\n",
      "                             node.kubernetes.io/unreachable:NoExecute op=Exists for 300s\n",
      "Events:\n",
      "  Type    Reason     Age   From               Message\n",
      "  ----    ------     ----  ----               -------\n",
      "  Normal  Scheduled  28s   default-scheduler  Successfully assigned dev/color-api to docker-desktop\n",
      "  Normal  Pulled     29s   kubelet            Container image \"anil1318/color-api:1.1.0\" already present on machine\n",
      "  Normal  Created    29s   kubelet            Created container: color-api\n",
      "  Normal  Started    28s   kubelet            Started container color-api\n"
     ]
    }
   ],
   "source": [
    "!kubectl describe pod color-api -n dev"
   ]
  },
  {
   "cell_type": "code",
   "execution_count": 15,
   "id": "5be5c911",
   "metadata": {},
   "outputs": [
    {
     "name": "stdout",
     "output_type": "stream",
     "text": [
      "pod/color-api unchanged\n",
      "namespace/dev unchanged\n",
      "resourcequota/dev-quota unchanged\n",
      "namespace/prod unchanged\n",
      "resourcequota/prod-quota unchanged\n"
     ]
    },
    {
     "name": "stderr",
     "output_type": "stream",
     "text": [
      "Error from server (Forbidden): error when creating \"heavy-api-pod.yaml\": pods \"heavy-api\" is forbidden: exceeded quota: dev-quota, requested: limits.cpu=8,limits.memory=12Gi,requests.cpu=4,requests.memory=4Gi, used: limits.cpu=500m,limits.memory=512Mi,requests.cpu=200m,requests.memory=256Mi, limited: limits.cpu=4,limits.memory=4Gi,requests.cpu=2,requests.memory=2Gi\n"
     ]
    }
   ],
   "source": [
    "!kubectl apply -f ."
   ]
  },
  {
   "cell_type": "code",
   "execution_count": 17,
   "id": "9f536f45",
   "metadata": {},
   "outputs": [
    {
     "name": "stdout",
     "output_type": "stream",
     "text": [
      "pod \"color-api\" deleted\n",
      "namespace \"dev\" deleted\n",
      "resourcequota \"dev-quota\" deleted\n",
      "namespace \"prod\" deleted\n",
      "resourcequota \"prod-quota\" deleted\n"
     ]
    },
    {
     "name": "stderr",
     "output_type": "stream",
     "text": [
      "Error from server (NotFound): error when deleting \"heavy-api-pod.yaml\": pods \"heavy-api\" not found\n"
     ]
    }
   ],
   "source": [
    "!kubectl delete -f ."
   ]
  },
  {
   "cell_type": "code",
   "execution_count": 19,
   "id": "1f193b3b",
   "metadata": {},
   "outputs": [
    {
     "name": "stdout",
     "output_type": "stream",
     "text": [
      "namespace/dev created\n",
      "resourcequota/dev-quota created\n"
     ]
    }
   ],
   "source": [
    "!kubectl apply -f dev-ns.yaml"
   ]
  },
  {
   "cell_type": "code",
   "execution_count": 20,
   "id": "d31b3a53",
   "metadata": {},
   "outputs": [
    {
     "name": "stdout",
     "output_type": "stream",
     "text": [
      "NAME              STATUS   AGE\n",
      "default           Active   47h\n",
      "dev               Active   9s\n",
      "kube-node-lease   Active   47h\n",
      "kube-public       Active   47h\n",
      "kube-system       Active   47h\n"
     ]
    }
   ],
   "source": [
    "!kubectl get ns -A"
   ]
  },
  {
   "cell_type": "code",
   "execution_count": 21,
   "id": "1684613b",
   "metadata": {},
   "outputs": [
    {
     "name": "stdout",
     "output_type": "stream",
     "text": [
      "Name:            dev-quota\n",
      "Namespace:       dev\n",
      "Resource         Used  Hard\n",
      "--------         ----  ----\n",
      "limits.cpu       0     4\n",
      "limits.memory    0     4Gi\n",
      "requests.cpu     0     2\n",
      "requests.memory  0     2Gi\n"
     ]
    }
   ],
   "source": [
    "!kubectl describe resourcequota -A"
   ]
  },
  {
   "cell_type": "code",
   "execution_count": 22,
   "id": "9a65a6fb",
   "metadata": {},
   "outputs": [
    {
     "name": "stdout",
     "output_type": "stream",
     "text": [
      "deployment.apps/color-api-deployment created\n"
     ]
    }
   ],
   "source": [
    "!kubectl apply -f color-api-depl.yaml"
   ]
  },
  {
   "cell_type": "code",
   "execution_count": 24,
   "id": "70d38210",
   "metadata": {},
   "outputs": [
    {
     "name": "stdout",
     "output_type": "stream",
     "text": [
      "NAME                   READY   UP-TO-DATE   AVAILABLE   AGE\n",
      "color-api-deployment   5/5     5            5           23s\n"
     ]
    }
   ],
   "source": [
    "!kubectl get deployment -n dev"
   ]
  },
  {
   "cell_type": "code",
   "execution_count": 27,
   "id": "bf49573a",
   "metadata": {},
   "outputs": [
    {
     "name": "stdout",
     "output_type": "stream",
     "text": [
      "NAME                                   READY   STATUS    RESTARTS   AGE\n",
      "color-api-deployment-799757688-dmnqz   1/1     Running   0          49s\n",
      "color-api-deployment-799757688-k9p4c   1/1     Running   0          49s\n",
      "color-api-deployment-799757688-pc6jx   1/1     Running   0          49s\n",
      "color-api-deployment-799757688-rp26q   1/1     Running   0          49s\n",
      "color-api-deployment-799757688-wd5lv   1/1     Running   0          49s\n"
     ]
    }
   ],
   "source": [
    "!kubectl get pods -n dev"
   ]
  },
  {
   "cell_type": "code",
   "execution_count": 29,
   "id": "52906fbf",
   "metadata": {},
   "outputs": [
    {
     "name": "stdout",
     "output_type": "stream",
     "text": [
      "Name:            dev-quota\n",
      "Namespace:       dev\n",
      "Resource         Used    Hard\n",
      "--------         ----    ----\n",
      "limits.cpu       2500m   4\n",
      "limits.memory    2560Mi  4Gi\n",
      "requests.cpu     1       2\n",
      "requests.memory  1280Mi  2Gi\n"
     ]
    }
   ],
   "source": [
    "!kubectl describe resourcequota -A"
   ]
  },
  {
   "cell_type": "code",
   "execution_count": 30,
   "id": "e257f891",
   "metadata": {},
   "outputs": [
    {
     "name": "stdout",
     "output_type": "stream",
     "text": [
      "deployment.apps/color-api-deployment configured\n"
     ]
    }
   ],
   "source": [
    "!kubectl apply -f color-api-depl.yaml"
   ]
  },
  {
   "cell_type": "code",
   "execution_count": 32,
   "id": "a6663ab2",
   "metadata": {},
   "outputs": [
    {
     "name": "stdout",
     "output_type": "stream",
     "text": [
      "NAME                   READY   UP-TO-DATE   AVAILABLE   AGE\n",
      "color-api-deployment   8/10    8            8           2m59s\n"
     ]
    }
   ],
   "source": [
    "!kubectl get deployment -n dev"
   ]
  },
  {
   "cell_type": "code",
   "execution_count": 33,
   "id": "52c6a83e",
   "metadata": {},
   "outputs": [
    {
     "name": "stdout",
     "output_type": "stream",
     "text": [
      "Name:            dev-quota\n",
      "Namespace:       dev\n",
      "Resource         Used   Hard\n",
      "--------         ----   ----\n",
      "limits.cpu       4      4\n",
      "limits.memory    4Gi    4Gi\n",
      "requests.cpu     1600m  2\n",
      "requests.memory  2Gi    2Gi\n"
     ]
    }
   ],
   "source": [
    "!kubectl describe resourcequota -A"
   ]
  },
  {
   "cell_type": "code",
   "execution_count": 34,
   "id": "08a82dca",
   "metadata": {},
   "outputs": [
    {
     "name": "stdout",
     "output_type": "stream",
     "text": [
      "NAME                                   READY   STATUS    RESTARTS   AGE\n",
      "color-api-deployment-799757688-dmnqz   1/1     Running   0          3m42s\n",
      "color-api-deployment-799757688-hs88f   1/1     Running   0          58s\n",
      "color-api-deployment-799757688-k9p4c   1/1     Running   0          3m42s\n",
      "color-api-deployment-799757688-pc6jx   1/1     Running   0          3m42s\n",
      "color-api-deployment-799757688-pms45   1/1     Running   0          58s\n",
      "color-api-deployment-799757688-rp26q   1/1     Running   0          3m42s\n",
      "color-api-deployment-799757688-wd5lv   1/1     Running   0          3m42s\n",
      "color-api-deployment-799757688-x8ss6   1/1     Running   0          58s\n"
     ]
    }
   ],
   "source": [
    "!kubectl get pods -n dev"
   ]
  },
  {
   "cell_type": "code",
   "execution_count": 38,
   "id": "1a3d5e31",
   "metadata": {},
   "outputs": [
    {
     "name": "stdout",
     "output_type": "stream",
     "text": [
      "^C\n"
     ]
    },
    {
     "name": "stdout",
     "output_type": "stream",
     "text": [
      "Waiting for deployment \"color-api-deployment\" rollout to finish: 8 out of 10 new replicas have been updated...\n",
      "Waiting for deployment spec update to be observed...\n",
      "Waiting for deployment spec update to be observed...\n",
      "Waiting for deployment \"color-api-deployment\" rollout to finish: 0 out of 10 new replicas have been updated...\n",
      "Waiting for deployment \"color-api-deployment\" rollout to finish: 0 out of 10 new replicas have been updated...\n",
      "Waiting for deployment \"color-api-deployment\" rollout to finish: 3 out of 10 new replicas have been updated...\n",
      "Waiting for deployment \"color-api-deployment\" rollout to finish: 5 out of 10 new replicas have been updated...\n",
      "Waiting for deployment \"color-api-deployment\" rollout to finish: 5 out of 10 new replicas have been updated...\n",
      "Waiting for deployment \"color-api-deployment\" rollout to finish: 5 out of 10 new replicas have been updated...\n",
      "Waiting for deployment \"color-api-deployment\" rollout to finish: 5 out of 10 new replicas have been updated...\n",
      "Waiting for deployment \"color-api-deployment\" rollout to finish: 5 out of 10 new replicas have been updated...\n",
      "Waiting for deployment \"color-api-deployment\" rollout to finish: 6 out of 10 new replicas have been updated...\n",
      "Waiting for deployment \"color-api-deployment\" rollout to finish: 6 out of 10 new replicas have been updated...\n",
      "Waiting for deployment \"color-api-deployment\" rollout to finish: 6 out of 10 new replicas have been updated...\n",
      "Waiting for deployment \"color-api-deployment\" rollout to finish: 6 out of 10 new replicas have been updated...\n",
      "Waiting for deployment \"color-api-deployment\" rollout to finish: 6 out of 10 new replicas have been updated...\n",
      "Waiting for deployment \"color-api-deployment\" rollout to finish: 8 out of 10 new replicas have been updated...\n",
      "Waiting for deployment \"color-api-deployment\" rollout to finish: 8 out of 10 new replicas have been updated...\n",
      "Waiting for deployment \"color-api-deployment\" rollout to finish: 8 out of 10 new replicas have been updated...\n",
      "Waiting for deployment \"color-api-deployment\" rollout to finish: 8 out of 10 new replicas have been updated...\n",
      "Waiting for deployment \"color-api-deployment\" rollout to finish: 9 out of 10 new replicas have been updated...\n",
      "Waiting for deployment \"color-api-deployment\" rollout to finish: 3 old replicas are pending termination...\n",
      "Waiting for deployment \"color-api-deployment\" rollout to finish: 3 old replicas are pending termination...\n",
      "Waiting for deployment \"color-api-deployment\" rollout to finish: 3 old replicas are pending termination...\n",
      "Waiting for deployment \"color-api-deployment\" rollout to finish: 3 old replicas are pending termination...\n",
      "Waiting for deployment \"color-api-deployment\" rollout to finish: 2 old replicas are pending termination...\n",
      "Waiting for deployment \"color-api-deployment\" rollout to finish: 2 old replicas are pending termination...\n",
      "Waiting for deployment \"color-api-deployment\" rollout to finish: 1 old replicas are pending termination...\n",
      "Waiting for deployment \"color-api-deployment\" rollout to finish: 1 old replicas are pending termination...\n",
      "Waiting for deployment \"color-api-deployment\" rollout to finish: 1 old replicas are pending termination...\n",
      "Waiting for deployment \"color-api-deployment\" rollout to finish: 8 of 10 updated replicas are available...\n",
      "Waiting for deployment \"color-api-deployment\" rollout to finish: 9 of 10 updated replicas are available...\n",
      "deployment \"color-api-deployment\" successfully rolled out\n"
     ]
    }
   ],
   "source": [
    "!kubectl rollout status deploy/color-api-deployment  -n dev"
   ]
  },
  {
   "cell_type": "code",
   "execution_count": 40,
   "id": "f6abcb26",
   "metadata": {},
   "outputs": [
    {
     "name": "stdout",
     "output_type": "stream",
     "text": [
      "Name:                   color-api-deployment\n",
      "Namespace:              dev\n",
      "CreationTimestamp:      Sat, 30 Aug 2025 19:30:55 -0400\n",
      "Labels:                 app=color-api\n",
      "Annotations:            deployment.kubernetes.io/revision: 1\n",
      "Selector:               app=color-api\n",
      "Replicas:               10 desired | 8 updated | 8 total | 8 available | 2 unavailable\n",
      "StrategyType:           RollingUpdate\n",
      "MinReadySeconds:        0\n",
      "RollingUpdateStrategy:  25% max unavailable, 25% max surge\n",
      "Pod Template:\n",
      "  Labels:  app=color-api\n",
      "  Containers:\n",
      "   color-api:\n",
      "    Image:      anil1318/color-api:1.1.0\n",
      "    Port:       80/TCP\n",
      "    Host Port:  0/TCP\n",
      "    Limits:\n",
      "      cpu:     500m\n",
      "      memory:  512Mi\n",
      "    Requests:\n",
      "      cpu:         200m\n",
      "      memory:      256Mi\n",
      "    Environment:   <none>\n",
      "    Mounts:        <none>\n",
      "  Volumes:         <none>\n",
      "  Node-Selectors:  <none>\n",
      "  Tolerations:     <none>\n",
      "Conditions:\n",
      "  Type             Status  Reason\n",
      "  ----             ------  ------\n",
      "  Progressing      True    NewReplicaSetAvailable\n",
      "  ReplicaFailure   True    FailedCreate\n",
      "  Available        True    MinimumReplicasAvailable\n",
      "OldReplicaSets:    <none>\n",
      "NewReplicaSet:     color-api-deployment-799757688 (8/10 replicas created)\n",
      "Events:\n",
      "  Type    Reason             Age    From                   Message\n",
      "  ----    ------             ----   ----                   -------\n",
      "  Normal  ScalingReplicaSet  5m42s  deployment-controller  Scaled up replica set color-api-deployment-799757688 from 0 to 5\n",
      "  Normal  ScalingReplicaSet  2m58s  deployment-controller  Scaled up replica set color-api-deployment-799757688 from 5 to 10\n"
     ]
    }
   ],
   "source": [
    "!kubectl describe deploy/color-api-deployment -n dev"
   ]
  },
  {
   "cell_type": "code",
   "execution_count": 41,
   "id": "1440acd0",
   "metadata": {},
   "outputs": [
    {
     "name": "stdout",
     "output_type": "stream",
     "text": [
      "NAME                             DESIRED   CURRENT   READY   AGE\n",
      "color-api-deployment-799757688   10        8         8       6m10s\n"
     ]
    }
   ],
   "source": [
    "!kubectl get rs -n dev"
   ]
  },
  {
   "cell_type": "code",
   "execution_count": 42,
   "id": "23c3a03a",
   "metadata": {},
   "outputs": [
    {
     "name": "stdout",
     "output_type": "stream",
     "text": [
      "Name:           color-api-deployment-799757688\n",
      "Namespace:      dev\n",
      "Selector:       app=color-api,pod-template-hash=799757688\n",
      "Labels:         app=color-api\n",
      "                pod-template-hash=799757688\n",
      "Annotations:    deployment.kubernetes.io/desired-replicas: 10\n",
      "                deployment.kubernetes.io/max-replicas: 13\n",
      "                deployment.kubernetes.io/revision: 1\n",
      "Controlled By:  Deployment/color-api-deployment\n",
      "Replicas:       8 current / 10 desired\n",
      "Pods Status:    8 Running / 0 Waiting / 0 Succeeded / 0 Failed\n",
      "Pod Template:\n",
      "  Labels:  app=color-api\n",
      "           pod-template-hash=799757688\n",
      "  Containers:\n",
      "   color-api:\n",
      "    Image:      anil1318/color-api:1.1.0\n",
      "    Port:       80/TCP\n",
      "    Host Port:  0/TCP\n",
      "    Limits:\n",
      "      cpu:     500m\n",
      "      memory:  512Mi\n",
      "    Requests:\n",
      "      cpu:         200m\n",
      "      memory:      256Mi\n",
      "    Environment:   <none>\n",
      "    Mounts:        <none>\n",
      "  Volumes:         <none>\n",
      "  Node-Selectors:  <none>\n",
      "  Tolerations:     <none>\n",
      "Conditions:\n",
      "  Type             Status  Reason\n",
      "  ----             ------  ------\n",
      "  ReplicaFailure   True    FailedCreate\n",
      "Events:\n",
      "  Type     Reason            Age                  From                   Message\n",
      "  ----     ------            ----                 ----                   -------\n",
      "  Normal   SuccessfulCreate  6m40s                replicaset-controller  Created pod: color-api-deployment-799757688-rp26q\n",
      "  Normal   SuccessfulCreate  6m40s                replicaset-controller  Created pod: color-api-deployment-799757688-wd5lv\n",
      "  Normal   SuccessfulCreate  6m40s                replicaset-controller  Created pod: color-api-deployment-799757688-pc6jx\n",
      "  Normal   SuccessfulCreate  6m40s                replicaset-controller  Created pod: color-api-deployment-799757688-k9p4c\n",
      "  Normal   SuccessfulCreate  6m40s                replicaset-controller  Created pod: color-api-deployment-799757688-dmnqz\n",
      "  Normal   SuccessfulCreate  3m56s                replicaset-controller  Created pod: color-api-deployment-799757688-x8ss6\n",
      "  Normal   SuccessfulCreate  3m56s                replicaset-controller  Created pod: color-api-deployment-799757688-hs88f\n",
      "  Normal   SuccessfulCreate  3m56s                replicaset-controller  Created pod: color-api-deployment-799757688-pms45\n",
      "  Warning  FailedCreate      3m56s                replicaset-controller  Error creating: pods \"color-api-deployment-799757688-4h2hz\" is forbidden: exceeded quota: dev-quota, requested: limits.cpu=500m,limits.memory=512Mi,requests.memory=256Mi, used: limits.cpu=4,limits.memory=4Gi,requests.memory=2Gi, limited: limits.cpu=4,limits.memory=4Gi,requests.memory=2Gi\n",
      "  Warning  FailedCreate      3m56s                replicaset-controller  Error creating: pods \"color-api-deployment-799757688-fbcb7\" is forbidden: exceeded quota: dev-quota, requested: limits.cpu=500m,limits.memory=512Mi,requests.memory=256Mi, used: limits.cpu=4,limits.memory=4Gi,requests.memory=2Gi, limited: limits.cpu=4,limits.memory=4Gi,requests.memory=2Gi\n",
      "  Warning  FailedCreate      3m56s                replicaset-controller  Error creating: pods \"color-api-deployment-799757688-s6knv\" is forbidden: exceeded quota: dev-quota, requested: limits.cpu=500m,limits.memory=512Mi,requests.memory=256Mi, used: limits.cpu=4,limits.memory=4Gi,requests.memory=2Gi, limited: limits.cpu=4,limits.memory=4Gi,requests.memory=2Gi\n",
      "  Warning  FailedCreate      3m56s                replicaset-controller  Error creating: pods \"color-api-deployment-799757688-rw7nl\" is forbidden: exceeded quota: dev-quota, requested: limits.cpu=500m,limits.memory=512Mi,requests.memory=256Mi, used: limits.cpu=4,limits.memory=4Gi,requests.memory=2Gi, limited: limits.cpu=4,limits.memory=4Gi,requests.memory=2Gi\n",
      "  Warning  FailedCreate      3m56s                replicaset-controller  Error creating: pods \"color-api-deployment-799757688-xbg28\" is forbidden: exceeded quota: dev-quota, requested: limits.cpu=500m,limits.memory=512Mi,requests.memory=256Mi, used: limits.cpu=4,limits.memory=4Gi,requests.memory=2Gi, limited: limits.cpu=4,limits.memory=4Gi,requests.memory=2Gi\n",
      "  Warning  FailedCreate      3m56s                replicaset-controller  Error creating: pods \"color-api-deployment-799757688-t79b5\" is forbidden: exceeded quota: dev-quota, requested: limits.cpu=500m,limits.memory=512Mi,requests.memory=256Mi, used: limits.cpu=4,limits.memory=4Gi,requests.memory=2Gi, limited: limits.cpu=4,limits.memory=4Gi,requests.memory=2Gi\n",
      "  Warning  FailedCreate      3m55s                replicaset-controller  Error creating: pods \"color-api-deployment-799757688-t6xbx\" is forbidden: exceeded quota: dev-quota, requested: limits.cpu=500m,limits.memory=512Mi,requests.memory=256Mi, used: limits.cpu=4,limits.memory=4Gi,requests.memory=2Gi, limited: limits.cpu=4,limits.memory=4Gi,requests.memory=2Gi\n",
      "  Warning  FailedCreate      3m55s                replicaset-controller  Error creating: pods \"color-api-deployment-799757688-j4rnh\" is forbidden: exceeded quota: dev-quota, requested: limits.cpu=500m,limits.memory=512Mi,requests.memory=256Mi, used: limits.cpu=4,limits.memory=4Gi,requests.memory=2Gi, limited: limits.cpu=4,limits.memory=4Gi,requests.memory=2Gi\n",
      "  Warning  FailedCreate      3m55s                replicaset-controller  Error creating: pods \"color-api-deployment-799757688-cmfm4\" is forbidden: exceeded quota: dev-quota, requested: limits.cpu=500m,limits.memory=512Mi,requests.memory=256Mi, used: limits.cpu=4,limits.memory=4Gi,requests.memory=2Gi, limited: limits.cpu=4,limits.memory=4Gi,requests.memory=2Gi\n",
      "  Warning  FailedCreate      69s (x9 over 3m54s)  replicaset-controller  (combined from similar events): Error creating: pods \"color-api-deployment-799757688-nqzqn\" is forbidden: exceeded quota: dev-quota, requested: limits.cpu=500m,limits.memory=512Mi,requests.memory=256Mi, used: limits.cpu=4,limits.memory=4Gi,requests.memory=2Gi, limited: limits.cpu=4,limits.memory=4Gi,requests.memory=2Gi\n",
      "\n"
     ]
    }
   ],
   "source": [
    "!kubectl describe rs color-api-deployment-79975768 -n dev"
   ]
  },
  {
   "cell_type": "code",
   "execution_count": 43,
   "id": "486e065f",
   "metadata": {},
   "outputs": [
    {
     "name": "stdout",
     "output_type": "stream",
     "text": [
      "namespace/dev unchanged\n",
      "resourcequota/dev-quota configured\n"
     ]
    }
   ],
   "source": [
    "!kubectl apply -f dev-ns.yaml"
   ]
  },
  {
   "cell_type": "code",
   "execution_count": 54,
   "id": "53240ec5",
   "metadata": {},
   "outputs": [
    {
     "name": "stdout",
     "output_type": "stream",
     "text": [
      "Name:            dev-quota\n",
      "Namespace:       dev\n",
      "Resource         Used    Hard\n",
      "--------         ----    ----\n",
      "limits.cpu       5       8\n",
      "limits.memory    5Gi     8Gi\n",
      "requests.cpu     2       4\n",
      "requests.memory  2560Mi  4Gi\n"
     ]
    }
   ],
   "source": [
    "!kubectl describe resourcequota -A"
   ]
  },
  {
   "cell_type": "code",
   "execution_count": 47,
   "id": "f77c7278",
   "metadata": {},
   "outputs": [
    {
     "name": "stdout",
     "output_type": "stream",
     "text": [
      "NAME                             DESIRED   CURRENT   READY   AGE\n",
      "color-api-deployment-799757688   10        8         8       9m51s\n"
     ]
    }
   ],
   "source": [
    "!kubectl get rs -n dev"
   ]
  },
  {
   "cell_type": "code",
   "execution_count": 48,
   "id": "2cf02c31",
   "metadata": {},
   "outputs": [
    {
     "name": "stdout",
     "output_type": "stream",
     "text": [
      "deployment.apps/color-api-deployment restarted\n"
     ]
    }
   ],
   "source": [
    "!kubectl rollout restart deploy color-api-deployment -n dev"
   ]
  },
  {
   "cell_type": "code",
   "execution_count": 49,
   "id": "336d8ed2",
   "metadata": {},
   "outputs": [
    {
     "name": "stdout",
     "output_type": "stream",
     "text": [
      "NAME                              DESIRED   CURRENT   READY   AGE\n",
      "color-api-deployment-7895bb5c6b   10        10        10      5s\n",
      "color-api-deployment-799757688    0         0         0       10m\n"
     ]
    }
   ],
   "source": [
    "!kubectl get rs -n dev"
   ]
  },
  {
   "cell_type": "code",
   "execution_count": 50,
   "id": "0f9a14e2",
   "metadata": {},
   "outputs": [
    {
     "name": "stdout",
     "output_type": "stream",
     "text": [
      "NAME                                    READY   STATUS    RESTARTS   AGE\n",
      "color-api-deployment-7895bb5c6b-2lk2x   1/1     Running   0          21s\n",
      "color-api-deployment-7895bb5c6b-8djf9   1/1     Running   0          20s\n",
      "color-api-deployment-7895bb5c6b-c5vm7   1/1     Running   0          21s\n",
      "color-api-deployment-7895bb5c6b-fr9tq   1/1     Running   0          20s\n",
      "color-api-deployment-7895bb5c6b-msml4   1/1     Running   0          20s\n",
      "color-api-deployment-7895bb5c6b-pk6bg   1/1     Running   0          21s\n",
      "color-api-deployment-7895bb5c6b-qjndr   1/1     Running   0          19s\n",
      "color-api-deployment-7895bb5c6b-r4xqb   1/1     Running   0          21s\n",
      "color-api-deployment-7895bb5c6b-w8cqr   1/1     Running   0          21s\n",
      "color-api-deployment-7895bb5c6b-zj8s9   1/1     Running   0          19s\n"
     ]
    }
   ],
   "source": [
    "!kubectl get pod -n dev"
   ]
  },
  {
   "cell_type": "code",
   "execution_count": 51,
   "id": "3ca7bbc4",
   "metadata": {},
   "outputs": [
    {
     "name": "stdout",
     "output_type": "stream",
     "text": [
      "NAME                              DESIRED   CURRENT   READY   AGE\n",
      "color-api-deployment-7895bb5c6b   10        10        10      39s\n",
      "color-api-deployment-799757688    0         0         0       10m\n"
     ]
    }
   ],
   "source": [
    "!kubectl get rs -n dev"
   ]
  },
  {
   "cell_type": "code",
   "execution_count": 53,
   "id": "03c581c0",
   "metadata": {},
   "outputs": [
    {
     "name": "stdout",
     "output_type": "stream",
     "text": [
      "Name:           color-api-deployment-7895bb5c6b\n",
      "Namespace:      dev\n",
      "Selector:       app=color-api,pod-template-hash=7895bb5c6b\n",
      "Labels:         app=color-api\n",
      "                pod-template-hash=7895bb5c6b\n",
      "Annotations:    deployment.kubernetes.io/desired-replicas: 10\n",
      "                deployment.kubernetes.io/max-replicas: 13\n",
      "                deployment.kubernetes.io/revision: 2\n",
      "Controlled By:  Deployment/color-api-deployment\n",
      "Replicas:       10 current / 10 desired\n",
      "Pods Status:    10 Running / 0 Waiting / 0 Succeeded / 0 Failed\n",
      "Pod Template:\n",
      "  Labels:       app=color-api\n",
      "                pod-template-hash=7895bb5c6b\n",
      "  Annotations:  kubectl.kubernetes.io/restartedAt: 2025-08-30T19:41:07-04:00\n",
      "  Containers:\n",
      "   color-api:\n",
      "    Image:      anil1318/color-api:1.1.0\n",
      "    Port:       80/TCP\n",
      "    Host Port:  0/TCP\n",
      "    Limits:\n",
      "      cpu:     500m\n",
      "      memory:  512Mi\n",
      "    Requests:\n",
      "      cpu:         200m\n",
      "      memory:      256Mi\n",
      "    Environment:   <none>\n",
      "    Mounts:        <none>\n",
      "  Volumes:         <none>\n",
      "  Node-Selectors:  <none>\n",
      "  Tolerations:     <none>\n",
      "Events:\n",
      "  Type     Reason            Age   From                   Message\n",
      "  ----     ------            ----  ----                   -------\n",
      "  Normal   SuccessfulCreate  74s   replicaset-controller  Created pod: color-api-deployment-7895bb5c6b-w8cqr\n",
      "  Normal   SuccessfulCreate  74s   replicaset-controller  Created pod: color-api-deployment-7895bb5c6b-r4xqb\n",
      "  Normal   SuccessfulCreate  74s   replicaset-controller  Created pod: color-api-deployment-7895bb5c6b-c5vm7\n",
      "  Normal   SuccessfulCreate  74s   replicaset-controller  Created pod: color-api-deployment-7895bb5c6b-pk6bg\n",
      "  Normal   SuccessfulCreate  74s   replicaset-controller  Created pod: color-api-deployment-7895bb5c6b-2lk2x\n",
      "  Normal   SuccessfulCreate  73s   replicaset-controller  Created pod: color-api-deployment-7895bb5c6b-8djf9\n",
      "  Normal   SuccessfulCreate  73s   replicaset-controller  Created pod: color-api-deployment-7895bb5c6b-msml4\n",
      "  Normal   SuccessfulCreate  73s   replicaset-controller  Created pod: color-api-deployment-7895bb5c6b-fr9tq\n",
      "  Warning  FailedCreate      73s   replicaset-controller  Error creating: pods \"color-api-deployment-7895bb5c6b-b6vwq\" is forbidden: exceeded quota: dev-quota, requested: limits.cpu=500m,limits.memory=512Mi,requests.memory=256Mi, used: limits.cpu=8,limits.memory=8Gi,requests.memory=4Gi, limited: limits.cpu=8,limits.memory=8Gi,requests.memory=4Gi\n",
      "  Warning  FailedCreate      73s   replicaset-controller  Error creating: pods \"color-api-deployment-7895bb5c6b-4mff8\" is forbidden: exceeded quota: dev-quota, requested: limits.cpu=500m,limits.memory=512Mi,requests.memory=256Mi, used: limits.cpu=8,limits.memory=8Gi,requests.memory=4Gi, limited: limits.cpu=8,limits.memory=8Gi,requests.memory=4Gi\n",
      "  Warning  FailedCreate      73s   replicaset-controller  Error creating: pods \"color-api-deployment-7895bb5c6b-wx5g6\" is forbidden: exceeded quota: dev-quota, requested: limits.cpu=500m,limits.memory=512Mi,requests.memory=256Mi, used: limits.cpu=8,limits.memory=8Gi,requests.memory=4Gi, limited: limits.cpu=8,limits.memory=8Gi,requests.memory=4Gi\n",
      "  Warning  FailedCreate      73s   replicaset-controller  Error creating: pods \"color-api-deployment-7895bb5c6b-zmxg8\" is forbidden: exceeded quota: dev-quota, requested: limits.cpu=500m,limits.memory=512Mi,requests.memory=256Mi, used: limits.cpu=8,limits.memory=8Gi,requests.memory=4Gi, limited: limits.cpu=8,limits.memory=8Gi,requests.memory=4Gi\n",
      "  Warning  FailedCreate      72s   replicaset-controller  Error creating: pods \"color-api-deployment-7895bb5c6b-vml7l\" is forbidden: exceeded quota: dev-quota, requested: limits.cpu=500m,limits.memory=512Mi,requests.memory=256Mi, used: limits.cpu=8,limits.memory=8Gi,requests.memory=4Gi, limited: limits.cpu=8,limits.memory=8Gi,requests.memory=4Gi\n",
      "  Warning  FailedCreate      72s   replicaset-controller  Error creating: pods \"color-api-deployment-7895bb5c6b-cwfqp\" is forbidden: exceeded quota: dev-quota, requested: limits.cpu=500m,limits.memory=512Mi,requests.memory=256Mi, used: limits.cpu=8,limits.memory=8Gi,requests.memory=4Gi, limited: limits.cpu=8,limits.memory=8Gi,requests.memory=4Gi\n",
      "  Normal   SuccessfulCreate  72s   replicaset-controller  Created pod: color-api-deployment-7895bb5c6b-zj8s9\n",
      "  Warning  FailedCreate      72s   replicaset-controller  Error creating: pods \"color-api-deployment-7895bb5c6b-rvln7\" is forbidden: exceeded quota: dev-quota, requested: limits.cpu=500m,limits.memory=512Mi,requests.memory=256Mi, used: limits.cpu=8,limits.memory=8Gi,requests.memory=4Gi, limited: limits.cpu=8,limits.memory=8Gi,requests.memory=4Gi\n",
      "  Normal   SuccessfulCreate  72s   replicaset-controller  (combined from similar events): Created pod: color-api-deployment-7895bb5c6b-qjndr\n"
     ]
    }
   ],
   "source": [
    "!kubectl describe rs color-api-deployment-7895bb5c6b -n dev"
   ]
  },
  {
   "cell_type": "code",
   "execution_count": 56,
   "id": "fb675161",
   "metadata": {},
   "outputs": [
    {
     "name": "stderr",
     "output_type": "stream",
     "text": [
      "Error from server (NotFound): error when deleting \"color-api-depl.yaml\": deployments.apps \"color-api-deployment\" not found\n",
      "Error from server (NotFound): error when deleting \"color-api-pod.yaml\": pods \"color-api\" not found\n",
      "Error from server (NotFound): error when deleting \"dev-ns.yaml\": namespaces \"dev\" not found\n",
      "Error from server (NotFound): error when deleting \"dev-ns.yaml\": resourcequotas \"dev-quota\" not found\n",
      "Error from server (NotFound): error when deleting \"prod-ns.yaml\": namespaces \"prod\" not found\n",
      "Error from server (NotFound): error when deleting \"prod-ns.yaml\": resourcequotas \"prod-quota\" not found\n"
     ]
    }
   ],
   "source": [
    "!kubectl delete -f ."
   ]
  },
  {
   "cell_type": "code",
   "execution_count": 57,
   "id": "c73726a4",
   "metadata": {},
   "outputs": [
    {
     "name": "stdout",
     "output_type": "stream",
     "text": [
      "NAME              STATUS   AGE\n",
      "default           Active   47h\n",
      "kube-node-lease   Active   47h\n",
      "kube-public       Active   47h\n",
      "kube-system       Active   47h\n"
     ]
    }
   ],
   "source": [
    "!kubectl get ns"
   ]
  },
  {
   "cell_type": "code",
   "execution_count": 58,
   "id": "aee70972",
   "metadata": {},
   "outputs": [
    {
     "name": "stderr",
     "output_type": "stream",
     "text": [
      "No resources found in default namespace.\n"
     ]
    }
   ],
   "source": [
    "!kubectl get deployments"
   ]
  },
  {
   "cell_type": "code",
   "execution_count": 59,
   "id": "6e506403",
   "metadata": {},
   "outputs": [
    {
     "name": "stderr",
     "output_type": "stream",
     "text": [
      "No resources found in default namespace.\n"
     ]
    }
   ],
   "source": [
    "!kubectl get pods"
   ]
  },
  {
   "cell_type": "code",
   "execution_count": 60,
   "id": "fb23a3d3",
   "metadata": {},
   "outputs": [
    {
     "name": "stdout",
     "output_type": "stream",
     "text": [
      "NAME         TYPE        CLUSTER-IP   EXTERNAL-IP   PORT(S)   AGE\n",
      "kubernetes   ClusterIP   10.96.0.1    <none>        443/TCP   47h\n"
     ]
    }
   ],
   "source": [
    "!kubectl get svc"
   ]
  },
  {
   "cell_type": "code",
   "execution_count": null,
   "id": "d4e9c0e4",
   "metadata": {},
   "outputs": [],
   "source": []
  }
 ],
 "metadata": {
  "kernelspec": {
   "display_name": ".venv",
   "language": "python",
   "name": "python3"
  },
  "language_info": {
   "codemirror_mode": {
    "name": "ipython",
    "version": 3
   },
   "file_extension": ".py",
   "mimetype": "text/x-python",
   "name": "python",
   "nbconvert_exporter": "python",
   "pygments_lexer": "ipython3",
   "version": "3.13.5"
  }
 },
 "nbformat": 4,
 "nbformat_minor": 5
}
