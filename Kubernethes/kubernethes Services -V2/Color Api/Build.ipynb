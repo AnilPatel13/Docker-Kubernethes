{
 "cells": [
  {
   "cell_type": "code",
   "execution_count": 8,
   "id": "330f11c8",
   "metadata": {},
   "outputs": [
    {
     "name": "stderr",
     "output_type": "stream",
     "text": [
      "#0 building with \"desktop-linux\" instance using docker driver\n",
      "\n",
      "#1 [internal] load build definition from Dockerfile\n",
      "#1 transferring dockerfile: 161B done\n",
      "#1 DONE 0.0s\n",
      "\n",
      "#2 [auth] library/node:pull token for registry-1.docker.io\n",
      "#2 DONE 0.0s\n",
      "\n",
      "#3 [internal] load metadata for docker.io/library/node:22-alpine3.20\n",
      "#3 DONE 0.3s\n",
      "\n",
      "#4 [internal] load .dockerignore\n",
      "#4 transferring context: 2B done\n",
      "#4 DONE 0.0s\n",
      "\n",
      "#5 [internal] load build context\n",
      "#5 transferring context: 834B 0.0s done\n",
      "#5 DONE 0.0s\n",
      "\n",
      "#6 [1/5] FROM docker.io/library/node:22-alpine3.20@sha256:2289fb1fba0f4633b08ec47b94a89c7e20b829fc5679f9b7b298eaa2f1ed8b7e\n",
      "#6 resolve docker.io/library/node:22-alpine3.20@sha256:2289fb1fba0f4633b08ec47b94a89c7e20b829fc5679f9b7b298eaa2f1ed8b7e 0.1s done\n",
      "#6 DONE 0.1s\n",
      "\n",
      "#7 [2/5] WORKDIR /app\n",
      "#7 CACHED\n",
      "\n",
      "#8 [3/5] COPY package*.json .\n",
      "#8 CACHED\n",
      "\n",
      "#9 [4/5] RUN npm ci\n",
      "#9 CACHED\n",
      "\n",
      "#10 [5/5] COPY src src\n",
      "#10 DONE 0.1s\n",
      "\n",
      "#11 exporting to image\n",
      "#11 exporting layers\n",
      "#11 exporting layers 0.2s done\n",
      "#11 exporting manifest sha256:4d7fff538f501ca53b838f02ee7dfc24917437aeb125391da0f9959d2b919d4c 0.0s done\n",
      "#11 exporting config sha256:84e291e167079fdb1d0b8c58bd935fe890ecc7a42dcae185a76edc6b3fc9d75d 0.0s done\n",
      "#11 exporting attestation manifest sha256:189ece7a4b6b9e9fc14e7fb411cfa6025ebb6d35a774004f2a75c308d4e74dcd 0.1s done\n",
      "#11 exporting manifest list sha256:90c45d231411262dc65430022f616b9d3e38bd0ccca2554f1422ae9f0dbad015\n",
      "#11 exporting manifest list sha256:90c45d231411262dc65430022f616b9d3e38bd0ccca2554f1422ae9f0dbad015 0.0s done\n",
      "#11 naming to docker.io/anil1318/color-api:1.1.0 done\n",
      "#11 unpacking to docker.io/anil1318/color-api:1.1.0 0.1s done\n",
      "#11 DONE 0.4s\n",
      "\n",
      "View build details: docker-desktop://dashboard/build/desktop-linux/desktop-linux/mcg2vfwu2dr2rkqr6buq6cuc4\n"
     ]
    }
   ],
   "source": [
    "!docker build -t anil1318/color-api:1.1.0 ."
   ]
  },
  {
   "cell_type": "code",
   "execution_count": 9,
   "id": "7b1224c3",
   "metadata": {},
   "outputs": [
    {
     "name": "stdout",
     "output_type": "stream",
     "text": [
      "63c34665c0740474eef25d6efde1c4e08b9b7c233776da12f1134c0ddb3b3a75\n"
     ]
    }
   ],
   "source": [
    "!docker run -d -p 80:80 anil1318/color-api:1.1.0"
   ]
  },
  {
   "cell_type": "code",
   "execution_count": 10,
   "id": "28756de1",
   "metadata": {},
   "outputs": [
    {
     "name": "stdout",
     "output_type": "stream",
     "text": [
      "<h1 style=\"color:blue;\">Hello from Color-API!</h1>\n",
      "            <h2>Hostname: 63c34665c074</p>\n"
     ]
    },
    {
     "name": "stderr",
     "output_type": "stream",
     "text": [
      "  % Total    % Received % Xferd  Average Speed   Time    Time     Time  Current\n",
      "                                 Dload  Upload   Total   Spent    Left  Speed\n",
      "\n",
      "  0     0    0     0    0     0      0      0 --:--:-- --:--:-- --:--:--     0\n",
      "100    93  100    93    0     0  21002      0 --:--:-- --:--:-- --:--:-- 23250\n"
     ]
    }
   ],
   "source": [
    "!curl localhost:80"
   ]
  },
  {
   "cell_type": "code",
   "execution_count": 14,
   "id": "e892387a",
   "metadata": {},
   "outputs": [
    {
     "name": "stdout",
     "output_type": "stream",
     "text": [
      "CONTAINER ID   IMAGE                      COMMAND                  CREATED              STATUS              PORTS                                 NAMES\n",
      "63c34665c074   anil1318/color-api:1.1.0   \"docker-entrypoint.s…\"   About a minute ago   Up About a minute   0.0.0.0:80->80/tcp, [::]:80->80/tcp   modest_swanson\n"
     ]
    }
   ],
   "source": [
    "!docker ps"
   ]
  },
  {
   "cell_type": "code",
   "execution_count": 15,
   "id": "c1e25599",
   "metadata": {},
   "outputs": [
    {
     "name": "stdout",
     "output_type": "stream",
     "text": [
      "63c3\n"
     ]
    }
   ],
   "source": [
    "!docker rm -f 63c3"
   ]
  },
  {
   "cell_type": "code",
   "execution_count": 21,
   "id": "93acc40c",
   "metadata": {},
   "outputs": [
    {
     "name": "stderr",
     "output_type": "stream",
     "text": [
      "#0 building with \"desktop-linux\" instance using docker driver\n",
      "\n",
      "#1 [internal] load build definition from Dockerfile\n",
      "#1 transferring dockerfile: 161B done\n",
      "#1 DONE 0.0s\n",
      "\n",
      "#2 [internal] load metadata for docker.io/library/node:22-alpine3.20\n",
      "#2 DONE 0.3s\n",
      "\n",
      "#3 [internal] load .dockerignore\n",
      "#3 transferring context: 2B done\n",
      "#3 DONE 0.0s\n",
      "\n",
      "#4 [internal] load build context\n",
      "#4 transferring context: 842B 0.0s done\n",
      "#4 DONE 0.1s\n",
      "\n",
      "#5 [1/5] FROM docker.io/library/node:22-alpine3.20@sha256:2289fb1fba0f4633b08ec47b94a89c7e20b829fc5679f9b7b298eaa2f1ed8b7e\n",
      "#5 resolve docker.io/library/node:22-alpine3.20@sha256:2289fb1fba0f4633b08ec47b94a89c7e20b829fc5679f9b7b298eaa2f1ed8b7e\n",
      "#5 resolve docker.io/library/node:22-alpine3.20@sha256:2289fb1fba0f4633b08ec47b94a89c7e20b829fc5679f9b7b298eaa2f1ed8b7e 0.1s done\n",
      "#5 DONE 0.1s\n",
      "\n",
      "#6 [3/5] COPY package*.json .\n",
      "#6 CACHED\n",
      "\n",
      "#7 [2/5] WORKDIR /app\n",
      "#7 CACHED\n",
      "\n",
      "#8 [4/5] RUN npm ci\n",
      "#8 CACHED\n",
      "\n",
      "#9 [5/5] COPY src src\n",
      "#9 DONE 0.1s\n",
      "\n",
      "#10 exporting to image\n",
      "#10 exporting layers\n",
      "#10 exporting layers 0.2s done\n",
      "#10 exporting manifest sha256:696a8548a9fe0bb6cd7011e5d62ec30de5dc9d1d00fd0791afa516bd3db2745a 0.0s done\n",
      "#10 exporting config sha256:baf549b65992883e6a1141d1d0690e58d727d0f5eafb977bd8b7f614910e597d 0.0s done\n",
      "#10 exporting attestation manifest sha256:b2b8753ef57876263d98cbd258150b43e4d35300f6b0b2d686f130ca0dcf48d1 0.1s done\n",
      "#10 exporting manifest list sha256:d2ed1442bbc67fcc6a58b73a5c4fd13ba00e7ffa200c7c0c06073826baca79b4\n",
      "#10 exporting manifest list sha256:d2ed1442bbc67fcc6a58b73a5c4fd13ba00e7ffa200c7c0c06073826baca79b4 0.0s done\n",
      "#10 naming to docker.io/anil1318/color-api:1.1.0 done\n",
      "#10 unpacking to docker.io/anil1318/color-api:1.1.0 0.0s done\n",
      "#10 DONE 0.4s\n",
      "\n",
      "View build details: docker-desktop://dashboard/build/desktop-linux/desktop-linux/o51a1b9tcb2j49nt36agdosuj\n"
     ]
    }
   ],
   "source": [
    "!docker build -t anil1318/color-api:1.1.0 ."
   ]
  },
  {
   "cell_type": "code",
   "execution_count": 26,
   "id": "b5d8593b",
   "metadata": {},
   "outputs": [
    {
     "name": "stdout",
     "output_type": "stream",
     "text": [
      "20b933c7dbf12e5ddb101d562582b4fbab123ce76b983b658d3dab57bf5e1ad4\n"
     ]
    }
   ],
   "source": [
    "!docker run -d -p 80:80 anil1318/color-api:1.1.0"
   ]
  },
  {
   "cell_type": "code",
   "execution_count": 27,
   "id": "7d773d6c",
   "metadata": {},
   "outputs": [
    {
     "name": "stdout",
     "output_type": "stream",
     "text": [
      "<h1 style=\"color:blue;\">Hello from Color-API!</h1>\n",
      "            <h2>Hostname: 20b933c7dbf1</h2>\n"
     ]
    },
    {
     "name": "stderr",
     "output_type": "stream",
     "text": [
      "  % Total    % Received % Xferd  Average Speed   Time    Time     Time  Current\n",
      "                                 Dload  Upload   Total   Spent    Left  Speed\n",
      "\n",
      "  0     0    0     0    0     0      0      0 --:--:-- --:--:-- --:--:--     0\n",
      "100    94  100    94    0     0  13521      0 --:--:-- --:--:-- --:--:-- 15666\n"
     ]
    }
   ],
   "source": [
    "!curl localhost:80"
   ]
  },
  {
   "cell_type": "code",
   "execution_count": 28,
   "id": "807d9f26",
   "metadata": {},
   "outputs": [
    {
     "name": "stdout",
     "output_type": "stream",
     "text": [
      "COLOR : blue, HOSTNAME : 20b933c7dbf1\n"
     ]
    },
    {
     "name": "stderr",
     "output_type": "stream",
     "text": [
      "  % Total    % Received % Xferd  Average Speed   Time    Time     Time  Current\n",
      "                                 Dload  Upload   Total   Spent    Left  Speed\n",
      "\n",
      "  0     0    0     0    0     0      0      0 --:--:-- --:--:-- --:--:--     0\n",
      "100    37  100    37    0     0  11067      0 --:--:-- --:--:-- --:--:-- 12333\n"
     ]
    }
   ],
   "source": [
    "!curl localhost:80/api"
   ]
  },
  {
   "cell_type": "code",
   "execution_count": 29,
   "id": "3c6cb67c",
   "metadata": {},
   "outputs": [
    {
     "name": "stdout",
     "output_type": "stream",
     "text": [
      "{\"color\":\"blue\",\"hostname\":\"20b933c7dbf1\"}\n"
     ]
    },
    {
     "name": "stderr",
     "output_type": "stream",
     "text": [
      "  % Total    % Received % Xferd  Average Speed   Time    Time     Time  Current\n",
      "                                 Dload  Upload   Total   Spent    Left  Speed\n",
      "\n",
      "  0     0    0     0    0     0      0      0 --:--:-- --:--:-- --:--:--     0\n",
      "100    42  100    42    0     0  11554      0 --:--:-- --:--:-- --:--:-- 14000\n"
     ]
    }
   ],
   "source": [
    "!curl \"localhost:80/api?format=json\""
   ]
  },
  {
   "cell_type": "code",
   "execution_count": 30,
   "id": "42adb51e",
   "metadata": {},
   "outputs": [
    {
     "name": "stdout",
     "output_type": "stream",
     "text": [
      "COLOR : blue, HOSTNAME : 20b933c7dbf1\n"
     ]
    },
    {
     "name": "stderr",
     "output_type": "stream",
     "text": [
      "  % Total    % Received % Xferd  Average Speed   Time    Time     Time  Current\n",
      "                                 Dload  Upload   Total   Spent    Left  Speed\n",
      "\n",
      "  0     0    0     0    0     0      0      0 --:--:-- --:--:-- --:--:--     0\n",
      "100    37  100    37    0     0   5462      0 --:--:-- --:--:-- --:--:--  6166\n"
     ]
    }
   ],
   "source": [
    "!curl \"localhost:80/api?format=text\""
   ]
  },
  {
   "cell_type": "code",
   "execution_count": 32,
   "id": "771213e6",
   "metadata": {},
   "outputs": [
    {
     "name": "stdout",
     "output_type": "stream",
     "text": [
      "The push refers to repository [docker.io/anil1318/color-api]\n",
      "2fb8f2e5ca61: Waiting\n",
      "fa78c90741ab: Waiting\n",
      "82bea49235a6: Waiting\n",
      "ee24b7c60dee: Waiting\n",
      "5686a5ee27ed: Waiting\n",
      "0c6d1cca3259: Waiting\n",
      "0a9a5dfd008f: Waiting\n",
      "610c0499c787: Waiting\n",
      "ba4caef5715c: Waiting\n",
      "ba4caef5715c: Waiting\n",
      "2fb8f2e5ca61: Waiting\n",
      "fa78c90741ab: Waiting\n",
      "82bea49235a6: Waiting\n",
      "ee24b7c60dee: Waiting\n",
      "5686a5ee27ed: Waiting\n",
      "0c6d1cca3259: Waiting\n",
      "0a9a5dfd008f: Waiting\n",
      "610c0499c787: Waiting\n",
      "fa78c90741ab: Waiting\n",
      "82bea49235a6: Waiting\n",
      "ee24b7c60dee: Waiting\n",
      "5686a5ee27ed: Waiting\n",
      "0c6d1cca3259: Waiting\n",
      "0a9a5dfd008f: Waiting\n",
      "610c0499c787: Waiting\n",
      "ba4caef5715c: Waiting\n",
      "2fb8f2e5ca61: Waiting\n",
      "2fb8f2e5ca61: Waiting\n",
      "fa78c90741ab: Waiting\n",
      "82bea49235a6: Waiting\n",
      "ee24b7c60dee: Waiting\n",
      "5686a5ee27ed: Waiting\n",
      "0c6d1cca3259: Waiting\n",
      "0a9a5dfd008f: Waiting\n",
      "610c0499c787: Waiting\n",
      "ba4caef5715c: Waiting\n",
      "fa78c90741ab: Layer already exists\n",
      "82bea49235a6: Layer already exists\n",
      "ee24b7c60dee: Layer already exists\n",
      "0c6d1cca3259: Layer already exists\n",
      "0a9a5dfd008f: Layer already exists\n",
      "610c0499c787: Layer already exists\n",
      "ba4caef5715c: Layer already exists\n",
      "5686a5ee27ed: Pushed\n",
      "2fb8f2e5ca61: Pushed\n",
      "1.1.0: digest: sha256:d2ed1442bbc67fcc6a58b73a5c4fd13ba00e7ffa200c7c0c06073826baca79b4 size: 856\n"
     ]
    }
   ],
   "source": [
    "!docker push anil1318/color-api:1.1.0"
   ]
  },
  {
   "cell_type": "code",
   "execution_count": null,
   "id": "2563ef29",
   "metadata": {},
   "outputs": [],
   "source": []
  }
 ],
 "metadata": {
  "kernelspec": {
   "display_name": ".venv",
   "language": "python",
   "name": "python3"
  },
  "language_info": {
   "codemirror_mode": {
    "name": "ipython",
    "version": 3
   },
   "file_extension": ".py",
   "mimetype": "text/x-python",
   "name": "python",
   "nbconvert_exporter": "python",
   "pygments_lexer": "ipython3",
   "version": "3.13.5"
  }
 },
 "nbformat": 4,
 "nbformat_minor": 5
}
