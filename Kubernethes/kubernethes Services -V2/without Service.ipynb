{
 "cells": [
  {
   "cell_type": "code",
   "execution_count": 3,
   "id": "d07f9310",
   "metadata": {},
   "outputs": [
    {
     "name": "stdout",
     "output_type": "stream",
     "text": [
      "deployment.apps/color-api-deployment created\n"
     ]
    }
   ],
   "source": [
    "!kubectl apply -f SERVICES/color-api-depl.yaml"
   ]
  },
  {
   "cell_type": "code",
   "execution_count": 4,
   "id": "7e6ac8b0",
   "metadata": {},
   "outputs": [
    {
     "name": "stdout",
     "output_type": "stream",
     "text": [
      "NAME                   READY   UP-TO-DATE   AVAILABLE   AGE\n",
      "color-api-deployment   10/10   10           10          19s\n"
     ]
    }
   ],
   "source": [
    "!kubectl get deploy"
   ]
  },
  {
   "cell_type": "code",
   "execution_count": 5,
   "id": "54081fc1",
   "metadata": {},
   "outputs": [
    {
     "name": "stdout",
     "output_type": "stream",
     "text": [
      "NAME                                    READY   STATUS    RESTARTS   AGE\n",
      "color-api-deployment-5b5b5c88fd-6kwvz   1/1     Running   0          41s\n",
      "color-api-deployment-5b5b5c88fd-6vssc   1/1     Running   0          41s\n",
      "color-api-deployment-5b5b5c88fd-9ntrt   1/1     Running   0          41s\n",
      "color-api-deployment-5b5b5c88fd-c6tk5   1/1     Running   0          41s\n",
      "color-api-deployment-5b5b5c88fd-cp4zm   1/1     Running   0          41s\n",
      "color-api-deployment-5b5b5c88fd-cpmsf   1/1     Running   0          41s\n",
      "color-api-deployment-5b5b5c88fd-mtn7l   1/1     Running   0          41s\n",
      "color-api-deployment-5b5b5c88fd-sb8mp   1/1     Running   0          41s\n",
      "color-api-deployment-5b5b5c88fd-wjsb9   1/1     Running   0          41s\n",
      "color-api-deployment-5b5b5c88fd-z9tl9   1/1     Running   0          41s\n"
     ]
    }
   ],
   "source": [
    "!kubectl get pods"
   ]
  },
  {
   "cell_type": "code",
   "execution_count": 6,
   "id": "0f778b4f",
   "metadata": {},
   "outputs": [
    {
     "name": "stdout",
     "output_type": "stream",
     "text": [
      "NAME                              DESIRED   CURRENT   READY   AGE\n",
      "color-api-deployment-5b5b5c88fd   10        10        10      84s\n"
     ]
    }
   ],
   "source": [
    "!kubectl get rs "
   ]
  },
  {
   "cell_type": "code",
   "execution_count": 7,
   "id": "bc84fae0",
   "metadata": {},
   "outputs": [
    {
     "name": "stdout",
     "output_type": "stream",
     "text": [
      "Name:             color-api-deployment-5b5b5c88fd-6kwvz\n",
      "Namespace:        default\n",
      "Priority:         0\n",
      "Service Account:  default\n",
      "Node:             docker-desktop/192.168.65.3\n",
      "Start Time:       Sat, 30 Aug 2025 15:35:32 -0400\n",
      "Labels:           app=color-api\n",
      "                  pod-template-hash=5b5b5c88fd\n",
      "Annotations:      <none>\n",
      "Status:           Running\n",
      "IP:               10.1.0.199\n",
      "IPs:\n",
      "  IP:           10.1.0.199\n",
      "Controlled By:  ReplicaSet/color-api-deployment-5b5b5c88fd\n",
      "Containers:\n",
      "  color-api:\n",
      "    Container ID:   docker://67381a2da8b2bfaf0eeeeaa968e133729e34ab6562e7dbc80178ad7e0a680ebe\n",
      "    Image:          anil1318/color-api:1.1.0\n",
      "    Image ID:       docker-pullable://anil1318/color-api@sha256:d2ed1442bbc67fcc6a58b73a5c4fd13ba00e7ffa200c7c0c06073826baca79b4\n",
      "    Port:           80/TCP\n",
      "    Host Port:      0/TCP\n",
      "    State:          Running\n",
      "      Started:      Sat, 30 Aug 2025 15:35:34 -0400\n",
      "    Ready:          True\n",
      "    Restart Count:  0\n",
      "    Environment:    <none>\n",
      "    Mounts:\n",
      "      /var/run/secrets/kubernetes.io/serviceaccount from kube-api-access-68fgj (ro)\n",
      "Conditions:\n",
      "  Type                        Status\n",
      "  PodReadyToStartContainers   True \n",
      "  Initialized                 True \n",
      "  Ready                       True \n",
      "  ContainersReady             True \n",
      "  PodScheduled                True \n",
      "Volumes:\n",
      "  kube-api-access-68fgj:\n",
      "    Type:                    Projected (a volume that contains injected data from multiple sources)\n",
      "    TokenExpirationSeconds:  3607\n",
      "    ConfigMapName:           kube-root-ca.crt\n",
      "    ConfigMapOptional:       <nil>\n",
      "    DownwardAPI:             true\n",
      "QoS Class:                   BestEffort\n",
      "Node-Selectors:              <none>\n",
      "Tolerations:                 node.kubernetes.io/not-ready:NoExecute op=Exists for 300s\n",
      "                             node.kubernetes.io/unreachable:NoExecute op=Exists for 300s\n",
      "Events:\n",
      "  Type    Reason     Age   From               Message\n",
      "  ----    ------     ----  ----               -------\n",
      "  Normal  Scheduled  112s  default-scheduler  Successfully assigned default/color-api-deployment-5b5b5c88fd-6kwvz to docker-desktop\n",
      "  Normal  Pulled     112s  kubelet            Container image \"anil1318/color-api:1.1.0\" already present on machine\n",
      "  Normal  Created    111s  kubelet            Created container: color-api\n",
      "  Normal  Started    111s  kubelet            Started container color-api\n"
     ]
    }
   ],
   "source": [
    "!kubectl describe pods color-api-deployment-5b5b5c88fd-6kwvz"
   ]
  },
  {
   "cell_type": "code",
   "execution_count": 1,
   "id": "36d5abd4",
   "metadata": {},
   "outputs": [
    {
     "name": "stdout",
     "output_type": "stream",
     "text": [
      "pod/traffic-generator created\n"
     ]
    }
   ],
   "source": [
    "!kubectl apply -f SERVICES/traffic-genrator.yaml"
   ]
  },
  {
   "cell_type": "code",
   "execution_count": 3,
   "id": "d51ee649",
   "metadata": {},
   "outputs": [
    {
     "name": "stdout",
     "output_type": "stream",
     "text": [
      "Sending request to 10.1.0.199/api every 0.5 seconds..\n",
      "2025-08-30 19:43:23 COLOR : blue, HOSTNAME : color-api-deployment-5b5b5c88fd-6kwvz\n",
      "2025-08-30 19:43:24 COLOR : blue, HOSTNAME : color-api-deployment-5b5b5c88fd-6kwvz\n",
      "2025-08-30 19:43:24 COLOR : blue, HOSTNAME : color-api-deployment-5b5b5c88fd-6kwvz\n",
      "2025-08-30 19:43:25 COLOR : blue, HOSTNAME : color-api-deployment-5b5b5c88fd-6kwvz\n",
      "2025-08-30 19:43:25 COLOR : blue, HOSTNAME : color-api-deployment-5b5b5c88fd-6kwvz\n",
      "2025-08-30 19:43:26 COLOR : blue, HOSTNAME : color-api-deployment-5b5b5c88fd-6kwvz\n",
      "2025-08-30 19:43:26 COLOR : blue, HOSTNAME : color-api-deployment-5b5b5c88fd-6kwvz\n",
      "2025-08-30 19:43:27 COLOR : blue, HOSTNAME : color-api-deployment-5b5b5c88fd-6kwvz\n",
      "2025-08-30 19:43:27 COLOR : blue, HOSTNAME : color-api-deployment-5b5b5c88fd-6kwvz\n",
      "2025-08-30 19:43:28 COLOR : blue, HOSTNAME : color-api-deployment-5b5b5c88fd-6kwvz\n",
      "2025-08-30 19:43:28 COLOR : blue, HOSTNAME : color-api-deployment-5b5b5c88fd-6kwvz\n",
      "2025-08-30 19:43:29 COLOR : blue, HOSTNAME : color-api-deployment-5b5b5c88fd-6kwvz\n",
      "2025-08-30 19:43:29 COLOR : blue, HOSTNAME : color-api-deployment-5b5b5c88fd-6kwvz\n",
      "2025-08-30 19:43:30 COLOR : blue, HOSTNAME : color-api-deployment-5b5b5c88fd-6kwvz\n",
      "2025-08-30 19:43:30 COLOR : blue, HOSTNAME : color-api-deployment-5b5b5c88fd-6kwvz\n",
      "2025-08-30 19:43:31 COLOR : blue, HOSTNAME : color-api-deployment-5b5b5c88fd-6kwvz\n",
      "2025-08-30 19:43:31 COLOR : blue, HOSTNAME : color-api-deployment-5b5b5c88fd-6kwvz\n",
      "2025-08-30 19:43:32 COLOR : blue, HOSTNAME : color-api-deployment-5b5b5c88fd-6kwvz\n",
      "2025-08-30 19:43:32 COLOR : blue, HOSTNAME : color-api-deployment-5b5b5c88fd-6kwvz\n",
      "2025-08-30 19:43:33 COLOR : blue, HOSTNAME : color-api-deployment-5b5b5c88fd-6kwvz\n",
      "2025-08-30 19:43:33 COLOR : blue, HOSTNAME : color-api-deployment-5b5b5c88fd-6kwvz\n",
      "2025-08-30 19:43:34 COLOR : blue, HOSTNAME : color-api-deployment-5b5b5c88fd-6kwvz\n",
      "2025-08-30 19:43:34 COLOR : blue, HOSTNAME : color-api-deployment-5b5b5c88fd-6kwvz\n",
      "2025-08-30 19:43:35 COLOR : blue, HOSTNAME : color-api-deployment-5b5b5c88fd-6kwvz\n",
      "2025-08-30 19:43:35 COLOR : blue, HOSTNAME : color-api-deployment-5b5b5c88fd-6kwvz\n",
      "2025-08-30 19:43:36 COLOR : blue, HOSTNAME : color-api-deployment-5b5b5c88fd-6kwvz\n",
      "2025-08-30 19:43:36 COLOR : blue, HOSTNAME : color-api-deployment-5b5b5c88fd-6kwvz\n",
      "2025-08-30 19:43:37 COLOR : blue, HOSTNAME : color-api-deployment-5b5b5c88fd-6kwvz\n",
      "2025-08-30 19:43:37 COLOR : blue, HOSTNAME : color-api-deployment-5b5b5c88fd-6kwvz\n",
      "2025-08-30 19:43:38 COLOR : blue, HOSTNAME : color-api-deployment-5b5b5c88fd-6kwvz\n",
      "2025-08-30 19:43:38 COLOR : blue, HOSTNAME : color-api-deployment-5b5b5c88fd-6kwvz\n",
      "2025-08-30 19:43:39 COLOR : blue, HOSTNAME : color-api-deployment-5b5b5c88fd-6kwvz\n",
      "2025-08-30 19:43:39 COLOR : blue, HOSTNAME : color-api-deployment-5b5b5c88fd-6kwvz\n",
      "2025-08-30 19:43:40 COLOR : blue, HOSTNAME : color-api-deployment-5b5b5c88fd-6kwvz\n",
      "2025-08-30 19:43:40 COLOR : blue, HOSTNAME : color-api-deployment-5b5b5c88fd-6kwvz\n",
      "2025-08-30 19:43:41 COLOR : blue, HOSTNAME : color-api-deployment-5b5b5c88fd-6kwvz\n",
      "2025-08-30 19:43:41 COLOR : blue, HOSTNAME : color-api-deployment-5b5b5c88fd-6kwvz\n",
      "2025-08-30 19:43:42 COLOR : blue, HOSTNAME : color-api-deployment-5b5b5c88fd-6kwvz\n",
      "2025-08-30 19:43:42 COLOR : blue, HOSTNAME : color-api-deployment-5b5b5c88fd-6kwvz\n",
      "2025-08-30 19:43:43 COLOR : blue, HOSTNAME : color-api-deployment-5b5b5c88fd-6kwvz\n",
      "2025-08-30 19:43:43 COLOR : blue, HOSTNAME : color-api-deployment-5b5b5c88fd-6kwvz\n",
      "2025-08-30 19:43:44 COLOR : blue, HOSTNAME : color-api-deployment-5b5b5c88fd-6kwvz\n",
      "2025-08-30 19:43:44 COLOR : blue, HOSTNAME : color-api-deployment-5b5b5c88fd-6kwvz\n",
      "2025-08-30 19:43:45 COLOR : blue, HOSTNAME : color-api-deployment-5b5b5c88fd-6kwvz\n",
      "2025-08-30 19:43:45 COLOR : blue, HOSTNAME : color-api-deployment-5b5b5c88fd-6kwvz\n",
      "2025-08-30 19:43:46 COLOR : blue, HOSTNAME : color-api-deployment-5b5b5c88fd-6kwvz\n",
      "2025-08-30 19:43:46 COLOR : blue, HOSTNAME : color-api-deployment-5b5b5c88fd-6kwvz\n",
      "2025-08-30 19:43:47 COLOR : blue, HOSTNAME : color-api-deployment-5b5b5c88fd-6kwvz\n",
      "2025-08-30 19:43:47 COLOR : blue, HOSTNAME : color-api-deployment-5b5b5c88fd-6kwvz\n",
      "2025-08-30 19:43:48 COLOR : blue, HOSTNAME : color-api-deployment-5b5b5c88fd-6kwvz\n",
      "2025-08-30 19:43:48 COLOR : blue, HOSTNAME : color-api-deployment-5b5b5c88fd-6kwvz\n",
      "2025-08-30 19:43:49 COLOR : blue, HOSTNAME : color-api-deployment-5b5b5c88fd-6kwvz\n",
      "2025-08-30 19:43:49 COLOR : blue, HOSTNAME : color-api-deployment-5b5b5c88fd-6kwvz\n",
      "2025-08-30 19:43:50 COLOR : blue, HOSTNAME : color-api-deployment-5b5b5c88fd-6kwvz\n",
      "2025-08-30 19:43:50 COLOR : blue, HOSTNAME : color-api-deployment-5b5b5c88fd-6kwvz\n",
      "2025-08-30 19:43:51 COLOR : blue, HOSTNAME : color-api-deployment-5b5b5c88fd-6kwvz\n",
      "2025-08-30 19:43:51 COLOR : blue, HOSTNAME : color-api-deployment-5b5b5c88fd-6kwvz\n",
      "2025-08-30 19:43:52 COLOR : blue, HOSTNAME : color-api-deployment-5b5b5c88fd-6kwvz\n"
     ]
    }
   ],
   "source": [
    "!kubectl logs traffic-generator"
   ]
  },
  {
   "cell_type": "code",
   "execution_count": 4,
   "id": "d4de5d65",
   "metadata": {},
   "outputs": [
    {
     "name": "stdout",
     "output_type": "stream",
     "text": [
      "pod \"color-api-deployment-5b5b5c88fd-6kwvz\" deleted\n"
     ]
    }
   ],
   "source": [
    "!kubectl delete pod color-api-deployment-5b5b5c88fd-6kwvz"
   ]
  },
  {
   "cell_type": "code",
   "execution_count": 6,
   "id": "a43ecc1e",
   "metadata": {},
   "outputs": [
    {
     "name": "stdout",
     "output_type": "stream",
     "text": [
      "Sending request to 10.1.0.199/api every 0.5 seconds..\n",
      "2025-08-30 19:43:23 COLOR : blue, HOSTNAME : color-api-deployment-5b5b5c88fd-6kwvz\n",
      "2025-08-30 19:43:24 COLOR : blue, HOSTNAME : color-api-deployment-5b5b5c88fd-6kwvz\n",
      "2025-08-30 19:43:24 COLOR : blue, HOSTNAME : color-api-deployment-5b5b5c88fd-6kwvz\n",
      "2025-08-30 19:43:25 COLOR : blue, HOSTNAME : color-api-deployment-5b5b5c88fd-6kwvz\n",
      "2025-08-30 19:43:25 COLOR : blue, HOSTNAME : color-api-deployment-5b5b5c88fd-6kwvz\n",
      "2025-08-30 19:43:26 COLOR : blue, HOSTNAME : color-api-deployment-5b5b5c88fd-6kwvz\n",
      "2025-08-30 19:43:26 COLOR : blue, HOSTNAME : color-api-deployment-5b5b5c88fd-6kwvz\n",
      "2025-08-30 19:43:27 COLOR : blue, HOSTNAME : color-api-deployment-5b5b5c88fd-6kwvz\n",
      "2025-08-30 19:43:27 COLOR : blue, HOSTNAME : color-api-deployment-5b5b5c88fd-6kwvz\n",
      "2025-08-30 19:43:28 COLOR : blue, HOSTNAME : color-api-deployment-5b5b5c88fd-6kwvz\n",
      "2025-08-30 19:43:28 COLOR : blue, HOSTNAME : color-api-deployment-5b5b5c88fd-6kwvz\n",
      "2025-08-30 19:43:29 COLOR : blue, HOSTNAME : color-api-deployment-5b5b5c88fd-6kwvz\n",
      "2025-08-30 19:43:29 COLOR : blue, HOSTNAME : color-api-deployment-5b5b5c88fd-6kwvz\n",
      "2025-08-30 19:43:30 COLOR : blue, HOSTNAME : color-api-deployment-5b5b5c88fd-6kwvz\n",
      "2025-08-30 19:43:30 COLOR : blue, HOSTNAME : color-api-deployment-5b5b5c88fd-6kwvz\n",
      "2025-08-30 19:43:31 COLOR : blue, HOSTNAME : color-api-deployment-5b5b5c88fd-6kwvz\n",
      "2025-08-30 19:43:31 COLOR : blue, HOSTNAME : color-api-deployment-5b5b5c88fd-6kwvz\n",
      "2025-08-30 19:43:32 COLOR : blue, HOSTNAME : color-api-deployment-5b5b5c88fd-6kwvz\n",
      "2025-08-30 19:43:32 COLOR : blue, HOSTNAME : color-api-deployment-5b5b5c88fd-6kwvz\n",
      "2025-08-30 19:43:33 COLOR : blue, HOSTNAME : color-api-deployment-5b5b5c88fd-6kwvz\n",
      "2025-08-30 19:43:33 COLOR : blue, HOSTNAME : color-api-deployment-5b5b5c88fd-6kwvz\n",
      "2025-08-30 19:43:34 COLOR : blue, HOSTNAME : color-api-deployment-5b5b5c88fd-6kwvz\n",
      "2025-08-30 19:43:34 COLOR : blue, HOSTNAME : color-api-deployment-5b5b5c88fd-6kwvz\n",
      "2025-08-30 19:43:35 COLOR : blue, HOSTNAME : color-api-deployment-5b5b5c88fd-6kwvz\n",
      "2025-08-30 19:43:35 COLOR : blue, HOSTNAME : color-api-deployment-5b5b5c88fd-6kwvz\n",
      "2025-08-30 19:43:36 COLOR : blue, HOSTNAME : color-api-deployment-5b5b5c88fd-6kwvz\n",
      "2025-08-30 19:43:36 COLOR : blue, HOSTNAME : color-api-deployment-5b5b5c88fd-6kwvz\n",
      "2025-08-30 19:43:37 COLOR : blue, HOSTNAME : color-api-deployment-5b5b5c88fd-6kwvz\n",
      "2025-08-30 19:43:37 COLOR : blue, HOSTNAME : color-api-deployment-5b5b5c88fd-6kwvz\n",
      "2025-08-30 19:43:38 COLOR : blue, HOSTNAME : color-api-deployment-5b5b5c88fd-6kwvz\n",
      "2025-08-30 19:43:38 COLOR : blue, HOSTNAME : color-api-deployment-5b5b5c88fd-6kwvz\n",
      "2025-08-30 19:43:39 COLOR : blue, HOSTNAME : color-api-deployment-5b5b5c88fd-6kwvz\n",
      "2025-08-30 19:43:39 COLOR : blue, HOSTNAME : color-api-deployment-5b5b5c88fd-6kwvz\n",
      "2025-08-30 19:43:40 COLOR : blue, HOSTNAME : color-api-deployment-5b5b5c88fd-6kwvz\n",
      "2025-08-30 19:43:40 COLOR : blue, HOSTNAME : color-api-deployment-5b5b5c88fd-6kwvz\n",
      "2025-08-30 19:43:41 COLOR : blue, HOSTNAME : color-api-deployment-5b5b5c88fd-6kwvz\n",
      "2025-08-30 19:43:41 COLOR : blue, HOSTNAME : color-api-deployment-5b5b5c88fd-6kwvz\n",
      "2025-08-30 19:43:42 COLOR : blue, HOSTNAME : color-api-deployment-5b5b5c88fd-6kwvz\n",
      "2025-08-30 19:43:42 COLOR : blue, HOSTNAME : color-api-deployment-5b5b5c88fd-6kwvz\n",
      "2025-08-30 19:43:43 COLOR : blue, HOSTNAME : color-api-deployment-5b5b5c88fd-6kwvz\n",
      "2025-08-30 19:43:43 COLOR : blue, HOSTNAME : color-api-deployment-5b5b5c88fd-6kwvz\n",
      "2025-08-30 19:43:44 COLOR : blue, HOSTNAME : color-api-deployment-5b5b5c88fd-6kwvz\n",
      "2025-08-30 19:43:44 COLOR : blue, HOSTNAME : color-api-deployment-5b5b5c88fd-6kwvz\n",
      "2025-08-30 19:43:45 COLOR : blue, HOSTNAME : color-api-deployment-5b5b5c88fd-6kwvz\n",
      "2025-08-30 19:43:45 COLOR : blue, HOSTNAME : color-api-deployment-5b5b5c88fd-6kwvz\n",
      "2025-08-30 19:43:46 COLOR : blue, HOSTNAME : color-api-deployment-5b5b5c88fd-6kwvz\n",
      "2025-08-30 19:43:46 COLOR : blue, HOSTNAME : color-api-deployment-5b5b5c88fd-6kwvz\n",
      "2025-08-30 19:43:47 COLOR : blue, HOSTNAME : color-api-deployment-5b5b5c88fd-6kwvz\n",
      "2025-08-30 19:43:47 COLOR : blue, HOSTNAME : color-api-deployment-5b5b5c88fd-6kwvz\n",
      "2025-08-30 19:43:48 COLOR : blue, HOSTNAME : color-api-deployment-5b5b5c88fd-6kwvz\n",
      "2025-08-30 19:43:48 COLOR : blue, HOSTNAME : color-api-deployment-5b5b5c88fd-6kwvz\n",
      "2025-08-30 19:43:49 COLOR : blue, HOSTNAME : color-api-deployment-5b5b5c88fd-6kwvz\n",
      "2025-08-30 19:43:49 COLOR : blue, HOSTNAME : color-api-deployment-5b5b5c88fd-6kwvz\n",
      "2025-08-30 19:43:50 COLOR : blue, HOSTNAME : color-api-deployment-5b5b5c88fd-6kwvz\n",
      "2025-08-30 19:43:50 COLOR : blue, HOSTNAME : color-api-deployment-5b5b5c88fd-6kwvz\n",
      "2025-08-30 19:43:51 COLOR : blue, HOSTNAME : color-api-deployment-5b5b5c88fd-6kwvz\n",
      "2025-08-30 19:43:51 COLOR : blue, HOSTNAME : color-api-deployment-5b5b5c88fd-6kwvz\n",
      "2025-08-30 19:43:52 COLOR : blue, HOSTNAME : color-api-deployment-5b5b5c88fd-6kwvz\n",
      "2025-08-30 19:43:52 COLOR : blue, HOSTNAME : color-api-deployment-5b5b5c88fd-6kwvz\n",
      "2025-08-30 19:43:53 COLOR : blue, HOSTNAME : color-api-deployment-5b5b5c88fd-6kwvz\n",
      "2025-08-30 19:43:53 COLOR : blue, HOSTNAME : color-api-deployment-5b5b5c88fd-6kwvz\n",
      "2025-08-30 19:43:54 COLOR : blue, HOSTNAME : color-api-deployment-5b5b5c88fd-6kwvz\n",
      "2025-08-30 19:43:55 COLOR : blue, HOSTNAME : color-api-deployment-5b5b5c88fd-6kwvz\n",
      "2025-08-30 19:43:55 COLOR : blue, HOSTNAME : color-api-deployment-5b5b5c88fd-6kwvz\n",
      "2025-08-30 19:43:56 COLOR : blue, HOSTNAME : color-api-deployment-5b5b5c88fd-6kwvz\n",
      "2025-08-30 19:43:56 COLOR : blue, HOSTNAME : color-api-deployment-5b5b5c88fd-6kwvz\n",
      "2025-08-30 19:43:57 COLOR : blue, HOSTNAME : color-api-deployment-5b5b5c88fd-6kwvz\n",
      "2025-08-30 19:43:57 COLOR : blue, HOSTNAME : color-api-deployment-5b5b5c88fd-6kwvz\n",
      "2025-08-30 19:43:58 COLOR : blue, HOSTNAME : color-api-deployment-5b5b5c88fd-6kwvz\n",
      "2025-08-30 19:43:58 COLOR : blue, HOSTNAME : color-api-deployment-5b5b5c88fd-6kwvz\n",
      "2025-08-30 19:43:59 COLOR : blue, HOSTNAME : color-api-deployment-5b5b5c88fd-6kwvz\n",
      "2025-08-30 19:43:59 COLOR : blue, HOSTNAME : color-api-deployment-5b5b5c88fd-6kwvz\n",
      "2025-08-30 19:44:00 COLOR : blue, HOSTNAME : color-api-deployment-5b5b5c88fd-6kwvz\n",
      "2025-08-30 19:44:00 COLOR : blue, HOSTNAME : color-api-deployment-5b5b5c88fd-6kwvz\n",
      "2025-08-30 19:44:01 COLOR : blue, HOSTNAME : color-api-deployment-5b5b5c88fd-6kwvz\n",
      "2025-08-30 19:44:01 COLOR : blue, HOSTNAME : color-api-deployment-5b5b5c88fd-6kwvz\n",
      "2025-08-30 19:44:02 COLOR : blue, HOSTNAME : color-api-deployment-5b5b5c88fd-6kwvz\n",
      "2025-08-30 19:44:02 COLOR : blue, HOSTNAME : color-api-deployment-5b5b5c88fd-6kwvz\n",
      "2025-08-30 19:44:03 COLOR : blue, HOSTNAME : color-api-deployment-5b5b5c88fd-6kwvz\n",
      "2025-08-30 19:44:03 COLOR : blue, HOSTNAME : color-api-deployment-5b5b5c88fd-6kwvz\n",
      "2025-08-30 19:44:04 COLOR : blue, HOSTNAME : color-api-deployment-5b5b5c88fd-6kwvz\n",
      "2025-08-30 19:44:04 COLOR : blue, HOSTNAME : color-api-deployment-5b5b5c88fd-6kwvz\n",
      "2025-08-30 19:44:05 COLOR : blue, HOSTNAME : color-api-deployment-5b5b5c88fd-6kwvz\n",
      "2025-08-30 19:44:05 COLOR : blue, HOSTNAME : color-api-deployment-5b5b5c88fd-6kwvz\n",
      "2025-08-30 19:44:06 COLOR : blue, HOSTNAME : color-api-deployment-5b5b5c88fd-6kwvz\n",
      "2025-08-30 19:44:06 COLOR : blue, HOSTNAME : color-api-deployment-5b5b5c88fd-6kwvz\n",
      "2025-08-30 19:44:07 COLOR : blue, HOSTNAME : color-api-deployment-5b5b5c88fd-6kwvz\n",
      "2025-08-30 19:44:07 COLOR : blue, HOSTNAME : color-api-deployment-5b5b5c88fd-6kwvz\n",
      "2025-08-30 19:44:08 COLOR : blue, HOSTNAME : color-api-deployment-5b5b5c88fd-6kwvz\n",
      "2025-08-30 19:44:08 COLOR : blue, HOSTNAME : color-api-deployment-5b5b5c88fd-6kwvz\n",
      "2025-08-30 19:44:08 COLOR : blue, HOSTNAME : color-api-deployment-5b5b5c88fd-6kwvz\n",
      "2025-08-30 19:44:09 COLOR : blue, HOSTNAME : color-api-deployment-5b5b5c88fd-6kwvz\n",
      "2025-08-30 19:44:10 COLOR : blue, HOSTNAME : color-api-deployment-5b5b5c88fd-6kwvz\n",
      "2025-08-30 19:44:10 COLOR : blue, HOSTNAME : color-api-deployment-5b5b5c88fd-6kwvz\n",
      "2025-08-30 19:44:11 COLOR : blue, HOSTNAME : color-api-deployment-5b5b5c88fd-6kwvz\n",
      "2025-08-30 19:44:11 COLOR : blue, HOSTNAME : color-api-deployment-5b5b5c88fd-6kwvz\n",
      "2025-08-30 19:44:12 COLOR : blue, HOSTNAME : color-api-deployment-5b5b5c88fd-6kwvz\n",
      "2025-08-30 19:44:12 COLOR : blue, HOSTNAME : color-api-deployment-5b5b5c88fd-6kwvz\n",
      "2025-08-30 19:44:13 COLOR : blue, HOSTNAME : color-api-deployment-5b5b5c88fd-6kwvz\n",
      "2025-08-30 19:44:13 COLOR : blue, HOSTNAME : color-api-deployment-5b5b5c88fd-6kwvz\n",
      "2025-08-30 19:44:14 COLOR : blue, HOSTNAME : color-api-deployment-5b5b5c88fd-6kwvz\n",
      "2025-08-30 19:44:14 COLOR : blue, HOSTNAME : color-api-deployment-5b5b5c88fd-6kwvz\n",
      "2025-08-30 19:44:15 COLOR : blue, HOSTNAME : color-api-deployment-5b5b5c88fd-6kwvz\n",
      "2025-08-30 19:44:15 COLOR : blue, HOSTNAME : color-api-deployment-5b5b5c88fd-6kwvz\n",
      "2025-08-30 19:44:16 COLOR : blue, HOSTNAME : color-api-deployment-5b5b5c88fd-6kwvz\n",
      "2025-08-30 19:44:16 COLOR : blue, HOSTNAME : color-api-deployment-5b5b5c88fd-6kwvz\n",
      "2025-08-30 19:44:17 COLOR : blue, HOSTNAME : color-api-deployment-5b5b5c88fd-6kwvz\n",
      "2025-08-30 19:44:17 COLOR : blue, HOSTNAME : color-api-deployment-5b5b5c88fd-6kwvz\n",
      "2025-08-30 19:44:18 COLOR : blue, HOSTNAME : color-api-deployment-5b5b5c88fd-6kwvz\n",
      "2025-08-30 19:44:18 COLOR : blue, HOSTNAME : color-api-deployment-5b5b5c88fd-6kwvz\n",
      "2025-08-30 19:44:19 COLOR : blue, HOSTNAME : color-api-deployment-5b5b5c88fd-6kwvz\n",
      "2025-08-30 19:44:19 COLOR : blue, HOSTNAME : color-api-deployment-5b5b5c88fd-6kwvz\n",
      "2025-08-30 19:44:20 COLOR : blue, HOSTNAME : color-api-deployment-5b5b5c88fd-6kwvz\n",
      "2025-08-30 19:44:20 COLOR : blue, HOSTNAME : color-api-deployment-5b5b5c88fd-6kwvz\n",
      "2025-08-30 19:44:21 COLOR : blue, HOSTNAME : color-api-deployment-5b5b5c88fd-6kwvz\n",
      "2025-08-30 19:44:21 COLOR : blue, HOSTNAME : color-api-deployment-5b5b5c88fd-6kwvz\n",
      "2025-08-30 19:44:22 COLOR : blue, HOSTNAME : color-api-deployment-5b5b5c88fd-6kwvz\n",
      "2025-08-30 19:44:22 COLOR : blue, HOSTNAME : color-api-deployment-5b5b5c88fd-6kwvz\n",
      "2025-08-30 19:44:23 COLOR : blue, HOSTNAME : color-api-deployment-5b5b5c88fd-6kwvz\n",
      "2025-08-30 19:44:23 COLOR : blue, HOSTNAME : color-api-deployment-5b5b5c88fd-6kwvz\n",
      "2025-08-30 19:44:24 COLOR : blue, HOSTNAME : color-api-deployment-5b5b5c88fd-6kwvz\n",
      "2025-08-30 19:44:24 COLOR : blue, HOSTNAME : color-api-deployment-5b5b5c88fd-6kwvz\n",
      "2025-08-30 19:44:25 COLOR : blue, HOSTNAME : color-api-deployment-5b5b5c88fd-6kwvz\n",
      "2025-08-30 19:44:25 COLOR : blue, HOSTNAME : color-api-deployment-5b5b5c88fd-6kwvz\n",
      "2025-08-30 19:44:26 COLOR : blue, HOSTNAME : color-api-deployment-5b5b5c88fd-6kwvz\n",
      "2025-08-30 19:44:26 COLOR : blue, HOSTNAME : color-api-deployment-5b5b5c88fd-6kwvz\n",
      "2025-08-30 19:44:27 COLOR : blue, HOSTNAME : color-api-deployment-5b5b5c88fd-6kwvz\n",
      "2025-08-30 19:44:27 COLOR : blue, HOSTNAME : color-api-deployment-5b5b5c88fd-6kwvz\n",
      "2025-08-30 19:44:28 COLOR : blue, HOSTNAME : color-api-deployment-5b5b5c88fd-6kwvz\n",
      "2025-08-30 19:44:28 COLOR : blue, HOSTNAME : color-api-deployment-5b5b5c88fd-6kwvz\n",
      "2025-08-30 19:44:29 COLOR : blue, HOSTNAME : color-api-deployment-5b5b5c88fd-6kwvz\n",
      "2025-08-30 19:44:29 COLOR : blue, HOSTNAME : color-api-deployment-5b5b5c88fd-6kwvz\n",
      "2025-08-30 19:44:30 COLOR : blue, HOSTNAME : color-api-deployment-5b5b5c88fd-6kwvz\n",
      "2025-08-30 19:44:30 COLOR : blue, HOSTNAME : color-api-deployment-5b5b5c88fd-6kwvz\n",
      "2025-08-30 19:44:31 COLOR : blue, HOSTNAME : color-api-deployment-5b5b5c88fd-6kwvz\n",
      "2025-08-30 19:44:31 COLOR : blue, HOSTNAME : color-api-deployment-5b5b5c88fd-6kwvz\n",
      "2025-08-30 19:44:32 COLOR : blue, HOSTNAME : color-api-deployment-5b5b5c88fd-6kwvz\n",
      "2025-08-30 19:44:32 COLOR : blue, HOSTNAME : color-api-deployment-5b5b5c88fd-6kwvz\n",
      "2025-08-30 19:44:33 COLOR : blue, HOSTNAME : color-api-deployment-5b5b5c88fd-6kwvz\n",
      "2025-08-30 19:44:33 COLOR : blue, HOSTNAME : color-api-deployment-5b5b5c88fd-6kwvz\n",
      "2025-08-30 19:44:34 COLOR : blue, HOSTNAME : color-api-deployment-5b5b5c88fd-6kwvz\n",
      "2025-08-30 19:44:34 \n"
     ]
    }
   ],
   "source": [
    "!kubectl logs traffic-generator"
   ]
  },
  {
   "cell_type": "code",
   "execution_count": 7,
   "id": "87916fcf",
   "metadata": {},
   "outputs": [
    {
     "name": "stdout",
     "output_type": "stream",
     "text": [
      "NAME                                    READY   STATUS    RESTARTS   AGE\n",
      "color-api-deployment-5b5b5c88fd-6vssc   1/1     Running   0          9m39s\n",
      "color-api-deployment-5b5b5c88fd-9ntrt   1/1     Running   0          9m39s\n",
      "color-api-deployment-5b5b5c88fd-c6tk5   1/1     Running   0          9m39s\n",
      "color-api-deployment-5b5b5c88fd-cp4zm   1/1     Running   0          9m39s\n",
      "color-api-deployment-5b5b5c88fd-cpmsf   1/1     Running   0          9m39s\n",
      "color-api-deployment-5b5b5c88fd-mtn7l   1/1     Running   0          9m39s\n",
      "color-api-deployment-5b5b5c88fd-sb8mp   1/1     Running   0          9m39s\n",
      "color-api-deployment-5b5b5c88fd-wjsb9   1/1     Running   0          9m39s\n",
      "color-api-deployment-5b5b5c88fd-x2xnr   1/1     Running   0          37s\n",
      "color-api-deployment-5b5b5c88fd-z9tl9   1/1     Running   0          9m39s\n",
      "traffic-generator                       1/1     Running   0          109s\n"
     ]
    }
   ],
   "source": [
    "!kubectl get pods"
   ]
  },
  {
   "cell_type": "code",
   "execution_count": 8,
   "id": "60d7edd2",
   "metadata": {},
   "outputs": [
    {
     "name": "stdout",
     "output_type": "stream",
     "text": [
      "pod \"traffic-generator\" deleted\n"
     ]
    }
   ],
   "source": [
    "!kubectl delete pod traffic-generator  "
   ]
  },
  {
   "cell_type": "code",
   "execution_count": 9,
   "id": "deec83ac",
   "metadata": {},
   "outputs": [
    {
     "name": "stdout",
     "output_type": "stream",
     "text": [
      "NAME                                    READY   STATUS    RESTARTS   AGE\n",
      "color-api-deployment-5b5b5c88fd-6vssc   1/1     Running   0          11m\n",
      "color-api-deployment-5b5b5c88fd-9ntrt   1/1     Running   0          11m\n",
      "color-api-deployment-5b5b5c88fd-c6tk5   1/1     Running   0          11m\n",
      "color-api-deployment-5b5b5c88fd-cp4zm   1/1     Running   0          11m\n",
      "color-api-deployment-5b5b5c88fd-cpmsf   1/1     Running   0          11m\n",
      "color-api-deployment-5b5b5c88fd-mtn7l   1/1     Running   0          11m\n",
      "color-api-deployment-5b5b5c88fd-sb8mp   1/1     Running   0          11m\n",
      "color-api-deployment-5b5b5c88fd-wjsb9   1/1     Running   0          11m\n",
      "color-api-deployment-5b5b5c88fd-x2xnr   1/1     Running   0          2m4s\n",
      "color-api-deployment-5b5b5c88fd-z9tl9   1/1     Running   0          11m\n"
     ]
    }
   ],
   "source": [
    "!kubectl get pods"
   ]
  },
  {
   "cell_type": "code",
   "execution_count": null,
   "id": "07ad258c",
   "metadata": {},
   "outputs": [],
   "source": []
  }
 ],
 "metadata": {
  "kernelspec": {
   "display_name": ".venv",
   "language": "python",
   "name": "python3"
  },
  "language_info": {
   "codemirror_mode": {
    "name": "ipython",
    "version": 3
   },
   "file_extension": ".py",
   "mimetype": "text/x-python",
   "name": "python",
   "nbconvert_exporter": "python",
   "pygments_lexer": "ipython3",
   "version": "3.13.5"
  }
 },
 "nbformat": 4,
 "nbformat_minor": 5
}
