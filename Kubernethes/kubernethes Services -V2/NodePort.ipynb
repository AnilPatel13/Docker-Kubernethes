{
 "cells": [
  {
   "cell_type": "code",
   "execution_count": 1,
   "id": "4f9388c5",
   "metadata": {},
   "outputs": [
    {
     "name": "stdout",
     "output_type": "stream",
     "text": [
      "NAME                                    READY   STATUS    RESTARTS   AGE\n",
      "color-api-deployment-5b5b5c88fd-5j5lq   1/1     Running   0          16m\n",
      "color-api-deployment-5b5b5c88fd-5r4ln   1/1     Running   0          16m\n",
      "color-api-deployment-5b5b5c88fd-92jzf   1/1     Running   0          16m\n",
      "color-api-deployment-5b5b5c88fd-97kjd   1/1     Running   0          16m\n",
      "color-api-deployment-5b5b5c88fd-9hqmw   1/1     Running   0          16m\n",
      "color-api-deployment-5b5b5c88fd-b7wll   1/1     Running   0          16m\n",
      "color-api-deployment-5b5b5c88fd-bjs2g   1/1     Running   0          16m\n",
      "color-api-deployment-5b5b5c88fd-gz9qz   1/1     Running   0          16m\n",
      "color-api-deployment-5b5b5c88fd-lkkt2   1/1     Running   0          16m\n",
      "color-api-deployment-5b5b5c88fd-t9wmf   1/1     Running   0          16m\n"
     ]
    }
   ],
   "source": [
    "!kubectl get pods"
   ]
  },
  {
   "cell_type": "code",
   "execution_count": 2,
   "id": "03d2c612",
   "metadata": {},
   "outputs": [
    {
     "name": "stdout",
     "output_type": "stream",
     "text": [
      "NAME                  TYPE        CLUSTER-IP       EXTERNAL-IP   PORT(S)   AGE\n",
      "color-api-clusterip   ClusterIP   10.101.107.120   <none>        80/TCP    2m49s\n",
      "kubernetes            ClusterIP   10.96.0.1        <none>        443/TCP   44h\n"
     ]
    }
   ],
   "source": [
    "!kubectl get svc"
   ]
  },
  {
   "cell_type": "code",
   "execution_count": 3,
   "id": "382d989a",
   "metadata": {},
   "outputs": [
    {
     "name": "stdout",
     "output_type": "stream",
     "text": [
      "NAME                   READY   UP-TO-DATE   AVAILABLE   AGE\n",
      "color-api-deployment   10/10   10           10          16m\n"
     ]
    }
   ],
   "source": [
    "!kubectl get deploy"
   ]
  },
  {
   "cell_type": "code",
   "execution_count": 4,
   "id": "e68db842",
   "metadata": {},
   "outputs": [
    {
     "name": "stdout",
     "output_type": "stream",
     "text": [
      "NAME                              DESIRED   CURRENT   READY   AGE\n",
      "color-api-deployment-5b5b5c88fd   10        10        10      16m\n"
     ]
    }
   ],
   "source": [
    "!kubectl get rs"
   ]
  },
  {
   "cell_type": "code",
   "execution_count": 5,
   "id": "9d4465a3",
   "metadata": {},
   "outputs": [
    {
     "name": "stdout",
     "output_type": "stream",
     "text": [
      "service/color-api-nodeport created\n"
     ]
    }
   ],
   "source": [
    "!kubectl apply -f SERVICES/color-api-nodeport.yaml"
   ]
  },
  {
   "cell_type": "code",
   "execution_count": 6,
   "id": "232cf325",
   "metadata": {},
   "outputs": [
    {
     "name": "stdout",
     "output_type": "stream",
     "text": [
      "NAME                  TYPE        CLUSTER-IP       EXTERNAL-IP   PORT(S)        AGE\n",
      "color-api-clusterip   ClusterIP   10.101.107.120   <none>        80/TCP         5m18s\n",
      "color-api-nodeport    NodePort    10.106.218.94    <none>        80:30007/TCP   5s\n",
      "kubernetes            ClusterIP   10.96.0.1        <none>        443/TCP        44h\n"
     ]
    }
   ],
   "source": [
    "!kubectl get svc"
   ]
  },
  {
   "cell_type": "code",
   "execution_count": 7,
   "id": "4119e3b5",
   "metadata": {},
   "outputs": [
    {
     "name": "stdout",
     "output_type": "stream",
     "text": [
      "NAME             STATUS   ROLES           AGE   VERSION   INTERNAL-IP    EXTERNAL-IP   OS-IMAGE         KERNEL-VERSION                     CONTAINER-RUNTIME\n",
      "docker-desktop   Ready    control-plane   44h   v1.32.2   192.168.65.3   <none>        Docker Desktop   6.6.87.2-microsoft-standard-WSL2   docker://28.3.2\n"
     ]
    }
   ],
   "source": [
    "!kubectl get nodes -o wide"
   ]
  },
  {
   "cell_type": "code",
   "execution_count": 11,
   "id": "fc1d4e73",
   "metadata": {},
   "outputs": [
    {
     "name": "stdout",
     "output_type": "stream",
     "text": [
      "<h1 style=\"color:blue;\">Hello from Color-API!</h1>\n",
      "            <h2>Hostname: color-api-deployment-5b5b5c88fd-9hqmw</h2>\n"
     ]
    },
    {
     "name": "stderr",
     "output_type": "stream",
     "text": [
      "  % Total    % Received % Xferd  Average Speed   Time    Time     Time  Current\n",
      "                                 Dload  Upload   Total   Spent    Left  Speed\n",
      "\n",
      "  0     0    0     0    0     0      0      0 --:--:-- --:--:-- --:--:--     0\n",
      "100   119  100   119    0     0  33175      0 --:--:-- --:--:-- --:--:-- 39666\n"
     ]
    }
   ],
   "source": [
    "!curl localhost:30007"
   ]
  },
  {
   "cell_type": "code",
   "execution_count": 12,
   "id": "1f9693df",
   "metadata": {},
   "outputs": [
    {
     "name": "stdout",
     "output_type": "stream",
     "text": [
      "NAME                                    READY   STATUS    RESTARTS   AGE   IP           NODE             NOMINATED NODE   READINESS GATES\n",
      "color-api-deployment-5b5b5c88fd-5j5lq   1/1     Running   0          27m   10.1.0.219   docker-desktop   <none>           <none>\n",
      "color-api-deployment-5b5b5c88fd-5r4ln   1/1     Running   0          27m   10.1.0.216   docker-desktop   <none>           <none>\n",
      "color-api-deployment-5b5b5c88fd-92jzf   1/1     Running   0          27m   10.1.0.213   docker-desktop   <none>           <none>\n",
      "color-api-deployment-5b5b5c88fd-97kjd   1/1     Running   0          27m   10.1.0.215   docker-desktop   <none>           <none>\n",
      "color-api-deployment-5b5b5c88fd-9hqmw   1/1     Running   0          27m   10.1.0.217   docker-desktop   <none>           <none>\n",
      "color-api-deployment-5b5b5c88fd-b7wll   1/1     Running   0          27m   10.1.0.211   docker-desktop   <none>           <none>\n",
      "color-api-deployment-5b5b5c88fd-bjs2g   1/1     Running   0          27m   10.1.0.214   docker-desktop   <none>           <none>\n",
      "color-api-deployment-5b5b5c88fd-gz9qz   1/1     Running   0          27m   10.1.0.212   docker-desktop   <none>           <none>\n",
      "color-api-deployment-5b5b5c88fd-lkkt2   1/1     Running   0          27m   10.1.0.220   docker-desktop   <none>           <none>\n",
      "color-api-deployment-5b5b5c88fd-t9wmf   1/1     Running   0          27m   10.1.0.218   docker-desktop   <none>           <none>\n"
     ]
    }
   ],
   "source": [
    "!kubectl get pod -o wide"
   ]
  },
  {
   "cell_type": "code",
   "execution_count": 13,
   "id": "c20025db",
   "metadata": {},
   "outputs": [
    {
     "name": "stdout",
     "output_type": "stream",
     "text": [
      "NAME             STATUS   ROLES           AGE   VERSION   INTERNAL-IP    EXTERNAL-IP   OS-IMAGE         KERNEL-VERSION                     CONTAINER-RUNTIME\n",
      "docker-desktop   Ready    control-plane   44h   v1.32.2   192.168.65.3   <none>        Docker Desktop   6.6.87.2-microsoft-standard-WSL2   docker://28.3.2\n"
     ]
    }
   ],
   "source": [
    "!kubectl get node -o wide"
   ]
  },
  {
   "cell_type": "code",
   "execution_count": null,
   "id": "6bb5b8b6",
   "metadata": {},
   "outputs": [],
   "source": []
  }
 ],
 "metadata": {
  "kernelspec": {
   "display_name": ".venv",
   "language": "python",
   "name": "python3"
  },
  "language_info": {
   "codemirror_mode": {
    "name": "ipython",
    "version": 3
   },
   "file_extension": ".py",
   "mimetype": "text/x-python",
   "name": "python",
   "nbconvert_exporter": "python",
   "pygments_lexer": "ipython3",
   "version": "3.13.5"
  }
 },
 "nbformat": 4,
 "nbformat_minor": 5
}
