{
 "cells": [
  {
   "cell_type": "code",
   "execution_count": 1,
   "id": "937c7d15",
   "metadata": {},
   "outputs": [
    {
     "name": "stdout",
     "output_type": "stream",
     "text": [
      "pod/nginx-pod created\n"
     ]
    }
   ],
   "source": [
    "!kubectl run nginx-pod --image nginx:1.27.0"
   ]
  },
  {
   "cell_type": "code",
   "execution_count": 2,
   "id": "c6979432",
   "metadata": {},
   "outputs": [
    {
     "name": "stdout",
     "output_type": "stream",
     "text": [
      "pod \"nginx-pod\" deleted\n"
     ]
    }
   ],
   "source": [
    "!kubectl delete pod nginx-pod"
   ]
  },
  {
   "cell_type": "code",
   "execution_count": 6,
   "id": "31f05701",
   "metadata": {},
   "outputs": [
    {
     "name": "stdout",
     "output_type": "stream",
     "text": [
      "pod/nginx-pod created\n"
     ]
    }
   ],
   "source": [
    "!kubectl create -f nginx-pod.yaml"
   ]
  },
  {
   "cell_type": "code",
   "execution_count": 7,
   "id": "8d36c976",
   "metadata": {},
   "outputs": [
    {
     "name": "stdout",
     "output_type": "stream",
     "text": [
      "NAME        READY   STATUS    RESTARTS   AGE\n",
      "nginx-pod   1/1     Running   0          8s\n"
     ]
    }
   ],
   "source": [
    "!kubectl get pods"
   ]
  },
  {
   "cell_type": "code",
   "execution_count": 10,
   "id": "4ca884c3",
   "metadata": {},
   "outputs": [
    {
     "name": "stdout",
     "output_type": "stream",
     "text": [
      "Name:             nginx-pod\n",
      "Namespace:        default\n",
      "Priority:         0\n",
      "Service Account:  default\n",
      "Node:             docker-desktop/192.168.65.3\n",
      "Start Time:       Thu, 28 Aug 2025 20:13:26 -0400\n",
      "Labels:           app=nginx\n",
      "Annotations:      description: This is a nginx pod\n",
      "Status:           Running\n",
      "IP:               10.1.0.97\n",
      "IPs:\n",
      "  IP:  10.1.0.97\n",
      "Containers:\n",
      "  nginx:\n",
      "    Container ID:   docker://23108fcd84e286f4ff89a107f562b49602f64d2679e81c5781343db47be41aa8\n",
      "    Image:          nginx:latest\n",
      "    Image ID:       docker-pullable://127.0.0.1:5000/nginx@sha256:33e0bbc7ca9ecf108140af6288c7c9d1ecc77548cbfd3952fd8466a75edefe57\n",
      "    Port:           80/TCP\n",
      "    Host Port:      0/TCP\n",
      "    State:          Running\n",
      "      Started:      Thu, 28 Aug 2025 20:13:27 -0400\n",
      "    Ready:          True\n",
      "    Restart Count:  0\n",
      "    Environment:    <none>\n",
      "    Mounts:\n",
      "      /var/run/secrets/kubernetes.io/serviceaccount from kube-api-access-2wlqv (ro)\n",
      "Conditions:\n",
      "  Type                        Status\n",
      "  PodReadyToStartContainers   True \n",
      "  Initialized                 True \n",
      "  Ready                       True \n",
      "  ContainersReady             True \n",
      "  PodScheduled                True \n",
      "Volumes:\n",
      "  kube-api-access-2wlqv:\n",
      "    Type:                    Projected (a volume that contains injected data from multiple sources)\n",
      "    TokenExpirationSeconds:  3607\n",
      "    ConfigMapName:           kube-root-ca.crt\n",
      "    ConfigMapOptional:       <nil>\n",
      "    DownwardAPI:             true\n",
      "QoS Class:                   BestEffort\n",
      "Node-Selectors:              <none>\n",
      "Tolerations:                 node.kubernetes.io/not-ready:NoExecute op=Exists for 300s\n",
      "                             node.kubernetes.io/unreachable:NoExecute op=Exists for 300s\n",
      "Events:\n",
      "  Type    Reason     Age   From               Message\n",
      "  ----    ------     ----  ----               -------\n",
      "  Normal  Scheduled  29s   default-scheduler  Successfully assigned default/nginx-pod to docker-desktop\n",
      "  Normal  Pulling    29s   kubelet            Pulling image \"nginx:latest\"\n",
      "  Normal  Pulled     28s   kubelet            Successfully pulled image \"nginx:latest\" in 641ms (641ms including waiting). Image size: 72324501 bytes.\n",
      "  Normal  Created    28s   kubelet            Created container: nginx\n",
      "  Normal  Started    28s   kubelet            Started container nginx\n"
     ]
    }
   ],
   "source": [
    "!kubectl describe pod nginx-pod"
   ]
  },
  {
   "cell_type": "code",
   "execution_count": 11,
   "id": "e91bf64a",
   "metadata": {},
   "outputs": [
    {
     "name": "stdout",
     "output_type": "stream",
     "text": [
      "service/nginx-svc created\n"
     ]
    }
   ],
   "source": [
    "!kubectl create -f nginx-service.yaml"
   ]
  },
  {
   "cell_type": "code",
   "execution_count": 12,
   "id": "834f0b44",
   "metadata": {},
   "outputs": [
    {
     "name": "stdout",
     "output_type": "stream",
     "text": [
      "NAME            READY   STATUS    RESTARTS   AGE\n",
      "pod/nginx-pod   1/1     Running   0          8m5s\n",
      "\n",
      "NAME                 TYPE        CLUSTER-IP     EXTERNAL-IP   PORT(S)        AGE\n",
      "service/kubernetes   ClusterIP   10.96.0.1      <none>        443/TCP        9m52s\n",
      "service/nginx-svc    NodePort    10.99.213.87   <none>        80:32256/TCP   14s\n"
     ]
    }
   ],
   "source": [
    "!kubectl get all"
   ]
  },
  {
   "cell_type": "code",
   "execution_count": 13,
   "id": "88a0d7a5",
   "metadata": {},
   "outputs": [
    {
     "name": "stdout",
     "output_type": "stream",
     "text": [
      "<!DOCTYPE html>\n",
      "<html>\n",
      "<head>\n",
      "<title>Welcome to nginx!</title>\n",
      "<style>\n",
      "html { color-scheme: light dark; }\n",
      "body { width: 35em; margin: 0 auto;\n",
      "font-family: Tahoma, Verdana, Arial, sans-serif; }\n",
      "</style>\n",
      "</head>\n",
      "<body>\n",
      "<h1>Welcome to nginx!</h1>\n",
      "<p>If you see this page, the nginx web server is successfully installed and\n",
      "working. Further configuration is required.</p>\n",
      "\n",
      "<p>For online documentation and support please refer to\n",
      "<a href=\"http://nginx.org/\">nginx.org</a>.<br/>\n",
      "Commercial support is available at\n",
      "<a href=\"http://nginx.com/\">nginx.com</a>.</p>\n",
      "\n",
      "<p><em>Thank you for using nginx.</em></p>\n",
      "</body>\n",
      "</html>\n",
      "pod \"curl\" deleted\n"
     ]
    }
   ],
   "source": [
    "!kubectl run curl --image=curlimages/curl:8.12.1 --restart=Never --attach --rm -- curl -sS http://10.99.213.87"
   ]
  },
  {
   "cell_type": "code",
   "execution_count": 15,
   "id": "35bd94f2",
   "metadata": {},
   "outputs": [
    {
     "name": "stdout",
     "output_type": "stream",
     "text": [
      "NAME        READY   STATUS    RESTARTS   AGE\n",
      "nginx-pod   1/1     Running   0          13m\n"
     ]
    }
   ],
   "source": [
    "!kubectl get pods"
   ]
  },
  {
   "cell_type": "code",
   "execution_count": 16,
   "id": "ce6c5cd5",
   "metadata": {},
   "outputs": [
    {
     "name": "stdout",
     "output_type": "stream",
     "text": [
      "pod \"nginx-pod\" deleted\n"
     ]
    }
   ],
   "source": [
    "!kubectl delete -f nginx-pod.yaml\n"
   ]
  },
  {
   "cell_type": "code",
   "execution_count": 17,
   "id": "04c05047",
   "metadata": {},
   "outputs": [
    {
     "name": "stdout",
     "output_type": "stream",
     "text": [
      "curl: (7) Failed to connect to 10.99.213.87 port 80 after 0 ms: Could not connect to server\n",
      "pod \"curl\" deleted\n"
     ]
    },
    {
     "name": "stderr",
     "output_type": "stream",
     "text": [
      "pod default/curl terminated (Error)\n"
     ]
    }
   ],
   "source": [
    "!kubectl run curl --image=curlimages/curl:8.12.1 --restart=Never --attach --rm -- curl -sS http://10.99.213.87"
   ]
  },
  {
   "cell_type": "code",
   "execution_count": 18,
   "id": "a22f130a",
   "metadata": {},
   "outputs": [
    {
     "name": "stdout",
     "output_type": "stream",
     "text": [
      "pod/nginx-pod created\n"
     ]
    }
   ],
   "source": [
    "!kubectl create -f nginx-pod.yaml"
   ]
  },
  {
   "cell_type": "code",
   "execution_count": 19,
   "id": "b63f06b0",
   "metadata": {},
   "outputs": [
    {
     "name": "stdout",
     "output_type": "stream",
     "text": [
      "<!DOCTYPE html>\n",
      "<html>\n",
      "<head>\n",
      "<title>Welcome to nginx!</title>\n",
      "<style>\n",
      "html { color-scheme: light dark; }\n",
      "body { width: 35em; margin: 0 auto;\n",
      "font-family: Tahoma, Verdana, Arial, sans-serif; }\n",
      "</style>\n",
      "</head>\n",
      "<body>\n",
      "<h1>Welcome to nginx!</h1>\n",
      "<p>If you see this page, the nginx web server is successfully installed and\n",
      "working. Further configuration is required.</p>\n",
      "\n",
      "<p>For online documentation and support please refer to\n",
      "<a href=\"http://nginx.org/\">nginx.org</a>.<br/>\n",
      "Commercial support is available at\n",
      "<a href=\"http://nginx.com/\">nginx.com</a>.</p>\n",
      "\n",
      "<p><em>Thank you for using nginx.</em></p>\n",
      "</body>\n",
      "</html>\n",
      "pod \"curl\" deleted\n"
     ]
    }
   ],
   "source": [
    "!kubectl run curl --image=curlimages/curl:8.12.1 --restart=Never --attach --rm -- curl -sS http://10.99.213.87"
   ]
  },
  {
   "cell_type": "code",
   "execution_count": 20,
   "id": "2af17393",
   "metadata": {},
   "outputs": [
    {
     "name": "stdout",
     "output_type": "stream",
     "text": [
      "apiVersion: v1\n",
      "kind: Pod\n",
      "metadata:\n",
      "  creationTimestamp: null\n",
      "  labels:\n",
      "    run: color-api\n",
      "  name: color-api\n",
      "spec:\n",
      "  containers:\n",
      "  - image: anil1318/color-api:latest\n",
      "    name: color-api\n",
      "    resources: {}\n",
      "  dnsPolicy: ClusterFirst\n",
      "  restartPolicy: Always\n",
      "status: {}\n"
     ]
    }
   ],
   "source": [
    "!kubectl run color-api --image=anil1318/color-api:latest --dry-run=client -o yaml"
   ]
  },
  {
   "cell_type": "code",
   "execution_count": 25,
   "id": "f777a05c",
   "metadata": {},
   "outputs": [
    {
     "name": "stdout",
     "output_type": "stream",
     "text": [
      "service/nginx-pod exposed\n"
     ]
    }
   ],
   "source": [
    "!kubectl expose pod nginx-pod"
   ]
  },
  {
   "cell_type": "code",
   "execution_count": 28,
   "id": "62300710",
   "metadata": {},
   "outputs": [
    {
     "name": "stdout",
     "output_type": "stream",
     "text": [
      "apiVersion: v1\n",
      "kind: Service\n",
      "metadata:\n",
      "  creationTimestamp: null\n",
      "  labels:\n",
      "    app: nginx\n",
      "  name: nginx-pod\n",
      "spec:\n",
      "  ports:\n",
      "  - port: 80\n",
      "    protocol: TCP\n",
      "    targetPort: 80\n",
      "  selector:\n",
      "    app: nginx\n",
      "  type: NodePort\n",
      "status:\n",
      "  loadBalancer: {}\n"
     ]
    }
   ],
   "source": [
    "!kubectl expose pod nginx-pod --type=NodePort --port=80 --dry-run=client -o yaml"
   ]
  },
  {
   "cell_type": "code",
   "execution_count": null,
   "id": "9adbd2d5",
   "metadata": {},
   "outputs": [],
   "source": []
  }
 ],
 "metadata": {
  "kernelspec": {
   "display_name": ".venv",
   "language": "python",
   "name": "python3"
  },
  "language_info": {
   "codemirror_mode": {
    "name": "ipython",
    "version": 3
   },
   "file_extension": ".py",
   "mimetype": "text/x-python",
   "name": "python",
   "nbconvert_exporter": "python",
   "pygments_lexer": "ipython3",
   "version": "3.13.5"
  }
 },
 "nbformat": 4,
 "nbformat_minor": 5
}
