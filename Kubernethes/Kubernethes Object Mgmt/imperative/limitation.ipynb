{
 "cells": [
  {
   "cell_type": "code",
   "execution_count": 2,
   "id": "cd37360d",
   "metadata": {},
   "outputs": [
    {
     "name": "stdout",
     "output_type": "stream",
     "text": [
      "apiVersion: v1\n",
      "kind: Pod\n",
      "metadata:\n",
      "  name: nginx-pod\n",
      "  labels:\n",
      "    app: nginx\n",
      "  annotations:\n",
      "    description: \"This is a nginx pod\"\n",
      "spec:\n",
      "  containers:\n",
      "    - name: nginx\n",
      "      image: nginx:latest\n",
      "      ports:\n",
      "        - containerPort: 80\n",
      "\n",
      "  \n"
     ]
    }
   ],
   "source": [
    "!type nginx-pod.yaml"
   ]
  },
  {
   "cell_type": "code",
   "execution_count": 3,
   "id": "5806ef23",
   "metadata": {},
   "outputs": [
    {
     "name": "stdout",
     "output_type": "stream",
     "text": [
      "NAME        READY   STATUS    RESTARTS   AGE\n",
      "nginx-pod   1/1     Running   0          11m\n"
     ]
    }
   ],
   "source": [
    "!kubectl get pods"
   ]
  },
  {
   "cell_type": "code",
   "execution_count": 4,
   "id": "13ca6574",
   "metadata": {},
   "outputs": [
    {
     "name": "stdout",
     "output_type": "stream",
     "text": [
      "Name:             nginx-pod\n",
      "Namespace:        default\n",
      "Priority:         0\n",
      "Service Account:  default\n",
      "Node:             docker-desktop/192.168.65.3\n",
      "Start Time:       Thu, 28 Aug 2025 20:27:44 -0400\n",
      "Labels:           app=nginx\n",
      "Annotations:      description: This is a nginx pod\n",
      "Status:           Running\n",
      "IP:               10.1.0.100\n",
      "IPs:\n",
      "  IP:  10.1.0.100\n",
      "Containers:\n",
      "  nginx:\n",
      "    Container ID:   docker://1526a65d4a32450b0b04af6bb843bd7dbbacb1545c3c9696076a52b23546f521\n",
      "    Image:          nginx:latest\n",
      "    Image ID:       docker-pullable://127.0.0.1:5000/nginx@sha256:33e0bbc7ca9ecf108140af6288c7c9d1ecc77548cbfd3952fd8466a75edefe57\n",
      "    Port:           80/TCP\n",
      "    Host Port:      0/TCP\n",
      "    State:          Running\n",
      "      Started:      Thu, 28 Aug 2025 20:27:44 -0400\n",
      "    Ready:          True\n",
      "    Restart Count:  0\n",
      "    Environment:    <none>\n",
      "    Mounts:\n",
      "      /var/run/secrets/kubernetes.io/serviceaccount from kube-api-access-kntkt (ro)\n",
      "Conditions:\n",
      "  Type                        Status\n",
      "  PodReadyToStartContainers   True \n",
      "  Initialized                 True \n",
      "  Ready                       True \n",
      "  ContainersReady             True \n",
      "  PodScheduled                True \n",
      "Volumes:\n",
      "  kube-api-access-kntkt:\n",
      "    Type:                    Projected (a volume that contains injected data from multiple sources)\n",
      "    TokenExpirationSeconds:  3607\n",
      "    ConfigMapName:           kube-root-ca.crt\n",
      "    ConfigMapOptional:       <nil>\n",
      "    DownwardAPI:             true\n",
      "QoS Class:                   BestEffort\n",
      "Node-Selectors:              <none>\n",
      "Tolerations:                 node.kubernetes.io/not-ready:NoExecute op=Exists for 300s\n",
      "                             node.kubernetes.io/unreachable:NoExecute op=Exists for 300s\n",
      "Events:\n",
      "  Type    Reason     Age   From               Message\n",
      "  ----    ------     ----  ----               -------\n",
      "  Normal  Scheduled  11m   default-scheduler  Successfully assigned default/nginx-pod to docker-desktop\n",
      "  Normal  Pulled     11m   kubelet            Successfully pulled image \"nginx:latest\" in 700ms (700ms including waiting). Image size: 72324501 bytes.\n",
      "  Normal  Created    11m   kubelet            Created container: nginx\n",
      "  Normal  Started    11m   kubelet            Started container nginx\n",
      "  Normal  Pulling    11m   kubelet            Pulling image \"nginx:latest\"\n"
     ]
    }
   ],
   "source": [
    "!kubectl describe pod nginx-pod"
   ]
  },
  {
   "cell_type": "code",
   "execution_count": 6,
   "id": "883a6c28",
   "metadata": {},
   "outputs": [
    {
     "name": "stdout",
     "output_type": "stream",
     "text": [
      "apiVersion: v1\n",
      "kind: Pod\n",
      "metadata:\n",
      "  annotations:\n",
      "    description: This is a nginx pod\n",
      "  creationTimestamp: \"2025-08-29T00:27:44Z\"\n",
      "  labels:\n",
      "    app: nginx\n",
      "  name: nginx-pod\n",
      "  namespace: default\n",
      "  resourceVersion: \"1807\"\n",
      "  uid: 7816ed5b-0bd0-4f8d-8d78-f16178b4bb62\n",
      "spec:\n",
      "  containers:\n",
      "  - image: nginx:latest\n",
      "    imagePullPolicy: Always\n",
      "    name: nginx\n",
      "    ports:\n",
      "    - containerPort: 80\n",
      "      protocol: TCP\n",
      "    resources: {}\n",
      "    terminationMessagePath: /dev/termination-log\n",
      "    terminationMessagePolicy: File\n",
      "    volumeMounts:\n",
      "    - mountPath: /var/run/secrets/kubernetes.io/serviceaccount\n",
      "      name: kube-api-access-kntkt\n",
      "      readOnly: true\n",
      "  dnsPolicy: ClusterFirst\n",
      "  enableServiceLinks: true\n",
      "  nodeName: docker-desktop\n",
      "  preemptionPolicy: PreemptLowerPriority\n",
      "  priority: 0\n",
      "  restartPolicy: Always\n",
      "  schedulerName: default-scheduler\n",
      "  securityContext: {}\n",
      "  serviceAccount: default\n",
      "  serviceAccountName: default\n",
      "  terminationGracePeriodSeconds: 30\n",
      "  tolerations:\n",
      "  - effect: NoExecute\n",
      "    key: node.kubernetes.io/not-ready\n",
      "    operator: Exists\n",
      "    tolerationSeconds: 300\n",
      "  - effect: NoExecute\n",
      "    key: node.kubernetes.io/unreachable\n",
      "    operator: Exists\n",
      "    tolerationSeconds: 300\n",
      "  volumes:\n",
      "  - name: kube-api-access-kntkt\n",
      "    projected:\n",
      "      defaultMode: 420\n",
      "      sources:\n",
      "      - serviceAccountToken:\n",
      "          expirationSeconds: 3607\n",
      "          path: token\n",
      "      - configMap:\n",
      "          items:\n",
      "          - key: ca.crt\n",
      "            path: ca.crt\n",
      "          name: kube-root-ca.crt\n",
      "      - downwardAPI:\n",
      "          items:\n",
      "          - fieldRef:\n",
      "              apiVersion: v1\n",
      "              fieldPath: metadata.namespace\n",
      "            path: namespace\n",
      "status:\n",
      "  conditions:\n",
      "  - lastProbeTime: null\n",
      "    lastTransitionTime: \"2025-08-29T00:27:45Z\"\n",
      "    status: \"True\"\n",
      "    type: PodReadyToStartContainers\n",
      "  - lastProbeTime: null\n",
      "    lastTransitionTime: \"2025-08-29T00:27:44Z\"\n",
      "    status: \"True\"\n",
      "    type: Initialized\n",
      "  - lastProbeTime: null\n",
      "    lastTransitionTime: \"2025-08-29T00:27:45Z\"\n",
      "    status: \"True\"\n",
      "    type: Ready\n",
      "  - lastProbeTime: null\n",
      "    lastTransitionTime: \"2025-08-29T00:27:45Z\"\n",
      "    status: \"True\"\n",
      "    type: ContainersReady\n",
      "  - lastProbeTime: null\n",
      "    lastTransitionTime: \"2025-08-29T00:27:44Z\"\n",
      "    status: \"True\"\n",
      "    type: PodScheduled\n",
      "  containerStatuses:\n",
      "  - containerID: docker://1526a65d4a32450b0b04af6bb843bd7dbbacb1545c3c9696076a52b23546f521\n",
      "    image: 127.0.0.1:5000/nginx:latest\n",
      "    imageID: docker-pullable://127.0.0.1:5000/nginx@sha256:33e0bbc7ca9ecf108140af6288c7c9d1ecc77548cbfd3952fd8466a75edefe57\n",
      "    lastState: {}\n",
      "    name: nginx\n",
      "    ready: true\n",
      "    restartCount: 0\n",
      "    started: true\n",
      "    state:\n",
      "      running:\n",
      "        startedAt: \"2025-08-29T00:27:44Z\"\n",
      "    volumeMounts:\n",
      "    - mountPath: /var/run/secrets/kubernetes.io/serviceaccount\n",
      "      name: kube-api-access-kntkt\n",
      "      readOnly: true\n",
      "      recursiveReadOnly: Disabled\n",
      "  hostIP: 192.168.65.3\n",
      "  hostIPs:\n",
      "  - ip: 192.168.65.3\n",
      "  phase: Running\n",
      "  podIP: 10.1.0.100\n",
      "  podIPs:\n",
      "  - ip: 10.1.0.100\n",
      "  qosClass: BestEffort\n",
      "  startTime: \"2025-08-29T00:27:44Z\"\n"
     ]
    }
   ],
   "source": [
    "!kubectl get pod nginx-pod -o yaml"
   ]
  },
  {
   "cell_type": "code",
   "execution_count": 7,
   "id": "2af4c928",
   "metadata": {},
   "outputs": [
    {
     "name": "stderr",
     "output_type": "stream",
     "text": [
      "The Pod \"nginx-pod\" is invalid: spec: Forbidden: pod updates may not change fields other than `spec.containers[*].image`,`spec.initContainers[*].image`,`spec.activeDeadlineSeconds`,`spec.tolerations` (only additions to existing tolerations),`spec.terminationGracePeriodSeconds` (allow it to be set to 1 if it was previously negative)\n",
      "  core.PodSpec{\n",
      "- \tVolumes: []core.Volume{\n",
      "- \t\t{\n",
      "- \t\t\tName:         \"kube-api-access-kntkt\",\n",
      "- \t\t\tVolumeSource: core.VolumeSource{Projected: &core.ProjectedVolumeSource{...}},\n",
      "- \t\t},\n",
      "- \t},\n",
      "+ \tVolumes:        nil,\n",
      "  \tInitContainers: nil,\n",
      "  \tContainers: []core.Container{\n",
      "  \t\t{\n",
      "  \t\t\t... // 9 identical fields\n",
      "  \t\t\tResizePolicy:  nil,\n",
      "  \t\t\tRestartPolicy: nil,\n",
      "- \t\t\tVolumeMounts: []core.VolumeMount{\n",
      "- \t\t\t\t{\n",
      "- \t\t\t\t\tName:      \"kube-api-access-kntkt\",\n",
      "- \t\t\t\t\tReadOnly:  true,\n",
      "- \t\t\t\t\tMountPath: \"/var/run/secrets/kubernetes.io/serviceaccount\",\n",
      "- \t\t\t\t},\n",
      "- \t\t\t},\n",
      "+ \t\t\tVolumeMounts:  nil,\n",
      "  \t\t\tVolumeDevices: nil,\n",
      "  \t\t\tLivenessProbe: nil,\n",
      "  \t\t\t... // 3 identical fields\n",
      "  \t\t\tTerminationMessagePath:   \"/dev/termination-log\",\n",
      "  \t\t\tTerminationMessagePolicy: \"File\",\n",
      "- \t\t\tImagePullPolicy:          \"Always\",\n",
      "+ \t\t\tImagePullPolicy:          \"IfNotPresent\",\n",
      "  \t\t\tSecurityContext:          nil,\n",
      "  \t\t\tStdin:                    false,\n",
      "  \t\t\t... // 2 identical fields\n",
      "  \t\t},\n",
      "  \t},\n",
      "  \tEphemeralContainers: nil,\n",
      "  \tRestartPolicy:       \"Always\",\n",
      "  \t... // 2 identical fields\n",
      "  \tDNSPolicy:                    \"ClusterFirst\",\n",
      "  \tNodeSelector:                 nil,\n",
      "- \tServiceAccountName:           \"default\",\n",
      "+ \tServiceAccountName:           \"\",\n",
      "  \tAutomountServiceAccountToken: nil,\n",
      "- \tNodeName:                     \"docker-desktop\",\n",
      "+ \tNodeName:                     \"\",\n",
      "  \tSecurityContext:              &{},\n",
      "  \tImagePullSecrets:             nil,\n",
      "  \t... // 20 identical fields\n",
      "  }\n",
      "\n"
     ]
    }
   ],
   "source": [
    "!kubectl replace -f nginx-pod.yaml"
   ]
  },
  {
   "cell_type": "code",
   "execution_count": 8,
   "id": "79e6bbf4",
   "metadata": {},
   "outputs": [
    {
     "name": "stdout",
     "output_type": "stream",
     "text": [
      "pod \"nginx-pod\" deleted\n"
     ]
    }
   ],
   "source": [
    "!kubectl delete -f nginx-pod.yaml"
   ]
  },
  {
   "cell_type": "code",
   "execution_count": 9,
   "id": "2ba18fb9",
   "metadata": {},
   "outputs": [
    {
     "name": "stdout",
     "output_type": "stream",
     "text": [
      "pod/nginx-pod created\n"
     ]
    }
   ],
   "source": [
    "!kubectl create -f nginx-pod.yaml"
   ]
  },
  {
   "cell_type": "code",
   "execution_count": 10,
   "id": "cd0073d8",
   "metadata": {},
   "outputs": [
    {
     "name": "stdout",
     "output_type": "stream",
     "text": [
      "Name:             nginx-pod\n",
      "Namespace:        default\n",
      "Priority:         0\n",
      "Service Account:  default\n",
      "Node:             docker-desktop/192.168.65.3\n",
      "Start Time:       Thu, 28 Aug 2025 20:44:03 -0400\n",
      "Labels:           app=nginx\n",
      "Annotations:      description: This is a nginx pod\n",
      "Status:           Running\n",
      "IP:               10.1.0.102\n",
      "IPs:\n",
      "  IP:  10.1.0.102\n",
      "Containers:\n",
      "  nginx:\n",
      "    Container ID:   docker://ee168ac2b929c1873870756cacd547c2f126159d11b7958bcf540438fe8118fc\n",
      "    Image:          nginx:1.27.0-alpine\n",
      "    Image ID:       docker-pullable://nginx@sha256:208b70eefac13ee9be00e486f79c695b15cef861c680527171a27d253d834be9\n",
      "    Port:           80/TCP\n",
      "    Host Port:      0/TCP\n",
      "    State:          Running\n",
      "      Started:      Thu, 28 Aug 2025 20:44:07 -0400\n",
      "    Ready:          True\n",
      "    Restart Count:  0\n",
      "    Environment:    <none>\n",
      "    Mounts:\n",
      "      /var/run/secrets/kubernetes.io/serviceaccount from kube-api-access-p976b (ro)\n",
      "Conditions:\n",
      "  Type                        Status\n",
      "  PodReadyToStartContainers   True \n",
      "  Initialized                 True \n",
      "  Ready                       True \n",
      "  ContainersReady             True \n",
      "  PodScheduled                True \n",
      "Volumes:\n",
      "  kube-api-access-p976b:\n",
      "    Type:                    Projected (a volume that contains injected data from multiple sources)\n",
      "    TokenExpirationSeconds:  3607\n",
      "    ConfigMapName:           kube-root-ca.crt\n",
      "    ConfigMapOptional:       <nil>\n",
      "    DownwardAPI:             true\n",
      "QoS Class:                   BestEffort\n",
      "Node-Selectors:              <none>\n",
      "Tolerations:                 node.kubernetes.io/not-ready:NoExecute op=Exists for 300s\n",
      "                             node.kubernetes.io/unreachable:NoExecute op=Exists for 300s\n",
      "Events:\n",
      "  Type    Reason     Age   From               Message\n",
      "  ----    ------     ----  ----               -------\n",
      "  Normal  Scheduled  35s   default-scheduler  Successfully assigned default/nginx-pod to docker-desktop\n",
      "  Normal  Pulling    34s   kubelet            Pulling image \"nginx:1.27.0-alpine\"\n",
      "  Normal  Pulled     31s   kubelet            Successfully pulled image \"nginx:1.27.0-alpine\" in 2.902s (2.902s including waiting). Image size: 18405128 bytes.\n",
      "  Normal  Created    31s   kubelet            Created container: nginx\n",
      "  Normal  Started    31s   kubelet            Started container nginx\n"
     ]
    }
   ],
   "source": [
    "!kubectl describe pod nginx-pod"
   ]
  },
  {
   "cell_type": "code",
   "execution_count": 13,
   "id": "29d6932d",
   "metadata": {},
   "outputs": [
    {
     "name": "stdout",
     "output_type": "stream",
     "text": [
      "service \"nginx-svc\" deleted\n"
     ]
    },
    {
     "name": "stderr",
     "output_type": "stream",
     "text": [
      "Error from server (NotFound): error when deleting \"nginx-pod.yaml\": pods \"nginx-pod\" not found\n"
     ]
    }
   ],
   "source": [
    "!kubectl delete -f nginx-pod.yaml -f nginx-service.yaml"
   ]
  },
  {
   "cell_type": "code",
   "execution_count": 20,
   "id": "105207ca",
   "metadata": {},
   "outputs": [
    {
     "name": "stdout",
     "output_type": "stream",
     "text": [
      "NAME                 TYPE        CLUSTER-IP     EXTERNAL-IP   PORT(S)   AGE\n",
      "service/kubernetes   ClusterIP   10.96.0.1      <none>        443/TCP   35m\n",
      "service/nginx-pod    ClusterIP   10.106.40.27   <none>        80/TCP    12m\n"
     ]
    }
   ],
   "source": [
    "!kubectl get all"
   ]
  },
  {
   "cell_type": "code",
   "execution_count": null,
   "id": "bf789b19",
   "metadata": {},
   "outputs": [],
   "source": []
  }
 ],
 "metadata": {
  "kernelspec": {
   "display_name": ".venv",
   "language": "python",
   "name": "python3"
  },
  "language_info": {
   "codemirror_mode": {
    "name": "ipython",
    "version": 3
   },
   "file_extension": ".py",
   "mimetype": "text/x-python",
   "name": "python",
   "nbconvert_exporter": "python",
   "pygments_lexer": "ipython3",
   "version": "3.13.5"
  }
 },
 "nbformat": 4,
 "nbformat_minor": 5
}
