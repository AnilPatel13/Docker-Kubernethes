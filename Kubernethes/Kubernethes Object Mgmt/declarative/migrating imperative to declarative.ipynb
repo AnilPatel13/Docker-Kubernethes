{
 "cells": [
  {
   "cell_type": "code",
   "execution_count": 1,
   "id": "0657c5a2",
   "metadata": {},
   "outputs": [
    {
     "name": "stdout",
     "output_type": "stream",
     "text": [
      "pod/nginx-pod created\n"
     ]
    }
   ],
   "source": [
    "!kubectl create -f nginx-pod.yaml"
   ]
  },
  {
   "cell_type": "code",
   "execution_count": 2,
   "id": "6da9cf6c",
   "metadata": {},
   "outputs": [
    {
     "name": "stdout",
     "output_type": "stream",
     "text": [
      "NAME        READY   STATUS    RESTARTS   AGE\n",
      "nginx-pod   1/1     Running   0          11s\n"
     ]
    }
   ],
   "source": [
    "!kubectl get pod"
   ]
  },
  {
   "cell_type": "code",
   "execution_count": 3,
   "id": "39cd8dc9",
   "metadata": {},
   "outputs": [
    {
     "name": "stdout",
     "output_type": "stream",
     "text": [
      "apiVersion: v1\n",
      "kind: Pod\n",
      "metadata:\n",
      "  annotations:\n",
      "    description: This is a nginx pod\n",
      "  creationTimestamp: \"2025-08-29T01:02:46Z\"\n",
      "  labels:\n",
      "    app: nginx\n",
      "  name: nginx-pod\n",
      "  namespace: default\n",
      "  resourceVersion: \"4822\"\n",
      "  uid: e98b5e32-f9ea-4166-8f69-6522ffc45e61\n",
      "spec:\n",
      "  containers:\n",
      "  - image: nginx:1.27.0-alpine\n",
      "    imagePullPolicy: IfNotPresent\n",
      "    name: nginx\n",
      "    ports:\n",
      "    - containerPort: 80\n",
      "      protocol: TCP\n",
      "    resources: {}\n",
      "    terminationMessagePath: /dev/termination-log\n",
      "    terminationMessagePolicy: File\n",
      "    volumeMounts:\n",
      "    - mountPath: /var/run/secrets/kubernetes.io/serviceaccount\n",
      "      name: kube-api-access-q88mf\n",
      "      readOnly: true\n",
      "  dnsPolicy: ClusterFirst\n",
      "  enableServiceLinks: true\n",
      "  nodeName: docker-desktop\n",
      "  preemptionPolicy: PreemptLowerPriority\n",
      "  priority: 0\n",
      "  restartPolicy: Always\n",
      "  schedulerName: default-scheduler\n",
      "  securityContext: {}\n",
      "  serviceAccount: default\n",
      "  serviceAccountName: default\n",
      "  terminationGracePeriodSeconds: 30\n",
      "  tolerations:\n",
      "  - effect: NoExecute\n",
      "    key: node.kubernetes.io/not-ready\n",
      "    operator: Exists\n",
      "    tolerationSeconds: 300\n",
      "  - effect: NoExecute\n",
      "    key: node.kubernetes.io/unreachable\n",
      "    operator: Exists\n",
      "    tolerationSeconds: 300\n",
      "  volumes:\n",
      "  - name: kube-api-access-q88mf\n",
      "    projected:\n",
      "      defaultMode: 420\n",
      "      sources:\n",
      "      - serviceAccountToken:\n",
      "          expirationSeconds: 3607\n",
      "          path: token\n",
      "      - configMap:\n",
      "          items:\n",
      "          - key: ca.crt\n",
      "            path: ca.crt\n",
      "          name: kube-root-ca.crt\n",
      "      - downwardAPI:\n",
      "          items:\n",
      "          - fieldRef:\n",
      "              apiVersion: v1\n",
      "              fieldPath: metadata.namespace\n",
      "            path: namespace\n",
      "status:\n",
      "  conditions:\n",
      "  - lastProbeTime: null\n",
      "    lastTransitionTime: \"2025-08-29T01:02:47Z\"\n",
      "    status: \"True\"\n",
      "    type: PodReadyToStartContainers\n",
      "  - lastProbeTime: null\n",
      "    lastTransitionTime: \"2025-08-29T01:02:46Z\"\n",
      "    status: \"True\"\n",
      "    type: Initialized\n",
      "  - lastProbeTime: null\n",
      "    lastTransitionTime: \"2025-08-29T01:02:47Z\"\n",
      "    status: \"True\"\n",
      "    type: Ready\n",
      "  - lastProbeTime: null\n",
      "    lastTransitionTime: \"2025-08-29T01:02:47Z\"\n",
      "    status: \"True\"\n",
      "    type: ContainersReady\n",
      "  - lastProbeTime: null\n",
      "    lastTransitionTime: \"2025-08-29T01:02:46Z\"\n",
      "    status: \"True\"\n",
      "    type: PodScheduled\n",
      "  containerStatuses:\n",
      "  - containerID: docker://976b91d3833b950a0abbeff452c1d4137dc93663af3e350b3570f76531ec897a\n",
      "    image: nginx:1.27.0-alpine\n",
      "    imageID: docker-pullable://nginx@sha256:208b70eefac13ee9be00e486f79c695b15cef861c680527171a27d253d834be9\n",
      "    lastState: {}\n",
      "    name: nginx\n",
      "    ready: true\n",
      "    restartCount: 0\n",
      "    started: true\n",
      "    state:\n",
      "      running:\n",
      "        startedAt: \"2025-08-29T01:02:46Z\"\n",
      "    volumeMounts:\n",
      "    - mountPath: /var/run/secrets/kubernetes.io/serviceaccount\n",
      "      name: kube-api-access-q88mf\n",
      "      readOnly: true\n",
      "      recursiveReadOnly: Disabled\n",
      "  hostIP: 192.168.65.3\n",
      "  hostIPs:\n",
      "  - ip: 192.168.65.3\n",
      "  phase: Running\n",
      "  podIP: 10.1.0.105\n",
      "  podIPs:\n",
      "  - ip: 10.1.0.105\n",
      "  qosClass: BestEffort\n",
      "  startTime: \"2025-08-29T01:02:46Z\"\n"
     ]
    }
   ],
   "source": [
    "!kubectl get pod nginx-pod -o yaml"
   ]
  },
  {
   "cell_type": "code",
   "execution_count": 4,
   "id": "b6902af4",
   "metadata": {},
   "outputs": [
    {
     "name": "stdout",
     "output_type": "stream",
     "text": [
      "pod/nginx-pod configured\n",
      "service/nginx-svc created\n"
     ]
    },
    {
     "name": "stderr",
     "output_type": "stream",
     "text": [
      "Warning: resource pods/nginx-pod is missing the kubectl.kubernetes.io/last-applied-configuration annotation which is required by kubectl apply. kubectl apply should only be used on resources created declaratively by either kubectl create --save-config or kubectl apply. The missing annotation will be patched automatically.\n"
     ]
    }
   ],
   "source": [
    "!kubectl apply -f ."
   ]
  },
  {
   "cell_type": "code",
   "execution_count": 7,
   "id": "29f2fe04",
   "metadata": {},
   "outputs": [
    {
     "name": "stdout",
     "output_type": "stream",
     "text": [
      "apiVersion: v1\n",
      "kind: Pod\n",
      "metadata:\n",
      "  annotations:\n",
      "    description: This is a nginx pod\n",
      "    kubectl.kubernetes.io/last-applied-configuration: |\n",
      "      {\"apiVersion\":\"v1\",\"kind\":\"Pod\",\"metadata\":{\"annotations\":{\"description\":\"This is a nginx pod\"},\"labels\":{\"app\":\"nginx\"},\"name\":\"nginx-pod\",\"namespace\":\"default\"},\"spec\":{\"containers\":[{\"image\":\"nginx:1.27.0-alpine\",\"name\":\"nginx\",\"ports\":[{\"containerPort\":80}]}]}}\n",
      "  creationTimestamp: \"2025-08-29T01:02:46Z\"\n",
      "  labels:\n",
      "    app: nginx\n",
      "  name: nginx-pod\n",
      "  namespace: default\n",
      "  resourceVersion: \"4915\"\n",
      "  uid: e98b5e32-f9ea-4166-8f69-6522ffc45e61\n",
      "spec:\n",
      "  containers:\n",
      "  - image: nginx:1.27.0-alpine\n",
      "    imagePullPolicy: IfNotPresent\n",
      "    name: nginx\n",
      "    ports:\n",
      "    - containerPort: 80\n",
      "      protocol: TCP\n",
      "    resources: {}\n",
      "    terminationMessagePath: /dev/termination-log\n",
      "    terminationMessagePolicy: File\n",
      "    volumeMounts:\n",
      "    - mountPath: /var/run/secrets/kubernetes.io/serviceaccount\n",
      "      name: kube-api-access-q88mf\n",
      "      readOnly: true\n",
      "  dnsPolicy: ClusterFirst\n",
      "  enableServiceLinks: true\n",
      "  nodeName: docker-desktop\n",
      "  preemptionPolicy: PreemptLowerPriority\n",
      "  priority: 0\n",
      "  restartPolicy: Always\n",
      "  schedulerName: default-scheduler\n",
      "  securityContext: {}\n",
      "  serviceAccount: default\n",
      "  serviceAccountName: default\n",
      "  terminationGracePeriodSeconds: 30\n",
      "  tolerations:\n",
      "  - effect: NoExecute\n",
      "    key: node.kubernetes.io/not-ready\n",
      "    operator: Exists\n",
      "    tolerationSeconds: 300\n",
      "  - effect: NoExecute\n",
      "    key: node.kubernetes.io/unreachable\n",
      "    operator: Exists\n",
      "    tolerationSeconds: 300\n",
      "  volumes:\n",
      "  - name: kube-api-access-q88mf\n",
      "    projected:\n",
      "      defaultMode: 420\n",
      "      sources:\n",
      "      - serviceAccountToken:\n",
      "          expirationSeconds: 3607\n",
      "          path: token\n",
      "      - configMap:\n",
      "          items:\n",
      "          - key: ca.crt\n",
      "            path: ca.crt\n",
      "          name: kube-root-ca.crt\n",
      "      - downwardAPI:\n",
      "          items:\n",
      "          - fieldRef:\n",
      "              apiVersion: v1\n",
      "              fieldPath: metadata.namespace\n",
      "            path: namespace\n",
      "status:\n",
      "  conditions:\n",
      "  - lastProbeTime: null\n",
      "    lastTransitionTime: \"2025-08-29T01:02:47Z\"\n",
      "    status: \"True\"\n",
      "    type: PodReadyToStartContainers\n",
      "  - lastProbeTime: null\n",
      "    lastTransitionTime: \"2025-08-29T01:02:46Z\"\n",
      "    status: \"True\"\n",
      "    type: Initialized\n",
      "  - lastProbeTime: null\n",
      "    lastTransitionTime: \"2025-08-29T01:02:47Z\"\n",
      "    status: \"True\"\n",
      "    type: Ready\n",
      "  - lastProbeTime: null\n",
      "    lastTransitionTime: \"2025-08-29T01:02:47Z\"\n",
      "    status: \"True\"\n",
      "    type: ContainersReady\n",
      "  - lastProbeTime: null\n",
      "    lastTransitionTime: \"2025-08-29T01:02:46Z\"\n",
      "    status: \"True\"\n",
      "    type: PodScheduled\n",
      "  containerStatuses:\n",
      "  - containerID: docker://976b91d3833b950a0abbeff452c1d4137dc93663af3e350b3570f76531ec897a\n",
      "    image: nginx:1.27.0-alpine\n",
      "    imageID: docker-pullable://nginx@sha256:208b70eefac13ee9be00e486f79c695b15cef861c680527171a27d253d834be9\n",
      "    lastState: {}\n",
      "    name: nginx\n",
      "    ready: true\n",
      "    restartCount: 0\n",
      "    started: true\n",
      "    state:\n",
      "      running:\n",
      "        startedAt: \"2025-08-29T01:02:46Z\"\n",
      "    volumeMounts:\n",
      "    - mountPath: /var/run/secrets/kubernetes.io/serviceaccount\n",
      "      name: kube-api-access-q88mf\n",
      "      readOnly: true\n",
      "      recursiveReadOnly: Disabled\n",
      "  hostIP: 192.168.65.3\n",
      "  hostIPs:\n",
      "  - ip: 192.168.65.3\n",
      "  phase: Running\n",
      "  podIP: 10.1.0.105\n",
      "  podIPs:\n",
      "  - ip: 10.1.0.105\n",
      "  qosClass: BestEffort\n",
      "  startTime: \"2025-08-29T01:02:46Z\"\n"
     ]
    }
   ],
   "source": [
    "!kubectl get pod nginx-pod -o yaml"
   ]
  },
  {
   "cell_type": "code",
   "execution_count": 8,
   "id": "c36f1bfe",
   "metadata": {},
   "outputs": [
    {
     "name": "stdout",
     "output_type": "stream",
     "text": [
      "pod \"nginx-pod\" deleted\n",
      "service \"nginx-svc\" deleted\n"
     ]
    }
   ],
   "source": [
    "!kubectl delete -f ."
   ]
  },
  {
   "cell_type": "code",
   "execution_count": 9,
   "id": "9fd1659f",
   "metadata": {},
   "outputs": [
    {
     "name": "stderr",
     "output_type": "stream",
     "text": [
      "No resources found in default namespace.\n"
     ]
    }
   ],
   "source": [
    "!kubectl get pods"
   ]
  },
  {
   "cell_type": "code",
   "execution_count": 12,
   "id": "087112d8",
   "metadata": {},
   "outputs": [
    {
     "name": "stdout",
     "output_type": "stream",
     "text": [
      "NAME         TYPE        CLUSTER-IP   EXTERNAL-IP   PORT(S)   AGE\n",
      "kubernetes   ClusterIP   10.96.0.1    <none>        443/TCP   56m\n"
     ]
    }
   ],
   "source": [
    "!kubectl get svc"
   ]
  },
  {
   "cell_type": "code",
   "execution_count": 13,
   "id": "99323f5a",
   "metadata": {},
   "outputs": [
    {
     "name": "stdout",
     "output_type": "stream",
     "text": [
      "pod/nginx-pod created\n",
      "service/nginx-svc created\n"
     ]
    }
   ],
   "source": [
    "!kubectl apply -f nginx.yaml"
   ]
  },
  {
   "cell_type": "code",
   "execution_count": 14,
   "id": "d8bb25dd",
   "metadata": {},
   "outputs": [
    {
     "name": "stdout",
     "output_type": "stream",
     "text": [
      "pod/nginx-pod unchanged\n",
      "service/nginx-svc unchanged\n"
     ]
    }
   ],
   "source": [
    "!kubectl apply -f nginx.yaml"
   ]
  },
  {
   "cell_type": "code",
   "execution_count": 15,
   "id": "8e6a1a32",
   "metadata": {},
   "outputs": [
    {
     "name": "stderr",
     "output_type": "stream",
     "text": [
      "Error from server (AlreadyExists): error when creating \"nginx.yaml\": pods \"nginx-pod\" already exists\n",
      "Error from server (AlreadyExists): error when creating \"nginx.yaml\": services \"nginx-svc\" already exists\n"
     ]
    }
   ],
   "source": [
    "!kubectl create -f nginx.yaml"
   ]
  },
  {
   "cell_type": "code",
   "execution_count": 16,
   "id": "6c6f8111",
   "metadata": {},
   "outputs": [
    {
     "name": "stdout",
     "output_type": "stream",
     "text": [
      "pod \"nginx-pod\" deleted\n",
      "service \"nginx-svc\" deleted\n"
     ]
    }
   ],
   "source": [
    "!kubectl delete -f nginx.yaml"
   ]
  },
  {
   "cell_type": "code",
   "execution_count": null,
   "id": "74455264",
   "metadata": {},
   "outputs": [],
   "source": []
  }
 ],
 "metadata": {
  "kernelspec": {
   "display_name": ".venv",
   "language": "python",
   "name": "python3"
  },
  "language_info": {
   "codemirror_mode": {
    "name": "ipython",
    "version": 3
   },
   "file_extension": ".py",
   "mimetype": "text/x-python",
   "name": "python",
   "nbconvert_exporter": "python",
   "pygments_lexer": "ipython3",
   "version": "3.13.5"
  }
 },
 "nbformat": 4,
 "nbformat_minor": 5
}
