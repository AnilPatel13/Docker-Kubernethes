{
 "cells": [
  {
   "cell_type": "code",
   "execution_count": 1,
   "id": "4169202d",
   "metadata": {},
   "outputs": [
    {
     "name": "stdout",
     "output_type": "stream",
     "text": [
      "pod/nginx-pod created\n"
     ]
    }
   ],
   "source": [
    "!kubectl apply -f nginx-pod.yaml"
   ]
  },
  {
   "cell_type": "code",
   "execution_count": 2,
   "id": "14cd0e92",
   "metadata": {},
   "outputs": [
    {
     "name": "stdout",
     "output_type": "stream",
     "text": [
      "NAME        READY   STATUS    RESTARTS   AGE\n",
      "nginx-pod   1/1     Running   0          5s\n"
     ]
    }
   ],
   "source": [
    "!kubectl get pods"
   ]
  },
  {
   "cell_type": "code",
   "execution_count": 3,
   "id": "17385fe4",
   "metadata": {},
   "outputs": [
    {
     "name": "stdout",
     "output_type": "stream",
     "text": [
      "pod \"nginx-pod\" deleted\n"
     ]
    }
   ],
   "source": [
    "!kubectl delete -f nginx-pod.yaml"
   ]
  },
  {
   "cell_type": "code",
   "execution_count": 4,
   "id": "24bab1df",
   "metadata": {},
   "outputs": [
    {
     "name": "stdout",
     "output_type": "stream",
     "text": [
      "pod/nginx-pod created\n",
      "service/nginx-svc created\n"
     ]
    }
   ],
   "source": [
    "!kubectl apply -f ."
   ]
  },
  {
   "cell_type": "code",
   "execution_count": 5,
   "id": "0b429d37",
   "metadata": {},
   "outputs": [
    {
     "name": "stdout",
     "output_type": "stream",
     "text": [
      "NAME            READY   STATUS    RESTARTS   AGE\n",
      "pod/nginx-pod   1/1     Running   0          6s\n",
      "\n",
      "NAME                 TYPE        CLUSTER-IP       EXTERNAL-IP   PORT(S)        AGE\n",
      "service/kubernetes   ClusterIP   10.96.0.1        <none>        443/TCP        38m\n",
      "service/nginx-pod    ClusterIP   10.106.40.27     <none>        80/TCP         15m\n",
      "service/nginx-svc    NodePort    10.110.147.209   <none>        80:30565/TCP   6s\n"
     ]
    }
   ],
   "source": [
    "!kubectl get all"
   ]
  },
  {
   "cell_type": "code",
   "execution_count": 6,
   "id": "c02aec46",
   "metadata": {},
   "outputs": [],
   "source": [
    "!kubectl diff -f ."
   ]
  },
  {
   "cell_type": "code",
   "execution_count": 7,
   "id": "def69ca7",
   "metadata": {},
   "outputs": [
    {
     "name": "stdout",
     "output_type": "stream",
     "text": [
      "diff -u -N C:\\Users\\celia\\AppData\\Local\\Temp\\LIVE-2089134515/v1.Pod.default.nginx-pod C:\\Users\\celia\\AppData\\Local\\Temp\\MERGED-3291124996/v1.Pod.default.nginx-pod\n",
      "--- C:\\Users\\celia\\AppData\\Local\\Temp\\LIVE-2089134515/v1.Pod.default.nginx-pod\t2025-08-28 20:50:38.365483600 -0400\n",
      "+++ C:\\Users\\celia\\AppData\\Local\\Temp\\MERGED-3291124996/v1.Pod.default.nginx-pod\t2025-08-28 20:50:38.365483600 -0400\n",
      "@@ -14,7 +14,7 @@\n",
      "   uid: 475273f6-d45c-42a6-a625-59f400c086ec\n",
      " spec:\n",
      "   containers:\n",
      "-  - image: nginx:1.27.0\n",
      "+  - image: nginx:1.27.0-alpine\n",
      "     imagePullPolicy: IfNotPresent\n",
      "     name: nginx\n",
      "     ports:\n"
     ]
    }
   ],
   "source": [
    "!kubectl diff -f ."
   ]
  },
  {
   "cell_type": "code",
   "execution_count": 8,
   "id": "e741bb88",
   "metadata": {},
   "outputs": [
    {
     "name": "stdout",
     "output_type": "stream",
     "text": [
      "pod/nginx-pod configured\n",
      "service/nginx-svc unchanged\n"
     ]
    }
   ],
   "source": [
    "!kubectl apply -f ."
   ]
  },
  {
   "cell_type": "code",
   "execution_count": 9,
   "id": "3e3beb2b",
   "metadata": {},
   "outputs": [
    {
     "name": "stdout",
     "output_type": "stream",
     "text": [
      "Name:             nginx-pod\n",
      "Namespace:        default\n",
      "Priority:         0\n",
      "Service Account:  default\n",
      "Node:             docker-desktop/192.168.65.3\n",
      "Start Time:       Thu, 28 Aug 2025 20:49:36 -0400\n",
      "Labels:           app=nginx\n",
      "Annotations:      description: This is a nginx pod\n",
      "Status:           Running\n",
      "IP:               10.1.0.104\n",
      "IPs:\n",
      "  IP:  10.1.0.104\n",
      "Containers:\n",
      "  nginx:\n",
      "    Container ID:   docker://f187b6b5dce8759bac1fb9ae7eaf46463675422ec82ea3e4f58b892122af2c3e\n",
      "    Image:          nginx:1.27.0-alpine\n",
      "    Image ID:       docker-pullable://nginx@sha256:208b70eefac13ee9be00e486f79c695b15cef861c680527171a27d253d834be9\n",
      "    Port:           80/TCP\n",
      "    Host Port:      0/TCP\n",
      "    State:          Running\n",
      "      Started:      Thu, 28 Aug 2025 20:51:43 -0400\n",
      "    Last State:     Terminated\n",
      "      Reason:       Completed\n",
      "      Exit Code:    0\n",
      "      Started:      Thu, 28 Aug 2025 20:49:37 -0400\n",
      "      Finished:     Thu, 28 Aug 2025 20:51:43 -0400\n",
      "    Ready:          True\n",
      "    Restart Count:  1\n",
      "    Environment:    <none>\n",
      "    Mounts:\n",
      "      /var/run/secrets/kubernetes.io/serviceaccount from kube-api-access-5g2gh (ro)\n",
      "Conditions:\n",
      "  Type                        Status\n",
      "  PodReadyToStartContainers   True \n",
      "  Initialized                 True \n",
      "  Ready                       True \n",
      "  ContainersReady             True \n",
      "  PodScheduled                True \n",
      "Volumes:\n",
      "  kube-api-access-5g2gh:\n",
      "    Type:                    Projected (a volume that contains injected data from multiple sources)\n",
      "    TokenExpirationSeconds:  3607\n",
      "    ConfigMapName:           kube-root-ca.crt\n",
      "    ConfigMapOptional:       <nil>\n",
      "    DownwardAPI:             true\n",
      "QoS Class:                   BestEffort\n",
      "Node-Selectors:              <none>\n",
      "Tolerations:                 node.kubernetes.io/not-ready:NoExecute op=Exists for 300s\n",
      "                             node.kubernetes.io/unreachable:NoExecute op=Exists for 300s\n",
      "Events:\n",
      "  Type    Reason     Age                  From               Message\n",
      "  ----    ------     ----                 ----               -------\n",
      "  Normal  Scheduled  2m38s                default-scheduler  Successfully assigned default/nginx-pod to docker-desktop\n",
      "  Normal  Pulled     2m37s                kubelet            Container image \"nginx:1.27.0\" already present on machine\n",
      "  Normal  Created    31s (x2 over 2m37s)  kubelet            Created container: nginx\n",
      "  Normal  Started    31s (x2 over 2m37s)  kubelet            Started container nginx\n",
      "  Normal  Killing    31s                  kubelet            Container nginx definition changed, will be restarted\n",
      "  Normal  Pulled     31s                  kubelet            Container image \"nginx:1.27.0-alpine\" already present on machine\n"
     ]
    }
   ],
   "source": [
    "!kubectl describe pod nginx-pod\n",
    "\n"
   ]
  },
  {
   "cell_type": "code",
   "execution_count": 10,
   "id": "d15d6f1d",
   "metadata": {},
   "outputs": [
    {
     "name": "stdout",
     "output_type": "stream",
     "text": [
      "apiVersion: v1\n",
      "kind: Pod\n",
      "metadata:\n",
      "  annotations:\n",
      "    description: This is a nginx pod\n",
      "    kubectl.kubernetes.io/last-applied-configuration: |\n",
      "      {\"apiVersion\":\"v1\",\"kind\":\"Pod\",\"metadata\":{\"annotations\":{\"description\":\"This is a nginx pod\"},\"labels\":{\"app\":\"nginx\"},\"name\":\"nginx-pod\",\"namespace\":\"default\"},\"spec\":{\"containers\":[{\"image\":\"nginx:1.27.0-alpine\",\"name\":\"nginx\",\"ports\":[{\"containerPort\":80}]}]}}\n",
      "  creationTimestamp: \"2025-08-29T00:49:36Z\"\n",
      "  labels:\n",
      "    app: nginx\n",
      "  name: nginx-pod\n",
      "  namespace: default\n",
      "  resourceVersion: \"3889\"\n",
      "  uid: 475273f6-d45c-42a6-a625-59f400c086ec\n",
      "spec:\n",
      "  containers:\n",
      "  - image: nginx:1.27.0-alpine\n",
      "    imagePullPolicy: IfNotPresent\n",
      "    name: nginx\n",
      "    ports:\n",
      "    - containerPort: 80\n",
      "      protocol: TCP\n",
      "    resources: {}\n",
      "    terminationMessagePath: /dev/termination-log\n",
      "    terminationMessagePolicy: File\n",
      "    volumeMounts:\n",
      "    - mountPath: /var/run/secrets/kubernetes.io/serviceaccount\n",
      "      name: kube-api-access-5g2gh\n",
      "      readOnly: true\n",
      "  dnsPolicy: ClusterFirst\n",
      "  enableServiceLinks: true\n",
      "  nodeName: docker-desktop\n",
      "  preemptionPolicy: PreemptLowerPriority\n",
      "  priority: 0\n",
      "  restartPolicy: Always\n",
      "  schedulerName: default-scheduler\n",
      "  securityContext: {}\n",
      "  serviceAccount: default\n",
      "  serviceAccountName: default\n",
      "  terminationGracePeriodSeconds: 30\n",
      "  tolerations:\n",
      "  - effect: NoExecute\n",
      "    key: node.kubernetes.io/not-ready\n",
      "    operator: Exists\n",
      "    tolerationSeconds: 300\n",
      "  - effect: NoExecute\n",
      "    key: node.kubernetes.io/unreachable\n",
      "    operator: Exists\n",
      "    tolerationSeconds: 300\n",
      "  volumes:\n",
      "  - name: kube-api-access-5g2gh\n",
      "    projected:\n",
      "      defaultMode: 420\n",
      "      sources:\n",
      "      - serviceAccountToken:\n",
      "          expirationSeconds: 3607\n",
      "          path: token\n",
      "      - configMap:\n",
      "          items:\n",
      "          - key: ca.crt\n",
      "            path: ca.crt\n",
      "          name: kube-root-ca.crt\n",
      "      - downwardAPI:\n",
      "          items:\n",
      "          - fieldRef:\n",
      "              apiVersion: v1\n",
      "              fieldPath: metadata.namespace\n",
      "            path: namespace\n",
      "status:\n",
      "  conditions:\n",
      "  - lastProbeTime: null\n",
      "    lastTransitionTime: \"2025-08-29T00:49:38Z\"\n",
      "    status: \"True\"\n",
      "    type: PodReadyToStartContainers\n",
      "  - lastProbeTime: null\n",
      "    lastTransitionTime: \"2025-08-29T00:49:36Z\"\n",
      "    status: \"True\"\n",
      "    type: Initialized\n",
      "  - lastProbeTime: null\n",
      "    lastTransitionTime: \"2025-08-29T00:49:38Z\"\n",
      "    status: \"True\"\n",
      "    type: Ready\n",
      "  - lastProbeTime: null\n",
      "    lastTransitionTime: \"2025-08-29T00:49:38Z\"\n",
      "    status: \"True\"\n",
      "    type: ContainersReady\n",
      "  - lastProbeTime: null\n",
      "    lastTransitionTime: \"2025-08-29T00:49:36Z\"\n",
      "    status: \"True\"\n",
      "    type: PodScheduled\n",
      "  containerStatuses:\n",
      "  - containerID: docker://f187b6b5dce8759bac1fb9ae7eaf46463675422ec82ea3e4f58b892122af2c3e\n",
      "    image: nginx:1.27.0-alpine\n",
      "    imageID: docker-pullable://nginx@sha256:208b70eefac13ee9be00e486f79c695b15cef861c680527171a27d253d834be9\n",
      "    lastState:\n",
      "      terminated:\n",
      "        containerID: docker://e299d501ed9999d7d9616ed757c339a82f847d8ac78de5f30851861f3a012109\n",
      "        exitCode: 0\n",
      "        finishedAt: \"2025-08-29T00:51:43Z\"\n",
      "        reason: Completed\n",
      "        startedAt: \"2025-08-29T00:49:37Z\"\n",
      "    name: nginx\n",
      "    ready: true\n",
      "    restartCount: 1\n",
      "    started: true\n",
      "    state:\n",
      "      running:\n",
      "        startedAt: \"2025-08-29T00:51:43Z\"\n",
      "    volumeMounts:\n",
      "    - mountPath: /var/run/secrets/kubernetes.io/serviceaccount\n",
      "      name: kube-api-access-5g2gh\n",
      "      readOnly: true\n",
      "      recursiveReadOnly: Disabled\n",
      "  hostIP: 192.168.65.3\n",
      "  hostIPs:\n",
      "  - ip: 192.168.65.3\n",
      "  phase: Running\n",
      "  podIP: 10.1.0.104\n",
      "  podIPs:\n",
      "  - ip: 10.1.0.104\n",
      "  qosClass: BestEffort\n",
      "  startTime: \"2025-08-29T00:49:36Z\"\n"
     ]
    }
   ],
   "source": [
    "!kubectl get pod nginx-pod -o yaml"
   ]
  },
  {
   "cell_type": "code",
   "execution_count": 11,
   "id": "fb0a37f8",
   "metadata": {},
   "outputs": [
    {
     "name": "stdout",
     "output_type": "stream",
     "text": [
      "pod \"nginx-pod\" deleted\n",
      "service \"nginx-svc\" deleted\n"
     ]
    }
   ],
   "source": [
    "!kubectl delete -f ."
   ]
  },
  {
   "cell_type": "code",
   "execution_count": 12,
   "id": "559f6aca",
   "metadata": {},
   "outputs": [
    {
     "name": "stdout",
     "output_type": "stream",
     "text": [
      "NAME                 TYPE        CLUSTER-IP     EXTERNAL-IP   PORT(S)   AGE\n",
      "service/kubernetes   ClusterIP   10.96.0.1      <none>        443/TCP   50m\n",
      "service/nginx-pod    ClusterIP   10.106.40.27   <none>        80/TCP    27m\n"
     ]
    }
   ],
   "source": [
    "!kubectl get all"
   ]
  },
  {
   "cell_type": "code",
   "execution_count": null,
   "id": "099cc0a9",
   "metadata": {},
   "outputs": [],
   "source": []
  }
 ],
 "metadata": {
  "kernelspec": {
   "display_name": ".venv",
   "language": "python",
   "name": "python3"
  },
  "language_info": {
   "codemirror_mode": {
    "name": "ipython",
    "version": 3
   },
   "file_extension": ".py",
   "mimetype": "text/x-python",
   "name": "python",
   "nbconvert_exporter": "python",
   "pygments_lexer": "ipython3",
   "version": "3.13.5"
  }
 },
 "nbformat": 4,
 "nbformat_minor": 5
}
