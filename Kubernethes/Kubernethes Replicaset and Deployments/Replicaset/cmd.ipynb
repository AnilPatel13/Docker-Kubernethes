{
 "cells": [
  {
   "cell_type": "code",
   "execution_count": 2,
   "id": "87b6f32f",
   "metadata": {},
   "outputs": [
    {
     "name": "stderr",
     "output_type": "stream",
     "text": [
      "No resources found in default namespace.\n"
     ]
    }
   ],
   "source": [
    "!kubectl get pods"
   ]
  },
  {
   "cell_type": "code",
   "execution_count": 3,
   "id": "0aa2b7ee",
   "metadata": {},
   "outputs": [
    {
     "name": "stdout",
     "output_type": "stream",
     "text": [
      "NAME         TYPE        CLUSTER-IP   EXTERNAL-IP   PORT(S)   AGE\n",
      "kubernetes   ClusterIP   10.96.0.1    <none>        443/TCP   39h\n"
     ]
    }
   ],
   "source": [
    "!kubectl get svc"
   ]
  },
  {
   "cell_type": "code",
   "execution_count": 19,
   "id": "7677060f",
   "metadata": {},
   "outputs": [
    {
     "name": "stdout",
     "output_type": "stream",
     "text": [
      "replicaset.apps/nginx-replicaset created\n"
     ]
    }
   ],
   "source": [
    "!kubectl apply -f nginx-rs.yaml"
   ]
  },
  {
   "cell_type": "code",
   "execution_count": 20,
   "id": "c9ddce17",
   "metadata": {},
   "outputs": [
    {
     "name": "stdout",
     "output_type": "stream",
     "text": [
      "NAME               DESIRED   CURRENT   READY   AGE\n",
      "nginx-replicaset   3         3         3       2s\n"
     ]
    }
   ],
   "source": [
    "!kubectl get rs"
   ]
  },
  {
   "cell_type": "code",
   "execution_count": 21,
   "id": "9d25357a",
   "metadata": {},
   "outputs": [
    {
     "name": "stdout",
     "output_type": "stream",
     "text": [
      "NAME                     READY   STATUS    RESTARTS   AGE\n",
      "nginx-replicaset-7pbf4   1/1     Running   0          4s\n",
      "nginx-replicaset-qj5v2   1/1     Running   0          4s\n",
      "nginx-replicaset-xvrxd   1/1     Running   0          4s\n"
     ]
    }
   ],
   "source": [
    "!kubectl get pods"
   ]
  },
  {
   "cell_type": "code",
   "execution_count": null,
   "id": "dfdff38e",
   "metadata": {},
   "outputs": [
    {
     "name": "stdout",
     "output_type": "stream",
     "text": [
      "NAME               DESIRED   CURRENT   READY   AGE\n",
      "nginx-replicaset   3         3         3       6s\n"
     ]
    }
   ],
   "source": [
    "!kubectl get rs"
   ]
  },
  {
   "cell_type": "code",
   "execution_count": 24,
   "id": "e9721e6d",
   "metadata": {},
   "outputs": [
    {
     "name": "stdout",
     "output_type": "stream",
     "text": [
      "pod \"nginx-replicaset-7pbf4\" deleted\n"
     ]
    }
   ],
   "source": [
    "!kubectl delete pod nginx-replicaset-7pbf4"
   ]
  },
  {
   "cell_type": "code",
   "execution_count": 25,
   "id": "a40fb8c3",
   "metadata": {},
   "outputs": [
    {
     "name": "stdout",
     "output_type": "stream",
     "text": [
      "NAME               DESIRED   CURRENT   READY   AGE\n",
      "nginx-replicaset   3         3         3       45s\n"
     ]
    }
   ],
   "source": [
    "!kubectl get rs"
   ]
  },
  {
   "cell_type": "code",
   "execution_count": 26,
   "id": "80540503",
   "metadata": {},
   "outputs": [
    {
     "name": "stdout",
     "output_type": "stream",
     "text": [
      "NAME                     READY   STATUS    RESTARTS   AGE\n",
      "nginx-replicaset-qj5v2   1/1     Running   0          53s\n",
      "nginx-replicaset-tc8fh   1/1     Running   0          16s\n",
      "nginx-replicaset-xvrxd   1/1     Running   0          53s\n"
     ]
    }
   ],
   "source": [
    "!kubectl get pods"
   ]
  },
  {
   "cell_type": "code",
   "execution_count": 27,
   "id": "7baef5c3",
   "metadata": {},
   "outputs": [
    {
     "name": "stdout",
     "output_type": "stream",
     "text": [
      "Name:         nginx-replicaset\n",
      "Namespace:    default\n",
      "Selector:     app=nginx\n",
      "Labels:       <none>\n",
      "Annotations:  <none>\n",
      "Replicas:     3 current / 3 desired\n",
      "Pods Status:  3 Running / 0 Waiting / 0 Succeeded / 0 Failed\n",
      "Pod Template:\n",
      "  Labels:  app=nginx\n",
      "  Containers:\n",
      "   nginx:\n",
      "    Image:         nginx:1.27.0\n",
      "    Port:          80/TCP\n",
      "    Host Port:     0/TCP\n",
      "    Environment:   <none>\n",
      "    Mounts:        <none>\n",
      "  Volumes:         <none>\n",
      "  Node-Selectors:  <none>\n",
      "  Tolerations:     <none>\n",
      "Events:\n",
      "  Type    Reason            Age   From                   Message\n",
      "  ----    ------            ----  ----                   -------\n",
      "  Normal  SuccessfulCreate  92s   replicaset-controller  Created pod: nginx-replicaset-xvrxd\n",
      "  Normal  SuccessfulCreate  92s   replicaset-controller  Created pod: nginx-replicaset-7pbf4\n",
      "  Normal  SuccessfulCreate  92s   replicaset-controller  Created pod: nginx-replicaset-qj5v2\n",
      "  Normal  SuccessfulCreate  55s   replicaset-controller  Created pod: nginx-replicaset-tc8fh\n"
     ]
    }
   ],
   "source": [
    "!kubectl describe rs nginx-replicaset"
   ]
  },
  {
   "cell_type": "markdown",
   "id": "9b6fae34",
   "metadata": {},
   "source": [
    "# Replicaset Limitation"
   ]
  },
  {
   "cell_type": "code",
   "execution_count": 28,
   "id": "57838695",
   "metadata": {},
   "outputs": [
    {
     "name": "stdout",
     "output_type": "stream",
     "text": [
      "NAME                     READY   STATUS    RESTARTS   AGE\n",
      "nginx-replicaset-qj5v2   1/1     Running   0          3m55s\n",
      "nginx-replicaset-tc8fh   1/1     Running   0          3m18s\n",
      "nginx-replicaset-xvrxd   1/1     Running   0          3m55s\n"
     ]
    }
   ],
   "source": [
    "!kubectl get pods"
   ]
  },
  {
   "cell_type": "code",
   "execution_count": 29,
   "id": "5196155f",
   "metadata": {},
   "outputs": [
    {
     "name": "stdout",
     "output_type": "stream",
     "text": [
      "NAME               DESIRED   CURRENT   READY   AGE\n",
      "nginx-replicaset   3         3         3       4m1s\n"
     ]
    }
   ],
   "source": [
    "!kubectl get rs"
   ]
  },
  {
   "cell_type": "markdown",
   "id": "b1e0d4e3",
   "metadata": {},
   "source": [
    "# update the image and see whats happens"
   ]
  },
  {
   "cell_type": "code",
   "execution_count": 30,
   "id": "161bf28f",
   "metadata": {},
   "outputs": [
    {
     "name": "stdout",
     "output_type": "stream",
     "text": [
      "replicaset.apps/nginx-replicaset configured\n"
     ]
    }
   ],
   "source": [
    "!kubectl apply -f nginx-rs.yaml"
   ]
  },
  {
   "cell_type": "code",
   "execution_count": 31,
   "id": "9e95ff0c",
   "metadata": {},
   "outputs": [
    {
     "name": "stdout",
     "output_type": "stream",
     "text": [
      "NAME                     READY   STATUS    RESTARTS   AGE\n",
      "nginx-replicaset-qj5v2   1/1     Running   0          5m12s\n",
      "nginx-replicaset-tc8fh   1/1     Running   0          4m35s\n",
      "nginx-replicaset-xvrxd   1/1     Running   0          5m12s\n"
     ]
    }
   ],
   "source": [
    "!kubectl get pods"
   ]
  },
  {
   "cell_type": "code",
   "execution_count": 32,
   "id": "76f15614",
   "metadata": {},
   "outputs": [
    {
     "name": "stdout",
     "output_type": "stream",
     "text": [
      "NAME               DESIRED   CURRENT   READY   AGE\n",
      "nginx-replicaset   3         3         3       5m22s\n"
     ]
    }
   ],
   "source": [
    "!kubectl get rs"
   ]
  },
  {
   "cell_type": "code",
   "execution_count": 34,
   "id": "edb757b4",
   "metadata": {},
   "outputs": [
    {
     "name": "stdout",
     "output_type": "stream",
     "text": [
      "    Image:          nginx:1.27.0\n",
      "    Image ID:       docker-pullable://nginx@sha256:98f8ec75657d21b924fe4f69b6b9bff2f6550ea48838af479d8894a852000e40\n",
      "  Normal  Pulled     7m36s  kubelet            Container image \"nginx:1.27.0\" already present on machine\n"
     ]
    }
   ],
   "source": [
    "!kubectl describe pods nginx-replicaset-qj5v2 | findstr /I Image"
   ]
  },
  {
   "cell_type": "code",
   "execution_count": 37,
   "id": "f9e710db",
   "metadata": {},
   "outputs": [
    {
     "name": "stdout",
     "output_type": "stream",
     "text": [
      "    Image:         nginx:1.27.0-alpine\n"
     ]
    }
   ],
   "source": [
    "!kubectl describe rs nginx-replicaset | findstr /I Image"
   ]
  },
  {
   "cell_type": "code",
   "execution_count": 38,
   "id": "3916cd45",
   "metadata": {},
   "outputs": [
    {
     "name": "stdout",
     "output_type": "stream",
     "text": [
      "pod \"nginx-replicaset-qj5v2\" deleted\n"
     ]
    }
   ],
   "source": [
    "!kubectl delete pods nginx-replicaset-qj5v2"
   ]
  },
  {
   "cell_type": "code",
   "execution_count": 39,
   "id": "af84d121",
   "metadata": {},
   "outputs": [
    {
     "name": "stdout",
     "output_type": "stream",
     "text": [
      "NAME               DESIRED   CURRENT   READY   AGE\n",
      "nginx-replicaset   3         3         3       9m18s\n"
     ]
    }
   ],
   "source": [
    "!kubectl get rs"
   ]
  },
  {
   "cell_type": "code",
   "execution_count": 40,
   "id": "791597fd",
   "metadata": {},
   "outputs": [
    {
     "name": "stdout",
     "output_type": "stream",
     "text": [
      "NAME                     READY   STATUS    RESTARTS   AGE\n",
      "nginx-replicaset-tc8fh   1/1     Running   0          8m52s\n",
      "nginx-replicaset-xbczl   1/1     Running   0          23s\n",
      "nginx-replicaset-xvrxd   1/1     Running   0          9m29s\n"
     ]
    }
   ],
   "source": [
    "!kubectl get pods"
   ]
  },
  {
   "cell_type": "code",
   "execution_count": 41,
   "id": "ae307731",
   "metadata": {},
   "outputs": [
    {
     "name": "stdout",
     "output_type": "stream",
     "text": [
      "    Image:          nginx:1.27.0-alpine\n",
      "    Image ID:       docker-pullable://nginx@sha256:208b70eefac13ee9be00e486f79c695b15cef861c680527171a27d253d834be9\n",
      "  Normal  Pulled     31s   kubelet            Container image \"nginx:1.27.0-alpine\" already present on machine\n"
     ]
    }
   ],
   "source": [
    "!kubectl describe pods nginx-replicaset-xbczl  | findstr /I Image"
   ]
  },
  {
   "cell_type": "code",
   "execution_count": 42,
   "id": "31aa7745",
   "metadata": {},
   "outputs": [
    {
     "name": "stdout",
     "output_type": "stream",
     "text": [
      "    Image:          nginx:1.27.0\n",
      "    Image ID:       docker-pullable://nginx@sha256:98f8ec75657d21b924fe4f69b6b9bff2f6550ea48838af479d8894a852000e40\n",
      "  Normal  Pulled     9m35s  kubelet            Container image \"nginx:1.27.0\" already present on machine\n"
     ]
    }
   ],
   "source": [
    "!kubectl describe pods nginx-replicaset-tc8fh  | findstr /I Image"
   ]
  },
  {
   "cell_type": "code",
   "execution_count": 43,
   "id": "f6a0001c",
   "metadata": {},
   "outputs": [
    {
     "name": "stdout",
     "output_type": "stream",
     "text": [
      "pod/sole-nginx created\n"
     ]
    }
   ],
   "source": [
    "!kubectl apply -f nginx-pod.yaml"
   ]
  },
  {
   "cell_type": "code",
   "execution_count": 44,
   "id": "9a8ba32d",
   "metadata": {},
   "outputs": [
    {
     "name": "stdout",
     "output_type": "stream",
     "text": [
      "NAME               DESIRED   CURRENT   READY   AGE\n",
      "nginx-replicaset   3         3         3       14m\n"
     ]
    }
   ],
   "source": [
    "!kubectl get rs"
   ]
  },
  {
   "cell_type": "code",
   "execution_count": 47,
   "id": "31e64d43",
   "metadata": {},
   "outputs": [
    {
     "name": "stdout",
     "output_type": "stream",
     "text": [
      "Name:         nginx-replicaset\n",
      "Namespace:    default\n",
      "Selector:     app=nginx\n",
      "Labels:       <none>\n",
      "Annotations:  <none>\n",
      "Replicas:     3 current / 3 desired\n",
      "Pods Status:  3 Running / 0 Waiting / 0 Succeeded / 0 Failed\n",
      "Pod Template:\n",
      "  Labels:  app=nginx\n",
      "  Containers:\n",
      "   nginx:\n",
      "    Image:         nginx:1.27.0-alpine\n",
      "    Port:          80/TCP\n",
      "    Host Port:     0/TCP\n",
      "    Environment:   <none>\n",
      "    Mounts:        <none>\n",
      "  Volumes:         <none>\n",
      "  Node-Selectors:  <none>\n",
      "  Tolerations:     <none>\n",
      "Events:\n",
      "  Type    Reason            Age    From                   Message\n",
      "  ----    ------            ----   ----                   -------\n",
      "  Normal  SuccessfulCreate  16m    replicaset-controller  Created pod: nginx-replicaset-xvrxd\n",
      "  Normal  SuccessfulCreate  16m    replicaset-controller  Created pod: nginx-replicaset-7pbf4\n",
      "  Normal  SuccessfulCreate  16m    replicaset-controller  Created pod: nginx-replicaset-qj5v2\n",
      "  Normal  SuccessfulCreate  16m    replicaset-controller  Created pod: nginx-replicaset-tc8fh\n",
      "  Normal  SuccessfulCreate  7m33s  replicaset-controller  Created pod: nginx-replicaset-xbczl\n",
      "  Normal  SuccessfulDelete  2m3s   replicaset-controller  Deleted pod: sole-nginx\n"
     ]
    }
   ],
   "source": [
    "!kubectl describe rs nginx-replicaset"
   ]
  },
  {
   "cell_type": "code",
   "execution_count": 48,
   "id": "1b7fbb7b",
   "metadata": {},
   "outputs": [
    {
     "name": "stdout",
     "output_type": "stream",
     "text": [
      "NAME                     READY   STATUS    RESTARTS   AGE\n",
      "nginx-replicaset-tc8fh   1/1     Running   0          17m\n",
      "nginx-replicaset-xbczl   1/1     Running   0          9m16s\n",
      "nginx-replicaset-xvrxd   1/1     Running   0          18m\n"
     ]
    }
   ],
   "source": [
    "!kubectl get pods"
   ]
  },
  {
   "cell_type": "code",
   "execution_count": 51,
   "id": "a0088646",
   "metadata": {},
   "outputs": [
    {
     "name": "stdout",
     "output_type": "stream",
     "text": [
      "replicaset.apps \"nginx-replicaset\" deleted\n"
     ]
    }
   ],
   "source": [
    "!kubectl delete -f nginx-rs.yaml"
   ]
  },
  {
   "cell_type": "code",
   "execution_count": 52,
   "id": "02d71738",
   "metadata": {},
   "outputs": [
    {
     "name": "stderr",
     "output_type": "stream",
     "text": [
      "No resources found in default namespace.\n"
     ]
    }
   ],
   "source": [
    "!kubectl get rs"
   ]
  },
  {
   "cell_type": "code",
   "execution_count": 53,
   "id": "209c94ca",
   "metadata": {},
   "outputs": [
    {
     "name": "stderr",
     "output_type": "stream",
     "text": [
      "No resources found in default namespace.\n"
     ]
    }
   ],
   "source": [
    "!kubectl get pods"
   ]
  },
  {
   "cell_type": "code",
   "execution_count": 54,
   "id": "fa0a63ec",
   "metadata": {},
   "outputs": [
    {
     "name": "stdout",
     "output_type": "stream",
     "text": [
      "pod/sole-nginx created\n"
     ]
    }
   ],
   "source": [
    "!kubectl apply -f nginx-pod.yaml"
   ]
  },
  {
   "cell_type": "code",
   "execution_count": 55,
   "id": "dbbd3535",
   "metadata": {},
   "outputs": [
    {
     "name": "stdout",
     "output_type": "stream",
     "text": [
      "NAME         READY   STATUS    RESTARTS   AGE\n",
      "sole-nginx   1/1     Running   0          6s\n"
     ]
    }
   ],
   "source": [
    "!kubectl get pods"
   ]
  },
  {
   "cell_type": "code",
   "execution_count": 56,
   "id": "17ad0333",
   "metadata": {},
   "outputs": [
    {
     "name": "stdout",
     "output_type": "stream",
     "text": [
      "replicaset.apps/nginx-replicaset created\n"
     ]
    }
   ],
   "source": [
    "!kubectl apply -f nginx-rs.yaml"
   ]
  },
  {
   "cell_type": "code",
   "execution_count": null,
   "id": "9522cc80",
   "metadata": {},
   "outputs": [
    {
     "name": "stdout",
     "output_type": "stream",
     "text": [
      "NAME                     READY   STATUS    RESTARTS   AGE\n",
      "nginx-replicaset-2t6b6   1/1     Running   0          4s\n",
      "nginx-replicaset-xwj8h   1/1     Running   0          4s\n",
      "sole-nginx               1/1     Running   0          24s\n"
     ]
    }
   ],
   "source": [
    "!kubectl get pods"
   ]
  },
  {
   "cell_type": "code",
   "execution_count": 58,
   "id": "b22c361c",
   "metadata": {},
   "outputs": [
    {
     "name": "stdout",
     "output_type": "stream",
     "text": [
      "NAME               DESIRED   CURRENT   READY   AGE\n",
      "nginx-replicaset   3         3         3       23s\n"
     ]
    }
   ],
   "source": [
    "!kubectl get rs"
   ]
  },
  {
   "cell_type": "code",
   "execution_count": 60,
   "id": "60aa75da",
   "metadata": {},
   "outputs": [
    {
     "name": "stdout",
     "output_type": "stream",
     "text": [
      "NAME                     READY   STATUS    RESTARTS   AGE\n",
      "nginx-replicaset-2t6b6   1/1     Running   0          35s\n",
      "nginx-replicaset-xwj8h   1/1     Running   0          35s\n",
      "sole-nginx               1/1     Running   0          55s\n"
     ]
    }
   ],
   "source": [
    "!kubectl get pods"
   ]
  },
  {
   "cell_type": "code",
   "execution_count": 61,
   "id": "58ccc195",
   "metadata": {},
   "outputs": [
    {
     "name": "stdout",
     "output_type": "stream",
     "text": [
      "pod \"sole-nginx\" deleted\n"
     ]
    }
   ],
   "source": [
    "!kubectl delete -f nginx-pod.yaml"
   ]
  },
  {
   "cell_type": "code",
   "execution_count": 62,
   "id": "6de4595a",
   "metadata": {},
   "outputs": [
    {
     "name": "stdout",
     "output_type": "stream",
     "text": [
      "NAME               DESIRED   CURRENT   READY   AGE\n",
      "nginx-replicaset   3         3         3       100s\n"
     ]
    }
   ],
   "source": [
    "!kubectl get rs"
   ]
  },
  {
   "cell_type": "code",
   "execution_count": 63,
   "id": "b05ece98",
   "metadata": {},
   "outputs": [
    {
     "name": "stdout",
     "output_type": "stream",
     "text": [
      "NAME                     READY   STATUS    RESTARTS   AGE\n",
      "nginx-replicaset-2t6b6   1/1     Running   0          106s\n",
      "nginx-replicaset-d77rw   1/1     Running   0          11s\n",
      "nginx-replicaset-xwj8h   1/1     Running   0          106s\n"
     ]
    }
   ],
   "source": [
    "!kubectl get pods"
   ]
  },
  {
   "cell_type": "code",
   "execution_count": 64,
   "id": "43333cab",
   "metadata": {},
   "outputs": [
    {
     "name": "stdout",
     "output_type": "stream",
     "text": [
      "replicaset.apps \"nginx-replicaset\" deleted\n"
     ]
    }
   ],
   "source": [
    "!kubectl delete -f nginx-rs.yaml"
   ]
  },
  {
   "cell_type": "code",
   "execution_count": null,
   "id": "ef94b294",
   "metadata": {},
   "outputs": [],
   "source": []
  }
 ],
 "metadata": {
  "kernelspec": {
   "display_name": ".venv",
   "language": "python",
   "name": "python3"
  },
  "language_info": {
   "codemirror_mode": {
    "name": "ipython",
    "version": 3
   },
   "file_extension": ".py",
   "mimetype": "text/x-python",
   "name": "python",
   "nbconvert_exporter": "python",
   "pygments_lexer": "ipython3",
   "version": "3.13.5"
  }
 },
 "nbformat": 4,
 "nbformat_minor": 5
}
