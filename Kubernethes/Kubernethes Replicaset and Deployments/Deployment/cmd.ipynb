{
 "cells": [
  {
   "cell_type": "code",
   "execution_count": 1,
   "id": "1c2fce74",
   "metadata": {},
   "outputs": [
    {
     "name": "stderr",
     "output_type": "stream",
     "text": [
      "No resources found in default namespace.\n"
     ]
    }
   ],
   "source": [
    "!kubectl get pods"
   ]
  },
  {
   "cell_type": "code",
   "execution_count": 2,
   "id": "0c7af760",
   "metadata": {},
   "outputs": [
    {
     "name": "stdout",
     "output_type": "stream",
     "text": [
      "deployment.apps/nginx-deployment created\n"
     ]
    }
   ],
   "source": [
    "!kubectl apply -f nginx-deployment.yaml"
   ]
  },
  {
   "cell_type": "code",
   "execution_count": 3,
   "id": "14355489",
   "metadata": {},
   "outputs": [
    {
     "name": "stdout",
     "output_type": "stream",
     "text": [
      "NAME               READY   UP-TO-DATE   AVAILABLE   AGE\n",
      "nginx-deployment   10/10   10           10          10s\n"
     ]
    }
   ],
   "source": [
    "!kubectl get deploy"
   ]
  },
  {
   "cell_type": "code",
   "execution_count": 5,
   "id": "43c0e21e",
   "metadata": {},
   "outputs": [
    {
     "name": "stdout",
     "output_type": "stream",
     "text": [
      "Name:                   nginx-deployment\n",
      "Namespace:              default\n",
      "CreationTimestamp:      Sat, 30 Aug 2025 12:31:16 -0400\n",
      "Labels:                 app=nginx\n",
      "Annotations:            deployment.kubernetes.io/revision: 1\n",
      "Selector:               app=nginx\n",
      "Replicas:               10 desired | 10 updated | 10 total | 10 available | 0 unavailable\n",
      "StrategyType:           RollingUpdate\n",
      "MinReadySeconds:        0\n",
      "RollingUpdateStrategy:  25% max unavailable, 25% max surge\n",
      "Pod Template:\n",
      "  Labels:  app=nginx\n",
      "  Containers:\n",
      "   nginx:\n",
      "    Image:         nginx:1.27.0\n",
      "    Port:          80/TCP\n",
      "    Host Port:     0/TCP\n",
      "    Environment:   <none>\n",
      "    Mounts:        <none>\n",
      "  Volumes:         <none>\n",
      "  Node-Selectors:  <none>\n",
      "  Tolerations:     <none>\n",
      "Conditions:\n",
      "  Type           Status  Reason\n",
      "  ----           ------  ------\n",
      "  Available      True    MinimumReplicasAvailable\n",
      "  Progressing    True    NewReplicaSetAvailable\n",
      "OldReplicaSets:  <none>\n",
      "NewReplicaSet:   nginx-deployment-8bdf8f46b (10/10 replicas created)\n",
      "Events:\n",
      "  Type    Reason             Age   From                   Message\n",
      "  ----    ------             ----  ----                   -------\n",
      "  Normal  ScalingReplicaSet  36s   deployment-controller  Scaled up replica set nginx-deployment-8bdf8f46b from 0 to 10\n"
     ]
    }
   ],
   "source": [
    "!kubectl describe deploy nginx-deployment"
   ]
  },
  {
   "cell_type": "code",
   "execution_count": 6,
   "id": "e038c66a",
   "metadata": {},
   "outputs": [
    {
     "name": "stdout",
     "output_type": "stream",
     "text": [
      "NAME                         DESIRED   CURRENT   READY   AGE\n",
      "nginx-deployment-8bdf8f46b   10        10        10      2m19s\n"
     ]
    }
   ],
   "source": [
    "!kubectl get rs"
   ]
  },
  {
   "cell_type": "code",
   "execution_count": 7,
   "id": "b5da8930",
   "metadata": {},
   "outputs": [
    {
     "name": "stdout",
     "output_type": "stream",
     "text": [
      "NAME                               READY   STATUS    RESTARTS   AGE\n",
      "nginx-deployment-8bdf8f46b-29llq   1/1     Running   0          2m35s\n",
      "nginx-deployment-8bdf8f46b-52vqm   1/1     Running   0          2m35s\n",
      "nginx-deployment-8bdf8f46b-67rx6   1/1     Running   0          2m35s\n",
      "nginx-deployment-8bdf8f46b-7458q   1/1     Running   0          2m35s\n",
      "nginx-deployment-8bdf8f46b-f9plh   1/1     Running   0          2m35s\n",
      "nginx-deployment-8bdf8f46b-fd6zq   1/1     Running   0          2m35s\n",
      "nginx-deployment-8bdf8f46b-hmvgv   1/1     Running   0          2m35s\n",
      "nginx-deployment-8bdf8f46b-qt7pd   1/1     Running   0          2m35s\n",
      "nginx-deployment-8bdf8f46b-qthrj   1/1     Running   0          2m35s\n",
      "nginx-deployment-8bdf8f46b-x4std   1/1     Running   0          2m35s\n"
     ]
    }
   ],
   "source": [
    "!kubectl get pods"
   ]
  },
  {
   "cell_type": "code",
   "execution_count": 9,
   "id": "fbac4879",
   "metadata": {},
   "outputs": [
    {
     "name": "stdout",
     "output_type": "stream",
     "text": [
      "apiVersion: v1\n",
      "kind: Pod\n",
      "metadata:\n",
      "  creationTimestamp: \"2025-08-30T16:31:16Z\"\n",
      "  generateName: nginx-deployment-8bdf8f46b-\n",
      "  labels:\n",
      "    app: nginx\n",
      "    pod-template-hash: 8bdf8f46b\n",
      "  name: nginx-deployment-8bdf8f46b-29llq\n",
      "  namespace: default\n",
      "  ownerReferences:\n",
      "  - apiVersion: apps/v1\n",
      "    blockOwnerDeletion: true\n",
      "    controller: true\n",
      "    kind: ReplicaSet\n",
      "    name: nginx-deployment-8bdf8f46b\n",
      "    uid: 3e2c1a9b-7195-4cdd-b40a-925f956e102e\n",
      "  resourceVersion: \"12543\"\n",
      "  uid: 3a6d724b-590e-4100-a0be-bbba36c8fbd4\n",
      "spec:\n",
      "  containers:\n",
      "  - image: nginx:1.27.0\n",
      "    imagePullPolicy: IfNotPresent\n",
      "    name: nginx\n",
      "    ports:\n",
      "    - containerPort: 80\n",
      "      protocol: TCP\n",
      "    resources: {}\n",
      "    terminationMessagePath: /dev/termination-log\n",
      "    terminationMessagePolicy: File\n",
      "    volumeMounts:\n",
      "    - mountPath: /var/run/secrets/kubernetes.io/serviceaccount\n",
      "      name: kube-api-access-6l4l9\n",
      "      readOnly: true\n",
      "  dnsPolicy: ClusterFirst\n",
      "  enableServiceLinks: true\n",
      "  nodeName: docker-desktop\n",
      "  preemptionPolicy: PreemptLowerPriority\n",
      "  priority: 0\n",
      "  restartPolicy: Always\n",
      "  schedulerName: default-scheduler\n",
      "  securityContext: {}\n",
      "  serviceAccount: default\n",
      "  serviceAccountName: default\n",
      "  terminationGracePeriodSeconds: 30\n",
      "  tolerations:\n",
      "  - effect: NoExecute\n",
      "    key: node.kubernetes.io/not-ready\n",
      "    operator: Exists\n",
      "    tolerationSeconds: 300\n",
      "  - effect: NoExecute\n",
      "    key: node.kubernetes.io/unreachable\n",
      "    operator: Exists\n",
      "    tolerationSeconds: 300\n",
      "  volumes:\n",
      "  - name: kube-api-access-6l4l9\n",
      "    projected:\n",
      "      defaultMode: 420\n",
      "      sources:\n",
      "      - serviceAccountToken:\n",
      "          expirationSeconds: 3607\n",
      "          path: token\n",
      "      - configMap:\n",
      "          items:\n",
      "          - key: ca.crt\n",
      "            path: ca.crt\n",
      "          name: kube-root-ca.crt\n",
      "      - downwardAPI:\n",
      "          items:\n",
      "          - fieldRef:\n",
      "              apiVersion: v1\n",
      "              fieldPath: metadata.namespace\n",
      "            path: namespace\n",
      "status:\n",
      "  conditions:\n",
      "  - lastProbeTime: null\n",
      "    lastTransitionTime: \"2025-08-30T16:31:19Z\"\n",
      "    status: \"True\"\n",
      "    type: PodReadyToStartContainers\n",
      "  - lastProbeTime: null\n",
      "    lastTransitionTime: \"2025-08-30T16:31:16Z\"\n",
      "    status: \"True\"\n",
      "    type: Initialized\n",
      "  - lastProbeTime: null\n",
      "    lastTransitionTime: \"2025-08-30T16:31:19Z\"\n",
      "    status: \"True\"\n",
      "    type: Ready\n",
      "  - lastProbeTime: null\n",
      "    lastTransitionTime: \"2025-08-30T16:31:19Z\"\n",
      "    status: \"True\"\n",
      "    type: ContainersReady\n",
      "  - lastProbeTime: null\n",
      "    lastTransitionTime: \"2025-08-30T16:31:16Z\"\n",
      "    status: \"True\"\n",
      "    type: PodScheduled\n",
      "  containerStatuses:\n",
      "  - containerID: docker://fa945335fc95ebab92ae191b374a9df5aa1f1a3652afa461d6281fcc13c4f2de\n",
      "    image: nginx:1.27.0\n",
      "    imageID: docker-pullable://nginx@sha256:98f8ec75657d21b924fe4f69b6b9bff2f6550ea48838af479d8894a852000e40\n",
      "    lastState: {}\n",
      "    name: nginx\n",
      "    ready: true\n",
      "    restartCount: 0\n",
      "    started: true\n",
      "    state:\n",
      "      running:\n",
      "        startedAt: \"2025-08-30T16:31:18Z\"\n",
      "    volumeMounts:\n",
      "    - mountPath: /var/run/secrets/kubernetes.io/serviceaccount\n",
      "      name: kube-api-access-6l4l9\n",
      "      readOnly: true\n",
      "      recursiveReadOnly: Disabled\n",
      "  hostIP: 192.168.65.3\n",
      "  hostIPs:\n",
      "  - ip: 192.168.65.3\n",
      "  phase: Running\n",
      "  podIP: 10.1.0.123\n",
      "  podIPs:\n",
      "  - ip: 10.1.0.123\n",
      "  qosClass: BestEffort\n",
      "  startTime: \"2025-08-30T16:31:16Z\"\n"
     ]
    }
   ],
   "source": [
    "!kubectl get pod nginx-deployment-8bdf8f46b-29llq -o yaml"
   ]
  },
  {
   "cell_type": "markdown",
   "id": "86579193",
   "metadata": {},
   "source": [
    "# Updating Pod Template"
   ]
  },
  {
   "cell_type": "code",
   "execution_count": 10,
   "id": "a5f414b7",
   "metadata": {},
   "outputs": [
    {
     "name": "stdout",
     "output_type": "stream",
     "text": [
      "diff -u -N C:\\Users\\celia\\AppData\\Local\\Temp\\LIVE-910730143/apps.v1.Deployment.default.nginx-deployment C:\\Users\\celia\\AppData\\Local\\Temp\\MERGED-1277984910/apps.v1.Deployment.default.nginx-deployment\n",
      "--- C:\\Users\\celia\\AppData\\Local\\Temp\\LIVE-910730143/apps.v1.Deployment.default.nginx-deployment\t2025-08-30 12:36:38.761736500 -0400\n",
      "+++ C:\\Users\\celia\\AppData\\Local\\Temp\\MERGED-1277984910/apps.v1.Deployment.default.nginx-deployment\t2025-08-30 12:36:38.761736500 -0400\n",
      "@@ -6,7 +6,7 @@\n",
      "     kubectl.kubernetes.io/last-applied-configuration: |\n",
      "       {\"apiVersion\":\"apps/v1\",\"kind\":\"Deployment\",\"metadata\":{\"annotations\":{},\"labels\":{\"app\":\"nginx\"},\"name\":\"nginx-deployment\",\"namespace\":\"default\"},\"spec\":{\"replicas\":10,\"selector\":{\"matchLabels\":{\"app\":\"nginx\"}},\"template\":{\"metadata\":{\"labels\":{\"app\":\"nginx\"}},\"spec\":{\"containers\":[{\"image\":\"nginx:1.27.0\",\"name\":\"nginx\",\"ports\":[{\"containerPort\":80}]}]}}}}\n",
      "   creationTimestamp: \"2025-08-30T16:31:16Z\"\n",
      "-  generation: 1\n",
      "+  generation: 2\n",
      "   labels:\n",
      "     app: nginx\n",
      "   name: nginx-deployment\n",
      "@@ -32,7 +32,7 @@\n",
      "         app: nginx\n",
      "     spec:\n",
      "       containers:\n",
      "-      - image: nginx:1.27.0\n",
      "+      - image: nginx:1.27.0-alpine\n",
      "         imagePullPolicy: IfNotPresent\n",
      "         name: nginx\n",
      "         ports:\n"
     ]
    }
   ],
   "source": [
    "!kubectl diff -f nginx-deployment.yaml"
   ]
  },
  {
   "cell_type": "code",
   "execution_count": 11,
   "id": "dcac3b59",
   "metadata": {},
   "outputs": [
    {
     "name": "stdout",
     "output_type": "stream",
     "text": [
      "deployment.apps/nginx-deployment configured\n"
     ]
    }
   ],
   "source": [
    "!kubectl apply -f nginx-deployment.yaml"
   ]
  },
  {
   "cell_type": "code",
   "execution_count": 12,
   "id": "d350d567",
   "metadata": {},
   "outputs": [
    {
     "name": "stdout",
     "output_type": "stream",
     "text": [
      "NAME                                READY   STATUS              RESTARTS   AGE\n",
      "nginx-deployment-6d8469f8db-722lw   0/1     ContainerCreating   0          0s\n",
      "nginx-deployment-6d8469f8db-hchpc   0/1     ContainerCreating   0          0s\n",
      "nginx-deployment-6d8469f8db-pk446   0/1     ContainerCreating   0          0s\n",
      "nginx-deployment-6d8469f8db-w2ng6   0/1     ContainerCreating   0          0s\n",
      "nginx-deployment-6d8469f8db-xv2s2   0/1     ContainerCreating   0          0s\n",
      "nginx-deployment-8bdf8f46b-29llq    1/1     Running             0          6m45s\n",
      "nginx-deployment-8bdf8f46b-52vqm    1/1     Terminating         0          6m45s\n",
      "nginx-deployment-8bdf8f46b-67rx6    1/1     Running             0          6m45s\n",
      "nginx-deployment-8bdf8f46b-7458q    1/1     Running             0          6m45s\n",
      "nginx-deployment-8bdf8f46b-f9plh    1/1     Running             0          6m45s\n",
      "nginx-deployment-8bdf8f46b-fd6zq    1/1     Running             0          6m45s\n",
      "nginx-deployment-8bdf8f46b-hmvgv    1/1     Terminating         0          6m45s\n",
      "nginx-deployment-8bdf8f46b-qt7pd    1/1     Running             0          6m45s\n",
      "nginx-deployment-8bdf8f46b-qthrj    1/1     Running             0          6m45s\n",
      "nginx-deployment-8bdf8f46b-x4std    1/1     Running             0          6m45s\n"
     ]
    }
   ],
   "source": [
    "!kubectl get pods"
   ]
  },
  {
   "cell_type": "code",
   "execution_count": 13,
   "id": "f47e007e",
   "metadata": {},
   "outputs": [
    {
     "name": "stdout",
     "output_type": "stream",
     "text": [
      "NAME                          DESIRED   CURRENT   READY   AGE\n",
      "nginx-deployment-6d8469f8db   5         5         0       0s\n",
      "nginx-deployment-8bdf8f46b    8         8         8       6m45s\n"
     ]
    }
   ],
   "source": [
    "!kubectl get rs"
   ]
  },
  {
   "cell_type": "code",
   "execution_count": 15,
   "id": "1ac54128",
   "metadata": {},
   "outputs": [
    {
     "name": "stdout",
     "output_type": "stream",
     "text": [
      "NAME                          DESIRED   CURRENT   READY   AGE\n",
      "nginx-deployment-6d8469f8db   10        10        10      15s\n",
      "nginx-deployment-8bdf8f46b    0         0         0       7m\n"
     ]
    }
   ],
   "source": [
    "!kubectl get rs"
   ]
  },
  {
   "cell_type": "code",
   "execution_count": 16,
   "id": "d0666731",
   "metadata": {},
   "outputs": [
    {
     "name": "stdout",
     "output_type": "stream",
     "text": [
      "NAME                                READY   STATUS    RESTARTS   AGE\n",
      "nginx-deployment-6d8469f8db-722lw   1/1     Running   0          29s\n",
      "nginx-deployment-6d8469f8db-97xgj   1/1     Running   0          28s\n",
      "nginx-deployment-6d8469f8db-9hk4t   1/1     Running   0          27s\n",
      "nginx-deployment-6d8469f8db-9jg4z   1/1     Running   0          27s\n",
      "nginx-deployment-6d8469f8db-d9q4g   1/1     Running   0          28s\n",
      "nginx-deployment-6d8469f8db-gbnqs   1/1     Running   0          27s\n",
      "nginx-deployment-6d8469f8db-hchpc   1/1     Running   0          29s\n",
      "nginx-deployment-6d8469f8db-pk446   1/1     Running   0          29s\n",
      "nginx-deployment-6d8469f8db-w2ng6   1/1     Running   0          29s\n",
      "nginx-deployment-6d8469f8db-xv2s2   1/1     Running   0          29s\n"
     ]
    }
   ],
   "source": [
    "!kubectl get pods"
   ]
  },
  {
   "cell_type": "code",
   "execution_count": 17,
   "id": "8b8424c7",
   "metadata": {},
   "outputs": [
    {
     "name": "stdout",
     "output_type": "stream",
     "text": [
      "NAME                          DESIRED   CURRENT   READY   AGE\n",
      "nginx-deployment-6d8469f8db   10        10        10      35s\n",
      "nginx-deployment-8bdf8f46b    0         0         0       7m20s\n"
     ]
    }
   ],
   "source": [
    "!kubectl get rs"
   ]
  },
  {
   "cell_type": "code",
   "execution_count": 21,
   "id": "5f81b5ec",
   "metadata": {},
   "outputs": [
    {
     "name": "stdout",
     "output_type": "stream",
     "text": [
      "Name:                   nginx-deployment\n",
      "Namespace:              default\n",
      "CreationTimestamp:      Sat, 30 Aug 2025 12:31:16 -0400\n",
      "Labels:                 app=nginx\n",
      "Annotations:            deployment.kubernetes.io/revision: 2\n",
      "Selector:               app=nginx\n",
      "Replicas:               10 desired | 10 updated | 10 total | 10 available | 0 unavailable\n",
      "StrategyType:           RollingUpdate\n",
      "MinReadySeconds:        0\n",
      "RollingUpdateStrategy:  25% max unavailable, 25% max surge\n",
      "Pod Template:\n",
      "  Labels:  app=nginx\n",
      "  Containers:\n",
      "   nginx:\n",
      "    Image:         nginx:1.27.0-alpine\n",
      "    Port:          80/TCP\n",
      "    Host Port:     0/TCP\n",
      "    Environment:   <none>\n",
      "    Mounts:        <none>\n",
      "  Volumes:         <none>\n",
      "  Node-Selectors:  <none>\n",
      "  Tolerations:     <none>\n",
      "Conditions:\n",
      "  Type           Status  Reason\n",
      "  ----           ------  ------\n",
      "  Available      True    MinimumReplicasAvailable\n",
      "  Progressing    True    NewReplicaSetAvailable\n",
      "OldReplicaSets:  nginx-deployment-8bdf8f46b (0/0 replicas created)\n",
      "NewReplicaSet:   nginx-deployment-6d8469f8db (10/10 replicas created)\n",
      "Events:\n",
      "  Type    Reason             Age                    From                   Message\n",
      "  ----    ------             ----                   ----                   -------\n",
      "  Normal  ScalingReplicaSet  9m19s                  deployment-controller  Scaled up replica set nginx-deployment-8bdf8f46b from 0 to 10\n",
      "  Normal  ScalingReplicaSet  2m34s                  deployment-controller  Scaled up replica set nginx-deployment-6d8469f8db from 0 to 3\n",
      "  Normal  ScalingReplicaSet  2m34s                  deployment-controller  Scaled down replica set nginx-deployment-8bdf8f46b from 10 to 8\n",
      "  Normal  ScalingReplicaSet  2m34s                  deployment-controller  Scaled up replica set nginx-deployment-6d8469f8db from 3 to 5\n",
      "  Normal  ScalingReplicaSet  2m33s                  deployment-controller  Scaled down replica set nginx-deployment-8bdf8f46b from 8 to 7\n",
      "  Normal  ScalingReplicaSet  2m33s                  deployment-controller  Scaled up replica set nginx-deployment-6d8469f8db from 5 to 6\n",
      "  Normal  ScalingReplicaSet  2m33s                  deployment-controller  Scaled down replica set nginx-deployment-8bdf8f46b from 7 to 6\n",
      "  Normal  ScalingReplicaSet  2m33s                  deployment-controller  Scaled up replica set nginx-deployment-6d8469f8db from 6 to 7\n",
      "  Normal  ScalingReplicaSet  2m33s                  deployment-controller  Scaled down replica set nginx-deployment-8bdf8f46b from 6 to 4\n",
      "  Normal  ScalingReplicaSet  2m30s (x6 over 2m32s)  deployment-controller  (combined from similar events): Scaled down replica set nginx-deployment-8bdf8f46b from 1 to 0\n"
     ]
    }
   ],
   "source": [
    "!kubectl describe deploy nginx-deployment\n",
    "\n"
   ]
  },
  {
   "cell_type": "code",
   "execution_count": 22,
   "id": "f3fd9e26",
   "metadata": {},
   "outputs": [
    {
     "name": "stdout",
     "output_type": "stream",
     "text": [
      "NAME                                READY   STATUS    RESTARTS   AGE\n",
      "nginx-deployment-6d8469f8db-722lw   1/1     Running   0          3m23s\n",
      "nginx-deployment-6d8469f8db-97xgj   1/1     Running   0          3m22s\n",
      "nginx-deployment-6d8469f8db-9hk4t   1/1     Running   0          3m21s\n",
      "nginx-deployment-6d8469f8db-9jg4z   1/1     Running   0          3m21s\n",
      "nginx-deployment-6d8469f8db-d9q4g   1/1     Running   0          3m22s\n",
      "nginx-deployment-6d8469f8db-gbnqs   1/1     Running   0          3m21s\n",
      "nginx-deployment-6d8469f8db-hchpc   1/1     Running   0          3m23s\n",
      "nginx-deployment-6d8469f8db-pk446   1/1     Running   0          3m23s\n",
      "nginx-deployment-6d8469f8db-w2ng6   1/1     Running   0          3m23s\n",
      "nginx-deployment-6d8469f8db-xv2s2   1/1     Running   0          3m23s\n"
     ]
    }
   ],
   "source": [
    "!kubectl get pods"
   ]
  },
  {
   "cell_type": "code",
   "execution_count": 23,
   "id": "4db74eb3",
   "metadata": {},
   "outputs": [
    {
     "name": "stdout",
     "output_type": "stream",
     "text": [
      "    Image:          nginx:1.27.0-alpine\n",
      "    Image ID:       docker-pullable://nginx@sha256:208b70eefac13ee9be00e486f79c695b15cef861c680527171a27d253d834be9\n"
     ]
    },
    {
     "name": "stderr",
     "output_type": "stream",
     "text": [
      "Error from server (NotFound): pods \"}\" not found\n"
     ]
    }
   ],
   "source": [
    "!kubectl describe pod nginx-deployment-6d8469f8db-722lw } | findstr Image"
   ]
  },
  {
   "cell_type": "markdown",
   "id": "53fbd363",
   "metadata": {},
   "source": [
    "# Rolling Updates"
   ]
  },
  {
   "cell_type": "code",
   "execution_count": 24,
   "id": "b95add7a",
   "metadata": {},
   "outputs": [
    {
     "name": "stdout",
     "output_type": "stream",
     "text": [
      "NAME               READY   UP-TO-DATE   AVAILABLE   AGE\n",
      "nginx-deployment   10/10   10           10          12m\n"
     ]
    }
   ],
   "source": [
    "!kubectl get deploy"
   ]
  },
  {
   "cell_type": "code",
   "execution_count": 25,
   "id": "2cfb5025",
   "metadata": {},
   "outputs": [
    {
     "name": "stdout",
     "output_type": "stream",
     "text": [
      "Manage the rollout of one or many resources.\n",
      "        \n",
      " Valid resource types include:\n",
      "\n",
      "  *  deployments\n",
      "  *  daemonsets\n",
      "  *  statefulsets\n",
      "\n",
      "Examples:\n",
      "  # Rollback to the previous deployment\n",
      "  kubectl rollout undo deployment/abc\n",
      "  \n",
      "  # Check the rollout status of a daemonset\n",
      "  kubectl rollout status daemonset/foo\n",
      "  \n",
      "  # Restart a deployment\n",
      "  kubectl rollout restart deployment/abc\n",
      "  \n",
      "  # Restart deployments with the 'app=nginx' label\n",
      "  kubectl rollout restart deployment --selector=app=nginx\n",
      "\n",
      "Available Commands:\n",
      "  history       View rollout history\n",
      "  pause         Mark the provided resource as paused\n",
      "  restart       Restart a resource\n",
      "  resume        Resume a paused resource\n",
      "  status        Show the status of the rollout\n",
      "  undo          Undo a previous rollout\n",
      "\n",
      "Usage:\n",
      "  kubectl rollout SUBCOMMAND [options]\n",
      "\n",
      "Use \"kubectl rollout <command> --help\" for more information about a given command.\n",
      "Use \"kubectl options\" for a list of global command-line options (applies to all commands).\n"
     ]
    }
   ],
   "source": [
    "!kubectl rollout --help"
   ]
  },
  {
   "cell_type": "code",
   "execution_count": 26,
   "id": "f28f3b27",
   "metadata": {},
   "outputs": [
    {
     "name": "stdout",
     "output_type": "stream",
     "text": [
      "deployment.apps/nginx-deployment \n",
      "REVISION  CHANGE-CAUSE\n",
      "1         <none>\n",
      "2         <none>\n",
      "\n"
     ]
    }
   ],
   "source": [
    "!kubectl rollout history deployment/nginx-deployment"
   ]
  },
  {
   "cell_type": "code",
   "execution_count": 27,
   "id": "aa12e13f",
   "metadata": {},
   "outputs": [
    {
     "name": "stdout",
     "output_type": "stream",
     "text": [
      "deployment.apps/nginx-deployment rolled back\n"
     ]
    }
   ],
   "source": [
    "!kubectl rollout undo deployment/nginx-deployment\n"
   ]
  },
  {
   "cell_type": "code",
   "execution_count": 28,
   "id": "de6140f4",
   "metadata": {},
   "outputs": [
    {
     "name": "stdout",
     "output_type": "stream",
     "text": [
      "NAME                                READY   STATUS              RESTARTS   AGE\n",
      "nginx-deployment-6d8469f8db-722lw   1/1     Running             0          7m33s\n",
      "nginx-deployment-6d8469f8db-97xgj   1/1     Running             0          7m32s\n",
      "nginx-deployment-6d8469f8db-9hk4t   0/1     Completed           0          7m31s\n",
      "nginx-deployment-6d8469f8db-9jg4z   0/1     Completed           0          7m31s\n",
      "nginx-deployment-6d8469f8db-d9q4g   1/1     Running             0          7m32s\n",
      "nginx-deployment-6d8469f8db-gbnqs   1/1     Running             0          7m31s\n",
      "nginx-deployment-6d8469f8db-hchpc   1/1     Running             0          7m33s\n",
      "nginx-deployment-6d8469f8db-pk446   1/1     Running             0          7m33s\n",
      "nginx-deployment-6d8469f8db-w2ng6   1/1     Running             0          7m33s\n",
      "nginx-deployment-6d8469f8db-xv2s2   1/1     Running             0          7m33s\n",
      "nginx-deployment-8bdf8f46b-ldg2t    0/1     ContainerCreating   0          0s\n",
      "nginx-deployment-8bdf8f46b-lvfmg    0/1     ContainerCreating   0          0s\n",
      "nginx-deployment-8bdf8f46b-q9rz7    0/1     ContainerCreating   0          0s\n",
      "nginx-deployment-8bdf8f46b-rvsvw    0/1     ContainerCreating   0          0s\n",
      "nginx-deployment-8bdf8f46b-tqsf9    0/1     ContainerCreating   0          0s\n"
     ]
    }
   ],
   "source": [
    "!kubectl get pods"
   ]
  },
  {
   "cell_type": "code",
   "execution_count": 29,
   "id": "ae74ecc4",
   "metadata": {},
   "outputs": [
    {
     "name": "stdout",
     "output_type": "stream",
     "text": [
      "NAME                               READY   STATUS    RESTARTS   AGE\n",
      "nginx-deployment-8bdf8f46b-c6pqz   1/1     Running   0          7s\n",
      "nginx-deployment-8bdf8f46b-c7mng   1/1     Running   0          6s\n",
      "nginx-deployment-8bdf8f46b-j2sgh   1/1     Running   0          7s\n",
      "nginx-deployment-8bdf8f46b-ldg2t   1/1     Running   0          8s\n",
      "nginx-deployment-8bdf8f46b-lvfmg   1/1     Running   0          8s\n",
      "nginx-deployment-8bdf8f46b-mxjv2   1/1     Running   0          7s\n",
      "nginx-deployment-8bdf8f46b-nnlqr   1/1     Running   0          7s\n",
      "nginx-deployment-8bdf8f46b-q9rz7   1/1     Running   0          8s\n",
      "nginx-deployment-8bdf8f46b-rvsvw   1/1     Running   0          8s\n",
      "nginx-deployment-8bdf8f46b-tqsf9   1/1     Running   0          8s\n"
     ]
    }
   ],
   "source": [
    "!kubectl get pods"
   ]
  },
  {
   "cell_type": "code",
   "execution_count": 30,
   "id": "80f2fe42",
   "metadata": {},
   "outputs": [
    {
     "name": "stdout",
     "output_type": "stream",
     "text": [
      "deployment.apps/nginx-deployment \n",
      "REVISION  CHANGE-CAUSE\n",
      "2         <none>\n",
      "3         <none>\n",
      "\n"
     ]
    }
   ],
   "source": [
    "!kubectl rollout history deployment/nginx-deployment"
   ]
  },
  {
   "cell_type": "code",
   "execution_count": 31,
   "id": "919ae6d8",
   "metadata": {},
   "outputs": [
    {
     "name": "stdout",
     "output_type": "stream",
     "text": [
      "apiVersion: apps/v1\n",
      "kind: ReplicaSet\n",
      "metadata:\n",
      "  annotations:\n",
      "    deployment.kubernetes.io/desired-replicas: \"10\"\n",
      "    deployment.kubernetes.io/max-replicas: \"13\"\n",
      "    deployment.kubernetes.io/revision: \"2\"\n",
      "  creationTimestamp: \"2025-08-30T16:38:01Z\"\n",
      "  generation: 15\n",
      "  labels:\n",
      "    app: nginx\n",
      "    pod-template-hash: 6d8469f8db\n",
      "  name: nginx-deployment-6d8469f8db\n",
      "  namespace: default\n",
      "  ownerReferences:\n",
      "  - apiVersion: apps/v1\n",
      "    blockOwnerDeletion: true\n",
      "    controller: true\n",
      "    kind: Deployment\n",
      "    name: nginx-deployment\n",
      "    uid: 0c963db7-3db3-4a1e-b4b4-1711ee24d482\n",
      "  resourceVersion: \"14209\"\n",
      "  uid: be2eddd8-a305-439b-8dee-0d4319795de6\n",
      "spec:\n",
      "  replicas: 0\n",
      "  selector:\n",
      "    matchLabels:\n",
      "      app: nginx\n",
      "      pod-template-hash: 6d8469f8db\n",
      "  template:\n",
      "    metadata:\n",
      "      creationTimestamp: null\n",
      "      labels:\n",
      "        app: nginx\n",
      "        pod-template-hash: 6d8469f8db\n",
      "    spec:\n",
      "      containers:\n",
      "      - image: nginx:1.27.0-alpine\n",
      "        imagePullPolicy: IfNotPresent\n",
      "        name: nginx\n",
      "        ports:\n",
      "        - containerPort: 80\n",
      "          protocol: TCP\n",
      "        resources: {}\n",
      "        terminationMessagePath: /dev/termination-log\n",
      "        terminationMessagePolicy: File\n",
      "      dnsPolicy: ClusterFirst\n",
      "      restartPolicy: Always\n",
      "      schedulerName: default-scheduler\n",
      "      securityContext: {}\n",
      "      terminationGracePeriodSeconds: 30\n",
      "status:\n",
      "  observedGeneration: 15\n",
      "  replicas: 0\n"
     ]
    }
   ],
   "source": [
    "!kubectl rollout history deployment/nginx-deployment --revision=2 -o yaml"
   ]
  },
  {
   "cell_type": "code",
   "execution_count": 32,
   "id": "4795ee3c",
   "metadata": {},
   "outputs": [
    {
     "name": "stdout",
     "output_type": "stream",
     "text": [
      "apiVersion: apps/v1\n",
      "kind: ReplicaSet\n",
      "metadata:\n",
      "  annotations:\n",
      "    deployment.kubernetes.io/desired-replicas: \"10\"\n",
      "    deployment.kubernetes.io/max-replicas: \"13\"\n",
      "    deployment.kubernetes.io/revision: \"3\"\n",
      "    deployment.kubernetes.io/revision-history: \"1\"\n",
      "  creationTimestamp: \"2025-08-30T16:31:16Z\"\n",
      "  generation: 16\n",
      "  labels:\n",
      "    app: nginx\n",
      "    pod-template-hash: 8bdf8f46b\n",
      "  name: nginx-deployment-8bdf8f46b\n",
      "  namespace: default\n",
      "  ownerReferences:\n",
      "  - apiVersion: apps/v1\n",
      "    blockOwnerDeletion: true\n",
      "    controller: true\n",
      "    kind: Deployment\n",
      "    name: nginx-deployment\n",
      "    uid: 0c963db7-3db3-4a1e-b4b4-1711ee24d482\n",
      "  resourceVersion: \"14218\"\n",
      "  uid: 3e2c1a9b-7195-4cdd-b40a-925f956e102e\n",
      "spec:\n",
      "  replicas: 10\n",
      "  selector:\n",
      "    matchLabels:\n",
      "      app: nginx\n",
      "      pod-template-hash: 8bdf8f46b\n",
      "  template:\n",
      "    metadata:\n",
      "      creationTimestamp: null\n",
      "      labels:\n",
      "        app: nginx\n",
      "        pod-template-hash: 8bdf8f46b\n",
      "    spec:\n",
      "      containers:\n",
      "      - image: nginx:1.27.0\n",
      "        imagePullPolicy: IfNotPresent\n",
      "        name: nginx\n",
      "        ports:\n",
      "        - containerPort: 80\n",
      "          protocol: TCP\n",
      "        resources: {}\n",
      "        terminationMessagePath: /dev/termination-log\n",
      "        terminationMessagePolicy: File\n",
      "      dnsPolicy: ClusterFirst\n",
      "      restartPolicy: Always\n",
      "      schedulerName: default-scheduler\n",
      "      securityContext: {}\n",
      "      terminationGracePeriodSeconds: 30\n",
      "status:\n",
      "  availableReplicas: 10\n",
      "  fullyLabeledReplicas: 10\n",
      "  observedGeneration: 16\n",
      "  readyReplicas: 10\n",
      "  replicas: 10\n"
     ]
    }
   ],
   "source": [
    "!kubectl rollout history deployment/nginx-deployment --revision=3 -o yaml"
   ]
  },
  {
   "cell_type": "code",
   "execution_count": 34,
   "id": "315c2e2c",
   "metadata": {},
   "outputs": [
    {
     "name": "stdout",
     "output_type": "stream",
     "text": [
      "NAME                               READY   STATUS    RESTARTS   AGE\n",
      "nginx-deployment-8bdf8f46b-c6pqz   1/1     Running   0          4m49s\n",
      "nginx-deployment-8bdf8f46b-c7mng   1/1     Running   0          4m48s\n",
      "nginx-deployment-8bdf8f46b-j2sgh   1/1     Running   0          4m49s\n",
      "nginx-deployment-8bdf8f46b-ldg2t   1/1     Running   0          4m50s\n",
      "nginx-deployment-8bdf8f46b-lvfmg   1/1     Running   0          4m50s\n",
      "nginx-deployment-8bdf8f46b-mxjv2   1/1     Running   0          4m49s\n",
      "nginx-deployment-8bdf8f46b-nnlqr   1/1     Running   0          4m49s\n",
      "nginx-deployment-8bdf8f46b-q9rz7   1/1     Running   0          4m50s\n",
      "nginx-deployment-8bdf8f46b-rvsvw   1/1     Running   0          4m50s\n",
      "nginx-deployment-8bdf8f46b-tqsf9   1/1     Running   0          4m50s\n"
     ]
    }
   ],
   "source": [
    "!kubectl get pods"
   ]
  },
  {
   "cell_type": "code",
   "execution_count": 35,
   "id": "89ef706f",
   "metadata": {},
   "outputs": [
    {
     "name": "stdout",
     "output_type": "stream",
     "text": [
      "    Image:          nginx:1.27.0\n",
      "    Image ID:       docker-pullable://nginx@sha256:98f8ec75657d21b924fe4f69b6b9bff2f6550ea48838af479d8894a852000e40\n"
     ]
    }
   ],
   "source": [
    "!kubectl describe pods nginx-deployment-8bdf8f46b-c6pq | findstr Image"
   ]
  },
  {
   "cell_type": "code",
   "execution_count": 36,
   "id": "19876fcd",
   "metadata": {},
   "outputs": [
    {
     "name": "stdout",
     "output_type": "stream",
     "text": [
      "diff -u -N C:\\Users\\celia\\AppData\\Local\\Temp\\LIVE-4085723555/apps.v1.Deployment.default.nginx-deployment C:\\Users\\celia\\AppData\\Local\\Temp\\MERGED-213967683/apps.v1.Deployment.default.nginx-deployment\n",
      "--- C:\\Users\\celia\\AppData\\Local\\Temp\\LIVE-4085723555/apps.v1.Deployment.default.nginx-deployment\t2025-08-30 12:53:15.820344100 -0400\n",
      "+++ C:\\Users\\celia\\AppData\\Local\\Temp\\MERGED-213967683/apps.v1.Deployment.default.nginx-deployment\t2025-08-30 12:53:15.820869700 -0400\n",
      "@@ -6,7 +6,7 @@\n",
      "     kubectl.kubernetes.io/last-applied-configuration: |\n",
      "       {\"apiVersion\":\"apps/v1\",\"kind\":\"Deployment\",\"metadata\":{\"annotations\":{},\"labels\":{\"app\":\"nginx\"},\"name\":\"nginx-deployment\",\"namespace\":\"default\"},\"spec\":{\"replicas\":10,\"selector\":{\"matchLabels\":{\"app\":\"nginx\"}},\"template\":{\"metadata\":{\"labels\":{\"app\":\"nginx\"}},\"spec\":{\"containers\":[{\"image\":\"nginx:1.27.0-alpine\",\"name\":\"nginx\",\"ports\":[{\"containerPort\":80}]}]}}}}\n",
      "   creationTimestamp: \"2025-08-30T16:31:16Z\"\n",
      "-  generation: 3\n",
      "+  generation: 4\n",
      "   labels:\n",
      "     app: nginx\n",
      "   name: nginx-deployment\n",
      "@@ -32,7 +32,7 @@\n",
      "         app: nginx\n",
      "     spec:\n",
      "       containers:\n",
      "-      - image: nginx:1.27.0\n",
      "+      - image: nginx:1.27.0-alpine\n",
      "         imagePullPolicy: IfNotPresent\n",
      "         name: nginx\n",
      "         ports:\n"
     ]
    },
    {
     "name": "stderr",
     "output_type": "stream",
     "text": [
      "Warning: unknown field \"spec.selector.annotations\"\n"
     ]
    }
   ],
   "source": [
    "!kubectl diff -f nginx-deployment.yaml\n"
   ]
  },
  {
   "cell_type": "code",
   "execution_count": 38,
   "id": "8a57773f",
   "metadata": {},
   "outputs": [
    {
     "name": "stdout",
     "output_type": "stream",
     "text": [
      "deployment.apps/nginx-deployment configured\n"
     ]
    }
   ],
   "source": [
    "!kubectl apply -f nginx-deployment.yaml"
   ]
  },
  {
   "cell_type": "code",
   "execution_count": 39,
   "id": "f2c0e01f",
   "metadata": {},
   "outputs": [
    {
     "name": "stdout",
     "output_type": "stream",
     "text": [
      "NAME                                READY   STATUS              RESTARTS   AGE\n",
      "nginx-deployment-6d8469f8db-5bdqr   1/1     Running             0          2s\n",
      "nginx-deployment-6d8469f8db-5mxwp   1/1     Running             0          2s\n",
      "nginx-deployment-6d8469f8db-74864   0/1     ContainerCreating   0          0s\n",
      "nginx-deployment-6d8469f8db-8lzxp   1/1     Running             0          2s\n",
      "nginx-deployment-6d8469f8db-9lfb5   0/1     ContainerCreating   0          1s\n",
      "nginx-deployment-6d8469f8db-c5l5p   0/1     ContainerCreating   0          1s\n",
      "nginx-deployment-6d8469f8db-c76kg   1/1     Running             0          2s\n",
      "nginx-deployment-6d8469f8db-fmnzp   0/1     ContainerCreating   0          0s\n",
      "nginx-deployment-6d8469f8db-mdrph   0/1     ContainerCreating   0          1s\n",
      "nginx-deployment-6d8469f8db-whwpb   1/1     Running             0          2s\n",
      "nginx-deployment-8bdf8f46b-c7mng    1/1     Running             0          9m46s\n",
      "nginx-deployment-8bdf8f46b-ldg2t    0/1     Completed           0          9m48s\n",
      "nginx-deployment-8bdf8f46b-lvfmg    0/1     Completed           0          9m48s\n",
      "nginx-deployment-8bdf8f46b-mxjv2    0/1     Completed           0          9m47s\n",
      "nginx-deployment-8bdf8f46b-nnlqr    1/1     Running             0          9m47s\n",
      "nginx-deployment-8bdf8f46b-q9rz7    0/1     Completed           0          9m48s\n",
      "nginx-deployment-8bdf8f46b-rvsvw    1/1     Running             0          9m48s\n",
      "nginx-deployment-8bdf8f46b-tqsf9    0/1     Completed           0          9m48s\n"
     ]
    }
   ],
   "source": [
    "!kubectl get pods"
   ]
  },
  {
   "cell_type": "code",
   "execution_count": 43,
   "id": "eec38065",
   "metadata": {},
   "outputs": [
    {
     "name": "stdout",
     "output_type": "stream",
     "text": [
      "deployment.apps/nginx-deployment \n",
      "REVISION  CHANGE-CAUSE\n",
      "3         <none>\n",
      "4         <none>\n",
      "\n"
     ]
    }
   ],
   "source": [
    "!kubectl rollout history deployment/nginx-deployment\n"
   ]
  },
  {
   "cell_type": "code",
   "execution_count": 44,
   "id": "339a4e0a",
   "metadata": {},
   "outputs": [
    {
     "name": "stdout",
     "output_type": "stream",
     "text": [
      "NAME                                READY   STATUS    RESTARTS   AGE\n",
      "nginx-deployment-6d8469f8db-5bdqr   1/1     Running   0          89s\n",
      "nginx-deployment-6d8469f8db-5mxwp   1/1     Running   0          89s\n",
      "nginx-deployment-6d8469f8db-74864   1/1     Running   0          87s\n",
      "nginx-deployment-6d8469f8db-8lzxp   1/1     Running   0          89s\n",
      "nginx-deployment-6d8469f8db-9lfb5   1/1     Running   0          88s\n",
      "nginx-deployment-6d8469f8db-c5l5p   1/1     Running   0          88s\n",
      "nginx-deployment-6d8469f8db-c76kg   1/1     Running   0          89s\n",
      "nginx-deployment-6d8469f8db-fmnzp   1/1     Running   0          87s\n",
      "nginx-deployment-6d8469f8db-mdrph   1/1     Running   0          88s\n",
      "nginx-deployment-6d8469f8db-whwpb   1/1     Running   0          89s\n"
     ]
    }
   ],
   "source": [
    "!kubectl get pods"
   ]
  },
  {
   "cell_type": "code",
   "execution_count": 45,
   "id": "5a62b25a",
   "metadata": {},
   "outputs": [
    {
     "name": "stdout",
     "output_type": "stream",
     "text": [
      "Update the annotations on one or more resources.\n",
      "\n",
      " All Kubernetes objects support the ability to store additional data with the object as annotations. Annotations are key/value pairs that can be larger than labels and include arbitrary string values such as structured JSON. Tools and system extensions may use annotations to store their own data.\n",
      "\n",
      " Attempting to set an annotation that already exists will fail unless --overwrite is set. If --resource-version is specified and does not match the current resource version on the server the command will fail.\n",
      "\n",
      "Use \"kubectl api-resources\" for a complete list of supported resources.\n",
      "\n",
      "Examples:\n",
      "  # Update pod 'foo' with the annotation 'description' and the value 'my frontend'\n",
      "  # If the same annotation is set multiple times, only the last value will be applied\n",
      "  kubectl annotate pods foo description='my frontend'\n",
      "  \n",
      "  # Update a pod identified by type and name in \"pod.json\"\n",
      "  kubectl annotate -f pod.json description='my frontend'\n",
      "  \n",
      "  # Update pod 'foo' with the annotation 'description' and the value 'my frontend running nginx', overwriting any existing value\n",
      "  kubectl annotate --overwrite pods foo description='my frontend running nginx'\n",
      "  \n",
      "  # Update all pods in the namespace\n",
      "  kubectl annotate pods --all description='my frontend running nginx'\n",
      "  \n",
      "  # Update pod 'foo' only if the resource is unchanged from version 1\n",
      "  kubectl annotate pods foo description='my frontend running nginx' --resource-version=1\n",
      "  \n",
      "  # Update pod 'foo' by removing an annotation named 'description' if it exists\n",
      "  # Does not require the --overwrite flag\n",
      "  kubectl annotate pods foo description-\n",
      "\n",
      "Options:\n",
      "    --all=false:\n",
      "\tSelect all resources, in the namespace of the specified resource types.\n",
      "\n",
      "    -A, --all-namespaces=false:\n",
      "\tIf true, check the specified action in all namespaces.\n",
      "\n",
      "    --allow-missing-template-keys=true:\n",
      "\tIf true, ignore any errors in templates when a field or map key is missing in the template. Only applies to golang and jsonpath output formats.\n",
      "\n",
      "    --dry-run='none':\n",
      "\tMust be \"none\", \"server\", or \"client\". If client strategy, only print the object that would be sent, without sending it. If server strategy, submit server-side request without persisting the resource.\n",
      "\n",
      "    --field-manager='kubectl-annotate':\n",
      "\tName of the manager used to track field ownership.\n",
      "\n",
      "    --field-selector='':\n",
      "\tSelector (field query) to filter on, supports '=', '==', and '!='.(e.g. --field-selector key1=value1,key2=value2). The server only supports a limited number of field queries per type.\n",
      "\n",
      "    -f, --filename=[]:\n",
      "\tFilename, directory, or URL to files identifying the resource to update the annotation\n",
      "\n",
      "    -k, --kustomize='':\n",
      "\tProcess the kustomization directory. This flag can't be used together with -f or -R.\n",
      "\n",
      "    --list=false:\n",
      "\tIf true, display the annotations for a given resource.\n",
      "\n",
      "    --local=false:\n",
      "\tIf true, annotation will NOT contact api-server but run locally.\n",
      "\n",
      "    -o, --output='':\n",
      "\tOutput format. One of: (json, yaml, name, go-template, go-template-file, template, templatefile, jsonpath, jsonpath-as-json, jsonpath-file).\n",
      "\n",
      "    --overwrite=false:\n",
      "\tIf true, allow annotations to be overwritten, otherwise reject annotation updates that overwrite existing annotations.\n",
      "\n",
      "    -R, --recursive=false:\n",
      "\tProcess the directory used in -f, --filename recursively. Useful when you want to manage related manifests organized within the same directory.\n",
      "\n",
      "    --resource-version='':\n",
      "\tIf non-empty, the annotation update will only succeed if this is the current resource-version for the object. Only valid when specifying a single resource.\n",
      "\n",
      "    -l, --selector='':\n",
      "\tSelector (label query) to filter on, supports '=', '==', and '!='.(e.g. -l key1=value1,key2=value2). Matching objects must satisfy all of the specified label constraints.\n",
      "\n",
      "    --show-managed-fields=false:\n",
      "\tIf true, keep the managedFields when printing objects in JSON or YAML format.\n",
      "\n",
      "    --template='':\n",
      "\tTemplate string or path to template file to use when -o=go-template, -o=go-template-file. The template format is golang templates [http://golang.org/pkg/text/template/#pkg-overview].\n",
      "\n",
      "Usage:\n",
      "  kubectl annotate [--overwrite] (-f FILENAME | TYPE NAME) KEY_1=VAL_1 ... KEY_N=VAL_N [--resource-version=version] [options]\n",
      "\n",
      "Use \"kubectl options\" for a list of global command-line options (applies to all commands).\n"
     ]
    }
   ],
   "source": [
    "!kubectl annotate --help"
   ]
  },
  {
   "cell_type": "code",
   "execution_count": 51,
   "id": "392adee2",
   "metadata": {},
   "outputs": [
    {
     "name": "stdout",
     "output_type": "stream",
     "text": [
      "deployment.apps/nginx-deployment annotated\n"
     ]
    }
   ],
   "source": [
    "!kubectl annotate deployment nginx-deployment \"kubernetes.io/change-cause=update nginx to tag 1.27.1-alpine\" --overwrite"
   ]
  },
  {
   "cell_type": "code",
   "execution_count": 53,
   "id": "1b0a3262",
   "metadata": {},
   "outputs": [
    {
     "name": "stdout",
     "output_type": "stream",
     "text": [
      "Name:                   nginx-deployment\n",
      "Namespace:              default\n",
      "CreationTimestamp:      Sat, 30 Aug 2025 12:31:16 -0400\n",
      "Labels:                 app=nginx\n",
      "Annotations:            deployment.kubernetes.io/revision: 4\n",
      "                        kubernetes.io/change-cause: update nginx to tag 1.27.1-alpine\n",
      "                        kubernethes.io/change-cause: update nginx to tag 1.27.0-alpine\n",
      "Selector:               app=nginx\n",
      "Replicas:               10 desired | 10 updated | 10 total | 10 available | 0 unavailable\n",
      "StrategyType:           RollingUpdate\n",
      "MinReadySeconds:        0\n",
      "RollingUpdateStrategy:  25% max unavailable, 25% max surge\n",
      "Pod Template:\n",
      "  Labels:  app=nginx\n",
      "  Containers:\n",
      "   nginx:\n",
      "    Image:         nginx:1.27.0-alpine\n",
      "    Port:          80/TCP\n",
      "    Host Port:     0/TCP\n",
      "    Environment:   <none>\n",
      "    Mounts:        <none>\n",
      "  Volumes:         <none>\n",
      "  Node-Selectors:  <none>\n",
      "  Tolerations:     <none>\n",
      "Conditions:\n",
      "  Type           Status  Reason\n",
      "  ----           ------  ------\n",
      "  Available      True    MinimumReplicasAvailable\n",
      "  Progressing    True    NewReplicaSetAvailable\n",
      "OldReplicaSets:  nginx-deployment-8bdf8f46b (0/0 replicas created)\n",
      "NewReplicaSet:   nginx-deployment-6d8469f8db (10/10 replicas created)\n",
      "Events:\n",
      "  Type    Reason             Age                  From                   Message\n",
      "  ----    ------             ----                 ----                   -------\n",
      "  Normal  ScalingReplicaSet  29m                  deployment-controller  Scaled up replica set nginx-deployment-8bdf8f46b from 0 to 10\n",
      "  Normal  ScalingReplicaSet  23m                  deployment-controller  Scaled up replica set nginx-deployment-6d8469f8db from 3 to 5\n",
      "  Normal  ScalingReplicaSet  23m                  deployment-controller  Scaled down replica set nginx-deployment-8bdf8f46b from 8 to 7\n",
      "  Normal  ScalingReplicaSet  23m                  deployment-controller  Scaled up replica set nginx-deployment-6d8469f8db from 5 to 6\n",
      "  Normal  ScalingReplicaSet  23m                  deployment-controller  Scaled down replica set nginx-deployment-8bdf8f46b from 7 to 6\n",
      "  Normal  ScalingReplicaSet  23m                  deployment-controller  Scaled up replica set nginx-deployment-6d8469f8db from 6 to 7\n",
      "  Normal  ScalingReplicaSet  23m                  deployment-controller  Scaled down replica set nginx-deployment-8bdf8f46b from 6 to 4\n",
      "  Normal  ScalingReplicaSet  15m (x18 over 23m)   deployment-controller  (combined from similar events): Scaled down replica set nginx-deployment-6d8469f8db from 4 to 3\n",
      "  Normal  ScalingReplicaSet  5m47s (x2 over 23m)  deployment-controller  Scaled up replica set nginx-deployment-6d8469f8db from 0 to 3\n",
      "  Normal  ScalingReplicaSet  5m47s (x2 over 23m)  deployment-controller  Scaled down replica set nginx-deployment-8bdf8f46b from 10 to 8\n"
     ]
    }
   ],
   "source": [
    "!kubectl describe deploy nginx-deployment"
   ]
  },
  {
   "cell_type": "code",
   "execution_count": 55,
   "id": "4ea823a7",
   "metadata": {},
   "outputs": [
    {
     "name": "stdout",
     "output_type": "stream",
     "text": [
      "deployment.apps/nginx-deployment \n",
      "REVISION  CHANGE-CAUSE\n",
      "3         <none>\n",
      "4         update nginx to tag 1.27.1-alpine\n",
      "\n"
     ]
    }
   ],
   "source": [
    "!kubectl rollout history deploy/nginx-deployment"
   ]
  },
  {
   "cell_type": "code",
   "execution_count": 56,
   "id": "c2b87379",
   "metadata": {},
   "outputs": [
    {
     "name": "stdout",
     "output_type": "stream",
     "text": [
      "NAME               READY   UP-TO-DATE   AVAILABLE   AGE\n",
      "nginx-deployment   10/10   10           10          31m\n"
     ]
    }
   ],
   "source": [
    "!kubectl get deploy"
   ]
  },
  {
   "cell_type": "code",
   "execution_count": 57,
   "id": "4af9d7c5",
   "metadata": {},
   "outputs": [
    {
     "name": "stdout",
     "output_type": "stream",
     "text": [
      "deployment.apps/nginx-deployment scaled\n"
     ]
    }
   ],
   "source": [
    "!kubectl scale deploy nginx-deployment --replicas=20"
   ]
  },
  {
   "cell_type": "code",
   "execution_count": 58,
   "id": "da5596e2",
   "metadata": {},
   "outputs": [
    {
     "name": "stdout",
     "output_type": "stream",
     "text": [
      "NAME               READY   UP-TO-DATE   AVAILABLE   AGE\n",
      "nginx-deployment   20/20   20           20          32m\n"
     ]
    }
   ],
   "source": [
    "!kubectl get deploy"
   ]
  },
  {
   "cell_type": "code",
   "execution_count": 59,
   "id": "3ba44e09",
   "metadata": {},
   "outputs": [
    {
     "name": "stdout",
     "output_type": "stream",
     "text": [
      "diff -u -N C:\\Users\\celia\\AppData\\Local\\Temp\\LIVE-1251102150/apps.v1.Deployment.default.nginx-deployment C:\\Users\\celia\\AppData\\Local\\Temp\\MERGED-427577408/apps.v1.Deployment.default.nginx-deployment\n",
      "--- C:\\Users\\celia\\AppData\\Local\\Temp\\LIVE-1251102150/apps.v1.Deployment.default.nginx-deployment\t2025-08-30 13:03:57.129240400 -0400\n",
      "+++ C:\\Users\\celia\\AppData\\Local\\Temp\\MERGED-427577408/apps.v1.Deployment.default.nginx-deployment\t2025-08-30 13:03:57.129753200 -0400\n",
      "@@ -8,7 +8,7 @@\n",
      "     kubernetes.io/change-cause: update nginx to tag 1.27.1-alpine\n",
      "     kubernethes.io/change-cause: update nginx to tag 1.27.0-alpine\n",
      "   creationTimestamp: \"2025-08-30T16:31:16Z\"\n",
      "-  generation: 6\n",
      "+  generation: 7\n",
      "   labels:\n",
      "     app: nginx\n",
      "   name: nginx-deployment\n",
      "@@ -17,7 +17,7 @@\n",
      "   uid: 0c963db7-3db3-4a1e-b4b4-1711ee24d482\n",
      " spec:\n",
      "   progressDeadlineSeconds: 600\n",
      "-  replicas: 20\n",
      "+  replicas: 10\n",
      "   revisionHistoryLimit: 10\n",
      "   selector:\n",
      "     matchLabels:\n"
     ]
    }
   ],
   "source": [
    "!kubectl diff -f nginx-deployment.yaml"
   ]
  },
  {
   "cell_type": "code",
   "execution_count": 60,
   "id": "b29bc6b6",
   "metadata": {},
   "outputs": [
    {
     "name": "stdout",
     "output_type": "stream",
     "text": [
      "deployment.apps/nginx-deployment configured\n"
     ]
    }
   ],
   "source": [
    "!kubectl apply -f nginx-deployment.yaml"
   ]
  },
  {
   "cell_type": "code",
   "execution_count": 61,
   "id": "b39f6025",
   "metadata": {},
   "outputs": [
    {
     "name": "stdout",
     "output_type": "stream",
     "text": [
      "NAME               READY   UP-TO-DATE   AVAILABLE   AGE\n",
      "nginx-deployment   10/10   10           10          33m\n"
     ]
    }
   ],
   "source": [
    "!kubectl get deploy"
   ]
  },
  {
   "cell_type": "code",
   "execution_count": 62,
   "id": "6b24837e",
   "metadata": {},
   "outputs": [
    {
     "name": "stdout",
     "output_type": "stream",
     "text": [
      "deployment.apps/nginx-deployment scaled\n"
     ]
    }
   ],
   "source": [
    "!kubectl scale deploy nginx-deployment --replicas=0"
   ]
  },
  {
   "cell_type": "code",
   "execution_count": 64,
   "id": "d858dcff",
   "metadata": {},
   "outputs": [
    {
     "name": "stdout",
     "output_type": "stream",
     "text": [
      "deployment.apps/nginx-deployment scaled\n"
     ]
    }
   ],
   "source": [
    "!kubectl scale deploy nginx-deployment --replicas=10"
   ]
  },
  {
   "cell_type": "code",
   "execution_count": 65,
   "id": "3308eeea",
   "metadata": {},
   "outputs": [
    {
     "name": "stdout",
     "output_type": "stream",
     "text": [
      "NAME               READY   UP-TO-DATE   AVAILABLE   AGE\n",
      "nginx-deployment   10/10   10           10          34m\n"
     ]
    }
   ],
   "source": [
    "!kubectl get deploy"
   ]
  },
  {
   "cell_type": "code",
   "execution_count": 66,
   "id": "24767a5f",
   "metadata": {},
   "outputs": [
    {
     "name": "stdout",
     "output_type": "stream",
     "text": [
      "deployment.apps/nginx-deployment \n",
      "REVISION  CHANGE-CAUSE\n",
      "3         <none>\n",
      "4         update nginx to tag 1.27.1-alpine\n",
      "\n"
     ]
    }
   ],
   "source": [
    "!kubectl rollout history deployment/nginx-deployment"
   ]
  },
  {
   "cell_type": "markdown",
   "id": "f5d650b2",
   "metadata": {},
   "source": [
    "# Troubleshooting"
   ]
  },
  {
   "cell_type": "code",
   "execution_count": 67,
   "id": "b7d8d37b",
   "metadata": {},
   "outputs": [
    {
     "name": "stdout",
     "output_type": "stream",
     "text": [
      "deployment.apps/nginx-deployment configured\n"
     ]
    }
   ],
   "source": [
    "!kubectl apply -f nginx-deployment.yaml\n"
   ]
  },
  {
   "cell_type": "code",
   "execution_count": 68,
   "id": "2c2c2ebe",
   "metadata": {},
   "outputs": [
    {
     "name": "stdout",
     "output_type": "stream",
     "text": [
      "NAME                                READY   STATUS             RESTARTS   AGE\n",
      "nginx-deployment-668b588f8b-blvmr   0/1     ImagePullBackOff   0          6s\n",
      "nginx-deployment-668b588f8b-k7zb9   0/1     ImagePullBackOff   0          6s\n",
      "nginx-deployment-668b588f8b-kdqdb   0/1     ImagePullBackOff   0          6s\n",
      "nginx-deployment-668b588f8b-s7nrt   0/1     ImagePullBackOff   0          6s\n",
      "nginx-deployment-668b588f8b-wq5gc   0/1     ImagePullBackOff   0          5s\n",
      "nginx-deployment-6d8469f8db-2hlfg   1/1     Running            0          3m47s\n",
      "nginx-deployment-6d8469f8db-84dzf   1/1     Running            0          3m47s\n",
      "nginx-deployment-6d8469f8db-c4b5s   1/1     Running            0          3m47s\n",
      "nginx-deployment-6d8469f8db-df7mt   1/1     Running            0          3m47s\n",
      "nginx-deployment-6d8469f8db-p7c6z   1/1     Running            0          3m47s\n",
      "nginx-deployment-6d8469f8db-ptjhr   1/1     Running            0          3m47s\n",
      "nginx-deployment-6d8469f8db-qnvp2   1/1     Running            0          3m47s\n",
      "nginx-deployment-6d8469f8db-z7tlx   1/1     Running            0          3m47s\n"
     ]
    }
   ],
   "source": [
    "!kubectl get pods"
   ]
  },
  {
   "cell_type": "code",
   "execution_count": 69,
   "id": "4ec835e3",
   "metadata": {},
   "outputs": [
    {
     "name": "stdout",
     "output_type": "stream",
     "text": [
      "NAME               READY   UP-TO-DATE   AVAILABLE   AGE\n",
      "nginx-deployment   8/10    5            8           38m\n"
     ]
    }
   ],
   "source": [
    "!kubectl get deploy"
   ]
  },
  {
   "cell_type": "code",
   "execution_count": 70,
   "id": "4336bab8",
   "metadata": {},
   "outputs": [
    {
     "name": "stdout",
     "output_type": "stream",
     "text": [
      "Name:                   nginx-deployment\n",
      "Namespace:              default\n",
      "CreationTimestamp:      Sat, 30 Aug 2025 12:31:16 -0400\n",
      "Labels:                 app=nginx\n",
      "Annotations:            deployment.kubernetes.io/revision: 5\n",
      "                        kubernetes.io/change-cause: update nginx to tag 1.27.1-alpine\n",
      "                        kubernethes.io/change-cause: update nginx to tag 1.27.0-alpine\n",
      "Selector:               app=nginx\n",
      "Replicas:               10 desired | 5 updated | 13 total | 8 available | 5 unavailable\n",
      "StrategyType:           RollingUpdate\n",
      "MinReadySeconds:        0\n",
      "RollingUpdateStrategy:  25% max unavailable, 25% max surge\n",
      "Pod Template:\n",
      "  Labels:  app=nginx\n",
      "  Containers:\n",
      "   nginx:\n",
      "    Image:         nginx:1.27.01111-alpine\n",
      "    Port:          80/TCP\n",
      "    Host Port:     0/TCP\n",
      "    Environment:   <none>\n",
      "    Mounts:        <none>\n",
      "  Volumes:         <none>\n",
      "  Node-Selectors:  <none>\n",
      "  Tolerations:     <none>\n",
      "Conditions:\n",
      "  Type           Status  Reason\n",
      "  ----           ------  ------\n",
      "  Available      True    MinimumReplicasAvailable\n",
      "  Progressing    True    ReplicaSetUpdated\n",
      "OldReplicaSets:  nginx-deployment-8bdf8f46b (0/0 replicas created), nginx-deployment-6d8469f8db (8/8 replicas created)\n",
      "NewReplicaSet:   nginx-deployment-668b588f8b (5/5 replicas created)\n",
      "Events:\n",
      "  Type    Reason             Age                 From                   Message\n",
      "  ----    ------             ----                ----                   -------\n",
      "  Normal  ScalingReplicaSet  38m                 deployment-controller  Scaled up replica set nginx-deployment-8bdf8f46b from 0 to 10\n",
      "  Normal  ScalingReplicaSet  31m                 deployment-controller  Scaled up replica set nginx-deployment-6d8469f8db from 3 to 5\n",
      "  Normal  ScalingReplicaSet  31m                 deployment-controller  Scaled down replica set nginx-deployment-8bdf8f46b from 8 to 7\n",
      "  Normal  ScalingReplicaSet  31m                 deployment-controller  Scaled up replica set nginx-deployment-6d8469f8db from 5 to 6\n",
      "  Normal  ScalingReplicaSet  31m                 deployment-controller  Scaled down replica set nginx-deployment-8bdf8f46b from 7 to 6\n",
      "  Normal  ScalingReplicaSet  31m                 deployment-controller  Scaled up replica set nginx-deployment-6d8469f8db from 6 to 7\n",
      "  Normal  ScalingReplicaSet  31m                 deployment-controller  Scaled down replica set nginx-deployment-8bdf8f46b from 6 to 4\n",
      "  Normal  ScalingReplicaSet  14m (x2 over 31m)   deployment-controller  Scaled up replica set nginx-deployment-6d8469f8db from 0 to 3\n",
      "  Normal  ScalingReplicaSet  14m (x2 over 31m)   deployment-controller  Scaled down replica set nginx-deployment-8bdf8f46b from 10 to 8\n",
      "  Normal  ScalingReplicaSet  36s (x34 over 31m)  deployment-controller  (combined from similar events): Scaled up replica set nginx-deployment-668b588f8b from 0 to 3\n"
     ]
    }
   ],
   "source": [
    "!kubectl describe deploy nginx-deployment\n"
   ]
  },
  {
   "cell_type": "code",
   "execution_count": 71,
   "id": "0afbb008",
   "metadata": {},
   "outputs": [
    {
     "name": "stdout",
     "output_type": "stream",
     "text": [
      "NAME                                READY   STATUS             RESTARTS   AGE\n",
      "nginx-deployment-668b588f8b-blvmr   0/1     ImagePullBackOff   0          57s\n",
      "nginx-deployment-668b588f8b-k7zb9   0/1     ErrImagePull       0          57s\n",
      "nginx-deployment-668b588f8b-kdqdb   0/1     ErrImagePull       0          57s\n",
      "nginx-deployment-668b588f8b-s7nrt   0/1     ErrImagePull       0          57s\n",
      "nginx-deployment-668b588f8b-wq5gc   0/1     ErrImagePull       0          56s\n",
      "nginx-deployment-6d8469f8db-2hlfg   1/1     Running            0          4m38s\n",
      "nginx-deployment-6d8469f8db-84dzf   1/1     Running            0          4m38s\n",
      "nginx-deployment-6d8469f8db-c4b5s   1/1     Running            0          4m38s\n",
      "nginx-deployment-6d8469f8db-df7mt   1/1     Running            0          4m38s\n",
      "nginx-deployment-6d8469f8db-p7c6z   1/1     Running            0          4m38s\n",
      "nginx-deployment-6d8469f8db-ptjhr   1/1     Running            0          4m38s\n",
      "nginx-deployment-6d8469f8db-qnvp2   1/1     Running            0          4m38s\n",
      "nginx-deployment-6d8469f8db-z7tlx   1/1     Running            0          4m38s\n"
     ]
    }
   ],
   "source": [
    "!kubectl get pods"
   ]
  },
  {
   "cell_type": "code",
   "execution_count": 72,
   "id": "a692520d",
   "metadata": {},
   "outputs": [
    {
     "name": "stdout",
     "output_type": "stream",
     "text": [
      "Name:             nginx-deployment-668b588f8b-blvmr\n",
      "Namespace:        default\n",
      "Priority:         0\n",
      "Service Account:  default\n",
      "Node:             docker-desktop/192.168.65.3\n",
      "Start Time:       Sat, 30 Aug 2025 13:09:18 -0400\n",
      "Labels:           app=nginx\n",
      "                  pod-template-hash=668b588f8b\n",
      "Annotations:      <none>\n",
      "Status:           Pending\n",
      "IP:               10.1.0.185\n",
      "IPs:\n",
      "  IP:           10.1.0.185\n",
      "Controlled By:  ReplicaSet/nginx-deployment-668b588f8b\n",
      "Containers:\n",
      "  nginx:\n",
      "    Container ID:   \n",
      "    Image:          nginx:1.27.01111-alpine\n",
      "    Image ID:       \n",
      "    Port:           80/TCP\n",
      "    Host Port:      0/TCP\n",
      "    State:          Waiting\n",
      "      Reason:       ImagePullBackOff\n",
      "    Ready:          False\n",
      "    Restart Count:  0\n",
      "    Environment:    <none>\n",
      "    Mounts:\n",
      "      /var/run/secrets/kubernetes.io/serviceaccount from kube-api-access-qbdpr (ro)\n",
      "Conditions:\n",
      "  Type                        Status\n",
      "  PodReadyToStartContainers   True \n",
      "  Initialized                 True \n",
      "  Ready                       False \n",
      "  ContainersReady             False \n",
      "  PodScheduled                True \n",
      "Volumes:\n",
      "  kube-api-access-qbdpr:\n",
      "    Type:                    Projected (a volume that contains injected data from multiple sources)\n",
      "    TokenExpirationSeconds:  3607\n",
      "    ConfigMapName:           kube-root-ca.crt\n",
      "    ConfigMapOptional:       <nil>\n",
      "    DownwardAPI:             true\n",
      "QoS Class:                   BestEffort\n",
      "Node-Selectors:              <none>\n",
      "Tolerations:                 node.kubernetes.io/not-ready:NoExecute op=Exists for 300s\n",
      "                             node.kubernetes.io/unreachable:NoExecute op=Exists for 300s\n",
      "Events:\n",
      "  Type     Reason     Age                From               Message\n",
      "  ----     ------     ----               ----               -------\n",
      "  Normal   Scheduled  76s                default-scheduler  Successfully assigned default/nginx-deployment-668b588f8b-blvmr to docker-desktop\n",
      "  Normal   Pulling    35s (x3 over 76s)  kubelet            Pulling image \"nginx:1.27.01111-alpine\"\n",
      "  Warning  Failed     34s (x3 over 75s)  kubelet            Failed to pull image \"nginx:1.27.01111-alpine\": Error response from daemon: failed to resolve reference \"docker.io/library/nginx:1.27.01111-alpine\": docker.io/library/nginx:1.27.01111-alpine: not found\n",
      "  Warning  Failed     34s (x3 over 75s)  kubelet            Error: ErrImagePull\n",
      "  Normal   BackOff    9s (x5 over 75s)   kubelet            Back-off pulling image \"nginx:1.27.01111-alpine\"\n",
      "  Warning  Failed     9s (x5 over 75s)   kubelet            Error: ImagePullBackOff\n"
     ]
    }
   ],
   "source": [
    "!kubectl describe pod nginx-deployment-668b588f8b-blvmr"
   ]
  },
  {
   "cell_type": "code",
   "execution_count": 73,
   "id": "052c9c56",
   "metadata": {},
   "outputs": [
    {
     "name": "stdout",
     "output_type": "stream",
     "text": [
      "^C\n"
     ]
    },
    {
     "name": "stdout",
     "output_type": "stream",
     "text": [
      "Waiting for deployment \"nginx-deployment\" rollout to finish: 5 out of 10 new replicas have been updated...\n",
      "Waiting for deployment spec update to be observed...\n",
      "Waiting for deployment spec update to be observed...\n",
      "Waiting for deployment \"nginx-deployment\" rollout to finish: 8 out of 10 new replicas have been updated...\n",
      "Waiting for deployment \"nginx-deployment\" rollout to finish: 8 out of 10 new replicas have been updated...\n",
      "Waiting for deployment \"nginx-deployment\" rollout to finish: 8 out of 10 new replicas have been updated...\n",
      "Waiting for deployment \"nginx-deployment\" rollout to finish: 8 of 10 updated replicas are available...\n",
      "Waiting for deployment \"nginx-deployment\" rollout to finish: 9 of 10 updated replicas are available...\n",
      "deployment \"nginx-deployment\" successfully rolled out\n"
     ]
    }
   ],
   "source": [
    "!kubectl rollout status deployment/nginx-deployment\n"
   ]
  },
  {
   "cell_type": "code",
   "execution_count": 74,
   "id": "e83791d0",
   "metadata": {},
   "outputs": [
    {
     "name": "stdout",
     "output_type": "stream",
     "text": [
      "deployment.apps/nginx-deployment rolled back\n"
     ]
    }
   ],
   "source": [
    "!kubectl rollout undo deployment/nginx-deployment\n"
   ]
  },
  {
   "cell_type": "code",
   "execution_count": 75,
   "id": "710b5187",
   "metadata": {},
   "outputs": [
    {
     "name": "stdout",
     "output_type": "stream",
     "text": [
      "NAME                                READY   STATUS    RESTARTS   AGE\n",
      "nginx-deployment-6d8469f8db-2hlfg   1/1     Running   0          6m54s\n",
      "nginx-deployment-6d8469f8db-84dzf   1/1     Running   0          6m54s\n",
      "nginx-deployment-6d8469f8db-c4b5s   1/1     Running   0          6m54s\n",
      "nginx-deployment-6d8469f8db-df7mt   1/1     Running   0          6m54s\n",
      "nginx-deployment-6d8469f8db-p7c6z   1/1     Running   0          6m54s\n",
      "nginx-deployment-6d8469f8db-ptjhr   1/1     Running   0          6m54s\n",
      "nginx-deployment-6d8469f8db-qnvp2   1/1     Running   0          6m54s\n",
      "nginx-deployment-6d8469f8db-vsptb   1/1     Running   0          4s\n",
      "nginx-deployment-6d8469f8db-wmpbf   1/1     Running   0          4s\n",
      "nginx-deployment-6d8469f8db-z7tlx   1/1     Running   0          6m54s\n"
     ]
    }
   ],
   "source": [
    "!kubectl get pods"
   ]
  },
  {
   "cell_type": "code",
   "execution_count": 76,
   "id": "4247b620",
   "metadata": {},
   "outputs": [
    {
     "name": "stdout",
     "output_type": "stream",
     "text": [
      "deployment.apps/nginx-deployment \n",
      "REVISION  CHANGE-CAUSE\n",
      "3         <none>\n",
      "5         update nginx to tag 1.27.1-alpine\n",
      "6         update nginx to tag 1.27.1-alpine\n",
      "\n"
     ]
    }
   ],
   "source": [
    "!kubectl rollout history deployment/nginx-deployment\n"
   ]
  },
  {
   "cell_type": "code",
   "execution_count": 77,
   "id": "3a48f914",
   "metadata": {},
   "outputs": [
    {
     "name": "stdout",
     "output_type": "stream",
     "text": [
      "deployment.apps/nginx-deployment configured\n"
     ]
    }
   ],
   "source": [
    "!kubectl apply -f nginx-deployment.yaml"
   ]
  },
  {
   "cell_type": "code",
   "execution_count": 78,
   "id": "11430867",
   "metadata": {},
   "outputs": [
    {
     "name": "stdout",
     "output_type": "stream",
     "text": [
      "deployment.apps/nginx-deployment \n",
      "REVISION  CHANGE-CAUSE\n",
      "3         <none>\n",
      "6         update nginx to tag 1.27.1-alpine\n",
      "7         update nginx to tag 1.27.1-alpine\n",
      "\n"
     ]
    }
   ],
   "source": [
    "!kubectl rollout history deployment/nginx-deployment"
   ]
  },
  {
   "cell_type": "code",
   "execution_count": 81,
   "id": "431fd871",
   "metadata": {},
   "outputs": [
    {
     "name": "stdout",
     "output_type": "stream",
     "text": [
      "deployment.apps/nginx-deployment annotated\n"
     ]
    }
   ],
   "source": [
    "!kubectl annotate deployment nginx-deployment \"kubernetes.io/change-cause=update nginx to tag 1.27.1-alpine\" --overwrite"
   ]
  },
  {
   "cell_type": "code",
   "execution_count": 83,
   "id": "3c924688",
   "metadata": {},
   "outputs": [
    {
     "name": "stdout",
     "output_type": "stream",
     "text": [
      "deployment.apps/nginx-deployment \n",
      "REVISION  CHANGE-CAUSE\n",
      "3         <none>\n",
      "6         update nginx to tag 1.27.1-alpine\n",
      "7         update nginx to tag 1.27.1-alpine\n",
      "\n"
     ]
    }
   ],
   "source": [
    "!kubectl rollout history deployment/nginx-deployment"
   ]
  },
  {
   "cell_type": "code",
   "execution_count": 84,
   "id": "fd05e39f",
   "metadata": {},
   "outputs": [
    {
     "name": "stdout",
     "output_type": "stream",
     "text": [
      "diff -u -N C:\\Users\\celia\\AppData\\Local\\Temp\\LIVE-2373523963/apps.v1.Deployment.default.nginx-deployment C:\\Users\\celia\\AppData\\Local\\Temp\\MERGED-3607168755/apps.v1.Deployment.default.nginx-deployment\n",
      "--- C:\\Users\\celia\\AppData\\Local\\Temp\\LIVE-2373523963/apps.v1.Deployment.default.nginx-deployment\t2025-08-30 13:17:01.247999100 -0400\n",
      "+++ C:\\Users\\celia\\AppData\\Local\\Temp\\MERGED-3607168755/apps.v1.Deployment.default.nginx-deployment\t2025-08-30 13:17:01.249816500 -0400\n",
      "@@ -8,7 +8,7 @@\n",
      "     kubernetes.io/change-cause: update nginx to tag 1.27.1-alpine\n",
      "     kubernethes.io/change-cause: update nginx to tag 1.27.0-alpine\n",
      "   creationTimestamp: \"2025-08-30T16:31:16Z\"\n",
      "-  generation: 12\n",
      "+  generation: 13\n",
      "   labels:\n",
      "     app: nginx\n",
      "   name: nginx-deployment\n",
      "@@ -34,7 +34,7 @@\n",
      "         app: nginx\n",
      "     spec:\n",
      "       containers:\n",
      "-      - image: nginx:1.27.01111-alpine\n",
      "+      - image: nginx:1.27.0-alpine\n",
      "         imagePullPolicy: IfNotPresent\n",
      "         name: nginx\n",
      "         ports:\n"
     ]
    }
   ],
   "source": [
    "!kubectl diff -f nginx-deployment.yaml"
   ]
  },
  {
   "cell_type": "code",
   "execution_count": 86,
   "id": "a650b1b3",
   "metadata": {},
   "outputs": [
    {
     "name": "stdout",
     "output_type": "stream",
     "text": [
      "deployment.apps/nginx-deployment configured\n"
     ]
    }
   ],
   "source": [
    "!kubectl apply -f nginx-deployment.yaml"
   ]
  },
  {
   "cell_type": "code",
   "execution_count": 87,
   "id": "c37f8034",
   "metadata": {},
   "outputs": [
    {
     "name": "stdout",
     "output_type": "stream",
     "text": [
      "deployment.apps/nginx-deployment annotated\n"
     ]
    }
   ],
   "source": [
    "!kubectl annotate deployment nginx-deployment \"kubernetes.io/change-cause=update nginx to tag 1.27.1-alpine\" --overwrite"
   ]
  },
  {
   "cell_type": "code",
   "execution_count": 88,
   "id": "ae809d99",
   "metadata": {},
   "outputs": [
    {
     "name": "stdout",
     "output_type": "stream",
     "text": [
      "deployment.apps/nginx-deployment \n",
      "REVISION  CHANGE-CAUSE\n",
      "3         <none>\n",
      "7         update nginx to tag 1.27.1-alpine\n",
      "8         update nginx to tag 1.27.1-alpine\n",
      "\n"
     ]
    }
   ],
   "source": [
    "!kubectl rollout history deployment/nginx-deployment"
   ]
  },
  {
   "cell_type": "code",
   "execution_count": 90,
   "id": "a8a89451",
   "metadata": {},
   "outputs": [
    {
     "name": "stdout",
     "output_type": "stream",
     "text": [
      "apiVersion: apps/v1\n",
      "kind: ReplicaSet\n",
      "metadata:\n",
      "  annotations:\n",
      "    deployment.kubernetes.io/desired-replicas: \"10\"\n",
      "    deployment.kubernetes.io/max-replicas: \"13\"\n",
      "    deployment.kubernetes.io/revision: \"8\"\n",
      "    deployment.kubernetes.io/revision-history: 2,4,6\n",
      "    kubernetes.io/change-cause: update nginx to tag 1.27.1-alpine\n",
      "    kubernethes.io/change-cause: update nginx to tag 1.27.0-alpine\n",
      "  creationTimestamp: \"2025-08-30T16:38:01Z\"\n",
      "  generation: 30\n",
      "  labels:\n",
      "    app: nginx\n",
      "    pod-template-hash: 6d8469f8db\n",
      "  name: nginx-deployment-6d8469f8db\n",
      "  namespace: default\n",
      "  ownerReferences:\n",
      "  - apiVersion: apps/v1\n",
      "    blockOwnerDeletion: true\n",
      "    controller: true\n",
      "    kind: Deployment\n",
      "    name: nginx-deployment\n",
      "    uid: 0c963db7-3db3-4a1e-b4b4-1711ee24d482\n",
      "  resourceVersion: \"18145\"\n",
      "  uid: be2eddd8-a305-439b-8dee-0d4319795de6\n",
      "spec:\n",
      "  replicas: 10\n",
      "  selector:\n",
      "    matchLabels:\n",
      "      app: nginx\n",
      "      pod-template-hash: 6d8469f8db\n",
      "  template:\n",
      "    metadata:\n",
      "      creationTimestamp: null\n",
      "      labels:\n",
      "        app: nginx\n",
      "        pod-template-hash: 6d8469f8db\n",
      "    spec:\n",
      "      containers:\n",
      "      - image: nginx:1.27.0-alpine\n",
      "        imagePullPolicy: IfNotPresent\n",
      "        name: nginx\n",
      "        ports:\n",
      "        - containerPort: 80\n",
      "          protocol: TCP\n",
      "        resources: {}\n",
      "        terminationMessagePath: /dev/termination-log\n",
      "        terminationMessagePolicy: File\n",
      "      dnsPolicy: ClusterFirst\n",
      "      restartPolicy: Always\n",
      "      schedulerName: default-scheduler\n",
      "      securityContext: {}\n",
      "      terminationGracePeriodSeconds: 30\n",
      "status:\n",
      "  availableReplicas: 10\n",
      "  fullyLabeledReplicas: 10\n",
      "  observedGeneration: 30\n",
      "  readyReplicas: 10\n",
      "  replicas: 10\n"
     ]
    }
   ],
   "source": [
    "!kubectl rollout history deployment/nginx-deployment --revision=8 -o yaml"
   ]
  },
  {
   "cell_type": "code",
   "execution_count": 91,
   "id": "f5800d81",
   "metadata": {},
   "outputs": [
    {
     "name": "stdout",
     "output_type": "stream",
     "text": [
      "NAME                                READY   STATUS    RESTARTS   AGE\n",
      "nginx-deployment-6d8469f8db-2hlfg   1/1     Running   0          14m\n",
      "nginx-deployment-6d8469f8db-84dzf   1/1     Running   0          14m\n",
      "nginx-deployment-6d8469f8db-8b48c   1/1     Running   0          2m34s\n",
      "nginx-deployment-6d8469f8db-c4b5s   1/1     Running   0          14m\n",
      "nginx-deployment-6d8469f8db-df7mt   1/1     Running   0          14m\n",
      "nginx-deployment-6d8469f8db-p7c6z   1/1     Running   0          14m\n",
      "nginx-deployment-6d8469f8db-ptjhr   1/1     Running   0          14m\n",
      "nginx-deployment-6d8469f8db-qnvp2   1/1     Running   0          14m\n",
      "nginx-deployment-6d8469f8db-z7tlx   1/1     Running   0          14m\n",
      "nginx-deployment-6d8469f8db-z9qwd   1/1     Running   0          2m34s\n"
     ]
    }
   ],
   "source": [
    "!kubectl get pods"
   ]
  },
  {
   "cell_type": "code",
   "execution_count": 92,
   "id": "3aaaa1b5",
   "metadata": {},
   "outputs": [
    {
     "name": "stdout",
     "output_type": "stream",
     "text": [
      "NAME               READY   UP-TO-DATE   AVAILABLE   AGE\n",
      "nginx-deployment   10/10   10           10          48m\n"
     ]
    }
   ],
   "source": [
    "!kubectl get deployment"
   ]
  },
  {
   "cell_type": "code",
   "execution_count": 93,
   "id": "a7fe6193",
   "metadata": {},
   "outputs": [
    {
     "name": "stdout",
     "output_type": "stream",
     "text": [
      "deployment \"nginx-deployment\" successfully rolled out\n"
     ]
    }
   ],
   "source": [
    "!kubectl rollout status deployment/nginx-deployment"
   ]
  },
  {
   "cell_type": "code",
   "execution_count": 94,
   "id": "f45fcfd5",
   "metadata": {},
   "outputs": [
    {
     "name": "stdout",
     "output_type": "stream",
     "text": [
      "deployment.apps \"nginx-deployment\" deleted\n"
     ]
    }
   ],
   "source": [
    "!kubectl delete -f nginx-deployment.yaml"
   ]
  },
  {
   "cell_type": "code",
   "execution_count": 95,
   "id": "57458460",
   "metadata": {},
   "outputs": [
    {
     "name": "stderr",
     "output_type": "stream",
     "text": [
      "No resources found in default namespace.\n"
     ]
    }
   ],
   "source": [
    "!kubectl get rs"
   ]
  },
  {
   "cell_type": "code",
   "execution_count": 96,
   "id": "f91ab5a9",
   "metadata": {},
   "outputs": [
    {
     "name": "stderr",
     "output_type": "stream",
     "text": [
      "No resources found in default namespace.\n"
     ]
    }
   ],
   "source": [
    "!kubectl get pods"
   ]
  },
  {
   "cell_type": "code",
   "execution_count": null,
   "id": "47ca5b8e",
   "metadata": {},
   "outputs": [],
   "source": []
  }
 ],
 "metadata": {
  "kernelspec": {
   "display_name": ".venv",
   "language": "python",
   "name": "python3"
  },
  "language_info": {
   "codemirror_mode": {
    "name": "ipython",
    "version": 3
   },
   "file_extension": ".py",
   "mimetype": "text/x-python",
   "name": "python",
   "nbconvert_exporter": "python",
   "pygments_lexer": "ipython3",
   "version": "3.13.5"
  }
 },
 "nbformat": 4,
 "nbformat_minor": 5
}
