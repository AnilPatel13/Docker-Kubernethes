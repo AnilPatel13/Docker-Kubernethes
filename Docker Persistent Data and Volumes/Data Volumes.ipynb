{
 "cells": [
  {
   "cell_type": "code",
   "execution_count": 1,
   "id": "387a77ed",
   "metadata": {},
   "outputs": [
    {
     "name": "stdout",
     "output_type": "stream",
     "text": [
      "Using default tag: latest\n",
      "latest: Pulling from library/mysql\n",
      "Digest: sha256:a776e89aad2d425c248ccfb840115aaa52883499ff36512db4d503b11aae455a\n",
      "Status: Image is up to date for mysql:latest\n",
      "docker.io/library/mysql:latest\n"
     ]
    }
   ],
   "source": [
    "!docker pull mysql"
   ]
  },
  {
   "cell_type": "code",
   "execution_count": 2,
   "id": "2a8a850a",
   "metadata": {},
   "outputs": [
    {
     "name": "stdout",
     "output_type": "stream",
     "text": [
      "[\n",
      "    {\n",
      "        \"Id\": \"sha256:a776e89aad2d425c248ccfb840115aaa52883499ff36512db4d503b11aae455a\",\n",
      "        \"RepoTags\": [\n",
      "            \"mysql:latest\"\n",
      "        ],\n",
      "        \"RepoDigests\": [\n",
      "            \"mysql@sha256:a776e89aad2d425c248ccfb840115aaa52883499ff36512db4d503b11aae455a\"\n",
      "        ],\n",
      "        \"Parent\": \"\",\n",
      "        \"Comment\": \"buildkit.dockerfile.v0\",\n",
      "        \"Created\": \"2025-07-22T16:19:49Z\",\n",
      "        \"DockerVersion\": \"\",\n",
      "        \"Author\": \"\",\n",
      "        \"Architecture\": \"amd64\",\n",
      "        \"Os\": \"linux\",\n",
      "        \"Size\": 275530315,\n",
      "        \"GraphDriver\": {\n",
      "            \"Data\": null,\n",
      "            \"Name\": \"overlayfs\"\n",
      "        },\n",
      "        \"RootFS\": {\n",
      "            \"Type\": \"layers\",\n",
      "            \"Layers\": [\n",
      "                \"sha256:1355aaece24aa860c11b138eecdc1279073f62d699dc078489273756b0059432\",\n",
      "                \"sha256:e20ba2d8994b7f3ccf2e3ccb04c6c9fc7b9363ecac8b562b18a1cb3770080b1f\",\n",
      "                \"sha256:6e314af29b8d814de5144c09503d74440992a0b4ab5bd7b185f388f06a6a0809\",\n",
      "                \"sha256:3d38444e510332a2eb1200b0c6aaed27e5d41256110cb828e36bfe16fcbb0cf3\",\n",
      "                \"sha256:9376bd9ad595a5c363a379debb0a85264ce931362e834b9b935856b315fc913b\",\n",
      "                \"sha256:62b9d6d47b8f13ede828ea1e9558f0290f089816f429ecf43e5dee06fd78f843\",\n",
      "                \"sha256:0bcfc46fef17c8dfe00f6dd5872d1296f8f64fddbe96cc8867443a4dd2379412\",\n",
      "                \"sha256:5170a12404a25755ff9d71aca476cf5591feec443e872ec5ed2cce874a5318c2\",\n",
      "                \"sha256:cd0f83389997b25726ac433307006df82cba4e339cdb712110e902d536cb16f5\",\n",
      "                \"sha256:4ef76c75761a307d5e370a70c89476f40573f0700d4b4e2f821d9b373e83cfc2\"\n",
      "            ]\n",
      "        },\n",
      "        \"Metadata\": {\n",
      "            \"LastTagTime\": \"2025-08-10T21:44:35.6400288Z\"\n",
      "        },\n",
      "        \"Descriptor\": {\n",
      "            \"mediaType\": \"application/vnd.oci.image.index.v1+json\",\n",
      "            \"digest\": \"sha256:a776e89aad2d425c248ccfb840115aaa52883499ff36512db4d503b11aae455a\",\n",
      "            \"size\": 2617\n",
      "        },\n",
      "        \"Config\": {\n",
      "            \"Cmd\": [\n",
      "                \"mysqld\"\n",
      "            ],\n",
      "            \"Entrypoint\": [\n",
      "                \"docker-entrypoint.sh\"\n",
      "            ],\n",
      "            \"Env\": [\n",
      "                \"PATH=/usr/local/sbin:/usr/local/bin:/usr/sbin:/usr/bin:/sbin:/bin\",\n",
      "                \"GOSU_VERSION=1.17\",\n",
      "                \"MYSQL_MAJOR=innovation\",\n",
      "                \"MYSQL_VERSION=9.4.0-1.el9\",\n",
      "                \"MYSQL_SHELL_VERSION=9.4.0-1.el9\"\n",
      "            ],\n",
      "            \"ExposedPorts\": {\n",
      "                \"3306/tcp\": {},\n",
      "                \"33060/tcp\": {}\n",
      "            },\n",
      "            \"Labels\": null,\n",
      "            \"OnBuild\": null,\n",
      "            \"User\": \"\",\n",
      "            \"Volumes\": {\n",
      "                \"/var/lib/mysql\": {}\n",
      "            },\n",
      "            \"WorkingDir\": \"/\"\n",
      "        }\n",
      "    }\n",
      "]\n"
     ]
    }
   ],
   "source": [
    "!docker image inspect mysql"
   ]
  },
  {
   "cell_type": "code",
   "execution_count": 3,
   "id": "2e7cffce",
   "metadata": {},
   "outputs": [
    {
     "name": "stdout",
     "output_type": "stream",
     "text": [
      "5ce84ba4d9dd7af8754acc082aefe8dc9666e1984cddfd73083ff5067d6de9d5\n"
     ]
    }
   ],
   "source": [
    "!docker container run -d --name mysql-db1 -e MYSQL_ALLOW_EMPTY_PASSWORD=True mysql"
   ]
  },
  {
   "cell_type": "code",
   "execution_count": 4,
   "id": "b39aeac4",
   "metadata": {},
   "outputs": [
    {
     "name": "stdout",
     "output_type": "stream",
     "text": [
      "CONTAINER ID   IMAGE             COMMAND                  CREATED             STATUS             PORTS                                     NAMES\n",
      "5ce84ba4d9dd   mysql             \"docker-entrypoint.s…\"   12 seconds ago      Up 11 seconds      3306/tcp, 33060/tcp                       mysql-db1\n",
      "f34e52ac1cbb   testnode          \"/sbin/tini -- node …\"   About an hour ago   Up About an hour   0.0.0.0:82->3000/tcp, [::]:82->3000/tcp   sharp_curie\n",
      "747d62415d9f   nginx-with-html   \"/docker-entrypoint.…\"   2 hours ago         Up 2 hours         0.0.0.0:81->80/tcp, [::]:81->80/tcp       dreamy_turing\n",
      "fe9d79da2f49   elasticsearch:2   \"/docker-entrypoint.…\"   3 hours ago         Up 3 hours         9200/tcp, 9300/tcp                        sharp_ramanujan\n",
      "6baa08bc0a14   elasticsearch:2   \"/docker-entrypoint.…\"   3 hours ago         Up 3 hours         9200/tcp, 9300/tcp                        clever_boyd\n",
      "471856a221c8   nginx             \"/docker-entrypoint.…\"   4 hours ago         Up 4 hours         80/tcp                                    my_nginx\n",
      "adc831b3718e   nginx             \"/docker-entrypoint.…\"   4 hours ago         Up 4 hours         80/tcp                                    new_nginx\n",
      "1bf0ffecf0dd   nginx             \"/docker-entrypoint.…\"   5 hours ago         Up 5 hours         0.0.0.0:80->80/tcp, [::]:80->80/tcp       webhost\n",
      "9cf1c60dd774   mysql             \"docker-entrypoint.s…\"   5 hours ago         Up 5 hours         3306/tcp, 33060/tcp                       mysql-db\n",
      "ef146c5eb1d2   nginx             \"/docker-entrypoint.…\"   5 hours ago         Up 5 hours         80/tcp                                    nginx\n"
     ]
    }
   ],
   "source": [
    "!docker container ls"
   ]
  },
  {
   "cell_type": "code",
   "execution_count": 5,
   "id": "1959f36b",
   "metadata": {},
   "outputs": [
    {
     "name": "stdout",
     "output_type": "stream",
     "text": [
      "[\n",
      "    {\n",
      "        \"Id\": \"5ce84ba4d9dd7af8754acc082aefe8dc9666e1984cddfd73083ff5067d6de9d5\",\n",
      "        \"Created\": \"2025-08-10T21:46:08.40842336Z\",\n",
      "        \"Path\": \"docker-entrypoint.sh\",\n",
      "        \"Args\": [\n",
      "            \"mysqld\"\n",
      "        ],\n",
      "        \"State\": {\n",
      "            \"Status\": \"running\",\n",
      "            \"Running\": true,\n",
      "            \"Paused\": false,\n",
      "            \"Restarting\": false,\n",
      "            \"OOMKilled\": false,\n",
      "            \"Dead\": false,\n",
      "            \"Pid\": 10372,\n",
      "            \"ExitCode\": 0,\n",
      "            \"Error\": \"\",\n",
      "            \"StartedAt\": \"2025-08-10T21:46:08.565709219Z\",\n",
      "            \"FinishedAt\": \"0001-01-01T00:00:00Z\"\n",
      "        },\n",
      "        \"Image\": \"sha256:a776e89aad2d425c248ccfb840115aaa52883499ff36512db4d503b11aae455a\",\n",
      "        \"ResolvConfPath\": \"/var/lib/docker/containers/5ce84ba4d9dd7af8754acc082aefe8dc9666e1984cddfd73083ff5067d6de9d5/resolv.conf\",\n",
      "        \"HostnamePath\": \"/var/lib/docker/containers/5ce84ba4d9dd7af8754acc082aefe8dc9666e1984cddfd73083ff5067d6de9d5/hostname\",\n",
      "        \"HostsPath\": \"/var/lib/docker/containers/5ce84ba4d9dd7af8754acc082aefe8dc9666e1984cddfd73083ff5067d6de9d5/hosts\",\n",
      "        \"LogPath\": \"/var/lib/docker/containers/5ce84ba4d9dd7af8754acc082aefe8dc9666e1984cddfd73083ff5067d6de9d5/5ce84ba4d9dd7af8754acc082aefe8dc9666e1984cddfd73083ff5067d6de9d5-json.log\",\n",
      "        \"Name\": \"/mysql-db1\",\n",
      "        \"RestartCount\": 0,\n",
      "        \"Driver\": \"overlayfs\",\n",
      "        \"Platform\": \"linux\",\n",
      "        \"MountLabel\": \"\",\n",
      "        \"ProcessLabel\": \"\",\n",
      "        \"AppArmorProfile\": \"\",\n",
      "        \"ExecIDs\": null,\n",
      "        \"HostConfig\": {\n",
      "            \"Binds\": null,\n",
      "            \"ContainerIDFile\": \"\",\n",
      "            \"LogConfig\": {\n",
      "                \"Type\": \"json-file\",\n",
      "                \"Config\": {}\n",
      "            },\n",
      "            \"NetworkMode\": \"bridge\",\n",
      "            \"PortBindings\": {},\n",
      "            \"RestartPolicy\": {\n",
      "                \"Name\": \"no\",\n",
      "                \"MaximumRetryCount\": 0\n",
      "            },\n",
      "            \"AutoRemove\": false,\n",
      "            \"VolumeDriver\": \"\",\n",
      "            \"VolumesFrom\": null,\n",
      "            \"ConsoleSize\": [\n",
      "                0,\n",
      "                0\n",
      "            ],\n",
      "            \"CapAdd\": null,\n",
      "            \"CapDrop\": null,\n",
      "            \"CgroupnsMode\": \"private\",\n",
      "            \"Dns\": [],\n",
      "            \"DnsOptions\": [],\n",
      "            \"DnsSearch\": [],\n",
      "            \"ExtraHosts\": null,\n",
      "            \"GroupAdd\": null,\n",
      "            \"IpcMode\": \"private\",\n",
      "            \"Cgroup\": \"\",\n",
      "            \"Links\": null,\n",
      "            \"OomScoreAdj\": 0,\n",
      "            \"PidMode\": \"\",\n",
      "            \"Privileged\": false,\n",
      "            \"PublishAllPorts\": false,\n",
      "            \"ReadonlyRootfs\": false,\n",
      "            \"SecurityOpt\": null,\n",
      "            \"UTSMode\": \"\",\n",
      "            \"UsernsMode\": \"\",\n",
      "            \"ShmSize\": 67108864,\n",
      "            \"Runtime\": \"runc\",\n",
      "            \"Isolation\": \"\",\n",
      "            \"CpuShares\": 0,\n",
      "            \"Memory\": 0,\n",
      "            \"NanoCpus\": 0,\n",
      "            \"CgroupParent\": \"\",\n",
      "            \"BlkioWeight\": 0,\n",
      "            \"BlkioWeightDevice\": [],\n",
      "            \"BlkioDeviceReadBps\": [],\n",
      "            \"BlkioDeviceWriteBps\": [],\n",
      "            \"BlkioDeviceReadIOps\": [],\n",
      "            \"BlkioDeviceWriteIOps\": [],\n",
      "            \"CpuPeriod\": 0,\n",
      "            \"CpuQuota\": 0,\n",
      "            \"CpuRealtimePeriod\": 0,\n",
      "            \"CpuRealtimeRuntime\": 0,\n",
      "            \"CpusetCpus\": \"\",\n",
      "            \"CpusetMems\": \"\",\n",
      "            \"Devices\": [],\n",
      "            \"DeviceCgroupRules\": null,\n",
      "            \"DeviceRequests\": null,\n",
      "            \"MemoryReservation\": 0,\n",
      "            \"MemorySwap\": 0,\n",
      "            \"MemorySwappiness\": null,\n",
      "            \"OomKillDisable\": null,\n",
      "            \"PidsLimit\": null,\n",
      "            \"Ulimits\": [],\n",
      "            \"CpuCount\": 0,\n",
      "            \"CpuPercent\": 0,\n",
      "            \"IOMaximumIOps\": 0,\n",
      "            \"IOMaximumBandwidth\": 0,\n",
      "            \"MaskedPaths\": [\n",
      "                \"/proc/asound\",\n",
      "                \"/proc/acpi\",\n",
      "                \"/proc/interrupts\",\n",
      "                \"/proc/kcore\",\n",
      "                \"/proc/keys\",\n",
      "                \"/proc/latency_stats\",\n",
      "                \"/proc/timer_list\",\n",
      "                \"/proc/timer_stats\",\n",
      "                \"/proc/sched_debug\",\n",
      "                \"/proc/scsi\",\n",
      "                \"/sys/firmware\",\n",
      "                \"/sys/devices/virtual/powercap\"\n",
      "            ],\n",
      "            \"ReadonlyPaths\": [\n",
      "                \"/proc/bus\",\n",
      "                \"/proc/fs\",\n",
      "                \"/proc/irq\",\n",
      "                \"/proc/sys\",\n",
      "                \"/proc/sysrq-trigger\"\n",
      "            ]\n",
      "        },\n",
      "        \"GraphDriver\": {\n",
      "            \"Data\": null,\n",
      "            \"Name\": \"overlayfs\"\n",
      "        },\n",
      "        \"Mounts\": [\n",
      "            {\n",
      "                \"Type\": \"volume\",\n",
      "                \"Name\": \"1787f6edcb752610ce759c8ba443eff52050500e394fa688dcc5cd38f07a5177\",\n",
      "                \"Source\": \"/var/lib/docker/volumes/1787f6edcb752610ce759c8ba443eff52050500e394fa688dcc5cd38f07a5177/_data\",\n",
      "                \"Destination\": \"/var/lib/mysql\",\n",
      "                \"Driver\": \"local\",\n",
      "                \"Mode\": \"\",\n",
      "                \"RW\": true,\n",
      "                \"Propagation\": \"\"\n",
      "            }\n",
      "        ],\n",
      "        \"Config\": {\n",
      "            \"Hostname\": \"5ce84ba4d9dd\",\n",
      "            \"Domainname\": \"\",\n",
      "            \"User\": \"\",\n",
      "            \"AttachStdin\": false,\n",
      "            \"AttachStdout\": false,\n",
      "            \"AttachStderr\": false,\n",
      "            \"ExposedPorts\": {\n",
      "                \"3306/tcp\": {},\n",
      "                \"33060/tcp\": {}\n",
      "            },\n",
      "            \"Tty\": false,\n",
      "            \"OpenStdin\": false,\n",
      "            \"StdinOnce\": false,\n",
      "            \"Env\": [\n",
      "                \"MYSQL_ALLOW_EMPTY_PASSWORD=True\",\n",
      "                \"PATH=/usr/local/sbin:/usr/local/bin:/usr/sbin:/usr/bin:/sbin:/bin\",\n",
      "                \"GOSU_VERSION=1.17\",\n",
      "                \"MYSQL_MAJOR=innovation\",\n",
      "                \"MYSQL_VERSION=9.4.0-1.el9\",\n",
      "                \"MYSQL_SHELL_VERSION=9.4.0-1.el9\"\n",
      "            ],\n",
      "            \"Cmd\": [\n",
      "                \"mysqld\"\n",
      "            ],\n",
      "            \"Image\": \"mysql\",\n",
      "            \"Volumes\": {\n",
      "                \"/var/lib/mysql\": {}\n",
      "            },\n",
      "            \"WorkingDir\": \"/\",\n",
      "            \"Entrypoint\": [\n",
      "                \"docker-entrypoint.sh\"\n",
      "            ],\n",
      "            \"OnBuild\": null,\n",
      "            \"Labels\": {}\n",
      "        },\n",
      "        \"NetworkSettings\": {\n",
      "            \"Bridge\": \"\",\n",
      "            \"SandboxID\": \"e81943ae1083b81f17a60c7360d521fde86a60642c0c3b8cf64183b52fe6aa4d\",\n",
      "            \"SandboxKey\": \"/var/run/docker/netns/e81943ae1083\",\n",
      "            \"Ports\": {},\n",
      "            \"HairpinMode\": false,\n",
      "            \"LinkLocalIPv6Address\": \"\",\n",
      "            \"LinkLocalIPv6PrefixLen\": 0,\n",
      "            \"SecondaryIPAddresses\": null,\n",
      "            \"SecondaryIPv6Addresses\": null,\n",
      "            \"EndpointID\": \"84e3ea5affed8769a60154c61e6f81072f235c37b286aa69397afac0059cc87b\",\n",
      "            \"Gateway\": \"172.17.0.1\",\n",
      "            \"GlobalIPv6Address\": \"\",\n",
      "            \"GlobalIPv6PrefixLen\": 0,\n",
      "            \"IPAddress\": \"172.17.0.7\",\n",
      "            \"IPPrefixLen\": 16,\n",
      "            \"IPv6Gateway\": \"\",\n",
      "            \"MacAddress\": \"9e:bc:ad:d0:27:d2\",\n",
      "            \"Networks\": {\n",
      "                \"bridge\": {\n",
      "                    \"IPAMConfig\": null,\n",
      "                    \"Links\": null,\n",
      "                    \"Aliases\": null,\n",
      "                    \"MacAddress\": \"9e:bc:ad:d0:27:d2\",\n",
      "                    \"DriverOpts\": null,\n",
      "                    \"GwPriority\": 0,\n",
      "                    \"NetworkID\": \"ec11ec405b3fd462784f809edd11b8db72d2d15137c673916f1f7678edae9038\",\n",
      "                    \"EndpointID\": \"84e3ea5affed8769a60154c61e6f81072f235c37b286aa69397afac0059cc87b\",\n",
      "                    \"Gateway\": \"172.17.0.1\",\n",
      "                    \"IPAddress\": \"172.17.0.7\",\n",
      "                    \"IPPrefixLen\": 16,\n",
      "                    \"IPv6Gateway\": \"\",\n",
      "                    \"GlobalIPv6Address\": \"\",\n",
      "                    \"GlobalIPv6PrefixLen\": 0,\n",
      "                    \"DNSNames\": null\n",
      "                }\n",
      "            }\n",
      "        },\n",
      "        \"ImageManifestDescriptor\": {\n",
      "            \"mediaType\": \"application/vnd.oci.image.manifest.v1+json\",\n",
      "            \"digest\": \"sha256:aaae6655f7e4ffb05fb9820075721bfaaf737144ed95e9b9fe0e20583a7a3568\",\n",
      "            \"size\": 2863,\n",
      "            \"annotations\": {\n",
      "                \"com.docker.official-images.bashbrew.arch\": \"amd64\",\n",
      "                \"org.opencontainers.image.base.digest\": \"sha256:23650b1c0748649385924bfa28f15f7eeb99887b35dd10f8e12ba75eb370aafd\",\n",
      "                \"org.opencontainers.image.base.name\": \"oraclelinux:9-slim\",\n",
      "                \"org.opencontainers.image.created\": \"2025-08-07T23:48:42Z\",\n",
      "                \"org.opencontainers.image.revision\": \"cfdf0f31c85e777afa46157194ea8363dccc0260\",\n",
      "                \"org.opencontainers.image.source\": \"https://github.com/docker-library/mysql.git#cfdf0f31c85e777afa46157194ea8363dccc0260:innovation\",\n",
      "                \"org.opencontainers.image.url\": \"https://hub.docker.com/_/mysql\",\n",
      "                \"org.opencontainers.image.version\": \"9.4.0\"\n",
      "            },\n",
      "            \"platform\": {\n",
      "                \"architecture\": \"amd64\",\n",
      "                \"os\": \"linux\"\n",
      "            }\n",
      "        }\n",
      "    }\n",
      "]\n"
     ]
    }
   ],
   "source": [
    "!docker container inspect mysql-db1"
   ]
  },
  {
   "cell_type": "code",
   "execution_count": 7,
   "id": "7cc21114",
   "metadata": {},
   "outputs": [
    {
     "name": "stdout",
     "output_type": "stream",
     "text": [
      "DRIVER    VOLUME NAME\n",
      "local     8e21633bd464e99bb8836e77bb66a8e01128d2ec5d3cedd7c6d0a2225bb0a6cf\n",
      "local     54d4cc25462c51870c42ccb34c041abb9f14560fd03ee853f3e9b2dba37e24a1\n",
      "local     0596bbe08f2e54c8aba46f70933de371cac795129b49f5b7f4b8030332dad668\n",
      "local     1787f6edcb752610ce759c8ba443eff52050500e394fa688dcc5cd38f07a5177\n",
      "local     2680fb6355df586d92fb9622cd1e4d176fbc2ca428db5631f83bafbec162b72b\n",
      "local     eec14be94bd5beef1efb22bb78841394147f15f139f5319769bdd58f9095fca9\n",
      "local     fbe51a753d952e3ed178602e167e691d4f457ead4dec7f63089d397e9f50dab0\n"
     ]
    }
   ],
   "source": [
    "!docker volume ls"
   ]
  },
  {
   "cell_type": "code",
   "execution_count": 9,
   "id": "b788a2b9",
   "metadata": {},
   "outputs": [
    {
     "name": "stdout",
     "output_type": "stream",
     "text": [
      "[\n",
      "    {\n",
      "        \"CreatedAt\": \"2025-08-10T16:10:34Z\",\n",
      "        \"Driver\": \"local\",\n",
      "        \"Labels\": {\n",
      "            \"com.docker.volume.anonymous\": \"\"\n",
      "        },\n",
      "        \"Mountpoint\": \"/var/lib/docker/volumes/8e21633bd464e99bb8836e77bb66a8e01128d2ec5d3cedd7c6d0a2225bb0a6cf/_data\",\n",
      "        \"Name\": \"8e21633bd464e99bb8836e77bb66a8e01128d2ec5d3cedd7c6d0a2225bb0a6cf\",\n",
      "        \"Options\": null,\n",
      "        \"Scope\": \"local\"\n",
      "    }\n",
      "]\n"
     ]
    }
   ],
   "source": [
    "!docker volume inspect 8e21633bd464e99bb8836e77bb66a8e01128d2ec5d3cedd7c6d0a2225bb0a6cf"
   ]
  },
  {
   "cell_type": "code",
   "execution_count": 10,
   "id": "433b648d",
   "metadata": {},
   "outputs": [
    {
     "name": "stdout",
     "output_type": "stream",
     "text": [
      "1d3faf8b28204ba55d847f79d9a50bef8b68007738599e8471466ac90a1b79f7\n"
     ]
    }
   ],
   "source": [
    "!docker container run -d --name mysql-db2 -e MYSQL_ALLOW_EMPTY_PASSWORD=True mysql"
   ]
  },
  {
   "cell_type": "code",
   "execution_count": 11,
   "id": "f74c75f0",
   "metadata": {},
   "outputs": [
    {
     "name": "stdout",
     "output_type": "stream",
     "text": [
      "DRIVER    VOLUME NAME\n",
      "local     8e21633bd464e99bb8836e77bb66a8e01128d2ec5d3cedd7c6d0a2225bb0a6cf\n",
      "local     54d4cc25462c51870c42ccb34c041abb9f14560fd03ee853f3e9b2dba37e24a1\n",
      "local     0596bbe08f2e54c8aba46f70933de371cac795129b49f5b7f4b8030332dad668\n",
      "local     1787f6edcb752610ce759c8ba443eff52050500e394fa688dcc5cd38f07a5177\n",
      "local     2680fb6355df586d92fb9622cd1e4d176fbc2ca428db5631f83bafbec162b72b\n",
      "local     d1ae61ac227b7fbca3c48cd4d618c1ece04ff9b3797a1d36cb9d94d466a58fa1\n",
      "local     eec14be94bd5beef1efb22bb78841394147f15f139f5319769bdd58f9095fca9\n",
      "local     fbe51a753d952e3ed178602e167e691d4f457ead4dec7f63089d397e9f50dab0\n"
     ]
    }
   ],
   "source": [
    "!docker volume ls"
   ]
  },
  {
   "cell_type": "code",
   "execution_count": 12,
   "id": "08a4373d",
   "metadata": {},
   "outputs": [
    {
     "name": "stdout",
     "output_type": "stream",
     "text": [
      "mysql-db1\n"
     ]
    }
   ],
   "source": [
    "!docker container stop mysql-db1"
   ]
  },
  {
   "cell_type": "code",
   "execution_count": 13,
   "id": "3d5b18b6",
   "metadata": {},
   "outputs": [
    {
     "name": "stdout",
     "output_type": "stream",
     "text": [
      "mysql-db2\n"
     ]
    }
   ],
   "source": [
    "!docker container stop mysql-db2"
   ]
  },
  {
   "cell_type": "code",
   "execution_count": 14,
   "id": "edd0e846",
   "metadata": {},
   "outputs": [
    {
     "name": "stdout",
     "output_type": "stream",
     "text": [
      "DRIVER    VOLUME NAME\n",
      "local     8e21633bd464e99bb8836e77bb66a8e01128d2ec5d3cedd7c6d0a2225bb0a6cf\n",
      "local     54d4cc25462c51870c42ccb34c041abb9f14560fd03ee853f3e9b2dba37e24a1\n",
      "local     0596bbe08f2e54c8aba46f70933de371cac795129b49f5b7f4b8030332dad668\n",
      "local     1787f6edcb752610ce759c8ba443eff52050500e394fa688dcc5cd38f07a5177\n",
      "local     2680fb6355df586d92fb9622cd1e4d176fbc2ca428db5631f83bafbec162b72b\n",
      "local     d1ae61ac227b7fbca3c48cd4d618c1ece04ff9b3797a1d36cb9d94d466a58fa1\n",
      "local     eec14be94bd5beef1efb22bb78841394147f15f139f5319769bdd58f9095fca9\n",
      "local     fbe51a753d952e3ed178602e167e691d4f457ead4dec7f63089d397e9f50dab0\n"
     ]
    }
   ],
   "source": [
    "!docker volume ls"
   ]
  },
  {
   "cell_type": "code",
   "execution_count": 15,
   "id": "aa40bcae",
   "metadata": {},
   "outputs": [
    {
     "name": "stdout",
     "output_type": "stream",
     "text": [
      "CONTAINER ID   IMAGE             COMMAND                  CREATED             STATUS             PORTS                                     NAMES\n",
      "f34e52ac1cbb   testnode          \"/sbin/tini -- node …\"   About an hour ago   Up About an hour   0.0.0.0:82->3000/tcp, [::]:82->3000/tcp   sharp_curie\n",
      "747d62415d9f   nginx-with-html   \"/docker-entrypoint.…\"   2 hours ago         Up 2 hours         0.0.0.0:81->80/tcp, [::]:81->80/tcp       dreamy_turing\n",
      "fe9d79da2f49   elasticsearch:2   \"/docker-entrypoint.…\"   3 hours ago         Up 3 hours         9200/tcp, 9300/tcp                        sharp_ramanujan\n",
      "6baa08bc0a14   elasticsearch:2   \"/docker-entrypoint.…\"   3 hours ago         Up 3 hours         9200/tcp, 9300/tcp                        clever_boyd\n",
      "471856a221c8   nginx             \"/docker-entrypoint.…\"   4 hours ago         Up 4 hours         80/tcp                                    my_nginx\n",
      "adc831b3718e   nginx             \"/docker-entrypoint.…\"   4 hours ago         Up 4 hours         80/tcp                                    new_nginx\n",
      "1bf0ffecf0dd   nginx             \"/docker-entrypoint.…\"   5 hours ago         Up 5 hours         0.0.0.0:80->80/tcp, [::]:80->80/tcp       webhost\n",
      "9cf1c60dd774   mysql             \"docker-entrypoint.s…\"   5 hours ago         Up 5 hours         3306/tcp, 33060/tcp                       mysql-db\n",
      "ef146c5eb1d2   nginx             \"/docker-entrypoint.…\"   5 hours ago         Up 5 hours         80/tcp                                    nginx\n"
     ]
    }
   ],
   "source": [
    "!docker container ls"
   ]
  },
  {
   "cell_type": "code",
   "execution_count": 16,
   "id": "e36eb8b6",
   "metadata": {},
   "outputs": [
    {
     "name": "stdout",
     "output_type": "stream",
     "text": [
      "f34e52ac1cbb\n",
      "747d62415d9f\n",
      "ef146c5eb1d2\n",
      "fe9d79da2f49\n",
      "6baa08bc0a14\n",
      "471856a221c8\n",
      "adc831b3718e\n",
      "1bf0ffecf0dd\n",
      "9cf1c60dd774\n"
     ]
    }
   ],
   "source": [
    "!docker container rm -f f34e52ac1cbb  747d62415d9f  ef146c5eb1d2     fe9d79da2f49   6baa08bc0a14 471856a221c8   adc831b3718e   1bf0ffecf0dd 9cf1c60dd774"
   ]
  },
  {
   "cell_type": "code",
   "execution_count": 17,
   "id": "1f6805d6",
   "metadata": {},
   "outputs": [
    {
     "name": "stdout",
     "output_type": "stream",
     "text": [
      "CONTAINER ID   IMAGE     COMMAND   CREATED   STATUS    PORTS     NAMES\n"
     ]
    }
   ],
   "source": [
    "!docker container ls"
   ]
  },
  {
   "cell_type": "code",
   "execution_count": 18,
   "id": "b75d7455",
   "metadata": {},
   "outputs": [
    {
     "name": "stdout",
     "output_type": "stream",
     "text": [
      "DRIVER    VOLUME NAME\n",
      "local     8e21633bd464e99bb8836e77bb66a8e01128d2ec5d3cedd7c6d0a2225bb0a6cf\n",
      "local     54d4cc25462c51870c42ccb34c041abb9f14560fd03ee853f3e9b2dba37e24a1\n",
      "local     0596bbe08f2e54c8aba46f70933de371cac795129b49f5b7f4b8030332dad668\n",
      "local     1787f6edcb752610ce759c8ba443eff52050500e394fa688dcc5cd38f07a5177\n",
      "local     2680fb6355df586d92fb9622cd1e4d176fbc2ca428db5631f83bafbec162b72b\n",
      "local     d1ae61ac227b7fbca3c48cd4d618c1ece04ff9b3797a1d36cb9d94d466a58fa1\n",
      "local     eec14be94bd5beef1efb22bb78841394147f15f139f5319769bdd58f9095fca9\n",
      "local     fbe51a753d952e3ed178602e167e691d4f457ead4dec7f63089d397e9f50dab0\n"
     ]
    }
   ],
   "source": [
    "!docker volume ls"
   ]
  },
  {
   "cell_type": "markdown",
   "id": "975f446f",
   "metadata": {},
   "source": [
    "# Named Volumes"
   ]
  },
  {
   "cell_type": "code",
   "execution_count": 19,
   "id": "12b8a16c",
   "metadata": {},
   "outputs": [
    {
     "name": "stdout",
     "output_type": "stream",
     "text": [
      "ef0923a99a0525f93b810d9e6bc293fbb80758fc0c5ac6c640a7bb5ce75c0776\n"
     ]
    }
   ],
   "source": [
    "!docker container run -d --name mysql-db -e MYSQL_ALLOW_EMPTY_PASSWORD=True -v mysql-db:/var/lib/mysql  mysql"
   ]
  },
  {
   "cell_type": "code",
   "execution_count": 20,
   "id": "5664e679",
   "metadata": {},
   "outputs": [
    {
     "name": "stdout",
     "output_type": "stream",
     "text": [
      "DRIVER    VOLUME NAME\n",
      "local     8e21633bd464e99bb8836e77bb66a8e01128d2ec5d3cedd7c6d0a2225bb0a6cf\n",
      "local     54d4cc25462c51870c42ccb34c041abb9f14560fd03ee853f3e9b2dba37e24a1\n",
      "local     0596bbe08f2e54c8aba46f70933de371cac795129b49f5b7f4b8030332dad668\n",
      "local     1787f6edcb752610ce759c8ba443eff52050500e394fa688dcc5cd38f07a5177\n",
      "local     2680fb6355df586d92fb9622cd1e4d176fbc2ca428db5631f83bafbec162b72b\n",
      "local     d1ae61ac227b7fbca3c48cd4d618c1ece04ff9b3797a1d36cb9d94d466a58fa1\n",
      "local     eec14be94bd5beef1efb22bb78841394147f15f139f5319769bdd58f9095fca9\n",
      "local     fbe51a753d952e3ed178602e167e691d4f457ead4dec7f63089d397e9f50dab0\n",
      "local     mysql-db\n"
     ]
    }
   ],
   "source": [
    "!docker volume ls"
   ]
  },
  {
   "cell_type": "code",
   "execution_count": 21,
   "id": "c84f1e1c",
   "metadata": {},
   "outputs": [
    {
     "name": "stdout",
     "output_type": "stream",
     "text": [
      "[\n",
      "    {\n",
      "        \"CreatedAt\": \"2025-08-10T21:54:47Z\",\n",
      "        \"Driver\": \"local\",\n",
      "        \"Labels\": null,\n",
      "        \"Mountpoint\": \"/var/lib/docker/volumes/mysql-db/_data\",\n",
      "        \"Name\": \"mysql-db\",\n",
      "        \"Options\": null,\n",
      "        \"Scope\": \"local\"\n",
      "    }\n",
      "]\n"
     ]
    }
   ],
   "source": [
    "!docker volume inspect mysql-db"
   ]
  },
  {
   "cell_type": "code",
   "execution_count": 22,
   "id": "34238f72",
   "metadata": {},
   "outputs": [
    {
     "name": "stdout",
     "output_type": "stream",
     "text": [
      "mysql-db\n"
     ]
    }
   ],
   "source": [
    "!docker container rm -f mysql-db"
   ]
  },
  {
   "cell_type": "code",
   "execution_count": 23,
   "id": "d83f43ae",
   "metadata": {},
   "outputs": [
    {
     "name": "stdout",
     "output_type": "stream",
     "text": [
      "838efd6e4885b0e32ab5218dae490484f9d9cae7c8da907ac5168988fc3cd32a\n"
     ]
    }
   ],
   "source": [
    "!docker container run -d --name mysql-db -e MYSQL_ALLOW_EMPTY_PASSWORD=True -v mysql-db:/var/lib/mysql  mysql"
   ]
  },
  {
   "cell_type": "code",
   "execution_count": 24,
   "id": "c040b2e5",
   "metadata": {},
   "outputs": [
    {
     "name": "stdout",
     "output_type": "stream",
     "text": [
      "DRIVER    VOLUME NAME\n",
      "local     8e21633bd464e99bb8836e77bb66a8e01128d2ec5d3cedd7c6d0a2225bb0a6cf\n",
      "local     54d4cc25462c51870c42ccb34c041abb9f14560fd03ee853f3e9b2dba37e24a1\n",
      "local     0596bbe08f2e54c8aba46f70933de371cac795129b49f5b7f4b8030332dad668\n",
      "local     1787f6edcb752610ce759c8ba443eff52050500e394fa688dcc5cd38f07a5177\n",
      "local     2680fb6355df586d92fb9622cd1e4d176fbc2ca428db5631f83bafbec162b72b\n",
      "local     d1ae61ac227b7fbca3c48cd4d618c1ece04ff9b3797a1d36cb9d94d466a58fa1\n",
      "local     eec14be94bd5beef1efb22bb78841394147f15f139f5319769bdd58f9095fca9\n",
      "local     fbe51a753d952e3ed178602e167e691d4f457ead4dec7f63089d397e9f50dab0\n",
      "local     mysql-db\n"
     ]
    }
   ],
   "source": [
    "!docker volume ls"
   ]
  },
  {
   "cell_type": "code",
   "execution_count": 25,
   "id": "69e531ea",
   "metadata": {},
   "outputs": [
    {
     "name": "stdout",
     "output_type": "stream",
     "text": [
      "[\n",
      "    {\n",
      "        \"Id\": \"838efd6e4885b0e32ab5218dae490484f9d9cae7c8da907ac5168988fc3cd32a\",\n",
      "        \"Created\": \"2025-08-10T21:56:27.992459441Z\",\n",
      "        \"Path\": \"docker-entrypoint.sh\",\n",
      "        \"Args\": [\n",
      "            \"mysqld\"\n",
      "        ],\n",
      "        \"State\": {\n",
      "            \"Status\": \"running\",\n",
      "            \"Running\": true,\n",
      "            \"Paused\": false,\n",
      "            \"Restarting\": false,\n",
      "            \"OOMKilled\": false,\n",
      "            \"Dead\": false,\n",
      "            \"Pid\": 11636,\n",
      "            \"ExitCode\": 0,\n",
      "            \"Error\": \"\",\n",
      "            \"StartedAt\": \"2025-08-10T21:56:28.118845599Z\",\n",
      "            \"FinishedAt\": \"0001-01-01T00:00:00Z\"\n",
      "        },\n",
      "        \"Image\": \"sha256:a776e89aad2d425c248ccfb840115aaa52883499ff36512db4d503b11aae455a\",\n",
      "        \"ResolvConfPath\": \"/var/lib/docker/containers/838efd6e4885b0e32ab5218dae490484f9d9cae7c8da907ac5168988fc3cd32a/resolv.conf\",\n",
      "        \"HostnamePath\": \"/var/lib/docker/containers/838efd6e4885b0e32ab5218dae490484f9d9cae7c8da907ac5168988fc3cd32a/hostname\",\n",
      "        \"HostsPath\": \"/var/lib/docker/containers/838efd6e4885b0e32ab5218dae490484f9d9cae7c8da907ac5168988fc3cd32a/hosts\",\n",
      "        \"LogPath\": \"/var/lib/docker/containers/838efd6e4885b0e32ab5218dae490484f9d9cae7c8da907ac5168988fc3cd32a/838efd6e4885b0e32ab5218dae490484f9d9cae7c8da907ac5168988fc3cd32a-json.log\",\n",
      "        \"Name\": \"/mysql-db\",\n",
      "        \"RestartCount\": 0,\n",
      "        \"Driver\": \"overlayfs\",\n",
      "        \"Platform\": \"linux\",\n",
      "        \"MountLabel\": \"\",\n",
      "        \"ProcessLabel\": \"\",\n",
      "        \"AppArmorProfile\": \"\",\n",
      "        \"ExecIDs\": null,\n",
      "        \"HostConfig\": {\n",
      "            \"Binds\": [\n",
      "                \"mysql-db:/var/lib/mysql\"\n",
      "            ],\n",
      "            \"ContainerIDFile\": \"\",\n",
      "            \"LogConfig\": {\n",
      "                \"Type\": \"json-file\",\n",
      "                \"Config\": {}\n",
      "            },\n",
      "            \"NetworkMode\": \"bridge\",\n",
      "            \"PortBindings\": {},\n",
      "            \"RestartPolicy\": {\n",
      "                \"Name\": \"no\",\n",
      "                \"MaximumRetryCount\": 0\n",
      "            },\n",
      "            \"AutoRemove\": false,\n",
      "            \"VolumeDriver\": \"\",\n",
      "            \"VolumesFrom\": null,\n",
      "            \"ConsoleSize\": [\n",
      "                0,\n",
      "                0\n",
      "            ],\n",
      "            \"CapAdd\": null,\n",
      "            \"CapDrop\": null,\n",
      "            \"CgroupnsMode\": \"private\",\n",
      "            \"Dns\": [],\n",
      "            \"DnsOptions\": [],\n",
      "            \"DnsSearch\": [],\n",
      "            \"ExtraHosts\": null,\n",
      "            \"GroupAdd\": null,\n",
      "            \"IpcMode\": \"private\",\n",
      "            \"Cgroup\": \"\",\n",
      "            \"Links\": null,\n",
      "            \"OomScoreAdj\": 0,\n",
      "            \"PidMode\": \"\",\n",
      "            \"Privileged\": false,\n",
      "            \"PublishAllPorts\": false,\n",
      "            \"ReadonlyRootfs\": false,\n",
      "            \"SecurityOpt\": null,\n",
      "            \"UTSMode\": \"\",\n",
      "            \"UsernsMode\": \"\",\n",
      "            \"ShmSize\": 67108864,\n",
      "            \"Runtime\": \"runc\",\n",
      "            \"Isolation\": \"\",\n",
      "            \"CpuShares\": 0,\n",
      "            \"Memory\": 0,\n",
      "            \"NanoCpus\": 0,\n",
      "            \"CgroupParent\": \"\",\n",
      "            \"BlkioWeight\": 0,\n",
      "            \"BlkioWeightDevice\": [],\n",
      "            \"BlkioDeviceReadBps\": [],\n",
      "            \"BlkioDeviceWriteBps\": [],\n",
      "            \"BlkioDeviceReadIOps\": [],\n",
      "            \"BlkioDeviceWriteIOps\": [],\n",
      "            \"CpuPeriod\": 0,\n",
      "            \"CpuQuota\": 0,\n",
      "            \"CpuRealtimePeriod\": 0,\n",
      "            \"CpuRealtimeRuntime\": 0,\n",
      "            \"CpusetCpus\": \"\",\n",
      "            \"CpusetMems\": \"\",\n",
      "            \"Devices\": [],\n",
      "            \"DeviceCgroupRules\": null,\n",
      "            \"DeviceRequests\": null,\n",
      "            \"MemoryReservation\": 0,\n",
      "            \"MemorySwap\": 0,\n",
      "            \"MemorySwappiness\": null,\n",
      "            \"OomKillDisable\": null,\n",
      "            \"PidsLimit\": null,\n",
      "            \"Ulimits\": [],\n",
      "            \"CpuCount\": 0,\n",
      "            \"CpuPercent\": 0,\n",
      "            \"IOMaximumIOps\": 0,\n",
      "            \"IOMaximumBandwidth\": 0,\n",
      "            \"MaskedPaths\": [\n",
      "                \"/proc/asound\",\n",
      "                \"/proc/acpi\",\n",
      "                \"/proc/interrupts\",\n",
      "                \"/proc/kcore\",\n",
      "                \"/proc/keys\",\n",
      "                \"/proc/latency_stats\",\n",
      "                \"/proc/timer_list\",\n",
      "                \"/proc/timer_stats\",\n",
      "                \"/proc/sched_debug\",\n",
      "                \"/proc/scsi\",\n",
      "                \"/sys/firmware\",\n",
      "                \"/sys/devices/virtual/powercap\"\n",
      "            ],\n",
      "            \"ReadonlyPaths\": [\n",
      "                \"/proc/bus\",\n",
      "                \"/proc/fs\",\n",
      "                \"/proc/irq\",\n",
      "                \"/proc/sys\",\n",
      "                \"/proc/sysrq-trigger\"\n",
      "            ]\n",
      "        },\n",
      "        \"GraphDriver\": {\n",
      "            \"Data\": null,\n",
      "            \"Name\": \"overlayfs\"\n",
      "        },\n",
      "        \"Mounts\": [\n",
      "            {\n",
      "                \"Type\": \"volume\",\n",
      "                \"Name\": \"mysql-db\",\n",
      "                \"Source\": \"/var/lib/docker/volumes/mysql-db/_data\",\n",
      "                \"Destination\": \"/var/lib/mysql\",\n",
      "                \"Driver\": \"local\",\n",
      "                \"Mode\": \"z\",\n",
      "                \"RW\": true,\n",
      "                \"Propagation\": \"\"\n",
      "            }\n",
      "        ],\n",
      "        \"Config\": {\n",
      "            \"Hostname\": \"838efd6e4885\",\n",
      "            \"Domainname\": \"\",\n",
      "            \"User\": \"\",\n",
      "            \"AttachStdin\": false,\n",
      "            \"AttachStdout\": false,\n",
      "            \"AttachStderr\": false,\n",
      "            \"ExposedPorts\": {\n",
      "                \"3306/tcp\": {},\n",
      "                \"33060/tcp\": {}\n",
      "            },\n",
      "            \"Tty\": false,\n",
      "            \"OpenStdin\": false,\n",
      "            \"StdinOnce\": false,\n",
      "            \"Env\": [\n",
      "                \"MYSQL_ALLOW_EMPTY_PASSWORD=True\",\n",
      "                \"PATH=/usr/local/sbin:/usr/local/bin:/usr/sbin:/usr/bin:/sbin:/bin\",\n",
      "                \"GOSU_VERSION=1.17\",\n",
      "                \"MYSQL_MAJOR=innovation\",\n",
      "                \"MYSQL_VERSION=9.4.0-1.el9\",\n",
      "                \"MYSQL_SHELL_VERSION=9.4.0-1.el9\"\n",
      "            ],\n",
      "            \"Cmd\": [\n",
      "                \"mysqld\"\n",
      "            ],\n",
      "            \"Image\": \"mysql\",\n",
      "            \"Volumes\": {\n",
      "                \"/var/lib/mysql\": {}\n",
      "            },\n",
      "            \"WorkingDir\": \"/\",\n",
      "            \"Entrypoint\": [\n",
      "                \"docker-entrypoint.sh\"\n",
      "            ],\n",
      "            \"OnBuild\": null,\n",
      "            \"Labels\": {}\n",
      "        },\n",
      "        \"NetworkSettings\": {\n",
      "            \"Bridge\": \"\",\n",
      "            \"SandboxID\": \"01d16606b07b50c9b8ce8d545c413e096c4d72955e848d08bbdb8a719bfde685\",\n",
      "            \"SandboxKey\": \"/var/run/docker/netns/01d16606b07b\",\n",
      "            \"Ports\": {},\n",
      "            \"HairpinMode\": false,\n",
      "            \"LinkLocalIPv6Address\": \"\",\n",
      "            \"LinkLocalIPv6PrefixLen\": 0,\n",
      "            \"SecondaryIPAddresses\": null,\n",
      "            \"SecondaryIPv6Addresses\": null,\n",
      "            \"EndpointID\": \"c1e6fe994ce5577577ac187f6905f1364611912c37c030e5847477701a10722d\",\n",
      "            \"Gateway\": \"172.17.0.1\",\n",
      "            \"GlobalIPv6Address\": \"\",\n",
      "            \"GlobalIPv6PrefixLen\": 0,\n",
      "            \"IPAddress\": \"172.17.0.2\",\n",
      "            \"IPPrefixLen\": 16,\n",
      "            \"IPv6Gateway\": \"\",\n",
      "            \"MacAddress\": \"9a:1d:2f:bc:97:6c\",\n",
      "            \"Networks\": {\n",
      "                \"bridge\": {\n",
      "                    \"IPAMConfig\": null,\n",
      "                    \"Links\": null,\n",
      "                    \"Aliases\": null,\n",
      "                    \"MacAddress\": \"9a:1d:2f:bc:97:6c\",\n",
      "                    \"DriverOpts\": null,\n",
      "                    \"GwPriority\": 0,\n",
      "                    \"NetworkID\": \"ec11ec405b3fd462784f809edd11b8db72d2d15137c673916f1f7678edae9038\",\n",
      "                    \"EndpointID\": \"c1e6fe994ce5577577ac187f6905f1364611912c37c030e5847477701a10722d\",\n",
      "                    \"Gateway\": \"172.17.0.1\",\n",
      "                    \"IPAddress\": \"172.17.0.2\",\n",
      "                    \"IPPrefixLen\": 16,\n",
      "                    \"IPv6Gateway\": \"\",\n",
      "                    \"GlobalIPv6Address\": \"\",\n",
      "                    \"GlobalIPv6PrefixLen\": 0,\n",
      "                    \"DNSNames\": null\n",
      "                }\n",
      "            }\n",
      "        },\n",
      "        \"ImageManifestDescriptor\": {\n",
      "            \"mediaType\": \"application/vnd.oci.image.manifest.v1+json\",\n",
      "            \"digest\": \"sha256:aaae6655f7e4ffb05fb9820075721bfaaf737144ed95e9b9fe0e20583a7a3568\",\n",
      "            \"size\": 2863,\n",
      "            \"annotations\": {\n",
      "                \"com.docker.official-images.bashbrew.arch\": \"amd64\",\n",
      "                \"org.opencontainers.image.base.digest\": \"sha256:23650b1c0748649385924bfa28f15f7eeb99887b35dd10f8e12ba75eb370aafd\",\n",
      "                \"org.opencontainers.image.base.name\": \"oraclelinux:9-slim\",\n",
      "                \"org.opencontainers.image.created\": \"2025-08-07T23:48:42Z\",\n",
      "                \"org.opencontainers.image.revision\": \"cfdf0f31c85e777afa46157194ea8363dccc0260\",\n",
      "                \"org.opencontainers.image.source\": \"https://github.com/docker-library/mysql.git#cfdf0f31c85e777afa46157194ea8363dccc0260:innovation\",\n",
      "                \"org.opencontainers.image.url\": \"https://hub.docker.com/_/mysql\",\n",
      "                \"org.opencontainers.image.version\": \"9.4.0\"\n",
      "            },\n",
      "            \"platform\": {\n",
      "                \"architecture\": \"amd64\",\n",
      "                \"os\": \"linux\"\n",
      "            }\n",
      "        }\n",
      "    }\n",
      "]\n"
     ]
    }
   ],
   "source": [
    "!docker container inspect mysql-db"
   ]
  },
  {
   "cell_type": "code",
   "execution_count": 26,
   "id": "6cf75708",
   "metadata": {},
   "outputs": [
    {
     "name": "stdout",
     "output_type": "stream",
     "text": [
      "Usage:  docker volume create [OPTIONS] [VOLUME]\n",
      "\n",
      "Create a volume\n",
      "\n",
      "Options:\n",
      "  -d, --driver string   Specify volume driver name (default \"local\")\n",
      "      --label list      Set metadata for a volume\n",
      "  -o, --opt map         Set driver specific options (default map[])\n"
     ]
    }
   ],
   "source": [
    "!docker volume create --help"
   ]
  },
  {
   "cell_type": "code",
   "execution_count": 27,
   "id": "d6e63ae8",
   "metadata": {},
   "outputs": [
    {
     "name": "stdout",
     "output_type": "stream",
     "text": [
      "^C\n"
     ]
    }
   ],
   "source": [
    "!docker volume prune"
   ]
  },
  {
   "cell_type": "code",
   "execution_count": 32,
   "id": "7edc13c9",
   "metadata": {},
   "outputs": [
    {
     "name": "stdout",
     "output_type": "stream",
     "text": [
      "DRIVER    VOLUME NAME\n"
     ]
    }
   ],
   "source": [
    "!docker volume ls"
   ]
  },
  {
   "cell_type": "code",
   "execution_count": 31,
   "id": "40ef91f8",
   "metadata": {},
   "outputs": [
    {
     "name": "stdout",
     "output_type": "stream",
     "text": [
      "mysql-db\n"
     ]
    }
   ],
   "source": [
    "!docker volume rm mysql-db"
   ]
  },
  {
   "cell_type": "code",
   "execution_count": null,
   "id": "f7d4a4ca",
   "metadata": {},
   "outputs": [],
   "source": []
  }
 ],
 "metadata": {
  "kernelspec": {
   "display_name": "Python 3",
   "language": "python",
   "name": "python3"
  },
  "language_info": {
   "codemirror_mode": {
    "name": "ipython",
    "version": 3
   },
   "file_extension": ".py",
   "mimetype": "text/x-python",
   "name": "python",
   "nbconvert_exporter": "python",
   "pygments_lexer": "ipython3",
   "version": "3.13.5"
  }
 },
 "nbformat": 4,
 "nbformat_minor": 5
}
