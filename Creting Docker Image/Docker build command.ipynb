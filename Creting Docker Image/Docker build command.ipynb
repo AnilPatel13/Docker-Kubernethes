{
 "cells": [
  {
   "cell_type": "code",
   "id": "initial_id",
   "metadata": {
    "collapsed": true,
    "ExecuteTime": {
     "end_time": "2025-08-09T22:09:46.276009Z",
     "start_time": "2025-08-09T22:09:38.195907Z"
    }
   },
   "source": "!docker build -t welcome-app .",
   "outputs": [
    {
     "name": "stderr",
     "output_type": "stream",
     "text": [
      "#0 building with \"desktop-linux\" instance using docker driver\n",
      "\n",
      "#1 [internal] load build definition from Dockerfile\n",
      "#1 transferring dockerfile: 142B done\n",
      "#1 DONE 0.0s\n",
      "\n",
      "#2 [internal] load metadata for docker.io/library/python:3.8-alpine\n",
      "#2 ...\n",
      "\n",
      "#3 [auth] library/python:pull token for registry-1.docker.io\n",
      "#3 DONE 0.0s\n",
      "\n",
      "#2 [internal] load metadata for docker.io/library/python:3.8-alpine\n",
      "#2 DONE 1.1s\n",
      "\n",
      "#4 [internal] load .dockerignore\n",
      "#4 transferring context: 2B done\n",
      "#4 DONE 0.0s\n",
      "\n",
      "#5 [1/4] FROM docker.io/library/python:3.8-alpine@sha256:3d93b1f77efce339aa77db726656872517b0d67837989aa7c4b35bd5ae7e81ba\n",
      "#5 resolve docker.io/library/python:3.8-alpine@sha256:3d93b1f77efce339aa77db726656872517b0d67837989aa7c4b35bd5ae7e81ba 0.0s done\n",
      "#5 ...\n",
      "\n",
      "#6 [internal] load build context\n",
      "#6 transferring context: 1.13kB done\n",
      "#6 DONE 0.1s\n",
      "\n",
      "#5 [1/4] FROM docker.io/library/python:3.8-alpine@sha256:3d93b1f77efce339aa77db726656872517b0d67837989aa7c4b35bd5ae7e81ba\n",
      "#5 sha256:43c4264eed91be63b206e17d93e75256a6097070ce643c5e8f0379998b44f170 0B / 3.62MB 0.2s\n",
      "#5 sha256:86e037ebf8b67184256b8126401150c6d34e6d9977b5f320cb4a52e91e31fc41 247B / 247B 0.3s done\n",
      "#5 sha256:2fe9ed713579c200eb3576e25f4604247c6b5d36482a5bb477de3c8339274f0f 0B / 14.22MB 0.2s\n",
      "#5 sha256:bbd039b2f2dc0cbe5a1fb925d1006dc58892cd76b385af7243c1d668d7ce2491 0B / 455.12kB 0.2s\n",
      "#5 sha256:43c4264eed91be63b206e17d93e75256a6097070ce643c5e8f0379998b44f170 1.05MB / 3.62MB 0.5s\n",
      "#5 sha256:43c4264eed91be63b206e17d93e75256a6097070ce643c5e8f0379998b44f170 2.10MB / 3.62MB 0.6s\n",
      "#5 sha256:43c4264eed91be63b206e17d93e75256a6097070ce643c5e8f0379998b44f170 3.62MB / 3.62MB 0.8s done\n",
      "#5 extracting sha256:43c4264eed91be63b206e17d93e75256a6097070ce643c5e8f0379998b44f170 0.1s done\n",
      "#5 sha256:bbd039b2f2dc0cbe5a1fb925d1006dc58892cd76b385af7243c1d668d7ce2491 455.12kB / 455.12kB 0.9s done\n",
      "#5 extracting sha256:bbd039b2f2dc0cbe5a1fb925d1006dc58892cd76b385af7243c1d668d7ce2491 0.1s done\n",
      "#5 sha256:2fe9ed713579c200eb3576e25f4604247c6b5d36482a5bb477de3c8339274f0f 1.05MB / 14.22MB 1.2s\n",
      "#5 sha256:2fe9ed713579c200eb3576e25f4604247c6b5d36482a5bb477de3c8339274f0f 2.10MB / 14.22MB 1.4s\n",
      "#5 sha256:2fe9ed713579c200eb3576e25f4604247c6b5d36482a5bb477de3c8339274f0f 3.15MB / 14.22MB 1.5s\n",
      "#5 sha256:2fe9ed713579c200eb3576e25f4604247c6b5d36482a5bb477de3c8339274f0f 4.19MB / 14.22MB 1.7s\n",
      "#5 sha256:2fe9ed713579c200eb3576e25f4604247c6b5d36482a5bb477de3c8339274f0f 6.29MB / 14.22MB 1.8s\n",
      "#5 sha256:2fe9ed713579c200eb3576e25f4604247c6b5d36482a5bb477de3c8339274f0f 7.34MB / 14.22MB 2.0s\n",
      "#5 sha256:2fe9ed713579c200eb3576e25f4604247c6b5d36482a5bb477de3c8339274f0f 9.44MB / 14.22MB 2.1s\n",
      "#5 sha256:2fe9ed713579c200eb3576e25f4604247c6b5d36482a5bb477de3c8339274f0f 10.49MB / 14.22MB 2.3s\n",
      "#5 sha256:2fe9ed713579c200eb3576e25f4604247c6b5d36482a5bb477de3c8339274f0f 12.58MB / 14.22MB 2.4s\n",
      "#5 sha256:2fe9ed713579c200eb3576e25f4604247c6b5d36482a5bb477de3c8339274f0f 14.22MB / 14.22MB 2.7s done\n",
      "#5 extracting sha256:2fe9ed713579c200eb3576e25f4604247c6b5d36482a5bb477de3c8339274f0f\n",
      "#5 extracting sha256:2fe9ed713579c200eb3576e25f4604247c6b5d36482a5bb477de3c8339274f0f 0.2s done\n",
      "#5 DONE 3.1s\n",
      "\n",
      "#5 [1/4] FROM docker.io/library/python:3.8-alpine@sha256:3d93b1f77efce339aa77db726656872517b0d67837989aa7c4b35bd5ae7e81ba\n",
      "#5 extracting sha256:86e037ebf8b67184256b8126401150c6d34e6d9977b5f320cb4a52e91e31fc41 0.0s done\n",
      "#5 DONE 3.1s\n",
      "\n",
      "#7 [2/4] COPY . /app\n",
      "#7 DONE 0.1s\n",
      "\n",
      "#8 [3/4] WORKDIR /app\n",
      "#8 DONE 0.0s\n",
      "\n",
      "#9 [4/4] RUN pip install -r requirements.txt\n",
      "#9 0.377 Collecting flask\n",
      "#9 0.492   Downloading flask-3.0.3-py3-none-any.whl (101 kB)\n",
      "#9 0.551      ━━━━━━━━━━━━━━━━━━━━━━━━━━━━━━━━━━━━━━━ 101.7/101.7 kB 1.6 MB/s eta 0:00:00\n",
      "#9 0.665 Collecting Werkzeug>=3.0.0\n",
      "#9 0.691   Downloading werkzeug-3.0.6-py3-none-any.whl (227 kB)\n",
      "#9 0.743      ━━━━━━━━━━━━━━━━━━━━━━━━━━━━━━━━━━━━━━━ 228.0/228.0 kB 4.3 MB/s eta 0:00:00\n",
      "#9 0.810 Collecting importlib-metadata>=3.6.0\n",
      "#9 0.831   Downloading importlib_metadata-8.5.0-py3-none-any.whl (26 kB)\n",
      "#9 0.899 Collecting click>=8.1.3\n",
      "#9 0.924   Downloading click-8.1.8-py3-none-any.whl (98 kB)\n",
      "#9 0.948      ━━━━━━━━━━━━━━━━━━━━━━━━━━━━━━━━━━━━━━━━ 98.2/98.2 kB 3.8 MB/s eta 0:00:00\n",
      "#9 0.977 Collecting itsdangerous>=2.1.2\n",
      "#9 0.998   Downloading itsdangerous-2.2.0-py3-none-any.whl (16 kB)\n",
      "#9 1.044 Collecting blinker>=1.6.2\n",
      "#9 1.068   Downloading blinker-1.8.2-py3-none-any.whl (9.5 kB)\n",
      "#9 1.137 Collecting Jinja2>=3.1.2\n",
      "#9 1.158   Downloading jinja2-3.1.6-py3-none-any.whl (134 kB)\n",
      "#9 1.186      ━━━━━━━━━━━━━━━━━━━━━━━━━━━━━━━━━━━━━━━ 134.9/134.9 kB 4.9 MB/s eta 0:00:00\n",
      "#9 1.235 Collecting zipp>=3.20\n",
      "#9 1.257   Downloading zipp-3.20.2-py3-none-any.whl (9.2 kB)\n",
      "#9 1.345 Collecting MarkupSafe>=2.0\n",
      "#9 1.366   Downloading MarkupSafe-2.1.5-cp38-cp38-musllinux_1_1_x86_64.whl (29 kB)\n",
      "#9 1.433 Installing collected packages: zipp, MarkupSafe, itsdangerous, click, blinker, Werkzeug, Jinja2, importlib-metadata, flask\n",
      "#9 1.691 Successfully installed Jinja2-3.1.6 MarkupSafe-2.1.5 Werkzeug-3.0.6 blinker-1.8.2 click-8.1.8 flask-3.0.3 importlib-metadata-8.5.0 itsdangerous-2.2.0 zipp-3.20.2\n",
      "#9 1.691 WARNING: Running pip as the 'root' user can result in broken permissions and conflicting behaviour with the system package manager. It is recommended to use a virtual environment instead: https://pip.pypa.io/warnings/venv\n",
      "#9 1.812 \n",
      "#9 1.812 [notice] A new release of pip is available: 23.0.1 -> 25.0.1\n",
      "#9 1.812 [notice] To update, run: pip install --upgrade pip\n",
      "#9 DONE 1.9s\n",
      "\n",
      "#10 exporting to image\n",
      "#10 exporting layers\n",
      "#10 exporting layers 0.5s done\n",
      "#10 exporting manifest sha256:615084e4a043aa2ed2f1c815b0d981e3f423ef4fd090292accb64786d69d0f0f 0.0s done\n",
      "#10 exporting config sha256:be54c34447063379114967636afcd575cfef8dba854d772c4c9092c7973c7390 0.0s done\n",
      "#10 exporting attestation manifest sha256:979551edc658703918aaa99eb83d1a889903a6fde9109e6385e05bbb985466e0 0.0s done\n",
      "#10 exporting manifest list sha256:f9999cf49183499df10d612a584a75e027608c1b7fa9c29f813fd039d810f7f7 0.0s done\n",
      "#10 naming to docker.io/library/welcome-app:latest done\n",
      "#10 unpacking to docker.io/library/welcome-app:latest 0.1s done\n",
      "#10 DONE 0.7s\n",
      "\n",
      " \u001B[33m1 warning found (use docker --debug to expand):\n",
      "\u001B[0m - JSONArgsRecommended: JSON arguments recommended for CMD to prevent unintended behavior related to OS signals (line 5)\n",
      "\n",
      "View build details: docker-desktop://dashboard/build/desktop-linux/desktop-linux/hd1kdo2v37sfj46y9isfrk042\n"
     ]
    }
   ],
   "execution_count": 1
  },
  {
   "metadata": {
    "ExecuteTime": {
     "end_time": "2025-08-09T22:12:13.346781Z",
     "start_time": "2025-08-09T22:12:13.050089Z"
    }
   },
   "cell_type": "code",
   "source": "!docker run -d -p 5000:5000 welcome-app",
   "id": "a093b5a32bc3a42d",
   "outputs": [
    {
     "name": "stdout",
     "output_type": "stream",
     "text": [
      "cfa7d427caa24cb190fda37d1e4311e5f44a49e4a08c6da5375a4c6849208be6\n"
     ]
    }
   ],
   "execution_count": 3
  },
  {
   "metadata": {
    "ExecuteTime": {
     "end_time": "2025-08-09T22:12:22.765830Z",
     "start_time": "2025-08-09T22:12:22.706067Z"
    }
   },
   "cell_type": "code",
   "source": "!docker ps -a",
   "id": "3ff20ec1595d0357",
   "outputs": [
    {
     "name": "stdout",
     "output_type": "stream",
     "text": [
      "CONTAINER ID   IMAGE         COMMAND                  CREATED          STATUS         PORTS                                         NAMES\n",
      "cfa7d427caa2   welcome-app   \"/bin/sh -c 'python …\"   10 seconds ago   Up 9 seconds   0.0.0.0:5000->5000/tcp, [::]:5000->5000/tcp   wizardly_franklin\n"
     ]
    }
   ],
   "execution_count": 4
  },
  {
   "metadata": {
    "ExecuteTime": {
     "end_time": "2025-08-09T22:13:19.963665Z",
     "start_time": "2025-08-09T22:13:19.676669Z"
    }
   },
   "cell_type": "code",
   "source": "!docker stop cfa7d427caa2",
   "id": "c474b05f3420f3c1",
   "outputs": [
    {
     "name": "stdout",
     "output_type": "stream",
     "text": [
      "cfa7d427caa2\n"
     ]
    }
   ],
   "execution_count": 5
  },
  {
   "metadata": {
    "ExecuteTime": {
     "end_time": "2025-08-09T22:13:29.913047Z",
     "start_time": "2025-08-09T22:13:29.843856Z"
    }
   },
   "cell_type": "code",
   "source": "!docker images",
   "id": "46a8ea41e4d40a72",
   "outputs": [
    {
     "name": "stdout",
     "output_type": "stream",
     "text": [
      "REPOSITORY    TAG       IMAGE ID       CREATED         SIZE\n",
      "welcome-app   latest    f9999cf49183   3 minutes ago   92.9MB\n"
     ]
    }
   ],
   "execution_count": 6
  },
  {
   "metadata": {
    "ExecuteTime": {
     "end_time": "2025-08-09T22:14:16.728692Z",
     "start_time": "2025-08-09T22:14:15.514963Z"
    }
   },
   "cell_type": "code",
   "source": "!docker login",
   "id": "1e257262a04c37f6",
   "outputs": [
    {
     "name": "stdout",
     "output_type": "stream",
     "text": [
      "Login Succeeded\n"
     ]
    },
    {
     "name": "stderr",
     "output_type": "stream",
     "text": [
      "Authenticating with existing credentials... [Username: anil1318]\n",
      "\n",
      " Info -> To login with a different account, run 'docker logout' followed by 'docker login'\n",
      "\n",
      "\n"
     ]
    }
   ],
   "execution_count": 7
  },
  {
   "metadata": {
    "ExecuteTime": {
     "end_time": "2025-08-09T22:15:07.599753Z",
     "start_time": "2025-08-09T22:15:07.549139Z"
    }
   },
   "cell_type": "code",
   "source": "!docker images",
   "id": "27e54206d025404a",
   "outputs": [
    {
     "name": "stdout",
     "output_type": "stream",
     "text": [
      "REPOSITORY   TAG       IMAGE ID   CREATED   SIZE\n"
     ]
    }
   ],
   "execution_count": 9
  },
  {
   "metadata": {
    "ExecuteTime": {
     "end_time": "2025-08-09T22:16:11.017492Z",
     "start_time": "2025-08-09T22:16:06.204369Z"
    }
   },
   "cell_type": "code",
   "source": "!docker build -t anil1318/welcome-app .",
   "id": "a7d1bef775364e20",
   "outputs": [
    {
     "name": "stderr",
     "output_type": "stream",
     "text": [
      "#0 building with \"desktop-linux\" instance using docker driver\n",
      "\n",
      "#1 [internal] load build definition from Dockerfile\n",
      "#1 transferring dockerfile: 142B done\n",
      "#1 DONE 0.0s\n",
      "\n",
      "#2 [auth] library/python:pull token for registry-1.docker.io\n",
      "#2 DONE 0.0s\n",
      "\n",
      "#3 [internal] load metadata for docker.io/library/python:3.8-alpine\n",
      "#3 DONE 0.4s\n",
      "\n",
      "#4 [internal] load .dockerignore\n",
      "#4 transferring context: 2B done\n",
      "#4 DONE 0.0s\n",
      "\n",
      "#5 [internal] load build context\n",
      "#5 transferring context: 12.20kB done\n",
      "#5 DONE 0.0s\n",
      "\n",
      "#6 [1/4] FROM docker.io/library/python:3.8-alpine@sha256:3d93b1f77efce339aa77db726656872517b0d67837989aa7c4b35bd5ae7e81ba\n",
      "#6 resolve docker.io/library/python:3.8-alpine@sha256:3d93b1f77efce339aa77db726656872517b0d67837989aa7c4b35bd5ae7e81ba 0.0s done\n",
      "#6 CACHED\n",
      "\n",
      "#7 [2/4] COPY . /app\n",
      "#7 DONE 0.0s\n",
      "\n",
      "#8 [3/4] WORKDIR /app\n",
      "#8 DONE 0.0s\n",
      "\n",
      "#9 [4/4] RUN pip install -r requirements.txt\n",
      "#9 1.422 Collecting flask\n",
      "#9 1.582   Downloading flask-3.0.3-py3-none-any.whl (101 kB)\n",
      "#9 1.648      ━━━━━━━━━━━━━━━━━━━━━━━━━━━━━━━━━━━━━━━ 101.7/101.7 kB 2.0 MB/s eta 0:00:00\n",
      "#9 1.708 Collecting click>=8.1.3\n",
      "#9 1.728   Downloading click-8.1.8-py3-none-any.whl (98 kB)\n",
      "#9 1.748      ━━━━━━━━━━━━━━━━━━━━━━━━━━━━━━━━━━━━━━━━ 98.2/98.2 kB 4.9 MB/s eta 0:00:00\n",
      "#9 1.792 Collecting blinker>=1.6.2\n",
      "#9 1.815   Downloading blinker-1.8.2-py3-none-any.whl (9.5 kB)\n",
      "#9 1.863 Collecting itsdangerous>=2.1.2\n",
      "#9 1.890   Downloading itsdangerous-2.2.0-py3-none-any.whl (16 kB)\n",
      "#9 1.939 Collecting Jinja2>=3.1.2\n",
      "#9 1.960   Downloading jinja2-3.1.6-py3-none-any.whl (134 kB)\n",
      "#9 1.984      ━━━━━━━━━━━━━━━━━━━━━━━━━━━━━━━━━━━━━━━ 134.9/134.9 kB 5.8 MB/s eta 0:00:00\n",
      "#9 2.050 Collecting Werkzeug>=3.0.0\n",
      "#9 2.074   Downloading werkzeug-3.0.6-py3-none-any.whl (227 kB)\n",
      "#9 2.104      ━━━━━━━━━━━━━━━━━━━━━━━━━━━━━━━━━━━━━━━ 228.0/228.0 kB 7.8 MB/s eta 0:00:00\n",
      "#9 2.198 Collecting importlib-metadata>=3.6.0\n",
      "#9 2.218   Downloading importlib_metadata-8.5.0-py3-none-any.whl (26 kB)\n",
      "#9 2.305 Collecting zipp>=3.20\n",
      "#9 2.328   Downloading zipp-3.20.2-py3-none-any.whl (9.2 kB)\n",
      "#9 2.484 Collecting MarkupSafe>=2.0\n",
      "#9 2.507   Downloading MarkupSafe-2.1.5-cp38-cp38-musllinux_1_1_x86_64.whl (29 kB)\n",
      "#9 2.574 Installing collected packages: zipp, MarkupSafe, itsdangerous, click, blinker, Werkzeug, Jinja2, importlib-metadata, flask\n",
      "#9 2.853 Successfully installed Jinja2-3.1.6 MarkupSafe-2.1.5 Werkzeug-3.0.6 blinker-1.8.2 click-8.1.8 flask-3.0.3 importlib-metadata-8.5.0 itsdangerous-2.2.0 zipp-3.20.2\n",
      "#9 2.853 WARNING: Running pip as the 'root' user can result in broken permissions and conflicting behaviour with the system package manager. It is recommended to use a virtual environment instead: https://pip.pypa.io/warnings/venv\n",
      "#9 3.006 \n",
      "#9 3.006 [notice] A new release of pip is available: 23.0.1 -> 25.0.1\n",
      "#9 3.006 [notice] To update, run: pip install --upgrade pip\n",
      "#9 DONE 3.1s\n",
      "\n",
      "#10 exporting to image\n",
      "#10 exporting layers\n",
      "#10 exporting layers 0.5s done\n",
      "#10 exporting manifest sha256:7f832ff31326aaf4072e8103a35804362d4b7995caedc92b47ae97e0326ad253 0.0s done\n",
      "#10 exporting config sha256:4328d76323f660cab11fd09eb5b453feac942109934eea453fb2755928277655 0.0s done\n",
      "#10 exporting attestation manifest sha256:49646b165caf89e72f2a0d6b49f910614e0efeda9a7732c953c1f5c91f870659 0.0s done\n",
      "#10 exporting manifest list sha256:63f6c914681726e41cb9bc5604211ebd50b8d3b5bdf3d85baa1ef0616dccbae0 0.0s done\n",
      "#10 naming to docker.io/anil1318/welcome-app:latest done\n",
      "#10 unpacking to docker.io/anil1318/welcome-app:latest 0.1s done\n",
      "#10 DONE 0.7s\n",
      "\n",
      " \u001B[33m1 warning found (use docker --debug to expand):\n",
      "\u001B[0m - JSONArgsRecommended: JSON arguments recommended for CMD to prevent unintended behavior related to OS signals (line 5)\n",
      "\n",
      "View build details: docker-desktop://dashboard/build/desktop-linux/desktop-linux/y14sux98aq665ej0x7z47z75g\n"
     ]
    }
   ],
   "execution_count": 10
  },
  {
   "metadata": {
    "ExecuteTime": {
     "end_time": "2025-08-09T22:16:21.459237Z",
     "start_time": "2025-08-09T22:16:21.380397Z"
    }
   },
   "cell_type": "code",
   "source": "!docker images",
   "id": "d19f34d3977297a2",
   "outputs": [
    {
     "name": "stdout",
     "output_type": "stream",
     "text": [
      "REPOSITORY             TAG       IMAGE ID       CREATED          SIZE\n",
      "anil1318/welcome-app   latest    63f6c9146817   12 seconds ago   92.9MB\n"
     ]
    }
   ],
   "execution_count": 11
  },
  {
   "metadata": {
    "ExecuteTime": {
     "end_time": "2025-08-09T22:16:53.915545Z",
     "start_time": "2025-08-09T22:16:53.845740Z"
    }
   },
   "cell_type": "code",
   "source": "!docker tag anil1318/welcome-app anil1318/welcome-app1",
   "id": "719b3eb593321dea",
   "outputs": [],
   "execution_count": 12
  },
  {
   "metadata": {
    "ExecuteTime": {
     "end_time": "2025-08-09T22:17:45.285267Z",
     "start_time": "2025-08-09T22:17:37.371197Z"
    }
   },
   "cell_type": "code",
   "source": "!docker push anil1318/welcome-app:latest",
   "id": "d951f23556474622",
   "outputs": [
    {
     "name": "stdout",
     "output_type": "stream",
     "text": [
      "The push refers to repository [docker.io/anil1318/welcome-app]\n",
      "ff4dc4e6d13f: Waiting\n",
      "bbd039b2f2dc: Waiting\n",
      "86e037ebf8b6: Waiting\n",
      "2fe9ed713579: Waiting\n",
      "c622a5ca5072: Waiting\n",
      "43c4264eed91: Waiting\n",
      "4f4fb700ef54: Waiting\n",
      "d22a6faffa2e: Waiting\n",
      "86e037ebf8b6: Waiting\n",
      "2fe9ed713579: Waiting\n",
      "c622a5ca5072: Waiting\n",
      "43c4264eed91: Waiting\n",
      "4f4fb700ef54: Waiting\n",
      "d22a6faffa2e: Waiting\n",
      "ff4dc4e6d13f: Waiting\n",
      "bbd039b2f2dc: Waiting\n",
      "4f4fb700ef54: Waiting\n",
      "d22a6faffa2e: Waiting\n",
      "ff4dc4e6d13f: Waiting\n",
      "bbd039b2f2dc: Waiting\n",
      "86e037ebf8b6: Waiting\n",
      "2fe9ed713579: Waiting\n",
      "c622a5ca5072: Waiting\n",
      "43c4264eed91: Waiting\n",
      "43c4264eed91: Waiting\n",
      "4f4fb700ef54: Waiting\n",
      "d22a6faffa2e: Waiting\n",
      "ff4dc4e6d13f: Waiting\n",
      "bbd039b2f2dc: Waiting\n",
      "86e037ebf8b6: Waiting\n",
      "2fe9ed713579: Waiting\n",
      "c622a5ca5072: Waiting\n",
      "43c4264eed91: Waiting\n",
      "4f4fb700ef54: Waiting\n",
      "d22a6faffa2e: Waiting\n",
      "ff4dc4e6d13f: Waiting\n",
      "bbd039b2f2dc: Waiting\n",
      "86e037ebf8b6: Waiting\n",
      "2fe9ed713579: Waiting\n",
      "c622a5ca5072: Waiting\n",
      "c622a5ca5072: Waiting\n",
      "43c4264eed91: Waiting\n",
      "4f4fb700ef54: Waiting\n",
      "ff4dc4e6d13f: Waiting\n",
      "bbd039b2f2dc: Waiting\n",
      "86e037ebf8b6: Waiting\n",
      "2fe9ed713579: Waiting\n",
      "4f4fb700ef54: Pushed\n",
      "d22a6faffa2e: Pushed\n",
      "86e037ebf8b6: Pushed\n",
      "c622a5ca5072: Pushed\n",
      "bbd039b2f2dc: Pushed\n",
      "ff4dc4e6d13f: Pushed\n",
      "43c4264eed91: Pushed\n",
      "2fe9ed713579: Pushed\n",
      "latest: digest: sha256:63f6c914681726e41cb9bc5604211ebd50b8d3b5bdf3d85baa1ef0616dccbae0 size: 856\n"
     ]
    }
   ],
   "execution_count": 13
  },
  {
   "metadata": {
    "ExecuteTime": {
     "end_time": "2025-08-09T22:19:17.923830Z",
     "start_time": "2025-08-09T22:19:17.833372Z"
    }
   },
   "cell_type": "code",
   "source": "!docker image rm -f anil1318/welcome-app",
   "id": "6547c4f1ef128dde",
   "outputs": [
    {
     "name": "stdout",
     "output_type": "stream",
     "text": [
      "Untagged: anil1318/welcome-app:latest\n",
      "Deleted: sha256:63f6c914681726e41cb9bc5604211ebd50b8d3b5bdf3d85baa1ef0616dccbae0\n"
     ]
    }
   ],
   "execution_count": 14
  },
  {
   "metadata": {
    "ExecuteTime": {
     "end_time": "2025-08-09T22:19:41.497403Z",
     "start_time": "2025-08-09T22:19:40.755217Z"
    }
   },
   "cell_type": "code",
   "source": "!docker pull anil1318/welcome-app",
   "id": "4e9348dd8b96b15b",
   "outputs": [
    {
     "name": "stdout",
     "output_type": "stream",
     "text": [
      "Using default tag: latest\n",
      "latest: Pulling from anil1318/welcome-app\n",
      "c622a5ca5072: Pulling fs layer\n",
      "ff4dc4e6d13f: Pulling fs layer\n",
      "4f4fb700ef54: Pulling fs layer\n",
      "ff4dc4e6d13f: Already exists\n",
      "c622a5ca5072: Already exists\n",
      "4f4fb700ef54: Already exists\n",
      "c622a5ca5072: Pull complete\n",
      "4f4fb700ef54: Pull complete\n",
      "ff4dc4e6d13f: Pull complete\n",
      "Digest: sha256:63f6c914681726e41cb9bc5604211ebd50b8d3b5bdf3d85baa1ef0616dccbae0\n",
      "Status: Downloaded newer image for anil1318/welcome-app:latest\n",
      "docker.io/anil1318/welcome-app:latest\n"
     ]
    }
   ],
   "execution_count": 15
  },
  {
   "metadata": {
    "ExecuteTime": {
     "end_time": "2025-08-09T22:20:12.911664Z",
     "start_time": "2025-08-09T22:20:12.574372Z"
    }
   },
   "cell_type": "code",
   "source": "!docker run -d -p 5000:5000 anil1318/welcome-app",
   "id": "7c7257b603362b6c",
   "outputs": [
    {
     "name": "stdout",
     "output_type": "stream",
     "text": [
      "bd720b25ea28217253f912a56928b5edc4453290a05c60449e599ce11db7ecab\n"
     ]
    }
   ],
   "execution_count": 16
  },
  {
   "metadata": {},
   "cell_type": "code",
   "outputs": [],
   "execution_count": null,
   "source": "",
   "id": "4d56efd181e6d199"
  }
 ],
 "metadata": {
  "kernelspec": {
   "display_name": "Python 3",
   "language": "python",
   "name": "python3"
  },
  "language_info": {
   "codemirror_mode": {
    "name": "ipython",
    "version": 2
   },
   "file_extension": ".py",
   "mimetype": "text/x-python",
   "name": "python",
   "nbconvert_exporter": "python",
   "pygments_lexer": "ipython2",
   "version": "2.7.6"
  }
 },
 "nbformat": 4,
 "nbformat_minor": 5
}
